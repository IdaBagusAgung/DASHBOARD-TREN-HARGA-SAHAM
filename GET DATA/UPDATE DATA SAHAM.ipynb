{
 "cells": [
  {
   "cell_type": "markdown",
   "metadata": {},
   "source": [
    "# DAILY DATA"
   ]
  },
  {
   "cell_type": "code",
   "execution_count": 1,
   "metadata": {},
   "outputs": [
    {
     "name": "stdout",
     "output_type": "stream",
     "text": [
      "YF.download() has changed argument auto_adjust default to True\n"
     ]
    },
    {
     "name": "stderr",
     "output_type": "stream",
     "text": [
      "[*********************100%***********************]  1 of 1 completed\n",
      "[*********************100%***********************]  1 of 1 completed\n",
      "[*********************100%***********************]  1 of 1 completed\n",
      "[*********************100%***********************]  1 of 1 completed\n",
      "[*********************100%***********************]  1 of 1 completed\n",
      "[*********************100%***********************]  1 of 1 completed\n",
      "[*********************100%***********************]  1 of 1 completed\n",
      "[*********************100%***********************]  1 of 1 completed\n",
      "[*********************100%***********************]  1 of 1 completed\n",
      "[*********************100%***********************]  1 of 1 completed\n",
      "[*********************100%***********************]  1 of 1 completed\n",
      "[*********************100%***********************]  1 of 1 completed\n",
      "[*********************100%***********************]  1 of 1 completed\n",
      "[*********************100%***********************]  1 of 1 completed\n",
      "[*********************100%***********************]  1 of 1 completed\n",
      "[*********************100%***********************]  1 of 1 completed\n",
      "[*********************100%***********************]  1 of 1 completed\n",
      "[*********************100%***********************]  1 of 1 completed\n",
      "[*********************100%***********************]  1 of 1 completed\n",
      "[*********************100%***********************]  1 of 1 completed\n",
      "[*********************100%***********************]  1 of 1 completed\n",
      "[*********************100%***********************]  1 of 1 completed\n",
      "[*********************100%***********************]  1 of 1 completed\n",
      "[*********************100%***********************]  1 of 1 completed\n",
      "[*********************100%***********************]  1 of 1 completed\n",
      "[*********************100%***********************]  1 of 1 completed\n",
      "[*********************100%***********************]  1 of 1 completed\n",
      "[*********************100%***********************]  1 of 1 completed\n",
      "[*********************100%***********************]  1 of 1 completed\n",
      "[*********************100%***********************]  1 of 1 completed\n",
      "[*********************100%***********************]  1 of 1 completed\n",
      "[*********************100%***********************]  1 of 1 completed\n",
      "[*********************100%***********************]  1 of 1 completed\n",
      "[*********************100%***********************]  1 of 1 completed\n",
      "[*********************100%***********************]  1 of 1 completed\n",
      "[*********************100%***********************]  1 of 1 completed\n",
      "[*********************100%***********************]  1 of 1 completed\n",
      "[*********************100%***********************]  1 of 1 completed\n",
      "[*********************100%***********************]  1 of 1 completed\n",
      "[*********************100%***********************]  1 of 1 completed\n",
      "[*********************100%***********************]  1 of 1 completed\n",
      "[*********************100%***********************]  1 of 1 completed\n",
      "[*********************100%***********************]  1 of 1 completed\n",
      "[*********************100%***********************]  1 of 1 completed\n",
      "[*********************100%***********************]  1 of 1 completed\n",
      "[*********************100%***********************]  1 of 1 completed\n",
      "[*********************100%***********************]  1 of 1 completed\n",
      "[*********************100%***********************]  1 of 1 completed\n",
      "[*********************100%***********************]  1 of 1 completed\n"
     ]
    },
    {
     "ename": "TypeError",
     "evalue": "keys must be str, int, float, bool or None, not tuple",
     "output_type": "error",
     "traceback": [
      "\u001b[1;31m---------------------------------------------------------------------------\u001b[0m",
      "\u001b[1;31mTypeError\u001b[0m                                 Traceback (most recent call last)",
      "Cell \u001b[1;32mIn[1], line 61\u001b[0m\n\u001b[0;32m     59\u001b[0m     \u001b[38;5;28mprint\u001b[39m(\u001b[38;5;124mf\u001b[39m\u001b[38;5;124m\"\u001b[39m\u001b[38;5;124mData for \u001b[39m\u001b[38;5;132;01m{\u001b[39;00mticker\u001b[38;5;132;01m}\u001b[39;00m\u001b[38;5;124m has been successfully updated in MySQL with combined data.\u001b[39m\u001b[38;5;124m\"\u001b[39m)\n\u001b[0;32m     60\u001b[0m \u001b[38;5;28;01melse\u001b[39;00m:\n\u001b[1;32m---> 61\u001b[0m     data_json_new \u001b[38;5;241m=\u001b[39m \u001b[43mjson\u001b[49m\u001b[38;5;241;43m.\u001b[39;49m\u001b[43mdumps\u001b[49m\u001b[43m(\u001b[49m\u001b[43mdata_saham_max_feb_new\u001b[49m\u001b[43m,\u001b[49m\u001b[43m \u001b[49m\u001b[43mdefault\u001b[49m\u001b[38;5;241;43m=\u001b[39;49m\u001b[38;5;28;43mstr\u001b[39;49m\u001b[43m)\u001b[49m\n\u001b[0;32m     62\u001b[0m     insert_sql \u001b[38;5;241m=\u001b[39m \u001b[38;5;124m\"\u001b[39m\u001b[38;5;124mINSERT INTO data_saham_max_feb (Ticker, Data) VALUES (\u001b[39m\u001b[38;5;132;01m%s\u001b[39;00m\u001b[38;5;124m, \u001b[39m\u001b[38;5;132;01m%s\u001b[39;00m\u001b[38;5;124m)\u001b[39m\u001b[38;5;124m\"\u001b[39m\n\u001b[0;32m     63\u001b[0m     cursor\u001b[38;5;241m.\u001b[39mexecute(insert_sql, (ticker, data_json_new))\n",
      "File \u001b[1;32mc:\\Users\\proda\\AppData\\Local\\Programs\\Python\\Python310\\lib\\json\\__init__.py:238\u001b[0m, in \u001b[0;36mdumps\u001b[1;34m(obj, skipkeys, ensure_ascii, check_circular, allow_nan, cls, indent, separators, default, sort_keys, **kw)\u001b[0m\n\u001b[0;32m    232\u001b[0m \u001b[38;5;28;01mif\u001b[39;00m \u001b[38;5;28mcls\u001b[39m \u001b[38;5;129;01mis\u001b[39;00m \u001b[38;5;28;01mNone\u001b[39;00m:\n\u001b[0;32m    233\u001b[0m     \u001b[38;5;28mcls\u001b[39m \u001b[38;5;241m=\u001b[39m JSONEncoder\n\u001b[0;32m    234\u001b[0m \u001b[38;5;28;01mreturn\u001b[39;00m \u001b[38;5;28;43mcls\u001b[39;49m\u001b[43m(\u001b[49m\n\u001b[0;32m    235\u001b[0m \u001b[43m    \u001b[49m\u001b[43mskipkeys\u001b[49m\u001b[38;5;241;43m=\u001b[39;49m\u001b[43mskipkeys\u001b[49m\u001b[43m,\u001b[49m\u001b[43m \u001b[49m\u001b[43mensure_ascii\u001b[49m\u001b[38;5;241;43m=\u001b[39;49m\u001b[43mensure_ascii\u001b[49m\u001b[43m,\u001b[49m\n\u001b[0;32m    236\u001b[0m \u001b[43m    \u001b[49m\u001b[43mcheck_circular\u001b[49m\u001b[38;5;241;43m=\u001b[39;49m\u001b[43mcheck_circular\u001b[49m\u001b[43m,\u001b[49m\u001b[43m \u001b[49m\u001b[43mallow_nan\u001b[49m\u001b[38;5;241;43m=\u001b[39;49m\u001b[43mallow_nan\u001b[49m\u001b[43m,\u001b[49m\u001b[43m \u001b[49m\u001b[43mindent\u001b[49m\u001b[38;5;241;43m=\u001b[39;49m\u001b[43mindent\u001b[49m\u001b[43m,\u001b[49m\n\u001b[0;32m    237\u001b[0m \u001b[43m    \u001b[49m\u001b[43mseparators\u001b[49m\u001b[38;5;241;43m=\u001b[39;49m\u001b[43mseparators\u001b[49m\u001b[43m,\u001b[49m\u001b[43m \u001b[49m\u001b[43mdefault\u001b[49m\u001b[38;5;241;43m=\u001b[39;49m\u001b[43mdefault\u001b[49m\u001b[43m,\u001b[49m\u001b[43m \u001b[49m\u001b[43msort_keys\u001b[49m\u001b[38;5;241;43m=\u001b[39;49m\u001b[43msort_keys\u001b[49m\u001b[43m,\u001b[49m\n\u001b[1;32m--> 238\u001b[0m \u001b[43m    \u001b[49m\u001b[38;5;241;43m*\u001b[39;49m\u001b[38;5;241;43m*\u001b[39;49m\u001b[43mkw\u001b[49m\u001b[43m)\u001b[49m\u001b[38;5;241;43m.\u001b[39;49m\u001b[43mencode\u001b[49m\u001b[43m(\u001b[49m\u001b[43mobj\u001b[49m\u001b[43m)\u001b[49m\n",
      "File \u001b[1;32mc:\\Users\\proda\\AppData\\Local\\Programs\\Python\\Python310\\lib\\json\\encoder.py:199\u001b[0m, in \u001b[0;36mJSONEncoder.encode\u001b[1;34m(self, o)\u001b[0m\n\u001b[0;32m    195\u001b[0m         \u001b[38;5;28;01mreturn\u001b[39;00m encode_basestring(o)\n\u001b[0;32m    196\u001b[0m \u001b[38;5;66;03m# This doesn't pass the iterator directly to ''.join() because the\u001b[39;00m\n\u001b[0;32m    197\u001b[0m \u001b[38;5;66;03m# exceptions aren't as detailed.  The list call should be roughly\u001b[39;00m\n\u001b[0;32m    198\u001b[0m \u001b[38;5;66;03m# equivalent to the PySequence_Fast that ''.join() would do.\u001b[39;00m\n\u001b[1;32m--> 199\u001b[0m chunks \u001b[38;5;241m=\u001b[39m \u001b[38;5;28;43mself\u001b[39;49m\u001b[38;5;241;43m.\u001b[39;49m\u001b[43miterencode\u001b[49m\u001b[43m(\u001b[49m\u001b[43mo\u001b[49m\u001b[43m,\u001b[49m\u001b[43m \u001b[49m\u001b[43m_one_shot\u001b[49m\u001b[38;5;241;43m=\u001b[39;49m\u001b[38;5;28;43;01mTrue\u001b[39;49;00m\u001b[43m)\u001b[49m\n\u001b[0;32m    200\u001b[0m \u001b[38;5;28;01mif\u001b[39;00m \u001b[38;5;129;01mnot\u001b[39;00m \u001b[38;5;28misinstance\u001b[39m(chunks, (\u001b[38;5;28mlist\u001b[39m, \u001b[38;5;28mtuple\u001b[39m)):\n\u001b[0;32m    201\u001b[0m     chunks \u001b[38;5;241m=\u001b[39m \u001b[38;5;28mlist\u001b[39m(chunks)\n",
      "File \u001b[1;32mc:\\Users\\proda\\AppData\\Local\\Programs\\Python\\Python310\\lib\\json\\encoder.py:257\u001b[0m, in \u001b[0;36mJSONEncoder.iterencode\u001b[1;34m(self, o, _one_shot)\u001b[0m\n\u001b[0;32m    252\u001b[0m \u001b[38;5;28;01melse\u001b[39;00m:\n\u001b[0;32m    253\u001b[0m     _iterencode \u001b[38;5;241m=\u001b[39m _make_iterencode(\n\u001b[0;32m    254\u001b[0m         markers, \u001b[38;5;28mself\u001b[39m\u001b[38;5;241m.\u001b[39mdefault, _encoder, \u001b[38;5;28mself\u001b[39m\u001b[38;5;241m.\u001b[39mindent, floatstr,\n\u001b[0;32m    255\u001b[0m         \u001b[38;5;28mself\u001b[39m\u001b[38;5;241m.\u001b[39mkey_separator, \u001b[38;5;28mself\u001b[39m\u001b[38;5;241m.\u001b[39mitem_separator, \u001b[38;5;28mself\u001b[39m\u001b[38;5;241m.\u001b[39msort_keys,\n\u001b[0;32m    256\u001b[0m         \u001b[38;5;28mself\u001b[39m\u001b[38;5;241m.\u001b[39mskipkeys, _one_shot)\n\u001b[1;32m--> 257\u001b[0m \u001b[38;5;28;01mreturn\u001b[39;00m \u001b[43m_iterencode\u001b[49m\u001b[43m(\u001b[49m\u001b[43mo\u001b[49m\u001b[43m,\u001b[49m\u001b[43m \u001b[49m\u001b[38;5;241;43m0\u001b[39;49m\u001b[43m)\u001b[49m\n",
      "\u001b[1;31mTypeError\u001b[0m: keys must be str, int, float, bool or None, not tuple"
     ]
    }
   ],
   "source": [
    "import yfinance as yf\n",
    "import pandas as pd\n",
    "import pymysql\n",
    "import json\n",
    "\n",
    "connection = pymysql.connect(\n",
    "    host='localhost',\n",
    "    user='root',\n",
    "    password='',\n",
    "    database='harga_saham'\n",
    ")\n",
    "cursor = connection.cursor()\n",
    "\n",
    "create_table_sql = \"\"\"\n",
    "CREATE TABLE IF NOT EXISTS data_saham_max_feb (\n",
    "    id INT AUTO_INCREMENT PRIMARY KEY,\n",
    "    Ticker VARCHAR(10),\n",
    "    Data JSON\n",
    ")\n",
    "\"\"\"\n",
    "cursor.execute(create_table_sql)\n",
    "\n",
    "tickers = ['BBCA.JK', 'BMRI.JK', 'BBRI.JK', 'TLKM.JK', 'ASII.JK', 'UNVR.JK', 'ICBP.JK', \n",
    "           'PGAS.JK', 'GGRM.JK', 'INDF.JK', 'ADRO.JK', 'ANTM.JK', 'BRPT.JK', 'CPIN.JK', \n",
    "           'ERAA.JK', 'EXCL.JK', 'HMSP.JK', 'JPFA.JK', 'JSMR.JK', 'KLBF.JK', 'LPPF.JK', \n",
    "           'MEDC.JK', 'MNCN.JK', 'PTBA.JK', 'SCMA.JK', 'SIDO.JK', 'SMGR.JK', 'SRIL.JK', \n",
    "           'TKIM.JK', 'TOWR.JK', 'TPIA.JK', 'UNTR.JK', 'WIKA.JK', 'WSKT.JK', 'WTON.JK', \n",
    "           'ACES.JK', 'AKRA.JK', 'BTPS.JK', 'INDY.JK', 'ITMG.JK', 'KLBF.JK', 'MYOR.JK', \n",
    "           'PNBN.JK', 'PPRO.JK', 'SMRA.JK', 'SSIA.JK', 'TKIM.JK', 'TOTO.JK', 'WIKA.JK']\n",
    "\n",
    "data_saham = {}\n",
    "for ticker in tickers:\n",
    "    data_saham[ticker] = yf.download(ticker, period='max')\n",
    "\n",
    "for ticker in tickers:\n",
    "    data_saham[ticker].index = pd.to_datetime(data_saham[ticker].index)\n",
    "    df_new = data_saham[ticker].reset_index()\n",
    "    df_new['Ticker'] = ticker  \n",
    "\n",
    "    data_saham_max_feb_new = df_new[['Date', 'Open', 'High', 'Low', 'Close', 'Volume']].to_dict(orient='records')\n",
    "\n",
    "    check_sql = \"SELECT Data FROM data_saham_max_feb WHERE Ticker = %s\"\n",
    "    cursor.execute(check_sql, (ticker,))\n",
    "    result = cursor.fetchone()\n",
    "\n",
    "    if result:\n",
    "        data_existing = json.loads(result[0])\n",
    "\n",
    "        df_existing = pd.DataFrame(data_existing)\n",
    "\n",
    "        df_combined = pd.concat([df_existing, df_new]).drop_duplicates(subset=['Date']).reset_index(drop=True)\n",
    "\n",
    "        data_saham_max_feb_combined = df_combined[['Date', 'Open', 'High', 'Low', 'Close', 'Volume']].to_dict(orient='records')\n",
    "\n",
    "        data_json_combined = json.dumps(data_saham_max_feb_combined, default=str)\n",
    "\n",
    "        update_sql = \"UPDATE data_saham_max_feb SET Data = %s WHERE Ticker = %s\"\n",
    "        cursor.execute(update_sql, (data_json_combined, ticker))\n",
    "        print(f\"Data for {ticker} has been successfully updated in MySQL with combined data.\")\n",
    "    else:\n",
    "        data_json_new = json.dumps(data_saham_max_feb_new, default=str)\n",
    "        insert_sql = \"INSERT INTO data_saham_max_feb (Ticker, Data) VALUES (%s, %s)\"\n",
    "        cursor.execute(insert_sql, (ticker, data_json_new))\n",
    "        print(f\"Data for {ticker} has been successfully inserted into MySQL.\")\n",
    "\n",
    "    connection.commit()\n",
    "\n",
    "# Close the connection\n",
    "cursor.close()\n",
    "connection.close()\n"
   ]
  },
  {
   "cell_type": "markdown",
   "metadata": {},
   "source": [
    "## 1"
   ]
  },
  {
   "cell_type": "code",
   "execution_count": null,
   "metadata": {},
   "outputs": [],
   "source": [
    "import yfinance as yf  \n",
    "import pandas as pd  \n",
    "import pymysql  \n",
    "import json  \n",
    "\n",
    "# Konfigurasi koneksi database  \n",
    "connection = pymysql.connect(  \n",
    "    host='localhost',  \n",
    "    user='root',  \n",
    "    password='',  \n",
    "    database='harga_saham'  \n",
    ")  \n",
    "cursor = connection.cursor()  \n",
    "\n",
    "# Membuat tabel jika belum ada  \n",
    "create_table_sql = \"\"\"  \n",
    "CREATE TABLE IF NOT EXISTS data_saham_max_feb (  \n",
    "    id INT AUTO_INCREMENT PRIMARY KEY,  \n",
    "    Ticker VARCHAR(10),  \n",
    "    Data JSON  \n",
    ")  \n",
    "\"\"\"  \n",
    "cursor.execute(create_table_sql)  \n",
    "\n",
    "# Daftar ticker saham  \n",
    "tickers = ['BBCA.JK', 'BMRI.JK', 'BBRI.JK', 'TLKM.JK', 'ASII.JK', 'UNVR.JK', 'ICBP.JK',   \n",
    "           'PGAS.JK', 'GGRM.JK', 'INDF.JK', 'ADRO.JK', 'ANTM.JK', 'BRPT.JK', 'CPIN.JK',   \n",
    "           'ERAA.JK', 'EXCL.JK', 'HMSP.JK', 'JPFA.JK', 'JSMR.JK', 'KLBF.JK', 'LPPF.JK',   \n",
    "           'MEDC.JK', 'MNCN.JK', 'PTBA.JK', 'SCMA.JK', 'SIDO.JK', 'SMGR.JK', 'SRIL.JK',   \n",
    "           'TKIM.JK', 'TOWR.JK', 'TPIA.JK', 'UNTR.JK', 'WIKA.JK', 'WSKT.JK', 'WTON.JK',   \n",
    "           'ACES.JK', 'AKRA.JK', 'BTPS.JK', 'INDY.JK', 'ITMG.JK', 'KLBF.JK', 'MYOR.JK',   \n",
    "           'PNBN.JK', 'PPRO.JK', 'SMRA.JK', 'SSIA.JK', 'TKIM.JK', 'TOTO.JK', 'WIKA.JK']  \n",
    "\n",
    "# Mengunduh data saham  \n",
    "data_saham = {}  \n",
    "for ticker in tickers:  \n",
    "    data_saham[ticker] = yf.download(ticker, period='max')  \n",
    "    print(f\"Kolom dari data_saham[{ticker}]: {data_saham[ticker].columns}\")  # Tambahkan baris ini  \n",
    "\n",
    "# Memproses dan menyimpan data ke database  \n",
    "for ticker in tickers:  \n",
    "    data_saham[ticker].index = pd.to_datetime(data_saham[ticker].index)  \n",
    "    df_new = data_saham[ticker].reset_index()  \n",
    "    print(f\"Kolom dari df_new sebelum format tanggal: {df_new.columns}\")  # Tambahkan baris ini  \n",
    "\n",
    "    # Pastikan kolom 'Date' diformat dengan benar  \n",
    "    df_new['Date'] = df_new['Date'].dt.strftime('%Y-%m-%d %H:%M:%S')  # Format sesuai kebutuhan Anda  \n",
    "    print(f\"Kolom dari df_new setelah format tanggal: {df_new.columns}\")  # Tambahkan baris ini  \n",
    "\n",
    "\n",
    "    data_saham_max_feb_new = df_new[['Date', 'Open', 'High', 'Low', 'Close', 'Volume']].to_dict(orient='records')  \n",
    "\n",
    "    check_sql = \"SELECT Data FROM data_saham_max_feb WHERE Ticker = %s\"  \n",
    "    cursor.execute(check_sql, (ticker,))  \n",
    "    result = cursor.fetchone()  \n",
    "\n",
    "    if result:  \n",
    "        data_existing = json.loads(result[0])  \n",
    "        df_existing = pd.DataFrame(data_existing)  \n",
    "\n",
    "        # Pastikan kolom 'Date' diformat dengan benar sebelum penggabungan  \n",
    "        df_existing['Date'] = pd.to_datetime(df_existing['Date']).dt.strftime('%Y-%m-%d %H:%M:%S')  \n",
    "\n",
    "        df_combined = pd.concat([df_existing, df_new]).drop_duplicates(subset=['Date']).reset_index(drop=True)  \n",
    "\n",
    "        data_saham_max_feb_combined = df_combined[['Date', 'Open', 'High', 'Low', 'Close', 'Volume']].to_dict(orient='records')  \n",
    "\n",
    "        data_json_combined = json.dumps(data_saham_max_feb_combined, default=str)  \n",
    "\n",
    "        update_sql = \"UPDATE data_saham_max_feb SET Data = %s WHERE Ticker = %s\"  \n",
    "        cursor.execute(update_sql, (data_json_combined, ticker))  \n",
    "        print(f\"Data for {ticker} has been successfully updated in MySQL with combined data.\")  \n",
    "    else:  \n",
    "        data_json_new = json.dumps(data_saham_max_feb_new, default=str)  \n",
    "        insert_sql = \"INSERT INTO data_saham_max_feb (Ticker, Data) VALUES (%s, %s)\"  \n",
    "        cursor.execute(insert_sql, (ticker, data_json_new))  \n",
    "        print(f\"Data for {ticker} has been successfully inserted into MySQL.\")  \n",
    "\n",
    "    connection.commit()  \n",
    "\n",
    "# Menutup koneksi  \n",
    "cursor.close()  \n",
    "connection.close()  "
   ]
  },
  {
   "cell_type": "markdown",
   "metadata": {},
   "source": [
    "## 2"
   ]
  },
  {
   "cell_type": "code",
   "execution_count": 1,
   "metadata": {},
   "outputs": [
    {
     "name": "stdout",
     "output_type": "stream",
     "text": [
      "YF.download() has changed argument auto_adjust default to True\n"
     ]
    },
    {
     "name": "stderr",
     "output_type": "stream",
     "text": [
      "[*********************100%***********************]  1 of 1 completed\n",
      "[*********************100%***********************]  1 of 1 completed\n",
      "[*********************100%***********************]  1 of 1 completed\n",
      "[*********************100%***********************]  1 of 1 completed\n",
      "[*********************100%***********************]  1 of 1 completed\n",
      "[*********************100%***********************]  1 of 1 completed\n",
      "[*********************100%***********************]  1 of 1 completed\n",
      "[*********************100%***********************]  1 of 1 completed\n",
      "[*********************100%***********************]  1 of 1 completed\n",
      "[*********************100%***********************]  1 of 1 completed\n",
      "[*********************100%***********************]  1 of 1 completed\n",
      "[*********************100%***********************]  1 of 1 completed\n",
      "[*********************100%***********************]  1 of 1 completed\n",
      "[*********************100%***********************]  1 of 1 completed\n",
      "[*********************100%***********************]  1 of 1 completed\n",
      "[*********************100%***********************]  1 of 1 completed\n",
      "[*********************100%***********************]  1 of 1 completed\n",
      "[*********************100%***********************]  1 of 1 completed\n",
      "[*********************100%***********************]  1 of 1 completed\n",
      "[*********************100%***********************]  1 of 1 completed\n",
      "[*********************100%***********************]  1 of 1 completed\n",
      "[*********************100%***********************]  1 of 1 completed\n",
      "[*********************100%***********************]  1 of 1 completed\n",
      "[*********************100%***********************]  1 of 1 completed\n",
      "[*********************100%***********************]  1 of 1 completed\n",
      "[*********************100%***********************]  1 of 1 completed\n",
      "[*********************100%***********************]  1 of 1 completed\n",
      "[*********************100%***********************]  1 of 1 completed\n",
      "[*********************100%***********************]  1 of 1 completed\n",
      "[*********************100%***********************]  1 of 1 completed\n",
      "[*********************100%***********************]  1 of 1 completed\n",
      "[*********************100%***********************]  1 of 1 completed\n",
      "[*********************100%***********************]  1 of 1 completed\n",
      "[*********************100%***********************]  1 of 1 completed\n",
      "[*********************100%***********************]  1 of 1 completed\n",
      "[*********************100%***********************]  1 of 1 completed\n",
      "[*********************100%***********************]  1 of 1 completed\n",
      "[*********************100%***********************]  1 of 1 completed\n",
      "[*********************100%***********************]  1 of 1 completed\n",
      "[*********************100%***********************]  1 of 1 completed\n",
      "[*********************100%***********************]  1 of 1 completed\n",
      "[*********************100%***********************]  1 of 1 completed\n",
      "[*********************100%***********************]  1 of 1 completed\n",
      "[*********************100%***********************]  1 of 1 completed\n",
      "[*********************100%***********************]  1 of 1 completed\n",
      "[*********************100%***********************]  1 of 1 completed\n",
      "[*********************100%***********************]  1 of 1 completed\n",
      "[*********************100%***********************]  1 of 1 completed\n",
      "[*********************100%***********************]  1 of 1 completed\n"
     ]
    },
    {
     "ename": "KeyError",
     "evalue": "'Date'",
     "output_type": "error",
     "traceback": [
      "\u001b[1;31m---------------------------------------------------------------------------\u001b[0m",
      "\u001b[1;31mKeyError\u001b[0m                                  Traceback (most recent call last)",
      "File \u001b[1;32mc:\\Users\\proda\\AppData\\Local\\Programs\\Python\\Python310\\lib\\site-packages\\pandas\\core\\indexes\\base.py:3805\u001b[0m, in \u001b[0;36mIndex.get_loc\u001b[1;34m(self, key)\u001b[0m\n\u001b[0;32m   3804\u001b[0m \u001b[38;5;28;01mtry\u001b[39;00m:\n\u001b[1;32m-> 3805\u001b[0m     \u001b[38;5;28;01mreturn\u001b[39;00m \u001b[38;5;28;43mself\u001b[39;49m\u001b[38;5;241;43m.\u001b[39;49m\u001b[43m_engine\u001b[49m\u001b[38;5;241;43m.\u001b[39;49m\u001b[43mget_loc\u001b[49m\u001b[43m(\u001b[49m\u001b[43mcasted_key\u001b[49m\u001b[43m)\u001b[49m\n\u001b[0;32m   3806\u001b[0m \u001b[38;5;28;01mexcept\u001b[39;00m \u001b[38;5;167;01mKeyError\u001b[39;00m \u001b[38;5;28;01mas\u001b[39;00m err:\n",
      "File \u001b[1;32mindex.pyx:167\u001b[0m, in \u001b[0;36mpandas._libs.index.IndexEngine.get_loc\u001b[1;34m()\u001b[0m\n",
      "File \u001b[1;32mindex.pyx:196\u001b[0m, in \u001b[0;36mpandas._libs.index.IndexEngine.get_loc\u001b[1;34m()\u001b[0m\n",
      "File \u001b[1;32mpandas\\\\_libs\\\\hashtable_class_helper.pxi:7081\u001b[0m, in \u001b[0;36mpandas._libs.hashtable.PyObjectHashTable.get_item\u001b[1;34m()\u001b[0m\n",
      "File \u001b[1;32mpandas\\\\_libs\\\\hashtable_class_helper.pxi:7089\u001b[0m, in \u001b[0;36mpandas._libs.hashtable.PyObjectHashTable.get_item\u001b[1;34m()\u001b[0m\n",
      "\u001b[1;31mKeyError\u001b[0m: 'Date'",
      "\nThe above exception was the direct cause of the following exception:\n",
      "\u001b[1;31mKeyError\u001b[0m                                  Traceback (most recent call last)",
      "Cell \u001b[1;32mIn[1], line 54\u001b[0m\n\u001b[0;32m     51\u001b[0m df_existing \u001b[38;5;241m=\u001b[39m pd\u001b[38;5;241m.\u001b[39mDataFrame(data_existing)  \n\u001b[0;32m     53\u001b[0m \u001b[38;5;66;03m# Konversi kolom 'Date' ke datetime untuk memastikan tipe data sama  \u001b[39;00m\n\u001b[1;32m---> 54\u001b[0m df_existing[\u001b[38;5;124m'\u001b[39m\u001b[38;5;124mDate\u001b[39m\u001b[38;5;124m'\u001b[39m] \u001b[38;5;241m=\u001b[39m pd\u001b[38;5;241m.\u001b[39mto_datetime(\u001b[43mdf_existing\u001b[49m\u001b[43m[\u001b[49m\u001b[38;5;124;43m'\u001b[39;49m\u001b[38;5;124;43mDate\u001b[39;49m\u001b[38;5;124;43m'\u001b[39;49m\u001b[43m]\u001b[49m)  \n\u001b[0;32m     55\u001b[0m df_new[\u001b[38;5;124m'\u001b[39m\u001b[38;5;124mDate\u001b[39m\u001b[38;5;124m'\u001b[39m] \u001b[38;5;241m=\u001b[39m pd\u001b[38;5;241m.\u001b[39mto_datetime(df_new[\u001b[38;5;124m'\u001b[39m\u001b[38;5;124mDate\u001b[39m\u001b[38;5;124m'\u001b[39m])  \n\u001b[0;32m     57\u001b[0m \u001b[38;5;66;03m# Cetak head dari kedua DataFrame untuk debugging  \u001b[39;00m\n",
      "File \u001b[1;32mc:\\Users\\proda\\AppData\\Local\\Programs\\Python\\Python310\\lib\\site-packages\\pandas\\core\\frame.py:4102\u001b[0m, in \u001b[0;36mDataFrame.__getitem__\u001b[1;34m(self, key)\u001b[0m\n\u001b[0;32m   4100\u001b[0m \u001b[38;5;28;01mif\u001b[39;00m \u001b[38;5;28mself\u001b[39m\u001b[38;5;241m.\u001b[39mcolumns\u001b[38;5;241m.\u001b[39mnlevels \u001b[38;5;241m>\u001b[39m \u001b[38;5;241m1\u001b[39m:\n\u001b[0;32m   4101\u001b[0m     \u001b[38;5;28;01mreturn\u001b[39;00m \u001b[38;5;28mself\u001b[39m\u001b[38;5;241m.\u001b[39m_getitem_multilevel(key)\n\u001b[1;32m-> 4102\u001b[0m indexer \u001b[38;5;241m=\u001b[39m \u001b[38;5;28;43mself\u001b[39;49m\u001b[38;5;241;43m.\u001b[39;49m\u001b[43mcolumns\u001b[49m\u001b[38;5;241;43m.\u001b[39;49m\u001b[43mget_loc\u001b[49m\u001b[43m(\u001b[49m\u001b[43mkey\u001b[49m\u001b[43m)\u001b[49m\n\u001b[0;32m   4103\u001b[0m \u001b[38;5;28;01mif\u001b[39;00m is_integer(indexer):\n\u001b[0;32m   4104\u001b[0m     indexer \u001b[38;5;241m=\u001b[39m [indexer]\n",
      "File \u001b[1;32mc:\\Users\\proda\\AppData\\Local\\Programs\\Python\\Python310\\lib\\site-packages\\pandas\\core\\indexes\\base.py:3812\u001b[0m, in \u001b[0;36mIndex.get_loc\u001b[1;34m(self, key)\u001b[0m\n\u001b[0;32m   3807\u001b[0m     \u001b[38;5;28;01mif\u001b[39;00m \u001b[38;5;28misinstance\u001b[39m(casted_key, \u001b[38;5;28mslice\u001b[39m) \u001b[38;5;129;01mor\u001b[39;00m (\n\u001b[0;32m   3808\u001b[0m         \u001b[38;5;28misinstance\u001b[39m(casted_key, abc\u001b[38;5;241m.\u001b[39mIterable)\n\u001b[0;32m   3809\u001b[0m         \u001b[38;5;129;01mand\u001b[39;00m \u001b[38;5;28many\u001b[39m(\u001b[38;5;28misinstance\u001b[39m(x, \u001b[38;5;28mslice\u001b[39m) \u001b[38;5;28;01mfor\u001b[39;00m x \u001b[38;5;129;01min\u001b[39;00m casted_key)\n\u001b[0;32m   3810\u001b[0m     ):\n\u001b[0;32m   3811\u001b[0m         \u001b[38;5;28;01mraise\u001b[39;00m InvalidIndexError(key)\n\u001b[1;32m-> 3812\u001b[0m     \u001b[38;5;28;01mraise\u001b[39;00m \u001b[38;5;167;01mKeyError\u001b[39;00m(key) \u001b[38;5;28;01mfrom\u001b[39;00m \u001b[38;5;21;01merr\u001b[39;00m\n\u001b[0;32m   3813\u001b[0m \u001b[38;5;28;01mexcept\u001b[39;00m \u001b[38;5;167;01mTypeError\u001b[39;00m:\n\u001b[0;32m   3814\u001b[0m     \u001b[38;5;66;03m# If we have a listlike key, _check_indexing_error will raise\u001b[39;00m\n\u001b[0;32m   3815\u001b[0m     \u001b[38;5;66;03m#  InvalidIndexError. Otherwise we fall through and re-raise\u001b[39;00m\n\u001b[0;32m   3816\u001b[0m     \u001b[38;5;66;03m#  the TypeError.\u001b[39;00m\n\u001b[0;32m   3817\u001b[0m     \u001b[38;5;28mself\u001b[39m\u001b[38;5;241m.\u001b[39m_check_indexing_error(key)\n",
      "\u001b[1;31mKeyError\u001b[0m: 'Date'"
     ]
    }
   ],
   "source": [
    "import yfinance as yf  \n",
    "import pandas as pd  \n",
    "import pymysql  \n",
    "import json  \n",
    "\n",
    "# Konfigurasi koneksi database  \n",
    "connection = pymysql.connect(  \n",
    "    host='localhost',  \n",
    "    user='root',  \n",
    "    password='',  \n",
    "    database='harga_saham'  \n",
    ")  \n",
    "cursor = connection.cursor()  \n",
    "\n",
    "# Membuat tabel jika belum ada  \n",
    "create_table_sql = \"\"\"  \n",
    "CREATE TABLE IF NOT EXISTS data_saham_max_feb (  \n",
    "    id INT AUTO_INCREMENT PRIMARY KEY,  \n",
    "    Ticker VARCHAR(10),  \n",
    "    Data JSON  \n",
    ")  \n",
    "\"\"\"  \n",
    "cursor.execute(create_table_sql)  \n",
    "\n",
    "# Daftar ticker saham  \n",
    "tickers = ['BBCA.JK', 'BMRI.JK', 'BBRI.JK', 'TLKM.JK', 'ASII.JK', 'UNVR.JK', 'ICBP.JK',   \n",
    "           'PGAS.JK', 'GGRM.JK', 'INDF.JK', 'ADRO.JK', 'ANTM.JK', 'BRPT.JK', 'CPIN.JK',   \n",
    "           'ERAA.JK', 'EXCL.JK', 'HMSP.JK', 'JPFA.JK', 'JSMR.JK', 'KLBF.JK', 'LPPF.JK',   \n",
    "           'MEDC.JK', 'MNCN.JK', 'PTBA.JK', 'SCMA.JK', 'SIDO.JK', 'SMGR.JK', 'SRIL.JK',   \n",
    "           'TKIM.JK', 'TOWR.JK', 'TPIA.JK', 'UNTR.JK', 'WIKA.JK', 'WSKT.JK', 'WTON.JK',   \n",
    "           'ACES.JK', 'AKRA.JK', 'BTPS.JK', 'INDY.JK', 'ITMG.JK', 'KLBF.JK', 'MYOR.JK',   \n",
    "           'PNBN.JK', 'PPRO.JK', 'SMRA.JK', 'SSIA.JK', 'TKIM.JK', 'TOTO.JK', 'WIKA.JK']  \n",
    "\n",
    "data_saham = {}  \n",
    "for ticker in tickers:  \n",
    "    data_saham[ticker] = yf.download(ticker, period='max')  \n",
    "\n",
    "for ticker in tickers:  \n",
    "    data_saham[ticker].index = pd.to_datetime(data_saham[ticker].index)  \n",
    "    df_new = data_saham[ticker].reset_index()  \n",
    "    df_new['Ticker'] = ticker  \n",
    "\n",
    "    data_saham_max_feb_new = df_new[['Date', 'Open', 'High', 'Low', 'Close', 'Volume']].to_dict(orient='records')  \n",
    "\n",
    "    check_sql = \"SELECT Data FROM data_saham_max_feb WHERE Ticker = %s\"  \n",
    "    cursor.execute(check_sql, (ticker,))  \n",
    "    result = cursor.fetchone()  \n",
    "\n",
    "    if result:  \n",
    "        data_existing = json.loads(result[0])  \n",
    "        df_existing = pd.DataFrame(data_existing)  \n",
    "\n",
    "        # Konversi kolom 'Date' ke datetime untuk memastikan tipe data sama  \n",
    "        df_existing['Date'] = pd.to_datetime(df_existing['Date'])  \n",
    "        df_new['Date'] = pd.to_datetime(df_new['Date'])  \n",
    "\n",
    "        # Cetak head dari kedua DataFrame untuk debugging  \n",
    "        print(\"df_existing head:\")  \n",
    "        print(df_existing.head())  \n",
    "        print(\"df_new head:\")  \n",
    "        print(df_new.head())  \n",
    "\n",
    "        # Cetak nama kolom untuk memastikan kolom 'Date' ada  \n",
    "        print(\"df_existing columns:\", df_existing.columns)  \n",
    "        print(\"df_new columns:\", df_new.columns)  \n",
    "\n",
    "        df_combined = pd.concat([df_existing, df_new]).drop_duplicates(subset=['Date']).reset_index(drop=True)  \n",
    "\n",
    "        data_saham_max_feb_combined = df_combined[['Date', 'Open', 'High', 'Low', 'Close', 'Volume']].to_dict(orient='records')  \n",
    "\n",
    "        data_json_combined = json.dumps(data_saham_max_feb_combined, default=str)  \n",
    "\n",
    "        update_sql = \"UPDATE data_saham_max_feb SET Data = %s WHERE Ticker = %s\"  \n",
    "        cursor.execute(update_sql, (data_json_combined, ticker))  \n",
    "        print(f\"Data for {ticker} has been successfully updated in MySQL with combined data.\")  \n",
    "    else:  \n",
    "        data_json_new = json.dumps(data_saham_max_feb_new, default=str)  \n",
    "        insert_sql = \"INSERT INTO data_saham_max_feb (Ticker, Data) VALUES (%s, %s)\"  \n",
    "        cursor.execute(insert_sql, (ticker, data_json_new))  \n",
    "        print(f\"Data for {ticker} has been successfully inserted into MySQL.\")  \n",
    "\n",
    "    connection.commit()  \n",
    "\n",
    "# Close the connection  \n",
    "cursor.close()  \n",
    "connection.close()  "
   ]
  },
  {
   "cell_type": "markdown",
   "metadata": {},
   "source": [
    "## 3 FIX"
   ]
  },
  {
   "cell_type": "code",
   "execution_count": 1,
   "metadata": {},
   "outputs": [
    {
     "name": "stdout",
     "output_type": "stream",
     "text": [
      "YF.download() has changed argument auto_adjust default to True\n"
     ]
    },
    {
     "name": "stderr",
     "output_type": "stream",
     "text": [
      "[*********************100%***********************]  1 of 1 completed\n",
      "[*********************100%***********************]  1 of 1 completed\n",
      "[*********************100%***********************]  1 of 1 completed\n",
      "[*********************100%***********************]  1 of 1 completed\n",
      "[*********************100%***********************]  1 of 1 completed\n",
      "[*********************100%***********************]  1 of 1 completed\n",
      "[*********************100%***********************]  1 of 1 completed\n",
      "[*********************100%***********************]  1 of 1 completed\n",
      "[*********************100%***********************]  1 of 1 completed\n",
      "[*********************100%***********************]  1 of 1 completed\n",
      "[*********************100%***********************]  1 of 1 completed\n",
      "[*********************100%***********************]  1 of 1 completed\n",
      "[*********************100%***********************]  1 of 1 completed\n",
      "[*********************100%***********************]  1 of 1 completed\n",
      "[*********************100%***********************]  1 of 1 completed\n",
      "[*********************100%***********************]  1 of 1 completed\n",
      "[*********************100%***********************]  1 of 1 completed\n",
      "[*********************100%***********************]  1 of 1 completed\n",
      "[*********************100%***********************]  1 of 1 completed\n",
      "[*********************100%***********************]  1 of 1 completed\n",
      "[*********************100%***********************]  1 of 1 completed\n",
      "[*********************100%***********************]  1 of 1 completed\n",
      "[*********************100%***********************]  1 of 1 completed\n",
      "[*********************100%***********************]  1 of 1 completed\n",
      "[*********************100%***********************]  1 of 1 completed\n",
      "[*********************100%***********************]  1 of 1 completed\n",
      "[*********************100%***********************]  1 of 1 completed\n",
      "[*********************100%***********************]  1 of 1 completed\n",
      "[*********************100%***********************]  1 of 1 completed\n",
      "[*********************100%***********************]  1 of 1 completed\n",
      "[*********************100%***********************]  1 of 1 completed\n",
      "[*********************100%***********************]  1 of 1 completed\n",
      "[*********************100%***********************]  1 of 1 completed\n",
      "[*********************100%***********************]  1 of 1 completed\n",
      "[*********************100%***********************]  1 of 1 completed\n",
      "[*********************100%***********************]  1 of 1 completed\n",
      "[*********************100%***********************]  1 of 1 completed\n",
      "[*********************100%***********************]  1 of 1 completed\n",
      "[*********************100%***********************]  1 of 1 completed\n",
      "[*********************100%***********************]  1 of 1 completed\n",
      "[*********************100%***********************]  1 of 1 completed\n",
      "[*********************100%***********************]  1 of 1 completed\n",
      "[*********************100%***********************]  1 of 1 completed\n",
      "[*********************100%***********************]  1 of 1 completed\n",
      "[*********************100%***********************]  1 of 1 completed\n",
      "[*********************100%***********************]  1 of 1 completed\n",
      "[*********************100%***********************]  1 of 1 completed\n",
      "[*********************100%***********************]  1 of 1 completed\n",
      "[*********************100%***********************]  1 of 1 completed\n"
     ]
    },
    {
     "name": "stdout",
     "output_type": "stream",
     "text": [
      "Data untuk BBCA.JK telah berhasil dimasukkan ke MySQL.\n",
      "Data untuk BMRI.JK telah berhasil dimasukkan ke MySQL.\n",
      "Data untuk BBRI.JK telah berhasil dimasukkan ke MySQL.\n",
      "Data untuk TLKM.JK telah berhasil dimasukkan ke MySQL.\n",
      "Data untuk ASII.JK telah berhasil dimasukkan ke MySQL.\n",
      "Data untuk UNVR.JK telah berhasil dimasukkan ke MySQL.\n",
      "Data untuk ICBP.JK telah berhasil dimasukkan ke MySQL.\n",
      "Data untuk PGAS.JK telah berhasil dimasukkan ke MySQL.\n",
      "Data untuk GGRM.JK telah berhasil dimasukkan ke MySQL.\n",
      "Data untuk INDF.JK telah berhasil dimasukkan ke MySQL.\n",
      "Data untuk ADRO.JK telah berhasil dimasukkan ke MySQL.\n",
      "Data untuk ANTM.JK telah berhasil dimasukkan ke MySQL.\n",
      "Data untuk BRPT.JK telah berhasil dimasukkan ke MySQL.\n",
      "Data untuk CPIN.JK telah berhasil dimasukkan ke MySQL.\n",
      "Data untuk ERAA.JK telah berhasil dimasukkan ke MySQL.\n",
      "Data untuk EXCL.JK telah berhasil dimasukkan ke MySQL.\n",
      "Data untuk HMSP.JK telah berhasil dimasukkan ke MySQL.\n",
      "Data untuk JPFA.JK telah berhasil dimasukkan ke MySQL.\n",
      "Data untuk JSMR.JK telah berhasil dimasukkan ke MySQL.\n",
      "Data untuk KLBF.JK telah berhasil dimasukkan ke MySQL.\n",
      "Data untuk LPPF.JK telah berhasil dimasukkan ke MySQL.\n",
      "Data untuk MEDC.JK telah berhasil dimasukkan ke MySQL.\n",
      "Data untuk MNCN.JK telah berhasil dimasukkan ke MySQL.\n",
      "Data untuk PTBA.JK telah berhasil dimasukkan ke MySQL.\n",
      "Data untuk SCMA.JK telah berhasil dimasukkan ke MySQL.\n",
      "Data untuk SIDO.JK telah berhasil dimasukkan ke MySQL.\n",
      "Data untuk SMGR.JK telah berhasil dimasukkan ke MySQL.\n",
      "Data untuk SRIL.JK telah berhasil dimasukkan ke MySQL.\n",
      "Data untuk TKIM.JK telah berhasil dimasukkan ke MySQL.\n",
      "Data untuk TOWR.JK telah berhasil dimasukkan ke MySQL.\n",
      "Data untuk TPIA.JK telah berhasil dimasukkan ke MySQL.\n",
      "Data untuk UNTR.JK telah berhasil dimasukkan ke MySQL.\n",
      "Data untuk WIKA.JK telah berhasil dimasukkan ke MySQL.\n",
      "Data untuk WSKT.JK telah berhasil dimasukkan ke MySQL.\n",
      "Data untuk WTON.JK telah berhasil dimasukkan ke MySQL.\n",
      "Data untuk ACES.JK telah berhasil dimasukkan ke MySQL.\n",
      "Data untuk AKRA.JK telah berhasil dimasukkan ke MySQL.\n",
      "Data untuk BTPS.JK telah berhasil dimasukkan ke MySQL.\n",
      "Data untuk INDY.JK telah berhasil dimasukkan ke MySQL.\n",
      "Data untuk ITMG.JK telah berhasil dimasukkan ke MySQL.\n",
      "Data untuk KLBF.JK telah berhasil diperbarui dengan data gabungan.\n",
      "Data untuk MYOR.JK telah berhasil dimasukkan ke MySQL.\n",
      "Data untuk PNBN.JK telah berhasil dimasukkan ke MySQL.\n",
      "Data untuk PPRO.JK telah berhasil dimasukkan ke MySQL.\n",
      "Data untuk SMRA.JK telah berhasil dimasukkan ke MySQL.\n",
      "Data untuk SSIA.JK telah berhasil dimasukkan ke MySQL.\n",
      "Data untuk TKIM.JK telah berhasil diperbarui dengan data gabungan.\n",
      "Data untuk TOTO.JK telah berhasil dimasukkan ke MySQL.\n",
      "Data untuk WIKA.JK telah berhasil diperbarui dengan data gabungan.\n"
     ]
    }
   ],
   "source": [
    "import yfinance as yf\n",
    "import pandas as pd\n",
    "import pymysql\n",
    "import json\n",
    "\n",
    "connection = pymysql.connect(\n",
    "    host='localhost',\n",
    "    user='root',\n",
    "    password='',\n",
    "    database='harga_saham'\n",
    ")\n",
    "cursor = connection.cursor()\n",
    "\n",
    "create_table_sql = \"\"\"\n",
    "CREATE TABLE IF NOT EXISTS data_saham_max_feb (\n",
    "    id INT AUTO_INCREMENT PRIMARY KEY,\n",
    "    Ticker VARCHAR(10),\n",
    "    Data JSON\n",
    ")\n",
    "\"\"\"\n",
    "cursor.execute(create_table_sql)\n",
    "\n",
    "tickers = ['BBCA.JK', 'BMRI.JK', 'BBRI.JK', 'TLKM.JK', 'ASII.JK', 'UNVR.JK', 'ICBP.JK', \n",
    "           'PGAS.JK', 'GGRM.JK', 'INDF.JK', 'ADRO.JK', 'ANTM.JK', 'BRPT.JK', 'CPIN.JK', \n",
    "           'ERAA.JK', 'EXCL.JK', 'HMSP.JK', 'JPFA.JK', 'JSMR.JK', 'KLBF.JK', 'LPPF.JK', \n",
    "           'MEDC.JK', 'MNCN.JK', 'PTBA.JK', 'SCMA.JK', 'SIDO.JK', 'SMGR.JK', 'SRIL.JK', \n",
    "           'TKIM.JK', 'TOWR.JK', 'TPIA.JK', 'UNTR.JK', 'WIKA.JK', 'WSKT.JK', 'WTON.JK', \n",
    "           'ACES.JK', 'AKRA.JK', 'BTPS.JK', 'INDY.JK', 'ITMG.JK', 'KLBF.JK', 'MYOR.JK', \n",
    "           'PNBN.JK', 'PPRO.JK', 'SMRA.JK', 'SSIA.JK', 'TKIM.JK', 'TOTO.JK', 'WIKA.JK']\n",
    "\n",
    "data_saham = {}\n",
    "\n",
    "for ticker in tickers:\n",
    "    # Unduh data saham\n",
    "    data = yf.download(ticker, period='max')\n",
    "    # Periksa apakah kolom merupakan MultiIndex, jika ya, flatten menjadi single level\n",
    "    if isinstance(data.columns, pd.MultiIndex):\n",
    "        data.columns = data.columns.get_level_values(0)\n",
    "    data_saham[ticker] = data\n",
    "\n",
    "for ticker in tickers:\n",
    "    # Pastikan index bertipe datetime dan reset index\n",
    "    data_saham[ticker].index = pd.to_datetime(data_saham[ticker].index)\n",
    "    df_new = data_saham[ticker].reset_index()\n",
    "    df_new['Ticker'] = ticker  \n",
    "\n",
    "    # Hanya pilih kolom yang diperlukan\n",
    "    data_saham_max_feb_new = df_new[['Date', 'Open', 'High', 'Low', 'Close', 'Volume']].to_dict(orient='records')\n",
    "\n",
    "    # Cek apakah data untuk ticker sudah ada\n",
    "    check_sql = \"SELECT Data FROM data_saham_max_feb WHERE Ticker = %s\"\n",
    "    cursor.execute(check_sql, (ticker,))\n",
    "    result = cursor.fetchone()\n",
    "\n",
    "    if result:\n",
    "        data_existing = json.loads(result[0])\n",
    "        df_existing = pd.DataFrame(data_existing)\n",
    "        # Gabungkan data baru dan data yang sudah ada lalu hapus duplikasi berdasarkan kolom 'Date'\n",
    "        df_combined = pd.concat([df_existing, df_new]).drop_duplicates(subset=['Date']).reset_index(drop=True)\n",
    "        data_saham_max_feb_combined = df_combined[['Date', 'Open', 'High', 'Low', 'Close', 'Volume']].to_dict(orient='records')\n",
    "        data_json_combined = json.dumps(data_saham_max_feb_combined, default=str)\n",
    "\n",
    "        update_sql = \"UPDATE data_saham_max_feb SET Data = %s WHERE Ticker = %s\"\n",
    "        cursor.execute(update_sql, (data_json_combined, ticker))\n",
    "        print(f\"Data untuk {ticker} telah berhasil diperbarui dengan data gabungan.\")\n",
    "    else:\n",
    "        data_json_new = json.dumps(data_saham_max_feb_new, default=str)\n",
    "        insert_sql = \"INSERT INTO data_saham_max_feb (Ticker, Data) VALUES (%s, %s)\"\n",
    "        cursor.execute(insert_sql, (ticker, data_json_new))\n",
    "        print(f\"Data untuk {ticker} telah berhasil dimasukkan ke MySQL.\")\n",
    "\n",
    "    connection.commit()\n",
    "\n",
    "# Tutup koneksi\n",
    "cursor.close()\n",
    "connection.close()\n"
   ]
  },
  {
   "cell_type": "markdown",
   "metadata": {},
   "source": [
    "# GET DATA DAILY"
   ]
  },
  {
   "cell_type": "code",
   "execution_count": 2,
   "metadata": {},
   "outputs": [
    {
     "name": "stdout",
     "output_type": "stream",
     "text": [
      "Data for BBCA.JK has been successfully retrieved from MySQL.\n",
      "Data for BMRI.JK has been successfully retrieved from MySQL.\n",
      "Data for BBRI.JK has been successfully retrieved from MySQL.\n",
      "Data for TLKM.JK has been successfully retrieved from MySQL.\n",
      "Data for ASII.JK has been successfully retrieved from MySQL.\n",
      "Data for UNVR.JK has been successfully retrieved from MySQL.\n",
      "Data for ICBP.JK has been successfully retrieved from MySQL.\n",
      "Data for PGAS.JK has been successfully retrieved from MySQL.\n",
      "Data for GGRM.JK has been successfully retrieved from MySQL.\n",
      "Data for INDF.JK has been successfully retrieved from MySQL.\n",
      "Data for ADRO.JK has been successfully retrieved from MySQL.\n",
      "Data for ANTM.JK has been successfully retrieved from MySQL.\n",
      "Data for BRPT.JK has been successfully retrieved from MySQL.\n",
      "Data for CPIN.JK has been successfully retrieved from MySQL.\n",
      "Data for ERAA.JK has been successfully retrieved from MySQL.\n",
      "Data for EXCL.JK has been successfully retrieved from MySQL.\n",
      "Data for HMSP.JK has been successfully retrieved from MySQL.\n",
      "Data for JPFA.JK has been successfully retrieved from MySQL.\n",
      "Data for JSMR.JK has been successfully retrieved from MySQL.\n",
      "Data for KLBF.JK has been successfully retrieved from MySQL.\n",
      "Data for LPPF.JK has been successfully retrieved from MySQL.\n",
      "Data for MEDC.JK has been successfully retrieved from MySQL.\n",
      "Data for MNCN.JK has been successfully retrieved from MySQL.\n",
      "Data for PTBA.JK has been successfully retrieved from MySQL.\n",
      "Data for SCMA.JK has been successfully retrieved from MySQL.\n",
      "Data for SIDO.JK has been successfully retrieved from MySQL.\n",
      "Data for SMGR.JK has been successfully retrieved from MySQL.\n",
      "Data for SRIL.JK has been successfully retrieved from MySQL.\n",
      "Data for TKIM.JK has been successfully retrieved from MySQL.\n",
      "Data for TOWR.JK has been successfully retrieved from MySQL.\n",
      "Data for TPIA.JK has been successfully retrieved from MySQL.\n",
      "Data for UNTR.JK has been successfully retrieved from MySQL.\n",
      "Data for WIKA.JK has been successfully retrieved from MySQL.\n",
      "Data for WSKT.JK has been successfully retrieved from MySQL.\n",
      "Data for WTON.JK has been successfully retrieved from MySQL.\n",
      "Data for ACES.JK has been successfully retrieved from MySQL.\n",
      "Data for AKRA.JK has been successfully retrieved from MySQL.\n",
      "Data for BTPS.JK has been successfully retrieved from MySQL.\n",
      "Data for INDY.JK has been successfully retrieved from MySQL.\n",
      "Data for ITMG.JK has been successfully retrieved from MySQL.\n",
      "Data for KLBF.JK has been successfully retrieved from MySQL.\n",
      "Data for MYOR.JK has been successfully retrieved from MySQL.\n",
      "Data for PNBN.JK has been successfully retrieved from MySQL.\n",
      "Data for PPRO.JK has been successfully retrieved from MySQL.\n",
      "Data for SMRA.JK has been successfully retrieved from MySQL.\n",
      "Data for SSIA.JK has been successfully retrieved from MySQL.\n",
      "Data for TKIM.JK has been successfully retrieved from MySQL.\n",
      "Data for TOTO.JK has been successfully retrieved from MySQL.\n",
      "Data for WIKA.JK has been successfully retrieved from MySQL.\n",
      "Data retrieval and concatenation process from 'data_saham_max_feb' completed.\n",
      "                  Open        High         Low       Close     Volume   Ticker\n",
      "Date                                                                          \n",
      "2004-06-08  101.316281  104.211032  101.316281  102.763657  499150000  BBCA.JK\n",
      "2004-06-09  102.763699  105.658451  101.316323  104.211075  294290000  BBCA.JK\n",
      "2004-06-10  104.211075  104.211075  102.763699  104.211075  165590000  BBCA.JK\n",
      "2004-06-11  102.763699  104.211075  102.763699  104.211075  135830000  BBCA.JK\n",
      "2004-06-14  104.211032  104.211032  101.316281  102.763657  158540000  BBCA.JK\n"
     ]
    }
   ],
   "source": [
    "import pandas as pd\n",
    "import pymysql\n",
    "import json\n",
    "\n",
    "# MySQL connection setup\n",
    "connection = pymysql.connect(\n",
    "    host='localhost',\n",
    "    user='root',\n",
    "    password='',\n",
    "    database='harga_saham'\n",
    ")\n",
    "cursor = connection.cursor()\n",
    "\n",
    "# List of tickers\n",
    "tickers = ['BBCA.JK', 'BMRI.JK', 'BBRI.JK', 'TLKM.JK', 'ASII.JK', 'UNVR.JK', 'ICBP.JK', \n",
    "           'PGAS.JK', 'GGRM.JK', 'INDF.JK', 'ADRO.JK', 'ANTM.JK', 'BRPT.JK', 'CPIN.JK', \n",
    "           'ERAA.JK', 'EXCL.JK', 'HMSP.JK', 'JPFA.JK', 'JSMR.JK', 'KLBF.JK', 'LPPF.JK', \n",
    "           'MEDC.JK', 'MNCN.JK', 'PTBA.JK', 'SCMA.JK', 'SIDO.JK', 'SMGR.JK', 'SRIL.JK', \n",
    "           'TKIM.JK', 'TOWR.JK', 'TPIA.JK', 'UNTR.JK', 'WIKA.JK', 'WSKT.JK', 'WTON.JK', \n",
    "           'ACES.JK', 'AKRA.JK', 'BTPS.JK', 'INDY.JK', 'ITMG.JK', 'KLBF.JK', 'MYOR.JK', \n",
    "           'PNBN.JK', 'PPRO.JK', 'SMRA.JK', 'SSIA.JK', 'TKIM.JK', 'TOTO.JK', 'WIKA.JK']\n",
    "\n",
    "# Initialize an empty DataFrame to store all ticker data\n",
    "harga_saham = pd.DataFrame()\n",
    "\n",
    "# Retrieve data from MySQL and store it in harga_saham\n",
    "for ticker in tickers:\n",
    "    sql = f\"SELECT Data FROM data_saham_max_feb WHERE Ticker = '{ticker}'\"\n",
    "    cursor.execute(sql)\n",
    "    result = cursor.fetchone()  # Fetch the JSON data\n",
    "    \n",
    "    if result:\n",
    "        # Parse JSON data into a Python list of dictionaries\n",
    "        data_saham_max_feb = json.loads(result[0])\n",
    "        \n",
    "        # Convert the list of dictionaries into a DataFrame\n",
    "        df = pd.DataFrame(data_saham_max_feb)\n",
    "        \n",
    "        # Ensure 'Datetime' is in datetimetime format and set it as the index\n",
    "        df['Date'] = pd.to_datetime(df['Date'])\n",
    "        df.set_index('Date', inplace=True)\n",
    "        \n",
    "        # Add a column for the ticker symbol\n",
    "        df['Ticker'] = ticker\n",
    "        \n",
    "        # Concatenate df to harga_saham (append the new ticker data)\n",
    "        harga_saham = pd.concat([harga_saham, df])\n",
    "        \n",
    "        print(f\"Data for {ticker} has been successfully retrieved from MySQL.\")\n",
    "    else:\n",
    "        print(f\"No data found for {ticker} in MySQL.\")\n",
    "\n",
    "# Close the connection\n",
    "cursor.close()\n",
    "connection.close()\n",
    "\n",
    "print(\"Data retrieval and concatenation process from 'data_saham_max_feb' completed.\")\n",
    "print(harga_saham.head())  # Display the first few rows of the combined data\n"
   ]
  },
  {
   "cell_type": "code",
   "execution_count": 3,
   "metadata": {},
   "outputs": [
    {
     "data": {
      "text/html": [
       "<div>\n",
       "<style scoped>\n",
       "    .dataframe tbody tr th:only-of-type {\n",
       "        vertical-align: middle;\n",
       "    }\n",
       "\n",
       "    .dataframe tbody tr th {\n",
       "        vertical-align: top;\n",
       "    }\n",
       "\n",
       "    .dataframe thead th {\n",
       "        text-align: right;\n",
       "    }\n",
       "</style>\n",
       "<table border=\"1\" class=\"dataframe\">\n",
       "  <thead>\n",
       "    <tr style=\"text-align: right;\">\n",
       "      <th></th>\n",
       "      <th>Open</th>\n",
       "      <th>High</th>\n",
       "      <th>Low</th>\n",
       "      <th>Close</th>\n",
       "      <th>Volume</th>\n",
       "      <th>Ticker</th>\n",
       "    </tr>\n",
       "    <tr>\n",
       "      <th>Date</th>\n",
       "      <th></th>\n",
       "      <th></th>\n",
       "      <th></th>\n",
       "      <th></th>\n",
       "      <th></th>\n",
       "      <th></th>\n",
       "    </tr>\n",
       "  </thead>\n",
       "  <tbody>\n",
       "    <tr>\n",
       "      <th>2004-06-08</th>\n",
       "      <td>101.316281</td>\n",
       "      <td>104.211032</td>\n",
       "      <td>101.316281</td>\n",
       "      <td>102.763657</td>\n",
       "      <td>499150000</td>\n",
       "      <td>BBCA.JK</td>\n",
       "    </tr>\n",
       "    <tr>\n",
       "      <th>2004-06-09</th>\n",
       "      <td>102.763699</td>\n",
       "      <td>105.658451</td>\n",
       "      <td>101.316323</td>\n",
       "      <td>104.211075</td>\n",
       "      <td>294290000</td>\n",
       "      <td>BBCA.JK</td>\n",
       "    </tr>\n",
       "    <tr>\n",
       "      <th>2004-06-10</th>\n",
       "      <td>104.211075</td>\n",
       "      <td>104.211075</td>\n",
       "      <td>102.763699</td>\n",
       "      <td>104.211075</td>\n",
       "      <td>165590000</td>\n",
       "      <td>BBCA.JK</td>\n",
       "    </tr>\n",
       "    <tr>\n",
       "      <th>2004-06-11</th>\n",
       "      <td>102.763699</td>\n",
       "      <td>104.211075</td>\n",
       "      <td>102.763699</td>\n",
       "      <td>104.211075</td>\n",
       "      <td>135830000</td>\n",
       "      <td>BBCA.JK</td>\n",
       "    </tr>\n",
       "    <tr>\n",
       "      <th>2004-06-14</th>\n",
       "      <td>104.211032</td>\n",
       "      <td>104.211032</td>\n",
       "      <td>101.316281</td>\n",
       "      <td>102.763657</td>\n",
       "      <td>158540000</td>\n",
       "      <td>BBCA.JK</td>\n",
       "    </tr>\n",
       "    <tr>\n",
       "      <th>...</th>\n",
       "      <td>...</td>\n",
       "      <td>...</td>\n",
       "      <td>...</td>\n",
       "      <td>...</td>\n",
       "      <td>...</td>\n",
       "      <td>...</td>\n",
       "    </tr>\n",
       "    <tr>\n",
       "      <th>2025-02-27</th>\n",
       "      <td>204.000000</td>\n",
       "      <td>204.000000</td>\n",
       "      <td>204.000000</td>\n",
       "      <td>204.000000</td>\n",
       "      <td>0</td>\n",
       "      <td>WIKA.JK</td>\n",
       "    </tr>\n",
       "    <tr>\n",
       "      <th>2025-02-28</th>\n",
       "      <td>204.000000</td>\n",
       "      <td>204.000000</td>\n",
       "      <td>204.000000</td>\n",
       "      <td>204.000000</td>\n",
       "      <td>0</td>\n",
       "      <td>WIKA.JK</td>\n",
       "    </tr>\n",
       "    <tr>\n",
       "      <th>2025-03-03</th>\n",
       "      <td>204.000000</td>\n",
       "      <td>204.000000</td>\n",
       "      <td>204.000000</td>\n",
       "      <td>204.000000</td>\n",
       "      <td>0</td>\n",
       "      <td>WIKA.JK</td>\n",
       "    </tr>\n",
       "    <tr>\n",
       "      <th>2025-03-04</th>\n",
       "      <td>204.000000</td>\n",
       "      <td>204.000000</td>\n",
       "      <td>204.000000</td>\n",
       "      <td>204.000000</td>\n",
       "      <td>0</td>\n",
       "      <td>WIKA.JK</td>\n",
       "    </tr>\n",
       "    <tr>\n",
       "      <th>2025-03-05</th>\n",
       "      <td>204.000000</td>\n",
       "      <td>204.000000</td>\n",
       "      <td>204.000000</td>\n",
       "      <td>204.000000</td>\n",
       "      <td>0</td>\n",
       "      <td>WIKA.JK</td>\n",
       "    </tr>\n",
       "  </tbody>\n",
       "</table>\n",
       "<p>269247 rows × 6 columns</p>\n",
       "</div>"
      ],
      "text/plain": [
       "                  Open        High         Low       Close     Volume   Ticker\n",
       "Date                                                                          \n",
       "2004-06-08  101.316281  104.211032  101.316281  102.763657  499150000  BBCA.JK\n",
       "2004-06-09  102.763699  105.658451  101.316323  104.211075  294290000  BBCA.JK\n",
       "2004-06-10  104.211075  104.211075  102.763699  104.211075  165590000  BBCA.JK\n",
       "2004-06-11  102.763699  104.211075  102.763699  104.211075  135830000  BBCA.JK\n",
       "2004-06-14  104.211032  104.211032  101.316281  102.763657  158540000  BBCA.JK\n",
       "...                ...         ...         ...         ...        ...      ...\n",
       "2025-02-27  204.000000  204.000000  204.000000  204.000000          0  WIKA.JK\n",
       "2025-02-28  204.000000  204.000000  204.000000  204.000000          0  WIKA.JK\n",
       "2025-03-03  204.000000  204.000000  204.000000  204.000000          0  WIKA.JK\n",
       "2025-03-04  204.000000  204.000000  204.000000  204.000000          0  WIKA.JK\n",
       "2025-03-05  204.000000  204.000000  204.000000  204.000000          0  WIKA.JK\n",
       "\n",
       "[269247 rows x 6 columns]"
      ]
     },
     "execution_count": 3,
     "metadata": {},
     "output_type": "execute_result"
    }
   ],
   "source": [
    "harga_saham"
   ]
  },
  {
   "cell_type": "code",
   "execution_count": 4,
   "metadata": {},
   "outputs": [
    {
     "name": "stdout",
     "output_type": "stream",
     "text": [
      "<class 'pandas.core.frame.DataFrame'>\n",
      "DatetimeIndex: 269247 entries, 2004-06-08 to 2025-03-05\n",
      "Data columns (total 6 columns):\n",
      " #   Column  Non-Null Count   Dtype  \n",
      "---  ------  --------------   -----  \n",
      " 0   Open    269247 non-null  float64\n",
      " 1   High    269247 non-null  float64\n",
      " 2   Low     269247 non-null  float64\n",
      " 3   Close   269247 non-null  float64\n",
      " 4   Volume  269247 non-null  int64  \n",
      " 5   Ticker  269247 non-null  object \n",
      "dtypes: float64(4), int64(1), object(1)\n",
      "memory usage: 14.4+ MB\n"
     ]
    }
   ],
   "source": [
    "harga_saham.info()"
   ]
  },
  {
   "cell_type": "markdown",
   "metadata": {},
   "source": [
    "# HOURLY DATA"
   ]
  },
  {
   "cell_type": "code",
   "execution_count": 2,
   "metadata": {},
   "outputs": [
    {
     "name": "stderr",
     "output_type": "stream",
     "text": [
      "[*********************100%***********************]  1 of 1 completed\n"
     ]
    },
    {
     "ename": "TypeError",
     "evalue": "keys must be str, int, float, bool or None, not tuple",
     "output_type": "error",
     "traceback": [
      "\u001b[1;31m---------------------------------------------------------------------------\u001b[0m",
      "\u001b[1;31mTypeError\u001b[0m                                 Traceback (most recent call last)",
      "Cell \u001b[1;32mIn[2], line 108\u001b[0m\n\u001b[0;32m    105\u001b[0m         connection\u001b[38;5;241m.\u001b[39mcommit()\n\u001b[0;32m    107\u001b[0m \u001b[38;5;66;03m# Run scraping once for minute and hourly data\u001b[39;00m\n\u001b[1;32m--> 108\u001b[0m \u001b[43mfetch_and_store_minute_data\u001b[49m\u001b[43m(\u001b[49m\u001b[43m)\u001b[49m  \u001b[38;5;66;03m# Fetch minute data\u001b[39;00m\n\u001b[0;32m    109\u001b[0m fetch_and_store_hourly_data()  \u001b[38;5;66;03m# Fetch hourly data\u001b[39;00m\n\u001b[0;32m    111\u001b[0m \u001b[38;5;66;03m# Close connection\u001b[39;00m\n",
      "Cell \u001b[1;32mIn[2], line 56\u001b[0m, in \u001b[0;36mfetch_and_store_minute_data\u001b[1;34m()\u001b[0m\n\u001b[0;32m     54\u001b[0m \u001b[38;5;66;03m# Convert DataFrame to JSON for storage in MySQL\u001b[39;00m\n\u001b[0;32m     55\u001b[0m data_to_store \u001b[38;5;241m=\u001b[39m df_new[[\u001b[38;5;124m'\u001b[39m\u001b[38;5;124mDatetime\u001b[39m\u001b[38;5;124m'\u001b[39m, \u001b[38;5;124m'\u001b[39m\u001b[38;5;124mOpen\u001b[39m\u001b[38;5;124m'\u001b[39m, \u001b[38;5;124m'\u001b[39m\u001b[38;5;124mHigh\u001b[39m\u001b[38;5;124m'\u001b[39m, \u001b[38;5;124m'\u001b[39m\u001b[38;5;124mLow\u001b[39m\u001b[38;5;124m'\u001b[39m, \u001b[38;5;124m'\u001b[39m\u001b[38;5;124mClose\u001b[39m\u001b[38;5;124m'\u001b[39m, \u001b[38;5;124m'\u001b[39m\u001b[38;5;124mVolume\u001b[39m\u001b[38;5;124m'\u001b[39m]]\u001b[38;5;241m.\u001b[39mto_dict(orient\u001b[38;5;241m=\u001b[39m\u001b[38;5;124m'\u001b[39m\u001b[38;5;124mrecords\u001b[39m\u001b[38;5;124m'\u001b[39m)\n\u001b[1;32m---> 56\u001b[0m data_json \u001b[38;5;241m=\u001b[39m \u001b[43mjson\u001b[49m\u001b[38;5;241;43m.\u001b[39;49m\u001b[43mdumps\u001b[49m\u001b[43m(\u001b[49m\u001b[43mdata_to_store\u001b[49m\u001b[43m,\u001b[49m\u001b[43m \u001b[49m\u001b[43mdefault\u001b[49m\u001b[38;5;241;43m=\u001b[39;49m\u001b[38;5;28;43mstr\u001b[39;49m\u001b[43m)\u001b[49m\n\u001b[0;32m     58\u001b[0m \u001b[38;5;66;03m# Check if data for the ticker already exists\u001b[39;00m\n\u001b[0;32m     59\u001b[0m select_sql \u001b[38;5;241m=\u001b[39m \u001b[38;5;124m\"\u001b[39m\u001b[38;5;124mSELECT id FROM data_saham_minute_feb WHERE Ticker = \u001b[39m\u001b[38;5;132;01m%s\u001b[39;00m\u001b[38;5;124m\"\u001b[39m\n",
      "File \u001b[1;32mc:\\Users\\proda\\AppData\\Local\\Programs\\Python\\Python310\\lib\\json\\__init__.py:238\u001b[0m, in \u001b[0;36mdumps\u001b[1;34m(obj, skipkeys, ensure_ascii, check_circular, allow_nan, cls, indent, separators, default, sort_keys, **kw)\u001b[0m\n\u001b[0;32m    232\u001b[0m \u001b[38;5;28;01mif\u001b[39;00m \u001b[38;5;28mcls\u001b[39m \u001b[38;5;129;01mis\u001b[39;00m \u001b[38;5;28;01mNone\u001b[39;00m:\n\u001b[0;32m    233\u001b[0m     \u001b[38;5;28mcls\u001b[39m \u001b[38;5;241m=\u001b[39m JSONEncoder\n\u001b[0;32m    234\u001b[0m \u001b[38;5;28;01mreturn\u001b[39;00m \u001b[38;5;28;43mcls\u001b[39;49m\u001b[43m(\u001b[49m\n\u001b[0;32m    235\u001b[0m \u001b[43m    \u001b[49m\u001b[43mskipkeys\u001b[49m\u001b[38;5;241;43m=\u001b[39;49m\u001b[43mskipkeys\u001b[49m\u001b[43m,\u001b[49m\u001b[43m \u001b[49m\u001b[43mensure_ascii\u001b[49m\u001b[38;5;241;43m=\u001b[39;49m\u001b[43mensure_ascii\u001b[49m\u001b[43m,\u001b[49m\n\u001b[0;32m    236\u001b[0m \u001b[43m    \u001b[49m\u001b[43mcheck_circular\u001b[49m\u001b[38;5;241;43m=\u001b[39;49m\u001b[43mcheck_circular\u001b[49m\u001b[43m,\u001b[49m\u001b[43m \u001b[49m\u001b[43mallow_nan\u001b[49m\u001b[38;5;241;43m=\u001b[39;49m\u001b[43mallow_nan\u001b[49m\u001b[43m,\u001b[49m\u001b[43m \u001b[49m\u001b[43mindent\u001b[49m\u001b[38;5;241;43m=\u001b[39;49m\u001b[43mindent\u001b[49m\u001b[43m,\u001b[49m\n\u001b[0;32m    237\u001b[0m \u001b[43m    \u001b[49m\u001b[43mseparators\u001b[49m\u001b[38;5;241;43m=\u001b[39;49m\u001b[43mseparators\u001b[49m\u001b[43m,\u001b[49m\u001b[43m \u001b[49m\u001b[43mdefault\u001b[49m\u001b[38;5;241;43m=\u001b[39;49m\u001b[43mdefault\u001b[49m\u001b[43m,\u001b[49m\u001b[43m \u001b[49m\u001b[43msort_keys\u001b[49m\u001b[38;5;241;43m=\u001b[39;49m\u001b[43msort_keys\u001b[49m\u001b[43m,\u001b[49m\n\u001b[1;32m--> 238\u001b[0m \u001b[43m    \u001b[49m\u001b[38;5;241;43m*\u001b[39;49m\u001b[38;5;241;43m*\u001b[39;49m\u001b[43mkw\u001b[49m\u001b[43m)\u001b[49m\u001b[38;5;241;43m.\u001b[39;49m\u001b[43mencode\u001b[49m\u001b[43m(\u001b[49m\u001b[43mobj\u001b[49m\u001b[43m)\u001b[49m\n",
      "File \u001b[1;32mc:\\Users\\proda\\AppData\\Local\\Programs\\Python\\Python310\\lib\\json\\encoder.py:199\u001b[0m, in \u001b[0;36mJSONEncoder.encode\u001b[1;34m(self, o)\u001b[0m\n\u001b[0;32m    195\u001b[0m         \u001b[38;5;28;01mreturn\u001b[39;00m encode_basestring(o)\n\u001b[0;32m    196\u001b[0m \u001b[38;5;66;03m# This doesn't pass the iterator directly to ''.join() because the\u001b[39;00m\n\u001b[0;32m    197\u001b[0m \u001b[38;5;66;03m# exceptions aren't as detailed.  The list call should be roughly\u001b[39;00m\n\u001b[0;32m    198\u001b[0m \u001b[38;5;66;03m# equivalent to the PySequence_Fast that ''.join() would do.\u001b[39;00m\n\u001b[1;32m--> 199\u001b[0m chunks \u001b[38;5;241m=\u001b[39m \u001b[38;5;28;43mself\u001b[39;49m\u001b[38;5;241;43m.\u001b[39;49m\u001b[43miterencode\u001b[49m\u001b[43m(\u001b[49m\u001b[43mo\u001b[49m\u001b[43m,\u001b[49m\u001b[43m \u001b[49m\u001b[43m_one_shot\u001b[49m\u001b[38;5;241;43m=\u001b[39;49m\u001b[38;5;28;43;01mTrue\u001b[39;49;00m\u001b[43m)\u001b[49m\n\u001b[0;32m    200\u001b[0m \u001b[38;5;28;01mif\u001b[39;00m \u001b[38;5;129;01mnot\u001b[39;00m \u001b[38;5;28misinstance\u001b[39m(chunks, (\u001b[38;5;28mlist\u001b[39m, \u001b[38;5;28mtuple\u001b[39m)):\n\u001b[0;32m    201\u001b[0m     chunks \u001b[38;5;241m=\u001b[39m \u001b[38;5;28mlist\u001b[39m(chunks)\n",
      "File \u001b[1;32mc:\\Users\\proda\\AppData\\Local\\Programs\\Python\\Python310\\lib\\json\\encoder.py:257\u001b[0m, in \u001b[0;36mJSONEncoder.iterencode\u001b[1;34m(self, o, _one_shot)\u001b[0m\n\u001b[0;32m    252\u001b[0m \u001b[38;5;28;01melse\u001b[39;00m:\n\u001b[0;32m    253\u001b[0m     _iterencode \u001b[38;5;241m=\u001b[39m _make_iterencode(\n\u001b[0;32m    254\u001b[0m         markers, \u001b[38;5;28mself\u001b[39m\u001b[38;5;241m.\u001b[39mdefault, _encoder, \u001b[38;5;28mself\u001b[39m\u001b[38;5;241m.\u001b[39mindent, floatstr,\n\u001b[0;32m    255\u001b[0m         \u001b[38;5;28mself\u001b[39m\u001b[38;5;241m.\u001b[39mkey_separator, \u001b[38;5;28mself\u001b[39m\u001b[38;5;241m.\u001b[39mitem_separator, \u001b[38;5;28mself\u001b[39m\u001b[38;5;241m.\u001b[39msort_keys,\n\u001b[0;32m    256\u001b[0m         \u001b[38;5;28mself\u001b[39m\u001b[38;5;241m.\u001b[39mskipkeys, _one_shot)\n\u001b[1;32m--> 257\u001b[0m \u001b[38;5;28;01mreturn\u001b[39;00m \u001b[43m_iterencode\u001b[49m\u001b[43m(\u001b[49m\u001b[43mo\u001b[49m\u001b[43m,\u001b[49m\u001b[43m \u001b[49m\u001b[38;5;241;43m0\u001b[39;49m\u001b[43m)\u001b[49m\n",
      "\u001b[1;31mTypeError\u001b[0m: keys must be str, int, float, bool or None, not tuple"
     ]
    }
   ],
   "source": [
    "import yfinance as yf\n",
    "import pandas as pd\n",
    "import pymysql\n",
    "import json\n",
    "\n",
    "# MySQL connection setup\n",
    "connection = pymysql.connect(\n",
    "    host='localhost',\n",
    "    user='root',\n",
    "    password='',\n",
    "    database='harga_saham'\n",
    ")\n",
    "cursor = connection.cursor()\n",
    "\n",
    "# Create tables if they don't exist\n",
    "create_table_minute_sql = \"\"\"\n",
    "CREATE TABLE IF NOT EXISTS data_saham_minute_feb (\n",
    "    id INT AUTO_INCREMENT PRIMARY KEY,\n",
    "    Ticker VARCHAR(10),\n",
    "    Data JSON,\n",
    "    UNIQUE (Ticker)\n",
    ")\n",
    "\"\"\"\n",
    "cursor.execute(create_table_minute_sql)\n",
    "\n",
    "create_table_hour_sql = \"\"\"\n",
    "CREATE TABLE IF NOT EXISTS data_saham_hour_feb (\n",
    "    id INT AUTO_INCREMENT PRIMARY KEY,\n",
    "    Ticker VARCHAR(10),\n",
    "    Data JSON,\n",
    "    UNIQUE (Ticker)\n",
    ")\n",
    "\"\"\"\n",
    "cursor.execute(create_table_hour_sql)\n",
    "\n",
    "# Define tickers\n",
    "tickers = ['BBCA.JK', 'BMRI.JK', 'BBRI.JK', 'TLKM.JK', 'ASII.JK', 'UNVR.JK', 'ICBP.JK', \n",
    "           'PGAS.JK', 'GGRM.JK', 'INDF.JK', 'ADRO.JK', 'ANTM.JK', 'BRPT.JK', 'CPIN.JK', \n",
    "           'ERAA.JK', 'EXCL.JK', 'HMSP.JK', 'JPFA.JK', 'JSMR.JK', 'KLBF.JK', 'LPPF.JK', \n",
    "           'MEDC.JK', 'MNCN.JK', 'PTBA.JK', 'SCMA.JK', 'SIDO.JK', 'SMGR.JK', 'SRIL.JK', \n",
    "           'TKIM.JK', 'TOWR.JK', 'TPIA.JK', 'UNTR.JK', 'WIKA.JK', 'WSKT.JK', 'WTON.JK', \n",
    "           'ACES.JK', 'AKRA.JK', 'BTPS.JK', 'INDY.JK', 'ITMG.JK', 'KLBF.JK', 'MYOR.JK', \n",
    "           'PNBN.JK', 'PPRO.JK', 'SMRA.JK', 'SSIA.JK', 'TKIM.JK', 'TOTO.JK', 'WIKA.JK']\n",
    "\n",
    "# Function to fetch and store minute data\n",
    "def fetch_and_store_minute_data():\n",
    "    for ticker in tickers:\n",
    "        data = yf.download(ticker, interval='1m', period=\"5d\")  # Last 5 days for minute data\n",
    "        if not data.empty:\n",
    "            data.index = pd.to_datetime(data.index)\n",
    "            df_new = data.reset_index()\n",
    "            df_new['Ticker'] = ticker\n",
    "\n",
    "            # Convert DataFrame to JSON for storage in MySQL\n",
    "            data_to_store = df_new[['Datetime', 'Open', 'High', 'Low', 'Close', 'Volume']].to_dict(orient='records')\n",
    "            data_json = json.dumps(data_to_store, default=str)\n",
    "\n",
    "            # Check if data for the ticker already exists\n",
    "            select_sql = \"SELECT id FROM data_saham_minute_feb WHERE Ticker = %s\"\n",
    "            cursor.execute(select_sql, (ticker,))\n",
    "            result = cursor.fetchone()\n",
    "\n",
    "            if result:\n",
    "                # Update existing record\n",
    "                update_sql = \"UPDATE data_saham_minute_feb SET Data = %s WHERE Ticker = %s\"\n",
    "                cursor.execute(update_sql, (data_json, ticker))\n",
    "                print(f\"Minute data for {ticker} has been successfully updated in MySQL.\")\n",
    "            else:\n",
    "                # Insert new record\n",
    "                insert_sql = \"INSERT INTO data_saham_minute_feb (Ticker, Data) VALUES (%s, %s)\"\n",
    "                cursor.execute(insert_sql, (ticker, data_json))\n",
    "                print(f\"Minute data for {ticker} has been successfully inserted into MySQL.\")\n",
    "        \n",
    "        connection.commit()\n",
    "\n",
    "# Function to fetch and store hourly data\n",
    "def fetch_and_store_hourly_data():\n",
    "    for ticker in tickers:\n",
    "        data = yf.download(ticker, interval='1h', period=\"1y\")  # Last month for hourly data\n",
    "        if not data.empty:\n",
    "            data.index = pd.to_datetime(data.index)\n",
    "            df_new = data.reset_index()\n",
    "            df_new['Ticker'] = ticker\n",
    "\n",
    "            # Convert DataFrame to JSON for storage in MySQL\n",
    "            data_to_store = df_new[['Datetime', 'Open', 'High', 'Low', 'Close', 'Volume']].to_dict(orient='records')\n",
    "            data_json = json.dumps(data_to_store, default=str)\n",
    "\n",
    "            # Check if data for the ticker already exists\n",
    "            select_sql = \"SELECT id FROM data_saham_hour_feb WHERE Ticker = %s\"\n",
    "            cursor.execute(select_sql, (ticker,))\n",
    "            result = cursor.fetchone()\n",
    "\n",
    "            if result:\n",
    "                # Update existing record\n",
    "                update_sql = \"UPDATE data_saham_hour_feb SET Data = %s WHERE Ticker = %s\"\n",
    "                cursor.execute(update_sql, (data_json, ticker))\n",
    "                print(f\"Hourly data for {ticker} has been successfully updated in MySQL.\")\n",
    "            else:\n",
    "                # Insert new record\n",
    "                insert_sql = \"INSERT INTO data_saham_hour_feb (Ticker, Data) VALUES (%s, %s)\"\n",
    "                cursor.execute(insert_sql, (ticker, data_json))\n",
    "                print(f\"Hourly data for {ticker} has been successfully inserted into MySQL.\")\n",
    "        \n",
    "        connection.commit()\n",
    "\n",
    "# Run scraping once for minute and hourly data\n",
    "fetch_and_store_minute_data()  # Fetch minute data\n",
    "fetch_and_store_hourly_data()  # Fetch hourly data\n",
    "\n",
    "# Close connection\n",
    "cursor.close()\n",
    "connection.close()\n"
   ]
  },
  {
   "cell_type": "markdown",
   "metadata": {},
   "source": [
    "## 1 FIX"
   ]
  },
  {
   "cell_type": "code",
   "execution_count": 1,
   "metadata": {},
   "outputs": [
    {
     "name": "stdout",
     "output_type": "stream",
     "text": [
      "YF.download() has changed argument auto_adjust default to True\n"
     ]
    },
    {
     "name": "stderr",
     "output_type": "stream",
     "text": [
      "[*********************100%***********************]  1 of 1 completed\n",
      "[*********************100%***********************]  1 of 1 completed"
     ]
    },
    {
     "name": "stdout",
     "output_type": "stream",
     "text": [
      "Minute data for BBCA.JK has been successfully inserted into MySQL.\n"
     ]
    },
    {
     "name": "stderr",
     "output_type": "stream",
     "text": [
      "\n"
     ]
    },
    {
     "name": "stdout",
     "output_type": "stream",
     "text": [
      "Minute data for BMRI.JK has been successfully inserted into MySQL.\n"
     ]
    },
    {
     "name": "stderr",
     "output_type": "stream",
     "text": [
      "[*********************100%***********************]  1 of 1 completed\n"
     ]
    },
    {
     "name": "stdout",
     "output_type": "stream",
     "text": [
      "Minute data for BBRI.JK has been successfully inserted into MySQL.\n"
     ]
    },
    {
     "name": "stderr",
     "output_type": "stream",
     "text": [
      "[*********************100%***********************]  1 of 1 completed\n"
     ]
    },
    {
     "name": "stdout",
     "output_type": "stream",
     "text": [
      "Minute data for TLKM.JK has been successfully inserted into MySQL.\n"
     ]
    },
    {
     "name": "stderr",
     "output_type": "stream",
     "text": [
      "[*********************100%***********************]  1 of 1 completed\n"
     ]
    },
    {
     "name": "stdout",
     "output_type": "stream",
     "text": [
      "Minute data for ASII.JK has been successfully inserted into MySQL.\n"
     ]
    },
    {
     "name": "stderr",
     "output_type": "stream",
     "text": [
      "[*********************100%***********************]  1 of 1 completed\n"
     ]
    },
    {
     "name": "stdout",
     "output_type": "stream",
     "text": [
      "Minute data for UNVR.JK has been successfully inserted into MySQL.\n"
     ]
    },
    {
     "name": "stderr",
     "output_type": "stream",
     "text": [
      "[*********************100%***********************]  1 of 1 completed\n",
      "[*********************100%***********************]  1 of 1 completed"
     ]
    },
    {
     "name": "stdout",
     "output_type": "stream",
     "text": [
      "Minute data for ICBP.JK has been successfully inserted into MySQL.\n",
      "Minute data for PGAS.JK has been successfully inserted into MySQL.\n"
     ]
    },
    {
     "name": "stderr",
     "output_type": "stream",
     "text": [
      "\n",
      "[*********************100%***********************]  1 of 1 completed\n",
      "[*********************100%***********************]  1 of 1 completed"
     ]
    },
    {
     "name": "stdout",
     "output_type": "stream",
     "text": [
      "Minute data for GGRM.JK has been successfully inserted into MySQL.\n"
     ]
    },
    {
     "name": "stderr",
     "output_type": "stream",
     "text": [
      "\n"
     ]
    },
    {
     "name": "stdout",
     "output_type": "stream",
     "text": [
      "Minute data for INDF.JK has been successfully inserted into MySQL.\n"
     ]
    },
    {
     "name": "stderr",
     "output_type": "stream",
     "text": [
      "[*********************100%***********************]  1 of 1 completed\n"
     ]
    },
    {
     "name": "stdout",
     "output_type": "stream",
     "text": [
      "Minute data for ADRO.JK has been successfully inserted into MySQL.\n"
     ]
    },
    {
     "name": "stderr",
     "output_type": "stream",
     "text": [
      "[*********************100%***********************]  1 of 1 completed\n",
      "[*********************100%***********************]  1 of 1 completed"
     ]
    },
    {
     "name": "stdout",
     "output_type": "stream",
     "text": [
      "Minute data for ANTM.JK has been successfully inserted into MySQL.\n"
     ]
    },
    {
     "name": "stderr",
     "output_type": "stream",
     "text": [
      "\n",
      "[*********************100%***********************]  1 of 1 completed"
     ]
    },
    {
     "name": "stdout",
     "output_type": "stream",
     "text": [
      "Minute data for BRPT.JK has been successfully inserted into MySQL.\n",
      "Minute data for CPIN.JK has been successfully inserted into MySQL.\n"
     ]
    },
    {
     "name": "stderr",
     "output_type": "stream",
     "text": [
      "\n",
      "[*********************100%***********************]  1 of 1 completed\n",
      "[*********************100%***********************]  1 of 1 completed\n"
     ]
    },
    {
     "name": "stdout",
     "output_type": "stream",
     "text": [
      "Minute data for ERAA.JK has been successfully inserted into MySQL.\n",
      "Minute data for EXCL.JK has been successfully inserted into MySQL.\n"
     ]
    },
    {
     "name": "stderr",
     "output_type": "stream",
     "text": [
      "[*********************100%***********************]  1 of 1 completed\n",
      "[*********************100%***********************]  1 of 1 completed\n"
     ]
    },
    {
     "name": "stdout",
     "output_type": "stream",
     "text": [
      "Minute data for HMSP.JK has been successfully inserted into MySQL.\n",
      "Minute data for JPFA.JK has been successfully inserted into MySQL.\n"
     ]
    },
    {
     "name": "stderr",
     "output_type": "stream",
     "text": [
      "[*********************100%***********************]  1 of 1 completed\n"
     ]
    },
    {
     "name": "stdout",
     "output_type": "stream",
     "text": [
      "Minute data for JSMR.JK has been successfully inserted into MySQL.\n"
     ]
    },
    {
     "name": "stderr",
     "output_type": "stream",
     "text": [
      "[*********************100%***********************]  1 of 1 completed\n"
     ]
    },
    {
     "name": "stdout",
     "output_type": "stream",
     "text": [
      "Minute data for KLBF.JK has been successfully inserted into MySQL.\n"
     ]
    },
    {
     "name": "stderr",
     "output_type": "stream",
     "text": [
      "[*********************100%***********************]  1 of 1 completed\n"
     ]
    },
    {
     "name": "stdout",
     "output_type": "stream",
     "text": [
      "Minute data for LPPF.JK has been successfully inserted into MySQL.\n"
     ]
    },
    {
     "name": "stderr",
     "output_type": "stream",
     "text": [
      "[*********************100%***********************]  1 of 1 completed\n"
     ]
    },
    {
     "name": "stdout",
     "output_type": "stream",
     "text": [
      "Minute data for MEDC.JK has been successfully inserted into MySQL.\n"
     ]
    },
    {
     "name": "stderr",
     "output_type": "stream",
     "text": [
      "[*********************100%***********************]  1 of 1 completed\n"
     ]
    },
    {
     "name": "stdout",
     "output_type": "stream",
     "text": [
      "Minute data for MNCN.JK has been successfully inserted into MySQL.\n"
     ]
    },
    {
     "name": "stderr",
     "output_type": "stream",
     "text": [
      "[*********************100%***********************]  1 of 1 completed\n",
      "[*********************100%***********************]  1 of 1 completed\n"
     ]
    },
    {
     "name": "stdout",
     "output_type": "stream",
     "text": [
      "Minute data for PTBA.JK has been successfully inserted into MySQL.\n",
      "Minute data for SCMA.JK has been successfully inserted into MySQL.\n"
     ]
    },
    {
     "name": "stderr",
     "output_type": "stream",
     "text": [
      "[*********************100%***********************]  1 of 1 completed\n",
      "[*********************100%***********************]  1 of 1 completed\n"
     ]
    },
    {
     "name": "stdout",
     "output_type": "stream",
     "text": [
      "Minute data for SIDO.JK has been successfully inserted into MySQL.\n",
      "Minute data for SMGR.JK has been successfully inserted into MySQL.\n"
     ]
    },
    {
     "name": "stderr",
     "output_type": "stream",
     "text": [
      "[*********************100%***********************]  1 of 1 completed\n"
     ]
    },
    {
     "name": "stdout",
     "output_type": "stream",
     "text": [
      "Minute data for SRIL.JK has been successfully inserted into MySQL.\n"
     ]
    },
    {
     "name": "stderr",
     "output_type": "stream",
     "text": [
      "[*********************100%***********************]  1 of 1 completed\n",
      "[*********************100%***********************]  1 of 1 completed"
     ]
    },
    {
     "name": "stdout",
     "output_type": "stream",
     "text": [
      "Minute data for TKIM.JK has been successfully inserted into MySQL.\n"
     ]
    },
    {
     "name": "stderr",
     "output_type": "stream",
     "text": [
      "\n"
     ]
    },
    {
     "name": "stdout",
     "output_type": "stream",
     "text": [
      "Minute data for TOWR.JK has been successfully inserted into MySQL.\n"
     ]
    },
    {
     "name": "stderr",
     "output_type": "stream",
     "text": [
      "[*********************100%***********************]  1 of 1 completed\n"
     ]
    },
    {
     "name": "stdout",
     "output_type": "stream",
     "text": [
      "Minute data for TPIA.JK has been successfully inserted into MySQL.\n"
     ]
    },
    {
     "name": "stderr",
     "output_type": "stream",
     "text": [
      "[*********************100%***********************]  1 of 1 completed\n",
      "[*********************100%***********************]  1 of 1 completed\n",
      "\n",
      "1 Failed download:\n",
      "['WIKA.JK']: YFPricesMissingError('possibly delisted; no price data found  (period=5d)')\n"
     ]
    },
    {
     "name": "stdout",
     "output_type": "stream",
     "text": [
      "Minute data for UNTR.JK has been successfully inserted into MySQL.\n"
     ]
    },
    {
     "name": "stderr",
     "output_type": "stream",
     "text": [
      "[*********************100%***********************]  1 of 1 completed\n"
     ]
    },
    {
     "name": "stdout",
     "output_type": "stream",
     "text": [
      "Minute data for WSKT.JK has been successfully inserted into MySQL.\n"
     ]
    },
    {
     "name": "stderr",
     "output_type": "stream",
     "text": [
      "[*********************100%***********************]  1 of 1 completed\n"
     ]
    },
    {
     "name": "stdout",
     "output_type": "stream",
     "text": [
      "Minute data for WTON.JK has been successfully inserted into MySQL.\n"
     ]
    },
    {
     "name": "stderr",
     "output_type": "stream",
     "text": [
      "[*********************100%***********************]  1 of 1 completed\n"
     ]
    },
    {
     "name": "stdout",
     "output_type": "stream",
     "text": [
      "Minute data for ACES.JK has been successfully inserted into MySQL.\n"
     ]
    },
    {
     "name": "stderr",
     "output_type": "stream",
     "text": [
      "[*********************100%***********************]  1 of 1 completed\n"
     ]
    },
    {
     "name": "stdout",
     "output_type": "stream",
     "text": [
      "Minute data for AKRA.JK has been successfully inserted into MySQL.\n"
     ]
    },
    {
     "name": "stderr",
     "output_type": "stream",
     "text": [
      "[*********************100%***********************]  1 of 1 completed\n"
     ]
    },
    {
     "name": "stdout",
     "output_type": "stream",
     "text": [
      "Minute data for BTPS.JK has been successfully inserted into MySQL.\n"
     ]
    },
    {
     "name": "stderr",
     "output_type": "stream",
     "text": [
      "[*********************100%***********************]  1 of 1 completed\n"
     ]
    },
    {
     "name": "stdout",
     "output_type": "stream",
     "text": [
      "Minute data for INDY.JK has been successfully inserted into MySQL.\n"
     ]
    },
    {
     "name": "stderr",
     "output_type": "stream",
     "text": [
      "[*********************100%***********************]  1 of 1 completed\n",
      "[*********************100%***********************]  1 of 1 completed\n"
     ]
    },
    {
     "name": "stdout",
     "output_type": "stream",
     "text": [
      "Minute data for ITMG.JK has been successfully inserted into MySQL.\n",
      "Minute data for KLBF.JK has been successfully updated in MySQL.\n"
     ]
    },
    {
     "name": "stderr",
     "output_type": "stream",
     "text": [
      "[*********************100%***********************]  1 of 1 completed\n",
      "[*********************100%***********************]  1 of 1 completed\n"
     ]
    },
    {
     "name": "stdout",
     "output_type": "stream",
     "text": [
      "Minute data for MYOR.JK has been successfully inserted into MySQL.\n",
      "Minute data for PNBN.JK has been successfully inserted into MySQL.\n"
     ]
    },
    {
     "name": "stderr",
     "output_type": "stream",
     "text": [
      "[*********************100%***********************]  1 of 1 completed\n",
      "\n",
      "1 Failed download:\n",
      "['PPRO.JK']: YFPricesMissingError('possibly delisted; no price data found  (period=5d)')\n",
      "[*********************100%***********************]  1 of 1 completed\n",
      "[*********************100%***********************]  1 of 1 completed\n"
     ]
    },
    {
     "name": "stdout",
     "output_type": "stream",
     "text": [
      "Minute data for SMRA.JK has been successfully inserted into MySQL.\n",
      "Minute data for SSIA.JK has been successfully inserted into MySQL.\n"
     ]
    },
    {
     "name": "stderr",
     "output_type": "stream",
     "text": [
      "[*********************100%***********************]  1 of 1 completed\n"
     ]
    },
    {
     "name": "stdout",
     "output_type": "stream",
     "text": [
      "Minute data for TKIM.JK has been successfully updated in MySQL.\n"
     ]
    },
    {
     "name": "stderr",
     "output_type": "stream",
     "text": [
      "[*********************100%***********************]  1 of 1 completed\n",
      "[*********************100%***********************]  1 of 1 completed\n",
      "\n",
      "1 Failed download:\n",
      "['WIKA.JK']: YFPricesMissingError('possibly delisted; no price data found  (period=5d)')\n"
     ]
    },
    {
     "name": "stdout",
     "output_type": "stream",
     "text": [
      "Minute data for TOTO.JK has been successfully inserted into MySQL.\n"
     ]
    },
    {
     "name": "stderr",
     "output_type": "stream",
     "text": [
      "[*********************100%***********************]  1 of 1 completed\n"
     ]
    },
    {
     "name": "stdout",
     "output_type": "stream",
     "text": [
      "Hourly data for BBCA.JK has been successfully inserted into MySQL.\n"
     ]
    },
    {
     "name": "stderr",
     "output_type": "stream",
     "text": [
      "[*********************100%***********************]  1 of 1 completed\n"
     ]
    },
    {
     "name": "stdout",
     "output_type": "stream",
     "text": [
      "Hourly data for BMRI.JK has been successfully inserted into MySQL.\n"
     ]
    },
    {
     "name": "stderr",
     "output_type": "stream",
     "text": [
      "[*********************100%***********************]  1 of 1 completed\n"
     ]
    },
    {
     "name": "stdout",
     "output_type": "stream",
     "text": [
      "Hourly data for BBRI.JK has been successfully inserted into MySQL.\n"
     ]
    },
    {
     "name": "stderr",
     "output_type": "stream",
     "text": [
      "[*********************100%***********************]  1 of 1 completed\n"
     ]
    },
    {
     "name": "stdout",
     "output_type": "stream",
     "text": [
      "Hourly data for TLKM.JK has been successfully inserted into MySQL.\n"
     ]
    },
    {
     "name": "stderr",
     "output_type": "stream",
     "text": [
      "[*********************100%***********************]  1 of 1 completed\n"
     ]
    },
    {
     "name": "stdout",
     "output_type": "stream",
     "text": [
      "Hourly data for ASII.JK has been successfully inserted into MySQL.\n"
     ]
    },
    {
     "name": "stderr",
     "output_type": "stream",
     "text": [
      "[*********************100%***********************]  1 of 1 completed\n"
     ]
    },
    {
     "name": "stdout",
     "output_type": "stream",
     "text": [
      "Hourly data for UNVR.JK has been successfully inserted into MySQL.\n"
     ]
    },
    {
     "name": "stderr",
     "output_type": "stream",
     "text": [
      "[*********************100%***********************]  1 of 1 completed\n"
     ]
    },
    {
     "name": "stdout",
     "output_type": "stream",
     "text": [
      "Hourly data for ICBP.JK has been successfully inserted into MySQL.\n"
     ]
    },
    {
     "name": "stderr",
     "output_type": "stream",
     "text": [
      "[*********************100%***********************]  1 of 1 completed\n"
     ]
    },
    {
     "name": "stdout",
     "output_type": "stream",
     "text": [
      "Hourly data for PGAS.JK has been successfully inserted into MySQL.\n"
     ]
    },
    {
     "name": "stderr",
     "output_type": "stream",
     "text": [
      "[*********************100%***********************]  1 of 1 completed\n"
     ]
    },
    {
     "name": "stdout",
     "output_type": "stream",
     "text": [
      "Hourly data for GGRM.JK has been successfully inserted into MySQL.\n"
     ]
    },
    {
     "name": "stderr",
     "output_type": "stream",
     "text": [
      "[*********************100%***********************]  1 of 1 completed\n"
     ]
    },
    {
     "name": "stdout",
     "output_type": "stream",
     "text": [
      "Hourly data for INDF.JK has been successfully inserted into MySQL.\n"
     ]
    },
    {
     "name": "stderr",
     "output_type": "stream",
     "text": [
      "[*********************100%***********************]  1 of 1 completed\n"
     ]
    },
    {
     "name": "stdout",
     "output_type": "stream",
     "text": [
      "Hourly data for ADRO.JK has been successfully inserted into MySQL.\n"
     ]
    },
    {
     "name": "stderr",
     "output_type": "stream",
     "text": [
      "[*********************100%***********************]  1 of 1 completed\n"
     ]
    },
    {
     "name": "stdout",
     "output_type": "stream",
     "text": [
      "Hourly data for ANTM.JK has been successfully inserted into MySQL.\n"
     ]
    },
    {
     "name": "stderr",
     "output_type": "stream",
     "text": [
      "[*********************100%***********************]  1 of 1 completed\n"
     ]
    },
    {
     "name": "stdout",
     "output_type": "stream",
     "text": [
      "Hourly data for BRPT.JK has been successfully inserted into MySQL.\n"
     ]
    },
    {
     "name": "stderr",
     "output_type": "stream",
     "text": [
      "[*********************100%***********************]  1 of 1 completed\n"
     ]
    },
    {
     "name": "stdout",
     "output_type": "stream",
     "text": [
      "Hourly data for CPIN.JK has been successfully inserted into MySQL.\n"
     ]
    },
    {
     "name": "stderr",
     "output_type": "stream",
     "text": [
      "[*********************100%***********************]  1 of 1 completed\n"
     ]
    },
    {
     "name": "stdout",
     "output_type": "stream",
     "text": [
      "Hourly data for ERAA.JK has been successfully inserted into MySQL.\n"
     ]
    },
    {
     "name": "stderr",
     "output_type": "stream",
     "text": [
      "[*********************100%***********************]  1 of 1 completed\n"
     ]
    },
    {
     "name": "stdout",
     "output_type": "stream",
     "text": [
      "Hourly data for EXCL.JK has been successfully inserted into MySQL.\n"
     ]
    },
    {
     "name": "stderr",
     "output_type": "stream",
     "text": [
      "[*********************100%***********************]  1 of 1 completed\n"
     ]
    },
    {
     "name": "stdout",
     "output_type": "stream",
     "text": [
      "Hourly data for HMSP.JK has been successfully inserted into MySQL.\n"
     ]
    },
    {
     "name": "stderr",
     "output_type": "stream",
     "text": [
      "[*********************100%***********************]  1 of 1 completed\n"
     ]
    },
    {
     "name": "stdout",
     "output_type": "stream",
     "text": [
      "Hourly data for JPFA.JK has been successfully inserted into MySQL.\n"
     ]
    },
    {
     "name": "stderr",
     "output_type": "stream",
     "text": [
      "[*********************100%***********************]  1 of 1 completed\n"
     ]
    },
    {
     "name": "stdout",
     "output_type": "stream",
     "text": [
      "Hourly data for JSMR.JK has been successfully inserted into MySQL.\n"
     ]
    },
    {
     "name": "stderr",
     "output_type": "stream",
     "text": [
      "[*********************100%***********************]  1 of 1 completed\n"
     ]
    },
    {
     "name": "stdout",
     "output_type": "stream",
     "text": [
      "Hourly data for KLBF.JK has been successfully inserted into MySQL.\n"
     ]
    },
    {
     "name": "stderr",
     "output_type": "stream",
     "text": [
      "[*********************100%***********************]  1 of 1 completed\n"
     ]
    },
    {
     "name": "stdout",
     "output_type": "stream",
     "text": [
      "Hourly data for LPPF.JK has been successfully inserted into MySQL.\n"
     ]
    },
    {
     "name": "stderr",
     "output_type": "stream",
     "text": [
      "[*********************100%***********************]  1 of 1 completed\n"
     ]
    },
    {
     "name": "stdout",
     "output_type": "stream",
     "text": [
      "Hourly data for MEDC.JK has been successfully inserted into MySQL.\n"
     ]
    },
    {
     "name": "stderr",
     "output_type": "stream",
     "text": [
      "[*********************100%***********************]  1 of 1 completed\n",
      "[*********************100%***********************]  1 of 1 completed"
     ]
    },
    {
     "name": "stdout",
     "output_type": "stream",
     "text": [
      "Hourly data for MNCN.JK has been successfully inserted into MySQL.\n"
     ]
    },
    {
     "name": "stderr",
     "output_type": "stream",
     "text": [
      "\n"
     ]
    },
    {
     "name": "stdout",
     "output_type": "stream",
     "text": [
      "Hourly data for PTBA.JK has been successfully inserted into MySQL.\n"
     ]
    },
    {
     "name": "stderr",
     "output_type": "stream",
     "text": [
      "[*********************100%***********************]  1 of 1 completed\n"
     ]
    },
    {
     "name": "stdout",
     "output_type": "stream",
     "text": [
      "Hourly data for SCMA.JK has been successfully inserted into MySQL.\n"
     ]
    },
    {
     "name": "stderr",
     "output_type": "stream",
     "text": [
      "[*********************100%***********************]  1 of 1 completed\n"
     ]
    },
    {
     "name": "stdout",
     "output_type": "stream",
     "text": [
      "Hourly data for SIDO.JK has been successfully inserted into MySQL.\n"
     ]
    },
    {
     "name": "stderr",
     "output_type": "stream",
     "text": [
      "[*********************100%***********************]  1 of 1 completed\n",
      "[*********************100%***********************]  1 of 1 completed"
     ]
    },
    {
     "name": "stdout",
     "output_type": "stream",
     "text": [
      "Hourly data for SMGR.JK has been successfully inserted into MySQL.\n",
      "Hourly data for SRIL.JK has been successfully inserted into MySQL.\n"
     ]
    },
    {
     "name": "stderr",
     "output_type": "stream",
     "text": [
      "\n",
      "[*********************100%***********************]  1 of 1 completed\n"
     ]
    },
    {
     "name": "stdout",
     "output_type": "stream",
     "text": [
      "Hourly data for TKIM.JK has been successfully inserted into MySQL.\n"
     ]
    },
    {
     "name": "stderr",
     "output_type": "stream",
     "text": [
      "[*********************100%***********************]  1 of 1 completed\n"
     ]
    },
    {
     "name": "stdout",
     "output_type": "stream",
     "text": [
      "Hourly data for TOWR.JK has been successfully inserted into MySQL.\n"
     ]
    },
    {
     "name": "stderr",
     "output_type": "stream",
     "text": [
      "[*********************100%***********************]  1 of 1 completed\n"
     ]
    },
    {
     "name": "stdout",
     "output_type": "stream",
     "text": [
      "Hourly data for TPIA.JK has been successfully inserted into MySQL.\n"
     ]
    },
    {
     "name": "stderr",
     "output_type": "stream",
     "text": [
      "[*********************100%***********************]  1 of 1 completed\n"
     ]
    },
    {
     "name": "stdout",
     "output_type": "stream",
     "text": [
      "Hourly data for UNTR.JK has been successfully inserted into MySQL.\n"
     ]
    },
    {
     "name": "stderr",
     "output_type": "stream",
     "text": [
      "[*********************100%***********************]  1 of 1 completed\n",
      "[*********************100%***********************]  1 of 1 completed"
     ]
    },
    {
     "name": "stdout",
     "output_type": "stream",
     "text": [
      "Hourly data for WIKA.JK has been successfully inserted into MySQL.\n",
      "Hourly data for WSKT.JK has been successfully inserted into MySQL.\n"
     ]
    },
    {
     "name": "stderr",
     "output_type": "stream",
     "text": [
      "\n",
      "[*********************100%***********************]  1 of 1 completed\n"
     ]
    },
    {
     "name": "stdout",
     "output_type": "stream",
     "text": [
      "Hourly data for WTON.JK has been successfully inserted into MySQL.\n"
     ]
    },
    {
     "name": "stderr",
     "output_type": "stream",
     "text": [
      "[*********************100%***********************]  1 of 1 completed\n"
     ]
    },
    {
     "name": "stdout",
     "output_type": "stream",
     "text": [
      "Hourly data for ACES.JK has been successfully inserted into MySQL.\n"
     ]
    },
    {
     "name": "stderr",
     "output_type": "stream",
     "text": [
      "[*********************100%***********************]  1 of 1 completed\n"
     ]
    },
    {
     "name": "stdout",
     "output_type": "stream",
     "text": [
      "Hourly data for AKRA.JK has been successfully inserted into MySQL.\n"
     ]
    },
    {
     "name": "stderr",
     "output_type": "stream",
     "text": [
      "[*********************100%***********************]  1 of 1 completed\n"
     ]
    },
    {
     "name": "stdout",
     "output_type": "stream",
     "text": [
      "Hourly data for BTPS.JK has been successfully inserted into MySQL.\n"
     ]
    },
    {
     "name": "stderr",
     "output_type": "stream",
     "text": [
      "[*********************100%***********************]  1 of 1 completed\n"
     ]
    },
    {
     "name": "stdout",
     "output_type": "stream",
     "text": [
      "Hourly data for INDY.JK has been successfully inserted into MySQL.\n"
     ]
    },
    {
     "name": "stderr",
     "output_type": "stream",
     "text": [
      "[*********************100%***********************]  1 of 1 completed\n",
      "[*********************100%***********************]  1 of 1 completed"
     ]
    },
    {
     "name": "stdout",
     "output_type": "stream",
     "text": [
      "Hourly data for ITMG.JK has been successfully inserted into MySQL.\n"
     ]
    },
    {
     "name": "stderr",
     "output_type": "stream",
     "text": [
      "\n"
     ]
    },
    {
     "name": "stdout",
     "output_type": "stream",
     "text": [
      "Hourly data for KLBF.JK has been successfully updated in MySQL.\n"
     ]
    },
    {
     "name": "stderr",
     "output_type": "stream",
     "text": [
      "[*********************100%***********************]  1 of 1 completed\n"
     ]
    },
    {
     "name": "stdout",
     "output_type": "stream",
     "text": [
      "Hourly data for MYOR.JK has been successfully inserted into MySQL.\n"
     ]
    },
    {
     "name": "stderr",
     "output_type": "stream",
     "text": [
      "[*********************100%***********************]  1 of 1 completed\n"
     ]
    },
    {
     "name": "stdout",
     "output_type": "stream",
     "text": [
      "Hourly data for PNBN.JK has been successfully inserted into MySQL.\n"
     ]
    },
    {
     "name": "stderr",
     "output_type": "stream",
     "text": [
      "[*********************100%***********************]  1 of 1 completed\n"
     ]
    },
    {
     "name": "stdout",
     "output_type": "stream",
     "text": [
      "Hourly data for PPRO.JK has been successfully inserted into MySQL.\n"
     ]
    },
    {
     "name": "stderr",
     "output_type": "stream",
     "text": [
      "[*********************100%***********************]  1 of 1 completed\n"
     ]
    },
    {
     "name": "stdout",
     "output_type": "stream",
     "text": [
      "Hourly data for SMRA.JK has been successfully inserted into MySQL.\n"
     ]
    },
    {
     "name": "stderr",
     "output_type": "stream",
     "text": [
      "[*********************100%***********************]  1 of 1 completed\n",
      "[*********************100%***********************]  1 of 1 completed"
     ]
    },
    {
     "name": "stdout",
     "output_type": "stream",
     "text": [
      "Hourly data for SSIA.JK has been successfully inserted into MySQL.\n",
      "Hourly data for TKIM.JK has been successfully updated in MySQL.\n"
     ]
    },
    {
     "name": "stderr",
     "output_type": "stream",
     "text": [
      "\n",
      "[*********************100%***********************]  1 of 1 completed\n",
      "[*********************100%***********************]  1 of 1 completed"
     ]
    },
    {
     "name": "stdout",
     "output_type": "stream",
     "text": [
      "Hourly data for TOTO.JK has been successfully inserted into MySQL.\n",
      "Hourly data for WIKA.JK has been successfully updated in MySQL.\n"
     ]
    },
    {
     "name": "stderr",
     "output_type": "stream",
     "text": [
      "\n"
     ]
    }
   ],
   "source": [
    "import yfinance as yf\n",
    "import pandas as pd\n",
    "import pymysql\n",
    "import json\n",
    "\n",
    "# MySQL connection setup\n",
    "connection = pymysql.connect(\n",
    "    host='localhost',\n",
    "    user='root',\n",
    "    password='',\n",
    "    database='harga_saham'\n",
    ")\n",
    "cursor = connection.cursor()\n",
    "\n",
    "# Create tables if they don't exist\n",
    "create_table_minute_sql = \"\"\"\n",
    "CREATE TABLE IF NOT EXISTS data_saham_minute_feb (\n",
    "    id INT AUTO_INCREMENT PRIMARY KEY,\n",
    "    Ticker VARCHAR(10),\n",
    "    Data JSON,\n",
    "    UNIQUE (Ticker)\n",
    ")\n",
    "\"\"\"\n",
    "cursor.execute(create_table_minute_sql)\n",
    "\n",
    "create_table_hour_sql = \"\"\"\n",
    "CREATE TABLE IF NOT EXISTS data_saham_hour_feb (\n",
    "    id INT AUTO_INCREMENT PRIMARY KEY,\n",
    "    Ticker VARCHAR(10),\n",
    "    Data JSON,\n",
    "    UNIQUE (Ticker)\n",
    ")\n",
    "\"\"\"\n",
    "cursor.execute(create_table_hour_sql)\n",
    "\n",
    "# Define tickers\n",
    "tickers = ['BBCA.JK', 'BMRI.JK', 'BBRI.JK', 'TLKM.JK', 'ASII.JK', 'UNVR.JK', 'ICBP.JK', \n",
    "           'PGAS.JK', 'GGRM.JK', 'INDF.JK', 'ADRO.JK', 'ANTM.JK', 'BRPT.JK', 'CPIN.JK', \n",
    "           'ERAA.JK', 'EXCL.JK', 'HMSP.JK', 'JPFA.JK', 'JSMR.JK', 'KLBF.JK', 'LPPF.JK', \n",
    "           'MEDC.JK', 'MNCN.JK', 'PTBA.JK', 'SCMA.JK', 'SIDO.JK', 'SMGR.JK', 'SRIL.JK', \n",
    "           'TKIM.JK', 'TOWR.JK', 'TPIA.JK', 'UNTR.JK', 'WIKA.JK', 'WSKT.JK', 'WTON.JK', \n",
    "           'ACES.JK', 'AKRA.JK', 'BTPS.JK', 'INDY.JK', 'ITMG.JK', 'KLBF.JK', 'MYOR.JK', \n",
    "           'PNBN.JK', 'PPRO.JK', 'SMRA.JK', 'SSIA.JK', 'TKIM.JK', 'TOTO.JK', 'WIKA.JK']\n",
    "\n",
    "# Function to fetch and store minute data\n",
    "def fetch_and_store_minute_data():\n",
    "    for ticker in tickers:\n",
    "        data = yf.download(ticker, interval='1m', period=\"5d\")  # Last 5 days for minute data\n",
    "        if not data.empty:\n",
    "            # Flatten MultiIndex columns jika ada\n",
    "            if isinstance(data.columns, pd.MultiIndex):\n",
    "                data.columns = data.columns.get_level_values(0)\n",
    "            data.index = pd.to_datetime(data.index)\n",
    "            df_new = data.reset_index()\n",
    "            df_new['Ticker'] = ticker\n",
    "\n",
    "            # Convert DataFrame to JSON for storage in MySQL\n",
    "            data_to_store = df_new[['Datetime', 'Open', 'High', 'Low', 'Close', 'Volume']].to_dict(orient='records')\n",
    "            data_json = json.dumps(data_to_store, default=str)\n",
    "\n",
    "            # Check if data for the ticker already exists\n",
    "            select_sql = \"SELECT id FROM data_saham_minute_feb WHERE Ticker = %s\"\n",
    "            cursor.execute(select_sql, (ticker,))\n",
    "            result = cursor.fetchone()\n",
    "\n",
    "            if result:\n",
    "                # Update existing record\n",
    "                update_sql = \"UPDATE data_saham_minute_feb SET Data = %s WHERE Ticker = %s\"\n",
    "                cursor.execute(update_sql, (data_json, ticker))\n",
    "                print(f\"Minute data for {ticker} has been successfully updated in MySQL.\")\n",
    "            else:\n",
    "                # Insert new record\n",
    "                insert_sql = \"INSERT INTO data_saham_minute_feb (Ticker, Data) VALUES (%s, %s)\"\n",
    "                cursor.execute(insert_sql, (ticker, data_json))\n",
    "                print(f\"Minute data for {ticker} has been successfully inserted into MySQL.\")\n",
    "        \n",
    "        connection.commit()\n",
    "\n",
    "# Function to fetch and store hourly data\n",
    "def fetch_and_store_hourly_data():\n",
    "    for ticker in tickers:\n",
    "        data = yf.download(ticker, interval='1h', period=\"1y\")  # Last year for hourly data\n",
    "        if not data.empty:\n",
    "            # Flatten MultiIndex columns jika ada\n",
    "            if isinstance(data.columns, pd.MultiIndex):\n",
    "                data.columns = data.columns.get_level_values(0)\n",
    "            data.index = pd.to_datetime(data.index)\n",
    "            df_new = data.reset_index()\n",
    "            df_new['Ticker'] = ticker\n",
    "\n",
    "            # Convert DataFrame to JSON for storage in MySQL\n",
    "            data_to_store = df_new[['Datetime', 'Open', 'High', 'Low', 'Close', 'Volume']].to_dict(orient='records')\n",
    "            data_json = json.dumps(data_to_store, default=str)\n",
    "\n",
    "            # Check if data for the ticker already exists\n",
    "            select_sql = \"SELECT id FROM data_saham_hour_feb WHERE Ticker = %s\"\n",
    "            cursor.execute(select_sql, (ticker,))\n",
    "            result = cursor.fetchone()\n",
    "\n",
    "            if result:\n",
    "                # Update existing record\n",
    "                update_sql = \"UPDATE data_saham_hour_feb SET Data = %s WHERE Ticker = %s\"\n",
    "                cursor.execute(update_sql, (data_json, ticker))\n",
    "                print(f\"Hourly data for {ticker} has been successfully updated in MySQL.\")\n",
    "            else:\n",
    "                # Insert new record\n",
    "                insert_sql = \"INSERT INTO data_saham_hour_feb (Ticker, Data) VALUES (%s, %s)\"\n",
    "                cursor.execute(insert_sql, (ticker, data_json))\n",
    "                print(f\"Hourly data for {ticker} has been successfully inserted into MySQL.\")\n",
    "        \n",
    "        connection.commit()\n",
    "\n",
    "# Run scraping once for minute and hourly data\n",
    "fetch_and_store_minute_data()  # Fetch minute data\n",
    "fetch_and_store_hourly_data()  # Fetch hourly data\n",
    "\n",
    "# Close connection\n",
    "cursor.close()\n",
    "connection.close()\n"
   ]
  },
  {
   "cell_type": "markdown",
   "metadata": {},
   "source": [
    "# GET DATA HOURLY"
   ]
  },
  {
   "cell_type": "code",
   "execution_count": 2,
   "metadata": {},
   "outputs": [
    {
     "name": "stdout",
     "output_type": "stream",
     "text": [
      "Data for BBCA.JK has been successfully retrieved from MySQL.\n",
      "Data for BMRI.JK has been successfully retrieved from MySQL.\n",
      "Data for BBRI.JK has been successfully retrieved from MySQL.\n",
      "Data for TLKM.JK has been successfully retrieved from MySQL.\n",
      "Data for ASII.JK has been successfully retrieved from MySQL.\n",
      "Data for UNVR.JK has been successfully retrieved from MySQL.\n",
      "Data for ICBP.JK has been successfully retrieved from MySQL.\n",
      "Data for PGAS.JK has been successfully retrieved from MySQL.\n",
      "Data for GGRM.JK has been successfully retrieved from MySQL.\n",
      "Data for INDF.JK has been successfully retrieved from MySQL.\n",
      "Data for ADRO.JK has been successfully retrieved from MySQL.\n",
      "Data for ANTM.JK has been successfully retrieved from MySQL.\n",
      "Data for BRPT.JK has been successfully retrieved from MySQL.\n",
      "Data for CPIN.JK has been successfully retrieved from MySQL.\n",
      "Data for ERAA.JK has been successfully retrieved from MySQL.\n",
      "Data for EXCL.JK has been successfully retrieved from MySQL.\n",
      "Data for HMSP.JK has been successfully retrieved from MySQL.\n",
      "Data for JPFA.JK has been successfully retrieved from MySQL.\n",
      "Data for JSMR.JK has been successfully retrieved from MySQL.\n",
      "Data for KLBF.JK has been successfully retrieved from MySQL.\n",
      "Data for LPPF.JK has been successfully retrieved from MySQL.\n",
      "Data for MEDC.JK has been successfully retrieved from MySQL.\n",
      "Data for MNCN.JK has been successfully retrieved from MySQL.\n",
      "Data for PTBA.JK has been successfully retrieved from MySQL.\n",
      "Data for SCMA.JK has been successfully retrieved from MySQL.\n",
      "Data for SIDO.JK has been successfully retrieved from MySQL.\n",
      "Data for SMGR.JK has been successfully retrieved from MySQL.\n",
      "Data for SRIL.JK has been successfully retrieved from MySQL.\n",
      "Data for TKIM.JK has been successfully retrieved from MySQL.\n",
      "Data for TOWR.JK has been successfully retrieved from MySQL.\n",
      "Data for TPIA.JK has been successfully retrieved from MySQL.\n",
      "Data for UNTR.JK has been successfully retrieved from MySQL.\n",
      "Data for WIKA.JK has been successfully retrieved from MySQL.\n",
      "Data for WSKT.JK has been successfully retrieved from MySQL.\n",
      "Data for WTON.JK has been successfully retrieved from MySQL.\n",
      "Data for ACES.JK has been successfully retrieved from MySQL.\n",
      "Data for AKRA.JK has been successfully retrieved from MySQL.\n",
      "Data for BTPS.JK has been successfully retrieved from MySQL.\n",
      "Data for INDY.JK has been successfully retrieved from MySQL.\n",
      "Data for ITMG.JK has been successfully retrieved from MySQL.\n",
      "Data for KLBF.JK has been successfully retrieved from MySQL.\n",
      "Data for MYOR.JK has been successfully retrieved from MySQL.\n",
      "Data for PNBN.JK has been successfully retrieved from MySQL.\n",
      "Data for PPRO.JK has been successfully retrieved from MySQL.\n",
      "Data for SMRA.JK has been successfully retrieved from MySQL.\n",
      "Data for SSIA.JK has been successfully retrieved from MySQL.\n",
      "Data for TKIM.JK has been successfully retrieved from MySQL.\n",
      "Data for TOTO.JK has been successfully retrieved from MySQL.\n",
      "Data for WIKA.JK has been successfully retrieved from MySQL.\n",
      "Data retrieval and concatenation process from 'data_saham_hour_feb' completed.\n",
      "                             Open     High     Low   Close    Volume   Ticker\n",
      "Datetime                                                                     \n",
      "2024-03-06 04:00:00+00:00  9875.0   9875.0  9850.0  9850.0         0  BBCA.JK\n",
      "2024-03-06 06:00:00+00:00  9850.0   9875.0  9850.0  9850.0   1325100  BBCA.JK\n",
      "2024-03-06 07:00:00+00:00  9850.0   9925.0  9850.0  9900.0   7205100  BBCA.JK\n",
      "2024-03-06 08:00:00+00:00  9925.0  10000.0  9900.0  9975.0  11423600  BBCA.JK\n",
      "2024-03-06 09:00:00+00:00  9950.0   9950.0  9950.0  9950.0  11078300  BBCA.JK\n"
     ]
    }
   ],
   "source": [
    "import pandas as pd\n",
    "import pymysql\n",
    "import json\n",
    "\n",
    "# MySQL connection setup\n",
    "connection = pymysql.connect(\n",
    "    host='localhost',\n",
    "    user='root',\n",
    "    password='',\n",
    "    database='harga_saham'\n",
    ")\n",
    "cursor = connection.cursor()\n",
    "\n",
    "# List of tickers\n",
    "tickers = ['BBCA.JK', 'BMRI.JK', 'BBRI.JK', 'TLKM.JK', 'ASII.JK', 'UNVR.JK', 'ICBP.JK', \n",
    "           'PGAS.JK', 'GGRM.JK', 'INDF.JK', 'ADRO.JK', 'ANTM.JK', 'BRPT.JK', 'CPIN.JK', \n",
    "           'ERAA.JK', 'EXCL.JK', 'HMSP.JK', 'JPFA.JK', 'JSMR.JK', 'KLBF.JK', 'LPPF.JK', \n",
    "           'MEDC.JK', 'MNCN.JK', 'PTBA.JK', 'SCMA.JK', 'SIDO.JK', 'SMGR.JK', 'SRIL.JK', \n",
    "           'TKIM.JK', 'TOWR.JK', 'TPIA.JK', 'UNTR.JK', 'WIKA.JK', 'WSKT.JK', 'WTON.JK', \n",
    "           'ACES.JK', 'AKRA.JK', 'BTPS.JK', 'INDY.JK', 'ITMG.JK', 'KLBF.JK', 'MYOR.JK', \n",
    "           'PNBN.JK', 'PPRO.JK', 'SMRA.JK', 'SSIA.JK', 'TKIM.JK', 'TOTO.JK', 'WIKA.JK']\n",
    "\n",
    "# Initialize an empty DataFrame to store all ticker data\n",
    "harga_saham = pd.DataFrame()\n",
    "\n",
    "# Retrieve data from MySQL and store it in harga_saham\n",
    "for ticker in tickers:\n",
    "    sql = f\"SELECT Data FROM data_saham_hour_feb WHERE Ticker = '{ticker}'\"\n",
    "    cursor.execute(sql)\n",
    "    result = cursor.fetchone()  # Fetch the JSON data\n",
    "    \n",
    "    if result:\n",
    "        # Parse JSON data into a Python list of dictionaries\n",
    "        data_saham_hour_feb = json.loads(result[0])\n",
    "        \n",
    "        # Convert the list of dictionaries into a DataFrame\n",
    "        df = pd.DataFrame(data_saham_hour_feb)\n",
    "        \n",
    "        # Ensure 'Datetime' is in datetimetime format and set it as the index\n",
    "        df['Datetime'] = pd.to_datetime(df['Datetime'])\n",
    "        df.set_index('Datetime', inplace=True)\n",
    "        \n",
    "        # Add a column for the ticker symbol\n",
    "        df['Ticker'] = ticker\n",
    "        \n",
    "        # Concatenate df to harga_saham (append the new ticker data)\n",
    "        harga_saham = pd.concat([harga_saham, df])\n",
    "        \n",
    "        print(f\"Data for {ticker} has been successfully retrieved from MySQL.\")\n",
    "    else:\n",
    "        print(f\"No data found for {ticker} in MySQL.\")\n",
    "\n",
    "# Close the connection\n",
    "cursor.close()\n",
    "connection.close()\n",
    "\n",
    "print(\"Data retrieval and concatenation process from 'data_saham_hour_feb' completed.\")\n",
    "print(harga_saham.head())  # Display the first few rows of the combined data\n"
   ]
  },
  {
   "cell_type": "code",
   "execution_count": 3,
   "metadata": {},
   "outputs": [
    {
     "data": {
      "text/html": [
       "<div>\n",
       "<style scoped>\n",
       "    .dataframe tbody tr th:only-of-type {\n",
       "        vertical-align: middle;\n",
       "    }\n",
       "\n",
       "    .dataframe tbody tr th {\n",
       "        vertical-align: top;\n",
       "    }\n",
       "\n",
       "    .dataframe thead th {\n",
       "        text-align: right;\n",
       "    }\n",
       "</style>\n",
       "<table border=\"1\" class=\"dataframe\">\n",
       "  <thead>\n",
       "    <tr style=\"text-align: right;\">\n",
       "      <th></th>\n",
       "      <th>Open</th>\n",
       "      <th>High</th>\n",
       "      <th>Low</th>\n",
       "      <th>Close</th>\n",
       "      <th>Volume</th>\n",
       "      <th>Ticker</th>\n",
       "    </tr>\n",
       "    <tr>\n",
       "      <th>Datetime</th>\n",
       "      <th></th>\n",
       "      <th></th>\n",
       "      <th></th>\n",
       "      <th></th>\n",
       "      <th></th>\n",
       "      <th></th>\n",
       "    </tr>\n",
       "  </thead>\n",
       "  <tbody>\n",
       "    <tr>\n",
       "      <th>2024-03-06 04:00:00+00:00</th>\n",
       "      <td>9875.0</td>\n",
       "      <td>9875.0</td>\n",
       "      <td>9850.0</td>\n",
       "      <td>9850.0</td>\n",
       "      <td>0</td>\n",
       "      <td>BBCA.JK</td>\n",
       "    </tr>\n",
       "    <tr>\n",
       "      <th>2024-03-06 06:00:00+00:00</th>\n",
       "      <td>9850.0</td>\n",
       "      <td>9875.0</td>\n",
       "      <td>9850.0</td>\n",
       "      <td>9850.0</td>\n",
       "      <td>1325100</td>\n",
       "      <td>BBCA.JK</td>\n",
       "    </tr>\n",
       "    <tr>\n",
       "      <th>2024-03-06 07:00:00+00:00</th>\n",
       "      <td>9850.0</td>\n",
       "      <td>9925.0</td>\n",
       "      <td>9850.0</td>\n",
       "      <td>9900.0</td>\n",
       "      <td>7205100</td>\n",
       "      <td>BBCA.JK</td>\n",
       "    </tr>\n",
       "    <tr>\n",
       "      <th>2024-03-06 08:00:00+00:00</th>\n",
       "      <td>9925.0</td>\n",
       "      <td>10000.0</td>\n",
       "      <td>9900.0</td>\n",
       "      <td>9975.0</td>\n",
       "      <td>11423600</td>\n",
       "      <td>BBCA.JK</td>\n",
       "    </tr>\n",
       "    <tr>\n",
       "      <th>2024-03-06 09:00:00+00:00</th>\n",
       "      <td>9950.0</td>\n",
       "      <td>9950.0</td>\n",
       "      <td>9950.0</td>\n",
       "      <td>9950.0</td>\n",
       "      <td>11078300</td>\n",
       "      <td>BBCA.JK</td>\n",
       "    </tr>\n",
       "    <tr>\n",
       "      <th>...</th>\n",
       "      <td>...</td>\n",
       "      <td>...</td>\n",
       "      <td>...</td>\n",
       "      <td>...</td>\n",
       "      <td>...</td>\n",
       "      <td>...</td>\n",
       "    </tr>\n",
       "    <tr>\n",
       "      <th>2025-02-17 04:00:00+00:00</th>\n",
       "      <td>202.0</td>\n",
       "      <td>206.0</td>\n",
       "      <td>200.0</td>\n",
       "      <td>204.0</td>\n",
       "      <td>3361100</td>\n",
       "      <td>WIKA.JK</td>\n",
       "    </tr>\n",
       "    <tr>\n",
       "      <th>2025-02-17 06:00:00+00:00</th>\n",
       "      <td>204.0</td>\n",
       "      <td>206.0</td>\n",
       "      <td>202.0</td>\n",
       "      <td>204.0</td>\n",
       "      <td>721900</td>\n",
       "      <td>WIKA.JK</td>\n",
       "    </tr>\n",
       "    <tr>\n",
       "      <th>2025-02-17 07:00:00+00:00</th>\n",
       "      <td>204.0</td>\n",
       "      <td>206.0</td>\n",
       "      <td>202.0</td>\n",
       "      <td>202.0</td>\n",
       "      <td>1331000</td>\n",
       "      <td>WIKA.JK</td>\n",
       "    </tr>\n",
       "    <tr>\n",
       "      <th>2025-02-17 08:00:00+00:00</th>\n",
       "      <td>202.0</td>\n",
       "      <td>204.0</td>\n",
       "      <td>200.0</td>\n",
       "      <td>204.0</td>\n",
       "      <td>2354000</td>\n",
       "      <td>WIKA.JK</td>\n",
       "    </tr>\n",
       "    <tr>\n",
       "      <th>2025-02-17 09:00:00+00:00</th>\n",
       "      <td>204.0</td>\n",
       "      <td>204.0</td>\n",
       "      <td>204.0</td>\n",
       "      <td>204.0</td>\n",
       "      <td>507700</td>\n",
       "      <td>WIKA.JK</td>\n",
       "    </tr>\n",
       "  </tbody>\n",
       "</table>\n",
       "<p>74245 rows × 6 columns</p>\n",
       "</div>"
      ],
      "text/plain": [
       "                             Open     High     Low   Close    Volume   Ticker\n",
       "Datetime                                                                     \n",
       "2024-03-06 04:00:00+00:00  9875.0   9875.0  9850.0  9850.0         0  BBCA.JK\n",
       "2024-03-06 06:00:00+00:00  9850.0   9875.0  9850.0  9850.0   1325100  BBCA.JK\n",
       "2024-03-06 07:00:00+00:00  9850.0   9925.0  9850.0  9900.0   7205100  BBCA.JK\n",
       "2024-03-06 08:00:00+00:00  9925.0  10000.0  9900.0  9975.0  11423600  BBCA.JK\n",
       "2024-03-06 09:00:00+00:00  9950.0   9950.0  9950.0  9950.0  11078300  BBCA.JK\n",
       "...                           ...      ...     ...     ...       ...      ...\n",
       "2025-02-17 04:00:00+00:00   202.0    206.0   200.0   204.0   3361100  WIKA.JK\n",
       "2025-02-17 06:00:00+00:00   204.0    206.0   202.0   204.0    721900  WIKA.JK\n",
       "2025-02-17 07:00:00+00:00   204.0    206.0   202.0   202.0   1331000  WIKA.JK\n",
       "2025-02-17 08:00:00+00:00   202.0    204.0   200.0   204.0   2354000  WIKA.JK\n",
       "2025-02-17 09:00:00+00:00   204.0    204.0   204.0   204.0    507700  WIKA.JK\n",
       "\n",
       "[74245 rows x 6 columns]"
      ]
     },
     "execution_count": 3,
     "metadata": {},
     "output_type": "execute_result"
    }
   ],
   "source": [
    "harga_saham"
   ]
  },
  {
   "cell_type": "markdown",
   "metadata": {},
   "source": [
    "# UPDATE ALL DATA DAILY"
   ]
  },
  {
   "cell_type": "code",
   "execution_count": 1,
   "metadata": {},
   "outputs": [
    {
     "name": "stdout",
     "output_type": "stream",
     "text": [
      "YF.download() has changed argument auto_adjust default to True\n"
     ]
    },
    {
     "name": "stderr",
     "output_type": "stream",
     "text": [
      "[*********************100%***********************]  1 of 1 completed\n",
      "[*********************100%***********************]  1 of 1 completed\n",
      "[*********************100%***********************]  1 of 1 completed\n",
      "[*********************100%***********************]  1 of 1 completed\n",
      "[*********************100%***********************]  1 of 1 completed\n",
      "[*********************100%***********************]  1 of 1 completed\n",
      "[*********************100%***********************]  1 of 1 completed\n",
      "[*********************100%***********************]  1 of 1 completed\n",
      "[*********************100%***********************]  1 of 1 completed\n",
      "[*********************100%***********************]  1 of 1 completed\n",
      "[*********************100%***********************]  1 of 1 completed\n",
      "[*********************100%***********************]  1 of 1 completed\n",
      "[*********************100%***********************]  1 of 1 completed\n",
      "[*********************100%***********************]  1 of 1 completed\n",
      "[*********************100%***********************]  1 of 1 completed\n",
      "[*********************100%***********************]  1 of 1 completed\n",
      "[*********************100%***********************]  1 of 1 completed\n",
      "[*********************100%***********************]  1 of 1 completed\n",
      "[*********************100%***********************]  1 of 1 completed\n",
      "[*********************100%***********************]  1 of 1 completed\n",
      "[*********************100%***********************]  1 of 1 completed\n",
      "[*********************100%***********************]  1 of 1 completed\n",
      "[*********************100%***********************]  1 of 1 completed\n",
      "[*********************100%***********************]  1 of 1 completed\n",
      "[*********************100%***********************]  1 of 1 completed\n",
      "[*********************100%***********************]  1 of 1 completed\n",
      "[*********************100%***********************]  1 of 1 completed\n",
      "[*********************100%***********************]  1 of 1 completed\n",
      "[*********************100%***********************]  1 of 1 completed\n",
      "[*********************100%***********************]  1 of 1 completed\n",
      "[*********************100%***********************]  1 of 1 completed\n",
      "[*********************100%***********************]  1 of 1 completed\n",
      "[*********************100%***********************]  1 of 1 completed\n",
      "[*********************100%***********************]  1 of 1 completed\n",
      "[*********************100%***********************]  1 of 1 completed\n",
      "[*********************100%***********************]  1 of 1 completed\n",
      "[*********************100%***********************]  1 of 1 completed\n",
      "[*********************100%***********************]  1 of 1 completed\n",
      "[*********************100%***********************]  1 of 1 completed\n",
      "[*********************100%***********************]  1 of 1 completed\n",
      "[*********************100%***********************]  1 of 1 completed\n",
      "[*********************100%***********************]  1 of 1 completed\n",
      "[*********************100%***********************]  1 of 1 completed\n",
      "[*********************100%***********************]  1 of 1 completed\n",
      "[*********************100%***********************]  1 of 1 completed\n",
      "[*********************100%***********************]  1 of 1 completed\n",
      "[*********************100%***********************]  1 of 1 completed\n",
      "[*********************100%***********************]  1 of 1 completed\n",
      "[*********************100%***********************]  1 of 1 completed\n",
      "[*********************100%***********************]  1 of 1 completed\n",
      "[*********************100%***********************]  1 of 1 completed\n",
      "[*********************100%***********************]  1 of 1 completed\n",
      "[*********************100%***********************]  1 of 1 completed\n",
      "[*********************100%***********************]  1 of 1 completed\n",
      "[*********************100%***********************]  1 of 1 completed\n",
      "[*********************100%***********************]  1 of 1 completed\n",
      "[*********************100%***********************]  1 of 1 completed\n",
      "[*********************100%***********************]  1 of 1 completed\n",
      "[*********************100%***********************]  1 of 1 completed\n",
      "[*********************100%***********************]  1 of 1 completed\n",
      "[*********************100%***********************]  1 of 1 completed\n",
      "[*********************100%***********************]  1 of 1 completed\n",
      "[*********************100%***********************]  1 of 1 completed\n",
      "[*********************100%***********************]  1 of 1 completed\n",
      "[*********************100%***********************]  1 of 1 completed\n",
      "[*********************100%***********************]  1 of 1 completed\n",
      "[*********************100%***********************]  1 of 1 completed\n",
      "[*********************100%***********************]  1 of 1 completed\n",
      "[*********************100%***********************]  1 of 1 completed\n",
      "[*********************100%***********************]  1 of 1 completed\n",
      "[*********************100%***********************]  1 of 1 completed\n",
      "[*********************100%***********************]  1 of 1 completed\n",
      "[*********************100%***********************]  1 of 1 completed\n",
      "[*********************100%***********************]  1 of 1 completed\n",
      "[*********************100%***********************]  1 of 1 completed\n",
      "[*********************100%***********************]  1 of 1 completed\n",
      "[*********************100%***********************]  1 of 1 completed\n",
      "[*********************100%***********************]  1 of 1 completed\n",
      "[*********************100%***********************]  1 of 1 completed\n",
      "[*********************100%***********************]  1 of 1 completed\n",
      "[*********************100%***********************]  1 of 1 completed\n",
      "[*********************100%***********************]  1 of 1 completed\n",
      "[*********************100%***********************]  1 of 1 completed\n",
      "[*********************100%***********************]  1 of 1 completed\n",
      "[*********************100%***********************]  1 of 1 completed\n",
      "[*********************100%***********************]  1 of 1 completed\n",
      "[*********************100%***********************]  1 of 1 completed\n",
      "[*********************100%***********************]  1 of 1 completed\n",
      "[*********************100%***********************]  1 of 1 completed\n",
      "[*********************100%***********************]  1 of 1 completed\n",
      "[*********************100%***********************]  1 of 1 completed\n",
      "[*********************100%***********************]  1 of 1 completed\n",
      "[*********************100%***********************]  1 of 1 completed\n",
      "[*********************100%***********************]  1 of 1 completed\n",
      "[*********************100%***********************]  1 of 1 completed\n",
      "[*********************100%***********************]  1 of 1 completed\n",
      "[*********************100%***********************]  1 of 1 completed\n",
      "[*********************100%***********************]  1 of 1 completed\n",
      "[*********************100%***********************]  1 of 1 completed\n",
      "[*********************100%***********************]  1 of 1 completed\n",
      "[*********************100%***********************]  1 of 1 completed\n",
      "[*********************100%***********************]  1 of 1 completed\n",
      "[*********************100%***********************]  1 of 1 completed\n",
      "[*********************100%***********************]  1 of 1 completed\n",
      "[*********************100%***********************]  1 of 1 completed\n",
      "[*********************100%***********************]  1 of 1 completed\n",
      "[*********************100%***********************]  1 of 1 completed\n",
      "[*********************100%***********************]  1 of 1 completed\n",
      "[*********************100%***********************]  1 of 1 completed\n",
      "[*********************100%***********************]  1 of 1 completed\n",
      "[*********************100%***********************]  1 of 1 completed\n",
      "[*********************100%***********************]  1 of 1 completed\n",
      "[*********************100%***********************]  1 of 1 completed\n",
      "[*********************100%***********************]  1 of 1 completed\n",
      "[*********************100%***********************]  1 of 1 completed\n",
      "[*********************100%***********************]  1 of 1 completed\n",
      "[*********************100%***********************]  1 of 1 completed\n",
      "[*********************100%***********************]  1 of 1 completed\n",
      "[*********************100%***********************]  1 of 1 completed\n",
      "[*********************100%***********************]  1 of 1 completed\n",
      "[*********************100%***********************]  1 of 1 completed\n",
      "[*********************100%***********************]  1 of 1 completed\n",
      "[*********************100%***********************]  1 of 1 completed\n",
      "[*********************100%***********************]  1 of 1 completed\n",
      "[*********************100%***********************]  1 of 1 completed\n",
      "[*********************100%***********************]  1 of 1 completed\n",
      "[*********************100%***********************]  1 of 1 completed\n",
      "[*********************100%***********************]  1 of 1 completed\n",
      "[*********************100%***********************]  1 of 1 completed\n",
      "[*********************100%***********************]  1 of 1 completed\n",
      "[*********************100%***********************]  1 of 1 completed\n",
      "[*********************100%***********************]  1 of 1 completed\n",
      "[*********************100%***********************]  1 of 1 completed\n",
      "[*********************100%***********************]  1 of 1 completed\n",
      "[*********************100%***********************]  1 of 1 completed\n",
      "[*********************100%***********************]  1 of 1 completed\n",
      "[*********************100%***********************]  1 of 1 completed\n",
      "[*********************100%***********************]  1 of 1 completed\n",
      "[*********************100%***********************]  1 of 1 completed\n",
      "[*********************100%***********************]  1 of 1 completed\n",
      "[*********************100%***********************]  1 of 1 completed\n",
      "[*********************100%***********************]  1 of 1 completed\n",
      "[*********************100%***********************]  1 of 1 completed\n",
      "[*********************100%***********************]  1 of 1 completed\n",
      "[*********************100%***********************]  1 of 1 completed\n",
      "[*********************100%***********************]  1 of 1 completed\n",
      "[*********************100%***********************]  1 of 1 completed\n",
      "[*********************100%***********************]  1 of 1 completed\n",
      "[*********************100%***********************]  1 of 1 completed\n",
      "[*********************100%***********************]  1 of 1 completed\n",
      "[*********************100%***********************]  1 of 1 completed\n",
      "[*********************100%***********************]  1 of 1 completed\n",
      "[*********************100%***********************]  1 of 1 completed\n",
      "[*********************100%***********************]  1 of 1 completed\n",
      "[*********************100%***********************]  1 of 1 completed\n",
      "[*********************100%***********************]  1 of 1 completed\n",
      "[*********************100%***********************]  1 of 1 completed\n",
      "[*********************100%***********************]  1 of 1 completed\n",
      "[*********************100%***********************]  1 of 1 completed\n",
      "[*********************100%***********************]  1 of 1 completed\n",
      "[*********************100%***********************]  1 of 1 completed\n",
      "[*********************100%***********************]  1 of 1 completed\n",
      "[*********************100%***********************]  1 of 1 completed\n",
      "[*********************100%***********************]  1 of 1 completed\n",
      "[*********************100%***********************]  1 of 1 completed\n",
      "[*********************100%***********************]  1 of 1 completed\n",
      "[*********************100%***********************]  1 of 1 completed\n",
      "[*********************100%***********************]  1 of 1 completed\n",
      "[*********************100%***********************]  1 of 1 completed\n",
      "[*********************100%***********************]  1 of 1 completed\n",
      "[*********************100%***********************]  1 of 1 completed\n",
      "[*********************100%***********************]  1 of 1 completed\n",
      "[*********************100%***********************]  1 of 1 completed\n",
      "[*********************100%***********************]  1 of 1 completed\n",
      "[*********************100%***********************]  1 of 1 completed\n",
      "[*********************100%***********************]  1 of 1 completed\n",
      "[*********************100%***********************]  1 of 1 completed\n",
      "[*********************100%***********************]  1 of 1 completed\n",
      "[*********************100%***********************]  1 of 1 completed\n",
      "[*********************100%***********************]  1 of 1 completed\n",
      "[*********************100%***********************]  1 of 1 completed\n",
      "[*********************100%***********************]  1 of 1 completed\n",
      "[*********************100%***********************]  1 of 1 completed\n",
      "[*********************100%***********************]  1 of 1 completed\n",
      "[*********************100%***********************]  1 of 1 completed\n",
      "[*********************100%***********************]  1 of 1 completed\n",
      "[*********************100%***********************]  1 of 1 completed\n",
      "[*********************100%***********************]  1 of 1 completed\n",
      "[*********************100%***********************]  1 of 1 completed\n",
      "[*********************100%***********************]  1 of 1 completed\n",
      "[*********************100%***********************]  1 of 1 completed\n",
      "[*********************100%***********************]  1 of 1 completed\n",
      "[*********************100%***********************]  1 of 1 completed\n",
      "[*********************100%***********************]  1 of 1 completed\n",
      "[*********************100%***********************]  1 of 1 completed\n",
      "[*********************100%***********************]  1 of 1 completed\n",
      "[*********************100%***********************]  1 of 1 completed\n",
      "[*********************100%***********************]  1 of 1 completed\n",
      "[*********************100%***********************]  1 of 1 completed\n",
      "[*********************100%***********************]  1 of 1 completed\n",
      "[*********************100%***********************]  1 of 1 completed\n",
      "[*********************100%***********************]  1 of 1 completed\n",
      "[*********************100%***********************]  1 of 1 completed\n",
      "[*********************100%***********************]  1 of 1 completed\n",
      "[*********************100%***********************]  1 of 1 completed\n",
      "[*********************100%***********************]  1 of 1 completed\n",
      "[*********************100%***********************]  1 of 1 completed\n",
      "[*********************100%***********************]  1 of 1 completed\n",
      "[*********************100%***********************]  1 of 1 completed\n",
      "[*********************100%***********************]  1 of 1 completed\n",
      "[*********************100%***********************]  1 of 1 completed\n",
      "[*********************100%***********************]  1 of 1 completed\n",
      "[*********************100%***********************]  1 of 1 completed\n",
      "[*********************100%***********************]  1 of 1 completed\n",
      "[*********************100%***********************]  1 of 1 completed\n",
      "[*********************100%***********************]  1 of 1 completed\n",
      "[*********************100%***********************]  1 of 1 completed\n",
      "[*********************100%***********************]  1 of 1 completed\n",
      "[*********************100%***********************]  1 of 1 completed\n",
      "[*********************100%***********************]  1 of 1 completed\n",
      "[*********************100%***********************]  1 of 1 completed\n",
      "[*********************100%***********************]  1 of 1 completed\n",
      "[*********************100%***********************]  1 of 1 completed\n",
      "[*********************100%***********************]  1 of 1 completed\n",
      "[*********************100%***********************]  1 of 1 completed\n",
      "[*********************100%***********************]  1 of 1 completed\n",
      "[*********************100%***********************]  1 of 1 completed\n",
      "[*********************100%***********************]  1 of 1 completed\n",
      "[*********************100%***********************]  1 of 1 completed\n",
      "[*********************100%***********************]  1 of 1 completed\n",
      "[*********************100%***********************]  1 of 1 completed\n",
      "[*********************100%***********************]  1 of 1 completed\n",
      "[*********************100%***********************]  1 of 1 completed\n",
      "[*********************100%***********************]  1 of 1 completed\n",
      "[*********************100%***********************]  1 of 1 completed\n",
      "[*********************100%***********************]  1 of 1 completed\n",
      "[*********************100%***********************]  1 of 1 completed\n",
      "[*********************100%***********************]  1 of 1 completed\n",
      "[*********************100%***********************]  1 of 1 completed\n",
      "[*********************100%***********************]  1 of 1 completed\n",
      "[*********************100%***********************]  1 of 1 completed\n",
      "[*********************100%***********************]  1 of 1 completed\n",
      "[*********************100%***********************]  1 of 1 completed\n",
      "[*********************100%***********************]  1 of 1 completed\n",
      "[*********************100%***********************]  1 of 1 completed\n",
      "[*********************100%***********************]  1 of 1 completed\n",
      "[*********************100%***********************]  1 of 1 completed\n",
      "[*********************100%***********************]  1 of 1 completed\n",
      "[*********************100%***********************]  1 of 1 completed\n",
      "[*********************100%***********************]  1 of 1 completed\n",
      "[*********************100%***********************]  1 of 1 completed\n",
      "[*********************100%***********************]  1 of 1 completed\n",
      "[*********************100%***********************]  1 of 1 completed\n",
      "[*********************100%***********************]  1 of 1 completed\n",
      "[*********************100%***********************]  1 of 1 completed\n",
      "[*********************100%***********************]  1 of 1 completed\n",
      "[*********************100%***********************]  1 of 1 completed\n",
      "[*********************100%***********************]  1 of 1 completed\n",
      "[*********************100%***********************]  1 of 1 completed\n",
      "[*********************100%***********************]  1 of 1 completed\n",
      "[*********************100%***********************]  1 of 1 completed\n",
      "[*********************100%***********************]  1 of 1 completed\n",
      "[*********************100%***********************]  1 of 1 completed\n",
      "[*********************100%***********************]  1 of 1 completed\n",
      "[*********************100%***********************]  1 of 1 completed\n",
      "[*********************100%***********************]  1 of 1 completed\n",
      "[*********************100%***********************]  1 of 1 completed\n",
      "[*********************100%***********************]  1 of 1 completed\n",
      "[*********************100%***********************]  1 of 1 completed\n",
      "[*********************100%***********************]  1 of 1 completed\n",
      "[*********************100%***********************]  1 of 1 completed\n",
      "[*********************100%***********************]  1 of 1 completed\n",
      "[*********************100%***********************]  1 of 1 completed\n",
      "[*********************100%***********************]  1 of 1 completed\n",
      "[*********************100%***********************]  1 of 1 completed\n",
      "[*********************100%***********************]  1 of 1 completed\n",
      "[*********************100%***********************]  1 of 1 completed\n",
      "[*********************100%***********************]  1 of 1 completed\n",
      "[*********************100%***********************]  1 of 1 completed\n",
      "[*********************100%***********************]  1 of 1 completed\n",
      "[*********************100%***********************]  1 of 1 completed\n",
      "[*********************100%***********************]  1 of 1 completed\n",
      "[*********************100%***********************]  1 of 1 completed\n",
      "[*********************100%***********************]  1 of 1 completed\n",
      "[*********************100%***********************]  1 of 1 completed\n",
      "[*********************100%***********************]  1 of 1 completed\n",
      "[*********************100%***********************]  1 of 1 completed\n",
      "[*********************100%***********************]  1 of 1 completed\n",
      "[*********************100%***********************]  1 of 1 completed\n",
      "[*********************100%***********************]  1 of 1 completed\n",
      "[*********************100%***********************]  1 of 1 completed\n",
      "[*********************100%***********************]  1 of 1 completed\n",
      "[*********************100%***********************]  1 of 1 completed\n",
      "[*********************100%***********************]  1 of 1 completed\n",
      "[*********************100%***********************]  1 of 1 completed\n",
      "[*********************100%***********************]  1 of 1 completed\n",
      "[*********************100%***********************]  1 of 1 completed\n",
      "[*********************100%***********************]  1 of 1 completed\n",
      "[*********************100%***********************]  1 of 1 completed\n",
      "[*********************100%***********************]  1 of 1 completed\n",
      "[*********************100%***********************]  1 of 1 completed\n",
      "[*********************100%***********************]  1 of 1 completed\n",
      "[*********************100%***********************]  1 of 1 completed\n",
      "[*********************100%***********************]  1 of 1 completed\n",
      "[*********************100%***********************]  1 of 1 completed\n",
      "[*********************100%***********************]  1 of 1 completed\n",
      "[*********************100%***********************]  1 of 1 completed\n",
      "[*********************100%***********************]  1 of 1 completed\n",
      "[*********************100%***********************]  1 of 1 completed\n",
      "[*********************100%***********************]  1 of 1 completed\n",
      "[*********************100%***********************]  1 of 1 completed\n",
      "[*********************100%***********************]  1 of 1 completed\n",
      "[*********************100%***********************]  1 of 1 completed\n",
      "[*********************100%***********************]  1 of 1 completed\n",
      "[*********************100%***********************]  1 of 1 completed\n",
      "[*********************100%***********************]  1 of 1 completed\n",
      "[*********************100%***********************]  1 of 1 completed\n",
      "[*********************100%***********************]  1 of 1 completed\n",
      "[*********************100%***********************]  1 of 1 completed\n",
      "[*********************100%***********************]  1 of 1 completed\n",
      "[*********************100%***********************]  1 of 1 completed\n",
      "[*********************100%***********************]  1 of 1 completed\n",
      "[*********************100%***********************]  1 of 1 completed\n",
      "[*********************100%***********************]  1 of 1 completed\n",
      "[*********************100%***********************]  1 of 1 completed\n",
      "[*********************100%***********************]  1 of 1 completed\n",
      "[*********************100%***********************]  1 of 1 completed\n",
      "[*********************100%***********************]  1 of 1 completed\n",
      "[*********************100%***********************]  1 of 1 completed\n",
      "[*********************100%***********************]  1 of 1 completed\n",
      "[*********************100%***********************]  1 of 1 completed\n",
      "[*********************100%***********************]  1 of 1 completed\n",
      "[*********************100%***********************]  1 of 1 completed\n",
      "[*********************100%***********************]  1 of 1 completed\n",
      "[*********************100%***********************]  1 of 1 completed\n",
      "[*********************100%***********************]  1 of 1 completed\n",
      "[*********************100%***********************]  1 of 1 completed\n",
      "[*********************100%***********************]  1 of 1 completed\n",
      "[*********************100%***********************]  1 of 1 completed\n",
      "[*********************100%***********************]  1 of 1 completed\n",
      "[*********************100%***********************]  1 of 1 completed\n",
      "[*********************100%***********************]  1 of 1 completed\n",
      "[*********************100%***********************]  1 of 1 completed\n",
      "[*********************100%***********************]  1 of 1 completed\n",
      "[*********************100%***********************]  1 of 1 completed\n",
      "[*********************100%***********************]  1 of 1 completed\n",
      "[*********************100%***********************]  1 of 1 completed\n",
      "[*********************100%***********************]  1 of 1 completed\n",
      "[*********************100%***********************]  1 of 1 completed\n",
      "[*********************100%***********************]  1 of 1 completed\n",
      "[*********************100%***********************]  1 of 1 completed\n",
      "[*********************100%***********************]  1 of 1 completed\n",
      "[*********************100%***********************]  1 of 1 completed\n",
      "[*********************100%***********************]  1 of 1 completed\n",
      "[*********************100%***********************]  1 of 1 completed\n",
      "[*********************100%***********************]  1 of 1 completed\n",
      "[*********************100%***********************]  1 of 1 completed\n",
      "[*********************100%***********************]  1 of 1 completed\n",
      "[*********************100%***********************]  1 of 1 completed\n",
      "[*********************100%***********************]  1 of 1 completed\n",
      "[*********************100%***********************]  1 of 1 completed\n",
      "[*********************100%***********************]  1 of 1 completed\n",
      "[*********************100%***********************]  1 of 1 completed\n",
      "[*********************100%***********************]  1 of 1 completed\n",
      "[*********************100%***********************]  1 of 1 completed\n",
      "[*********************100%***********************]  1 of 1 completed\n",
      "[*********************100%***********************]  1 of 1 completed\n",
      "[*********************100%***********************]  1 of 1 completed\n",
      "[*********************100%***********************]  1 of 1 completed\n",
      "[*********************100%***********************]  1 of 1 completed\n",
      "[*********************100%***********************]  1 of 1 completed\n",
      "[*********************100%***********************]  1 of 1 completed\n",
      "[*********************100%***********************]  1 of 1 completed\n",
      "[*********************100%***********************]  1 of 1 completed\n",
      "[*********************100%***********************]  1 of 1 completed\n",
      "[*********************100%***********************]  1 of 1 completed\n",
      "[*********************100%***********************]  1 of 1 completed\n",
      "[*********************100%***********************]  1 of 1 completed\n",
      "[*********************100%***********************]  1 of 1 completed\n",
      "[*********************100%***********************]  1 of 1 completed\n",
      "[*********************100%***********************]  1 of 1 completed\n",
      "[*********************100%***********************]  1 of 1 completed\n",
      "[*********************100%***********************]  1 of 1 completed\n",
      "[*********************100%***********************]  1 of 1 completed\n",
      "[*********************100%***********************]  1 of 1 completed\n",
      "[*********************100%***********************]  1 of 1 completed\n",
      "[*********************100%***********************]  1 of 1 completed\n",
      "[*********************100%***********************]  1 of 1 completed\n",
      "[*********************100%***********************]  1 of 1 completed\n",
      "[*********************100%***********************]  1 of 1 completed\n",
      "[*********************100%***********************]  1 of 1 completed\n",
      "[*********************100%***********************]  1 of 1 completed\n",
      "[*********************100%***********************]  1 of 1 completed\n",
      "[*********************100%***********************]  1 of 1 completed\n",
      "[*********************100%***********************]  1 of 1 completed\n",
      "[*********************100%***********************]  1 of 1 completed\n",
      "[*********************100%***********************]  1 of 1 completed\n",
      "[*********************100%***********************]  1 of 1 completed\n",
      "[*********************100%***********************]  1 of 1 completed\n",
      "[*********************100%***********************]  1 of 1 completed\n",
      "[*********************100%***********************]  1 of 1 completed\n",
      "[*********************100%***********************]  1 of 1 completed\n",
      "[*********************100%***********************]  1 of 1 completed\n",
      "[*********************100%***********************]  1 of 1 completed\n",
      "[*********************100%***********************]  1 of 1 completed\n",
      "[*********************100%***********************]  1 of 1 completed\n",
      "[*********************100%***********************]  1 of 1 completed\n",
      "[*********************100%***********************]  1 of 1 completed\n",
      "[*********************100%***********************]  1 of 1 completed\n",
      "[*********************100%***********************]  1 of 1 completed\n",
      "[*********************100%***********************]  1 of 1 completed\n",
      "[*********************100%***********************]  1 of 1 completed\n",
      "[*********************100%***********************]  1 of 1 completed\n",
      "[*********************100%***********************]  1 of 1 completed\n",
      "[*********************100%***********************]  1 of 1 completed\n",
      "[*********************100%***********************]  1 of 1 completed\n",
      "[*********************100%***********************]  1 of 1 completed\n",
      "[*********************100%***********************]  1 of 1 completed\n",
      "[*********************100%***********************]  1 of 1 completed\n",
      "[*********************100%***********************]  1 of 1 completed\n",
      "[*********************100%***********************]  1 of 1 completed\n",
      "[*********************100%***********************]  1 of 1 completed\n",
      "[*********************100%***********************]  1 of 1 completed\n",
      "[*********************100%***********************]  1 of 1 completed\n",
      "[*********************100%***********************]  1 of 1 completed\n",
      "[*********************100%***********************]  1 of 1 completed\n",
      "[*********************100%***********************]  1 of 1 completed\n",
      "[*********************100%***********************]  1 of 1 completed\n",
      "[*********************100%***********************]  1 of 1 completed\n",
      "[*********************100%***********************]  1 of 1 completed\n",
      "[*********************100%***********************]  1 of 1 completed\n",
      "[*********************100%***********************]  1 of 1 completed\n",
      "[*********************100%***********************]  1 of 1 completed\n",
      "[*********************100%***********************]  1 of 1 completed\n",
      "[*********************100%***********************]  1 of 1 completed\n",
      "[*********************100%***********************]  1 of 1 completed\n",
      "[*********************100%***********************]  1 of 1 completed\n",
      "[*********************100%***********************]  1 of 1 completed\n",
      "[*********************100%***********************]  1 of 1 completed\n",
      "[*********************100%***********************]  1 of 1 completed\n",
      "[*********************100%***********************]  1 of 1 completed\n",
      "[*********************100%***********************]  1 of 1 completed\n",
      "[*********************100%***********************]  1 of 1 completed\n",
      "[*********************100%***********************]  1 of 1 completed\n",
      "[*********************100%***********************]  1 of 1 completed\n",
      "[*********************100%***********************]  1 of 1 completed\n",
      "[*********************100%***********************]  1 of 1 completed\n",
      "[*********************100%***********************]  1 of 1 completed\n",
      "[*********************100%***********************]  1 of 1 completed\n",
      "[*********************100%***********************]  1 of 1 completed\n",
      "[*********************100%***********************]  1 of 1 completed\n",
      "[*********************100%***********************]  1 of 1 completed\n",
      "[*********************100%***********************]  1 of 1 completed\n",
      "[*********************100%***********************]  1 of 1 completed\n",
      "[*********************100%***********************]  1 of 1 completed\n",
      "[*********************100%***********************]  1 of 1 completed\n",
      "[*********************100%***********************]  1 of 1 completed\n",
      "[*********************100%***********************]  1 of 1 completed\n",
      "[*********************100%***********************]  1 of 1 completed\n",
      "[*********************100%***********************]  1 of 1 completed\n",
      "[*********************100%***********************]  1 of 1 completed\n",
      "[*********************100%***********************]  1 of 1 completed\n",
      "[*********************100%***********************]  1 of 1 completed\n",
      "[*********************100%***********************]  1 of 1 completed\n",
      "[*********************100%***********************]  1 of 1 completed\n",
      "[*********************100%***********************]  1 of 1 completed\n",
      "[*********************100%***********************]  1 of 1 completed\n",
      "[*********************100%***********************]  1 of 1 completed\n",
      "[*********************100%***********************]  1 of 1 completed\n",
      "[*********************100%***********************]  1 of 1 completed\n",
      "[*********************100%***********************]  1 of 1 completed\n",
      "[*********************100%***********************]  1 of 1 completed\n",
      "[*********************100%***********************]  1 of 1 completed\n",
      "[*********************100%***********************]  1 of 1 completed\n",
      "[*********************100%***********************]  1 of 1 completed\n",
      "[*********************100%***********************]  1 of 1 completed\n",
      "[*********************100%***********************]  1 of 1 completed\n",
      "[*********************100%***********************]  1 of 1 completed\n",
      "[*********************100%***********************]  1 of 1 completed\n",
      "[*********************100%***********************]  1 of 1 completed\n",
      "[*********************100%***********************]  1 of 1 completed\n",
      "[*********************100%***********************]  1 of 1 completed\n",
      "[*********************100%***********************]  1 of 1 completed\n",
      "[*********************100%***********************]  1 of 1 completed\n",
      "[*********************100%***********************]  1 of 1 completed\n",
      "[*********************100%***********************]  1 of 1 completed\n",
      "[*********************100%***********************]  1 of 1 completed\n",
      "[*********************100%***********************]  1 of 1 completed\n",
      "[*********************100%***********************]  1 of 1 completed\n",
      "[*********************100%***********************]  1 of 1 completed\n",
      "[*********************100%***********************]  1 of 1 completed\n",
      "[*********************100%***********************]  1 of 1 completed\n",
      "[*********************100%***********************]  1 of 1 completed\n",
      "[*********************100%***********************]  1 of 1 completed\n",
      "[*********************100%***********************]  1 of 1 completed\n",
      "[*********************100%***********************]  1 of 1 completed\n",
      "[*********************100%***********************]  1 of 1 completed\n",
      "[*********************100%***********************]  1 of 1 completed\n",
      "[*********************100%***********************]  1 of 1 completed\n",
      "[*********************100%***********************]  1 of 1 completed\n",
      "[*********************100%***********************]  1 of 1 completed\n",
      "[*********************100%***********************]  1 of 1 completed\n",
      "[*********************100%***********************]  1 of 1 completed\n",
      "[*********************100%***********************]  1 of 1 completed\n",
      "[*********************100%***********************]  1 of 1 completed\n",
      "[*********************100%***********************]  1 of 1 completed\n",
      "[*********************100%***********************]  1 of 1 completed\n",
      "[*********************100%***********************]  1 of 1 completed\n",
      "[*********************100%***********************]  1 of 1 completed\n",
      "[*********************100%***********************]  1 of 1 completed\n",
      "[*********************100%***********************]  1 of 1 completed\n",
      "[*********************100%***********************]  1 of 1 completed\n",
      "[*********************100%***********************]  1 of 1 completed\n",
      "[*********************100%***********************]  1 of 1 completed\n",
      "[*********************100%***********************]  1 of 1 completed\n",
      "[*********************100%***********************]  1 of 1 completed\n",
      "[*********************100%***********************]  1 of 1 completed\n",
      "[*********************100%***********************]  1 of 1 completed\n",
      "[*********************100%***********************]  1 of 1 completed\n",
      "[*********************100%***********************]  1 of 1 completed\n",
      "[*********************100%***********************]  1 of 1 completed\n",
      "[*********************100%***********************]  1 of 1 completed\n",
      "[*********************100%***********************]  1 of 1 completed\n",
      "[*********************100%***********************]  1 of 1 completed\n",
      "[*********************100%***********************]  1 of 1 completed\n",
      "[*********************100%***********************]  1 of 1 completed\n",
      "[*********************100%***********************]  1 of 1 completed\n",
      "[*********************100%***********************]  1 of 1 completed\n",
      "[*********************100%***********************]  1 of 1 completed\n",
      "[*********************100%***********************]  1 of 1 completed\n",
      "[*********************100%***********************]  1 of 1 completed\n",
      "[*********************100%***********************]  1 of 1 completed\n",
      "[*********************100%***********************]  1 of 1 completed\n",
      "[*********************100%***********************]  1 of 1 completed\n",
      "[*********************100%***********************]  1 of 1 completed\n",
      "[*********************100%***********************]  1 of 1 completed\n",
      "[*********************100%***********************]  1 of 1 completed\n",
      "[*********************100%***********************]  1 of 1 completed\n",
      "[*********************100%***********************]  1 of 1 completed\n",
      "[*********************100%***********************]  1 of 1 completed\n",
      "[*********************100%***********************]  1 of 1 completed\n",
      "[*********************100%***********************]  1 of 1 completed\n",
      "[*********************100%***********************]  1 of 1 completed\n",
      "[*********************100%***********************]  1 of 1 completed\n",
      "[*********************100%***********************]  1 of 1 completed\n",
      "[*********************100%***********************]  1 of 1 completed\n",
      "[*********************100%***********************]  1 of 1 completed\n",
      "[*********************100%***********************]  1 of 1 completed\n",
      "[*********************100%***********************]  1 of 1 completed\n",
      "[*********************100%***********************]  1 of 1 completed\n",
      "[*********************100%***********************]  1 of 1 completed\n",
      "[*********************100%***********************]  1 of 1 completed\n",
      "[*********************100%***********************]  1 of 1 completed\n",
      "[*********************100%***********************]  1 of 1 completed\n",
      "[*********************100%***********************]  1 of 1 completed\n",
      "[*********************100%***********************]  1 of 1 completed\n",
      "[*********************100%***********************]  1 of 1 completed\n",
      "[*********************100%***********************]  1 of 1 completed\n",
      "[*********************100%***********************]  1 of 1 completed\n",
      "[*********************100%***********************]  1 of 1 completed\n",
      "[*********************100%***********************]  1 of 1 completed\n",
      "[*********************100%***********************]  1 of 1 completed\n",
      "[*********************100%***********************]  1 of 1 completed\n",
      "[*********************100%***********************]  1 of 1 completed\n",
      "[*********************100%***********************]  1 of 1 completed\n",
      "[*********************100%***********************]  1 of 1 completed\n",
      "[*********************100%***********************]  1 of 1 completed\n",
      "[*********************100%***********************]  1 of 1 completed\n",
      "[*********************100%***********************]  1 of 1 completed\n",
      "[*********************100%***********************]  1 of 1 completed\n",
      "[*********************100%***********************]  1 of 1 completed\n",
      "[*********************100%***********************]  1 of 1 completed\n",
      "[*********************100%***********************]  1 of 1 completed\n",
      "[*********************100%***********************]  1 of 1 completed\n",
      "[*********************100%***********************]  1 of 1 completed\n",
      "[*********************100%***********************]  1 of 1 completed\n",
      "[*********************100%***********************]  1 of 1 completed\n",
      "[*********************100%***********************]  1 of 1 completed\n",
      "[*********************100%***********************]  1 of 1 completed\n",
      "[*********************100%***********************]  1 of 1 completed\n",
      "[*********************100%***********************]  1 of 1 completed\n",
      "[*********************100%***********************]  1 of 1 completed\n",
      "[*********************100%***********************]  1 of 1 completed\n",
      "[*********************100%***********************]  1 of 1 completed\n",
      "[*********************100%***********************]  1 of 1 completed\n",
      "[*********************100%***********************]  1 of 1 completed\n",
      "[*********************100%***********************]  1 of 1 completed\n",
      "[*********************100%***********************]  1 of 1 completed\n",
      "[*********************100%***********************]  1 of 1 completed\n",
      "[*********************100%***********************]  1 of 1 completed\n",
      "[*********************100%***********************]  1 of 1 completed\n",
      "[*********************100%***********************]  1 of 1 completed\n",
      "[*********************100%***********************]  1 of 1 completed\n",
      "[*********************100%***********************]  1 of 1 completed\n",
      "[*********************100%***********************]  1 of 1 completed\n",
      "[*********************100%***********************]  1 of 1 completed\n",
      "[*********************100%***********************]  1 of 1 completed\n",
      "[*********************100%***********************]  1 of 1 completed\n",
      "[*********************100%***********************]  1 of 1 completed\n",
      "[*********************100%***********************]  1 of 1 completed\n",
      "[*********************100%***********************]  1 of 1 completed\n",
      "[*********************100%***********************]  1 of 1 completed\n",
      "[*********************100%***********************]  1 of 1 completed\n",
      "[*********************100%***********************]  1 of 1 completed\n",
      "[*********************100%***********************]  1 of 1 completed\n",
      "[*********************100%***********************]  1 of 1 completed\n",
      "[*********************100%***********************]  1 of 1 completed\n",
      "[*********************100%***********************]  1 of 1 completed\n",
      "[*********************100%***********************]  1 of 1 completed\n",
      "[*********************100%***********************]  1 of 1 completed\n",
      "[*********************100%***********************]  1 of 1 completed\n",
      "[*********************100%***********************]  1 of 1 completed\n",
      "[*********************100%***********************]  1 of 1 completed\n",
      "[*********************100%***********************]  1 of 1 completed\n",
      "[*********************100%***********************]  1 of 1 completed\n",
      "[*********************100%***********************]  1 of 1 completed\n",
      "[*********************100%***********************]  1 of 1 completed\n",
      "[*********************100%***********************]  1 of 1 completed\n",
      "[*********************100%***********************]  1 of 1 completed\n",
      "[*********************100%***********************]  1 of 1 completed\n",
      "[*********************100%***********************]  1 of 1 completed\n",
      "[*********************100%***********************]  1 of 1 completed\n",
      "[*********************100%***********************]  1 of 1 completed\n",
      "[*********************100%***********************]  1 of 1 completed\n",
      "[*********************100%***********************]  1 of 1 completed\n",
      "[*********************100%***********************]  1 of 1 completed\n",
      "[*********************100%***********************]  1 of 1 completed\n",
      "[*********************100%***********************]  1 of 1 completed\n",
      "[*********************100%***********************]  1 of 1 completed\n",
      "[*********************100%***********************]  1 of 1 completed\n",
      "[*********************100%***********************]  1 of 1 completed\n",
      "[*********************100%***********************]  1 of 1 completed\n",
      "[*********************100%***********************]  1 of 1 completed\n",
      "[*********************100%***********************]  1 of 1 completed\n",
      "[*********************100%***********************]  1 of 1 completed\n",
      "[*********************100%***********************]  1 of 1 completed\n",
      "[*********************100%***********************]  1 of 1 completed\n",
      "[*********************100%***********************]  1 of 1 completed\n",
      "[*********************100%***********************]  1 of 1 completed\n",
      "[*********************100%***********************]  1 of 1 completed\n",
      "[*********************100%***********************]  1 of 1 completed\n",
      "[*********************100%***********************]  1 of 1 completed\n",
      "[*********************100%***********************]  1 of 1 completed\n",
      "[*********************100%***********************]  1 of 1 completed\n",
      "[*********************100%***********************]  1 of 1 completed\n",
      "[*********************100%***********************]  1 of 1 completed\n",
      "[*********************100%***********************]  1 of 1 completed\n",
      "[*********************100%***********************]  1 of 1 completed\n",
      "[*********************100%***********************]  1 of 1 completed\n",
      "[*********************100%***********************]  1 of 1 completed\n",
      "[*********************100%***********************]  1 of 1 completed\n",
      "[*********************100%***********************]  1 of 1 completed\n",
      "[*********************100%***********************]  1 of 1 completed\n",
      "[*********************100%***********************]  1 of 1 completed\n",
      "[*********************100%***********************]  1 of 1 completed\n",
      "[*********************100%***********************]  1 of 1 completed\n",
      "[*********************100%***********************]  1 of 1 completed\n",
      "[*********************100%***********************]  1 of 1 completed\n",
      "[*********************100%***********************]  1 of 1 completed\n",
      "[*********************100%***********************]  1 of 1 completed\n",
      "[*********************100%***********************]  1 of 1 completed\n",
      "[*********************100%***********************]  1 of 1 completed\n",
      "[*********************100%***********************]  1 of 1 completed\n",
      "[*********************100%***********************]  1 of 1 completed\n",
      "[*********************100%***********************]  1 of 1 completed\n",
      "[*********************100%***********************]  1 of 1 completed\n",
      "[*********************100%***********************]  1 of 1 completed\n",
      "[*********************100%***********************]  1 of 1 completed\n",
      "[*********************100%***********************]  1 of 1 completed\n",
      "[*********************100%***********************]  1 of 1 completed\n",
      "[*********************100%***********************]  1 of 1 completed\n",
      "[*********************100%***********************]  1 of 1 completed\n",
      "[*********************100%***********************]  1 of 1 completed\n",
      "[*********************100%***********************]  1 of 1 completed\n",
      "[*********************100%***********************]  1 of 1 completed\n",
      "[*********************100%***********************]  1 of 1 completed\n",
      "[*********************100%***********************]  1 of 1 completed\n",
      "[*********************100%***********************]  1 of 1 completed\n",
      "[*********************100%***********************]  1 of 1 completed\n",
      "[*********************100%***********************]  1 of 1 completed\n",
      "[*********************100%***********************]  1 of 1 completed\n",
      "[*********************100%***********************]  1 of 1 completed\n",
      "[*********************100%***********************]  1 of 1 completed\n",
      "[*********************100%***********************]  1 of 1 completed\n",
      "[*********************100%***********************]  1 of 1 completed\n",
      "[*********************100%***********************]  1 of 1 completed\n",
      "[*********************100%***********************]  1 of 1 completed\n",
      "[*********************100%***********************]  1 of 1 completed\n",
      "[*********************100%***********************]  1 of 1 completed\n",
      "[*********************100%***********************]  1 of 1 completed\n",
      "[*********************100%***********************]  1 of 1 completed\n",
      "[*********************100%***********************]  1 of 1 completed\n",
      "[*********************100%***********************]  1 of 1 completed\n",
      "[*********************100%***********************]  1 of 1 completed\n",
      "[*********************100%***********************]  1 of 1 completed\n",
      "[*********************100%***********************]  1 of 1 completed\n",
      "[*********************100%***********************]  1 of 1 completed\n",
      "[*********************100%***********************]  1 of 1 completed\n",
      "[*********************100%***********************]  1 of 1 completed\n",
      "[*********************100%***********************]  1 of 1 completed\n",
      "[*********************100%***********************]  1 of 1 completed\n",
      "[*********************100%***********************]  1 of 1 completed\n",
      "[*********************100%***********************]  1 of 1 completed\n",
      "[*********************100%***********************]  1 of 1 completed\n",
      "[*********************100%***********************]  1 of 1 completed\n",
      "[*********************100%***********************]  1 of 1 completed\n",
      "[*********************100%***********************]  1 of 1 completed\n",
      "[*********************100%***********************]  1 of 1 completed\n",
      "[*********************100%***********************]  1 of 1 completed\n",
      "[*********************100%***********************]  1 of 1 completed\n",
      "[*********************100%***********************]  1 of 1 completed\n",
      "[*********************100%***********************]  1 of 1 completed\n",
      "[*********************100%***********************]  1 of 1 completed\n",
      "[*********************100%***********************]  1 of 1 completed\n",
      "[*********************100%***********************]  1 of 1 completed\n",
      "[*********************100%***********************]  1 of 1 completed\n",
      "[*********************100%***********************]  1 of 1 completed\n",
      "[*********************100%***********************]  1 of 1 completed\n",
      "[*********************100%***********************]  1 of 1 completed\n",
      "[*********************100%***********************]  1 of 1 completed\n",
      "[*********************100%***********************]  1 of 1 completed\n",
      "[*********************100%***********************]  1 of 1 completed\n",
      "[*********************100%***********************]  1 of 1 completed\n",
      "[*********************100%***********************]  1 of 1 completed\n",
      "[*********************100%***********************]  1 of 1 completed\n",
      "[*********************100%***********************]  1 of 1 completed\n",
      "[*********************100%***********************]  1 of 1 completed\n",
      "[*********************100%***********************]  1 of 1 completed\n",
      "[*********************100%***********************]  1 of 1 completed\n",
      "[*********************100%***********************]  1 of 1 completed\n",
      "[*********************100%***********************]  1 of 1 completed\n",
      "[*********************100%***********************]  1 of 1 completed\n",
      "[*********************100%***********************]  1 of 1 completed\n",
      "[*********************100%***********************]  1 of 1 completed\n",
      "[*********************100%***********************]  1 of 1 completed\n",
      "[*********************100%***********************]  1 of 1 completed\n",
      "[*********************100%***********************]  1 of 1 completed\n",
      "[*********************100%***********************]  1 of 1 completed\n",
      "[*********************100%***********************]  1 of 1 completed\n",
      "[*********************100%***********************]  1 of 1 completed\n",
      "[*********************100%***********************]  1 of 1 completed\n",
      "[*********************100%***********************]  1 of 1 completed\n",
      "[*********************100%***********************]  1 of 1 completed\n",
      "[*********************100%***********************]  1 of 1 completed\n",
      "[*********************100%***********************]  1 of 1 completed\n",
      "[*********************100%***********************]  1 of 1 completed\n",
      "[*********************100%***********************]  1 of 1 completed\n",
      "[*********************100%***********************]  1 of 1 completed\n",
      "[*********************100%***********************]  1 of 1 completed\n",
      "[*********************100%***********************]  1 of 1 completed\n",
      "[*********************100%***********************]  1 of 1 completed\n",
      "[*********************100%***********************]  1 of 1 completed\n",
      "[*********************100%***********************]  1 of 1 completed\n",
      "[*********************100%***********************]  1 of 1 completed\n",
      "[*********************100%***********************]  1 of 1 completed\n",
      "[*********************100%***********************]  1 of 1 completed\n",
      "[*********************100%***********************]  1 of 1 completed\n",
      "[*********************100%***********************]  1 of 1 completed\n",
      "[*********************100%***********************]  1 of 1 completed\n",
      "[*********************100%***********************]  1 of 1 completed\n",
      "[*********************100%***********************]  1 of 1 completed\n",
      "[*********************100%***********************]  1 of 1 completed\n",
      "[*********************100%***********************]  1 of 1 completed\n",
      "[*********************100%***********************]  1 of 1 completed\n",
      "[*********************100%***********************]  1 of 1 completed\n",
      "[*********************100%***********************]  1 of 1 completed\n",
      "[*********************100%***********************]  1 of 1 completed\n",
      "[*********************100%***********************]  1 of 1 completed\n",
      "[*********************100%***********************]  1 of 1 completed\n",
      "[*********************100%***********************]  1 of 1 completed\n",
      "[*********************100%***********************]  1 of 1 completed\n",
      "[*********************100%***********************]  1 of 1 completed\n",
      "[*********************100%***********************]  1 of 1 completed\n",
      "[*********************100%***********************]  1 of 1 completed\n",
      "[*********************100%***********************]  1 of 1 completed\n",
      "[*********************100%***********************]  1 of 1 completed\n",
      "[*********************100%***********************]  1 of 1 completed\n",
      "[*********************100%***********************]  1 of 1 completed\n",
      "[*********************100%***********************]  1 of 1 completed\n",
      "[*********************100%***********************]  1 of 1 completed\n",
      "[*********************100%***********************]  1 of 1 completed\n",
      "[*********************100%***********************]  1 of 1 completed\n",
      "[*********************100%***********************]  1 of 1 completed\n",
      "[*********************100%***********************]  1 of 1 completed\n",
      "[*********************100%***********************]  1 of 1 completed\n",
      "[*********************100%***********************]  1 of 1 completed\n",
      "[*********************100%***********************]  1 of 1 completed\n",
      "[*********************100%***********************]  1 of 1 completed\n",
      "[*********************100%***********************]  1 of 1 completed\n",
      "[*********************100%***********************]  1 of 1 completed\n",
      "[*********************100%***********************]  1 of 1 completed\n",
      "[*********************100%***********************]  1 of 1 completed\n",
      "[*********************100%***********************]  1 of 1 completed\n",
      "[*********************100%***********************]  1 of 1 completed\n",
      "[*********************100%***********************]  1 of 1 completed\n",
      "[*********************100%***********************]  1 of 1 completed\n",
      "[*********************100%***********************]  1 of 1 completed\n",
      "[*********************100%***********************]  1 of 1 completed\n",
      "[*********************100%***********************]  1 of 1 completed\n",
      "[*********************100%***********************]  1 of 1 completed\n",
      "[*********************100%***********************]  1 of 1 completed\n",
      "[*********************100%***********************]  1 of 1 completed\n",
      "[*********************100%***********************]  1 of 1 completed\n",
      "[*********************100%***********************]  1 of 1 completed\n",
      "[*********************100%***********************]  1 of 1 completed\n",
      "[*********************100%***********************]  1 of 1 completed\n",
      "[*********************100%***********************]  1 of 1 completed\n",
      "[*********************100%***********************]  1 of 1 completed\n",
      "[*********************100%***********************]  1 of 1 completed\n",
      "[*********************100%***********************]  1 of 1 completed\n",
      "[*********************100%***********************]  1 of 1 completed\n",
      "[*********************100%***********************]  1 of 1 completed\n",
      "[*********************100%***********************]  1 of 1 completed\n",
      "[*********************100%***********************]  1 of 1 completed\n",
      "[*********************100%***********************]  1 of 1 completed\n",
      "[*********************100%***********************]  1 of 1 completed\n",
      "[*********************100%***********************]  1 of 1 completed\n",
      "[*********************100%***********************]  1 of 1 completed\n",
      "[*********************100%***********************]  1 of 1 completed\n",
      "[*********************100%***********************]  1 of 1 completed\n",
      "[*********************100%***********************]  1 of 1 completed\n",
      "[*********************100%***********************]  1 of 1 completed\n",
      "[*********************100%***********************]  1 of 1 completed\n",
      "[*********************100%***********************]  1 of 1 completed\n",
      "[*********************100%***********************]  1 of 1 completed\n",
      "[*********************100%***********************]  1 of 1 completed\n",
      "[*********************100%***********************]  1 of 1 completed\n",
      "[*********************100%***********************]  1 of 1 completed\n",
      "[*********************100%***********************]  1 of 1 completed\n",
      "[*********************100%***********************]  1 of 1 completed\n",
      "[*********************100%***********************]  1 of 1 completed\n",
      "[*********************100%***********************]  1 of 1 completed\n",
      "[*********************100%***********************]  1 of 1 completed\n",
      "[*********************100%***********************]  1 of 1 completed\n",
      "[*********************100%***********************]  1 of 1 completed\n",
      "[*********************100%***********************]  1 of 1 completed\n",
      "[*********************100%***********************]  1 of 1 completed\n",
      "[*********************100%***********************]  1 of 1 completed\n",
      "[*********************100%***********************]  1 of 1 completed\n",
      "[*********************100%***********************]  1 of 1 completed\n",
      "[*********************100%***********************]  1 of 1 completed\n",
      "[*********************100%***********************]  1 of 1 completed\n",
      "[*********************100%***********************]  1 of 1 completed\n",
      "[*********************100%***********************]  1 of 1 completed\n",
      "[*********************100%***********************]  1 of 1 completed\n",
      "[*********************100%***********************]  1 of 1 completed\n",
      "[*********************100%***********************]  1 of 1 completed\n",
      "[*********************100%***********************]  1 of 1 completed\n",
      "[*********************100%***********************]  1 of 1 completed\n",
      "[*********************100%***********************]  1 of 1 completed\n",
      "[*********************100%***********************]  1 of 1 completed\n",
      "[*********************100%***********************]  1 of 1 completed\n",
      "[*********************100%***********************]  1 of 1 completed\n",
      "[*********************100%***********************]  1 of 1 completed\n",
      "[*********************100%***********************]  1 of 1 completed\n",
      "[*********************100%***********************]  1 of 1 completed\n",
      "[*********************100%***********************]  1 of 1 completed\n",
      "[*********************100%***********************]  1 of 1 completed\n",
      "[*********************100%***********************]  1 of 1 completed\n",
      "[*********************100%***********************]  1 of 1 completed\n",
      "[*********************100%***********************]  1 of 1 completed\n",
      "[*********************100%***********************]  1 of 1 completed\n",
      "[*********************100%***********************]  1 of 1 completed\n",
      "[*********************100%***********************]  1 of 1 completed\n",
      "[*********************100%***********************]  1 of 1 completed\n",
      "[*********************100%***********************]  1 of 1 completed\n",
      "[*********************100%***********************]  1 of 1 completed\n",
      "[*********************100%***********************]  1 of 1 completed\n",
      "[*********************100%***********************]  1 of 1 completed\n",
      "[*********************100%***********************]  1 of 1 completed\n",
      "[*********************100%***********************]  1 of 1 completed\n",
      "[*********************100%***********************]  1 of 1 completed\n",
      "[*********************100%***********************]  1 of 1 completed\n",
      "[*********************100%***********************]  1 of 1 completed\n",
      "[*********************100%***********************]  1 of 1 completed\n",
      "[*********************100%***********************]  1 of 1 completed\n",
      "[*********************100%***********************]  1 of 1 completed\n",
      "[*********************100%***********************]  1 of 1 completed\n",
      "[*********************100%***********************]  1 of 1 completed\n",
      "[*********************100%***********************]  1 of 1 completed\n",
      "[*********************100%***********************]  1 of 1 completed\n",
      "[*********************100%***********************]  1 of 1 completed\n",
      "[*********************100%***********************]  1 of 1 completed\n",
      "[*********************100%***********************]  1 of 1 completed\n",
      "[*********************100%***********************]  1 of 1 completed\n",
      "[*********************100%***********************]  1 of 1 completed\n",
      "[*********************100%***********************]  1 of 1 completed\n",
      "[*********************100%***********************]  1 of 1 completed\n",
      "[*********************100%***********************]  1 of 1 completed\n",
      "[*********************100%***********************]  1 of 1 completed\n",
      "[*********************100%***********************]  1 of 1 completed\n",
      "[*********************100%***********************]  1 of 1 completed\n",
      "[*********************100%***********************]  1 of 1 completed\n",
      "[*********************100%***********************]  1 of 1 completed\n",
      "[*********************100%***********************]  1 of 1 completed\n",
      "[*********************100%***********************]  1 of 1 completed\n",
      "[*********************100%***********************]  1 of 1 completed\n",
      "[*********************100%***********************]  1 of 1 completed\n",
      "[*********************100%***********************]  1 of 1 completed\n",
      "[*********************100%***********************]  1 of 1 completed\n",
      "[*********************100%***********************]  1 of 1 completed\n",
      "[*********************100%***********************]  1 of 1 completed\n",
      "[*********************100%***********************]  1 of 1 completed\n",
      "[*********************100%***********************]  1 of 1 completed\n",
      "[*********************100%***********************]  1 of 1 completed\n",
      "[*********************100%***********************]  1 of 1 completed\n",
      "[*********************100%***********************]  1 of 1 completed\n",
      "[*********************100%***********************]  1 of 1 completed\n",
      "[*********************100%***********************]  1 of 1 completed\n",
      "[*********************100%***********************]  1 of 1 completed\n",
      "[*********************100%***********************]  1 of 1 completed\n",
      "[*********************100%***********************]  1 of 1 completed\n",
      "[*********************100%***********************]  1 of 1 completed\n",
      "[*********************100%***********************]  1 of 1 completed\n",
      "[*********************100%***********************]  1 of 1 completed\n",
      "[*********************100%***********************]  1 of 1 completed\n",
      "[*********************100%***********************]  1 of 1 completed\n",
      "[*********************100%***********************]  1 of 1 completed\n",
      "[*********************100%***********************]  1 of 1 completed\n",
      "[*********************100%***********************]  1 of 1 completed\n",
      "[*********************100%***********************]  1 of 1 completed\n",
      "[*********************100%***********************]  1 of 1 completed\n",
      "[*********************100%***********************]  1 of 1 completed\n",
      "[*********************100%***********************]  1 of 1 completed\n",
      "[*********************100%***********************]  1 of 1 completed\n",
      "[*********************100%***********************]  1 of 1 completed\n",
      "[*********************100%***********************]  1 of 1 completed\n",
      "[*********************100%***********************]  1 of 1 completed\n",
      "[*********************100%***********************]  1 of 1 completed\n",
      "[*********************100%***********************]  1 of 1 completed\n",
      "[*********************100%***********************]  1 of 1 completed\n",
      "[*********************100%***********************]  1 of 1 completed\n",
      "[*********************100%***********************]  1 of 1 completed\n",
      "[*********************100%***********************]  1 of 1 completed\n",
      "[*********************100%***********************]  1 of 1 completed\n",
      "[*********************100%***********************]  1 of 1 completed\n",
      "[*********************100%***********************]  1 of 1 completed\n",
      "[*********************100%***********************]  1 of 1 completed\n",
      "[*********************100%***********************]  1 of 1 completed\n",
      "[*********************100%***********************]  1 of 1 completed\n",
      "[*********************100%***********************]  1 of 1 completed\n",
      "[*********************100%***********************]  1 of 1 completed\n",
      "[*********************100%***********************]  1 of 1 completed\n",
      "[*********************100%***********************]  1 of 1 completed\n",
      "[*********************100%***********************]  1 of 1 completed\n",
      "[*********************100%***********************]  1 of 1 completed\n",
      "[*********************100%***********************]  1 of 1 completed\n",
      "[*********************100%***********************]  1 of 1 completed\n",
      "[*********************100%***********************]  1 of 1 completed\n",
      "[*********************100%***********************]  1 of 1 completed\n",
      "[*********************100%***********************]  1 of 1 completed\n"
     ]
    },
    {
     "name": "stdout",
     "output_type": "stream",
     "text": [
      "Data untuk AALI.JK telah berhasil dimasukkan ke MySQL.\n",
      "Data untuk ABBA.JK telah berhasil dimasukkan ke MySQL.\n",
      "Data untuk ABDA.JK telah berhasil dimasukkan ke MySQL.\n",
      "Data untuk ABMM.JK telah berhasil dimasukkan ke MySQL.\n",
      "Data untuk ACES.JK telah berhasil dimasukkan ke MySQL.\n",
      "Data untuk ACST.JK telah berhasil dimasukkan ke MySQL.\n",
      "Data untuk ADES.JK telah berhasil dimasukkan ke MySQL.\n",
      "Data untuk ADHI.JK telah berhasil dimasukkan ke MySQL.\n",
      "Data untuk ADMF.JK telah berhasil dimasukkan ke MySQL.\n",
      "Data untuk ADMG.JK telah berhasil dimasukkan ke MySQL.\n",
      "Data untuk ADRO.JK telah berhasil dimasukkan ke MySQL.\n",
      "Data untuk AGII.JK telah berhasil dimasukkan ke MySQL.\n",
      "Data untuk AGRO.JK telah berhasil dimasukkan ke MySQL.\n",
      "Data untuk AGRS.JK telah berhasil dimasukkan ke MySQL.\n",
      "Data untuk AHAP.JK telah berhasil dimasukkan ke MySQL.\n",
      "Data untuk AIMS.JK telah berhasil dimasukkan ke MySQL.\n",
      "Data untuk AISA.JK telah berhasil dimasukkan ke MySQL.\n",
      "Data untuk AKKU.JK telah berhasil dimasukkan ke MySQL.\n",
      "Data untuk AKPI.JK telah berhasil dimasukkan ke MySQL.\n",
      "Data untuk AKRA.JK telah berhasil dimasukkan ke MySQL.\n",
      "Data untuk AKSI.JK telah berhasil dimasukkan ke MySQL.\n",
      "Data untuk ALDO.JK telah berhasil dimasukkan ke MySQL.\n",
      "Data untuk ALKA.JK telah berhasil dimasukkan ke MySQL.\n",
      "Data untuk ALMI.JK telah berhasil dimasukkan ke MySQL.\n",
      "Data untuk ALTO.JK telah berhasil dimasukkan ke MySQL.\n",
      "Data untuk AMAG.JK telah berhasil dimasukkan ke MySQL.\n",
      "Data untuk AMFG.JK telah berhasil dimasukkan ke MySQL.\n",
      "Data untuk AMIN.JK telah berhasil dimasukkan ke MySQL.\n",
      "Data untuk AMRT.JK telah berhasil dimasukkan ke MySQL.\n",
      "Data untuk ANJT.JK telah berhasil dimasukkan ke MySQL.\n",
      "Data untuk ANTM.JK telah berhasil dimasukkan ke MySQL.\n",
      "Data untuk APEX.JK telah berhasil dimasukkan ke MySQL.\n",
      "Data untuk APIC.JK telah berhasil dimasukkan ke MySQL.\n",
      "Data untuk APII.JK telah berhasil dimasukkan ke MySQL.\n",
      "Data untuk APLI.JK telah berhasil dimasukkan ke MySQL.\n",
      "Data untuk APLN.JK telah berhasil dimasukkan ke MySQL.\n",
      "Data untuk ARGO.JK telah berhasil dimasukkan ke MySQL.\n",
      "Data untuk ARII.JK telah berhasil dimasukkan ke MySQL.\n",
      "Data untuk ARNA.JK telah berhasil dimasukkan ke MySQL.\n",
      "Data untuk ARTA.JK telah berhasil dimasukkan ke MySQL.\n",
      "Data untuk ARTI.JK telah berhasil dimasukkan ke MySQL.\n",
      "Data untuk ARTO.JK telah berhasil dimasukkan ke MySQL.\n",
      "Data untuk ASBI.JK telah berhasil dimasukkan ke MySQL.\n",
      "Data untuk ASDM.JK telah berhasil dimasukkan ke MySQL.\n",
      "Data untuk ASGR.JK telah berhasil dimasukkan ke MySQL.\n",
      "Data untuk ASII.JK telah berhasil dimasukkan ke MySQL.\n",
      "Data untuk ASJT.JK telah berhasil dimasukkan ke MySQL.\n",
      "Data untuk ASMI.JK telah berhasil dimasukkan ke MySQL.\n",
      "Data untuk ASRI.JK telah berhasil dimasukkan ke MySQL.\n",
      "Data untuk ASRM.JK telah berhasil dimasukkan ke MySQL.\n",
      "Data untuk ASSA.JK telah berhasil dimasukkan ke MySQL.\n",
      "Data untuk ATIC.JK telah berhasil dimasukkan ke MySQL.\n",
      "Data untuk AUTO.JK telah berhasil dimasukkan ke MySQL.\n",
      "Data untuk BABP.JK telah berhasil dimasukkan ke MySQL.\n",
      "Data untuk BACA.JK telah berhasil dimasukkan ke MySQL.\n",
      "Data untuk BAJA.JK telah berhasil dimasukkan ke MySQL.\n",
      "Data untuk BALI.JK telah berhasil dimasukkan ke MySQL.\n",
      "Data untuk BAPA.JK telah berhasil dimasukkan ke MySQL.\n",
      "Data untuk BATA.JK telah berhasil dimasukkan ke MySQL.\n",
      "Data untuk BAYU.JK telah berhasil dimasukkan ke MySQL.\n",
      "Data untuk BBCA.JK telah berhasil dimasukkan ke MySQL.\n",
      "Data untuk BBHI.JK telah berhasil dimasukkan ke MySQL.\n",
      "Data untuk BBKP.JK telah berhasil dimasukkan ke MySQL.\n",
      "Data untuk BBLD.JK telah berhasil dimasukkan ke MySQL.\n",
      "Data untuk BBMD.JK telah berhasil dimasukkan ke MySQL.\n",
      "Data untuk BBNI.JK telah berhasil dimasukkan ke MySQL.\n",
      "Data untuk BBRI.JK telah berhasil dimasukkan ke MySQL.\n",
      "Data untuk BBRM.JK telah berhasil dimasukkan ke MySQL.\n",
      "Data untuk BBTN.JK telah berhasil dimasukkan ke MySQL.\n",
      "Data untuk BBYB.JK telah berhasil dimasukkan ke MySQL.\n",
      "Data untuk BCAP.JK telah berhasil dimasukkan ke MySQL.\n",
      "Data untuk BCIC.JK telah berhasil dimasukkan ke MySQL.\n",
      "Data untuk BCIP.JK telah berhasil dimasukkan ke MySQL.\n",
      "Data untuk BDMN.JK telah berhasil dimasukkan ke MySQL.\n",
      "Data untuk BEKS.JK telah berhasil dimasukkan ke MySQL.\n",
      "Data untuk BEST.JK telah berhasil dimasukkan ke MySQL.\n",
      "Data untuk BFIN.JK telah berhasil dimasukkan ke MySQL.\n",
      "Data untuk BGTG.JK telah berhasil dimasukkan ke MySQL.\n",
      "Data untuk BHIT.JK telah berhasil dimasukkan ke MySQL.\n",
      "Data untuk BIKA.JK telah berhasil dimasukkan ke MySQL.\n",
      "Data untuk BIMA.JK telah berhasil dimasukkan ke MySQL.\n",
      "Data untuk BINA.JK telah berhasil dimasukkan ke MySQL.\n",
      "Data untuk BIPI.JK telah berhasil dimasukkan ke MySQL.\n",
      "Data untuk BIPP.JK telah berhasil dimasukkan ke MySQL.\n",
      "Data untuk BIRD.JK telah berhasil dimasukkan ke MySQL.\n",
      "Data untuk BISI.JK telah berhasil dimasukkan ke MySQL.\n",
      "Data untuk BJBR.JK telah berhasil dimasukkan ke MySQL.\n",
      "Data untuk BJTM.JK telah berhasil dimasukkan ke MySQL.\n",
      "Data untuk BKDP.JK telah berhasil dimasukkan ke MySQL.\n",
      "Data untuk BKSL.JK telah berhasil dimasukkan ke MySQL.\n",
      "Data untuk BKSW.JK telah berhasil dimasukkan ke MySQL.\n",
      "Data untuk BLTA.JK telah berhasil dimasukkan ke MySQL.\n",
      "Data untuk BLTZ.JK telah berhasil dimasukkan ke MySQL.\n",
      "Data untuk BMAS.JK telah berhasil dimasukkan ke MySQL.\n",
      "Data untuk BMRI.JK telah berhasil dimasukkan ke MySQL.\n",
      "Data untuk BMSR.JK telah berhasil dimasukkan ke MySQL.\n",
      "Data untuk BMTR.JK telah berhasil dimasukkan ke MySQL.\n",
      "Data untuk BNBA.JK telah berhasil dimasukkan ke MySQL.\n",
      "Data untuk BNBR.JK telah berhasil dimasukkan ke MySQL.\n",
      "Data untuk BNGA.JK telah berhasil dimasukkan ke MySQL.\n",
      "Data untuk BNII.JK telah berhasil dimasukkan ke MySQL.\n",
      "Data untuk BNLI.JK telah berhasil dimasukkan ke MySQL.\n",
      "Data untuk BOLT.JK telah berhasil dimasukkan ke MySQL.\n",
      "Data untuk BPFI.JK telah berhasil dimasukkan ke MySQL.\n",
      "Data untuk BPII.JK telah berhasil dimasukkan ke MySQL.\n",
      "Data untuk BRAM.JK telah berhasil dimasukkan ke MySQL.\n",
      "Data untuk BRMS.JK telah berhasil dimasukkan ke MySQL.\n",
      "Data untuk BRNA.JK telah berhasil dimasukkan ke MySQL.\n",
      "Data untuk BRPT.JK telah berhasil dimasukkan ke MySQL.\n",
      "Data untuk BSDE.JK telah berhasil dimasukkan ke MySQL.\n",
      "Data untuk BSIM.JK telah berhasil dimasukkan ke MySQL.\n",
      "Data untuk BSSR.JK telah berhasil dimasukkan ke MySQL.\n",
      "Data untuk BSWD.JK telah berhasil dimasukkan ke MySQL.\n",
      "Data untuk BTEK.JK telah berhasil dimasukkan ke MySQL.\n",
      "Data untuk BTEL.JK telah berhasil dimasukkan ke MySQL.\n",
      "Data untuk BTON.JK telah berhasil dimasukkan ke MySQL.\n",
      "Data untuk BTPN.JK telah berhasil dimasukkan ke MySQL.\n",
      "Data untuk BUDI.JK telah berhasil dimasukkan ke MySQL.\n",
      "Data untuk BUKK.JK telah berhasil dimasukkan ke MySQL.\n",
      "Data untuk BULL.JK telah berhasil dimasukkan ke MySQL.\n",
      "Data untuk BUMI.JK telah berhasil dimasukkan ke MySQL.\n",
      "Data untuk BUVA.JK telah berhasil dimasukkan ke MySQL.\n",
      "Data untuk BVIC.JK telah berhasil dimasukkan ke MySQL.\n",
      "Data untuk BWPT.JK telah berhasil dimasukkan ke MySQL.\n",
      "Data untuk BYAN.JK telah berhasil dimasukkan ke MySQL.\n",
      "Data untuk CANI.JK telah berhasil dimasukkan ke MySQL.\n",
      "Data untuk CASS.JK telah berhasil dimasukkan ke MySQL.\n",
      "Data untuk CEKA.JK telah berhasil dimasukkan ke MySQL.\n",
      "Data untuk CENT.JK telah berhasil dimasukkan ke MySQL.\n",
      "Data untuk CFIN.JK telah berhasil dimasukkan ke MySQL.\n",
      "Data untuk CINT.JK telah berhasil dimasukkan ke MySQL.\n",
      "Data untuk CITA.JK telah berhasil dimasukkan ke MySQL.\n",
      "Data untuk CLPI.JK telah berhasil dimasukkan ke MySQL.\n",
      "Data untuk CMNP.JK telah berhasil dimasukkan ke MySQL.\n",
      "Data untuk CMPP.JK telah berhasil dimasukkan ke MySQL.\n",
      "Data untuk CNKO.JK telah berhasil dimasukkan ke MySQL.\n",
      "Data untuk CNTX.JK telah berhasil dimasukkan ke MySQL.\n",
      "Data untuk COWL.JK telah berhasil dimasukkan ke MySQL.\n",
      "Data untuk CPIN.JK telah berhasil dimasukkan ke MySQL.\n",
      "Data untuk CPRO.JK telah berhasil dimasukkan ke MySQL.\n",
      "Data untuk CSAP.JK telah berhasil dimasukkan ke MySQL.\n",
      "Data untuk CTBN.JK telah berhasil dimasukkan ke MySQL.\n",
      "Data untuk CTRA.JK telah berhasil dimasukkan ke MySQL.\n",
      "Data untuk CTTH.JK telah berhasil dimasukkan ke MySQL.\n",
      "Data untuk DART.JK telah berhasil dimasukkan ke MySQL.\n",
      "Data untuk DEFI.JK telah berhasil dimasukkan ke MySQL.\n",
      "Data untuk DEWA.JK telah berhasil dimasukkan ke MySQL.\n",
      "Data untuk DGIK.JK telah berhasil dimasukkan ke MySQL.\n",
      "Data untuk DILD.JK telah berhasil dimasukkan ke MySQL.\n",
      "Data untuk DKFT.JK telah berhasil dimasukkan ke MySQL.\n",
      "Data untuk DLTA.JK telah berhasil dimasukkan ke MySQL.\n",
      "Data untuk DMAS.JK telah berhasil dimasukkan ke MySQL.\n",
      "Data untuk DNAR.JK telah berhasil dimasukkan ke MySQL.\n",
      "Data untuk DNET.JK telah berhasil dimasukkan ke MySQL.\n",
      "Data untuk DOID.JK telah berhasil dimasukkan ke MySQL.\n",
      "Data untuk DPNS.JK telah berhasil dimasukkan ke MySQL.\n",
      "Data untuk DSFI.JK telah berhasil dimasukkan ke MySQL.\n",
      "Data untuk DSNG.JK telah berhasil dimasukkan ke MySQL.\n",
      "Data untuk DSSA.JK telah berhasil dimasukkan ke MySQL.\n",
      "Data untuk DUTI.JK telah berhasil dimasukkan ke MySQL.\n",
      "Data untuk DVLA.JK telah berhasil dimasukkan ke MySQL.\n",
      "Data untuk DYAN.JK telah berhasil dimasukkan ke MySQL.\n",
      "Data untuk ECII.JK telah berhasil dimasukkan ke MySQL.\n",
      "Data untuk EKAD.JK telah berhasil dimasukkan ke MySQL.\n",
      "Data untuk ELSA.JK telah berhasil dimasukkan ke MySQL.\n",
      "Data untuk ELTY.JK telah berhasil dimasukkan ke MySQL.\n",
      "Data untuk EMDE.JK telah berhasil dimasukkan ke MySQL.\n",
      "Data untuk EMTK.JK telah berhasil dimasukkan ke MySQL.\n",
      "Data untuk ENRG.JK telah berhasil dimasukkan ke MySQL.\n",
      "Data untuk EPMT.JK telah berhasil dimasukkan ke MySQL.\n",
      "Data untuk ERAA.JK telah berhasil dimasukkan ke MySQL.\n",
      "Data untuk ERTX.JK telah berhasil dimasukkan ke MySQL.\n",
      "Data untuk ESSA.JK telah berhasil dimasukkan ke MySQL.\n",
      "Data untuk ESTI.JK telah berhasil dimasukkan ke MySQL.\n",
      "Data untuk ETWA.JK telah berhasil dimasukkan ke MySQL.\n",
      "Data untuk EXCL.JK telah berhasil dimasukkan ke MySQL.\n",
      "Data untuk FAST.JK telah berhasil dimasukkan ke MySQL.\n",
      "Data untuk FASW.JK telah berhasil dimasukkan ke MySQL.\n",
      "Data untuk FISH.JK telah berhasil dimasukkan ke MySQL.\n",
      "Data untuk FMII.JK telah berhasil dimasukkan ke MySQL.\n",
      "Data untuk FORU.JK telah berhasil dimasukkan ke MySQL.\n",
      "Data untuk FPNI.JK telah berhasil dimasukkan ke MySQL.\n",
      "Data untuk FREN.JK telah berhasil dimasukkan ke MySQL.\n",
      "Data untuk GAMA.JK telah berhasil dimasukkan ke MySQL.\n",
      "Data untuk GDST.JK telah berhasil dimasukkan ke MySQL.\n",
      "Data untuk GDYR.JK telah berhasil dimasukkan ke MySQL.\n",
      "Data untuk GEMA.JK telah berhasil dimasukkan ke MySQL.\n",
      "Data untuk GEMS.JK telah berhasil dimasukkan ke MySQL.\n",
      "Data untuk GGRM.JK telah berhasil dimasukkan ke MySQL.\n",
      "Data untuk GIAA.JK telah berhasil dimasukkan ke MySQL.\n",
      "Data untuk GJTL.JK telah berhasil dimasukkan ke MySQL.\n",
      "Data untuk GLOB.JK telah berhasil dimasukkan ke MySQL.\n",
      "Data untuk GMTD.JK telah berhasil dimasukkan ke MySQL.\n",
      "Data untuk GOLD.JK telah berhasil dimasukkan ke MySQL.\n",
      "Data untuk GOLL.JK telah berhasil dimasukkan ke MySQL.\n",
      "Data untuk GPRA.JK telah berhasil dimasukkan ke MySQL.\n",
      "Data untuk GSMF.JK telah berhasil dimasukkan ke MySQL.\n",
      "Data untuk GTBO.JK telah berhasil dimasukkan ke MySQL.\n",
      "Data untuk GWSA.JK telah berhasil dimasukkan ke MySQL.\n",
      "Data untuk GZCO.JK telah berhasil dimasukkan ke MySQL.\n",
      "Data untuk HADE.JK telah berhasil dimasukkan ke MySQL.\n",
      "Data untuk HDFA.JK telah berhasil dimasukkan ke MySQL.\n",
      "Data untuk HDTX.JK telah berhasil dimasukkan ke MySQL.\n",
      "Data untuk HERO.JK telah berhasil dimasukkan ke MySQL.\n",
      "Data untuk HEXA.JK telah berhasil dimasukkan ke MySQL.\n",
      "Data untuk HITS.JK telah berhasil dimasukkan ke MySQL.\n",
      "Data untuk HMSP.JK telah berhasil dimasukkan ke MySQL.\n",
      "Data untuk HOME.JK telah berhasil dimasukkan ke MySQL.\n",
      "Data untuk HOTL.JK telah berhasil dimasukkan ke MySQL.\n",
      "Data untuk HRUM.JK telah berhasil dimasukkan ke MySQL.\n",
      "Data untuk IATA.JK telah berhasil dimasukkan ke MySQL.\n",
      "Data untuk IBFN.JK telah berhasil dimasukkan ke MySQL.\n",
      "Data untuk IBST.JK telah berhasil dimasukkan ke MySQL.\n",
      "Data untuk ICBP.JK telah berhasil dimasukkan ke MySQL.\n",
      "Data untuk ICON.JK telah berhasil dimasukkan ke MySQL.\n",
      "Data untuk IGAR.JK telah berhasil dimasukkan ke MySQL.\n",
      "Data untuk IIKP.JK telah berhasil dimasukkan ke MySQL.\n",
      "Data untuk IKAI.JK telah berhasil dimasukkan ke MySQL.\n",
      "Data untuk IKBI.JK telah berhasil dimasukkan ke MySQL.\n",
      "Data untuk IMAS.JK telah berhasil dimasukkan ke MySQL.\n",
      "Data untuk IMJS.JK telah berhasil dimasukkan ke MySQL.\n",
      "Data untuk IMPC.JK telah berhasil dimasukkan ke MySQL.\n",
      "Data untuk INAF.JK telah berhasil dimasukkan ke MySQL.\n",
      "Data untuk INAI.JK telah berhasil dimasukkan ke MySQL.\n",
      "Data untuk INCI.JK telah berhasil dimasukkan ke MySQL.\n",
      "Data untuk INCO.JK telah berhasil dimasukkan ke MySQL.\n",
      "Data untuk INDF.JK telah berhasil dimasukkan ke MySQL.\n",
      "Data untuk INDR.JK telah berhasil dimasukkan ke MySQL.\n",
      "Data untuk INDS.JK telah berhasil dimasukkan ke MySQL.\n",
      "Data untuk INDX.JK telah berhasil dimasukkan ke MySQL.\n",
      "Data untuk INDY.JK telah berhasil dimasukkan ke MySQL.\n",
      "Data untuk INKP.JK telah berhasil dimasukkan ke MySQL.\n",
      "Data untuk INPC.JK telah berhasil dimasukkan ke MySQL.\n",
      "Data untuk INPP.JK telah berhasil dimasukkan ke MySQL.\n",
      "Data untuk INRU.JK telah berhasil dimasukkan ke MySQL.\n",
      "Data untuk INTA.JK telah berhasil dimasukkan ke MySQL.\n",
      "Data untuk INTD.JK telah berhasil dimasukkan ke MySQL.\n",
      "Data untuk INTP.JK telah berhasil dimasukkan ke MySQL.\n",
      "Data untuk IPOL.JK telah berhasil dimasukkan ke MySQL.\n",
      "Data untuk ISAT.JK telah berhasil dimasukkan ke MySQL.\n",
      "Data untuk ISSP.JK telah berhasil dimasukkan ke MySQL.\n",
      "Data untuk ITMA.JK telah berhasil dimasukkan ke MySQL.\n",
      "Data untuk ITMG.JK telah berhasil dimasukkan ke MySQL.\n",
      "Data untuk JAWA.JK telah berhasil dimasukkan ke MySQL.\n",
      "Data untuk JECC.JK telah berhasil dimasukkan ke MySQL.\n",
      "Data untuk JIHD.JK telah berhasil dimasukkan ke MySQL.\n",
      "Data untuk JKON.JK telah berhasil dimasukkan ke MySQL.\n",
      "Data untuk JKSW.JK telah berhasil dimasukkan ke MySQL.\n",
      "Data untuk JPFA.JK telah berhasil dimasukkan ke MySQL.\n",
      "Data untuk JRPT.JK telah berhasil dimasukkan ke MySQL.\n",
      "Data untuk JSMR.JK telah berhasil dimasukkan ke MySQL.\n",
      "Data untuk JSPT.JK telah berhasil dimasukkan ke MySQL.\n",
      "Data untuk JTPE.JK telah berhasil dimasukkan ke MySQL.\n",
      "Data untuk KAEF.JK telah berhasil dimasukkan ke MySQL.\n",
      "Data untuk KARW.JK telah berhasil dimasukkan ke MySQL.\n",
      "Data untuk KBLI.JK telah berhasil dimasukkan ke MySQL.\n",
      "Data untuk KBLM.JK telah berhasil dimasukkan ke MySQL.\n",
      "Data untuk KBLV.JK telah berhasil dimasukkan ke MySQL.\n",
      "Data untuk KBRI.JK telah berhasil dimasukkan ke MySQL.\n",
      "Data untuk KDSI.JK telah berhasil dimasukkan ke MySQL.\n",
      "Data untuk KIAS.JK telah berhasil dimasukkan ke MySQL.\n",
      "Data untuk KICI.JK telah berhasil dimasukkan ke MySQL.\n",
      "Data untuk KIJA.JK telah berhasil dimasukkan ke MySQL.\n",
      "Data untuk KKGI.JK telah berhasil dimasukkan ke MySQL.\n",
      "Data untuk KLBF.JK telah berhasil dimasukkan ke MySQL.\n",
      "Data untuk KOBX.JK telah berhasil dimasukkan ke MySQL.\n",
      "Data untuk KOIN.JK telah berhasil dimasukkan ke MySQL.\n",
      "Data untuk KONI.JK telah berhasil dimasukkan ke MySQL.\n",
      "Data untuk KOPI.JK telah berhasil dimasukkan ke MySQL.\n",
      "Data untuk KPIG.JK telah berhasil dimasukkan ke MySQL.\n",
      "Data untuk KRAH.JK telah berhasil dimasukkan ke MySQL.\n",
      "Data untuk KRAS.JK telah berhasil dimasukkan ke MySQL.\n",
      "Data untuk KREN.JK telah berhasil dimasukkan ke MySQL.\n",
      "Data untuk LAPD.JK telah berhasil dimasukkan ke MySQL.\n",
      "Data untuk LCGP.JK telah berhasil dimasukkan ke MySQL.\n",
      "Data untuk LEAD.JK telah berhasil dimasukkan ke MySQL.\n",
      "Data untuk LINK.JK telah berhasil dimasukkan ke MySQL.\n",
      "Data untuk LION.JK telah berhasil dimasukkan ke MySQL.\n",
      "Data untuk LMAS.JK telah berhasil dimasukkan ke MySQL.\n",
      "Data untuk LMPI.JK telah berhasil dimasukkan ke MySQL.\n",
      "Data untuk LMSH.JK telah berhasil dimasukkan ke MySQL.\n",
      "Data untuk LPCK.JK telah berhasil dimasukkan ke MySQL.\n",
      "Data untuk LPGI.JK telah berhasil dimasukkan ke MySQL.\n",
      "Data untuk LPIN.JK telah berhasil dimasukkan ke MySQL.\n",
      "Data untuk LPKR.JK telah berhasil dimasukkan ke MySQL.\n",
      "Data untuk LPLI.JK telah berhasil dimasukkan ke MySQL.\n",
      "Data untuk LPPF.JK telah berhasil dimasukkan ke MySQL.\n",
      "Data untuk LPPS.JK telah berhasil dimasukkan ke MySQL.\n",
      "Data untuk LRNA.JK telah berhasil dimasukkan ke MySQL.\n",
      "Data untuk LSIP.JK telah berhasil dimasukkan ke MySQL.\n",
      "Data untuk LTLS.JK telah berhasil dimasukkan ke MySQL.\n",
      "Data untuk MAGP.JK telah berhasil dimasukkan ke MySQL.\n",
      "Data untuk MAIN.JK telah berhasil dimasukkan ke MySQL.\n",
      "Data untuk MAMI.JK telah berhasil dimasukkan ke MySQL.\n",
      "Data untuk MAPI.JK telah berhasil dimasukkan ke MySQL.\n",
      "Data untuk MASA.JK telah berhasil dimasukkan ke MySQL.\n",
      "Data untuk MAYA.JK telah berhasil dimasukkan ke MySQL.\n",
      "Data untuk MBAP.JK telah berhasil dimasukkan ke MySQL.\n",
      "Data untuk MBSS.JK telah berhasil dimasukkan ke MySQL.\n",
      "Data untuk MBTO.JK telah berhasil dimasukkan ke MySQL.\n",
      "Data untuk MCOR.JK telah berhasil dimasukkan ke MySQL.\n",
      "Data untuk MDIA.JK telah berhasil dimasukkan ke MySQL.\n",
      "Data untuk MDKA.JK telah berhasil dimasukkan ke MySQL.\n",
      "Data untuk MDLN.JK telah berhasil dimasukkan ke MySQL.\n",
      "Data untuk MDRN.JK telah berhasil dimasukkan ke MySQL.\n",
      "Data untuk MEDC.JK telah berhasil dimasukkan ke MySQL.\n",
      "Data untuk MEGA.JK telah berhasil dimasukkan ke MySQL.\n",
      "Data untuk MERK.JK telah berhasil dimasukkan ke MySQL.\n",
      "Data untuk META.JK telah berhasil dimasukkan ke MySQL.\n",
      "Data untuk MFIN.JK telah berhasil dimasukkan ke MySQL.\n",
      "Data untuk MFMI.JK telah berhasil dimasukkan ke MySQL.\n",
      "Data untuk MGNA.JK telah berhasil dimasukkan ke MySQL.\n",
      "Data untuk MICE.JK telah berhasil dimasukkan ke MySQL.\n",
      "Data untuk MIDI.JK telah berhasil dimasukkan ke MySQL.\n",
      "Data untuk MIKA.JK telah berhasil dimasukkan ke MySQL.\n",
      "Data untuk MIRA.JK telah berhasil dimasukkan ke MySQL.\n",
      "Data untuk MITI.JK telah berhasil dimasukkan ke MySQL.\n",
      "Data untuk MKPI.JK telah berhasil dimasukkan ke MySQL.\n",
      "Data untuk MLBI.JK telah berhasil dimasukkan ke MySQL.\n",
      "Data untuk MLIA.JK telah berhasil dimasukkan ke MySQL.\n",
      "Data untuk MLPL.JK telah berhasil dimasukkan ke MySQL.\n",
      "Data untuk MLPT.JK telah berhasil dimasukkan ke MySQL.\n",
      "Data untuk MMLP.JK telah berhasil dimasukkan ke MySQL.\n",
      "Data untuk MNCN.JK telah berhasil dimasukkan ke MySQL.\n",
      "Data untuk MPMX.JK telah berhasil dimasukkan ke MySQL.\n",
      "Data untuk MPPA.JK telah berhasil dimasukkan ke MySQL.\n",
      "Data untuk MRAT.JK telah berhasil dimasukkan ke MySQL.\n",
      "Data untuk MREI.JK telah berhasil dimasukkan ke MySQL.\n",
      "Data untuk MSKY.JK telah berhasil dimasukkan ke MySQL.\n",
      "Data untuk MTDL.JK telah berhasil dimasukkan ke MySQL.\n",
      "Data untuk MTFN.JK telah berhasil dimasukkan ke MySQL.\n",
      "Data untuk MTLA.JK telah berhasil dimasukkan ke MySQL.\n",
      "Data untuk MTSM.JK telah berhasil dimasukkan ke MySQL.\n",
      "Data untuk MYOH.JK telah berhasil dimasukkan ke MySQL.\n",
      "Data untuk MYOR.JK telah berhasil dimasukkan ke MySQL.\n",
      "Data untuk MYRX.JK telah berhasil dimasukkan ke MySQL.\n",
      "Data untuk MYTX.JK telah berhasil dimasukkan ke MySQL.\n",
      "Data untuk NELY.JK telah berhasil dimasukkan ke MySQL.\n",
      "Data untuk NIKL.JK telah berhasil dimasukkan ke MySQL.\n",
      "Data untuk NIPS.JK telah berhasil dimasukkan ke MySQL.\n",
      "Data untuk NIRO.JK telah berhasil dimasukkan ke MySQL.\n",
      "Data untuk NISP.JK telah berhasil dimasukkan ke MySQL.\n",
      "Data untuk NOBU.JK telah berhasil dimasukkan ke MySQL.\n",
      "Data untuk NRCA.JK telah berhasil dimasukkan ke MySQL.\n",
      "Data untuk OCAP.JK telah berhasil dimasukkan ke MySQL.\n",
      "Data untuk OKAS.JK telah berhasil dimasukkan ke MySQL.\n",
      "Data untuk OMRE.JK telah berhasil dimasukkan ke MySQL.\n",
      "Data untuk PADI.JK telah berhasil dimasukkan ke MySQL.\n",
      "Data untuk PALM.JK telah berhasil dimasukkan ke MySQL.\n",
      "Data untuk PANR.JK telah berhasil dimasukkan ke MySQL.\n",
      "Data untuk PANS.JK telah berhasil dimasukkan ke MySQL.\n",
      "Data untuk PBRX.JK telah berhasil dimasukkan ke MySQL.\n",
      "Data untuk PDES.JK telah berhasil dimasukkan ke MySQL.\n",
      "Data untuk PEGE.JK telah berhasil dimasukkan ke MySQL.\n",
      "Data untuk PGAS.JK telah berhasil dimasukkan ke MySQL.\n",
      "Data untuk PGLI.JK telah berhasil dimasukkan ke MySQL.\n",
      "Data untuk PICO.JK telah berhasil dimasukkan ke MySQL.\n",
      "Data untuk PJAA.JK telah berhasil dimasukkan ke MySQL.\n",
      "Data untuk PKPK.JK telah berhasil dimasukkan ke MySQL.\n",
      "Data untuk PLAS.JK telah berhasil dimasukkan ke MySQL.\n",
      "Data untuk PLIN.JK telah berhasil dimasukkan ke MySQL.\n",
      "Data untuk PNBN.JK telah berhasil dimasukkan ke MySQL.\n",
      "Data untuk PNBS.JK telah berhasil dimasukkan ke MySQL.\n",
      "Data untuk PNIN.JK telah berhasil dimasukkan ke MySQL.\n",
      "Data untuk PNLF.JK telah berhasil dimasukkan ke MySQL.\n",
      "Data untuk PNSE.JK telah berhasil dimasukkan ke MySQL.\n",
      "Data untuk POLY.JK telah berhasil dimasukkan ke MySQL.\n",
      "Data untuk POOL.JK telah berhasil dimasukkan ke MySQL.\n",
      "Data untuk PPRO.JK telah berhasil dimasukkan ke MySQL.\n",
      "Data untuk PRAS.JK telah berhasil dimasukkan ke MySQL.\n",
      "Data untuk PSAB.JK telah berhasil dimasukkan ke MySQL.\n",
      "Data untuk PSDN.JK telah berhasil dimasukkan ke MySQL.\n",
      "Data untuk PSKT.JK telah berhasil dimasukkan ke MySQL.\n",
      "Data untuk PTBA.JK telah berhasil dimasukkan ke MySQL.\n",
      "Data untuk PTIS.JK telah berhasil dimasukkan ke MySQL.\n",
      "Data untuk PTPP.JK telah berhasil dimasukkan ke MySQL.\n",
      "Data untuk PTRO.JK telah berhasil dimasukkan ke MySQL.\n",
      "Data untuk PTSN.JK telah berhasil dimasukkan ke MySQL.\n",
      "Data untuk PTSP.JK telah berhasil dimasukkan ke MySQL.\n",
      "Data untuk PUDP.JK telah berhasil dimasukkan ke MySQL.\n",
      "Data untuk PWON.JK telah berhasil dimasukkan ke MySQL.\n",
      "Data untuk PYFA.JK telah berhasil dimasukkan ke MySQL.\n",
      "Data untuk RAJA.JK telah berhasil dimasukkan ke MySQL.\n",
      "Data untuk RALS.JK telah berhasil dimasukkan ke MySQL.\n",
      "Data untuk RANC.JK telah berhasil dimasukkan ke MySQL.\n",
      "Data untuk RBMS.JK telah berhasil dimasukkan ke MySQL.\n",
      "Data untuk RDTX.JK telah berhasil dimasukkan ke MySQL.\n",
      "Data untuk RELI.JK telah berhasil dimasukkan ke MySQL.\n",
      "Data untuk RICY.JK telah berhasil dimasukkan ke MySQL.\n",
      "Data untuk RIGS.JK telah berhasil dimasukkan ke MySQL.\n",
      "Data untuk RIMO.JK telah berhasil dimasukkan ke MySQL.\n",
      "Data untuk RODA.JK telah berhasil dimasukkan ke MySQL.\n",
      "Data untuk ROTI.JK telah berhasil dimasukkan ke MySQL.\n",
      "Data untuk RUIS.JK telah berhasil dimasukkan ke MySQL.\n",
      "Data untuk SAFE.JK telah berhasil dimasukkan ke MySQL.\n",
      "Data untuk SAME.JK telah berhasil dimasukkan ke MySQL.\n",
      "Data untuk SCCO.JK telah berhasil dimasukkan ke MySQL.\n",
      "Data untuk SCMA.JK telah berhasil dimasukkan ke MySQL.\n",
      "Data untuk SCPI.JK telah berhasil dimasukkan ke MySQL.\n",
      "Data untuk SDMU.JK telah berhasil dimasukkan ke MySQL.\n",
      "Data untuk SDPC.JK telah berhasil dimasukkan ke MySQL.\n",
      "Data untuk SDRA.JK telah berhasil dimasukkan ke MySQL.\n",
      "Data untuk SGRO.JK telah berhasil dimasukkan ke MySQL.\n",
      "Data untuk SHID.JK telah berhasil dimasukkan ke MySQL.\n",
      "Data untuk SIDO.JK telah berhasil dimasukkan ke MySQL.\n",
      "Data untuk SILO.JK telah berhasil dimasukkan ke MySQL.\n",
      "Data untuk SIMA.JK telah berhasil dimasukkan ke MySQL.\n",
      "Data untuk SIMP.JK telah berhasil dimasukkan ke MySQL.\n",
      "Data untuk SIPD.JK telah berhasil dimasukkan ke MySQL.\n",
      "Data untuk SKBM.JK telah berhasil dimasukkan ke MySQL.\n",
      "Data untuk SKLT.JK telah berhasil dimasukkan ke MySQL.\n",
      "Data untuk SKYB.JK telah berhasil dimasukkan ke MySQL.\n",
      "Data untuk SMAR.JK telah berhasil dimasukkan ke MySQL.\n",
      "Data untuk SMBR.JK telah berhasil dimasukkan ke MySQL.\n",
      "Data untuk SMCB.JK telah berhasil dimasukkan ke MySQL.\n",
      "Data untuk SMDM.JK telah berhasil dimasukkan ke MySQL.\n",
      "Data untuk SMDR.JK telah berhasil dimasukkan ke MySQL.\n",
      "Data untuk SMGR.JK telah berhasil dimasukkan ke MySQL.\n",
      "Data untuk SMMA.JK telah berhasil dimasukkan ke MySQL.\n",
      "Data untuk SMMT.JK telah berhasil dimasukkan ke MySQL.\n",
      "Data untuk SMRA.JK telah berhasil dimasukkan ke MySQL.\n",
      "Data untuk SMRU.JK telah berhasil dimasukkan ke MySQL.\n",
      "Data untuk SMSM.JK telah berhasil dimasukkan ke MySQL.\n",
      "Data untuk SOCI.JK telah berhasil dimasukkan ke MySQL.\n",
      "Data untuk SONA.JK telah berhasil dimasukkan ke MySQL.\n",
      "Data untuk SPMA.JK telah berhasil dimasukkan ke MySQL.\n",
      "Data untuk SQMI.JK telah berhasil dimasukkan ke MySQL.\n",
      "Data untuk SRAJ.JK telah berhasil dimasukkan ke MySQL.\n",
      "Data untuk SRIL.JK telah berhasil dimasukkan ke MySQL.\n",
      "Data untuk SRSN.JK telah berhasil dimasukkan ke MySQL.\n",
      "Data untuk SRTG.JK telah berhasil dimasukkan ke MySQL.\n",
      "Data untuk SSIA.JK telah berhasil dimasukkan ke MySQL.\n",
      "Data untuk SSMS.JK telah berhasil dimasukkan ke MySQL.\n",
      "Data untuk SSTM.JK telah berhasil dimasukkan ke MySQL.\n",
      "Data untuk STAR.JK telah berhasil dimasukkan ke MySQL.\n",
      "Data untuk STTP.JK telah berhasil dimasukkan ke MySQL.\n",
      "Data untuk SUGI.JK telah berhasil dimasukkan ke MySQL.\n",
      "Data untuk SULI.JK telah berhasil dimasukkan ke MySQL.\n",
      "Data untuk SUPR.JK telah berhasil dimasukkan ke MySQL.\n",
      "Data untuk TALF.JK telah berhasil dimasukkan ke MySQL.\n",
      "Data untuk TARA.JK telah berhasil dimasukkan ke MySQL.\n",
      "Data untuk TAXI.JK telah berhasil dimasukkan ke MySQL.\n",
      "Data untuk TBIG.JK telah berhasil dimasukkan ke MySQL.\n",
      "Data untuk TBLA.JK telah berhasil dimasukkan ke MySQL.\n",
      "Data untuk TBMS.JK telah berhasil dimasukkan ke MySQL.\n",
      "Data untuk TCID.JK telah berhasil dimasukkan ke MySQL.\n",
      "Data untuk TELE.JK telah berhasil dimasukkan ke MySQL.\n",
      "Data untuk TFCO.JK telah berhasil dimasukkan ke MySQL.\n",
      "Data untuk TGKA.JK telah berhasil dimasukkan ke MySQL.\n",
      "Data untuk TIFA.JK telah berhasil dimasukkan ke MySQL.\n",
      "Data untuk TINS.JK telah berhasil dimasukkan ke MySQL.\n",
      "Data untuk TIRA.JK telah berhasil dimasukkan ke MySQL.\n",
      "Data untuk TIRT.JK telah berhasil dimasukkan ke MySQL.\n",
      "Data untuk TKIM.JK telah berhasil dimasukkan ke MySQL.\n",
      "Data untuk TLKM.JK telah berhasil dimasukkan ke MySQL.\n",
      "Data untuk TMAS.JK telah berhasil dimasukkan ke MySQL.\n",
      "Data untuk TMPO.JK telah berhasil dimasukkan ke MySQL.\n",
      "Data untuk TOBA.JK telah berhasil dimasukkan ke MySQL.\n",
      "Data untuk TOTL.JK telah berhasil dimasukkan ke MySQL.\n",
      "Data untuk TOTO.JK telah berhasil dimasukkan ke MySQL.\n",
      "Data untuk TOWR.JK telah berhasil dimasukkan ke MySQL.\n",
      "Data untuk TPIA.JK telah berhasil dimasukkan ke MySQL.\n",
      "Data untuk TPMA.JK telah berhasil dimasukkan ke MySQL.\n",
      "Data untuk TRAM.JK telah berhasil dimasukkan ke MySQL.\n",
      "Data untuk TRIL.JK telah berhasil dimasukkan ke MySQL.\n",
      "Data untuk TRIM.JK telah berhasil dimasukkan ke MySQL.\n",
      "Data untuk TRIO.JK telah berhasil dimasukkan ke MySQL.\n",
      "Data untuk TRIS.JK telah berhasil dimasukkan ke MySQL.\n",
      "Data untuk TRST.JK telah berhasil dimasukkan ke MySQL.\n",
      "Data untuk TRUS.JK telah berhasil dimasukkan ke MySQL.\n",
      "Data untuk TSPC.JK telah berhasil dimasukkan ke MySQL.\n",
      "Data untuk ULTJ.JK telah berhasil dimasukkan ke MySQL.\n",
      "Data untuk UNIC.JK telah berhasil dimasukkan ke MySQL.\n",
      "Data untuk UNIT.JK telah berhasil dimasukkan ke MySQL.\n",
      "Data untuk UNSP.JK telah berhasil dimasukkan ke MySQL.\n",
      "Data untuk UNTR.JK telah berhasil dimasukkan ke MySQL.\n",
      "Data untuk UNVR.JK telah berhasil dimasukkan ke MySQL.\n",
      "Data untuk VICO.JK telah berhasil dimasukkan ke MySQL.\n",
      "Data untuk VINS.JK telah berhasil dimasukkan ke MySQL.\n",
      "Data untuk VIVA.JK telah berhasil dimasukkan ke MySQL.\n",
      "Data untuk VOKS.JK telah berhasil dimasukkan ke MySQL.\n",
      "Data untuk VRNA.JK telah berhasil dimasukkan ke MySQL.\n",
      "Data untuk WAPO.JK telah berhasil dimasukkan ke MySQL.\n",
      "Data untuk WEHA.JK telah berhasil dimasukkan ke MySQL.\n",
      "Data untuk WICO.JK telah berhasil dimasukkan ke MySQL.\n",
      "Data untuk WIIM.JK telah berhasil dimasukkan ke MySQL.\n",
      "Data untuk WIKA.JK telah berhasil dimasukkan ke MySQL.\n",
      "Data untuk WINS.JK telah berhasil dimasukkan ke MySQL.\n",
      "Data untuk WOMF.JK telah berhasil dimasukkan ke MySQL.\n",
      "Data untuk WSKT.JK telah berhasil dimasukkan ke MySQL.\n",
      "Data untuk WTON.JK telah berhasil dimasukkan ke MySQL.\n",
      "Data untuk YPAS.JK telah berhasil dimasukkan ke MySQL.\n",
      "Data untuk YULE.JK telah berhasil dimasukkan ke MySQL.\n",
      "Data untuk ZBRA.JK telah berhasil dimasukkan ke MySQL.\n",
      "Data untuk SHIP.JK telah berhasil dimasukkan ke MySQL.\n",
      "Data untuk CASA.JK telah berhasil dimasukkan ke MySQL.\n",
      "Data untuk DAYA.JK telah berhasil dimasukkan ke MySQL.\n",
      "Data untuk DPUM.JK telah berhasil dimasukkan ke MySQL.\n",
      "Data untuk IDPR.JK telah berhasil dimasukkan ke MySQL.\n",
      "Data untuk JGLE.JK telah berhasil dimasukkan ke MySQL.\n",
      "Data untuk KINO.JK telah berhasil dimasukkan ke MySQL.\n",
      "Data untuk MARI.JK telah berhasil dimasukkan ke MySQL.\n",
      "Data untuk MKNT.JK telah berhasil dimasukkan ke MySQL.\n",
      "Data untuk MTRA.JK telah berhasil dimasukkan ke MySQL.\n",
      "Data untuk OASA.JK telah berhasil dimasukkan ke MySQL.\n",
      "Data untuk POWR.JK telah berhasil dimasukkan ke MySQL.\n",
      "Data untuk INCF.JK telah berhasil dimasukkan ke MySQL.\n",
      "Data untuk WSBP.JK telah berhasil dimasukkan ke MySQL.\n",
      "Data untuk PBSA.JK telah berhasil dimasukkan ke MySQL.\n",
      "Data untuk PRDA.JK telah berhasil dimasukkan ke MySQL.\n",
      "Data untuk BOGA.JK telah berhasil dimasukkan ke MySQL.\n",
      "Data untuk BRIS.JK telah berhasil dimasukkan ke MySQL.\n",
      "Data untuk PORT.JK telah berhasil dimasukkan ke MySQL.\n",
      "Data untuk CARS.JK telah berhasil dimasukkan ke MySQL.\n",
      "Data untuk MINA.JK telah berhasil dimasukkan ke MySQL.\n",
      "Data untuk FORZ.JK telah berhasil dimasukkan ke MySQL.\n",
      "Data untuk CLEO.JK telah berhasil dimasukkan ke MySQL.\n",
      "Data untuk TAMU.JK telah berhasil dimasukkan ke MySQL.\n",
      "Data untuk CSIS.JK telah berhasil dimasukkan ke MySQL.\n",
      "Data untuk TGRA.JK telah berhasil dimasukkan ke MySQL.\n",
      "Data untuk FIRE.JK telah berhasil dimasukkan ke MySQL.\n",
      "Data untuk TOPS.JK telah berhasil dimasukkan ke MySQL.\n",
      "Data untuk KMTR.JK telah berhasil dimasukkan ke MySQL.\n",
      "Data untuk ARMY.JK telah berhasil dimasukkan ke MySQL.\n",
      "Data untuk MAPB.JK telah berhasil dimasukkan ke MySQL.\n",
      "Data untuk WOOD.JK telah berhasil dimasukkan ke MySQL.\n",
      "Data untuk HRTA.JK telah berhasil dimasukkan ke MySQL.\n",
      "Data untuk MABA.JK telah berhasil dimasukkan ke MySQL.\n",
      "Data untuk HOKI.JK telah berhasil dimasukkan ke MySQL.\n",
      "Data untuk MPOW.JK telah berhasil dimasukkan ke MySQL.\n",
      "Data untuk MARK.JK telah berhasil dimasukkan ke MySQL.\n",
      "Data untuk NASA.JK telah berhasil dimasukkan ke MySQL.\n",
      "Data untuk MDKI.JK telah berhasil dimasukkan ke MySQL.\n",
      "Data untuk BELL.JK telah berhasil dimasukkan ke MySQL.\n",
      "Data untuk KIOS.JK telah berhasil dimasukkan ke MySQL.\n",
      "Data untuk GMFI.JK telah berhasil dimasukkan ke MySQL.\n",
      "Data untuk MTWI.JK telah berhasil dimasukkan ke MySQL.\n",
      "Data untuk ZINC.JK telah berhasil dimasukkan ke MySQL.\n",
      "Data untuk MCAS.JK telah berhasil dimasukkan ke MySQL.\n",
      "Data untuk PPRE.JK telah berhasil dimasukkan ke MySQL.\n",
      "Data untuk WEGE.JK telah berhasil dimasukkan ke MySQL.\n",
      "Data untuk PSSI.JK telah berhasil dimasukkan ke MySQL.\n",
      "Data untuk MORA.JK telah berhasil dimasukkan ke MySQL.\n",
      "Data untuk DWGL.JK telah berhasil dimasukkan ke MySQL.\n",
      "Data untuk PBID.JK telah berhasil dimasukkan ke MySQL.\n",
      "Data untuk JMAS.JK telah berhasil dimasukkan ke MySQL.\n",
      "Data untuk CAMP.JK telah berhasil dimasukkan ke MySQL.\n",
      "Data untuk IPCM.JK telah berhasil dimasukkan ke MySQL.\n",
      "Data untuk PCAR.JK telah berhasil dimasukkan ke MySQL.\n",
      "Data untuk LCKM.JK telah berhasil dimasukkan ke MySQL.\n",
      "Data untuk BOSS.JK telah berhasil dimasukkan ke MySQL.\n",
      "Data untuk HELI.JK telah berhasil dimasukkan ke MySQL.\n",
      "Data untuk JSKY.JK telah berhasil dimasukkan ke MySQL.\n",
      "Data untuk INPS.JK telah berhasil dimasukkan ke MySQL.\n",
      "Data untuk GHON.JK telah berhasil dimasukkan ke MySQL.\n",
      "Data untuk TDPM.JK telah berhasil dimasukkan ke MySQL.\n",
      "Data untuk DFAM.JK telah berhasil dimasukkan ke MySQL.\n",
      "Data untuk NICK.JK telah berhasil dimasukkan ke MySQL.\n",
      "Data untuk BTPS.JK telah berhasil dimasukkan ke MySQL.\n",
      "Data untuk SPTO.JK telah berhasil dimasukkan ke MySQL.\n",
      "Data untuk PRIM.JK telah berhasil dimasukkan ke MySQL.\n",
      "Data untuk HEAL.JK telah berhasil dimasukkan ke MySQL.\n",
      "Data untuk TRUK.JK telah berhasil dimasukkan ke MySQL.\n",
      "Data untuk PZZA.JK telah berhasil dimasukkan ke MySQL.\n",
      "Data untuk TUGU.JK telah berhasil dimasukkan ke MySQL.\n",
      "Data untuk MSIN.JK telah berhasil dimasukkan ke MySQL.\n",
      "Data untuk SWAT.JK telah berhasil dimasukkan ke MySQL.\n",
      "Data untuk KPAL.JK telah berhasil dimasukkan ke MySQL.\n",
      "Data untuk TNCA.JK telah berhasil dimasukkan ke MySQL.\n",
      "Data untuk MAPA.JK telah berhasil dimasukkan ke MySQL.\n",
      "Data untuk TCPI.JK telah berhasil dimasukkan ke MySQL.\n",
      "Data untuk IPCC.JK telah berhasil dimasukkan ke MySQL.\n",
      "Data untuk RISE.JK telah berhasil dimasukkan ke MySQL.\n",
      "Data untuk BPTR.JK telah berhasil dimasukkan ke MySQL.\n",
      "Data untuk POLL.JK telah berhasil dimasukkan ke MySQL.\n",
      "Data untuk NFCX.JK telah berhasil dimasukkan ke MySQL.\n",
      "Data untuk MGRO.JK telah berhasil dimasukkan ke MySQL.\n",
      "Data untuk NUSA.JK telah berhasil dimasukkan ke MySQL.\n",
      "Data untuk FILM.JK telah berhasil dimasukkan ke MySQL.\n",
      "Data untuk ANDI.JK telah berhasil dimasukkan ke MySQL.\n",
      "Data untuk LAND.JK telah berhasil dimasukkan ke MySQL.\n",
      "Data untuk MOLI.JK telah berhasil dimasukkan ke MySQL.\n",
      "Data untuk PANI.JK telah berhasil dimasukkan ke MySQL.\n",
      "Data untuk DIGI.JK telah berhasil dimasukkan ke MySQL.\n",
      "Data untuk CITY.JK telah berhasil dimasukkan ke MySQL.\n",
      "Data untuk SAPX.JK telah berhasil dimasukkan ke MySQL.\n",
      "Data untuk KPAS.JK telah berhasil dimasukkan ke MySQL.\n",
      "Data untuk SURE.JK telah berhasil dimasukkan ke MySQL.\n",
      "Data untuk HKMU.JK telah berhasil dimasukkan ke MySQL.\n",
      "Data untuk MPRO.JK telah berhasil dimasukkan ke MySQL.\n",
      "Data untuk DUCK.JK telah berhasil dimasukkan ke MySQL.\n",
      "Data untuk GOOD.JK telah berhasil dimasukkan ke MySQL.\n",
      "Data untuk SKRN.JK telah berhasil dimasukkan ke MySQL.\n",
      "Data untuk YELO.JK telah berhasil dimasukkan ke MySQL.\n",
      "Data untuk CAKK.JK telah berhasil dimasukkan ke MySQL.\n",
      "Data untuk SATU.JK telah berhasil dimasukkan ke MySQL.\n",
      "Data untuk SOSS.JK telah berhasil dimasukkan ke MySQL.\n",
      "Data untuk DEAL.JK telah berhasil dimasukkan ke MySQL.\n",
      "Data untuk POLA.JK telah berhasil dimasukkan ke MySQL.\n",
      "Data untuk DIVA.JK telah berhasil dimasukkan ke MySQL.\n",
      "Data untuk LUCK.JK telah berhasil dimasukkan ke MySQL.\n",
      "Data untuk URBN.JK telah berhasil dimasukkan ke MySQL.\n",
      "Data untuk SOTS.JK telah berhasil dimasukkan ke MySQL.\n",
      "Data untuk ZONE.JK telah berhasil dimasukkan ke MySQL.\n",
      "Data untuk PEHA.JK telah berhasil dimasukkan ke MySQL.\n",
      "Data untuk FOOD.JK telah berhasil dimasukkan ke MySQL.\n",
      "Data untuk BEEF.JK telah berhasil dimasukkan ke MySQL.\n",
      "Data untuk POLI.JK telah berhasil dimasukkan ke MySQL.\n",
      "Data untuk CLAY.JK telah berhasil dimasukkan ke MySQL.\n",
      "Data untuk NATO.JK telah berhasil dimasukkan ke MySQL.\n",
      "Data untuk JAYA.JK telah berhasil dimasukkan ke MySQL.\n",
      "Data untuk COCO.JK telah berhasil dimasukkan ke MySQL.\n",
      "Data untuk MTPS.JK telah berhasil dimasukkan ke MySQL.\n",
      "Data untuk CPRI.JK telah berhasil dimasukkan ke MySQL.\n",
      "Data untuk HRME.JK telah berhasil dimasukkan ke MySQL.\n",
      "Data untuk POSA.JK telah berhasil dimasukkan ke MySQL.\n",
      "Data untuk JAST.JK telah berhasil dimasukkan ke MySQL.\n",
      "Data untuk FITT.JK telah berhasil dimasukkan ke MySQL.\n",
      "Data untuk BOLA.JK telah berhasil dimasukkan ke MySQL.\n",
      "Data untuk CCSI.JK telah berhasil dimasukkan ke MySQL.\n",
      "Data untuk SFAN.JK telah berhasil dimasukkan ke MySQL.\n",
      "Data untuk POLU.JK telah berhasil dimasukkan ke MySQL.\n",
      "Data untuk KJEN.JK telah berhasil dimasukkan ke MySQL.\n",
      "Data untuk KAYU.JK telah berhasil dimasukkan ke MySQL.\n",
      "Data untuk ITIC.JK telah berhasil dimasukkan ke MySQL.\n",
      "Data untuk PAMG.JK telah berhasil dimasukkan ke MySQL.\n",
      "Data untuk IPTV.JK telah berhasil dimasukkan ke MySQL.\n",
      "Data untuk BLUE.JK telah berhasil dimasukkan ke MySQL.\n",
      "Data untuk ENVY.JK telah berhasil dimasukkan ke MySQL.\n",
      "Data untuk EAST.JK telah berhasil dimasukkan ke MySQL.\n",
      "Data untuk LIFE.JK telah berhasil dimasukkan ke MySQL.\n",
      "Data untuk FUJI.JK telah berhasil dimasukkan ke MySQL.\n",
      "Data untuk KOTA.JK telah berhasil dimasukkan ke MySQL.\n",
      "Data untuk INOV.JK telah berhasil dimasukkan ke MySQL.\n",
      "Data untuk ARKA.JK telah berhasil dimasukkan ke MySQL.\n",
      "Data untuk SMKL.JK telah berhasil dimasukkan ke MySQL.\n",
      "Data untuk HDIT.JK telah berhasil dimasukkan ke MySQL.\n",
      "Data untuk KEEN.JK telah berhasil dimasukkan ke MySQL.\n",
      "Data untuk BAPI.JK telah berhasil dimasukkan ke MySQL.\n",
      "Data untuk TFAS.JK telah berhasil dimasukkan ke MySQL.\n",
      "Data untuk GGRP.JK telah berhasil dimasukkan ke MySQL.\n",
      "Data untuk OPMS.JK telah berhasil dimasukkan ke MySQL.\n",
      "Data untuk NZIA.JK telah berhasil dimasukkan ke MySQL.\n",
      "Data untuk SLIS.JK telah berhasil dimasukkan ke MySQL.\n",
      "Data untuk PURE.JK telah berhasil dimasukkan ke MySQL.\n",
      "Data untuk IRRA.JK telah berhasil dimasukkan ke MySQL.\n",
      "Data untuk DMMX.JK telah berhasil dimasukkan ke MySQL.\n",
      "Data untuk SINI.JK telah berhasil dimasukkan ke MySQL.\n",
      "Data untuk WOWS.JK telah berhasil dimasukkan ke MySQL.\n",
      "Data untuk ESIP.JK telah berhasil dimasukkan ke MySQL.\n",
      "Data untuk TEBE.JK telah berhasil dimasukkan ke MySQL.\n",
      "Data untuk KEJU.JK telah berhasil dimasukkan ke MySQL.\n",
      "Data untuk PSGO.JK telah berhasil dimasukkan ke MySQL.\n",
      "Data untuk AGAR.JK telah berhasil dimasukkan ke MySQL.\n",
      "Data untuk IFSH.JK telah berhasil dimasukkan ke MySQL.\n",
      "Data untuk REAL.JK telah berhasil dimasukkan ke MySQL.\n",
      "Data untuk IFII.JK telah berhasil dimasukkan ke MySQL.\n",
      "Data untuk PMJS.JK telah berhasil dimasukkan ke MySQL.\n",
      "Data untuk UCID.JK telah berhasil dimasukkan ke MySQL.\n",
      "Data untuk GLVA.JK telah berhasil dimasukkan ke MySQL.\n",
      "Data untuk PGJO.JK telah berhasil dimasukkan ke MySQL.\n",
      "Data untuk AMAR.JK telah berhasil dimasukkan ke MySQL.\n",
      "Data untuk CSRA.JK telah berhasil dimasukkan ke MySQL.\n",
      "Data untuk INDO.JK telah berhasil dimasukkan ke MySQL.\n",
      "Data untuk AMOR.JK telah berhasil dimasukkan ke MySQL.\n",
      "Data untuk TRIN.JK telah berhasil dimasukkan ke MySQL.\n",
      "Data untuk DMND.JK telah berhasil dimasukkan ke MySQL.\n",
      "Data untuk PURA.JK telah berhasil dimasukkan ke MySQL.\n",
      "Data untuk PTPW.JK telah berhasil dimasukkan ke MySQL.\n",
      "Data untuk TAMA.JK telah berhasil dimasukkan ke MySQL.\n",
      "Data untuk IKAN.JK telah berhasil dimasukkan ke MySQL.\n",
      "Data untuk AYLS.JK telah berhasil dimasukkan ke MySQL.\n",
      "Data untuk DADA.JK telah berhasil dimasukkan ke MySQL.\n",
      "Data untuk ASPI.JK telah berhasil dimasukkan ke MySQL.\n",
      "Data untuk ESTA.JK telah berhasil dimasukkan ke MySQL.\n",
      "Data untuk BESS.JK telah berhasil dimasukkan ke MySQL.\n",
      "Data untuk AMAN.JK telah berhasil dimasukkan ke MySQL.\n",
      "Data untuk CARE.JK telah berhasil dimasukkan ke MySQL.\n",
      "Data untuk SAMF.JK telah berhasil dimasukkan ke MySQL.\n",
      "Data untuk SBAT.JK telah berhasil dimasukkan ke MySQL.\n",
      "Data untuk KBAG.JK telah berhasil dimasukkan ke MySQL.\n",
      "Data untuk CBMF.JK telah berhasil dimasukkan ke MySQL.\n",
      "Data untuk RONY.JK telah berhasil dimasukkan ke MySQL.\n",
      "Data untuk CSMI.JK telah berhasil dimasukkan ke MySQL.\n",
      "Data untuk BBSS.JK telah berhasil dimasukkan ke MySQL.\n",
      "Data untuk BHAT.JK telah berhasil dimasukkan ke MySQL.\n",
      "Data untuk CASH.JK telah berhasil dimasukkan ke MySQL.\n",
      "Data untuk TECH.JK telah berhasil dimasukkan ke MySQL.\n",
      "Data untuk EPAC.JK telah berhasil dimasukkan ke MySQL.\n",
      "Data untuk UANG.JK telah berhasil dimasukkan ke MySQL.\n",
      "Data untuk PGUN.JK telah berhasil dimasukkan ke MySQL.\n",
      "Data untuk SOFA.JK telah berhasil dimasukkan ke MySQL.\n",
      "Data untuk PPGL.JK telah berhasil dimasukkan ke MySQL.\n",
      "Data untuk TOYS.JK telah berhasil dimasukkan ke MySQL.\n",
      "Data untuk SGER.JK telah berhasil dimasukkan ke MySQL.\n",
      "Data untuk TRJA.JK telah berhasil dimasukkan ke MySQL.\n",
      "Data untuk PNGO.JK telah berhasil dimasukkan ke MySQL.\n",
      "Data untuk SCNP.JK telah berhasil dimasukkan ke MySQL.\n",
      "Data untuk BBSI.JK telah berhasil dimasukkan ke MySQL.\n",
      "Data untuk KMDS.JK telah berhasil dimasukkan ke MySQL.\n",
      "Data untuk PURI.JK telah berhasil dimasukkan ke MySQL.\n",
      "Data untuk SOHO.JK telah berhasil dimasukkan ke MySQL.\n",
      "Data untuk HOMI.JK telah berhasil dimasukkan ke MySQL.\n",
      "Data untuk ROCK.JK telah berhasil dimasukkan ke MySQL.\n",
      "Data untuk ENZO.JK telah berhasil dimasukkan ke MySQL.\n",
      "Data untuk PLAN.JK telah berhasil dimasukkan ke MySQL.\n",
      "Data untuk PTDU.JK telah berhasil dimasukkan ke MySQL.\n",
      "Data untuk ATAP.JK telah berhasil dimasukkan ke MySQL.\n",
      "Data untuk VICI.JK telah berhasil dimasukkan ke MySQL.\n",
      "Data untuk PMMP.JK telah berhasil dimasukkan ke MySQL.\n",
      "Data untuk WIFI.JK telah berhasil dimasukkan ke MySQL.\n",
      "Data untuk FAPA.JK telah berhasil dimasukkan ke MySQL.\n",
      "Data untuk DCII.JK telah berhasil dimasukkan ke MySQL.\n",
      "Data untuk KETR.JK telah berhasil dimasukkan ke MySQL.\n",
      "Data untuk DGNS.JK telah berhasil dimasukkan ke MySQL.\n",
      "Data untuk UFOE.JK telah berhasil dimasukkan ke MySQL.\n",
      "Data untuk BANK.JK telah berhasil dimasukkan ke MySQL.\n",
      "Data untuk WMUU.JK telah berhasil dimasukkan ke MySQL.\n",
      "Data untuk EDGE.JK telah berhasil dimasukkan ke MySQL.\n",
      "Data untuk UNIQ.JK telah berhasil dimasukkan ke MySQL.\n",
      "Data untuk BEBS.JK telah berhasil dimasukkan ke MySQL.\n",
      "Data untuk SNLK.JK telah berhasil dimasukkan ke MySQL.\n",
      "Data untuk ZYRX.JK telah berhasil dimasukkan ke MySQL.\n",
      "Data untuk LFLO.JK telah berhasil dimasukkan ke MySQL.\n",
      "Data untuk FIMP.JK telah berhasil dimasukkan ke MySQL.\n",
      "Data untuk TAPG.JK telah berhasil dimasukkan ke MySQL.\n",
      "Data untuk NPGF.JK telah berhasil dimasukkan ke MySQL.\n",
      "Data untuk LUCY.JK telah berhasil dimasukkan ke MySQL.\n",
      "Data untuk ADCP.JK telah berhasil dimasukkan ke MySQL.\n",
      "Data untuk HOPE.JK telah berhasil dimasukkan ke MySQL.\n",
      "Data untuk MGLV.JK telah berhasil dimasukkan ke MySQL.\n",
      "Data untuk TRUE.JK telah berhasil dimasukkan ke MySQL.\n",
      "Data untuk LABA.JK telah berhasil dimasukkan ke MySQL.\n",
      "Data untuk ARCI.JK telah berhasil dimasukkan ke MySQL.\n",
      "Data untuk IPAC.JK telah berhasil dimasukkan ke MySQL.\n",
      "Data untuk MASB.JK telah berhasil dimasukkan ke MySQL.\n",
      "Data untuk BMHS.JK telah berhasil dimasukkan ke MySQL.\n",
      "Data untuk FLMC.JK telah berhasil dimasukkan ke MySQL.\n",
      "Data untuk NICL.JK telah berhasil dimasukkan ke MySQL.\n",
      "Data untuk UVCR.JK telah berhasil dimasukkan ke MySQL.\n",
      "Data untuk BUKA.JK telah berhasil dimasukkan ke MySQL.\n",
      "Data untuk HAIS.JK telah berhasil dimasukkan ke MySQL.\n",
      "Data untuk OILS.JK telah berhasil dimasukkan ke MySQL.\n",
      "Data untuk GPSO.JK telah berhasil dimasukkan ke MySQL.\n",
      "Data untuk MCOL.JK telah berhasil dimasukkan ke MySQL.\n",
      "Data untuk RSGK.JK telah berhasil dimasukkan ke MySQL.\n",
      "Data untuk RUNS.JK telah berhasil dimasukkan ke MySQL.\n",
      "Data untuk SBMA.JK telah berhasil dimasukkan ke MySQL.\n",
      "Data untuk CMNT.JK telah berhasil dimasukkan ke MySQL.\n",
      "Data untuk GTSI.JK telah berhasil dimasukkan ke MySQL.\n",
      "Data untuk IDEA.JK telah berhasil dimasukkan ke MySQL.\n",
      "Data untuk KUAS.JK telah berhasil dimasukkan ke MySQL.\n",
      "Data untuk BOBA.JK telah berhasil dimasukkan ke MySQL.\n",
      "Data untuk MTEL.JK telah berhasil dimasukkan ke MySQL.\n",
      "Data untuk DEPO.JK telah berhasil dimasukkan ke MySQL.\n",
      "Data untuk BINO.JK telah berhasil dimasukkan ke MySQL.\n",
      "Data untuk CMRY.JK telah berhasil dimasukkan ke MySQL.\n",
      "Data untuk WGSH.JK telah berhasil dimasukkan ke MySQL.\n",
      "Data untuk TAYS.JK telah berhasil dimasukkan ke MySQL.\n",
      "Data untuk WMPP.JK telah berhasil dimasukkan ke MySQL.\n",
      "Data untuk RMKE.JK telah berhasil dimasukkan ke MySQL.\n",
      "Data untuk OBMD.JK telah berhasil dimasukkan ke MySQL.\n",
      "Data untuk AVIA.JK telah berhasil dimasukkan ke MySQL.\n",
      "Data untuk IPPE.JK telah berhasil dimasukkan ke MySQL.\n",
      "Data untuk NASI.JK telah berhasil dimasukkan ke MySQL.\n",
      "Data untuk BSML.JK telah berhasil dimasukkan ke MySQL.\n",
      "Data untuk DRMA.JK telah berhasil dimasukkan ke MySQL.\n",
      "Data untuk ADMR.JK telah berhasil dimasukkan ke MySQL.\n",
      "Data untuk SEMA.JK telah berhasil dimasukkan ke MySQL.\n",
      "Data untuk ASLC.JK telah berhasil dimasukkan ke MySQL.\n",
      "Data untuk NETV.JK telah berhasil dimasukkan ke MySQL.\n",
      "Data untuk BAUT.JK telah berhasil dimasukkan ke MySQL.\n",
      "Data untuk ENAK.JK telah berhasil dimasukkan ke MySQL.\n",
      "Data untuk NTBK.JK telah berhasil dimasukkan ke MySQL.\n",
      "Data untuk SMKM.JK telah berhasil dimasukkan ke MySQL.\n",
      "Data untuk STAA.JK telah berhasil dimasukkan ke MySQL.\n",
      "Data untuk NANO.JK telah berhasil dimasukkan ke MySQL.\n",
      "Data untuk BIKE.JK telah berhasil dimasukkan ke MySQL.\n",
      "Data untuk WIRG.JK telah berhasil dimasukkan ke MySQL.\n",
      "Data untuk SICO.JK telah berhasil dimasukkan ke MySQL.\n",
      "Data untuk GOTO.JK telah berhasil dimasukkan ke MySQL.\n",
      "Data untuk TLDN.JK telah berhasil dimasukkan ke MySQL.\n",
      "Data untuk MTMH.JK telah berhasil dimasukkan ke MySQL.\n",
      "Data untuk WINR.JK telah berhasil dimasukkan ke MySQL.\n",
      "Data untuk IBOS.JK telah berhasil dimasukkan ke MySQL.\n",
      "Data untuk OLIV.JK telah berhasil dimasukkan ke MySQL.\n",
      "Data untuk ASHA.JK telah berhasil dimasukkan ke MySQL.\n",
      "Data untuk SWID.JK telah berhasil dimasukkan ke MySQL.\n",
      "Data untuk TRGU.JK telah berhasil dimasukkan ke MySQL.\n",
      "Data untuk ARKO.JK telah berhasil dimasukkan ke MySQL.\n",
      "Data untuk CHEM.JK telah berhasil dimasukkan ke MySQL.\n",
      "Data untuk DEWI.JK telah berhasil dimasukkan ke MySQL.\n",
      "Data untuk AXIO.JK telah berhasil dimasukkan ke MySQL.\n",
      "Data untuk KRYA.JK telah berhasil dimasukkan ke MySQL.\n",
      "Data untuk HATM.JK telah berhasil dimasukkan ke MySQL.\n",
      "Data untuk RCCC.JK telah berhasil dimasukkan ke MySQL.\n",
      "Data untuk GULA.JK telah berhasil dimasukkan ke MySQL.\n",
      "Data untuk JARR.JK telah berhasil dimasukkan ke MySQL.\n",
      "Data untuk AMMS.JK telah berhasil dimasukkan ke MySQL.\n",
      "Data untuk RAFI.JK telah berhasil dimasukkan ke MySQL.\n",
      "Data untuk KKES.JK telah berhasil dimasukkan ke MySQL.\n",
      "Data untuk ELPI.JK telah berhasil dimasukkan ke MySQL.\n",
      "Data untuk EURO.JK telah berhasil dimasukkan ke MySQL.\n",
      "Data untuk KLIN.JK telah berhasil dimasukkan ke MySQL.\n",
      "Data untuk TOOL.JK telah berhasil dimasukkan ke MySQL.\n",
      "Data untuk BUAH.JK telah berhasil dimasukkan ke MySQL.\n",
      "Data untuk CRAB.JK telah berhasil dimasukkan ke MySQL.\n",
      "Data untuk MEDS.JK telah berhasil dimasukkan ke MySQL.\n",
      "Data untuk COAL.JK telah berhasil dimasukkan ke MySQL.\n",
      "Data untuk PRAY.JK telah berhasil dimasukkan ke MySQL.\n",
      "Data untuk CBUT.JK telah berhasil dimasukkan ke MySQL.\n",
      "Data untuk BELI.JK telah berhasil dimasukkan ke MySQL.\n",
      "Data untuk MKTR.JK telah berhasil dimasukkan ke MySQL.\n",
      "Data untuk OMED.JK telah berhasil dimasukkan ke MySQL.\n",
      "Data untuk BSBK.JK telah berhasil dimasukkan ke MySQL.\n",
      "Data untuk PDPP.JK telah berhasil dimasukkan ke MySQL.\n",
      "Data untuk KDTN.JK telah berhasil dimasukkan ke MySQL.\n",
      "Data untuk ZATA.JK telah berhasil dimasukkan ke MySQL.\n",
      "Data untuk NINE.JK telah berhasil dimasukkan ke MySQL.\n",
      "Data untuk MMIX.JK telah berhasil dimasukkan ke MySQL.\n",
      "Data untuk PADA.JK telah berhasil dimasukkan ke MySQL.\n",
      "Data untuk ISAP.JK telah berhasil dimasukkan ke MySQL.\n",
      "Data untuk VTNY.JK telah berhasil dimasukkan ke MySQL.\n",
      "Data untuk SOUL.JK telah berhasil dimasukkan ke MySQL.\n",
      "Data untuk ELIT.JK telah berhasil dimasukkan ke MySQL.\n",
      "Data untuk BEER.JK telah berhasil dimasukkan ke MySQL.\n",
      "Data untuk CBPE.JK telah berhasil dimasukkan ke MySQL.\n",
      "Data untuk SUNI.JK telah berhasil dimasukkan ke MySQL.\n",
      "Data untuk CBRE.JK telah berhasil dimasukkan ke MySQL.\n",
      "Data untuk WINE.JK telah berhasil dimasukkan ke MySQL.\n",
      "Data untuk BMBL.JK telah berhasil dimasukkan ke MySQL.\n",
      "Data untuk PEVE.JK telah berhasil dimasukkan ke MySQL.\n",
      "Data untuk LAJU.JK telah berhasil dimasukkan ke MySQL.\n",
      "Data untuk FWCT.JK telah berhasil dimasukkan ke MySQL.\n",
      "Data untuk NAYZ.JK telah berhasil dimasukkan ke MySQL.\n",
      "Data untuk IRSX.JK telah berhasil dimasukkan ke MySQL.\n",
      "Data untuk PACK.JK telah berhasil dimasukkan ke MySQL.\n",
      "Data untuk VAST.JK telah berhasil dimasukkan ke MySQL.\n",
      "Data untuk CHIP.JK telah berhasil dimasukkan ke MySQL.\n",
      "Data untuk HALO.JK telah berhasil dimasukkan ke MySQL.\n",
      "Data untuk KING.JK telah berhasil dimasukkan ke MySQL.\n",
      "Data untuk PGEO.JK telah berhasil dimasukkan ke MySQL.\n",
      "Data untuk FUTR.JK telah berhasil dimasukkan ke MySQL.\n",
      "Data untuk HILL.JK telah berhasil dimasukkan ke MySQL.\n",
      "Data untuk BDKR.JK telah berhasil dimasukkan ke MySQL.\n",
      "Data untuk PTMP.JK telah berhasil dimasukkan ke MySQL.\n",
      "Data untuk SAGE.JK telah berhasil dimasukkan ke MySQL.\n",
      "Data untuk TRON.JK telah berhasil dimasukkan ke MySQL.\n",
      "Data untuk CUAN.JK telah berhasil dimasukkan ke MySQL.\n",
      "Data untuk NSSS.JK telah berhasil dimasukkan ke MySQL.\n",
      "Data untuk GTRA.JK telah berhasil dimasukkan ke MySQL.\n",
      "Data untuk HAJJ.JK telah berhasil dimasukkan ke MySQL.\n",
      "Data untuk PIPA.JK telah berhasil dimasukkan ke MySQL.\n",
      "Data untuk NCKL.JK telah berhasil dimasukkan ke MySQL.\n",
      "Data untuk MENN.JK telah berhasil dimasukkan ke MySQL.\n",
      "Data untuk AWAN.JK telah berhasil dimasukkan ke MySQL.\n",
      "Data untuk MBMA.JK telah berhasil dimasukkan ke MySQL.\n",
      "Data untuk RAAM.JK telah berhasil dimasukkan ke MySQL.\n",
      "Data untuk DOOH.JK telah berhasil dimasukkan ke MySQL.\n",
      "Data untuk JATI.JK telah berhasil dimasukkan ke MySQL.\n",
      "Data untuk TYRE.JK telah berhasil dimasukkan ke MySQL.\n",
      "Data untuk MPXL.JK telah berhasil dimasukkan ke MySQL.\n",
      "Data untuk SMIL.JK telah berhasil dimasukkan ke MySQL.\n",
      "Data untuk KLAS.JK telah berhasil dimasukkan ke MySQL.\n",
      "Data untuk MAXI.JK telah berhasil dimasukkan ke MySQL.\n",
      "Data untuk VKTR.JK telah berhasil dimasukkan ke MySQL.\n",
      "Data untuk RELF.JK telah berhasil dimasukkan ke MySQL.\n",
      "Data untuk AMMN.JK telah berhasil dimasukkan ke MySQL.\n",
      "Data untuk CRSN.JK telah berhasil dimasukkan ke MySQL.\n",
      "Data untuk GRPM.JK telah berhasil dimasukkan ke MySQL.\n",
      "Data untuk WIDI.JK telah berhasil dimasukkan ke MySQL.\n",
      "Data untuk TGUK.JK telah berhasil dimasukkan ke MySQL.\n",
      "Data untuk INET.JK telah berhasil dimasukkan ke MySQL.\n",
      "Data untuk MAHA.JK telah berhasil dimasukkan ke MySQL.\n",
      "Data untuk RMKO.JK telah berhasil dimasukkan ke MySQL.\n",
      "Data untuk CNMA.JK telah berhasil dimasukkan ke MySQL.\n",
      "Data untuk FOLK.JK telah berhasil dimasukkan ke MySQL.\n",
      "Data untuk HBAT.JK telah berhasil dimasukkan ke MySQL.\n",
      "Data untuk GRIA.JK telah berhasil dimasukkan ke MySQL.\n",
      "Data untuk PPRI.JK telah berhasil dimasukkan ke MySQL.\n",
      "Data untuk ERAL.JK telah berhasil dimasukkan ke MySQL.\n",
      "Data untuk CYBR.JK telah berhasil dimasukkan ke MySQL.\n",
      "Data untuk MUTU.JK telah berhasil dimasukkan ke MySQL.\n",
      "Data untuk LMAX.JK telah berhasil dimasukkan ke MySQL.\n",
      "Data untuk HUMI.JK telah berhasil dimasukkan ke MySQL.\n",
      "Data untuk MSIE.JK telah berhasil dimasukkan ke MySQL.\n",
      "Data untuk RSCH.JK telah berhasil dimasukkan ke MySQL.\n",
      "Data untuk BABY.JK telah berhasil dimasukkan ke MySQL.\n",
      "Data untuk AEGS.JK telah berhasil dimasukkan ke MySQL.\n",
      "Data untuk IOTF.JK telah berhasil dimasukkan ke MySQL.\n",
      "Data untuk KOCI.JK telah berhasil dimasukkan ke MySQL.\n",
      "Data untuk PTPS.JK telah berhasil dimasukkan ke MySQL.\n",
      "Data untuk BREN.JK telah berhasil dimasukkan ke MySQL.\n",
      "Data untuk STRK.JK telah berhasil dimasukkan ke MySQL.\n",
      "Data untuk KOKA.JK telah berhasil dimasukkan ke MySQL.\n",
      "Data untuk LOPI.JK telah berhasil dimasukkan ke MySQL.\n",
      "Data untuk UDNG.JK telah berhasil dimasukkan ke MySQL.\n",
      "Data untuk RGAS.JK telah berhasil dimasukkan ke MySQL.\n",
      "Data untuk MSTI.JK telah berhasil dimasukkan ke MySQL.\n",
      "Data untuk IKPM.JK telah berhasil dimasukkan ke MySQL.\n",
      "Data untuk AYAM.JK telah berhasil dimasukkan ke MySQL.\n",
      "Data untuk SURI.JK telah berhasil dimasukkan ke MySQL.\n",
      "Data untuk ASLI.JK telah berhasil dimasukkan ke MySQL.\n",
      "Data untuk CGAS.JK telah berhasil dimasukkan ke MySQL.\n",
      "Data untuk NICE.JK telah berhasil dimasukkan ke MySQL.\n",
      "Data untuk MSJA.JK telah berhasil dimasukkan ke MySQL.\n",
      "Data untuk SMLE.JK telah berhasil dimasukkan ke MySQL.\n",
      "Data untuk ACRO.JK telah berhasil dimasukkan ke MySQL.\n",
      "Data untuk MANG.JK telah berhasil dimasukkan ke MySQL.\n",
      "Data untuk GRPH.JK telah berhasil dimasukkan ke MySQL.\n",
      "Data untuk SMGA.JK telah berhasil dimasukkan ke MySQL.\n",
      "Data untuk UNTD.JK telah berhasil dimasukkan ke MySQL.\n",
      "Data untuk TOSK.JK telah berhasil dimasukkan ke MySQL.\n",
      "Data untuk MPIX.JK telah berhasil dimasukkan ke MySQL.\n",
      "Data untuk ALII.JK telah berhasil dimasukkan ke MySQL.\n",
      "Data untuk MKAP.JK telah berhasil dimasukkan ke MySQL.\n",
      "Data untuk MEJA.JK telah berhasil dimasukkan ke MySQL.\n",
      "Data untuk LIVE.JK telah berhasil dimasukkan ke MySQL.\n",
      "Data untuk HYGN.JK telah berhasil dimasukkan ke MySQL.\n",
      "Data untuk BAIK.JK telah berhasil dimasukkan ke MySQL.\n",
      "Data untuk VISI.JK telah berhasil dimasukkan ke MySQL.\n",
      "Data untuk AREA.JK telah berhasil dimasukkan ke MySQL.\n",
      "Data untuk MHKI.JK telah berhasil dimasukkan ke MySQL.\n",
      "Data untuk ATLA.JK telah berhasil dimasukkan ke MySQL.\n",
      "Data untuk DATA.JK telah berhasil dimasukkan ke MySQL.\n",
      "Data untuk SOLA.JK telah berhasil dimasukkan ke MySQL.\n",
      "Data untuk BATR.JK telah berhasil dimasukkan ke MySQL.\n",
      "Data untuk SPRE.JK telah berhasil dimasukkan ke MySQL.\n",
      "Data untuk PART.JK telah berhasil dimasukkan ke MySQL.\n",
      "Data untuk GOLF.JK telah berhasil dimasukkan ke MySQL.\n",
      "Data untuk ISEA.JK telah berhasil dimasukkan ke MySQL.\n",
      "Data untuk BLES.JK telah berhasil dimasukkan ke MySQL.\n",
      "Data untuk GUNA.JK telah berhasil dimasukkan ke MySQL.\n",
      "Data untuk LABS.JK telah berhasil dimasukkan ke MySQL.\n",
      "Data untuk DOSS.JK telah berhasil dimasukkan ke MySQL.\n",
      "Data untuk NEST.JK telah berhasil dimasukkan ke MySQL.\n",
      "Data untuk PTMR.JK telah berhasil dimasukkan ke MySQL.\n",
      "Data untuk VERN.JK telah berhasil dimasukkan ke MySQL.\n",
      "Data untuk DAAZ.JK telah berhasil dimasukkan ke MySQL.\n",
      "Data untuk BOAT.JK telah berhasil dimasukkan ke MySQL.\n",
      "Data untuk NAIK.JK telah berhasil dimasukkan ke MySQL.\n",
      "Data untuk AADI.JK telah berhasil dimasukkan ke MySQL.\n",
      "Data untuk MDIY.JK telah berhasil dimasukkan ke MySQL.\n",
      "Data untuk KSIX.JK telah berhasil dimasukkan ke MySQL.\n",
      "Data untuk RATU.JK telah berhasil dimasukkan ke MySQL.\n",
      "Data untuk YOII.JK telah berhasil dimasukkan ke MySQL.\n",
      "Data untuk HGII.JK telah berhasil dimasukkan ke MySQL.\n",
      "Data untuk BRRC.JK telah berhasil dimasukkan ke MySQL.\n",
      "Data untuk DGWG.JK telah berhasil dimasukkan ke MySQL.\n",
      "Data untuk CBDK.JK telah berhasil dimasukkan ke MySQL.\n",
      "Data untuk OBAT.JK telah berhasil dimasukkan ke MySQL.\n"
     ]
    }
   ],
   "source": [
    "import yfinance as yf\n",
    "import pandas as pd\n",
    "import pymysql\n",
    "import json\n",
    "\n",
    "connection = pymysql.connect(\n",
    "    host='localhost',\n",
    "    user='root',\n",
    "    password='',\n",
    "    database='harga_saham'\n",
    ")\n",
    "cursor = connection.cursor()\n",
    "\n",
    "create_table_sql = \"\"\"\n",
    "CREATE TABLE IF NOT EXISTS data_saham_max_all_feb (\n",
    "    id INT AUTO_INCREMENT PRIMARY KEY,\n",
    "    Ticker VARCHAR(10),\n",
    "    Data JSON\n",
    ")\n",
    "\"\"\"\n",
    "cursor.execute(create_table_sql)\n",
    "\n",
    "# List of tickers\n",
    "tickers = ['AALI.JK', 'ABBA.JK', 'ABDA.JK', 'ABMM.JK', 'ACES.JK', 'ACST.JK', 'ADES.JK', 'ADHI.JK', 'ADMF.JK', 'ADMG.JK', 'ADRO.JK', 'AGII.JK', 'AGRO.JK', 'AGRS.JK', 'AHAP.JK', 'AIMS.JK', 'AISA.JK', 'AKKU.JK', 'AKPI.JK', 'AKRA.JK', 'AKSI.JK', 'ALDO.JK', 'ALKA.JK', 'ALMI.JK', 'ALTO.JK', 'AMAG.JK', 'AMFG.JK', 'AMIN.JK', 'AMRT.JK', 'ANJT.JK', 'ANTM.JK', 'APEX.JK', 'APIC.JK', 'APII.JK', 'APLI.JK', 'APLN.JK', 'ARGO.JK', 'ARII.JK', 'ARNA.JK', 'ARTA.JK', 'ARTI.JK', 'ARTO.JK', 'ASBI.JK', 'ASDM.JK', 'ASGR.JK', 'ASII.JK', 'ASJT.JK', 'ASMI.JK', 'ASRI.JK', 'ASRM.JK', 'ASSA.JK', 'ATIC.JK', 'AUTO.JK', 'BABP.JK', 'BACA.JK', 'BAJA.JK', 'BALI.JK', 'BAPA.JK', 'BATA.JK', 'BAYU.JK', 'BBCA.JK', 'BBHI.JK', 'BBKP.JK', 'BBLD.JK', 'BBMD.JK', 'BBNI.JK', 'BBRI.JK', 'BBRM.JK', 'BBTN.JK', 'BBYB.JK', 'BCAP.JK', 'BCIC.JK', 'BCIP.JK', 'BDMN.JK', 'BEKS.JK', 'BEST.JK', 'BFIN.JK', 'BGTG.JK', 'BHIT.JK', 'BIKA.JK', 'BIMA.JK', 'BINA.JK', 'BIPI.JK', 'BIPP.JK', 'BIRD.JK', 'BISI.JK', 'BJBR.JK', 'BJTM.JK', 'BKDP.JK', 'BKSL.JK', 'BKSW.JK', 'BLTA.JK', 'BLTZ.JK', 'BMAS.JK', 'BMRI.JK', 'BMSR.JK', 'BMTR.JK', 'BNBA.JK', 'BNBR.JK', 'BNGA.JK', 'BNII.JK', 'BNLI.JK', 'BOLT.JK', 'BPFI.JK', 'BPII.JK', 'BRAM.JK', 'BRMS.JK', 'BRNA.JK', 'BRPT.JK', 'BSDE.JK', 'BSIM.JK', 'BSSR.JK', 'BSWD.JK', 'BTEK.JK', 'BTEL.JK', 'BTON.JK', 'BTPN.JK', 'BUDI.JK', 'BUKK.JK', 'BULL.JK', 'BUMI.JK', 'BUVA.JK', 'BVIC.JK', 'BWPT.JK', 'BYAN.JK', 'CANI.JK', 'CASS.JK', 'CEKA.JK', 'CENT.JK', 'CFIN.JK', 'CINT.JK', 'CITA.JK', 'CLPI.JK', 'CMNP.JK', 'CMPP.JK', 'CNKO.JK', 'CNTX.JK', 'COWL.JK', 'CPIN.JK', 'CPRO.JK', 'CSAP.JK', 'CTBN.JK', 'CTRA.JK', 'CTTH.JK', 'DART.JK', 'DEFI.JK', 'DEWA.JK', 'DGIK.JK', 'DILD.JK', 'DKFT.JK', 'DLTA.JK', 'DMAS.JK', 'DNAR.JK', 'DNET.JK', 'DOID.JK', 'DPNS.JK', 'DSFI.JK', 'DSNG.JK', 'DSSA.JK', 'DUTI.JK', 'DVLA.JK', 'DYAN.JK', 'ECII.JK', 'EKAD.JK', 'ELSA.JK', 'ELTY.JK', 'EMDE.JK', 'EMTK.JK', 'ENRG.JK', 'EPMT.JK', 'ERAA.JK', 'ERTX.JK', 'ESSA.JK', 'ESTI.JK', 'ETWA.JK', 'EXCL.JK', 'FAST.JK', 'FASW.JK', 'FISH.JK', 'FMII.JK', 'FORU.JK', 'FPNI.JK', 'FREN.JK', 'GAMA.JK', 'GDST.JK', 'GDYR.JK', 'GEMA.JK', 'GEMS.JK', 'GGRM.JK', 'GIAA.JK', 'GJTL.JK', 'GLOB.JK', 'GMTD.JK', 'GOLD.JK', 'GOLL.JK', 'GPRA.JK', 'GSMF.JK', 'GTBO.JK', 'GWSA.JK', 'GZCO.JK', 'HADE.JK', 'HDFA.JK', 'HDTX.JK', 'HERO.JK', 'HEXA.JK', 'HITS.JK', 'HMSP.JK', 'HOME.JK', 'HOTL.JK', 'HRUM.JK', 'IATA.JK', 'IBFN.JK', 'IBST.JK', 'ICBP.JK', 'ICON.JK', 'IGAR.JK', 'IIKP.JK', 'IKAI.JK', 'IKBI.JK', 'IMAS.JK', 'IMJS.JK', 'IMPC.JK', 'INAF.JK', 'INAI.JK', 'INCI.JK', 'INCO.JK', 'INDF.JK', 'INDR.JK', 'INDS.JK', 'INDX.JK', 'INDY.JK', 'INKP.JK', 'INPC.JK', 'INPP.JK', 'INRU.JK', 'INTA.JK', 'INTD.JK', 'INTP.JK', 'IPOL.JK', 'ISAT.JK', 'ISSP.JK', 'ITMA.JK', 'ITMG.JK', 'JAWA.JK', 'JECC.JK', 'JIHD.JK', 'JKON.JK', 'JKSW.JK', 'JPFA.JK', 'JRPT.JK', 'JSMR.JK', 'JSPT.JK', 'JTPE.JK', 'KAEF.JK', 'KARW.JK', 'KBLI.JK', 'KBLM.JK', 'KBLV.JK', 'KBRI.JK', 'KDSI.JK', 'KIAS.JK', 'KICI.JK', 'KIJA.JK', 'KKGI.JK', 'KLBF.JK', 'KOBX.JK', 'KOIN.JK', 'KONI.JK', 'KOPI.JK', 'KPIG.JK', 'KRAH.JK', 'KRAS.JK', 'KREN.JK', 'LAPD.JK', 'LCGP.JK', 'LEAD.JK', 'LINK.JK', 'LION.JK', 'LMAS.JK', 'LMPI.JK', 'LMSH.JK', 'LPCK.JK', 'LPGI.JK', 'LPIN.JK', 'LPKR.JK', 'LPLI.JK', 'LPPF.JK', 'LPPS.JK', 'LRNA.JK', 'LSIP.JK', 'LTLS.JK', 'MAGP.JK', 'MAIN.JK', 'MAMI.JK', 'MAPI.JK', 'MASA.JK', 'MAYA.JK', 'MBAP.JK', 'MBSS.JK', 'MBTO.JK', 'MCOR.JK', 'MDIA.JK', 'MDKA.JK', 'MDLN.JK', 'MDRN.JK', 'MEDC.JK', 'MEGA.JK', 'MERK.JK', 'META.JK', 'MFIN.JK', 'MFMI.JK', 'MGNA.JK', 'MICE.JK', 'MIDI.JK', 'MIKA.JK', 'MIRA.JK', 'MITI.JK', 'MKPI.JK', 'MLBI.JK', 'MLIA.JK', 'MLPL.JK', 'MLPT.JK', 'MMLP.JK', 'MNCN.JK', 'MPMX.JK', 'MPPA.JK', 'MRAT.JK', 'MREI.JK', 'MSKY.JK', 'MTDL.JK', 'MTFN.JK', 'MTLA.JK', 'MTSM.JK', 'MYOH.JK', 'MYOR.JK', 'MYRX.JK', 'MYTX.JK', 'NELY.JK', 'NIKL.JK', 'NIPS.JK', 'NIRO.JK', 'NISP.JK', 'NOBU.JK', 'NRCA.JK', 'OCAP.JK', 'OKAS.JK', 'OMRE.JK', 'PADI.JK', 'PALM.JK', 'PANR.JK', 'PANS.JK', 'PBRX.JK', 'PDES.JK', 'PEGE.JK', 'PGAS.JK', 'PGLI.JK', 'PICO.JK', 'PJAA.JK', 'PKPK.JK', 'PLAS.JK', 'PLIN.JK', 'PNBN.JK', 'PNBS.JK', 'PNIN.JK', 'PNLF.JK', 'PNSE.JK', 'POLY.JK', 'POOL.JK', 'PPRO.JK', 'PRAS.JK', 'PSAB.JK', 'PSDN.JK', 'PSKT.JK', 'PTBA.JK', 'PTIS.JK', 'PTPP.JK', 'PTRO.JK', 'PTSN.JK', 'PTSP.JK', 'PUDP.JK', 'PWON.JK', 'PYFA.JK', 'RAJA.JK', 'RALS.JK', 'RANC.JK', 'RBMS.JK', 'RDTX.JK', 'RELI.JK', 'RICY.JK', 'RIGS.JK', 'RIMO.JK', 'RODA.JK', 'ROTI.JK', 'RUIS.JK', 'SAFE.JK', 'SAME.JK', 'SCCO.JK', 'SCMA.JK', 'SCPI.JK', 'SDMU.JK', 'SDPC.JK', 'SDRA.JK', 'SGRO.JK', 'SHID.JK', 'SIDO.JK', 'SILO.JK', 'SIMA.JK', 'SIMP.JK', 'SIPD.JK', 'SKBM.JK', 'SKLT.JK', 'SKYB.JK', 'SMAR.JK', 'SMBR.JK', 'SMCB.JK', 'SMDM.JK', 'SMDR.JK', 'SMGR.JK', 'SMMA.JK', 'SMMT.JK', 'SMRA.JK', 'SMRU.JK', 'SMSM.JK', 'SOCI.JK', 'SONA.JK', 'SPMA.JK', 'SQMI.JK', 'SRAJ.JK', 'SRIL.JK', 'SRSN.JK', 'SRTG.JK', 'SSIA.JK', 'SSMS.JK', 'SSTM.JK', 'STAR.JK', 'STTP.JK', 'SUGI.JK', 'SULI.JK', 'SUPR.JK', 'TALF.JK', 'TARA.JK', 'TAXI.JK', 'TBIG.JK', 'TBLA.JK', 'TBMS.JK', 'TCID.JK', 'TELE.JK', 'TFCO.JK', 'TGKA.JK', 'TIFA.JK', 'TINS.JK', 'TIRA.JK', 'TIRT.JK', 'TKIM.JK', 'TLKM.JK', 'TMAS.JK', 'TMPO.JK', 'TOBA.JK', 'TOTL.JK', 'TOTO.JK', 'TOWR.JK', 'TPIA.JK', 'TPMA.JK', 'TRAM.JK', 'TRIL.JK', 'TRIM.JK', 'TRIO.JK', 'TRIS.JK', 'TRST.JK', 'TRUS.JK', 'TSPC.JK', 'ULTJ.JK', 'UNIC.JK', 'UNIT.JK', 'UNSP.JK', 'UNTR.JK', 'UNVR.JK', 'VICO.JK', 'VINS.JK', 'VIVA.JK', 'VOKS.JK', 'VRNA.JK', 'WAPO.JK', 'WEHA.JK', 'WICO.JK', 'WIIM.JK', 'WIKA.JK', 'WINS.JK', 'WOMF.JK', 'WSKT.JK', 'WTON.JK', 'YPAS.JK', 'YULE.JK', 'ZBRA.JK', 'SHIP.JK', 'CASA.JK', 'DAYA.JK', 'DPUM.JK', 'IDPR.JK', 'JGLE.JK', 'KINO.JK', 'MARI.JK', 'MKNT.JK', 'MTRA.JK', 'OASA.JK', 'POWR.JK', 'INCF.JK', 'WSBP.JK', 'PBSA.JK', 'PRDA.JK', 'BOGA.JK', 'BRIS.JK', 'PORT.JK', 'CARS.JK', 'MINA.JK', 'FORZ.JK', 'CLEO.JK', 'TAMU.JK', 'CSIS.JK', 'TGRA.JK', 'FIRE.JK', 'TOPS.JK', 'KMTR.JK', 'ARMY.JK', 'MAPB.JK', 'WOOD.JK', 'HRTA.JK', 'MABA.JK', 'HOKI.JK', 'MPOW.JK', 'MARK.JK', 'NASA.JK', 'MDKI.JK', 'BELL.JK', 'KIOS.JK', 'GMFI.JK', 'MTWI.JK', 'ZINC.JK', 'MCAS.JK', 'PPRE.JK', 'WEGE.JK', 'PSSI.JK', 'MORA.JK', 'DWGL.JK', 'PBID.JK', 'JMAS.JK', 'CAMP.JK', 'IPCM.JK', 'PCAR.JK', 'LCKM.JK', 'BOSS.JK', 'HELI.JK', 'JSKY.JK', 'INPS.JK', 'GHON.JK', 'TDPM.JK', 'DFAM.JK', 'NICK.JK', 'BTPS.JK', 'SPTO.JK', 'PRIM.JK', 'HEAL.JK', 'TRUK.JK', 'PZZA.JK', 'TUGU.JK', 'MSIN.JK', 'SWAT.JK', 'KPAL.JK', 'TNCA.JK', 'MAPA.JK', 'TCPI.JK', 'IPCC.JK', 'RISE.JK', 'BPTR.JK', 'POLL.JK', 'NFCX.JK', 'MGRO.JK', 'NUSA.JK', 'FILM.JK', 'ANDI.JK', 'LAND.JK', 'MOLI.JK', 'PANI.JK', 'DIGI.JK', 'CITY.JK', 'SAPX.JK', 'KPAS.JK', 'SURE.JK', 'HKMU.JK', 'MPRO.JK', 'DUCK.JK', 'GOOD.JK', 'SKRN.JK', 'YELO.JK', 'CAKK.JK', 'SATU.JK', 'SOSS.JK', 'DEAL.JK', 'POLA.JK', 'DIVA.JK', 'LUCK.JK', 'URBN.JK', 'SOTS.JK', 'ZONE.JK', 'PEHA.JK', 'FOOD.JK', 'BEEF.JK', 'POLI.JK', 'CLAY.JK', 'NATO.JK', 'JAYA.JK', 'COCO.JK', 'MTPS.JK', 'CPRI.JK', 'HRME.JK', 'POSA.JK', 'JAST.JK', 'FITT.JK', 'BOLA.JK', 'CCSI.JK', 'SFAN.JK', 'POLU.JK', 'KJEN.JK', 'KAYU.JK', 'ITIC.JK', 'PAMG.JK', 'IPTV.JK', 'BLUE.JK', 'ENVY.JK', 'EAST.JK', 'LIFE.JK', 'FUJI.JK', 'KOTA.JK', 'INOV.JK', 'ARKA.JK', 'SMKL.JK', 'HDIT.JK', 'KEEN.JK', 'BAPI.JK', 'TFAS.JK', 'GGRP.JK', 'OPMS.JK', 'NZIA.JK', 'SLIS.JK', 'PURE.JK', 'IRRA.JK', 'DMMX.JK', 'SINI.JK', 'WOWS.JK', 'ESIP.JK', 'TEBE.JK', 'KEJU.JK', 'PSGO.JK', 'AGAR.JK', 'IFSH.JK', 'REAL.JK', 'IFII.JK', 'PMJS.JK', 'UCID.JK', 'GLVA.JK', 'PGJO.JK', 'AMAR.JK', 'CSRA.JK', 'INDO.JK', 'AMOR.JK', 'TRIN.JK', 'DMND.JK', 'PURA.JK', 'PTPW.JK', 'TAMA.JK', 'IKAN.JK', 'AYLS.JK', 'DADA.JK', 'ASPI.JK', 'ESTA.JK', 'BESS.JK', 'AMAN.JK', 'CARE.JK', 'SAMF.JK', 'SBAT.JK', 'KBAG.JK', 'CBMF.JK', 'RONY.JK', 'CSMI.JK', 'BBSS.JK', 'BHAT.JK', 'CASH.JK', 'TECH.JK', 'EPAC.JK', 'UANG.JK', 'PGUN.JK', 'SOFA.JK', 'PPGL.JK', 'TOYS.JK', 'SGER.JK', 'TRJA.JK', 'PNGO.JK', 'SCNP.JK', 'BBSI.JK', 'KMDS.JK', 'PURI.JK', 'SOHO.JK', 'HOMI.JK', 'ROCK.JK', 'ENZO.JK', 'PLAN.JK', 'PTDU.JK', 'ATAP.JK', 'VICI.JK', 'PMMP.JK', 'WIFI.JK', 'FAPA.JK', 'DCII.JK', 'KETR.JK', 'DGNS.JK', 'UFOE.JK', 'BANK.JK', 'WMUU.JK', 'EDGE.JK', 'UNIQ.JK', 'BEBS.JK', 'SNLK.JK', 'ZYRX.JK', 'LFLO.JK', 'FIMP.JK', 'TAPG.JK', 'NPGF.JK', 'LUCY.JK', 'ADCP.JK', 'HOPE.JK', 'MGLV.JK', 'TRUE.JK', 'LABA.JK', 'ARCI.JK', 'IPAC.JK', 'MASB.JK', 'BMHS.JK', 'FLMC.JK', 'NICL.JK', 'UVCR.JK', 'BUKA.JK', 'HAIS.JK', 'OILS.JK', 'GPSO.JK', 'MCOL.JK', 'RSGK.JK', 'RUNS.JK', 'SBMA.JK', 'CMNT.JK', 'GTSI.JK', 'IDEA.JK', 'KUAS.JK', 'BOBA.JK', 'MTEL.JK', 'DEPO.JK', 'BINO.JK', 'CMRY.JK', 'WGSH.JK', 'TAYS.JK', 'WMPP.JK', 'RMKE.JK', 'OBMD.JK', 'AVIA.JK', 'IPPE.JK', 'NASI.JK', 'BSML.JK', 'DRMA.JK', 'ADMR.JK', 'SEMA.JK', 'ASLC.JK', 'NETV.JK', 'BAUT.JK', 'ENAK.JK', 'NTBK.JK', 'SMKM.JK', 'STAA.JK', 'NANO.JK', 'BIKE.JK', 'WIRG.JK', 'SICO.JK', 'GOTO.JK', 'TLDN.JK', 'MTMH.JK', 'WINR.JK', 'IBOS.JK', 'OLIV.JK', 'ASHA.JK', 'SWID.JK', 'TRGU.JK', 'ARKO.JK', 'CHEM.JK', 'DEWI.JK', 'AXIO.JK', 'KRYA.JK', 'HATM.JK', 'RCCC.JK', 'GULA.JK', 'JARR.JK', 'AMMS.JK', 'RAFI.JK', 'KKES.JK', 'ELPI.JK', 'EURO.JK', 'KLIN.JK', 'TOOL.JK', 'BUAH.JK', 'CRAB.JK', 'MEDS.JK', 'COAL.JK', 'PRAY.JK', 'CBUT.JK', 'BELI.JK', 'MKTR.JK', 'OMED.JK', 'BSBK.JK', 'PDPP.JK', 'KDTN.JK', 'ZATA.JK', 'NINE.JK', 'MMIX.JK', 'PADA.JK', 'ISAP.JK', 'VTNY.JK', 'SOUL.JK', 'ELIT.JK', 'BEER.JK', 'CBPE.JK', 'SUNI.JK', 'CBRE.JK', 'WINE.JK', 'BMBL.JK', 'PEVE.JK', 'LAJU.JK', 'FWCT.JK', 'NAYZ.JK', 'IRSX.JK', 'PACK.JK', 'VAST.JK', 'CHIP.JK', 'HALO.JK', 'KING.JK', 'PGEO.JK', 'FUTR.JK', 'HILL.JK', 'BDKR.JK', 'PTMP.JK', 'SAGE.JK', 'TRON.JK', 'CUAN.JK', 'NSSS.JK', 'GTRA.JK', 'HAJJ.JK', 'PIPA.JK', 'NCKL.JK', 'MENN.JK', 'AWAN.JK', 'MBMA.JK', 'RAAM.JK', 'DOOH.JK', 'JATI.JK', 'TYRE.JK', 'MPXL.JK', 'SMIL.JK', 'KLAS.JK', 'MAXI.JK', 'VKTR.JK', 'RELF.JK', 'AMMN.JK', 'CRSN.JK', 'GRPM.JK', 'WIDI.JK', 'TGUK.JK', 'INET.JK', 'MAHA.JK', 'RMKO.JK', 'CNMA.JK', 'FOLK.JK', 'HBAT.JK', 'GRIA.JK', 'PPRI.JK', 'ERAL.JK', 'CYBR.JK', 'MUTU.JK', 'LMAX.JK', 'HUMI.JK', 'MSIE.JK', 'RSCH.JK', 'BABY.JK', 'AEGS.JK', 'IOTF.JK', 'KOCI.JK', 'PTPS.JK', 'BREN.JK', 'STRK.JK', 'KOKA.JK', 'LOPI.JK', 'UDNG.JK', 'RGAS.JK', 'MSTI.JK', 'IKPM.JK', 'AYAM.JK', 'SURI.JK', 'ASLI.JK', 'CGAS.JK', 'NICE.JK', 'MSJA.JK', 'SMLE.JK', 'ACRO.JK', 'MANG.JK', 'GRPH.JK', 'SMGA.JK', 'UNTD.JK', 'TOSK.JK', 'MPIX.JK', 'ALII.JK', 'MKAP.JK', 'MEJA.JK', 'LIVE.JK', 'HYGN.JK', 'BAIK.JK', 'VISI.JK', 'AREA.JK', 'MHKI.JK', 'ATLA.JK', 'DATA.JK', 'SOLA.JK', 'BATR.JK', 'SPRE.JK', 'PART.JK', 'GOLF.JK', 'ISEA.JK', 'BLES.JK', 'GUNA.JK', 'LABS.JK', 'DOSS.JK', 'NEST.JK', 'PTMR.JK', 'VERN.JK', 'DAAZ.JK', 'BOAT.JK', 'NAIK.JK', 'AADI.JK', 'MDIY.JK', 'KSIX.JK', 'RATU.JK', 'YOII.JK', 'HGII.JK', 'BRRC.JK', 'DGWG.JK', 'CBDK.JK', 'OBAT.JK']\n",
    "\n",
    "data_saham = {}\n",
    "\n",
    "for ticker in tickers:\n",
    "    # Unduh data saham\n",
    "    data = yf.download(ticker, period='max')\n",
    "    # Periksa apakah kolom merupakan MultiIndex, jika ya, flatten menjadi single level\n",
    "    if isinstance(data.columns, pd.MultiIndex):\n",
    "        data.columns = data.columns.get_level_values(0)\n",
    "    data_saham[ticker] = data\n",
    "\n",
    "for ticker in tickers:\n",
    "    # Pastikan index bertipe datetime dan reset index\n",
    "    data_saham[ticker].index = pd.to_datetime(data_saham[ticker].index)\n",
    "    df_new = data_saham[ticker].reset_index()\n",
    "    df_new['Ticker'] = ticker  \n",
    "\n",
    "    # Hanya pilih kolom yang diperlukan\n",
    "    data_saham_max_all_feb_new = df_new[['Date', 'Open', 'High', 'Low', 'Close', 'Volume']].to_dict(orient='records')\n",
    "\n",
    "    # Cek apakah data untuk ticker sudah ada\n",
    "    check_sql = \"SELECT Data FROM data_saham_max_all_feb WHERE Ticker = %s\"\n",
    "    cursor.execute(check_sql, (ticker,))\n",
    "    result = cursor.fetchone()\n",
    "\n",
    "    if result:\n",
    "        data_existing = json.loads(result[0])\n",
    "        df_existing = pd.DataFrame(data_existing)\n",
    "        # Gabungkan data baru dan data yang sudah ada lalu hapus duplikasi berdasarkan kolom 'Date'\n",
    "        df_combined = pd.concat([df_existing, df_new]).drop_duplicates(subset=['Date']).reset_index(drop=True)\n",
    "        data_saham_max_all_feb_combined = df_combined[['Date', 'Open', 'High', 'Low', 'Close', 'Volume']].to_dict(orient='records')\n",
    "        data_json_combined = json.dumps(data_saham_max_all_feb_combined, default=str)\n",
    "\n",
    "        update_sql = \"UPDATE data_saham_max_all_feb SET Data = %s WHERE Ticker = %s\"\n",
    "        cursor.execute(update_sql, (data_json_combined, ticker))\n",
    "        print(f\"Data untuk {ticker} telah berhasil diperbarui dengan data gabungan.\")\n",
    "    else:\n",
    "        data_json_new = json.dumps(data_saham_max_all_feb_new, default=str)\n",
    "        insert_sql = \"INSERT INTO data_saham_max_all_feb (Ticker, Data) VALUES (%s, %s)\"\n",
    "        cursor.execute(insert_sql, (ticker, data_json_new))\n",
    "        print(f\"Data untuk {ticker} telah berhasil dimasukkan ke MySQL.\")\n",
    "\n",
    "    connection.commit()\n",
    "\n",
    "# Tutup koneksi\n",
    "cursor.close()\n",
    "connection.close()\n"
   ]
  },
  {
   "cell_type": "markdown",
   "metadata": {},
   "source": [
    "# UPDATE ALL DATA HOURLY"
   ]
  },
  {
   "cell_type": "code",
   "execution_count": 2,
   "metadata": {},
   "outputs": [
    {
     "name": "stderr",
     "output_type": "stream",
     "text": [
      "[*********************100%***********************]  1 of 1 completed\n"
     ]
    },
    {
     "name": "stdout",
     "output_type": "stream",
     "text": [
      "Minute data for AALI.JK has been successfully inserted into MySQL.\n"
     ]
    },
    {
     "name": "stderr",
     "output_type": "stream",
     "text": [
      "[*********************100%***********************]  1 of 1 completed\n",
      "[*********************100%***********************]  1 of 1 completed"
     ]
    },
    {
     "name": "stdout",
     "output_type": "stream",
     "text": [
      "Minute data for ABBA.JK has been successfully inserted into MySQL.\n"
     ]
    },
    {
     "name": "stderr",
     "output_type": "stream",
     "text": [
      "\n",
      "[*********************100%***********************]  1 of 1 completed\n"
     ]
    },
    {
     "name": "stdout",
     "output_type": "stream",
     "text": [
      "Minute data for ABDA.JK has been successfully inserted into MySQL.\n",
      "Minute data for ABMM.JK has been successfully inserted into MySQL.\n"
     ]
    },
    {
     "name": "stderr",
     "output_type": "stream",
     "text": [
      "[*********************100%***********************]  1 of 1 completed\n"
     ]
    },
    {
     "name": "stdout",
     "output_type": "stream",
     "text": [
      "Minute data for ACES.JK has been successfully inserted into MySQL.\n"
     ]
    },
    {
     "name": "stderr",
     "output_type": "stream",
     "text": [
      "[*********************100%***********************]  1 of 1 completed\n"
     ]
    },
    {
     "name": "stdout",
     "output_type": "stream",
     "text": [
      "Minute data for ACST.JK has been successfully inserted into MySQL.\n"
     ]
    },
    {
     "name": "stderr",
     "output_type": "stream",
     "text": [
      "[*********************100%***********************]  1 of 1 completed\n"
     ]
    },
    {
     "name": "stdout",
     "output_type": "stream",
     "text": [
      "Minute data for ADES.JK has been successfully inserted into MySQL.\n"
     ]
    },
    {
     "name": "stderr",
     "output_type": "stream",
     "text": [
      "[*********************100%***********************]  1 of 1 completed\n"
     ]
    },
    {
     "name": "stdout",
     "output_type": "stream",
     "text": [
      "Minute data for ADHI.JK has been successfully inserted into MySQL.\n"
     ]
    },
    {
     "name": "stderr",
     "output_type": "stream",
     "text": [
      "[*********************100%***********************]  1 of 1 completed\n",
      "[*********************100%***********************]  1 of 1 completed\n"
     ]
    },
    {
     "name": "stdout",
     "output_type": "stream",
     "text": [
      "Minute data for ADMF.JK has been successfully inserted into MySQL.\n",
      "Minute data for ADMG.JK has been successfully inserted into MySQL.\n"
     ]
    },
    {
     "name": "stderr",
     "output_type": "stream",
     "text": [
      "[*********************100%***********************]  1 of 1 completed\n"
     ]
    },
    {
     "name": "stdout",
     "output_type": "stream",
     "text": [
      "Minute data for ADRO.JK has been successfully inserted into MySQL.\n"
     ]
    },
    {
     "name": "stderr",
     "output_type": "stream",
     "text": [
      "[*********************100%***********************]  1 of 1 completed\n"
     ]
    },
    {
     "name": "stdout",
     "output_type": "stream",
     "text": [
      "Minute data for AGII.JK has been successfully inserted into MySQL.\n"
     ]
    },
    {
     "name": "stderr",
     "output_type": "stream",
     "text": [
      "[*********************100%***********************]  1 of 1 completed\n",
      "[*********************100%***********************]  1 of 1 completed"
     ]
    },
    {
     "name": "stdout",
     "output_type": "stream",
     "text": [
      "Minute data for AGRO.JK has been successfully inserted into MySQL.\n"
     ]
    },
    {
     "name": "stderr",
     "output_type": "stream",
     "text": [
      "\n"
     ]
    },
    {
     "name": "stdout",
     "output_type": "stream",
     "text": [
      "Minute data for AGRS.JK has been successfully inserted into MySQL.\n"
     ]
    },
    {
     "name": "stderr",
     "output_type": "stream",
     "text": [
      "[*********************100%***********************]  1 of 1 completed\n"
     ]
    },
    {
     "name": "stdout",
     "output_type": "stream",
     "text": [
      "Minute data for AHAP.JK has been successfully inserted into MySQL.\n"
     ]
    },
    {
     "name": "stderr",
     "output_type": "stream",
     "text": [
      "[*********************100%***********************]  1 of 1 completed\n",
      "[*********************100%***********************]  1 of 1 completed"
     ]
    },
    {
     "name": "stdout",
     "output_type": "stream",
     "text": [
      "Minute data for AIMS.JK has been successfully inserted into MySQL.\n"
     ]
    },
    {
     "name": "stderr",
     "output_type": "stream",
     "text": [
      "\n",
      "[*********************100%***********************]  1 of 1 completed\n"
     ]
    },
    {
     "name": "stdout",
     "output_type": "stream",
     "text": [
      "Minute data for AISA.JK has been successfully inserted into MySQL.\n",
      "Minute data for AKKU.JK has been successfully inserted into MySQL.\n"
     ]
    },
    {
     "name": "stderr",
     "output_type": "stream",
     "text": [
      "[*********************100%***********************]  1 of 1 completed\n"
     ]
    },
    {
     "name": "stdout",
     "output_type": "stream",
     "text": [
      "Minute data for AKPI.JK has been successfully inserted into MySQL.\n"
     ]
    },
    {
     "name": "stderr",
     "output_type": "stream",
     "text": [
      "[*********************100%***********************]  1 of 1 completed\n",
      "[*********************100%***********************]  1 of 1 completed"
     ]
    },
    {
     "name": "stdout",
     "output_type": "stream",
     "text": [
      "Minute data for AKRA.JK has been successfully inserted into MySQL.\n",
      "Minute data for AKSI.JK has been successfully inserted into MySQL.\n"
     ]
    },
    {
     "name": "stderr",
     "output_type": "stream",
     "text": [
      "\n",
      "[*********************100%***********************]  1 of 1 completed\n",
      "[*********************100%***********************]  1 of 1 completed"
     ]
    },
    {
     "name": "stdout",
     "output_type": "stream",
     "text": [
      "Minute data for ALDO.JK has been successfully inserted into MySQL.\n",
      "Minute data for ALKA.JK has been successfully inserted into MySQL.\n"
     ]
    },
    {
     "name": "stderr",
     "output_type": "stream",
     "text": [
      "\n",
      "[*********************100%***********************]  1 of 1 completed\n",
      "\n",
      "1 Failed download:\n",
      "['ALMI.JK']: YFPricesMissingError('possibly delisted; no price data found  (period=5d)')\n",
      "[*********************100%***********************]  1 of 1 completed\n",
      "[*********************100%***********************]  1 of 1 completed"
     ]
    },
    {
     "name": "stdout",
     "output_type": "stream",
     "text": [
      "Minute data for ALTO.JK has been successfully inserted into MySQL.\n"
     ]
    },
    {
     "name": "stderr",
     "output_type": "stream",
     "text": [
      "\n",
      "[*********************100%***********************]  1 of 1 completed"
     ]
    },
    {
     "name": "stdout",
     "output_type": "stream",
     "text": [
      "Minute data for AMAG.JK has been successfully inserted into MySQL.\n"
     ]
    },
    {
     "name": "stderr",
     "output_type": "stream",
     "text": [
      "\n",
      "[*********************100%***********************]  1 of 1 completed\n"
     ]
    },
    {
     "name": "stdout",
     "output_type": "stream",
     "text": [
      "Minute data for AMFG.JK has been successfully inserted into MySQL.\n",
      "Minute data for AMIN.JK has been successfully inserted into MySQL.\n"
     ]
    },
    {
     "name": "stderr",
     "output_type": "stream",
     "text": [
      "[*********************100%***********************]  1 of 1 completed\n",
      "[*********************100%***********************]  1 of 1 completed\n"
     ]
    },
    {
     "name": "stdout",
     "output_type": "stream",
     "text": [
      "Minute data for AMRT.JK has been successfully inserted into MySQL.\n",
      "Minute data for ANJT.JK has been successfully inserted into MySQL.\n"
     ]
    },
    {
     "name": "stderr",
     "output_type": "stream",
     "text": [
      "[*********************100%***********************]  1 of 1 completed\n",
      "[*********************100%***********************]  1 of 1 completed"
     ]
    },
    {
     "name": "stdout",
     "output_type": "stream",
     "text": [
      "Minute data for ANTM.JK has been successfully inserted into MySQL.\n",
      "Minute data for APEX.JK has been successfully inserted into MySQL.\n"
     ]
    },
    {
     "name": "stderr",
     "output_type": "stream",
     "text": [
      "\n",
      "[*********************100%***********************]  1 of 1 completed\n",
      "[*********************100%***********************]  1 of 1 completed\n"
     ]
    },
    {
     "name": "stdout",
     "output_type": "stream",
     "text": [
      "Minute data for APIC.JK has been successfully inserted into MySQL.\n",
      "Minute data for APII.JK has been successfully inserted into MySQL.\n"
     ]
    },
    {
     "name": "stderr",
     "output_type": "stream",
     "text": [
      "[*********************100%***********************]  1 of 1 completed\n",
      "[*********************100%***********************]  1 of 1 completed\n"
     ]
    },
    {
     "name": "stdout",
     "output_type": "stream",
     "text": [
      "Minute data for APLI.JK has been successfully inserted into MySQL.\n",
      "Minute data for APLN.JK has been successfully inserted into MySQL.\n"
     ]
    },
    {
     "name": "stderr",
     "output_type": "stream",
     "text": [
      "[*********************100%***********************]  1 of 1 completed\n",
      "[*********************100%***********************]  1 of 1 completed\n"
     ]
    },
    {
     "name": "stdout",
     "output_type": "stream",
     "text": [
      "Minute data for ARGO.JK has been successfully inserted into MySQL.\n",
      "Minute data for ARII.JK has been successfully inserted into MySQL.\n"
     ]
    },
    {
     "name": "stderr",
     "output_type": "stream",
     "text": [
      "[*********************100%***********************]  1 of 1 completed\n",
      "[*********************100%***********************]  1 of 1 completed\n"
     ]
    },
    {
     "name": "stdout",
     "output_type": "stream",
     "text": [
      "Minute data for ARNA.JK has been successfully inserted into MySQL.\n",
      "Minute data for ARTA.JK has been successfully inserted into MySQL.\n"
     ]
    },
    {
     "name": "stderr",
     "output_type": "stream",
     "text": [
      "[*********************100%***********************]  1 of 1 completed\n",
      "\n",
      "1 Failed download:\n",
      "['ARTI.JK']: YFPricesMissingError('possibly delisted; no price data found  (period=5d)')\n",
      "[*********************100%***********************]  1 of 1 completed\n",
      "[*********************100%***********************]  1 of 1 completed\n"
     ]
    },
    {
     "name": "stdout",
     "output_type": "stream",
     "text": [
      "Minute data for ARTO.JK has been successfully inserted into MySQL.\n",
      "Minute data for ASBI.JK has been successfully inserted into MySQL.\n"
     ]
    },
    {
     "name": "stderr",
     "output_type": "stream",
     "text": [
      "[*********************100%***********************]  1 of 1 completed\n",
      "[*********************100%***********************]  1 of 1 completed\n"
     ]
    },
    {
     "name": "stdout",
     "output_type": "stream",
     "text": [
      "Minute data for ASDM.JK has been successfully inserted into MySQL.\n",
      "Minute data for ASGR.JK has been successfully inserted into MySQL.\n"
     ]
    },
    {
     "name": "stderr",
     "output_type": "stream",
     "text": [
      "[*********************100%***********************]  1 of 1 completed\n",
      "[*********************100%***********************]  1 of 1 completed\n"
     ]
    },
    {
     "name": "stdout",
     "output_type": "stream",
     "text": [
      "Minute data for ASII.JK has been successfully inserted into MySQL.\n",
      "Minute data for ASJT.JK has been successfully inserted into MySQL.\n"
     ]
    },
    {
     "name": "stderr",
     "output_type": "stream",
     "text": [
      "[*********************100%***********************]  1 of 1 completed\n",
      "[*********************100%***********************]  1 of 1 completed\n"
     ]
    },
    {
     "name": "stdout",
     "output_type": "stream",
     "text": [
      "Minute data for ASMI.JK has been successfully inserted into MySQL.\n",
      "Minute data for ASRI.JK has been successfully inserted into MySQL.\n"
     ]
    },
    {
     "name": "stderr",
     "output_type": "stream",
     "text": [
      "[*********************100%***********************]  1 of 1 completed\n"
     ]
    },
    {
     "name": "stdout",
     "output_type": "stream",
     "text": [
      "Minute data for ASRM.JK has been successfully inserted into MySQL.\n"
     ]
    },
    {
     "name": "stderr",
     "output_type": "stream",
     "text": [
      "[*********************100%***********************]  1 of 1 completed\n",
      "[*********************100%***********************]  1 of 1 completed"
     ]
    },
    {
     "name": "stdout",
     "output_type": "stream",
     "text": [
      "Minute data for ASSA.JK has been successfully inserted into MySQL.\n",
      "Minute data for ATIC.JK has been successfully inserted into MySQL.\n"
     ]
    },
    {
     "name": "stderr",
     "output_type": "stream",
     "text": [
      "\n",
      "[*********************100%***********************]  1 of 1 completed\n",
      "[*********************100%***********************]  1 of 1 completed\n"
     ]
    },
    {
     "name": "stdout",
     "output_type": "stream",
     "text": [
      "Minute data for AUTO.JK has been successfully inserted into MySQL.\n",
      "Minute data for BABP.JK has been successfully inserted into MySQL.\n"
     ]
    },
    {
     "name": "stderr",
     "output_type": "stream",
     "text": [
      "[*********************100%***********************]  1 of 1 completed\n",
      "[*********************100%***********************]  1 of 1 completed\n"
     ]
    },
    {
     "name": "stdout",
     "output_type": "stream",
     "text": [
      "Minute data for BACA.JK has been successfully inserted into MySQL.\n",
      "Minute data for BAJA.JK has been successfully inserted into MySQL.\n"
     ]
    },
    {
     "name": "stderr",
     "output_type": "stream",
     "text": [
      "[*********************100%***********************]  1 of 1 completed\n",
      "[*********************100%***********************]  1 of 1 completed\n"
     ]
    },
    {
     "name": "stdout",
     "output_type": "stream",
     "text": [
      "Minute data for BALI.JK has been successfully inserted into MySQL.\n",
      "Minute data for BAPA.JK has been successfully inserted into MySQL.\n"
     ]
    },
    {
     "name": "stderr",
     "output_type": "stream",
     "text": [
      "[*********************100%***********************]  1 of 1 completed\n",
      "[*********************100%***********************]  1 of 1 completed\n"
     ]
    },
    {
     "name": "stdout",
     "output_type": "stream",
     "text": [
      "Minute data for BATA.JK has been successfully inserted into MySQL.\n",
      "Minute data for BAYU.JK has been successfully inserted into MySQL.\n"
     ]
    },
    {
     "name": "stderr",
     "output_type": "stream",
     "text": [
      "[*********************100%***********************]  1 of 1 completed\n",
      "[*********************100%***********************]  1 of 1 completed\n"
     ]
    },
    {
     "name": "stdout",
     "output_type": "stream",
     "text": [
      "Minute data for BBCA.JK has been successfully inserted into MySQL.\n",
      "Minute data for BBHI.JK has been successfully inserted into MySQL.\n"
     ]
    },
    {
     "name": "stderr",
     "output_type": "stream",
     "text": [
      "[*********************100%***********************]  1 of 1 completed\n"
     ]
    },
    {
     "name": "stdout",
     "output_type": "stream",
     "text": [
      "Minute data for BBKP.JK has been successfully inserted into MySQL.\n"
     ]
    },
    {
     "name": "stderr",
     "output_type": "stream",
     "text": [
      "[*********************100%***********************]  1 of 1 completed\n",
      "[*********************100%***********************]  1 of 1 completed\n"
     ]
    },
    {
     "name": "stdout",
     "output_type": "stream",
     "text": [
      "Minute data for BBLD.JK has been successfully inserted into MySQL.\n",
      "Minute data for BBMD.JK has been successfully inserted into MySQL.\n"
     ]
    },
    {
     "name": "stderr",
     "output_type": "stream",
     "text": [
      "[*********************100%***********************]  1 of 1 completed\n",
      "[*********************100%***********************]  1 of 1 completed"
     ]
    },
    {
     "name": "stdout",
     "output_type": "stream",
     "text": [
      "Minute data for BBNI.JK has been successfully inserted into MySQL.\n"
     ]
    },
    {
     "name": "stderr",
     "output_type": "stream",
     "text": [
      "\n",
      "[*********************100%***********************]  1 of 1 completed\n"
     ]
    },
    {
     "name": "stdout",
     "output_type": "stream",
     "text": [
      "Minute data for BBRI.JK has been successfully inserted into MySQL.\n",
      "Minute data for BBRM.JK has been successfully inserted into MySQL.\n"
     ]
    },
    {
     "name": "stderr",
     "output_type": "stream",
     "text": [
      "[*********************100%***********************]  1 of 1 completed\n"
     ]
    },
    {
     "name": "stdout",
     "output_type": "stream",
     "text": [
      "Minute data for BBTN.JK has been successfully inserted into MySQL.\n"
     ]
    },
    {
     "name": "stderr",
     "output_type": "stream",
     "text": [
      "[*********************100%***********************]  1 of 1 completed\n",
      "[*********************100%***********************]  1 of 1 completed\n"
     ]
    },
    {
     "name": "stdout",
     "output_type": "stream",
     "text": [
      "Minute data for BBYB.JK has been successfully inserted into MySQL.\n",
      "Minute data for BCAP.JK has been successfully inserted into MySQL.\n"
     ]
    },
    {
     "name": "stderr",
     "output_type": "stream",
     "text": [
      "[*********************100%***********************]  1 of 1 completed\n",
      "\n",
      "1 Failed download:\n",
      "['BCIC.JK']: YFPricesMissingError('possibly delisted; no price data found  (period=5d)')\n",
      "[*********************100%***********************]  1 of 1 completed\n",
      "[*********************100%***********************]  1 of 1 completed\n"
     ]
    },
    {
     "name": "stdout",
     "output_type": "stream",
     "text": [
      "Minute data for BCIP.JK has been successfully inserted into MySQL.\n"
     ]
    },
    {
     "name": "stderr",
     "output_type": "stream",
     "text": [
      "[*********************100%***********************]  1 of 1 completed"
     ]
    },
    {
     "name": "stdout",
     "output_type": "stream",
     "text": [
      "Minute data for BDMN.JK has been successfully inserted into MySQL.\n",
      "Minute data for BEKS.JK has been successfully inserted into MySQL.\n"
     ]
    },
    {
     "name": "stderr",
     "output_type": "stream",
     "text": [
      "\n",
      "[*********************100%***********************]  1 of 1 completed\n",
      "[*********************100%***********************]  1 of 1 completed\n"
     ]
    },
    {
     "name": "stdout",
     "output_type": "stream",
     "text": [
      "Minute data for BEST.JK has been successfully inserted into MySQL.\n",
      "Minute data for BFIN.JK has been successfully inserted into MySQL.\n"
     ]
    },
    {
     "name": "stderr",
     "output_type": "stream",
     "text": [
      "[*********************100%***********************]  1 of 1 completed\n",
      "[*********************100%***********************]  1 of 1 completed\n",
      "[*********************100%***********************]  1 of 1 completed"
     ]
    },
    {
     "name": "stdout",
     "output_type": "stream",
     "text": [
      "Minute data for BGTG.JK has been successfully inserted into MySQL.\n",
      "Minute data for BHIT.JK has been successfully inserted into MySQL.\n"
     ]
    },
    {
     "name": "stderr",
     "output_type": "stream",
     "text": [
      "\n",
      "\n",
      "1 Failed download:\n",
      "['BIKA.JK']: YFPricesMissingError('possibly delisted; no price data found  (period=5d)')\n",
      "[*********************100%***********************]  1 of 1 completed\n",
      "[*********************100%***********************]  1 of 1 completed\n"
     ]
    },
    {
     "name": "stdout",
     "output_type": "stream",
     "text": [
      "Minute data for BIMA.JK has been successfully inserted into MySQL.\n",
      "Minute data for BINA.JK has been successfully inserted into MySQL.\n"
     ]
    },
    {
     "name": "stderr",
     "output_type": "stream",
     "text": [
      "[*********************100%***********************]  1 of 1 completed\n",
      "[*********************100%***********************]  1 of 1 completed"
     ]
    },
    {
     "name": "stdout",
     "output_type": "stream",
     "text": [
      "Minute data for BIPI.JK has been successfully inserted into MySQL.\n",
      "Minute data for BIPP.JK has been successfully inserted into MySQL.\n"
     ]
    },
    {
     "name": "stderr",
     "output_type": "stream",
     "text": [
      "\n",
      "[*********************100%***********************]  1 of 1 completed\n"
     ]
    },
    {
     "name": "stdout",
     "output_type": "stream",
     "text": [
      "Minute data for BIRD.JK has been successfully inserted into MySQL.\n"
     ]
    },
    {
     "name": "stderr",
     "output_type": "stream",
     "text": [
      "[*********************100%***********************]  1 of 1 completed\n"
     ]
    },
    {
     "name": "stdout",
     "output_type": "stream",
     "text": [
      "Minute data for BISI.JK has been successfully inserted into MySQL.\n"
     ]
    },
    {
     "name": "stderr",
     "output_type": "stream",
     "text": [
      "[*********************100%***********************]  1 of 1 completed\n"
     ]
    },
    {
     "name": "stdout",
     "output_type": "stream",
     "text": [
      "Minute data for BJBR.JK has been successfully inserted into MySQL.\n"
     ]
    },
    {
     "name": "stderr",
     "output_type": "stream",
     "text": [
      "[*********************100%***********************]  1 of 1 completed\n",
      "[*********************100%***********************]  1 of 1 completed\n"
     ]
    },
    {
     "name": "stdout",
     "output_type": "stream",
     "text": [
      "Minute data for BJTM.JK has been successfully inserted into MySQL.\n",
      "Minute data for BKDP.JK has been successfully inserted into MySQL.\n"
     ]
    },
    {
     "name": "stderr",
     "output_type": "stream",
     "text": [
      "[*********************100%***********************]  1 of 1 completed\n"
     ]
    },
    {
     "name": "stdout",
     "output_type": "stream",
     "text": [
      "Minute data for BKSL.JK has been successfully inserted into MySQL.\n"
     ]
    },
    {
     "name": "stderr",
     "output_type": "stream",
     "text": [
      "[*********************100%***********************]  1 of 1 completed\n"
     ]
    },
    {
     "name": "stdout",
     "output_type": "stream",
     "text": [
      "Minute data for BKSW.JK has been successfully inserted into MySQL.\n"
     ]
    },
    {
     "name": "stderr",
     "output_type": "stream",
     "text": [
      "[*********************100%***********************]  1 of 1 completed\n",
      "[*********************100%***********************]  1 of 1 completed\n",
      "\n",
      "1 Failed download:\n",
      "['BLTZ.JK']: YFPricesMissingError('possibly delisted; no price data found  (period=5d)')\n"
     ]
    },
    {
     "name": "stdout",
     "output_type": "stream",
     "text": [
      "Minute data for BLTA.JK has been successfully inserted into MySQL.\n"
     ]
    },
    {
     "name": "stderr",
     "output_type": "stream",
     "text": [
      "[*********************100%***********************]  1 of 1 completed\n",
      "[*********************100%***********************]  1 of 1 completed\n"
     ]
    },
    {
     "name": "stdout",
     "output_type": "stream",
     "text": [
      "Minute data for BMAS.JK has been successfully inserted into MySQL.\n",
      "Minute data for BMRI.JK has been successfully inserted into MySQL.\n"
     ]
    },
    {
     "name": "stderr",
     "output_type": "stream",
     "text": [
      "[*********************100%***********************]  1 of 1 completed\n",
      "[*********************100%***********************]  1 of 1 completed\n"
     ]
    },
    {
     "name": "stdout",
     "output_type": "stream",
     "text": [
      "Minute data for BMSR.JK has been successfully inserted into MySQL.\n",
      "Minute data for BMTR.JK has been successfully inserted into MySQL.\n"
     ]
    },
    {
     "name": "stderr",
     "output_type": "stream",
     "text": [
      "[*********************100%***********************]  1 of 1 completed\n",
      "[*********************100%***********************]  1 of 1 completed\n"
     ]
    },
    {
     "name": "stdout",
     "output_type": "stream",
     "text": [
      "Minute data for BNBA.JK has been successfully inserted into MySQL.\n",
      "Minute data for BNBR.JK has been successfully inserted into MySQL.\n"
     ]
    },
    {
     "name": "stderr",
     "output_type": "stream",
     "text": [
      "[*********************100%***********************]  1 of 1 completed\n",
      "[*********************100%***********************]  1 of 1 completed"
     ]
    },
    {
     "name": "stdout",
     "output_type": "stream",
     "text": [
      "Minute data for BNGA.JK has been successfully inserted into MySQL.\n",
      "Minute data for BNII.JK has been successfully inserted into MySQL.\n"
     ]
    },
    {
     "name": "stderr",
     "output_type": "stream",
     "text": [
      "\n",
      "[*********************100%***********************]  1 of 1 completed\n",
      "[*********************100%***********************]  1 of 1 completed\n"
     ]
    },
    {
     "name": "stdout",
     "output_type": "stream",
     "text": [
      "Minute data for BNLI.JK has been successfully inserted into MySQL.\n",
      "Minute data for BOLT.JK has been successfully inserted into MySQL.\n"
     ]
    },
    {
     "name": "stderr",
     "output_type": "stream",
     "text": [
      "[*********************100%***********************]  1 of 1 completed\n",
      "[*********************100%***********************]  1 of 1 completed\n"
     ]
    },
    {
     "name": "stdout",
     "output_type": "stream",
     "text": [
      "Minute data for BPFI.JK has been successfully inserted into MySQL.\n",
      "Minute data for BPII.JK has been successfully inserted into MySQL.\n"
     ]
    },
    {
     "name": "stderr",
     "output_type": "stream",
     "text": [
      "[*********************100%***********************]  1 of 1 completed\n",
      "[*********************100%***********************]  1 of 1 completed\n"
     ]
    },
    {
     "name": "stdout",
     "output_type": "stream",
     "text": [
      "Minute data for BRAM.JK has been successfully inserted into MySQL.\n",
      "Minute data for BRMS.JK has been successfully inserted into MySQL.\n"
     ]
    },
    {
     "name": "stderr",
     "output_type": "stream",
     "text": [
      "[*********************100%***********************]  1 of 1 completed\n"
     ]
    },
    {
     "name": "stdout",
     "output_type": "stream",
     "text": [
      "Minute data for BRNA.JK has been successfully inserted into MySQL.\n"
     ]
    },
    {
     "name": "stderr",
     "output_type": "stream",
     "text": [
      "[*********************100%***********************]  1 of 1 completed\n",
      "[*********************100%***********************]  1 of 1 completed"
     ]
    },
    {
     "name": "stdout",
     "output_type": "stream",
     "text": [
      "Minute data for BRPT.JK has been successfully inserted into MySQL.\n"
     ]
    },
    {
     "name": "stderr",
     "output_type": "stream",
     "text": [
      "\n",
      "[*********************100%***********************]  1 of 1 completed\n"
     ]
    },
    {
     "name": "stdout",
     "output_type": "stream",
     "text": [
      "Minute data for BSDE.JK has been successfully inserted into MySQL.\n",
      "Minute data for BSIM.JK has been successfully inserted into MySQL.\n"
     ]
    },
    {
     "name": "stderr",
     "output_type": "stream",
     "text": [
      "[*********************100%***********************]  1 of 1 completed\n",
      "[*********************100%***********************]  1 of 1 completed\n",
      "\n",
      "1 Failed download:\n",
      "['BSWD.JK']: YFPricesMissingError('possibly delisted; no price data found  (period=5d)')\n"
     ]
    },
    {
     "name": "stdout",
     "output_type": "stream",
     "text": [
      "Minute data for BSSR.JK has been successfully inserted into MySQL.\n"
     ]
    },
    {
     "name": "stderr",
     "output_type": "stream",
     "text": [
      "[*********************100%***********************]  1 of 1 completed\n",
      "[*********************100%***********************]  1 of 1 completed\n"
     ]
    },
    {
     "name": "stdout",
     "output_type": "stream",
     "text": [
      "Minute data for BTEK.JK has been successfully inserted into MySQL.\n",
      "Minute data for BTEL.JK has been successfully inserted into MySQL.\n"
     ]
    },
    {
     "name": "stderr",
     "output_type": "stream",
     "text": [
      "[*********************100%***********************]  1 of 1 completed\n",
      "[*********************100%***********************]  1 of 1 completed\n"
     ]
    },
    {
     "name": "stdout",
     "output_type": "stream",
     "text": [
      "Minute data for BTON.JK has been successfully inserted into MySQL.\n",
      "Minute data for BTPN.JK has been successfully inserted into MySQL.\n"
     ]
    },
    {
     "name": "stderr",
     "output_type": "stream",
     "text": [
      "[*********************100%***********************]  1 of 1 completed\n",
      "[*********************100%***********************]  1 of 1 completed\n"
     ]
    },
    {
     "name": "stdout",
     "output_type": "stream",
     "text": [
      "Minute data for BUDI.JK has been successfully inserted into MySQL.\n",
      "Minute data for BUKK.JK has been successfully inserted into MySQL.\n"
     ]
    },
    {
     "name": "stderr",
     "output_type": "stream",
     "text": [
      "[*********************100%***********************]  1 of 1 completed\n",
      "[*********************100%***********************]  1 of 1 completed"
     ]
    },
    {
     "name": "stdout",
     "output_type": "stream",
     "text": [
      "Minute data for BULL.JK has been successfully inserted into MySQL.\n"
     ]
    },
    {
     "name": "stderr",
     "output_type": "stream",
     "text": [
      "\n"
     ]
    },
    {
     "name": "stdout",
     "output_type": "stream",
     "text": [
      "Minute data for BUMI.JK has been successfully inserted into MySQL.\n"
     ]
    },
    {
     "name": "stderr",
     "output_type": "stream",
     "text": [
      "[*********************100%***********************]  1 of 1 completed\n",
      "[*********************100%***********************]  1 of 1 completed"
     ]
    },
    {
     "name": "stdout",
     "output_type": "stream",
     "text": [
      "Minute data for BUVA.JK has been successfully inserted into MySQL.\n",
      "Minute data for BVIC.JK has been successfully inserted into MySQL.\n"
     ]
    },
    {
     "name": "stderr",
     "output_type": "stream",
     "text": [
      "\n",
      "[*********************100%***********************]  1 of 1 completed\n",
      "[*********************100%***********************]  1 of 1 completed\n"
     ]
    },
    {
     "name": "stdout",
     "output_type": "stream",
     "text": [
      "Minute data for BWPT.JK has been successfully inserted into MySQL.\n",
      "Minute data for BYAN.JK has been successfully inserted into MySQL.\n"
     ]
    },
    {
     "name": "stderr",
     "output_type": "stream",
     "text": [
      "[*********************100%***********************]  1 of 1 completed\n",
      "[*********************100%***********************]  1 of 1 completed"
     ]
    },
    {
     "name": "stdout",
     "output_type": "stream",
     "text": [
      "Minute data for CANI.JK has been successfully inserted into MySQL.\n"
     ]
    },
    {
     "name": "stderr",
     "output_type": "stream",
     "text": [
      "\n",
      "[*********************100%***********************]  1 of 1 completed\n"
     ]
    },
    {
     "name": "stdout",
     "output_type": "stream",
     "text": [
      "Minute data for CASS.JK has been successfully inserted into MySQL.\n",
      "Minute data for CEKA.JK has been successfully inserted into MySQL.\n"
     ]
    },
    {
     "name": "stderr",
     "output_type": "stream",
     "text": [
      "[*********************100%***********************]  1 of 1 completed\n",
      "[*********************100%***********************]  1 of 1 completed\n"
     ]
    },
    {
     "name": "stdout",
     "output_type": "stream",
     "text": [
      "Minute data for CENT.JK has been successfully inserted into MySQL.\n",
      "Minute data for CFIN.JK has been successfully inserted into MySQL.\n"
     ]
    },
    {
     "name": "stderr",
     "output_type": "stream",
     "text": [
      "[*********************100%***********************]  1 of 1 completed\n",
      "[*********************100%***********************]  1 of 1 completed\n"
     ]
    },
    {
     "name": "stdout",
     "output_type": "stream",
     "text": [
      "Minute data for CINT.JK has been successfully inserted into MySQL.\n",
      "Minute data for CITA.JK has been successfully inserted into MySQL.\n"
     ]
    },
    {
     "name": "stderr",
     "output_type": "stream",
     "text": [
      "[*********************100%***********************]  1 of 1 completed\n",
      "[*********************100%***********************]  1 of 1 completed"
     ]
    },
    {
     "name": "stdout",
     "output_type": "stream",
     "text": [
      "Minute data for CLPI.JK has been successfully inserted into MySQL.\n",
      "Minute data for CMNP.JK has been successfully inserted into MySQL.\n"
     ]
    },
    {
     "name": "stderr",
     "output_type": "stream",
     "text": [
      "\n",
      "[*********************100%***********************]  1 of 1 completed\n",
      "[*********************100%***********************]  1 of 1 completed\n"
     ]
    },
    {
     "name": "stdout",
     "output_type": "stream",
     "text": [
      "Minute data for CMPP.JK has been successfully inserted into MySQL.\n",
      "Minute data for CNKO.JK has been successfully inserted into MySQL.\n"
     ]
    },
    {
     "name": "stderr",
     "output_type": "stream",
     "text": [
      "[*********************100%***********************]  1 of 1 completed\n",
      "\n",
      "1 Failed download:\n",
      "['CNTX.JK']: YFPricesMissingError('possibly delisted; no price data found  (period=5d)')\n",
      "[*********************100%***********************]  1 of 1 completed\n",
      "[*********************100%***********************]  1 of 1 completed\n"
     ]
    },
    {
     "name": "stdout",
     "output_type": "stream",
     "text": [
      "Minute data for COWL.JK has been successfully inserted into MySQL.\n",
      "Minute data for CPIN.JK has been successfully inserted into MySQL.\n"
     ]
    },
    {
     "name": "stderr",
     "output_type": "stream",
     "text": [
      "[*********************100%***********************]  1 of 1 completed\n",
      "[*********************100%***********************]  1 of 1 completed\n"
     ]
    },
    {
     "name": "stdout",
     "output_type": "stream",
     "text": [
      "Minute data for CPRO.JK has been successfully inserted into MySQL.\n",
      "Minute data for CSAP.JK has been successfully inserted into MySQL.\n"
     ]
    },
    {
     "name": "stderr",
     "output_type": "stream",
     "text": [
      "[*********************100%***********************]  1 of 1 completed\n",
      "[*********************100%***********************]  1 of 1 completed\n"
     ]
    },
    {
     "name": "stdout",
     "output_type": "stream",
     "text": [
      "Minute data for CTBN.JK has been successfully inserted into MySQL.\n",
      "Minute data for CTRA.JK has been successfully inserted into MySQL.\n"
     ]
    },
    {
     "name": "stderr",
     "output_type": "stream",
     "text": [
      "[*********************100%***********************]  1 of 1 completed\n",
      "[*********************100%***********************]  1 of 1 completed\n"
     ]
    },
    {
     "name": "stdout",
     "output_type": "stream",
     "text": [
      "Minute data for CTTH.JK has been successfully inserted into MySQL.\n",
      "Minute data for DART.JK has been successfully inserted into MySQL.\n"
     ]
    },
    {
     "name": "stderr",
     "output_type": "stream",
     "text": [
      "[*********************100%***********************]  1 of 1 completed\n",
      "[*********************100%***********************]  1 of 1 completed"
     ]
    },
    {
     "name": "stdout",
     "output_type": "stream",
     "text": [
      "Minute data for DEFI.JK has been successfully inserted into MySQL.\n"
     ]
    },
    {
     "name": "stderr",
     "output_type": "stream",
     "text": [
      "\n",
      "[*********************100%***********************]  1 of 1 completed"
     ]
    },
    {
     "name": "stdout",
     "output_type": "stream",
     "text": [
      "Minute data for DEWA.JK has been successfully inserted into MySQL.\n",
      "Minute data for DGIK.JK has been successfully inserted into MySQL.\n"
     ]
    },
    {
     "name": "stderr",
     "output_type": "stream",
     "text": [
      "\n",
      "[*********************100%***********************]  1 of 1 completed\n"
     ]
    },
    {
     "name": "stdout",
     "output_type": "stream",
     "text": [
      "Minute data for DILD.JK has been successfully inserted into MySQL.\n"
     ]
    },
    {
     "name": "stderr",
     "output_type": "stream",
     "text": [
      "[*********************100%***********************]  1 of 1 completed\n",
      "[*********************100%***********************]  1 of 1 completed"
     ]
    },
    {
     "name": "stdout",
     "output_type": "stream",
     "text": [
      "Minute data for DKFT.JK has been successfully inserted into MySQL.\n",
      "Minute data for DLTA.JK has been successfully inserted into MySQL.\n"
     ]
    },
    {
     "name": "stderr",
     "output_type": "stream",
     "text": [
      "\n",
      "[*********************100%***********************]  1 of 1 completed\n",
      "[*********************100%***********************]  1 of 1 completed\n"
     ]
    },
    {
     "name": "stdout",
     "output_type": "stream",
     "text": [
      "Minute data for DMAS.JK has been successfully inserted into MySQL.\n",
      "Minute data for DNAR.JK has been successfully inserted into MySQL.\n"
     ]
    },
    {
     "name": "stderr",
     "output_type": "stream",
     "text": [
      "[*********************100%***********************]  1 of 1 completed\n",
      "[*********************100%***********************]  1 of 1 completed\n"
     ]
    },
    {
     "name": "stdout",
     "output_type": "stream",
     "text": [
      "Minute data for DNET.JK has been successfully inserted into MySQL.\n",
      "Minute data for DOID.JK has been successfully inserted into MySQL.\n"
     ]
    },
    {
     "name": "stderr",
     "output_type": "stream",
     "text": [
      "[*********************100%***********************]  1 of 1 completed\n"
     ]
    },
    {
     "name": "stdout",
     "output_type": "stream",
     "text": [
      "Minute data for DPNS.JK has been successfully inserted into MySQL.\n"
     ]
    },
    {
     "name": "stderr",
     "output_type": "stream",
     "text": [
      "[*********************100%***********************]  1 of 1 completed\n",
      "[*********************100%***********************]  1 of 1 completed"
     ]
    },
    {
     "name": "stdout",
     "output_type": "stream",
     "text": [
      "Minute data for DSFI.JK has been successfully inserted into MySQL.\n",
      "Minute data for DSNG.JK has been successfully inserted into MySQL.\n"
     ]
    },
    {
     "name": "stderr",
     "output_type": "stream",
     "text": [
      "\n",
      "[*********************100%***********************]  1 of 1 completed\n",
      "[*********************100%***********************]  1 of 1 completed\n"
     ]
    },
    {
     "name": "stdout",
     "output_type": "stream",
     "text": [
      "Minute data for DSSA.JK has been successfully inserted into MySQL.\n",
      "Minute data for DUTI.JK has been successfully inserted into MySQL.\n"
     ]
    },
    {
     "name": "stderr",
     "output_type": "stream",
     "text": [
      "[*********************100%***********************]  1 of 1 completed\n",
      "[*********************100%***********************]  1 of 1 completed\n"
     ]
    },
    {
     "name": "stdout",
     "output_type": "stream",
     "text": [
      "Minute data for DVLA.JK has been successfully inserted into MySQL.\n",
      "Minute data for DYAN.JK has been successfully inserted into MySQL.\n"
     ]
    },
    {
     "name": "stderr",
     "output_type": "stream",
     "text": [
      "[*********************100%***********************]  1 of 1 completed\n",
      "[*********************100%***********************]  1 of 1 completed"
     ]
    },
    {
     "name": "stdout",
     "output_type": "stream",
     "text": [
      "Minute data for ECII.JK has been successfully inserted into MySQL.\n",
      "Minute data for EKAD.JK has been successfully inserted into MySQL.\n"
     ]
    },
    {
     "name": "stderr",
     "output_type": "stream",
     "text": [
      "\n",
      "[*********************100%***********************]  1 of 1 completed\n",
      "[*********************100%***********************]  1 of 1 completed"
     ]
    },
    {
     "name": "stdout",
     "output_type": "stream",
     "text": [
      "Minute data for ELSA.JK has been successfully inserted into MySQL.\n",
      "Minute data for ELTY.JK has been successfully inserted into MySQL.\n"
     ]
    },
    {
     "name": "stderr",
     "output_type": "stream",
     "text": [
      "\n",
      "[*********************100%***********************]  1 of 1 completed\n",
      "[*********************100%***********************]  1 of 1 completed\n"
     ]
    },
    {
     "name": "stdout",
     "output_type": "stream",
     "text": [
      "Minute data for EMDE.JK has been successfully inserted into MySQL.\n",
      "Minute data for EMTK.JK has been successfully inserted into MySQL.\n"
     ]
    },
    {
     "name": "stderr",
     "output_type": "stream",
     "text": [
      "[*********************100%***********************]  1 of 1 completed\n",
      "[*********************100%***********************]  1 of 1 completed"
     ]
    },
    {
     "name": "stdout",
     "output_type": "stream",
     "text": [
      "Minute data for ENRG.JK has been successfully inserted into MySQL.\n"
     ]
    },
    {
     "name": "stderr",
     "output_type": "stream",
     "text": [
      "\n",
      "[*********************100%***********************]  1 of 1 completed"
     ]
    },
    {
     "name": "stdout",
     "output_type": "stream",
     "text": [
      "Minute data for EPMT.JK has been successfully inserted into MySQL.\n"
     ]
    },
    {
     "name": "stderr",
     "output_type": "stream",
     "text": [
      "\n"
     ]
    },
    {
     "name": "stdout",
     "output_type": "stream",
     "text": [
      "Minute data for ERAA.JK has been successfully inserted into MySQL.\n"
     ]
    },
    {
     "name": "stderr",
     "output_type": "stream",
     "text": [
      "[*********************100%***********************]  1 of 1 completed\n"
     ]
    },
    {
     "name": "stdout",
     "output_type": "stream",
     "text": [
      "Minute data for ERTX.JK has been successfully inserted into MySQL.\n"
     ]
    },
    {
     "name": "stderr",
     "output_type": "stream",
     "text": [
      "[*********************100%***********************]  1 of 1 completed\n",
      "[*********************100%***********************]  1 of 1 completed\n"
     ]
    },
    {
     "name": "stdout",
     "output_type": "stream",
     "text": [
      "Minute data for ESSA.JK has been successfully inserted into MySQL.\n",
      "Minute data for ESTI.JK has been successfully inserted into MySQL.\n"
     ]
    },
    {
     "name": "stderr",
     "output_type": "stream",
     "text": [
      "[*********************100%***********************]  1 of 1 completed\n",
      "[*********************100%***********************]  1 of 1 completed\n"
     ]
    },
    {
     "name": "stdout",
     "output_type": "stream",
     "text": [
      "Minute data for ETWA.JK has been successfully inserted into MySQL.\n",
      "Minute data for EXCL.JK has been successfully inserted into MySQL.\n"
     ]
    },
    {
     "name": "stderr",
     "output_type": "stream",
     "text": [
      "[*********************100%***********************]  1 of 1 completed\n",
      "[*********************100%***********************]  1 of 1 completed\n",
      "\n",
      "1 Failed download:\n",
      "['FASW.JK']: YFPricesMissingError('possibly delisted; no price data found  (period=5d)')\n",
      "[*********************100%***********************]  1 of 1 completed\n",
      "\n",
      "1 Failed download:\n",
      "['FISH.JK']: YFPricesMissingError('possibly delisted; no price data found  (period=5d)')\n"
     ]
    },
    {
     "name": "stdout",
     "output_type": "stream",
     "text": [
      "Minute data for FAST.JK has been successfully inserted into MySQL.\n"
     ]
    },
    {
     "name": "stderr",
     "output_type": "stream",
     "text": [
      "[*********************100%***********************]  1 of 1 completed\n"
     ]
    },
    {
     "name": "stdout",
     "output_type": "stream",
     "text": [
      "Minute data for FMII.JK has been successfully inserted into MySQL.\n"
     ]
    },
    {
     "name": "stderr",
     "output_type": "stream",
     "text": [
      "[*********************100%***********************]  1 of 1 completed\n",
      "[*********************100%***********************]  1 of 1 completed"
     ]
    },
    {
     "name": "stdout",
     "output_type": "stream",
     "text": [
      "Minute data for FORU.JK has been successfully inserted into MySQL.\n",
      "Minute data for FPNI.JK has been successfully inserted into MySQL.\n"
     ]
    },
    {
     "name": "stderr",
     "output_type": "stream",
     "text": [
      "\n",
      "[*********************100%***********************]  1 of 1 completed\n",
      "[*********************100%***********************]  1 of 1 completed\n"
     ]
    },
    {
     "name": "stdout",
     "output_type": "stream",
     "text": [
      "Minute data for FREN.JK has been successfully inserted into MySQL.\n",
      "Minute data for GAMA.JK has been successfully inserted into MySQL.\n"
     ]
    },
    {
     "name": "stderr",
     "output_type": "stream",
     "text": [
      "[*********************100%***********************]  1 of 1 completed\n",
      "[*********************100%***********************]  1 of 1 completed\n"
     ]
    },
    {
     "name": "stdout",
     "output_type": "stream",
     "text": [
      "Minute data for GDST.JK has been successfully inserted into MySQL.\n",
      "Minute data for GDYR.JK has been successfully inserted into MySQL.\n"
     ]
    },
    {
     "name": "stderr",
     "output_type": "stream",
     "text": [
      "[*********************100%***********************]  1 of 1 completed\n",
      "[*********************100%***********************]  1 of 1 completed\n"
     ]
    },
    {
     "name": "stdout",
     "output_type": "stream",
     "text": [
      "Minute data for GEMA.JK has been successfully inserted into MySQL.\n",
      "Minute data for GEMS.JK has been successfully inserted into MySQL.\n"
     ]
    },
    {
     "name": "stderr",
     "output_type": "stream",
     "text": [
      "[*********************100%***********************]  1 of 1 completed\n"
     ]
    },
    {
     "name": "stdout",
     "output_type": "stream",
     "text": [
      "Minute data for GGRM.JK has been successfully inserted into MySQL.\n"
     ]
    },
    {
     "name": "stderr",
     "output_type": "stream",
     "text": [
      "[*********************100%***********************]  1 of 1 completed\n",
      "[*********************100%***********************]  1 of 1 completed"
     ]
    },
    {
     "name": "stdout",
     "output_type": "stream",
     "text": [
      "Minute data for GIAA.JK has been successfully inserted into MySQL.\n"
     ]
    },
    {
     "name": "stderr",
     "output_type": "stream",
     "text": [
      "\n",
      "[*********************100%***********************]  1 of 1 completed\n"
     ]
    },
    {
     "name": "stdout",
     "output_type": "stream",
     "text": [
      "Minute data for GJTL.JK has been successfully inserted into MySQL.\n",
      "Minute data for GLOB.JK has been successfully inserted into MySQL.\n"
     ]
    },
    {
     "name": "stderr",
     "output_type": "stream",
     "text": [
      "[*********************100%***********************]  1 of 1 completed\n",
      "[*********************100%***********************]  1 of 1 completed\n"
     ]
    },
    {
     "name": "stdout",
     "output_type": "stream",
     "text": [
      "Minute data for GMTD.JK has been successfully inserted into MySQL.\n",
      "Minute data for GOLD.JK has been successfully inserted into MySQL.\n"
     ]
    },
    {
     "name": "stderr",
     "output_type": "stream",
     "text": [
      "[*********************100%***********************]  1 of 1 completed\n",
      "[*********************100%***********************]  1 of 1 completed\n"
     ]
    },
    {
     "name": "stdout",
     "output_type": "stream",
     "text": [
      "Minute data for GOLL.JK has been successfully inserted into MySQL.\n",
      "Minute data for GPRA.JK has been successfully inserted into MySQL.\n"
     ]
    },
    {
     "name": "stderr",
     "output_type": "stream",
     "text": [
      "[*********************100%***********************]  1 of 1 completed\n",
      "[*********************100%***********************]  1 of 1 completed\n"
     ]
    },
    {
     "name": "stdout",
     "output_type": "stream",
     "text": [
      "Minute data for GSMF.JK has been successfully inserted into MySQL.\n",
      "Minute data for GTBO.JK has been successfully inserted into MySQL.\n"
     ]
    },
    {
     "name": "stderr",
     "output_type": "stream",
     "text": [
      "[*********************100%***********************]  1 of 1 completed\n",
      "[*********************100%***********************]  1 of 1 completed\n"
     ]
    },
    {
     "name": "stdout",
     "output_type": "stream",
     "text": [
      "Minute data for GWSA.JK has been successfully inserted into MySQL.\n",
      "Minute data for GZCO.JK has been successfully inserted into MySQL.\n"
     ]
    },
    {
     "name": "stderr",
     "output_type": "stream",
     "text": [
      "[*********************100%***********************]  1 of 1 completed\n",
      "[*********************100%***********************]  1 of 1 completed\n",
      "[*********************100%***********************]  1 of 1 completed"
     ]
    },
    {
     "name": "stdout",
     "output_type": "stream",
     "text": [
      "Minute data for HADE.JK has been successfully inserted into MySQL.\n",
      "Minute data for HDFA.JK has been successfully inserted into MySQL.\n"
     ]
    },
    {
     "name": "stderr",
     "output_type": "stream",
     "text": [
      "\n",
      "[*********************100%***********************]  1 of 1 completed\n"
     ]
    },
    {
     "name": "stdout",
     "output_type": "stream",
     "text": [
      "Minute data for HDTX.JK has been successfully inserted into MySQL.\n",
      "Minute data for HERO.JK has been successfully inserted into MySQL.\n"
     ]
    },
    {
     "name": "stderr",
     "output_type": "stream",
     "text": [
      "[*********************100%***********************]  1 of 1 completed\n",
      "[*********************100%***********************]  1 of 1 completed\n"
     ]
    },
    {
     "name": "stdout",
     "output_type": "stream",
     "text": [
      "Minute data for HEXA.JK has been successfully inserted into MySQL.\n",
      "Minute data for HITS.JK has been successfully inserted into MySQL.\n"
     ]
    },
    {
     "name": "stderr",
     "output_type": "stream",
     "text": [
      "[*********************100%***********************]  1 of 1 completed\n",
      "[*********************100%***********************]  1 of 1 completed\n"
     ]
    },
    {
     "name": "stdout",
     "output_type": "stream",
     "text": [
      "Minute data for HMSP.JK has been successfully inserted into MySQL.\n",
      "Minute data for HOME.JK has been successfully inserted into MySQL.\n"
     ]
    },
    {
     "name": "stderr",
     "output_type": "stream",
     "text": [
      "[*********************100%***********************]  1 of 1 completed\n",
      "[*********************100%***********************]  1 of 1 completed\n"
     ]
    },
    {
     "name": "stdout",
     "output_type": "stream",
     "text": [
      "Minute data for HOTL.JK has been successfully inserted into MySQL.\n",
      "Minute data for HRUM.JK has been successfully inserted into MySQL.\n"
     ]
    },
    {
     "name": "stderr",
     "output_type": "stream",
     "text": [
      "[*********************100%***********************]  1 of 1 completed\n"
     ]
    },
    {
     "name": "stdout",
     "output_type": "stream",
     "text": [
      "Minute data for IATA.JK has been successfully inserted into MySQL.\n"
     ]
    },
    {
     "name": "stderr",
     "output_type": "stream",
     "text": [
      "[*********************100%***********************]  1 of 1 completed\n",
      "[*********************100%***********************]  1 of 1 completed\n"
     ]
    },
    {
     "name": "stdout",
     "output_type": "stream",
     "text": [
      "Minute data for IBFN.JK has been successfully inserted into MySQL.\n",
      "Minute data for IBST.JK has been successfully inserted into MySQL.\n"
     ]
    },
    {
     "name": "stderr",
     "output_type": "stream",
     "text": [
      "[*********************100%***********************]  1 of 1 completed\n",
      "[*********************100%***********************]  1 of 1 completed"
     ]
    },
    {
     "name": "stdout",
     "output_type": "stream",
     "text": [
      "Minute data for ICBP.JK has been successfully inserted into MySQL.\n",
      "Minute data for ICON.JK has been successfully inserted into MySQL.\n"
     ]
    },
    {
     "name": "stderr",
     "output_type": "stream",
     "text": [
      "\n",
      "[*********************100%***********************]  1 of 1 completed\n",
      "[*********************100%***********************]  1 of 1 completed\n"
     ]
    },
    {
     "name": "stdout",
     "output_type": "stream",
     "text": [
      "Minute data for IGAR.JK has been successfully inserted into MySQL.\n",
      "Minute data for IIKP.JK has been successfully inserted into MySQL.\n"
     ]
    },
    {
     "name": "stderr",
     "output_type": "stream",
     "text": [
      "[*********************100%***********************]  1 of 1 completed\n",
      "[*********************100%***********************]  1 of 1 completed\n"
     ]
    },
    {
     "name": "stdout",
     "output_type": "stream",
     "text": [
      "Minute data for IKAI.JK has been successfully inserted into MySQL.\n",
      "Minute data for IKBI.JK has been successfully inserted into MySQL.\n"
     ]
    },
    {
     "name": "stderr",
     "output_type": "stream",
     "text": [
      "[*********************100%***********************]  1 of 1 completed\n"
     ]
    },
    {
     "name": "stdout",
     "output_type": "stream",
     "text": [
      "Minute data for IMAS.JK has been successfully inserted into MySQL.\n"
     ]
    },
    {
     "name": "stderr",
     "output_type": "stream",
     "text": [
      "[*********************100%***********************]  1 of 1 completed\n"
     ]
    },
    {
     "name": "stdout",
     "output_type": "stream",
     "text": [
      "Minute data for IMJS.JK has been successfully inserted into MySQL.\n"
     ]
    },
    {
     "name": "stderr",
     "output_type": "stream",
     "text": [
      "[*********************100%***********************]  1 of 1 completed\n",
      "[*********************100%***********************]  1 of 1 completed\n",
      "\n",
      "1 Failed download:\n",
      "['INAF.JK']: YFPricesMissingError('possibly delisted; no price data found  (period=5d)')\n"
     ]
    },
    {
     "name": "stdout",
     "output_type": "stream",
     "text": [
      "Minute data for IMPC.JK has been successfully inserted into MySQL.\n"
     ]
    },
    {
     "name": "stderr",
     "output_type": "stream",
     "text": [
      "[*********************100%***********************]  1 of 1 completed\n",
      "[*********************100%***********************]  1 of 1 completed\n"
     ]
    },
    {
     "name": "stdout",
     "output_type": "stream",
     "text": [
      "Minute data for INAI.JK has been successfully inserted into MySQL.\n",
      "Minute data for INCI.JK has been successfully inserted into MySQL.\n"
     ]
    },
    {
     "name": "stderr",
     "output_type": "stream",
     "text": [
      "[*********************100%***********************]  1 of 1 completed\n",
      "[*********************100%***********************]  1 of 1 completed\n"
     ]
    },
    {
     "name": "stdout",
     "output_type": "stream",
     "text": [
      "Minute data for INCO.JK has been successfully inserted into MySQL.\n",
      "Minute data for INDF.JK has been successfully inserted into MySQL.\n"
     ]
    },
    {
     "name": "stderr",
     "output_type": "stream",
     "text": [
      "[*********************100%***********************]  1 of 1 completed\n",
      "[*********************100%***********************]  1 of 1 completed\n"
     ]
    },
    {
     "name": "stdout",
     "output_type": "stream",
     "text": [
      "Minute data for INDR.JK has been successfully inserted into MySQL.\n",
      "Minute data for INDS.JK has been successfully inserted into MySQL.\n"
     ]
    },
    {
     "name": "stderr",
     "output_type": "stream",
     "text": [
      "[*********************100%***********************]  1 of 1 completed\n",
      "[*********************100%***********************]  1 of 1 completed"
     ]
    },
    {
     "name": "stdout",
     "output_type": "stream",
     "text": [
      "Minute data for INDX.JK has been successfully inserted into MySQL.\n"
     ]
    },
    {
     "name": "stderr",
     "output_type": "stream",
     "text": [
      "\n",
      "[*********************100%***********************]  1 of 1 completed\n"
     ]
    },
    {
     "name": "stdout",
     "output_type": "stream",
     "text": [
      "Minute data for INDY.JK has been successfully inserted into MySQL.\n",
      "Minute data for INKP.JK has been successfully inserted into MySQL.\n"
     ]
    },
    {
     "name": "stderr",
     "output_type": "stream",
     "text": [
      "[*********************100%***********************]  1 of 1 completed\n",
      "[*********************100%***********************]  1 of 1 completed\n"
     ]
    },
    {
     "name": "stdout",
     "output_type": "stream",
     "text": [
      "Minute data for INPC.JK has been successfully inserted into MySQL.\n",
      "Minute data for INPP.JK has been successfully inserted into MySQL.\n"
     ]
    },
    {
     "name": "stderr",
     "output_type": "stream",
     "text": [
      "[*********************100%***********************]  1 of 1 completed\n",
      "[*********************100%***********************]  1 of 1 completed\n"
     ]
    },
    {
     "name": "stdout",
     "output_type": "stream",
     "text": [
      "Minute data for INRU.JK has been successfully inserted into MySQL.\n",
      "Minute data for INTA.JK has been successfully inserted into MySQL.\n"
     ]
    },
    {
     "name": "stderr",
     "output_type": "stream",
     "text": [
      "[*********************100%***********************]  1 of 1 completed\n",
      "[*********************100%***********************]  1 of 1 completed\n"
     ]
    },
    {
     "name": "stdout",
     "output_type": "stream",
     "text": [
      "Minute data for INTD.JK has been successfully inserted into MySQL.\n",
      "Minute data for INTP.JK has been successfully inserted into MySQL.\n"
     ]
    },
    {
     "name": "stderr",
     "output_type": "stream",
     "text": [
      "[*********************100%***********************]  1 of 1 completed\n"
     ]
    },
    {
     "name": "stdout",
     "output_type": "stream",
     "text": [
      "Minute data for IPOL.JK has been successfully inserted into MySQL.\n"
     ]
    },
    {
     "name": "stderr",
     "output_type": "stream",
     "text": [
      "[*********************100%***********************]  1 of 1 completed\n"
     ]
    },
    {
     "name": "stdout",
     "output_type": "stream",
     "text": [
      "Minute data for ISAT.JK has been successfully inserted into MySQL.\n"
     ]
    },
    {
     "name": "stderr",
     "output_type": "stream",
     "text": [
      "[*********************100%***********************]  1 of 1 completed\n",
      "[*********************100%***********************]  1 of 1 completed\n"
     ]
    },
    {
     "name": "stdout",
     "output_type": "stream",
     "text": [
      "Minute data for ISSP.JK has been successfully inserted into MySQL.\n",
      "Minute data for ITMA.JK has been successfully inserted into MySQL.\n"
     ]
    },
    {
     "name": "stderr",
     "output_type": "stream",
     "text": [
      "[*********************100%***********************]  1 of 1 completed\n",
      "[*********************100%***********************]  1 of 1 completed"
     ]
    },
    {
     "name": "stdout",
     "output_type": "stream",
     "text": [
      "Minute data for ITMG.JK has been successfully inserted into MySQL.\n"
     ]
    },
    {
     "name": "stderr",
     "output_type": "stream",
     "text": [
      "\n",
      "[*********************100%***********************]  1 of 1 completed\n"
     ]
    },
    {
     "name": "stdout",
     "output_type": "stream",
     "text": [
      "Minute data for JAWA.JK has been successfully inserted into MySQL.\n",
      "Minute data for JECC.JK has been successfully inserted into MySQL.\n"
     ]
    },
    {
     "name": "stderr",
     "output_type": "stream",
     "text": [
      "[*********************100%***********************]  1 of 1 completed\n"
     ]
    },
    {
     "name": "stdout",
     "output_type": "stream",
     "text": [
      "Minute data for JIHD.JK has been successfully inserted into MySQL.\n"
     ]
    },
    {
     "name": "stderr",
     "output_type": "stream",
     "text": [
      "[*********************100%***********************]  1 of 1 completed\n",
      "[*********************100%***********************]  1 of 1 completed\n"
     ]
    },
    {
     "name": "stdout",
     "output_type": "stream",
     "text": [
      "Minute data for JKON.JK has been successfully inserted into MySQL.\n",
      "Minute data for JKSW.JK has been successfully inserted into MySQL.\n"
     ]
    },
    {
     "name": "stderr",
     "output_type": "stream",
     "text": [
      "[*********************100%***********************]  1 of 1 completed\n",
      "[*********************100%***********************]  1 of 1 completed"
     ]
    },
    {
     "name": "stdout",
     "output_type": "stream",
     "text": [
      "Minute data for JPFA.JK has been successfully inserted into MySQL.\n",
      "Minute data for JRPT.JK has been successfully inserted into MySQL.\n"
     ]
    },
    {
     "name": "stderr",
     "output_type": "stream",
     "text": [
      "\n",
      "[*********************100%***********************]  1 of 1 completed\n",
      "[*********************100%***********************]  1 of 1 completed"
     ]
    },
    {
     "name": "stdout",
     "output_type": "stream",
     "text": [
      "Minute data for JSMR.JK has been successfully inserted into MySQL.\n"
     ]
    },
    {
     "name": "stderr",
     "output_type": "stream",
     "text": [
      "\n"
     ]
    },
    {
     "name": "stdout",
     "output_type": "stream",
     "text": [
      "Minute data for JSPT.JK has been successfully inserted into MySQL.\n"
     ]
    },
    {
     "name": "stderr",
     "output_type": "stream",
     "text": [
      "[*********************100%***********************]  1 of 1 completed\n",
      "[*********************100%***********************]  1 of 1 completed"
     ]
    },
    {
     "name": "stdout",
     "output_type": "stream",
     "text": [
      "Minute data for JTPE.JK has been successfully inserted into MySQL.\n",
      "Minute data for KAEF.JK has been successfully inserted into MySQL.\n"
     ]
    },
    {
     "name": "stderr",
     "output_type": "stream",
     "text": [
      "\n",
      "[*********************100%***********************]  1 of 1 completed\n"
     ]
    },
    {
     "name": "stdout",
     "output_type": "stream",
     "text": [
      "Minute data for KARW.JK has been successfully inserted into MySQL.\n"
     ]
    },
    {
     "name": "stderr",
     "output_type": "stream",
     "text": [
      "[*********************100%***********************]  1 of 1 completed\n",
      "[*********************100%***********************]  1 of 1 completed\n"
     ]
    },
    {
     "name": "stdout",
     "output_type": "stream",
     "text": [
      "Minute data for KBLI.JK has been successfully inserted into MySQL.\n",
      "Minute data for KBLM.JK has been successfully inserted into MySQL.\n"
     ]
    },
    {
     "name": "stderr",
     "output_type": "stream",
     "text": [
      "[*********************100%***********************]  1 of 1 completed\n",
      "[*********************100%***********************]  1 of 1 completed\n"
     ]
    },
    {
     "name": "stdout",
     "output_type": "stream",
     "text": [
      "Minute data for KBLV.JK has been successfully inserted into MySQL.\n",
      "Minute data for KBRI.JK has been successfully inserted into MySQL.\n"
     ]
    },
    {
     "name": "stderr",
     "output_type": "stream",
     "text": [
      "[*********************100%***********************]  1 of 1 completed\n",
      "[*********************100%***********************]  1 of 1 completed\n"
     ]
    },
    {
     "name": "stdout",
     "output_type": "stream",
     "text": [
      "Minute data for KDSI.JK has been successfully inserted into MySQL.\n",
      "Minute data for KIAS.JK has been successfully inserted into MySQL.\n"
     ]
    },
    {
     "name": "stderr",
     "output_type": "stream",
     "text": [
      "[*********************100%***********************]  1 of 1 completed\n",
      "[*********************100%***********************]  1 of 1 completed\n"
     ]
    },
    {
     "name": "stdout",
     "output_type": "stream",
     "text": [
      "Minute data for KICI.JK has been successfully inserted into MySQL.\n",
      "Minute data for KIJA.JK has been successfully inserted into MySQL.\n"
     ]
    },
    {
     "name": "stderr",
     "output_type": "stream",
     "text": [
      "[*********************100%***********************]  1 of 1 completed\n",
      "[*********************100%***********************]  1 of 1 completed\n"
     ]
    },
    {
     "name": "stdout",
     "output_type": "stream",
     "text": [
      "Minute data for KKGI.JK has been successfully inserted into MySQL.\n",
      "Minute data for KLBF.JK has been successfully inserted into MySQL.\n"
     ]
    },
    {
     "name": "stderr",
     "output_type": "stream",
     "text": [
      "[*********************100%***********************]  1 of 1 completed\n",
      "[*********************100%***********************]  1 of 1 completed\n"
     ]
    },
    {
     "name": "stdout",
     "output_type": "stream",
     "text": [
      "Minute data for KOBX.JK has been successfully inserted into MySQL.\n",
      "Minute data for KOIN.JK has been successfully inserted into MySQL.\n"
     ]
    },
    {
     "name": "stderr",
     "output_type": "stream",
     "text": [
      "[*********************100%***********************]  1 of 1 completed\n",
      "[*********************100%***********************]  1 of 1 completed\n"
     ]
    },
    {
     "name": "stdout",
     "output_type": "stream",
     "text": [
      "Minute data for KONI.JK has been successfully inserted into MySQL.\n",
      "Minute data for KOPI.JK has been successfully inserted into MySQL.\n"
     ]
    },
    {
     "name": "stderr",
     "output_type": "stream",
     "text": [
      "[*********************100%***********************]  1 of 1 completed\n",
      "[*********************100%***********************]  1 of 1 completed\n"
     ]
    },
    {
     "name": "stdout",
     "output_type": "stream",
     "text": [
      "Minute data for KPIG.JK has been successfully inserted into MySQL.\n",
      "Minute data for KRAH.JK has been successfully inserted into MySQL.\n"
     ]
    },
    {
     "name": "stderr",
     "output_type": "stream",
     "text": [
      "[*********************100%***********************]  1 of 1 completed\n",
      "[*********************100%***********************]  1 of 1 completed\n"
     ]
    },
    {
     "name": "stdout",
     "output_type": "stream",
     "text": [
      "Minute data for KRAS.JK has been successfully inserted into MySQL.\n",
      "Minute data for KREN.JK has been successfully inserted into MySQL.\n"
     ]
    },
    {
     "name": "stderr",
     "output_type": "stream",
     "text": [
      "[*********************100%***********************]  1 of 1 completed\n",
      "[*********************100%***********************]  1 of 1 completed"
     ]
    },
    {
     "name": "stdout",
     "output_type": "stream",
     "text": [
      "Minute data for LAPD.JK has been successfully inserted into MySQL.\n",
      "Minute data for LCGP.JK has been successfully inserted into MySQL.\n"
     ]
    },
    {
     "name": "stderr",
     "output_type": "stream",
     "text": [
      "\n",
      "[*********************100%***********************]  1 of 1 completed\n",
      "[*********************100%***********************]  1 of 1 completed"
     ]
    },
    {
     "name": "stdout",
     "output_type": "stream",
     "text": [
      "Minute data for LEAD.JK has been successfully inserted into MySQL.\n",
      "Minute data for LINK.JK has been successfully inserted into MySQL.\n"
     ]
    },
    {
     "name": "stderr",
     "output_type": "stream",
     "text": [
      "\n",
      "[*********************100%***********************]  1 of 1 completed\n",
      "[*********************100%***********************]  1 of 1 completed\n"
     ]
    },
    {
     "name": "stdout",
     "output_type": "stream",
     "text": [
      "Minute data for LION.JK has been successfully inserted into MySQL.\n",
      "Minute data for LMAS.JK has been successfully inserted into MySQL.\n"
     ]
    },
    {
     "name": "stderr",
     "output_type": "stream",
     "text": [
      "[*********************100%***********************]  1 of 1 completed\n",
      "[*********************100%***********************]  1 of 1 completed\n",
      "\n",
      "1 Failed download:\n",
      "['LMSH.JK']: YFPricesMissingError('possibly delisted; no price data found  (period=5d)')\n"
     ]
    },
    {
     "name": "stdout",
     "output_type": "stream",
     "text": [
      "Minute data for LMPI.JK has been successfully inserted into MySQL.\n"
     ]
    },
    {
     "name": "stderr",
     "output_type": "stream",
     "text": [
      "[*********************100%***********************]  1 of 1 completed\n",
      "[*********************100%***********************]  1 of 1 completed\n"
     ]
    },
    {
     "name": "stdout",
     "output_type": "stream",
     "text": [
      "Minute data for LPCK.JK has been successfully inserted into MySQL.\n",
      "Minute data for LPGI.JK has been successfully inserted into MySQL.\n"
     ]
    },
    {
     "name": "stderr",
     "output_type": "stream",
     "text": [
      "[*********************100%***********************]  1 of 1 completed\n",
      "[*********************100%***********************]  1 of 1 completed\n"
     ]
    },
    {
     "name": "stdout",
     "output_type": "stream",
     "text": [
      "Minute data for LPIN.JK has been successfully inserted into MySQL.\n",
      "Minute data for LPKR.JK has been successfully inserted into MySQL.\n"
     ]
    },
    {
     "name": "stderr",
     "output_type": "stream",
     "text": [
      "[*********************100%***********************]  1 of 1 completed\n",
      "[*********************100%***********************]  1 of 1 completed\n"
     ]
    },
    {
     "name": "stdout",
     "output_type": "stream",
     "text": [
      "Minute data for LPLI.JK has been successfully inserted into MySQL.\n",
      "Minute data for LPPF.JK has been successfully inserted into MySQL.\n"
     ]
    },
    {
     "name": "stderr",
     "output_type": "stream",
     "text": [
      "[*********************100%***********************]  1 of 1 completed\n",
      "[*********************100%***********************]  1 of 1 completed\n"
     ]
    },
    {
     "name": "stdout",
     "output_type": "stream",
     "text": [
      "Minute data for LPPS.JK has been successfully inserted into MySQL.\n",
      "Minute data for LRNA.JK has been successfully inserted into MySQL.\n"
     ]
    },
    {
     "name": "stderr",
     "output_type": "stream",
     "text": [
      "[*********************100%***********************]  1 of 1 completed\n",
      "[*********************100%***********************]  1 of 1 completed\n"
     ]
    },
    {
     "name": "stdout",
     "output_type": "stream",
     "text": [
      "Minute data for LSIP.JK has been successfully inserted into MySQL.\n",
      "Minute data for LTLS.JK has been successfully inserted into MySQL.\n"
     ]
    },
    {
     "name": "stderr",
     "output_type": "stream",
     "text": [
      "[*********************100%***********************]  1 of 1 completed\n"
     ]
    },
    {
     "name": "stdout",
     "output_type": "stream",
     "text": [
      "Minute data for MAGP.JK has been successfully inserted into MySQL.\n"
     ]
    },
    {
     "name": "stderr",
     "output_type": "stream",
     "text": [
      "[*********************100%***********************]  1 of 1 completed\n",
      "[*********************100%***********************]  1 of 1 completed\n"
     ]
    },
    {
     "name": "stdout",
     "output_type": "stream",
     "text": [
      "Minute data for MAIN.JK has been successfully inserted into MySQL.\n",
      "Minute data for MAMI.JK has been successfully inserted into MySQL.\n"
     ]
    },
    {
     "name": "stderr",
     "output_type": "stream",
     "text": [
      "[*********************100%***********************]  1 of 1 completed\n",
      "[*********************100%***********************]  1 of 1 completed\n",
      "\n",
      "1 Failed download:\n",
      "['MASA.JK']: YFPricesMissingError('possibly delisted; no price data found  (period=5d)')\n"
     ]
    },
    {
     "name": "stdout",
     "output_type": "stream",
     "text": [
      "Minute data for MAPI.JK has been successfully inserted into MySQL.\n"
     ]
    },
    {
     "name": "stderr",
     "output_type": "stream",
     "text": [
      "[*********************100%***********************]  1 of 1 completed\n"
     ]
    },
    {
     "name": "stdout",
     "output_type": "stream",
     "text": [
      "Minute data for MAYA.JK has been successfully inserted into MySQL.\n"
     ]
    },
    {
     "name": "stderr",
     "output_type": "stream",
     "text": [
      "[*********************100%***********************]  1 of 1 completed\n"
     ]
    },
    {
     "name": "stdout",
     "output_type": "stream",
     "text": [
      "Minute data for MBAP.JK has been successfully inserted into MySQL.\n"
     ]
    },
    {
     "name": "stderr",
     "output_type": "stream",
     "text": [
      "[*********************100%***********************]  1 of 1 completed\n",
      "[*********************100%***********************]  1 of 1 completed\n"
     ]
    },
    {
     "name": "stdout",
     "output_type": "stream",
     "text": [
      "Minute data for MBSS.JK has been successfully inserted into MySQL.\n",
      "Minute data for MBTO.JK has been successfully inserted into MySQL.\n"
     ]
    },
    {
     "name": "stderr",
     "output_type": "stream",
     "text": [
      "[*********************100%***********************]  1 of 1 completed\n",
      "[*********************100%***********************]  1 of 1 completed\n"
     ]
    },
    {
     "name": "stdout",
     "output_type": "stream",
     "text": [
      "Minute data for MCOR.JK has been successfully inserted into MySQL.\n",
      "Minute data for MDIA.JK has been successfully inserted into MySQL.\n"
     ]
    },
    {
     "name": "stderr",
     "output_type": "stream",
     "text": [
      "[*********************100%***********************]  1 of 1 completed\n"
     ]
    },
    {
     "name": "stdout",
     "output_type": "stream",
     "text": [
      "Minute data for MDKA.JK has been successfully inserted into MySQL.\n"
     ]
    },
    {
     "name": "stderr",
     "output_type": "stream",
     "text": [
      "[*********************100%***********************]  1 of 1 completed\n",
      "[*********************100%***********************]  1 of 1 completed"
     ]
    },
    {
     "name": "stdout",
     "output_type": "stream",
     "text": [
      "Minute data for MDLN.JK has been successfully inserted into MySQL.\n"
     ]
    },
    {
     "name": "stderr",
     "output_type": "stream",
     "text": [
      "\n",
      "[*********************100%***********************]  1 of 1 completed\n"
     ]
    },
    {
     "name": "stdout",
     "output_type": "stream",
     "text": [
      "Minute data for MDRN.JK has been successfully inserted into MySQL.\n",
      "Minute data for MEDC.JK has been successfully inserted into MySQL.\n"
     ]
    },
    {
     "name": "stderr",
     "output_type": "stream",
     "text": [
      "[*********************100%***********************]  1 of 1 completed\n",
      "[*********************100%***********************]  1 of 1 completed\n"
     ]
    },
    {
     "name": "stdout",
     "output_type": "stream",
     "text": [
      "Minute data for MEGA.JK has been successfully inserted into MySQL.\n",
      "Minute data for MERK.JK has been successfully inserted into MySQL.\n"
     ]
    },
    {
     "name": "stderr",
     "output_type": "stream",
     "text": [
      "[*********************100%***********************]  1 of 1 completed\n",
      "[*********************100%***********************]  1 of 1 completed\n"
     ]
    },
    {
     "name": "stdout",
     "output_type": "stream",
     "text": [
      "Minute data for META.JK has been successfully inserted into MySQL.\n",
      "Minute data for MFIN.JK has been successfully inserted into MySQL.\n"
     ]
    },
    {
     "name": "stderr",
     "output_type": "stream",
     "text": [
      "[*********************100%***********************]  1 of 1 completed\n",
      "\n",
      "1 Failed download:\n",
      "['MFMI.JK']: YFPricesMissingError('possibly delisted; no price data found  (period=5d)')\n",
      "[*********************100%***********************]  1 of 1 completed\n",
      "[*********************100%***********************]  1 of 1 completed\n"
     ]
    },
    {
     "name": "stdout",
     "output_type": "stream",
     "text": [
      "Minute data for MGNA.JK has been successfully inserted into MySQL.\n",
      "Minute data for MICE.JK has been successfully inserted into MySQL.\n"
     ]
    },
    {
     "name": "stderr",
     "output_type": "stream",
     "text": [
      "[*********************100%***********************]  1 of 1 completed\n",
      "[*********************100%***********************]  1 of 1 completed\n"
     ]
    },
    {
     "name": "stdout",
     "output_type": "stream",
     "text": [
      "Minute data for MIDI.JK has been successfully inserted into MySQL.\n",
      "Minute data for MIKA.JK has been successfully inserted into MySQL.\n"
     ]
    },
    {
     "name": "stderr",
     "output_type": "stream",
     "text": [
      "[*********************100%***********************]  1 of 1 completed\n",
      "[*********************100%***********************]  1 of 1 completed\n"
     ]
    },
    {
     "name": "stdout",
     "output_type": "stream",
     "text": [
      "Minute data for MIRA.JK has been successfully inserted into MySQL.\n",
      "Minute data for MITI.JK has been successfully inserted into MySQL.\n"
     ]
    },
    {
     "name": "stderr",
     "output_type": "stream",
     "text": [
      "[*********************100%***********************]  1 of 1 completed\n",
      "[*********************100%***********************]  1 of 1 completed\n"
     ]
    },
    {
     "name": "stdout",
     "output_type": "stream",
     "text": [
      "Minute data for MKPI.JK has been successfully inserted into MySQL.\n",
      "Minute data for MLBI.JK has been successfully inserted into MySQL.\n"
     ]
    },
    {
     "name": "stderr",
     "output_type": "stream",
     "text": [
      "[*********************100%***********************]  1 of 1 completed\n",
      "[*********************100%***********************]  1 of 1 completed\n"
     ]
    },
    {
     "name": "stdout",
     "output_type": "stream",
     "text": [
      "Minute data for MLIA.JK has been successfully inserted into MySQL.\n",
      "Minute data for MLPL.JK has been successfully inserted into MySQL.\n"
     ]
    },
    {
     "name": "stderr",
     "output_type": "stream",
     "text": [
      "[*********************100%***********************]  1 of 1 completed\n",
      "[*********************100%***********************]  1 of 1 completed\n"
     ]
    },
    {
     "name": "stdout",
     "output_type": "stream",
     "text": [
      "Minute data for MLPT.JK has been successfully inserted into MySQL.\n",
      "Minute data for MMLP.JK has been successfully inserted into MySQL.\n"
     ]
    },
    {
     "name": "stderr",
     "output_type": "stream",
     "text": [
      "[*********************100%***********************]  1 of 1 completed\n",
      "[*********************100%***********************]  1 of 1 completed\n"
     ]
    },
    {
     "name": "stdout",
     "output_type": "stream",
     "text": [
      "Minute data for MNCN.JK has been successfully inserted into MySQL.\n",
      "Minute data for MPMX.JK has been successfully inserted into MySQL.\n"
     ]
    },
    {
     "name": "stderr",
     "output_type": "stream",
     "text": [
      "[*********************100%***********************]  1 of 1 completed\n"
     ]
    },
    {
     "name": "stdout",
     "output_type": "stream",
     "text": [
      "Minute data for MPPA.JK has been successfully inserted into MySQL.\n"
     ]
    },
    {
     "name": "stderr",
     "output_type": "stream",
     "text": [
      "[*********************100%***********************]  1 of 1 completed\n",
      "[*********************100%***********************]  1 of 1 completed"
     ]
    },
    {
     "name": "stdout",
     "output_type": "stream",
     "text": [
      "Minute data for MRAT.JK has been successfully inserted into MySQL.\n"
     ]
    },
    {
     "name": "stderr",
     "output_type": "stream",
     "text": [
      "\n",
      "[*********************100%***********************]  1 of 1 completed\n"
     ]
    },
    {
     "name": "stdout",
     "output_type": "stream",
     "text": [
      "Minute data for MREI.JK has been successfully inserted into MySQL.\n",
      "Minute data for MSKY.JK has been successfully inserted into MySQL.\n"
     ]
    },
    {
     "name": "stderr",
     "output_type": "stream",
     "text": [
      "[*********************100%***********************]  1 of 1 completed\n",
      "[*********************100%***********************]  1 of 1 completed\n"
     ]
    },
    {
     "name": "stdout",
     "output_type": "stream",
     "text": [
      "Minute data for MTDL.JK has been successfully inserted into MySQL.\n",
      "Minute data for MTFN.JK has been successfully inserted into MySQL.\n"
     ]
    },
    {
     "name": "stderr",
     "output_type": "stream",
     "text": [
      "[*********************100%***********************]  1 of 1 completed\n",
      "[*********************100%***********************]  1 of 1 completed\n",
      "\n",
      "1 Failed download:\n",
      "['MTSM.JK']: YFPricesMissingError('possibly delisted; no price data found  (period=5d)')\n"
     ]
    },
    {
     "name": "stdout",
     "output_type": "stream",
     "text": [
      "Minute data for MTLA.JK has been successfully inserted into MySQL.\n"
     ]
    },
    {
     "name": "stderr",
     "output_type": "stream",
     "text": [
      "[*********************100%***********************]  1 of 1 completed\n",
      "[*********************100%***********************]  1 of 1 completed"
     ]
    },
    {
     "name": "stdout",
     "output_type": "stream",
     "text": [
      "Minute data for MYOH.JK has been successfully inserted into MySQL.\n",
      "Minute data for MYOR.JK has been successfully inserted into MySQL.\n"
     ]
    },
    {
     "name": "stderr",
     "output_type": "stream",
     "text": [
      "\n",
      "[*********************100%***********************]  1 of 1 completed\n",
      "[*********************100%***********************]  1 of 1 completed\n",
      "\n",
      "1 Failed download:\n",
      "['MYTX.JK']: YFPricesMissingError('possibly delisted; no price data found  (period=5d)')\n"
     ]
    },
    {
     "name": "stdout",
     "output_type": "stream",
     "text": [
      "Minute data for MYRX.JK has been successfully inserted into MySQL.\n"
     ]
    },
    {
     "name": "stderr",
     "output_type": "stream",
     "text": [
      "[*********************100%***********************]  1 of 1 completed\n",
      "[*********************100%***********************]  1 of 1 completed\n"
     ]
    },
    {
     "name": "stdout",
     "output_type": "stream",
     "text": [
      "Minute data for NELY.JK has been successfully inserted into MySQL.\n",
      "Minute data for NIKL.JK has been successfully inserted into MySQL.\n"
     ]
    },
    {
     "name": "stderr",
     "output_type": "stream",
     "text": [
      "[*********************100%***********************]  1 of 1 completed\n",
      "[*********************100%***********************]  1 of 1 completed\n"
     ]
    },
    {
     "name": "stdout",
     "output_type": "stream",
     "text": [
      "Minute data for NIPS.JK has been successfully inserted into MySQL.\n",
      "Minute data for NIRO.JK has been successfully inserted into MySQL.\n"
     ]
    },
    {
     "name": "stderr",
     "output_type": "stream",
     "text": [
      "[*********************100%***********************]  1 of 1 completed\n",
      "[*********************100%***********************]  1 of 1 completed\n"
     ]
    },
    {
     "name": "stdout",
     "output_type": "stream",
     "text": [
      "Minute data for NISP.JK has been successfully inserted into MySQL.\n",
      "Minute data for NOBU.JK has been successfully inserted into MySQL.\n"
     ]
    },
    {
     "name": "stderr",
     "output_type": "stream",
     "text": [
      "[*********************100%***********************]  1 of 1 completed\n",
      "[*********************100%***********************]  1 of 1 completed\n"
     ]
    },
    {
     "name": "stdout",
     "output_type": "stream",
     "text": [
      "Minute data for NRCA.JK has been successfully inserted into MySQL.\n",
      "Minute data for OCAP.JK has been successfully inserted into MySQL.\n"
     ]
    },
    {
     "name": "stderr",
     "output_type": "stream",
     "text": [
      "[*********************100%***********************]  1 of 1 completed\n",
      "[*********************100%***********************]  1 of 1 completed\n"
     ]
    },
    {
     "name": "stdout",
     "output_type": "stream",
     "text": [
      "Minute data for OKAS.JK has been successfully inserted into MySQL.\n",
      "Minute data for OMRE.JK has been successfully inserted into MySQL.\n"
     ]
    },
    {
     "name": "stderr",
     "output_type": "stream",
     "text": [
      "[*********************100%***********************]  1 of 1 completed\n",
      "[*********************100%***********************]  1 of 1 completed"
     ]
    },
    {
     "name": "stdout",
     "output_type": "stream",
     "text": [
      "Minute data for PADI.JK has been successfully inserted into MySQL.\n"
     ]
    },
    {
     "name": "stderr",
     "output_type": "stream",
     "text": [
      "\n",
      "[*********************100%***********************]  1 of 1 completed"
     ]
    },
    {
     "name": "stdout",
     "output_type": "stream",
     "text": [
      "Minute data for PALM.JK has been successfully inserted into MySQL.\n",
      "Minute data for PANR.JK has been successfully inserted into MySQL.\n"
     ]
    },
    {
     "name": "stderr",
     "output_type": "stream",
     "text": [
      "\n",
      "[*********************100%***********************]  1 of 1 completed\n",
      "[*********************100%***********************]  1 of 1 completed\n",
      "\n",
      "1 Failed download:\n",
      "['PBRX.JK']: YFPricesMissingError('possibly delisted; no price data found  (period=5d)')\n",
      "[*********************100%***********************]  1 of 1 completed"
     ]
    },
    {
     "name": "stdout",
     "output_type": "stream",
     "text": [
      "Minute data for PANS.JK has been successfully inserted into MySQL.\n"
     ]
    },
    {
     "name": "stderr",
     "output_type": "stream",
     "text": [
      "\n",
      "[*********************100%***********************]  1 of 1 completed\n"
     ]
    },
    {
     "name": "stdout",
     "output_type": "stream",
     "text": [
      "Minute data for PDES.JK has been successfully inserted into MySQL.\n",
      "Minute data for PEGE.JK has been successfully inserted into MySQL.\n"
     ]
    },
    {
     "name": "stderr",
     "output_type": "stream",
     "text": [
      "[*********************100%***********************]  1 of 1 completed\n"
     ]
    },
    {
     "name": "stdout",
     "output_type": "stream",
     "text": [
      "Minute data for PGAS.JK has been successfully inserted into MySQL.\n"
     ]
    },
    {
     "name": "stderr",
     "output_type": "stream",
     "text": [
      "[*********************100%***********************]  1 of 1 completed\n",
      "[*********************100%***********************]  1 of 1 completed"
     ]
    },
    {
     "name": "stdout",
     "output_type": "stream",
     "text": [
      "Minute data for PGLI.JK has been successfully inserted into MySQL.\n"
     ]
    },
    {
     "name": "stderr",
     "output_type": "stream",
     "text": [
      "\n",
      "[*********************100%***********************]  1 of 1 completed\n"
     ]
    },
    {
     "name": "stdout",
     "output_type": "stream",
     "text": [
      "Minute data for PICO.JK has been successfully inserted into MySQL.\n",
      "Minute data for PJAA.JK has been successfully inserted into MySQL.\n"
     ]
    },
    {
     "name": "stderr",
     "output_type": "stream",
     "text": [
      "[*********************100%***********************]  1 of 1 completed\n",
      "[*********************100%***********************]  1 of 1 completed\n",
      "[*********************100%***********************]  1 of 1 completed\n",
      "\n",
      "1 Failed download:\n",
      "['PLIN.JK']: YFPricesMissingError('possibly delisted; no price data found  (period=5d)')\n"
     ]
    },
    {
     "name": "stdout",
     "output_type": "stream",
     "text": [
      "Minute data for PKPK.JK has been successfully inserted into MySQL.\n",
      "Minute data for PLAS.JK has been successfully inserted into MySQL.\n"
     ]
    },
    {
     "name": "stderr",
     "output_type": "stream",
     "text": [
      "[*********************100%***********************]  1 of 1 completed\n",
      "[*********************100%***********************]  1 of 1 completed"
     ]
    },
    {
     "name": "stdout",
     "output_type": "stream",
     "text": [
      "Minute data for PNBN.JK has been successfully inserted into MySQL.\n"
     ]
    },
    {
     "name": "stderr",
     "output_type": "stream",
     "text": [
      "\n",
      "[*********************100%***********************]  1 of 1 completed\n"
     ]
    },
    {
     "name": "stdout",
     "output_type": "stream",
     "text": [
      "Minute data for PNBS.JK has been successfully inserted into MySQL.\n",
      "Minute data for PNIN.JK has been successfully inserted into MySQL.\n"
     ]
    },
    {
     "name": "stderr",
     "output_type": "stream",
     "text": [
      "[*********************100%***********************]  1 of 1 completed\n",
      "[*********************100%***********************]  1 of 1 completed\n"
     ]
    },
    {
     "name": "stdout",
     "output_type": "stream",
     "text": [
      "Minute data for PNLF.JK has been successfully inserted into MySQL.\n",
      "Minute data for PNSE.JK has been successfully inserted into MySQL.\n"
     ]
    },
    {
     "name": "stderr",
     "output_type": "stream",
     "text": [
      "[*********************100%***********************]  1 of 1 completed\n",
      "[*********************100%***********************]  1 of 1 completed\n",
      "[*********************100%***********************]  1 of 1 completed\n",
      "\n",
      "1 Failed download:\n",
      "['PPRO.JK']: YFPricesMissingError('possibly delisted; no price data found  (period=5d)')\n"
     ]
    },
    {
     "name": "stdout",
     "output_type": "stream",
     "text": [
      "Minute data for POLY.JK has been successfully inserted into MySQL.\n",
      "Minute data for POOL.JK has been successfully inserted into MySQL.\n"
     ]
    },
    {
     "name": "stderr",
     "output_type": "stream",
     "text": [
      "[*********************100%***********************]  1 of 1 completed\n",
      "[*********************100%***********************]  1 of 1 completed\n"
     ]
    },
    {
     "name": "stdout",
     "output_type": "stream",
     "text": [
      "Minute data for PRAS.JK has been successfully inserted into MySQL.\n",
      "Minute data for PSAB.JK has been successfully inserted into MySQL.\n"
     ]
    },
    {
     "name": "stderr",
     "output_type": "stream",
     "text": [
      "[*********************100%***********************]  1 of 1 completed\n",
      "[*********************100%***********************]  1 of 1 completed\n"
     ]
    },
    {
     "name": "stdout",
     "output_type": "stream",
     "text": [
      "Minute data for PSDN.JK has been successfully inserted into MySQL.\n",
      "Minute data for PSKT.JK has been successfully inserted into MySQL.\n"
     ]
    },
    {
     "name": "stderr",
     "output_type": "stream",
     "text": [
      "[*********************100%***********************]  1 of 1 completed\n",
      "[*********************100%***********************]  1 of 1 completed\n"
     ]
    },
    {
     "name": "stdout",
     "output_type": "stream",
     "text": [
      "Minute data for PTBA.JK has been successfully inserted into MySQL.\n",
      "Minute data for PTIS.JK has been successfully inserted into MySQL.\n"
     ]
    },
    {
     "name": "stderr",
     "output_type": "stream",
     "text": [
      "[*********************100%***********************]  1 of 1 completed\n",
      "[*********************100%***********************]  1 of 1 completed\n"
     ]
    },
    {
     "name": "stdout",
     "output_type": "stream",
     "text": [
      "Minute data for PTPP.JK has been successfully inserted into MySQL.\n",
      "Minute data for PTRO.JK has been successfully inserted into MySQL.\n"
     ]
    },
    {
     "name": "stderr",
     "output_type": "stream",
     "text": [
      "[*********************100%***********************]  1 of 1 completed\n",
      "[*********************100%***********************]  1 of 1 completed\n"
     ]
    },
    {
     "name": "stdout",
     "output_type": "stream",
     "text": [
      "Minute data for PTSN.JK has been successfully inserted into MySQL.\n",
      "Minute data for PTSP.JK has been successfully inserted into MySQL.\n"
     ]
    },
    {
     "name": "stderr",
     "output_type": "stream",
     "text": [
      "[*********************100%***********************]  1 of 1 completed\n",
      "[*********************100%***********************]  1 of 1 completed\n"
     ]
    },
    {
     "name": "stdout",
     "output_type": "stream",
     "text": [
      "Minute data for PUDP.JK has been successfully inserted into MySQL.\n",
      "Minute data for PWON.JK has been successfully inserted into MySQL.\n"
     ]
    },
    {
     "name": "stderr",
     "output_type": "stream",
     "text": [
      "[*********************100%***********************]  1 of 1 completed\n",
      "[*********************100%***********************]  1 of 1 completed"
     ]
    },
    {
     "name": "stdout",
     "output_type": "stream",
     "text": [
      "Minute data for PYFA.JK has been successfully inserted into MySQL.\n"
     ]
    },
    {
     "name": "stderr",
     "output_type": "stream",
     "text": [
      "\n",
      "[*********************100%***********************]  1 of 1 completed\n"
     ]
    },
    {
     "name": "stdout",
     "output_type": "stream",
     "text": [
      "Minute data for RAJA.JK has been successfully inserted into MySQL.\n",
      "Minute data for RALS.JK has been successfully inserted into MySQL.\n"
     ]
    },
    {
     "name": "stderr",
     "output_type": "stream",
     "text": [
      "[*********************100%***********************]  1 of 1 completed\n"
     ]
    },
    {
     "name": "stdout",
     "output_type": "stream",
     "text": [
      "Minute data for RANC.JK has been successfully inserted into MySQL.\n"
     ]
    },
    {
     "name": "stderr",
     "output_type": "stream",
     "text": [
      "[*********************100%***********************]  1 of 1 completed\n",
      "[*********************100%***********************]  1 of 1 completed\n"
     ]
    },
    {
     "name": "stdout",
     "output_type": "stream",
     "text": [
      "Minute data for RBMS.JK has been successfully inserted into MySQL.\n",
      "Minute data for RDTX.JK has been successfully inserted into MySQL.\n"
     ]
    },
    {
     "name": "stderr",
     "output_type": "stream",
     "text": [
      "[*********************100%***********************]  1 of 1 completed\n",
      "[*********************100%***********************]  1 of 1 completed\n"
     ]
    },
    {
     "name": "stdout",
     "output_type": "stream",
     "text": [
      "Minute data for RELI.JK has been successfully inserted into MySQL.\n",
      "Minute data for RICY.JK has been successfully inserted into MySQL.\n"
     ]
    },
    {
     "name": "stderr",
     "output_type": "stream",
     "text": [
      "[*********************100%***********************]  1 of 1 completed\n",
      "[*********************100%***********************]  1 of 1 completed\n"
     ]
    },
    {
     "name": "stdout",
     "output_type": "stream",
     "text": [
      "Minute data for RIGS.JK has been successfully inserted into MySQL.\n",
      "Minute data for RIMO.JK has been successfully inserted into MySQL.\n"
     ]
    },
    {
     "name": "stderr",
     "output_type": "stream",
     "text": [
      "[*********************100%***********************]  1 of 1 completed\n",
      "[*********************100%***********************]  1 of 1 completed\n"
     ]
    },
    {
     "name": "stdout",
     "output_type": "stream",
     "text": [
      "Minute data for RODA.JK has been successfully inserted into MySQL.\n",
      "Minute data for ROTI.JK has been successfully inserted into MySQL.\n"
     ]
    },
    {
     "name": "stderr",
     "output_type": "stream",
     "text": [
      "[*********************100%***********************]  1 of 1 completed\n",
      "[*********************100%***********************]  1 of 1 completed\n"
     ]
    },
    {
     "name": "stdout",
     "output_type": "stream",
     "text": [
      "Minute data for RUIS.JK has been successfully inserted into MySQL.\n",
      "Minute data for SAFE.JK has been successfully inserted into MySQL.\n"
     ]
    },
    {
     "name": "stderr",
     "output_type": "stream",
     "text": [
      "[*********************100%***********************]  1 of 1 completed\n",
      "[*********************100%***********************]  1 of 1 completed\n"
     ]
    },
    {
     "name": "stdout",
     "output_type": "stream",
     "text": [
      "Minute data for SAME.JK has been successfully inserted into MySQL.\n",
      "Minute data for SCCO.JK has been successfully inserted into MySQL.\n"
     ]
    },
    {
     "name": "stderr",
     "output_type": "stream",
     "text": [
      "[*********************100%***********************]  1 of 1 completed\n",
      "[*********************100%***********************]  1 of 1 completed\n"
     ]
    },
    {
     "name": "stdout",
     "output_type": "stream",
     "text": [
      "Minute data for SCMA.JK has been successfully inserted into MySQL.\n",
      "Minute data for SCPI.JK has been successfully inserted into MySQL.\n"
     ]
    },
    {
     "name": "stderr",
     "output_type": "stream",
     "text": [
      "[*********************100%***********************]  1 of 1 completed\n",
      "[*********************100%***********************]  1 of 1 completed\n"
     ]
    },
    {
     "name": "stdout",
     "output_type": "stream",
     "text": [
      "Minute data for SDMU.JK has been successfully inserted into MySQL.\n",
      "Minute data for SDPC.JK has been successfully inserted into MySQL.\n"
     ]
    },
    {
     "name": "stderr",
     "output_type": "stream",
     "text": [
      "[*********************100%***********************]  1 of 1 completed\n",
      "[*********************100%***********************]  1 of 1 completed\n"
     ]
    },
    {
     "name": "stdout",
     "output_type": "stream",
     "text": [
      "Minute data for SDRA.JK has been successfully inserted into MySQL.\n",
      "Minute data for SGRO.JK has been successfully inserted into MySQL.\n"
     ]
    },
    {
     "name": "stderr",
     "output_type": "stream",
     "text": [
      "[*********************100%***********************]  1 of 1 completed\n",
      "[*********************100%***********************]  1 of 1 completed\n"
     ]
    },
    {
     "name": "stdout",
     "output_type": "stream",
     "text": [
      "Minute data for SHID.JK has been successfully inserted into MySQL.\n",
      "Minute data for SIDO.JK has been successfully inserted into MySQL.\n"
     ]
    },
    {
     "name": "stderr",
     "output_type": "stream",
     "text": [
      "[*********************100%***********************]  1 of 1 completed\n",
      "[*********************100%***********************]  1 of 1 completed\n"
     ]
    },
    {
     "name": "stdout",
     "output_type": "stream",
     "text": [
      "Minute data for SILO.JK has been successfully inserted into MySQL.\n",
      "Minute data for SIMA.JK has been successfully inserted into MySQL.\n"
     ]
    },
    {
     "name": "stderr",
     "output_type": "stream",
     "text": [
      "[*********************100%***********************]  1 of 1 completed\n",
      "[*********************100%***********************]  1 of 1 completed\n"
     ]
    },
    {
     "name": "stdout",
     "output_type": "stream",
     "text": [
      "Minute data for SIMP.JK has been successfully inserted into MySQL.\n",
      "Minute data for SIPD.JK has been successfully inserted into MySQL.\n"
     ]
    },
    {
     "name": "stderr",
     "output_type": "stream",
     "text": [
      "[*********************100%***********************]  1 of 1 completed\n",
      "[*********************100%***********************]  1 of 1 completed\n"
     ]
    },
    {
     "name": "stdout",
     "output_type": "stream",
     "text": [
      "Minute data for SKBM.JK has been successfully inserted into MySQL.\n",
      "Minute data for SKLT.JK has been successfully inserted into MySQL.\n"
     ]
    },
    {
     "name": "stderr",
     "output_type": "stream",
     "text": [
      "[*********************100%***********************]  1 of 1 completed\n",
      "[*********************100%***********************]  1 of 1 completed\n"
     ]
    },
    {
     "name": "stdout",
     "output_type": "stream",
     "text": [
      "Minute data for SKYB.JK has been successfully inserted into MySQL.\n",
      "Minute data for SMAR.JK has been successfully inserted into MySQL.\n"
     ]
    },
    {
     "name": "stderr",
     "output_type": "stream",
     "text": [
      "[*********************100%***********************]  1 of 1 completed\n",
      "[*********************100%***********************]  1 of 1 completed\n",
      "\n",
      "1 Failed download:\n",
      "['SMCB.JK']: YFPricesMissingError('possibly delisted; no price data found  (period=5d)')\n",
      "[*********************100%***********************]  1 of 1 completed"
     ]
    },
    {
     "name": "stdout",
     "output_type": "stream",
     "text": [
      "Minute data for SMBR.JK has been successfully inserted into MySQL.\n",
      "Minute data for SMDM.JK has been successfully inserted into MySQL.\n"
     ]
    },
    {
     "name": "stderr",
     "output_type": "stream",
     "text": [
      "\n",
      "[*********************100%***********************]  1 of 1 completed\n"
     ]
    },
    {
     "name": "stdout",
     "output_type": "stream",
     "text": [
      "Minute data for SMDR.JK has been successfully inserted into MySQL.\n"
     ]
    },
    {
     "name": "stderr",
     "output_type": "stream",
     "text": [
      "[*********************100%***********************]  1 of 1 completed\n",
      "[*********************100%***********************]  1 of 1 completed"
     ]
    },
    {
     "name": "stdout",
     "output_type": "stream",
     "text": [
      "Minute data for SMGR.JK has been successfully inserted into MySQL.\n",
      "Minute data for SMMA.JK has been successfully inserted into MySQL.\n"
     ]
    },
    {
     "name": "stderr",
     "output_type": "stream",
     "text": [
      "\n",
      "[*********************100%***********************]  1 of 1 completed\n",
      "[*********************100%***********************]  1 of 1 completed\n"
     ]
    },
    {
     "name": "stdout",
     "output_type": "stream",
     "text": [
      "Minute data for SMMT.JK has been successfully inserted into MySQL.\n",
      "Minute data for SMRA.JK has been successfully inserted into MySQL.\n"
     ]
    },
    {
     "name": "stderr",
     "output_type": "stream",
     "text": [
      "[*********************100%***********************]  1 of 1 completed\n"
     ]
    },
    {
     "name": "stdout",
     "output_type": "stream",
     "text": [
      "Minute data for SMRU.JK has been successfully inserted into MySQL.\n"
     ]
    },
    {
     "name": "stderr",
     "output_type": "stream",
     "text": [
      "[*********************100%***********************]  1 of 1 completed\n"
     ]
    },
    {
     "name": "stdout",
     "output_type": "stream",
     "text": [
      "Minute data for SMSM.JK has been successfully inserted into MySQL.\n"
     ]
    },
    {
     "name": "stderr",
     "output_type": "stream",
     "text": [
      "[*********************100%***********************]  1 of 1 completed\n",
      "[*********************100%***********************]  1 of 1 completed\n"
     ]
    },
    {
     "name": "stdout",
     "output_type": "stream",
     "text": [
      "Minute data for SOCI.JK has been successfully inserted into MySQL.\n",
      "Minute data for SONA.JK has been successfully inserted into MySQL.\n"
     ]
    },
    {
     "name": "stderr",
     "output_type": "stream",
     "text": [
      "[*********************100%***********************]  1 of 1 completed\n",
      "[*********************100%***********************]  1 of 1 completed\n"
     ]
    },
    {
     "name": "stdout",
     "output_type": "stream",
     "text": [
      "Minute data for SPMA.JK has been successfully inserted into MySQL.\n",
      "Minute data for SQMI.JK has been successfully inserted into MySQL.\n"
     ]
    },
    {
     "name": "stderr",
     "output_type": "stream",
     "text": [
      "[*********************100%***********************]  1 of 1 completed\n",
      "[*********************100%***********************]  1 of 1 completed\n"
     ]
    },
    {
     "name": "stdout",
     "output_type": "stream",
     "text": [
      "Minute data for SRAJ.JK has been successfully inserted into MySQL.\n",
      "Minute data for SRIL.JK has been successfully inserted into MySQL.\n"
     ]
    },
    {
     "name": "stderr",
     "output_type": "stream",
     "text": [
      "[*********************100%***********************]  1 of 1 completed\n"
     ]
    },
    {
     "name": "stdout",
     "output_type": "stream",
     "text": [
      "Minute data for SRSN.JK has been successfully inserted into MySQL.\n"
     ]
    },
    {
     "name": "stderr",
     "output_type": "stream",
     "text": [
      "[*********************100%***********************]  1 of 1 completed\n",
      "[*********************100%***********************]  1 of 1 completed\n"
     ]
    },
    {
     "name": "stdout",
     "output_type": "stream",
     "text": [
      "Minute data for SRTG.JK has been successfully inserted into MySQL.\n",
      "Minute data for SSIA.JK has been successfully inserted into MySQL.\n"
     ]
    },
    {
     "name": "stderr",
     "output_type": "stream",
     "text": [
      "[*********************100%***********************]  1 of 1 completed\n"
     ]
    },
    {
     "name": "stdout",
     "output_type": "stream",
     "text": [
      "Minute data for SSMS.JK has been successfully inserted into MySQL.\n"
     ]
    },
    {
     "name": "stderr",
     "output_type": "stream",
     "text": [
      "[*********************100%***********************]  1 of 1 completed\n"
     ]
    },
    {
     "name": "stdout",
     "output_type": "stream",
     "text": [
      "Minute data for SSTM.JK has been successfully inserted into MySQL.\n"
     ]
    },
    {
     "name": "stderr",
     "output_type": "stream",
     "text": [
      "[*********************100%***********************]  1 of 1 completed\n",
      "[*********************100%***********************]  1 of 1 completed"
     ]
    },
    {
     "name": "stdout",
     "output_type": "stream",
     "text": [
      "Minute data for STAR.JK has been successfully inserted into MySQL.\n"
     ]
    },
    {
     "name": "stderr",
     "output_type": "stream",
     "text": [
      "\n",
      "[*********************100%***********************]  1 of 1 completed"
     ]
    },
    {
     "name": "stdout",
     "output_type": "stream",
     "text": [
      "Minute data for STTP.JK has been successfully inserted into MySQL.\n"
     ]
    },
    {
     "name": "stderr",
     "output_type": "stream",
     "text": [
      "\n",
      "[*********************100%***********************]  1 of 1 completed\n"
     ]
    },
    {
     "name": "stdout",
     "output_type": "stream",
     "text": [
      "Minute data for SUGI.JK has been successfully inserted into MySQL.\n",
      "Minute data for SULI.JK has been successfully inserted into MySQL.\n"
     ]
    },
    {
     "name": "stderr",
     "output_type": "stream",
     "text": [
      "[*********************100%***********************]  1 of 1 completed\n",
      "[*********************100%***********************]  1 of 1 completed\n"
     ]
    },
    {
     "name": "stdout",
     "output_type": "stream",
     "text": [
      "Minute data for SUPR.JK has been successfully inserted into MySQL.\n",
      "Minute data for TALF.JK has been successfully inserted into MySQL.\n"
     ]
    },
    {
     "name": "stderr",
     "output_type": "stream",
     "text": [
      "[*********************100%***********************]  1 of 1 completed\n",
      "[*********************100%***********************]  1 of 1 completed\n"
     ]
    },
    {
     "name": "stdout",
     "output_type": "stream",
     "text": [
      "Minute data for TARA.JK has been successfully inserted into MySQL.\n",
      "Minute data for TAXI.JK has been successfully inserted into MySQL.\n"
     ]
    },
    {
     "name": "stderr",
     "output_type": "stream",
     "text": [
      "[*********************100%***********************]  1 of 1 completed\n",
      "[*********************100%***********************]  1 of 1 completed\n"
     ]
    },
    {
     "name": "stdout",
     "output_type": "stream",
     "text": [
      "Minute data for TBIG.JK has been successfully inserted into MySQL.\n",
      "Minute data for TBLA.JK has been successfully inserted into MySQL.\n"
     ]
    },
    {
     "name": "stderr",
     "output_type": "stream",
     "text": [
      "[*********************100%***********************]  1 of 1 completed\n",
      "[*********************100%***********************]  1 of 1 completed"
     ]
    },
    {
     "name": "stdout",
     "output_type": "stream",
     "text": [
      "Minute data for TBMS.JK has been successfully inserted into MySQL.\n"
     ]
    },
    {
     "name": "stderr",
     "output_type": "stream",
     "text": [
      "\n",
      "[*********************100%***********************]  1 of 1 completed\n",
      "\n",
      "1 Failed download:\n",
      "['TELE.JK']: YFPricesMissingError('possibly delisted; no price data found  (period=5d)')\n",
      "[*********************100%***********************]  1 of 1 completed"
     ]
    },
    {
     "name": "stdout",
     "output_type": "stream",
     "text": [
      "Minute data for TCID.JK has been successfully inserted into MySQL.\n"
     ]
    },
    {
     "name": "stderr",
     "output_type": "stream",
     "text": [
      "\n",
      "[*********************100%***********************]  1 of 1 completed\n"
     ]
    },
    {
     "name": "stdout",
     "output_type": "stream",
     "text": [
      "Minute data for TFCO.JK has been successfully inserted into MySQL.\n",
      "Minute data for TGKA.JK has been successfully inserted into MySQL.\n"
     ]
    },
    {
     "name": "stderr",
     "output_type": "stream",
     "text": [
      "[*********************100%***********************]  1 of 1 completed\n",
      "[*********************100%***********************]  1 of 1 completed"
     ]
    },
    {
     "name": "stdout",
     "output_type": "stream",
     "text": [
      "Minute data for TIFA.JK has been successfully inserted into MySQL.\n"
     ]
    },
    {
     "name": "stderr",
     "output_type": "stream",
     "text": [
      "\n",
      "[*********************100%***********************]  1 of 1 completed\n",
      "\n",
      "1 Failed download:\n",
      "['TIRA.JK']: YFPricesMissingError('possibly delisted; no price data found  (period=5d)')\n",
      "[*********************100%***********************]  1 of 1 completed\n",
      "\n",
      "1 Failed download:\n",
      "['TIRT.JK']: YFPricesMissingError('possibly delisted; no price data found  (period=5d)')\n"
     ]
    },
    {
     "name": "stdout",
     "output_type": "stream",
     "text": [
      "Minute data for TINS.JK has been successfully inserted into MySQL.\n"
     ]
    },
    {
     "name": "stderr",
     "output_type": "stream",
     "text": [
      "[*********************100%***********************]  1 of 1 completed\n"
     ]
    },
    {
     "name": "stdout",
     "output_type": "stream",
     "text": [
      "Minute data for TKIM.JK has been successfully inserted into MySQL.\n"
     ]
    },
    {
     "name": "stderr",
     "output_type": "stream",
     "text": [
      "[*********************100%***********************]  1 of 1 completed\n"
     ]
    },
    {
     "name": "stdout",
     "output_type": "stream",
     "text": [
      "Minute data for TLKM.JK has been successfully inserted into MySQL.\n"
     ]
    },
    {
     "name": "stderr",
     "output_type": "stream",
     "text": [
      "[*********************100%***********************]  1 of 1 completed\n",
      "[*********************100%***********************]  1 of 1 completed\n"
     ]
    },
    {
     "name": "stdout",
     "output_type": "stream",
     "text": [
      "Minute data for TMAS.JK has been successfully inserted into MySQL.\n",
      "Minute data for TMPO.JK has been successfully inserted into MySQL.\n"
     ]
    },
    {
     "name": "stderr",
     "output_type": "stream",
     "text": [
      "[*********************100%***********************]  1 of 1 completed\n",
      "[*********************100%***********************]  1 of 1 completed\n"
     ]
    },
    {
     "name": "stdout",
     "output_type": "stream",
     "text": [
      "Minute data for TOBA.JK has been successfully inserted into MySQL.\n",
      "Minute data for TOTL.JK has been successfully inserted into MySQL.\n"
     ]
    },
    {
     "name": "stderr",
     "output_type": "stream",
     "text": [
      "[*********************100%***********************]  1 of 1 completed\n",
      "[*********************100%***********************]  1 of 1 completed"
     ]
    },
    {
     "name": "stdout",
     "output_type": "stream",
     "text": [
      "Minute data for TOTO.JK has been successfully inserted into MySQL.\n"
     ]
    },
    {
     "name": "stderr",
     "output_type": "stream",
     "text": [
      "\n",
      "[*********************100%***********************]  1 of 1 completed"
     ]
    },
    {
     "name": "stdout",
     "output_type": "stream",
     "text": [
      "Minute data for TOWR.JK has been successfully inserted into MySQL.\n"
     ]
    },
    {
     "name": "stderr",
     "output_type": "stream",
     "text": [
      "\n",
      "[*********************100%***********************]  1 of 1 completed"
     ]
    },
    {
     "name": "stdout",
     "output_type": "stream",
     "text": [
      "Minute data for TPIA.JK has been successfully inserted into MySQL.\n"
     ]
    },
    {
     "name": "stderr",
     "output_type": "stream",
     "text": [
      "\n",
      "[*********************100%***********************]  1 of 1 completed\n"
     ]
    },
    {
     "name": "stdout",
     "output_type": "stream",
     "text": [
      "Minute data for TPMA.JK has been successfully inserted into MySQL.\n",
      "Minute data for TRAM.JK has been successfully inserted into MySQL.\n"
     ]
    },
    {
     "name": "stderr",
     "output_type": "stream",
     "text": [
      "[*********************100%***********************]  1 of 1 completed\n"
     ]
    },
    {
     "name": "stdout",
     "output_type": "stream",
     "text": [
      "Minute data for TRIL.JK has been successfully inserted into MySQL.\n"
     ]
    },
    {
     "name": "stderr",
     "output_type": "stream",
     "text": [
      "[*********************100%***********************]  1 of 1 completed\n",
      "[*********************100%***********************]  1 of 1 completed\n"
     ]
    },
    {
     "name": "stdout",
     "output_type": "stream",
     "text": [
      "Minute data for TRIM.JK has been successfully inserted into MySQL.\n",
      "Minute data for TRIO.JK has been successfully inserted into MySQL.\n"
     ]
    },
    {
     "name": "stderr",
     "output_type": "stream",
     "text": [
      "[*********************100%***********************]  1 of 1 completed\n"
     ]
    },
    {
     "name": "stdout",
     "output_type": "stream",
     "text": [
      "Minute data for TRIS.JK has been successfully inserted into MySQL.\n"
     ]
    },
    {
     "name": "stderr",
     "output_type": "stream",
     "text": [
      "[*********************100%***********************]  1 of 1 completed\n"
     ]
    },
    {
     "name": "stdout",
     "output_type": "stream",
     "text": [
      "Minute data for TRST.JK has been successfully inserted into MySQL.\n"
     ]
    },
    {
     "name": "stderr",
     "output_type": "stream",
     "text": [
      "[*********************100%***********************]  1 of 1 completed\n"
     ]
    },
    {
     "name": "stdout",
     "output_type": "stream",
     "text": [
      "Minute data for TRUS.JK has been successfully inserted into MySQL.\n"
     ]
    },
    {
     "name": "stderr",
     "output_type": "stream",
     "text": [
      "[*********************100%***********************]  1 of 1 completed\n",
      "[*********************100%***********************]  1 of 1 completed\n"
     ]
    },
    {
     "name": "stdout",
     "output_type": "stream",
     "text": [
      "Minute data for TSPC.JK has been successfully inserted into MySQL.\n",
      "Minute data for ULTJ.JK has been successfully inserted into MySQL.\n"
     ]
    },
    {
     "name": "stderr",
     "output_type": "stream",
     "text": [
      "[*********************100%***********************]  1 of 1 completed\n",
      "[*********************100%***********************]  1 of 1 completed\n"
     ]
    },
    {
     "name": "stdout",
     "output_type": "stream",
     "text": [
      "Minute data for UNIC.JK has been successfully inserted into MySQL.\n",
      "Minute data for UNIT.JK has been successfully inserted into MySQL.\n"
     ]
    },
    {
     "name": "stderr",
     "output_type": "stream",
     "text": [
      "[*********************100%***********************]  1 of 1 completed\n"
     ]
    },
    {
     "name": "stdout",
     "output_type": "stream",
     "text": [
      "Minute data for UNSP.JK has been successfully inserted into MySQL.\n"
     ]
    },
    {
     "name": "stderr",
     "output_type": "stream",
     "text": [
      "[*********************100%***********************]  1 of 1 completed\n"
     ]
    },
    {
     "name": "stdout",
     "output_type": "stream",
     "text": [
      "Minute data for UNTR.JK has been successfully inserted into MySQL.\n"
     ]
    },
    {
     "name": "stderr",
     "output_type": "stream",
     "text": [
      "[*********************100%***********************]  1 of 1 completed\n",
      "[*********************100%***********************]  1 of 1 completed"
     ]
    },
    {
     "name": "stdout",
     "output_type": "stream",
     "text": [
      "Minute data for UNVR.JK has been successfully inserted into MySQL.\n"
     ]
    },
    {
     "name": "stderr",
     "output_type": "stream",
     "text": [
      "\n",
      "[*********************100%***********************]  1 of 1 completed\n"
     ]
    },
    {
     "name": "stdout",
     "output_type": "stream",
     "text": [
      "Minute data for VICO.JK has been successfully inserted into MySQL.\n",
      "Minute data for VINS.JK has been successfully inserted into MySQL.\n"
     ]
    },
    {
     "name": "stderr",
     "output_type": "stream",
     "text": [
      "[*********************100%***********************]  1 of 1 completed\n",
      "[*********************100%***********************]  1 of 1 completed\n"
     ]
    },
    {
     "name": "stdout",
     "output_type": "stream",
     "text": [
      "Minute data for VIVA.JK has been successfully inserted into MySQL.\n",
      "Minute data for VOKS.JK has been successfully inserted into MySQL.\n"
     ]
    },
    {
     "name": "stderr",
     "output_type": "stream",
     "text": [
      "[*********************100%***********************]  1 of 1 completed\n",
      "[*********************100%***********************]  1 of 1 completed\n"
     ]
    },
    {
     "name": "stdout",
     "output_type": "stream",
     "text": [
      "Minute data for VRNA.JK has been successfully inserted into MySQL.\n",
      "Minute data for WAPO.JK has been successfully inserted into MySQL.\n"
     ]
    },
    {
     "name": "stderr",
     "output_type": "stream",
     "text": [
      "[*********************100%***********************]  1 of 1 completed\n",
      "[*********************100%***********************]  1 of 1 completed\n",
      "\n",
      "1 Failed download:\n",
      "['WICO.JK']: YFPricesMissingError('possibly delisted; no price data found  (period=5d)')\n"
     ]
    },
    {
     "name": "stdout",
     "output_type": "stream",
     "text": [
      "Minute data for WEHA.JK has been successfully inserted into MySQL.\n"
     ]
    },
    {
     "name": "stderr",
     "output_type": "stream",
     "text": [
      "[*********************100%***********************]  1 of 1 completed\n",
      "[*********************100%***********************]  1 of 1 completed\n",
      "\n",
      "1 Failed download:\n",
      "['WIKA.JK']: YFPricesMissingError('possibly delisted; no price data found  (period=5d)')\n"
     ]
    },
    {
     "name": "stdout",
     "output_type": "stream",
     "text": [
      "Minute data for WIIM.JK has been successfully inserted into MySQL.\n"
     ]
    },
    {
     "name": "stderr",
     "output_type": "stream",
     "text": [
      "[*********************100%***********************]  1 of 1 completed\n"
     ]
    },
    {
     "name": "stdout",
     "output_type": "stream",
     "text": [
      "Minute data for WINS.JK has been successfully inserted into MySQL.\n"
     ]
    },
    {
     "name": "stderr",
     "output_type": "stream",
     "text": [
      "[*********************100%***********************]  1 of 1 completed\n",
      "[*********************100%***********************]  1 of 1 completed\n"
     ]
    },
    {
     "name": "stdout",
     "output_type": "stream",
     "text": [
      "Minute data for WOMF.JK has been successfully inserted into MySQL.\n",
      "Minute data for WSKT.JK has been successfully inserted into MySQL.\n"
     ]
    },
    {
     "name": "stderr",
     "output_type": "stream",
     "text": [
      "[*********************100%***********************]  1 of 1 completed\n",
      "[*********************100%***********************]  1 of 1 completed"
     ]
    },
    {
     "name": "stdout",
     "output_type": "stream",
     "text": [
      "Minute data for WTON.JK has been successfully inserted into MySQL.\n"
     ]
    },
    {
     "name": "stderr",
     "output_type": "stream",
     "text": [
      "\n"
     ]
    },
    {
     "name": "stdout",
     "output_type": "stream",
     "text": [
      "Minute data for YPAS.JK has been successfully inserted into MySQL.\n"
     ]
    },
    {
     "name": "stderr",
     "output_type": "stream",
     "text": [
      "[*********************100%***********************]  1 of 1 completed\n"
     ]
    },
    {
     "name": "stdout",
     "output_type": "stream",
     "text": [
      "Minute data for YULE.JK has been successfully inserted into MySQL.\n"
     ]
    },
    {
     "name": "stderr",
     "output_type": "stream",
     "text": [
      "[*********************100%***********************]  1 of 1 completed\n",
      "[*********************100%***********************]  1 of 1 completed\n"
     ]
    },
    {
     "name": "stdout",
     "output_type": "stream",
     "text": [
      "Minute data for ZBRA.JK has been successfully inserted into MySQL.\n",
      "Minute data for SHIP.JK has been successfully inserted into MySQL.\n"
     ]
    },
    {
     "name": "stderr",
     "output_type": "stream",
     "text": [
      "[*********************100%***********************]  1 of 1 completed\n",
      "[*********************100%***********************]  1 of 1 completed"
     ]
    },
    {
     "name": "stdout",
     "output_type": "stream",
     "text": [
      "Minute data for CASA.JK has been successfully inserted into MySQL.\n"
     ]
    },
    {
     "name": "stderr",
     "output_type": "stream",
     "text": [
      "\n",
      "[*********************100%***********************]  1 of 1 completed\n"
     ]
    },
    {
     "name": "stdout",
     "output_type": "stream",
     "text": [
      "Minute data for DAYA.JK has been successfully inserted into MySQL.\n",
      "Minute data for DPUM.JK has been successfully inserted into MySQL.\n"
     ]
    },
    {
     "name": "stderr",
     "output_type": "stream",
     "text": [
      "[*********************100%***********************]  1 of 1 completed\n",
      "[*********************100%***********************]  1 of 1 completed\n"
     ]
    },
    {
     "name": "stdout",
     "output_type": "stream",
     "text": [
      "Minute data for IDPR.JK has been successfully inserted into MySQL.\n",
      "Minute data for JGLE.JK has been successfully inserted into MySQL.\n"
     ]
    },
    {
     "name": "stderr",
     "output_type": "stream",
     "text": [
      "[*********************100%***********************]  1 of 1 completed\n",
      "[*********************100%***********************]  1 of 1 completed\n"
     ]
    },
    {
     "name": "stdout",
     "output_type": "stream",
     "text": [
      "Minute data for KINO.JK has been successfully inserted into MySQL.\n",
      "Minute data for MARI.JK has been successfully inserted into MySQL.\n"
     ]
    },
    {
     "name": "stderr",
     "output_type": "stream",
     "text": [
      "[*********************100%***********************]  1 of 1 completed\n",
      "\n",
      "1 Failed download:\n",
      "['MKNT.JK']: YFPricesMissingError('possibly delisted; no price data found  (period=5d)')\n",
      "[*********************100%***********************]  1 of 1 completed\n",
      "[*********************100%***********************]  1 of 1 completed\n"
     ]
    },
    {
     "name": "stdout",
     "output_type": "stream",
     "text": [
      "Minute data for MTRA.JK has been successfully inserted into MySQL.\n",
      "Minute data for OASA.JK has been successfully inserted into MySQL.\n"
     ]
    },
    {
     "name": "stderr",
     "output_type": "stream",
     "text": [
      "[*********************100%***********************]  1 of 1 completed\n"
     ]
    },
    {
     "name": "stdout",
     "output_type": "stream",
     "text": [
      "Minute data for POWR.JK has been successfully inserted into MySQL.\n"
     ]
    },
    {
     "name": "stderr",
     "output_type": "stream",
     "text": [
      "[*********************100%***********************]  1 of 1 completed\n"
     ]
    },
    {
     "name": "stdout",
     "output_type": "stream",
     "text": [
      "Minute data for INCF.JK has been successfully inserted into MySQL.\n"
     ]
    },
    {
     "name": "stderr",
     "output_type": "stream",
     "text": [
      "[*********************100%***********************]  1 of 1 completed\n"
     ]
    },
    {
     "name": "stdout",
     "output_type": "stream",
     "text": [
      "Minute data for WSBP.JK has been successfully inserted into MySQL.\n"
     ]
    },
    {
     "name": "stderr",
     "output_type": "stream",
     "text": [
      "[*********************100%***********************]  1 of 1 completed\n"
     ]
    },
    {
     "name": "stdout",
     "output_type": "stream",
     "text": [
      "Minute data for PBSA.JK has been successfully inserted into MySQL.\n"
     ]
    },
    {
     "name": "stderr",
     "output_type": "stream",
     "text": [
      "[*********************100%***********************]  1 of 1 completed\n"
     ]
    },
    {
     "name": "stdout",
     "output_type": "stream",
     "text": [
      "Minute data for PRDA.JK has been successfully inserted into MySQL.\n"
     ]
    },
    {
     "name": "stderr",
     "output_type": "stream",
     "text": [
      "[*********************100%***********************]  1 of 1 completed\n"
     ]
    },
    {
     "name": "stdout",
     "output_type": "stream",
     "text": [
      "Minute data for BOGA.JK has been successfully inserted into MySQL.\n"
     ]
    },
    {
     "name": "stderr",
     "output_type": "stream",
     "text": [
      "[*********************100%***********************]  1 of 1 completed\n"
     ]
    },
    {
     "name": "stdout",
     "output_type": "stream",
     "text": [
      "Minute data for BRIS.JK has been successfully inserted into MySQL.\n"
     ]
    },
    {
     "name": "stderr",
     "output_type": "stream",
     "text": [
      "[*********************100%***********************]  1 of 1 completed\n",
      "[*********************100%***********************]  1 of 1 completed\n"
     ]
    },
    {
     "name": "stdout",
     "output_type": "stream",
     "text": [
      "Minute data for PORT.JK has been successfully inserted into MySQL.\n",
      "Minute data for CARS.JK has been successfully inserted into MySQL.\n"
     ]
    },
    {
     "name": "stderr",
     "output_type": "stream",
     "text": [
      "[*********************100%***********************]  1 of 1 completed\n",
      "[*********************100%***********************]  1 of 1 completed\n"
     ]
    },
    {
     "name": "stdout",
     "output_type": "stream",
     "text": [
      "Minute data for MINA.JK has been successfully inserted into MySQL.\n",
      "Minute data for FORZ.JK has been successfully inserted into MySQL.\n"
     ]
    },
    {
     "name": "stderr",
     "output_type": "stream",
     "text": [
      "[*********************100%***********************]  1 of 1 completed\n",
      "[*********************100%***********************]  1 of 1 completed"
     ]
    },
    {
     "name": "stdout",
     "output_type": "stream",
     "text": [
      "Minute data for CLEO.JK has been successfully inserted into MySQL.\n",
      "Minute data for TAMU.JK has been successfully inserted into MySQL.\n"
     ]
    },
    {
     "name": "stderr",
     "output_type": "stream",
     "text": [
      "\n",
      "[*********************100%***********************]  1 of 1 completed\n",
      "[*********************100%***********************]  1 of 1 completed"
     ]
    },
    {
     "name": "stdout",
     "output_type": "stream",
     "text": [
      "Minute data for CSIS.JK has been successfully inserted into MySQL.\n",
      "Minute data for TGRA.JK has been successfully inserted into MySQL.\n"
     ]
    },
    {
     "name": "stderr",
     "output_type": "stream",
     "text": [
      "\n",
      "[*********************100%***********************]  1 of 1 completed\n",
      "[*********************100%***********************]  1 of 1 completed\n",
      "\n",
      "1 Failed download:\n",
      "['TOPS.JK']: YFPricesMissingError('possibly delisted; no price data found  (period=5d)')\n"
     ]
    },
    {
     "name": "stdout",
     "output_type": "stream",
     "text": [
      "Minute data for FIRE.JK has been successfully inserted into MySQL.\n"
     ]
    },
    {
     "name": "stderr",
     "output_type": "stream",
     "text": [
      "[*********************100%***********************]  1 of 1 completed\n",
      "[*********************100%***********************]  1 of 1 completed\n"
     ]
    },
    {
     "name": "stdout",
     "output_type": "stream",
     "text": [
      "Minute data for KMTR.JK has been successfully inserted into MySQL.\n",
      "Minute data for ARMY.JK has been successfully inserted into MySQL.\n"
     ]
    },
    {
     "name": "stderr",
     "output_type": "stream",
     "text": [
      "[*********************100%***********************]  1 of 1 completed\n",
      "\n",
      "1 Failed download:\n",
      "['MAPB.JK']: YFPricesMissingError('possibly delisted; no price data found  (period=5d)')\n",
      "[*********************100%***********************]  1 of 1 completed\n"
     ]
    },
    {
     "name": "stdout",
     "output_type": "stream",
     "text": [
      "Minute data for WOOD.JK has been successfully inserted into MySQL.\n"
     ]
    },
    {
     "name": "stderr",
     "output_type": "stream",
     "text": [
      "[*********************100%***********************]  1 of 1 completed\n",
      "[*********************100%***********************]  1 of 1 completed\n"
     ]
    },
    {
     "name": "stdout",
     "output_type": "stream",
     "text": [
      "Minute data for HRTA.JK has been successfully inserted into MySQL.\n",
      "Minute data for MABA.JK has been successfully inserted into MySQL.\n"
     ]
    },
    {
     "name": "stderr",
     "output_type": "stream",
     "text": [
      "[*********************100%***********************]  1 of 1 completed\n",
      "[*********************100%***********************]  1 of 1 completed"
     ]
    },
    {
     "name": "stdout",
     "output_type": "stream",
     "text": [
      "Minute data for HOKI.JK has been successfully inserted into MySQL.\n",
      "Minute data for MPOW.JK has been successfully inserted into MySQL.\n"
     ]
    },
    {
     "name": "stderr",
     "output_type": "stream",
     "text": [
      "\n",
      "[*********************100%***********************]  1 of 1 completed\n",
      "[*********************100%***********************]  1 of 1 completed\n"
     ]
    },
    {
     "name": "stdout",
     "output_type": "stream",
     "text": [
      "Minute data for MARK.JK has been successfully inserted into MySQL.\n",
      "Minute data for NASA.JK has been successfully inserted into MySQL.\n"
     ]
    },
    {
     "name": "stderr",
     "output_type": "stream",
     "text": [
      "[*********************100%***********************]  1 of 1 completed\n",
      "[*********************100%***********************]  1 of 1 completed\n"
     ]
    },
    {
     "name": "stdout",
     "output_type": "stream",
     "text": [
      "Minute data for MDKI.JK has been successfully inserted into MySQL.\n",
      "Minute data for BELL.JK has been successfully inserted into MySQL.\n"
     ]
    },
    {
     "name": "stderr",
     "output_type": "stream",
     "text": [
      "[*********************100%***********************]  1 of 1 completed\n"
     ]
    },
    {
     "name": "stdout",
     "output_type": "stream",
     "text": [
      "Minute data for KIOS.JK has been successfully inserted into MySQL.\n"
     ]
    },
    {
     "name": "stderr",
     "output_type": "stream",
     "text": [
      "[*********************100%***********************]  1 of 1 completed\n"
     ]
    },
    {
     "name": "stdout",
     "output_type": "stream",
     "text": [
      "Minute data for GMFI.JK has been successfully inserted into MySQL.\n"
     ]
    },
    {
     "name": "stderr",
     "output_type": "stream",
     "text": [
      "[*********************100%***********************]  1 of 1 completed\n",
      "[*********************100%***********************]  1 of 1 completed\n"
     ]
    },
    {
     "name": "stdout",
     "output_type": "stream",
     "text": [
      "Minute data for MTWI.JK has been successfully inserted into MySQL.\n",
      "Minute data for ZINC.JK has been successfully inserted into MySQL.\n"
     ]
    },
    {
     "name": "stderr",
     "output_type": "stream",
     "text": [
      "[*********************100%***********************]  1 of 1 completed\n",
      "[*********************100%***********************]  1 of 1 completed"
     ]
    },
    {
     "name": "stdout",
     "output_type": "stream",
     "text": [
      "Minute data for MCAS.JK has been successfully inserted into MySQL.\n"
     ]
    },
    {
     "name": "stderr",
     "output_type": "stream",
     "text": [
      "\n",
      "[*********************100%***********************]  1 of 1 completed\n"
     ]
    },
    {
     "name": "stdout",
     "output_type": "stream",
     "text": [
      "Minute data for PPRE.JK has been successfully inserted into MySQL.\n",
      "Minute data for WEGE.JK has been successfully inserted into MySQL.\n"
     ]
    },
    {
     "name": "stderr",
     "output_type": "stream",
     "text": [
      "[*********************100%***********************]  1 of 1 completed\n",
      "[*********************100%***********************]  1 of 1 completed\n"
     ]
    },
    {
     "name": "stdout",
     "output_type": "stream",
     "text": [
      "Minute data for PSSI.JK has been successfully inserted into MySQL.\n",
      "Minute data for MORA.JK has been successfully inserted into MySQL.\n"
     ]
    },
    {
     "name": "stderr",
     "output_type": "stream",
     "text": [
      "[*********************100%***********************]  1 of 1 completed\n",
      "[*********************100%***********************]  1 of 1 completed\n"
     ]
    },
    {
     "name": "stdout",
     "output_type": "stream",
     "text": [
      "Minute data for DWGL.JK has been successfully inserted into MySQL.\n",
      "Minute data for PBID.JK has been successfully inserted into MySQL.\n"
     ]
    },
    {
     "name": "stderr",
     "output_type": "stream",
     "text": [
      "[*********************100%***********************]  1 of 1 completed\n",
      "[*********************100%***********************]  1 of 1 completed"
     ]
    },
    {
     "name": "stdout",
     "output_type": "stream",
     "text": [
      "Minute data for JMAS.JK has been successfully inserted into MySQL.\n"
     ]
    },
    {
     "name": "stderr",
     "output_type": "stream",
     "text": [
      "\n",
      "[*********************100%***********************]  1 of 1 completed\n"
     ]
    },
    {
     "name": "stdout",
     "output_type": "stream",
     "text": [
      "Minute data for CAMP.JK has been successfully inserted into MySQL.\n",
      "Minute data for IPCM.JK has been successfully inserted into MySQL.\n"
     ]
    },
    {
     "name": "stderr",
     "output_type": "stream",
     "text": [
      "[*********************100%***********************]  1 of 1 completed\n",
      "[*********************100%***********************]  1 of 1 completed"
     ]
    },
    {
     "name": "stdout",
     "output_type": "stream",
     "text": [
      "Minute data for PCAR.JK has been successfully inserted into MySQL.\n"
     ]
    },
    {
     "name": "stderr",
     "output_type": "stream",
     "text": [
      "\n",
      "[*********************100%***********************]  1 of 1 completed\n"
     ]
    },
    {
     "name": "stdout",
     "output_type": "stream",
     "text": [
      "Minute data for LCKM.JK has been successfully inserted into MySQL.\n",
      "Minute data for BOSS.JK has been successfully inserted into MySQL.\n"
     ]
    },
    {
     "name": "stderr",
     "output_type": "stream",
     "text": [
      "[*********************100%***********************]  1 of 1 completed\n",
      "[*********************100%***********************]  1 of 1 completed\n"
     ]
    },
    {
     "name": "stdout",
     "output_type": "stream",
     "text": [
      "Minute data for HELI.JK has been successfully inserted into MySQL.\n",
      "Minute data for JSKY.JK has been successfully inserted into MySQL.\n"
     ]
    },
    {
     "name": "stderr",
     "output_type": "stream",
     "text": [
      "[*********************100%***********************]  1 of 1 completed\n",
      "[*********************100%***********************]  1 of 1 completed\n"
     ]
    },
    {
     "name": "stdout",
     "output_type": "stream",
     "text": [
      "Minute data for INPS.JK has been successfully inserted into MySQL.\n",
      "Minute data for GHON.JK has been successfully inserted into MySQL.\n"
     ]
    },
    {
     "name": "stderr",
     "output_type": "stream",
     "text": [
      "[*********************100%***********************]  1 of 1 completed\n",
      "[*********************100%***********************]  1 of 1 completed\n"
     ]
    },
    {
     "name": "stdout",
     "output_type": "stream",
     "text": [
      "Minute data for TDPM.JK has been successfully inserted into MySQL.\n",
      "Minute data for DFAM.JK has been successfully inserted into MySQL.\n"
     ]
    },
    {
     "name": "stderr",
     "output_type": "stream",
     "text": [
      "[*********************100%***********************]  1 of 1 completed\n",
      "[*********************100%***********************]  1 of 1 completed\n"
     ]
    },
    {
     "name": "stdout",
     "output_type": "stream",
     "text": [
      "Minute data for NICK.JK has been successfully inserted into MySQL.\n",
      "Minute data for BTPS.JK has been successfully inserted into MySQL.\n"
     ]
    },
    {
     "name": "stderr",
     "output_type": "stream",
     "text": [
      "[*********************100%***********************]  1 of 1 completed\n",
      "[*********************100%***********************]  1 of 1 completed\n"
     ]
    },
    {
     "name": "stdout",
     "output_type": "stream",
     "text": [
      "Minute data for SPTO.JK has been successfully inserted into MySQL.\n",
      "Minute data for PRIM.JK has been successfully inserted into MySQL.\n"
     ]
    },
    {
     "name": "stderr",
     "output_type": "stream",
     "text": [
      "[*********************100%***********************]  1 of 1 completed\n",
      "[*********************100%***********************]  1 of 1 completed\n"
     ]
    },
    {
     "name": "stdout",
     "output_type": "stream",
     "text": [
      "Minute data for HEAL.JK has been successfully inserted into MySQL.\n",
      "Minute data for TRUK.JK has been successfully inserted into MySQL.\n"
     ]
    },
    {
     "name": "stderr",
     "output_type": "stream",
     "text": [
      "[*********************100%***********************]  1 of 1 completed\n",
      "[*********************100%***********************]  1 of 1 completed\n"
     ]
    },
    {
     "name": "stdout",
     "output_type": "stream",
     "text": [
      "Minute data for PZZA.JK has been successfully inserted into MySQL.\n",
      "Minute data for TUGU.JK has been successfully inserted into MySQL.\n"
     ]
    },
    {
     "name": "stderr",
     "output_type": "stream",
     "text": [
      "[*********************100%***********************]  1 of 1 completed\n",
      "[*********************100%***********************]  1 of 1 completed\n"
     ]
    },
    {
     "name": "stdout",
     "output_type": "stream",
     "text": [
      "Minute data for MSIN.JK has been successfully inserted into MySQL.\n",
      "Minute data for SWAT.JK has been successfully inserted into MySQL.\n"
     ]
    },
    {
     "name": "stderr",
     "output_type": "stream",
     "text": [
      "[*********************100%***********************]  1 of 1 completed\n"
     ]
    },
    {
     "name": "stdout",
     "output_type": "stream",
     "text": [
      "Minute data for KPAL.JK has been successfully inserted into MySQL.\n"
     ]
    },
    {
     "name": "stderr",
     "output_type": "stream",
     "text": [
      "[*********************100%***********************]  1 of 1 completed\n"
     ]
    },
    {
     "name": "stdout",
     "output_type": "stream",
     "text": [
      "Minute data for TNCA.JK has been successfully inserted into MySQL.\n"
     ]
    },
    {
     "name": "stderr",
     "output_type": "stream",
     "text": [
      "[*********************100%***********************]  1 of 1 completed\n"
     ]
    },
    {
     "name": "stdout",
     "output_type": "stream",
     "text": [
      "Minute data for MAPA.JK has been successfully inserted into MySQL.\n"
     ]
    },
    {
     "name": "stderr",
     "output_type": "stream",
     "text": [
      "[*********************100%***********************]  1 of 1 completed\n",
      "[*********************100%***********************]  1 of 1 completed"
     ]
    },
    {
     "name": "stdout",
     "output_type": "stream",
     "text": [
      "Minute data for TCPI.JK has been successfully inserted into MySQL.\n"
     ]
    },
    {
     "name": "stderr",
     "output_type": "stream",
     "text": [
      "\n",
      "[*********************100%***********************]  1 of 1 completed"
     ]
    },
    {
     "name": "stdout",
     "output_type": "stream",
     "text": [
      "Minute data for IPCC.JK has been successfully inserted into MySQL.\n",
      "Minute data for RISE.JK has been successfully inserted into MySQL.\n"
     ]
    },
    {
     "name": "stderr",
     "output_type": "stream",
     "text": [
      "\n",
      "[*********************100%***********************]  1 of 1 completed\n",
      "[*********************100%***********************]  1 of 1 completed\n",
      "\n",
      "1 Failed download:\n",
      "['POLL.JK']: YFPricesMissingError('possibly delisted; no price data found  (period=5d)')\n"
     ]
    },
    {
     "name": "stdout",
     "output_type": "stream",
     "text": [
      "Minute data for BPTR.JK has been successfully inserted into MySQL.\n"
     ]
    },
    {
     "name": "stderr",
     "output_type": "stream",
     "text": [
      "[*********************100%***********************]  1 of 1 completed\n",
      "[*********************100%***********************]  1 of 1 completed\n"
     ]
    },
    {
     "name": "stdout",
     "output_type": "stream",
     "text": [
      "Minute data for NFCX.JK has been successfully inserted into MySQL.\n",
      "Minute data for MGRO.JK has been successfully inserted into MySQL.\n"
     ]
    },
    {
     "name": "stderr",
     "output_type": "stream",
     "text": [
      "[*********************100%***********************]  1 of 1 completed\n",
      "[*********************100%***********************]  1 of 1 completed\n"
     ]
    },
    {
     "name": "stdout",
     "output_type": "stream",
     "text": [
      "Minute data for NUSA.JK has been successfully inserted into MySQL.\n",
      "Minute data for FILM.JK has been successfully inserted into MySQL.\n"
     ]
    },
    {
     "name": "stderr",
     "output_type": "stream",
     "text": [
      "[*********************100%***********************]  1 of 1 completed\n",
      "[*********************100%***********************]  1 of 1 completed\n"
     ]
    },
    {
     "name": "stdout",
     "output_type": "stream",
     "text": [
      "Minute data for ANDI.JK has been successfully inserted into MySQL.\n",
      "Minute data for LAND.JK has been successfully inserted into MySQL.\n"
     ]
    },
    {
     "name": "stderr",
     "output_type": "stream",
     "text": [
      "[*********************100%***********************]  1 of 1 completed\n",
      "[*********************100%***********************]  1 of 1 completed\n"
     ]
    },
    {
     "name": "stdout",
     "output_type": "stream",
     "text": [
      "Minute data for MOLI.JK has been successfully inserted into MySQL.\n",
      "Minute data for PANI.JK has been successfully inserted into MySQL.\n"
     ]
    },
    {
     "name": "stderr",
     "output_type": "stream",
     "text": [
      "[*********************100%***********************]  1 of 1 completed\n",
      "[*********************100%***********************]  1 of 1 completed\n"
     ]
    },
    {
     "name": "stdout",
     "output_type": "stream",
     "text": [
      "Minute data for DIGI.JK has been successfully inserted into MySQL.\n",
      "Minute data for CITY.JK has been successfully inserted into MySQL.\n"
     ]
    },
    {
     "name": "stderr",
     "output_type": "stream",
     "text": [
      "[*********************100%***********************]  1 of 1 completed\n",
      "[*********************100%***********************]  1 of 1 completed\n"
     ]
    },
    {
     "name": "stdout",
     "output_type": "stream",
     "text": [
      "Minute data for SAPX.JK has been successfully inserted into MySQL.\n",
      "Minute data for KPAS.JK has been successfully inserted into MySQL.\n"
     ]
    },
    {
     "name": "stderr",
     "output_type": "stream",
     "text": [
      "[*********************100%***********************]  1 of 1 completed\n",
      "[*********************100%***********************]  1 of 1 completed\n",
      "[*********************100%***********************]  1 of 1 completed"
     ]
    },
    {
     "name": "stdout",
     "output_type": "stream",
     "text": [
      "Minute data for SURE.JK has been successfully inserted into MySQL.\n",
      "Minute data for HKMU.JK has been successfully inserted into MySQL.\n"
     ]
    },
    {
     "name": "stderr",
     "output_type": "stream",
     "text": [
      "\n",
      "[*********************100%***********************]  1 of 1 completed\n"
     ]
    },
    {
     "name": "stdout",
     "output_type": "stream",
     "text": [
      "Minute data for MPRO.JK has been successfully inserted into MySQL.\n",
      "Minute data for DUCK.JK has been successfully inserted into MySQL.\n"
     ]
    },
    {
     "name": "stderr",
     "output_type": "stream",
     "text": [
      "[*********************100%***********************]  1 of 1 completed\n",
      "[*********************100%***********************]  1 of 1 completed\n"
     ]
    },
    {
     "name": "stdout",
     "output_type": "stream",
     "text": [
      "Minute data for GOOD.JK has been successfully inserted into MySQL.\n",
      "Minute data for SKRN.JK has been successfully inserted into MySQL.\n"
     ]
    },
    {
     "name": "stderr",
     "output_type": "stream",
     "text": [
      "[*********************100%***********************]  1 of 1 completed\n",
      "[*********************100%***********************]  1 of 1 completed\n"
     ]
    },
    {
     "name": "stdout",
     "output_type": "stream",
     "text": [
      "Minute data for YELO.JK has been successfully inserted into MySQL.\n",
      "Minute data for CAKK.JK has been successfully inserted into MySQL.\n"
     ]
    },
    {
     "name": "stderr",
     "output_type": "stream",
     "text": [
      "[*********************100%***********************]  1 of 1 completed\n"
     ]
    },
    {
     "name": "stdout",
     "output_type": "stream",
     "text": [
      "Minute data for SATU.JK has been successfully inserted into MySQL.\n"
     ]
    },
    {
     "name": "stderr",
     "output_type": "stream",
     "text": [
      "[*********************100%***********************]  1 of 1 completed\n",
      "[*********************100%***********************]  1 of 1 completed\n"
     ]
    },
    {
     "name": "stdout",
     "output_type": "stream",
     "text": [
      "Minute data for SOSS.JK has been successfully inserted into MySQL.\n",
      "Minute data for DEAL.JK has been successfully inserted into MySQL.\n"
     ]
    },
    {
     "name": "stderr",
     "output_type": "stream",
     "text": [
      "[*********************100%***********************]  1 of 1 completed\n",
      "[*********************100%***********************]  1 of 1 completed"
     ]
    },
    {
     "name": "stdout",
     "output_type": "stream",
     "text": [
      "Minute data for POLA.JK has been successfully inserted into MySQL.\n",
      "Minute data for DIVA.JK has been successfully inserted into MySQL.\n"
     ]
    },
    {
     "name": "stderr",
     "output_type": "stream",
     "text": [
      "\n",
      "[*********************100%***********************]  1 of 1 completed\n",
      "[*********************100%***********************]  1 of 1 completed"
     ]
    },
    {
     "name": "stdout",
     "output_type": "stream",
     "text": [
      "Minute data for LUCK.JK has been successfully inserted into MySQL.\n"
     ]
    },
    {
     "name": "stderr",
     "output_type": "stream",
     "text": [
      "\n"
     ]
    },
    {
     "name": "stdout",
     "output_type": "stream",
     "text": [
      "Minute data for URBN.JK has been successfully inserted into MySQL.\n"
     ]
    },
    {
     "name": "stderr",
     "output_type": "stream",
     "text": [
      "[*********************100%***********************]  1 of 1 completed\n",
      "[*********************100%***********************]  1 of 1 completed\n"
     ]
    },
    {
     "name": "stdout",
     "output_type": "stream",
     "text": [
      "Minute data for SOTS.JK has been successfully inserted into MySQL.\n",
      "Minute data for ZONE.JK has been successfully inserted into MySQL.\n"
     ]
    },
    {
     "name": "stderr",
     "output_type": "stream",
     "text": [
      "[*********************100%***********************]  1 of 1 completed\n"
     ]
    },
    {
     "name": "stdout",
     "output_type": "stream",
     "text": [
      "Minute data for PEHA.JK has been successfully inserted into MySQL.\n"
     ]
    },
    {
     "name": "stderr",
     "output_type": "stream",
     "text": [
      "[*********************100%***********************]  1 of 1 completed\n"
     ]
    },
    {
     "name": "stdout",
     "output_type": "stream",
     "text": [
      "Minute data for FOOD.JK has been successfully inserted into MySQL.\n"
     ]
    },
    {
     "name": "stderr",
     "output_type": "stream",
     "text": [
      "[*********************100%***********************]  1 of 1 completed\n",
      "[*********************100%***********************]  1 of 1 completed\n",
      "\n",
      "1 Failed download:\n",
      "['POLI.JK']: YFPricesMissingError('possibly delisted; no price data found  (period=5d)')\n"
     ]
    },
    {
     "name": "stdout",
     "output_type": "stream",
     "text": [
      "Minute data for BEEF.JK has been successfully inserted into MySQL.\n"
     ]
    },
    {
     "name": "stderr",
     "output_type": "stream",
     "text": [
      "[*********************100%***********************]  1 of 1 completed\n"
     ]
    },
    {
     "name": "stdout",
     "output_type": "stream",
     "text": [
      "Minute data for CLAY.JK has been successfully inserted into MySQL.\n"
     ]
    },
    {
     "name": "stderr",
     "output_type": "stream",
     "text": [
      "[*********************100%***********************]  1 of 1 completed\n"
     ]
    },
    {
     "name": "stdout",
     "output_type": "stream",
     "text": [
      "Minute data for NATO.JK has been successfully inserted into MySQL.\n"
     ]
    },
    {
     "name": "stderr",
     "output_type": "stream",
     "text": [
      "[*********************100%***********************]  1 of 1 completed\n",
      "[*********************100%***********************]  1 of 1 completed\n"
     ]
    },
    {
     "name": "stdout",
     "output_type": "stream",
     "text": [
      "Minute data for JAYA.JK has been successfully inserted into MySQL.\n",
      "Minute data for COCO.JK has been successfully inserted into MySQL.\n"
     ]
    },
    {
     "name": "stderr",
     "output_type": "stream",
     "text": [
      "[*********************100%***********************]  1 of 1 completed\n",
      "[*********************100%***********************]  1 of 1 completed\n"
     ]
    },
    {
     "name": "stdout",
     "output_type": "stream",
     "text": [
      "Minute data for MTPS.JK has been successfully inserted into MySQL.\n",
      "Minute data for CPRI.JK has been successfully inserted into MySQL.\n"
     ]
    },
    {
     "name": "stderr",
     "output_type": "stream",
     "text": [
      "[*********************100%***********************]  1 of 1 completed\n",
      "[*********************100%***********************]  1 of 1 completed\n"
     ]
    },
    {
     "name": "stdout",
     "output_type": "stream",
     "text": [
      "Minute data for HRME.JK has been successfully inserted into MySQL.\n",
      "Minute data for POSA.JK has been successfully inserted into MySQL.\n"
     ]
    },
    {
     "name": "stderr",
     "output_type": "stream",
     "text": [
      "[*********************100%***********************]  1 of 1 completed\n",
      "[*********************100%***********************]  1 of 1 completed\n"
     ]
    },
    {
     "name": "stdout",
     "output_type": "stream",
     "text": [
      "Minute data for JAST.JK has been successfully inserted into MySQL.\n",
      "Minute data for FITT.JK has been successfully inserted into MySQL.\n"
     ]
    },
    {
     "name": "stderr",
     "output_type": "stream",
     "text": [
      "[*********************100%***********************]  1 of 1 completed\n",
      "[*********************100%***********************]  1 of 1 completed\n"
     ]
    },
    {
     "name": "stdout",
     "output_type": "stream",
     "text": [
      "Minute data for BOLA.JK has been successfully inserted into MySQL.\n",
      "Minute data for CCSI.JK has been successfully inserted into MySQL.\n"
     ]
    },
    {
     "name": "stderr",
     "output_type": "stream",
     "text": [
      "[*********************100%***********************]  1 of 1 completed\n",
      "[*********************100%***********************]  1 of 1 completed\n",
      "\n",
      "1 Failed download:\n",
      "['POLU.JK']: YFPricesMissingError('possibly delisted; no price data found  (period=5d)')\n"
     ]
    },
    {
     "name": "stdout",
     "output_type": "stream",
     "text": [
      "Minute data for SFAN.JK has been successfully inserted into MySQL.\n"
     ]
    },
    {
     "name": "stderr",
     "output_type": "stream",
     "text": [
      "[*********************100%***********************]  1 of 1 completed\n",
      "[*********************100%***********************]  1 of 1 completed\n"
     ]
    },
    {
     "name": "stdout",
     "output_type": "stream",
     "text": [
      "Minute data for KJEN.JK has been successfully inserted into MySQL.\n",
      "Minute data for KAYU.JK has been successfully inserted into MySQL.\n"
     ]
    },
    {
     "name": "stderr",
     "output_type": "stream",
     "text": [
      "[*********************100%***********************]  1 of 1 completed\n",
      "[*********************100%***********************]  1 of 1 completed\n"
     ]
    },
    {
     "name": "stdout",
     "output_type": "stream",
     "text": [
      "Minute data for ITIC.JK has been successfully inserted into MySQL.\n",
      "Minute data for PAMG.JK has been successfully inserted into MySQL.\n"
     ]
    },
    {
     "name": "stderr",
     "output_type": "stream",
     "text": [
      "[*********************100%***********************]  1 of 1 completed\n",
      "[*********************100%***********************]  1 of 1 completed"
     ]
    },
    {
     "name": "stdout",
     "output_type": "stream",
     "text": [
      "Minute data for IPTV.JK has been successfully inserted into MySQL.\n"
     ]
    },
    {
     "name": "stderr",
     "output_type": "stream",
     "text": [
      "\n",
      "[*********************100%***********************]  1 of 1 completed\n"
     ]
    },
    {
     "name": "stdout",
     "output_type": "stream",
     "text": [
      "Minute data for BLUE.JK has been successfully inserted into MySQL.\n",
      "Minute data for ENVY.JK has been successfully inserted into MySQL.\n"
     ]
    },
    {
     "name": "stderr",
     "output_type": "stream",
     "text": [
      "[*********************100%***********************]  1 of 1 completed\n",
      "[*********************100%***********************]  1 of 1 completed"
     ]
    },
    {
     "name": "stdout",
     "output_type": "stream",
     "text": [
      "Minute data for EAST.JK has been successfully inserted into MySQL.\n"
     ]
    },
    {
     "name": "stderr",
     "output_type": "stream",
     "text": [
      "\n",
      "[*********************100%***********************]  1 of 1 completed\n"
     ]
    },
    {
     "name": "stdout",
     "output_type": "stream",
     "text": [
      "Minute data for LIFE.JK has been successfully inserted into MySQL.\n"
     ]
    },
    {
     "name": "stderr",
     "output_type": "stream",
     "text": [
      "[*********************100%***********************]  1 of 1 completed\n"
     ]
    },
    {
     "name": "stdout",
     "output_type": "stream",
     "text": [
      "Minute data for FUJI.JK has been successfully inserted into MySQL.\n",
      "Minute data for KOTA.JK has been successfully inserted into MySQL.\n"
     ]
    },
    {
     "name": "stderr",
     "output_type": "stream",
     "text": [
      "[*********************100%***********************]  1 of 1 completed\n",
      "[*********************100%***********************]  1 of 1 completed\n"
     ]
    },
    {
     "name": "stdout",
     "output_type": "stream",
     "text": [
      "Minute data for INOV.JK has been successfully inserted into MySQL.\n",
      "Minute data for ARKA.JK has been successfully inserted into MySQL.\n"
     ]
    },
    {
     "name": "stderr",
     "output_type": "stream",
     "text": [
      "[*********************100%***********************]  1 of 1 completed\n",
      "[*********************100%***********************]  1 of 1 completed\n"
     ]
    },
    {
     "name": "stdout",
     "output_type": "stream",
     "text": [
      "Minute data for SMKL.JK has been successfully inserted into MySQL.\n",
      "Minute data for HDIT.JK has been successfully inserted into MySQL.\n"
     ]
    },
    {
     "name": "stderr",
     "output_type": "stream",
     "text": [
      "[*********************100%***********************]  1 of 1 completed\n",
      "[*********************100%***********************]  1 of 1 completed"
     ]
    },
    {
     "name": "stdout",
     "output_type": "stream",
     "text": [
      "Minute data for KEEN.JK has been successfully inserted into MySQL.\n"
     ]
    },
    {
     "name": "stderr",
     "output_type": "stream",
     "text": [
      "\n",
      "[*********************100%***********************]  1 of 1 completed"
     ]
    },
    {
     "name": "stdout",
     "output_type": "stream",
     "text": [
      "Minute data for BAPI.JK has been successfully inserted into MySQL.\n"
     ]
    },
    {
     "name": "stderr",
     "output_type": "stream",
     "text": [
      "\n",
      "[*********************100%***********************]  1 of 1 completed\n",
      "\n",
      "1 Failed download:\n",
      "['GGRP.JK']: YFPricesMissingError('possibly delisted; no price data found  (period=5d)')\n"
     ]
    },
    {
     "name": "stdout",
     "output_type": "stream",
     "text": [
      "Minute data for TFAS.JK has been successfully inserted into MySQL.\n"
     ]
    },
    {
     "name": "stderr",
     "output_type": "stream",
     "text": [
      "[*********************100%***********************]  1 of 1 completed\n",
      "[*********************100%***********************]  1 of 1 completed\n"
     ]
    },
    {
     "name": "stdout",
     "output_type": "stream",
     "text": [
      "Minute data for OPMS.JK has been successfully inserted into MySQL.\n",
      "Minute data for NZIA.JK has been successfully inserted into MySQL.\n"
     ]
    },
    {
     "name": "stderr",
     "output_type": "stream",
     "text": [
      "[*********************100%***********************]  1 of 1 completed\n",
      "[*********************100%***********************]  1 of 1 completed\n"
     ]
    },
    {
     "name": "stdout",
     "output_type": "stream",
     "text": [
      "Minute data for SLIS.JK has been successfully inserted into MySQL.\n",
      "Minute data for PURE.JK has been successfully inserted into MySQL.\n"
     ]
    },
    {
     "name": "stderr",
     "output_type": "stream",
     "text": [
      "[*********************100%***********************]  1 of 1 completed\n"
     ]
    },
    {
     "name": "stdout",
     "output_type": "stream",
     "text": [
      "Minute data for IRRA.JK has been successfully inserted into MySQL.\n"
     ]
    },
    {
     "name": "stderr",
     "output_type": "stream",
     "text": [
      "[*********************100%***********************]  1 of 1 completed\n",
      "[*********************100%***********************]  1 of 1 completed\n"
     ]
    },
    {
     "name": "stdout",
     "output_type": "stream",
     "text": [
      "Minute data for DMMX.JK has been successfully inserted into MySQL.\n",
      "Minute data for SINI.JK has been successfully inserted into MySQL.\n"
     ]
    },
    {
     "name": "stderr",
     "output_type": "stream",
     "text": [
      "[*********************100%***********************]  1 of 1 completed\n",
      "[*********************100%***********************]  1 of 1 completed\n"
     ]
    },
    {
     "name": "stdout",
     "output_type": "stream",
     "text": [
      "Minute data for WOWS.JK has been successfully inserted into MySQL.\n",
      "Minute data for ESIP.JK has been successfully inserted into MySQL.\n"
     ]
    },
    {
     "name": "stderr",
     "output_type": "stream",
     "text": [
      "[*********************100%***********************]  1 of 1 completed\n"
     ]
    },
    {
     "name": "stdout",
     "output_type": "stream",
     "text": [
      "Minute data for TEBE.JK has been successfully inserted into MySQL.\n"
     ]
    },
    {
     "name": "stderr",
     "output_type": "stream",
     "text": [
      "[*********************100%***********************]  1 of 1 completed\n",
      "[*********************100%***********************]  1 of 1 completed"
     ]
    },
    {
     "name": "stdout",
     "output_type": "stream",
     "text": [
      "Minute data for KEJU.JK has been successfully inserted into MySQL.\n",
      "Minute data for PSGO.JK has been successfully inserted into MySQL.\n"
     ]
    },
    {
     "name": "stderr",
     "output_type": "stream",
     "text": [
      "\n",
      "[*********************100%***********************]  1 of 1 completed\n",
      "[*********************100%***********************]  1 of 1 completed\n"
     ]
    },
    {
     "name": "stdout",
     "output_type": "stream",
     "text": [
      "Minute data for AGAR.JK has been successfully inserted into MySQL.\n",
      "Minute data for IFSH.JK has been successfully inserted into MySQL.\n"
     ]
    },
    {
     "name": "stderr",
     "output_type": "stream",
     "text": [
      "[*********************100%***********************]  1 of 1 completed\n"
     ]
    },
    {
     "name": "stdout",
     "output_type": "stream",
     "text": [
      "Minute data for REAL.JK has been successfully inserted into MySQL.\n"
     ]
    },
    {
     "name": "stderr",
     "output_type": "stream",
     "text": [
      "[*********************100%***********************]  1 of 1 completed\n",
      "[*********************100%***********************]  1 of 1 completed"
     ]
    },
    {
     "name": "stdout",
     "output_type": "stream",
     "text": [
      "Minute data for IFII.JK has been successfully inserted into MySQL.\n"
     ]
    },
    {
     "name": "stderr",
     "output_type": "stream",
     "text": [
      "\n"
     ]
    },
    {
     "name": "stdout",
     "output_type": "stream",
     "text": [
      "Minute data for PMJS.JK has been successfully inserted into MySQL.\n"
     ]
    },
    {
     "name": "stderr",
     "output_type": "stream",
     "text": [
      "[*********************100%***********************]  1 of 1 completed\n"
     ]
    },
    {
     "name": "stdout",
     "output_type": "stream",
     "text": [
      "Minute data for UCID.JK has been successfully inserted into MySQL.\n"
     ]
    },
    {
     "name": "stderr",
     "output_type": "stream",
     "text": [
      "[*********************100%***********************]  1 of 1 completed\n"
     ]
    },
    {
     "name": "stdout",
     "output_type": "stream",
     "text": [
      "Minute data for GLVA.JK has been successfully inserted into MySQL.\n"
     ]
    },
    {
     "name": "stderr",
     "output_type": "stream",
     "text": [
      "[*********************100%***********************]  1 of 1 completed\n"
     ]
    },
    {
     "name": "stdout",
     "output_type": "stream",
     "text": [
      "Minute data for PGJO.JK has been successfully inserted into MySQL.\n"
     ]
    },
    {
     "name": "stderr",
     "output_type": "stream",
     "text": [
      "[*********************100%***********************]  1 of 1 completed\n"
     ]
    },
    {
     "name": "stdout",
     "output_type": "stream",
     "text": [
      "Minute data for AMAR.JK has been successfully inserted into MySQL.\n"
     ]
    },
    {
     "name": "stderr",
     "output_type": "stream",
     "text": [
      "[*********************100%***********************]  1 of 1 completed\n",
      "[*********************100%***********************]  1 of 1 completed\n"
     ]
    },
    {
     "name": "stdout",
     "output_type": "stream",
     "text": [
      "Minute data for CSRA.JK has been successfully inserted into MySQL.\n",
      "Minute data for INDO.JK has been successfully inserted into MySQL.\n"
     ]
    },
    {
     "name": "stderr",
     "output_type": "stream",
     "text": [
      "[*********************100%***********************]  1 of 1 completed\n"
     ]
    },
    {
     "name": "stdout",
     "output_type": "stream",
     "text": [
      "Minute data for AMOR.JK has been successfully inserted into MySQL.\n"
     ]
    },
    {
     "name": "stderr",
     "output_type": "stream",
     "text": [
      "[*********************100%***********************]  1 of 1 completed\n",
      "[*********************100%***********************]  1 of 1 completed\n"
     ]
    },
    {
     "name": "stdout",
     "output_type": "stream",
     "text": [
      "Minute data for TRIN.JK has been successfully inserted into MySQL.\n",
      "Minute data for DMND.JK has been successfully inserted into MySQL.\n"
     ]
    },
    {
     "name": "stderr",
     "output_type": "stream",
     "text": [
      "[*********************100%***********************]  1 of 1 completed\n",
      "[*********************100%***********************]  1 of 1 completed"
     ]
    },
    {
     "name": "stdout",
     "output_type": "stream",
     "text": [
      "Minute data for PURA.JK has been successfully inserted into MySQL.\n"
     ]
    },
    {
     "name": "stderr",
     "output_type": "stream",
     "text": [
      "\n"
     ]
    },
    {
     "name": "stdout",
     "output_type": "stream",
     "text": [
      "Minute data for PTPW.JK has been successfully inserted into MySQL.\n"
     ]
    },
    {
     "name": "stderr",
     "output_type": "stream",
     "text": [
      "[*********************100%***********************]  1 of 1 completed\n",
      "[*********************100%***********************]  1 of 1 completed\n",
      "\n",
      "1 Failed download:\n",
      "['IKAN.JK']: YFPricesMissingError('possibly delisted; no price data found  (period=5d)')\n"
     ]
    },
    {
     "name": "stdout",
     "output_type": "stream",
     "text": [
      "Minute data for TAMA.JK has been successfully inserted into MySQL.\n"
     ]
    },
    {
     "name": "stderr",
     "output_type": "stream",
     "text": [
      "[*********************100%***********************]  1 of 1 completed\n",
      "[*********************100%***********************]  1 of 1 completed"
     ]
    },
    {
     "name": "stdout",
     "output_type": "stream",
     "text": [
      "Minute data for AYLS.JK has been successfully inserted into MySQL.\n",
      "Minute data for DADA.JK has been successfully inserted into MySQL.\n"
     ]
    },
    {
     "name": "stderr",
     "output_type": "stream",
     "text": [
      "\n",
      "[*********************100%***********************]  1 of 1 completed\n"
     ]
    },
    {
     "name": "stdout",
     "output_type": "stream",
     "text": [
      "Minute data for ASPI.JK has been successfully inserted into MySQL.\n"
     ]
    },
    {
     "name": "stderr",
     "output_type": "stream",
     "text": [
      "[*********************100%***********************]  1 of 1 completed\n",
      "[*********************100%***********************]  1 of 1 completed\n",
      "\n",
      "1 Failed download:\n",
      "['BESS.JK']: YFPricesMissingError('possibly delisted; no price data found  (period=5d)')\n"
     ]
    },
    {
     "name": "stdout",
     "output_type": "stream",
     "text": [
      "Minute data for ESTA.JK has been successfully inserted into MySQL.\n"
     ]
    },
    {
     "name": "stderr",
     "output_type": "stream",
     "text": [
      "[*********************100%***********************]  1 of 1 completed\n"
     ]
    },
    {
     "name": "stdout",
     "output_type": "stream",
     "text": [
      "Minute data for AMAN.JK has been successfully inserted into MySQL.\n"
     ]
    },
    {
     "name": "stderr",
     "output_type": "stream",
     "text": [
      "[*********************100%***********************]  1 of 1 completed\n",
      "[*********************100%***********************]  1 of 1 completed\n"
     ]
    },
    {
     "name": "stdout",
     "output_type": "stream",
     "text": [
      "Minute data for CARE.JK has been successfully inserted into MySQL.\n"
     ]
    },
    {
     "name": "stderr",
     "output_type": "stream",
     "text": [
      "[*********************100%***********************]  1 of 1 completed\n",
      "\n",
      "1 Failed download:\n",
      "['SBAT.JK']: YFPricesMissingError('possibly delisted; no price data found  (period=5d)')\n"
     ]
    },
    {
     "name": "stdout",
     "output_type": "stream",
     "text": [
      "Minute data for SAMF.JK has been successfully inserted into MySQL.\n"
     ]
    },
    {
     "name": "stderr",
     "output_type": "stream",
     "text": [
      "[*********************100%***********************]  1 of 1 completed\n",
      "[*********************100%***********************]  1 of 1 completed\n"
     ]
    },
    {
     "name": "stdout",
     "output_type": "stream",
     "text": [
      "Minute data for KBAG.JK has been successfully inserted into MySQL.\n",
      "Minute data for CBMF.JK has been successfully inserted into MySQL.\n"
     ]
    },
    {
     "name": "stderr",
     "output_type": "stream",
     "text": [
      "[*********************100%***********************]  1 of 1 completed\n",
      "[*********************100%***********************]  1 of 1 completed"
     ]
    },
    {
     "name": "stdout",
     "output_type": "stream",
     "text": [
      "Minute data for RONY.JK has been successfully inserted into MySQL.\n",
      "Minute data for CSMI.JK has been successfully inserted into MySQL.\n"
     ]
    },
    {
     "name": "stderr",
     "output_type": "stream",
     "text": [
      "\n",
      "[*********************100%***********************]  1 of 1 completed\n",
      "[*********************100%***********************]  1 of 1 completed\n"
     ]
    },
    {
     "name": "stdout",
     "output_type": "stream",
     "text": [
      "Minute data for BBSS.JK has been successfully inserted into MySQL.\n",
      "Minute data for BHAT.JK has been successfully inserted into MySQL.\n"
     ]
    },
    {
     "name": "stderr",
     "output_type": "stream",
     "text": [
      "[*********************100%***********************]  1 of 1 completed\n",
      "[*********************100%***********************]  1 of 1 completed\n"
     ]
    },
    {
     "name": "stdout",
     "output_type": "stream",
     "text": [
      "Minute data for CASH.JK has been successfully inserted into MySQL.\n",
      "Minute data for TECH.JK has been successfully inserted into MySQL.\n"
     ]
    },
    {
     "name": "stderr",
     "output_type": "stream",
     "text": [
      "[*********************100%***********************]  1 of 1 completed\n"
     ]
    },
    {
     "name": "stdout",
     "output_type": "stream",
     "text": [
      "Minute data for EPAC.JK has been successfully inserted into MySQL.\n"
     ]
    },
    {
     "name": "stderr",
     "output_type": "stream",
     "text": [
      "[*********************100%***********************]  1 of 1 completed\n",
      "[*********************100%***********************]  1 of 1 completed"
     ]
    },
    {
     "name": "stdout",
     "output_type": "stream",
     "text": [
      "Minute data for UANG.JK has been successfully inserted into MySQL.\n"
     ]
    },
    {
     "name": "stderr",
     "output_type": "stream",
     "text": [
      "\n"
     ]
    },
    {
     "name": "stdout",
     "output_type": "stream",
     "text": [
      "Minute data for PGUN.JK has been successfully inserted into MySQL.\n"
     ]
    },
    {
     "name": "stderr",
     "output_type": "stream",
     "text": [
      "[*********************100%***********************]  1 of 1 completed\n"
     ]
    },
    {
     "name": "stdout",
     "output_type": "stream",
     "text": [
      "Minute data for SOFA.JK has been successfully inserted into MySQL.\n"
     ]
    },
    {
     "name": "stderr",
     "output_type": "stream",
     "text": [
      "[*********************100%***********************]  1 of 1 completed\n",
      "[*********************100%***********************]  1 of 1 completed\n",
      "\n",
      "1 Failed download:\n",
      "['TOYS.JK']: YFPricesMissingError('possibly delisted; no price data found  (period=5d)')\n"
     ]
    },
    {
     "name": "stdout",
     "output_type": "stream",
     "text": [
      "Minute data for PPGL.JK has been successfully inserted into MySQL.\n"
     ]
    },
    {
     "name": "stderr",
     "output_type": "stream",
     "text": [
      "[*********************100%***********************]  1 of 1 completed\n",
      "[*********************100%***********************]  1 of 1 completed\n"
     ]
    },
    {
     "name": "stdout",
     "output_type": "stream",
     "text": [
      "Minute data for SGER.JK has been successfully inserted into MySQL.\n",
      "Minute data for TRJA.JK has been successfully inserted into MySQL.\n"
     ]
    },
    {
     "name": "stderr",
     "output_type": "stream",
     "text": [
      "[*********************100%***********************]  1 of 1 completed\n",
      "[*********************100%***********************]  1 of 1 completed\n"
     ]
    },
    {
     "name": "stdout",
     "output_type": "stream",
     "text": [
      "Minute data for PNGO.JK has been successfully inserted into MySQL.\n",
      "Minute data for SCNP.JK has been successfully inserted into MySQL.\n"
     ]
    },
    {
     "name": "stderr",
     "output_type": "stream",
     "text": [
      "[*********************100%***********************]  1 of 1 completed\n",
      "[*********************100%***********************]  1 of 1 completed"
     ]
    },
    {
     "name": "stdout",
     "output_type": "stream",
     "text": [
      "Minute data for BBSI.JK has been successfully inserted into MySQL.\n"
     ]
    },
    {
     "name": "stderr",
     "output_type": "stream",
     "text": [
      "\n"
     ]
    },
    {
     "name": "stdout",
     "output_type": "stream",
     "text": [
      "Minute data for KMDS.JK has been successfully inserted into MySQL.\n"
     ]
    },
    {
     "name": "stderr",
     "output_type": "stream",
     "text": [
      "[*********************100%***********************]  1 of 1 completed\n"
     ]
    },
    {
     "name": "stdout",
     "output_type": "stream",
     "text": [
      "Minute data for PURI.JK has been successfully inserted into MySQL.\n"
     ]
    },
    {
     "name": "stderr",
     "output_type": "stream",
     "text": [
      "[*********************100%***********************]  1 of 1 completed\n"
     ]
    },
    {
     "name": "stdout",
     "output_type": "stream",
     "text": [
      "Minute data for SOHO.JK has been successfully inserted into MySQL.\n"
     ]
    },
    {
     "name": "stderr",
     "output_type": "stream",
     "text": [
      "[*********************100%***********************]  1 of 1 completed\n"
     ]
    },
    {
     "name": "stdout",
     "output_type": "stream",
     "text": [
      "Minute data for HOMI.JK has been successfully inserted into MySQL.\n"
     ]
    },
    {
     "name": "stderr",
     "output_type": "stream",
     "text": [
      "[*********************100%***********************]  1 of 1 completed\n"
     ]
    },
    {
     "name": "stdout",
     "output_type": "stream",
     "text": [
      "Minute data for ROCK.JK has been successfully inserted into MySQL.\n"
     ]
    },
    {
     "name": "stderr",
     "output_type": "stream",
     "text": [
      "[*********************100%***********************]  1 of 1 completed\n",
      "[*********************100%***********************]  1 of 1 completed\n"
     ]
    },
    {
     "name": "stdout",
     "output_type": "stream",
     "text": [
      "Minute data for ENZO.JK has been successfully inserted into MySQL.\n",
      "Minute data for PLAN.JK has been successfully inserted into MySQL.\n"
     ]
    },
    {
     "name": "stderr",
     "output_type": "stream",
     "text": [
      "[*********************100%***********************]  1 of 1 completed\n",
      "[*********************100%***********************]  1 of 1 completed\n"
     ]
    },
    {
     "name": "stdout",
     "output_type": "stream",
     "text": [
      "Minute data for PTDU.JK has been successfully inserted into MySQL.\n",
      "Minute data for ATAP.JK has been successfully inserted into MySQL.\n"
     ]
    },
    {
     "name": "stderr",
     "output_type": "stream",
     "text": [
      "[*********************100%***********************]  1 of 1 completed\n",
      "[*********************100%***********************]  1 of 1 completed"
     ]
    },
    {
     "name": "stdout",
     "output_type": "stream",
     "text": [
      "Minute data for VICI.JK has been successfully inserted into MySQL.\n"
     ]
    },
    {
     "name": "stderr",
     "output_type": "stream",
     "text": [
      "\n"
     ]
    },
    {
     "name": "stdout",
     "output_type": "stream",
     "text": [
      "Minute data for PMMP.JK has been successfully inserted into MySQL.\n"
     ]
    },
    {
     "name": "stderr",
     "output_type": "stream",
     "text": [
      "[*********************100%***********************]  1 of 1 completed\n",
      "[*********************100%***********************]  1 of 1 completed"
     ]
    },
    {
     "name": "stdout",
     "output_type": "stream",
     "text": [
      "Minute data for WIFI.JK has been successfully inserted into MySQL.\n",
      "Minute data for FAPA.JK has been successfully inserted into MySQL.\n"
     ]
    },
    {
     "name": "stderr",
     "output_type": "stream",
     "text": [
      "\n",
      "[*********************100%***********************]  1 of 1 completed\n",
      "[*********************100%***********************]  1 of 1 completed"
     ]
    },
    {
     "name": "stdout",
     "output_type": "stream",
     "text": [
      "Minute data for DCII.JK has been successfully inserted into MySQL.\n",
      "Minute data for KETR.JK has been successfully inserted into MySQL.\n"
     ]
    },
    {
     "name": "stderr",
     "output_type": "stream",
     "text": [
      "\n",
      "[*********************100%***********************]  1 of 1 completed\n"
     ]
    },
    {
     "name": "stdout",
     "output_type": "stream",
     "text": [
      "Minute data for DGNS.JK has been successfully inserted into MySQL.\n"
     ]
    },
    {
     "name": "stderr",
     "output_type": "stream",
     "text": [
      "[*********************100%***********************]  1 of 1 completed\n",
      "[*********************100%***********************]  1 of 1 completed"
     ]
    },
    {
     "name": "stdout",
     "output_type": "stream",
     "text": [
      "Minute data for UFOE.JK has been successfully inserted into MySQL.\n",
      "Minute data for BANK.JK has been successfully inserted into MySQL.\n"
     ]
    },
    {
     "name": "stderr",
     "output_type": "stream",
     "text": [
      "\n",
      "[*********************100%***********************]  1 of 1 completed\n",
      "\n",
      "1 Failed download:\n",
      "['WMUU.JK']: YFPricesMissingError('possibly delisted; no price data found  (period=5d)')\n",
      "[*********************100%***********************]  1 of 1 completed\n",
      "[*********************100%***********************]  1 of 1 completed"
     ]
    },
    {
     "name": "stdout",
     "output_type": "stream",
     "text": [
      "Minute data for EDGE.JK has been successfully inserted into MySQL.\n",
      "Minute data for UNIQ.JK has been successfully inserted into MySQL.\n"
     ]
    },
    {
     "name": "stderr",
     "output_type": "stream",
     "text": [
      "\n",
      "[*********************100%***********************]  1 of 1 completed\n",
      "\n",
      "1 Failed download:\n",
      "['BEBS.JK']: YFPricesMissingError('possibly delisted; no price data found  (period=5d)')\n",
      "[*********************100%***********************]  1 of 1 completed\n",
      "[*********************100%***********************]  1 of 1 completed\n"
     ]
    },
    {
     "name": "stdout",
     "output_type": "stream",
     "text": [
      "Minute data for SNLK.JK has been successfully inserted into MySQL.\n",
      "Minute data for ZYRX.JK has been successfully inserted into MySQL.\n"
     ]
    },
    {
     "name": "stderr",
     "output_type": "stream",
     "text": [
      "[*********************100%***********************]  1 of 1 completed\n",
      "[*********************100%***********************]  1 of 1 completed\n"
     ]
    },
    {
     "name": "stdout",
     "output_type": "stream",
     "text": [
      "Minute data for LFLO.JK has been successfully inserted into MySQL.\n",
      "Minute data for FIMP.JK has been successfully inserted into MySQL.\n"
     ]
    },
    {
     "name": "stderr",
     "output_type": "stream",
     "text": [
      "[*********************100%***********************]  1 of 1 completed\n",
      "[*********************100%***********************]  1 of 1 completed\n"
     ]
    },
    {
     "name": "stdout",
     "output_type": "stream",
     "text": [
      "Minute data for TAPG.JK has been successfully inserted into MySQL.\n",
      "Minute data for NPGF.JK has been successfully inserted into MySQL.\n"
     ]
    },
    {
     "name": "stderr",
     "output_type": "stream",
     "text": [
      "[*********************100%***********************]  1 of 1 completed\n",
      "[*********************100%***********************]  1 of 1 completed\n"
     ]
    },
    {
     "name": "stdout",
     "output_type": "stream",
     "text": [
      "Minute data for LUCY.JK has been successfully inserted into MySQL.\n",
      "Minute data for ADCP.JK has been successfully inserted into MySQL.\n"
     ]
    },
    {
     "name": "stderr",
     "output_type": "stream",
     "text": [
      "[*********************100%***********************]  1 of 1 completed\n"
     ]
    },
    {
     "name": "stdout",
     "output_type": "stream",
     "text": [
      "Minute data for HOPE.JK has been successfully inserted into MySQL.\n"
     ]
    },
    {
     "name": "stderr",
     "output_type": "stream",
     "text": [
      "[*********************100%***********************]  1 of 1 completed\n",
      "[*********************100%***********************]  1 of 1 completed\n"
     ]
    },
    {
     "name": "stdout",
     "output_type": "stream",
     "text": [
      "Minute data for MGLV.JK has been successfully inserted into MySQL.\n",
      "Minute data for TRUE.JK has been successfully inserted into MySQL.\n"
     ]
    },
    {
     "name": "stderr",
     "output_type": "stream",
     "text": [
      "[*********************100%***********************]  1 of 1 completed\n",
      "[*********************100%***********************]  1 of 1 completed\n"
     ]
    },
    {
     "name": "stdout",
     "output_type": "stream",
     "text": [
      "Minute data for LABA.JK has been successfully inserted into MySQL.\n",
      "Minute data for ARCI.JK has been successfully inserted into MySQL.\n"
     ]
    },
    {
     "name": "stderr",
     "output_type": "stream",
     "text": [
      "[*********************100%***********************]  1 of 1 completed\n",
      "[*********************100%***********************]  1 of 1 completed"
     ]
    },
    {
     "name": "stdout",
     "output_type": "stream",
     "text": [
      "Minute data for IPAC.JK has been successfully inserted into MySQL.\n"
     ]
    },
    {
     "name": "stderr",
     "output_type": "stream",
     "text": [
      "\n",
      "[*********************100%***********************]  1 of 1 completed\n"
     ]
    },
    {
     "name": "stdout",
     "output_type": "stream",
     "text": [
      "Minute data for MASB.JK has been successfully inserted into MySQL.\n",
      "Minute data for BMHS.JK has been successfully inserted into MySQL.\n"
     ]
    },
    {
     "name": "stderr",
     "output_type": "stream",
     "text": [
      "[*********************100%***********************]  1 of 1 completed\n",
      "[*********************100%***********************]  1 of 1 completed\n"
     ]
    },
    {
     "name": "stdout",
     "output_type": "stream",
     "text": [
      "Minute data for FLMC.JK has been successfully inserted into MySQL.\n",
      "Minute data for NICL.JK has been successfully inserted into MySQL.\n"
     ]
    },
    {
     "name": "stderr",
     "output_type": "stream",
     "text": [
      "[*********************100%***********************]  1 of 1 completed\n",
      "[*********************100%***********************]  1 of 1 completed"
     ]
    },
    {
     "name": "stdout",
     "output_type": "stream",
     "text": [
      "Minute data for UVCR.JK has been successfully inserted into MySQL.\n"
     ]
    },
    {
     "name": "stderr",
     "output_type": "stream",
     "text": [
      "\n",
      "[*********************100%***********************]  1 of 1 completed\n"
     ]
    },
    {
     "name": "stdout",
     "output_type": "stream",
     "text": [
      "Minute data for BUKA.JK has been successfully inserted into MySQL.\n",
      "Minute data for HAIS.JK has been successfully inserted into MySQL.\n"
     ]
    },
    {
     "name": "stderr",
     "output_type": "stream",
     "text": [
      "[*********************100%***********************]  1 of 1 completed\n",
      "[*********************100%***********************]  1 of 1 completed"
     ]
    },
    {
     "name": "stdout",
     "output_type": "stream",
     "text": [
      "Minute data for OILS.JK has been successfully inserted into MySQL.\n"
     ]
    },
    {
     "name": "stderr",
     "output_type": "stream",
     "text": [
      "\n"
     ]
    },
    {
     "name": "stdout",
     "output_type": "stream",
     "text": [
      "Minute data for GPSO.JK has been successfully inserted into MySQL.\n"
     ]
    },
    {
     "name": "stderr",
     "output_type": "stream",
     "text": [
      "[*********************100%***********************]  1 of 1 completed\n",
      "[*********************100%***********************]  1 of 1 completed\n",
      "\n",
      "1 Failed download:\n",
      "['RSGK.JK']: YFPricesMissingError('possibly delisted; no price data found  (period=5d)')\n"
     ]
    },
    {
     "name": "stdout",
     "output_type": "stream",
     "text": [
      "Minute data for MCOL.JK has been successfully inserted into MySQL.\n"
     ]
    },
    {
     "name": "stderr",
     "output_type": "stream",
     "text": [
      "[*********************100%***********************]  1 of 1 completed\n",
      "[*********************100%***********************]  1 of 1 completed\n"
     ]
    },
    {
     "name": "stdout",
     "output_type": "stream",
     "text": [
      "Minute data for RUNS.JK has been successfully inserted into MySQL.\n",
      "Minute data for SBMA.JK has been successfully inserted into MySQL.\n"
     ]
    },
    {
     "name": "stderr",
     "output_type": "stream",
     "text": [
      "[*********************100%***********************]  1 of 1 completed\n"
     ]
    },
    {
     "name": "stdout",
     "output_type": "stream",
     "text": [
      "Minute data for CMNT.JK has been successfully inserted into MySQL.\n"
     ]
    },
    {
     "name": "stderr",
     "output_type": "stream",
     "text": [
      "[*********************100%***********************]  1 of 1 completed\n",
      "[*********************100%***********************]  1 of 1 completed"
     ]
    },
    {
     "name": "stdout",
     "output_type": "stream",
     "text": [
      "Minute data for GTSI.JK has been successfully inserted into MySQL.\n"
     ]
    },
    {
     "name": "stderr",
     "output_type": "stream",
     "text": [
      "\n",
      "[*********************100%***********************]  1 of 1 completed"
     ]
    },
    {
     "name": "stdout",
     "output_type": "stream",
     "text": [
      "Minute data for IDEA.JK has been successfully inserted into MySQL.\n"
     ]
    },
    {
     "name": "stderr",
     "output_type": "stream",
     "text": [
      "\n",
      "[*********************100%***********************]  1 of 1 completed\n"
     ]
    },
    {
     "name": "stdout",
     "output_type": "stream",
     "text": [
      "Minute data for KUAS.JK has been successfully inserted into MySQL.\n",
      "Minute data for BOBA.JK has been successfully inserted into MySQL.\n"
     ]
    },
    {
     "name": "stderr",
     "output_type": "stream",
     "text": [
      "[*********************100%***********************]  1 of 1 completed\n"
     ]
    },
    {
     "name": "stdout",
     "output_type": "stream",
     "text": [
      "Minute data for MTEL.JK has been successfully inserted into MySQL.\n"
     ]
    },
    {
     "name": "stderr",
     "output_type": "stream",
     "text": [
      "[*********************100%***********************]  1 of 1 completed\n",
      "[*********************100%***********************]  1 of 1 completed\n"
     ]
    },
    {
     "name": "stdout",
     "output_type": "stream",
     "text": [
      "Minute data for DEPO.JK has been successfully inserted into MySQL.\n",
      "Minute data for BINO.JK has been successfully inserted into MySQL.\n"
     ]
    },
    {
     "name": "stderr",
     "output_type": "stream",
     "text": [
      "[*********************100%***********************]  1 of 1 completed\n",
      "[*********************100%***********************]  1 of 1 completed\n"
     ]
    },
    {
     "name": "stdout",
     "output_type": "stream",
     "text": [
      "Minute data for CMRY.JK has been successfully inserted into MySQL.\n",
      "Minute data for WGSH.JK has been successfully inserted into MySQL.\n"
     ]
    },
    {
     "name": "stderr",
     "output_type": "stream",
     "text": [
      "[*********************100%***********************]  1 of 1 completed\n",
      "[*********************100%***********************]  1 of 1 completed\n"
     ]
    },
    {
     "name": "stdout",
     "output_type": "stream",
     "text": [
      "Minute data for TAYS.JK has been successfully inserted into MySQL.\n",
      "Minute data for WMPP.JK has been successfully inserted into MySQL.\n"
     ]
    },
    {
     "name": "stderr",
     "output_type": "stream",
     "text": [
      "[*********************100%***********************]  1 of 1 completed\n",
      "[*********************100%***********************]  1 of 1 completed\n"
     ]
    },
    {
     "name": "stdout",
     "output_type": "stream",
     "text": [
      "Minute data for RMKE.JK has been successfully inserted into MySQL.\n",
      "Minute data for OBMD.JK has been successfully inserted into MySQL.\n"
     ]
    },
    {
     "name": "stderr",
     "output_type": "stream",
     "text": [
      "[*********************100%***********************]  1 of 1 completed\n"
     ]
    },
    {
     "name": "stdout",
     "output_type": "stream",
     "text": [
      "Minute data for AVIA.JK has been successfully inserted into MySQL.\n"
     ]
    },
    {
     "name": "stderr",
     "output_type": "stream",
     "text": [
      "[*********************100%***********************]  1 of 1 completed\n",
      "\n",
      "1 Failed download:\n",
      "['IPPE.JK']: YFPricesMissingError('possibly delisted; no price data found  (period=5d)')\n",
      "[*********************100%***********************]  1 of 1 completed\n"
     ]
    },
    {
     "name": "stdout",
     "output_type": "stream",
     "text": [
      "Minute data for NASI.JK has been successfully inserted into MySQL.\n"
     ]
    },
    {
     "name": "stderr",
     "output_type": "stream",
     "text": [
      "[*********************100%***********************]  1 of 1 completed\n"
     ]
    },
    {
     "name": "stdout",
     "output_type": "stream",
     "text": [
      "Minute data for BSML.JK has been successfully inserted into MySQL.\n"
     ]
    },
    {
     "name": "stderr",
     "output_type": "stream",
     "text": [
      "[*********************100%***********************]  1 of 1 completed\n"
     ]
    },
    {
     "name": "stdout",
     "output_type": "stream",
     "text": [
      "Minute data for DRMA.JK has been successfully inserted into MySQL.\n"
     ]
    },
    {
     "name": "stderr",
     "output_type": "stream",
     "text": [
      "[*********************100%***********************]  1 of 1 completed\n",
      "[*********************100%***********************]  1 of 1 completed"
     ]
    },
    {
     "name": "stdout",
     "output_type": "stream",
     "text": [
      "Minute data for ADMR.JK has been successfully inserted into MySQL.\n"
     ]
    },
    {
     "name": "stderr",
     "output_type": "stream",
     "text": [
      "\n"
     ]
    },
    {
     "name": "stdout",
     "output_type": "stream",
     "text": [
      "Minute data for SEMA.JK has been successfully inserted into MySQL.\n"
     ]
    },
    {
     "name": "stderr",
     "output_type": "stream",
     "text": [
      "[*********************100%***********************]  1 of 1 completed\n",
      "[*********************100%***********************]  1 of 1 completed"
     ]
    },
    {
     "name": "stdout",
     "output_type": "stream",
     "text": [
      "Minute data for ASLC.JK has been successfully inserted into MySQL.\n"
     ]
    },
    {
     "name": "stderr",
     "output_type": "stream",
     "text": [
      "\n"
     ]
    },
    {
     "name": "stdout",
     "output_type": "stream",
     "text": [
      "Minute data for NETV.JK has been successfully inserted into MySQL.\n"
     ]
    },
    {
     "name": "stderr",
     "output_type": "stream",
     "text": [
      "[*********************100%***********************]  1 of 1 completed\n",
      "[*********************100%***********************]  1 of 1 completed"
     ]
    },
    {
     "name": "stdout",
     "output_type": "stream",
     "text": [
      "Minute data for BAUT.JK has been successfully inserted into MySQL.\n",
      "Minute data for ENAK.JK has been successfully inserted into MySQL.\n"
     ]
    },
    {
     "name": "stderr",
     "output_type": "stream",
     "text": [
      "\n",
      "[*********************100%***********************]  1 of 1 completed\n"
     ]
    },
    {
     "name": "stdout",
     "output_type": "stream",
     "text": [
      "Minute data for NTBK.JK has been successfully inserted into MySQL.\n"
     ]
    },
    {
     "name": "stderr",
     "output_type": "stream",
     "text": [
      "[*********************100%***********************]  1 of 1 completed\n",
      "[*********************100%***********************]  1 of 1 completed"
     ]
    },
    {
     "name": "stdout",
     "output_type": "stream",
     "text": [
      "Minute data for SMKM.JK has been successfully inserted into MySQL.\n"
     ]
    },
    {
     "name": "stderr",
     "output_type": "stream",
     "text": [
      "\n"
     ]
    },
    {
     "name": "stdout",
     "output_type": "stream",
     "text": [
      "Minute data for STAA.JK has been successfully inserted into MySQL.\n"
     ]
    },
    {
     "name": "stderr",
     "output_type": "stream",
     "text": [
      "[*********************100%***********************]  1 of 1 completed\n",
      "[*********************100%***********************]  1 of 1 completed\n"
     ]
    },
    {
     "name": "stdout",
     "output_type": "stream",
     "text": [
      "Minute data for NANO.JK has been successfully inserted into MySQL.\n",
      "Minute data for BIKE.JK has been successfully inserted into MySQL.\n"
     ]
    },
    {
     "name": "stderr",
     "output_type": "stream",
     "text": [
      "[*********************100%***********************]  1 of 1 completed\n"
     ]
    },
    {
     "name": "stdout",
     "output_type": "stream",
     "text": [
      "Minute data for WIRG.JK has been successfully inserted into MySQL.\n"
     ]
    },
    {
     "name": "stderr",
     "output_type": "stream",
     "text": [
      "[*********************100%***********************]  1 of 1 completed\n"
     ]
    },
    {
     "name": "stdout",
     "output_type": "stream",
     "text": [
      "Minute data for SICO.JK has been successfully inserted into MySQL.\n"
     ]
    },
    {
     "name": "stderr",
     "output_type": "stream",
     "text": [
      "[*********************100%***********************]  1 of 1 completed\n",
      "[*********************100%***********************]  1 of 1 completed"
     ]
    },
    {
     "name": "stdout",
     "output_type": "stream",
     "text": [
      "Minute data for GOTO.JK has been successfully inserted into MySQL.\n",
      "Minute data for TLDN.JK has been successfully inserted into MySQL.\n"
     ]
    },
    {
     "name": "stderr",
     "output_type": "stream",
     "text": [
      "\n",
      "[*********************100%***********************]  1 of 1 completed\n",
      "[*********************100%***********************]  1 of 1 completed\n"
     ]
    },
    {
     "name": "stdout",
     "output_type": "stream",
     "text": [
      "Minute data for MTMH.JK has been successfully inserted into MySQL.\n",
      "Minute data for WINR.JK has been successfully inserted into MySQL.\n"
     ]
    },
    {
     "name": "stderr",
     "output_type": "stream",
     "text": [
      "[*********************100%***********************]  1 of 1 completed\n",
      "[*********************100%***********************]  1 of 1 completed\n"
     ]
    },
    {
     "name": "stdout",
     "output_type": "stream",
     "text": [
      "Minute data for IBOS.JK has been successfully inserted into MySQL.\n",
      "Minute data for OLIV.JK has been successfully inserted into MySQL.\n"
     ]
    },
    {
     "name": "stderr",
     "output_type": "stream",
     "text": [
      "[*********************100%***********************]  1 of 1 completed\n",
      "[*********************100%***********************]  1 of 1 completed\n"
     ]
    },
    {
     "name": "stdout",
     "output_type": "stream",
     "text": [
      "Minute data for ASHA.JK has been successfully inserted into MySQL.\n",
      "Minute data for SWID.JK has been successfully inserted into MySQL.\n"
     ]
    },
    {
     "name": "stderr",
     "output_type": "stream",
     "text": [
      "[*********************100%***********************]  1 of 1 completed\n",
      "[*********************100%***********************]  1 of 1 completed\n"
     ]
    },
    {
     "name": "stdout",
     "output_type": "stream",
     "text": [
      "Minute data for TRGU.JK has been successfully inserted into MySQL.\n",
      "Minute data for ARKO.JK has been successfully inserted into MySQL.\n"
     ]
    },
    {
     "name": "stderr",
     "output_type": "stream",
     "text": [
      "[*********************100%***********************]  1 of 1 completed\n",
      "[*********************100%***********************]  1 of 1 completed\n"
     ]
    },
    {
     "name": "stdout",
     "output_type": "stream",
     "text": [
      "Minute data for CHEM.JK has been successfully inserted into MySQL.\n"
     ]
    },
    {
     "name": "stderr",
     "output_type": "stream",
     "text": [
      "[*********************100%***********************]  1 of 1 completed"
     ]
    },
    {
     "name": "stdout",
     "output_type": "stream",
     "text": [
      "Minute data for DEWI.JK has been successfully inserted into MySQL.\n",
      "Minute data for AXIO.JK has been successfully inserted into MySQL.\n"
     ]
    },
    {
     "name": "stderr",
     "output_type": "stream",
     "text": [
      "\n",
      "[*********************100%***********************]  1 of 1 completed\n"
     ]
    },
    {
     "name": "stdout",
     "output_type": "stream",
     "text": [
      "Minute data for KRYA.JK has been successfully inserted into MySQL.\n"
     ]
    },
    {
     "name": "stderr",
     "output_type": "stream",
     "text": [
      "[*********************100%***********************]  1 of 1 completed\n"
     ]
    },
    {
     "name": "stdout",
     "output_type": "stream",
     "text": [
      "Minute data for HATM.JK has been successfully inserted into MySQL.\n"
     ]
    },
    {
     "name": "stderr",
     "output_type": "stream",
     "text": [
      "[*********************100%***********************]  1 of 1 completed\n",
      "[*********************100%***********************]  1 of 1 completed\n"
     ]
    },
    {
     "name": "stdout",
     "output_type": "stream",
     "text": [
      "Minute data for RCCC.JK has been successfully inserted into MySQL.\n",
      "Minute data for GULA.JK has been successfully inserted into MySQL.\n"
     ]
    },
    {
     "name": "stderr",
     "output_type": "stream",
     "text": [
      "[*********************100%***********************]  1 of 1 completed\n",
      "[*********************100%***********************]  1 of 1 completed"
     ]
    },
    {
     "name": "stdout",
     "output_type": "stream",
     "text": [
      "Minute data for JARR.JK has been successfully inserted into MySQL.\n",
      "Minute data for AMMS.JK has been successfully inserted into MySQL.\n"
     ]
    },
    {
     "name": "stderr",
     "output_type": "stream",
     "text": [
      "\n",
      "[*********************100%***********************]  1 of 1 completed\n",
      "[*********************100%***********************]  1 of 1 completed\n"
     ]
    },
    {
     "name": "stdout",
     "output_type": "stream",
     "text": [
      "Minute data for RAFI.JK has been successfully inserted into MySQL.\n",
      "Minute data for KKES.JK has been successfully inserted into MySQL.\n"
     ]
    },
    {
     "name": "stderr",
     "output_type": "stream",
     "text": [
      "[*********************100%***********************]  1 of 1 completed\n",
      "[*********************100%***********************]  1 of 1 completed\n"
     ]
    },
    {
     "name": "stdout",
     "output_type": "stream",
     "text": [
      "Minute data for ELPI.JK has been successfully inserted into MySQL.\n",
      "Minute data for EURO.JK has been successfully inserted into MySQL.\n"
     ]
    },
    {
     "name": "stderr",
     "output_type": "stream",
     "text": [
      "[*********************100%***********************]  1 of 1 completed\n",
      "[*********************100%***********************]  1 of 1 completed\n"
     ]
    },
    {
     "name": "stdout",
     "output_type": "stream",
     "text": [
      "Minute data for KLIN.JK has been successfully inserted into MySQL.\n",
      "Minute data for TOOL.JK has been successfully inserted into MySQL.\n"
     ]
    },
    {
     "name": "stderr",
     "output_type": "stream",
     "text": [
      "[*********************100%***********************]  1 of 1 completed\n",
      "[*********************100%***********************]  1 of 1 completed\n"
     ]
    },
    {
     "name": "stdout",
     "output_type": "stream",
     "text": [
      "Minute data for BUAH.JK has been successfully inserted into MySQL.\n",
      "Minute data for CRAB.JK has been successfully inserted into MySQL.\n"
     ]
    },
    {
     "name": "stderr",
     "output_type": "stream",
     "text": [
      "[*********************100%***********************]  1 of 1 completed\n",
      "[*********************100%***********************]  1 of 1 completed\n"
     ]
    },
    {
     "name": "stdout",
     "output_type": "stream",
     "text": [
      "Minute data for MEDS.JK has been successfully inserted into MySQL.\n",
      "Minute data for COAL.JK has been successfully inserted into MySQL.\n"
     ]
    },
    {
     "name": "stderr",
     "output_type": "stream",
     "text": [
      "[*********************100%***********************]  1 of 1 completed\n",
      "[*********************100%***********************]  1 of 1 completed\n"
     ]
    },
    {
     "name": "stdout",
     "output_type": "stream",
     "text": [
      "Minute data for PRAY.JK has been successfully inserted into MySQL.\n",
      "Minute data for CBUT.JK has been successfully inserted into MySQL.\n"
     ]
    },
    {
     "name": "stderr",
     "output_type": "stream",
     "text": [
      "[*********************100%***********************]  1 of 1 completed\n",
      "[*********************100%***********************]  1 of 1 completed"
     ]
    },
    {
     "name": "stdout",
     "output_type": "stream",
     "text": [
      "Minute data for BELI.JK has been successfully inserted into MySQL.\n"
     ]
    },
    {
     "name": "stderr",
     "output_type": "stream",
     "text": [
      "\n",
      "[*********************100%***********************]  1 of 1 completed\n"
     ]
    },
    {
     "name": "stdout",
     "output_type": "stream",
     "text": [
      "Minute data for MKTR.JK has been successfully inserted into MySQL.\n",
      "Minute data for OMED.JK has been successfully inserted into MySQL.\n"
     ]
    },
    {
     "name": "stderr",
     "output_type": "stream",
     "text": [
      "[*********************100%***********************]  1 of 1 completed\n",
      "[*********************100%***********************]  1 of 1 completed"
     ]
    },
    {
     "name": "stdout",
     "output_type": "stream",
     "text": [
      "Minute data for BSBK.JK has been successfully inserted into MySQL.\n",
      "Minute data for PDPP.JK has been successfully inserted into MySQL.\n"
     ]
    },
    {
     "name": "stderr",
     "output_type": "stream",
     "text": [
      "\n",
      "[*********************100%***********************]  1 of 1 completed\n",
      "[*********************100%***********************]  1 of 1 completed\n"
     ]
    },
    {
     "name": "stdout",
     "output_type": "stream",
     "text": [
      "Minute data for KDTN.JK has been successfully inserted into MySQL.\n",
      "Minute data for ZATA.JK has been successfully inserted into MySQL.\n"
     ]
    },
    {
     "name": "stderr",
     "output_type": "stream",
     "text": [
      "[*********************100%***********************]  1 of 1 completed\n"
     ]
    },
    {
     "name": "stdout",
     "output_type": "stream",
     "text": [
      "Minute data for NINE.JK has been successfully inserted into MySQL.\n"
     ]
    },
    {
     "name": "stderr",
     "output_type": "stream",
     "text": [
      "[*********************100%***********************]  1 of 1 completed\n"
     ]
    },
    {
     "name": "stdout",
     "output_type": "stream",
     "text": [
      "Minute data for MMIX.JK has been successfully inserted into MySQL.\n"
     ]
    },
    {
     "name": "stderr",
     "output_type": "stream",
     "text": [
      "[*********************100%***********************]  1 of 1 completed\n",
      "[*********************100%***********************]  1 of 1 completed"
     ]
    },
    {
     "name": "stdout",
     "output_type": "stream",
     "text": [
      "Minute data for PADA.JK has been successfully inserted into MySQL.\n"
     ]
    },
    {
     "name": "stderr",
     "output_type": "stream",
     "text": [
      "\n"
     ]
    },
    {
     "name": "stdout",
     "output_type": "stream",
     "text": [
      "Minute data for ISAP.JK has been successfully inserted into MySQL.\n"
     ]
    },
    {
     "name": "stderr",
     "output_type": "stream",
     "text": [
      "[*********************100%***********************]  1 of 1 completed\n",
      "[*********************100%***********************]  1 of 1 completed"
     ]
    },
    {
     "name": "stdout",
     "output_type": "stream",
     "text": [
      "Minute data for VTNY.JK has been successfully inserted into MySQL.\n",
      "Minute data for SOUL.JK has been successfully inserted into MySQL.\n"
     ]
    },
    {
     "name": "stderr",
     "output_type": "stream",
     "text": [
      "\n",
      "[*********************100%***********************]  1 of 1 completed\n",
      "[*********************100%***********************]  1 of 1 completed"
     ]
    },
    {
     "name": "stdout",
     "output_type": "stream",
     "text": [
      "Minute data for ELIT.JK has been successfully inserted into MySQL.\n",
      "Minute data for BEER.JK has been successfully inserted into MySQL.\n"
     ]
    },
    {
     "name": "stderr",
     "output_type": "stream",
     "text": [
      "\n",
      "[*********************100%***********************]  1 of 1 completed\n",
      "[*********************100%***********************]  1 of 1 completed"
     ]
    },
    {
     "name": "stdout",
     "output_type": "stream",
     "text": [
      "Minute data for CBPE.JK has been successfully inserted into MySQL.\n",
      "Minute data for SUNI.JK has been successfully inserted into MySQL.\n"
     ]
    },
    {
     "name": "stderr",
     "output_type": "stream",
     "text": [
      "\n",
      "[*********************100%***********************]  1 of 1 completed\n",
      "[*********************100%***********************]  1 of 1 completed\n"
     ]
    },
    {
     "name": "stdout",
     "output_type": "stream",
     "text": [
      "Minute data for CBRE.JK has been successfully inserted into MySQL.\n"
     ]
    },
    {
     "name": "stderr",
     "output_type": "stream",
     "text": [
      "[*********************100%***********************]  1 of 1 completed\n"
     ]
    },
    {
     "name": "stdout",
     "output_type": "stream",
     "text": [
      "Minute data for WINE.JK has been successfully inserted into MySQL.\n",
      "Minute data for BMBL.JK has been successfully inserted into MySQL.\n"
     ]
    },
    {
     "name": "stderr",
     "output_type": "stream",
     "text": [
      "[*********************100%***********************]  1 of 1 completed\n",
      "[*********************100%***********************]  1 of 1 completed\n"
     ]
    },
    {
     "name": "stdout",
     "output_type": "stream",
     "text": [
      "Minute data for PEVE.JK has been successfully inserted into MySQL.\n",
      "Minute data for LAJU.JK has been successfully inserted into MySQL.\n"
     ]
    },
    {
     "name": "stderr",
     "output_type": "stream",
     "text": [
      "[*********************100%***********************]  1 of 1 completed\n"
     ]
    },
    {
     "name": "stdout",
     "output_type": "stream",
     "text": [
      "Minute data for FWCT.JK has been successfully inserted into MySQL.\n"
     ]
    },
    {
     "name": "stderr",
     "output_type": "stream",
     "text": [
      "[*********************100%***********************]  1 of 1 completed\n",
      "[*********************100%***********************]  1 of 1 completed\n"
     ]
    },
    {
     "name": "stdout",
     "output_type": "stream",
     "text": [
      "Minute data for NAYZ.JK has been successfully inserted into MySQL.\n",
      "Minute data for IRSX.JK has been successfully inserted into MySQL.\n"
     ]
    },
    {
     "name": "stderr",
     "output_type": "stream",
     "text": [
      "[*********************100%***********************]  1 of 1 completed\n",
      "[*********************100%***********************]  1 of 1 completed"
     ]
    },
    {
     "name": "stdout",
     "output_type": "stream",
     "text": [
      "Minute data for PACK.JK has been successfully inserted into MySQL.\n",
      "Minute data for VAST.JK has been successfully inserted into MySQL.\n"
     ]
    },
    {
     "name": "stderr",
     "output_type": "stream",
     "text": [
      "\n",
      "[*********************100%***********************]  1 of 1 completed\n",
      "[*********************100%***********************]  1 of 1 completed\n"
     ]
    },
    {
     "name": "stdout",
     "output_type": "stream",
     "text": [
      "Minute data for CHIP.JK has been successfully inserted into MySQL.\n",
      "Minute data for HALO.JK has been successfully inserted into MySQL.\n"
     ]
    },
    {
     "name": "stderr",
     "output_type": "stream",
     "text": [
      "[*********************100%***********************]  1 of 1 completed\n",
      "[*********************100%***********************]  1 of 1 completed\n"
     ]
    },
    {
     "name": "stdout",
     "output_type": "stream",
     "text": [
      "Minute data for KING.JK has been successfully inserted into MySQL.\n",
      "Minute data for PGEO.JK has been successfully inserted into MySQL.\n"
     ]
    },
    {
     "name": "stderr",
     "output_type": "stream",
     "text": [
      "[*********************100%***********************]  1 of 1 completed\n",
      "[*********************100%***********************]  1 of 1 completed\n"
     ]
    },
    {
     "name": "stdout",
     "output_type": "stream",
     "text": [
      "Minute data for FUTR.JK has been successfully inserted into MySQL.\n",
      "Minute data for HILL.JK has been successfully inserted into MySQL.\n"
     ]
    },
    {
     "name": "stderr",
     "output_type": "stream",
     "text": [
      "[*********************100%***********************]  1 of 1 completed\n",
      "[*********************100%***********************]  1 of 1 completed\n"
     ]
    },
    {
     "name": "stdout",
     "output_type": "stream",
     "text": [
      "Minute data for BDKR.JK has been successfully inserted into MySQL.\n",
      "Minute data for PTMP.JK has been successfully inserted into MySQL.\n"
     ]
    },
    {
     "name": "stderr",
     "output_type": "stream",
     "text": [
      "[*********************100%***********************]  1 of 1 completed\n",
      "[*********************100%***********************]  1 of 1 completed\n"
     ]
    },
    {
     "name": "stdout",
     "output_type": "stream",
     "text": [
      "Minute data for SAGE.JK has been successfully inserted into MySQL.\n",
      "Minute data for TRON.JK has been successfully inserted into MySQL.\n"
     ]
    },
    {
     "name": "stderr",
     "output_type": "stream",
     "text": [
      "[*********************100%***********************]  1 of 1 completed\n"
     ]
    },
    {
     "name": "stdout",
     "output_type": "stream",
     "text": [
      "Minute data for CUAN.JK has been successfully inserted into MySQL.\n"
     ]
    },
    {
     "name": "stderr",
     "output_type": "stream",
     "text": [
      "[*********************100%***********************]  1 of 1 completed\n",
      "[*********************100%***********************]  1 of 1 completed"
     ]
    },
    {
     "name": "stdout",
     "output_type": "stream",
     "text": [
      "Minute data for NSSS.JK has been successfully inserted into MySQL.\n"
     ]
    },
    {
     "name": "stderr",
     "output_type": "stream",
     "text": [
      "\n",
      "[*********************100%***********************]  1 of 1 completed"
     ]
    },
    {
     "name": "stdout",
     "output_type": "stream",
     "text": [
      "Minute data for GTRA.JK has been successfully inserted into MySQL.\n"
     ]
    },
    {
     "name": "stderr",
     "output_type": "stream",
     "text": [
      "\n"
     ]
    },
    {
     "name": "stdout",
     "output_type": "stream",
     "text": [
      "Minute data for HAJJ.JK has been successfully inserted into MySQL.\n"
     ]
    },
    {
     "name": "stderr",
     "output_type": "stream",
     "text": [
      "[*********************100%***********************]  1 of 1 completed\n",
      "[*********************100%***********************]  1 of 1 completed"
     ]
    },
    {
     "name": "stdout",
     "output_type": "stream",
     "text": [
      "Minute data for PIPA.JK has been successfully inserted into MySQL.\n"
     ]
    },
    {
     "name": "stderr",
     "output_type": "stream",
     "text": [
      "\n",
      "[*********************100%***********************]  1 of 1 completed"
     ]
    },
    {
     "name": "stdout",
     "output_type": "stream",
     "text": [
      "Minute data for NCKL.JK has been successfully inserted into MySQL.\n",
      "Minute data for MENN.JK has been successfully inserted into MySQL.\n"
     ]
    },
    {
     "name": "stderr",
     "output_type": "stream",
     "text": [
      "\n",
      "[*********************100%***********************]  1 of 1 completed\n"
     ]
    },
    {
     "name": "stdout",
     "output_type": "stream",
     "text": [
      "Minute data for AWAN.JK has been successfully inserted into MySQL.\n"
     ]
    },
    {
     "name": "stderr",
     "output_type": "stream",
     "text": [
      "[*********************100%***********************]  1 of 1 completed\n",
      "[*********************100%***********************]  1 of 1 completed"
     ]
    },
    {
     "name": "stdout",
     "output_type": "stream",
     "text": [
      "Minute data for MBMA.JK has been successfully inserted into MySQL.\n",
      "Minute data for RAAM.JK has been successfully inserted into MySQL.\n"
     ]
    },
    {
     "name": "stderr",
     "output_type": "stream",
     "text": [
      "\n",
      "[*********************100%***********************]  1 of 1 completed\n",
      "[*********************100%***********************]  1 of 1 completed\n"
     ]
    },
    {
     "name": "stdout",
     "output_type": "stream",
     "text": [
      "Minute data for DOOH.JK has been successfully inserted into MySQL.\n",
      "Minute data for JATI.JK has been successfully inserted into MySQL.\n"
     ]
    },
    {
     "name": "stderr",
     "output_type": "stream",
     "text": [
      "[*********************100%***********************]  1 of 1 completed\n",
      "[*********************100%***********************]  1 of 1 completed\n"
     ]
    },
    {
     "name": "stdout",
     "output_type": "stream",
     "text": [
      "Minute data for TYRE.JK has been successfully inserted into MySQL.\n",
      "Minute data for MPXL.JK has been successfully inserted into MySQL.\n"
     ]
    },
    {
     "name": "stderr",
     "output_type": "stream",
     "text": [
      "[*********************100%***********************]  1 of 1 completed\n",
      "[*********************100%***********************]  1 of 1 completed\n"
     ]
    },
    {
     "name": "stdout",
     "output_type": "stream",
     "text": [
      "Minute data for SMIL.JK has been successfully inserted into MySQL.\n",
      "Minute data for KLAS.JK has been successfully inserted into MySQL.\n"
     ]
    },
    {
     "name": "stderr",
     "output_type": "stream",
     "text": [
      "[*********************100%***********************]  1 of 1 completed\n",
      "[*********************100%***********************]  1 of 1 completed\n"
     ]
    },
    {
     "name": "stdout",
     "output_type": "stream",
     "text": [
      "Minute data for MAXI.JK has been successfully inserted into MySQL.\n",
      "Minute data for VKTR.JK has been successfully inserted into MySQL.\n"
     ]
    },
    {
     "name": "stderr",
     "output_type": "stream",
     "text": [
      "[*********************100%***********************]  1 of 1 completed\n",
      "[*********************100%***********************]  1 of 1 completed\n"
     ]
    },
    {
     "name": "stdout",
     "output_type": "stream",
     "text": [
      "Minute data for RELF.JK has been successfully inserted into MySQL.\n",
      "Minute data for AMMN.JK has been successfully inserted into MySQL.\n"
     ]
    },
    {
     "name": "stderr",
     "output_type": "stream",
     "text": [
      "[*********************100%***********************]  1 of 1 completed\n",
      "[*********************100%***********************]  1 of 1 completed\n"
     ]
    },
    {
     "name": "stdout",
     "output_type": "stream",
     "text": [
      "Minute data for CRSN.JK has been successfully inserted into MySQL.\n",
      "Minute data for GRPM.JK has been successfully inserted into MySQL.\n"
     ]
    },
    {
     "name": "stderr",
     "output_type": "stream",
     "text": [
      "[*********************100%***********************]  1 of 1 completed\n",
      "[*********************100%***********************]  1 of 1 completed\n"
     ]
    },
    {
     "name": "stdout",
     "output_type": "stream",
     "text": [
      "Minute data for WIDI.JK has been successfully inserted into MySQL.\n",
      "Minute data for TGUK.JK has been successfully inserted into MySQL.\n"
     ]
    },
    {
     "name": "stderr",
     "output_type": "stream",
     "text": [
      "[*********************100%***********************]  1 of 1 completed\n",
      "[*********************100%***********************]  1 of 1 completed\n"
     ]
    },
    {
     "name": "stdout",
     "output_type": "stream",
     "text": [
      "Minute data for INET.JK has been successfully inserted into MySQL.\n",
      "Minute data for MAHA.JK has been successfully inserted into MySQL.\n"
     ]
    },
    {
     "name": "stderr",
     "output_type": "stream",
     "text": [
      "[*********************100%***********************]  1 of 1 completed\n",
      "[*********************100%***********************]  1 of 1 completed\n"
     ]
    },
    {
     "name": "stdout",
     "output_type": "stream",
     "text": [
      "Minute data for RMKO.JK has been successfully inserted into MySQL.\n",
      "Minute data for CNMA.JK has been successfully inserted into MySQL.\n"
     ]
    },
    {
     "name": "stderr",
     "output_type": "stream",
     "text": [
      "[*********************100%***********************]  1 of 1 completed\n",
      "[*********************100%***********************]  1 of 1 completed\n"
     ]
    },
    {
     "name": "stdout",
     "output_type": "stream",
     "text": [
      "Minute data for FOLK.JK has been successfully inserted into MySQL.\n",
      "Minute data for HBAT.JK has been successfully inserted into MySQL.\n"
     ]
    },
    {
     "name": "stderr",
     "output_type": "stream",
     "text": [
      "[*********************100%***********************]  1 of 1 completed\n",
      "[*********************100%***********************]  1 of 1 completed\n"
     ]
    },
    {
     "name": "stdout",
     "output_type": "stream",
     "text": [
      "Minute data for GRIA.JK has been successfully inserted into MySQL.\n",
      "Minute data for PPRI.JK has been successfully inserted into MySQL.\n"
     ]
    },
    {
     "name": "stderr",
     "output_type": "stream",
     "text": [
      "[*********************100%***********************]  1 of 1 completed\n",
      "[*********************100%***********************]  1 of 1 completed\n"
     ]
    },
    {
     "name": "stdout",
     "output_type": "stream",
     "text": [
      "Minute data for ERAL.JK has been successfully inserted into MySQL.\n",
      "Minute data for CYBR.JK has been successfully inserted into MySQL.\n"
     ]
    },
    {
     "name": "stderr",
     "output_type": "stream",
     "text": [
      "[*********************100%***********************]  1 of 1 completed\n",
      "[*********************100%***********************]  1 of 1 completed\n"
     ]
    },
    {
     "name": "stdout",
     "output_type": "stream",
     "text": [
      "Minute data for MUTU.JK has been successfully inserted into MySQL.\n",
      "Minute data for LMAX.JK has been successfully inserted into MySQL.\n"
     ]
    },
    {
     "name": "stderr",
     "output_type": "stream",
     "text": [
      "[*********************100%***********************]  1 of 1 completed\n",
      "[*********************100%***********************]  1 of 1 completed\n"
     ]
    },
    {
     "name": "stdout",
     "output_type": "stream",
     "text": [
      "Minute data for HUMI.JK has been successfully inserted into MySQL.\n",
      "Minute data for MSIE.JK has been successfully inserted into MySQL.\n"
     ]
    },
    {
     "name": "stderr",
     "output_type": "stream",
     "text": [
      "[*********************100%***********************]  1 of 1 completed\n",
      "[*********************100%***********************]  1 of 1 completed\n"
     ]
    },
    {
     "name": "stdout",
     "output_type": "stream",
     "text": [
      "Minute data for RSCH.JK has been successfully inserted into MySQL.\n",
      "Minute data for BABY.JK has been successfully inserted into MySQL.\n"
     ]
    },
    {
     "name": "stderr",
     "output_type": "stream",
     "text": [
      "[*********************100%***********************]  1 of 1 completed\n",
      "[*********************100%***********************]  1 of 1 completed\n"
     ]
    },
    {
     "name": "stdout",
     "output_type": "stream",
     "text": [
      "Minute data for AEGS.JK has been successfully inserted into MySQL.\n",
      "Minute data for IOTF.JK has been successfully inserted into MySQL.\n"
     ]
    },
    {
     "name": "stderr",
     "output_type": "stream",
     "text": [
      "[*********************100%***********************]  1 of 1 completed\n",
      "[*********************100%***********************]  1 of 1 completed"
     ]
    },
    {
     "name": "stdout",
     "output_type": "stream",
     "text": [
      "Minute data for KOCI.JK has been successfully inserted into MySQL.\n",
      "Minute data for PTPS.JK has been successfully inserted into MySQL.\n"
     ]
    },
    {
     "name": "stderr",
     "output_type": "stream",
     "text": [
      "\n",
      "[*********************100%***********************]  1 of 1 completed\n",
      "[*********************100%***********************]  1 of 1 completed\n"
     ]
    },
    {
     "name": "stdout",
     "output_type": "stream",
     "text": [
      "Minute data for BREN.JK has been successfully inserted into MySQL.\n",
      "Minute data for STRK.JK has been successfully inserted into MySQL.\n"
     ]
    },
    {
     "name": "stderr",
     "output_type": "stream",
     "text": [
      "[*********************100%***********************]  1 of 1 completed\n"
     ]
    },
    {
     "name": "stdout",
     "output_type": "stream",
     "text": [
      "Minute data for KOKA.JK has been successfully inserted into MySQL.\n"
     ]
    },
    {
     "name": "stderr",
     "output_type": "stream",
     "text": [
      "[*********************100%***********************]  1 of 1 completed\n"
     ]
    },
    {
     "name": "stdout",
     "output_type": "stream",
     "text": [
      "Minute data for LOPI.JK has been successfully inserted into MySQL.\n"
     ]
    },
    {
     "name": "stderr",
     "output_type": "stream",
     "text": [
      "[*********************100%***********************]  1 of 1 completed\n"
     ]
    },
    {
     "name": "stdout",
     "output_type": "stream",
     "text": [
      "Minute data for UDNG.JK has been successfully inserted into MySQL.\n"
     ]
    },
    {
     "name": "stderr",
     "output_type": "stream",
     "text": [
      "[*********************100%***********************]  1 of 1 completed\n"
     ]
    },
    {
     "name": "stdout",
     "output_type": "stream",
     "text": [
      "Minute data for RGAS.JK has been successfully inserted into MySQL.\n"
     ]
    },
    {
     "name": "stderr",
     "output_type": "stream",
     "text": [
      "[*********************100%***********************]  1 of 1 completed\n"
     ]
    },
    {
     "name": "stdout",
     "output_type": "stream",
     "text": [
      "Minute data for MSTI.JK has been successfully inserted into MySQL.\n"
     ]
    },
    {
     "name": "stderr",
     "output_type": "stream",
     "text": [
      "[*********************100%***********************]  1 of 1 completed\n",
      "[*********************100%***********************]  1 of 1 completed"
     ]
    },
    {
     "name": "stdout",
     "output_type": "stream",
     "text": [
      "Minute data for IKPM.JK has been successfully inserted into MySQL.\n"
     ]
    },
    {
     "name": "stderr",
     "output_type": "stream",
     "text": [
      "\n"
     ]
    },
    {
     "name": "stdout",
     "output_type": "stream",
     "text": [
      "Minute data for AYAM.JK has been successfully inserted into MySQL.\n"
     ]
    },
    {
     "name": "stderr",
     "output_type": "stream",
     "text": [
      "[*********************100%***********************]  1 of 1 completed\n"
     ]
    },
    {
     "name": "stdout",
     "output_type": "stream",
     "text": [
      "Minute data for SURI.JK has been successfully inserted into MySQL.\n"
     ]
    },
    {
     "name": "stderr",
     "output_type": "stream",
     "text": [
      "[*********************100%***********************]  1 of 1 completed\n"
     ]
    },
    {
     "name": "stdout",
     "output_type": "stream",
     "text": [
      "Minute data for ASLI.JK has been successfully inserted into MySQL.\n"
     ]
    },
    {
     "name": "stderr",
     "output_type": "stream",
     "text": [
      "[*********************100%***********************]  1 of 1 completed\n"
     ]
    },
    {
     "name": "stdout",
     "output_type": "stream",
     "text": [
      "Minute data for CGAS.JK has been successfully inserted into MySQL.\n"
     ]
    },
    {
     "name": "stderr",
     "output_type": "stream",
     "text": [
      "[*********************100%***********************]  1 of 1 completed\n",
      "[*********************100%***********************]  1 of 1 completed"
     ]
    },
    {
     "name": "stdout",
     "output_type": "stream",
     "text": [
      "Minute data for NICE.JK has been successfully inserted into MySQL.\n",
      "Minute data for MSJA.JK has been successfully inserted into MySQL.\n"
     ]
    },
    {
     "name": "stderr",
     "output_type": "stream",
     "text": [
      "\n",
      "[*********************100%***********************]  1 of 1 completed\n",
      "[*********************100%***********************]  1 of 1 completed\n"
     ]
    },
    {
     "name": "stdout",
     "output_type": "stream",
     "text": [
      "Minute data for SMLE.JK has been successfully inserted into MySQL.\n",
      "Minute data for ACRO.JK has been successfully inserted into MySQL.\n"
     ]
    },
    {
     "name": "stderr",
     "output_type": "stream",
     "text": [
      "[*********************100%***********************]  1 of 1 completed\n",
      "[*********************100%***********************]  1 of 1 completed\n"
     ]
    },
    {
     "name": "stdout",
     "output_type": "stream",
     "text": [
      "Minute data for MANG.JK has been successfully inserted into MySQL.\n",
      "Minute data for GRPH.JK has been successfully inserted into MySQL.\n"
     ]
    },
    {
     "name": "stderr",
     "output_type": "stream",
     "text": [
      "[*********************100%***********************]  1 of 1 completed\n"
     ]
    },
    {
     "name": "stdout",
     "output_type": "stream",
     "text": [
      "Minute data for SMGA.JK has been successfully inserted into MySQL.\n"
     ]
    },
    {
     "name": "stderr",
     "output_type": "stream",
     "text": [
      "[*********************100%***********************]  1 of 1 completed\n",
      "[*********************100%***********************]  1 of 1 completed"
     ]
    },
    {
     "name": "stdout",
     "output_type": "stream",
     "text": [
      "Minute data for UNTD.JK has been successfully inserted into MySQL.\n",
      "Minute data for TOSK.JK has been successfully inserted into MySQL.\n"
     ]
    },
    {
     "name": "stderr",
     "output_type": "stream",
     "text": [
      "\n",
      "[*********************100%***********************]  1 of 1 completed\n",
      "[*********************100%***********************]  1 of 1 completed"
     ]
    },
    {
     "name": "stdout",
     "output_type": "stream",
     "text": [
      "Minute data for MPIX.JK has been successfully inserted into MySQL.\n"
     ]
    },
    {
     "name": "stderr",
     "output_type": "stream",
     "text": [
      "\n",
      "[*********************100%***********************]  1 of 1 completed"
     ]
    },
    {
     "name": "stdout",
     "output_type": "stream",
     "text": [
      "Minute data for ALII.JK has been successfully inserted into MySQL.\n"
     ]
    },
    {
     "name": "stderr",
     "output_type": "stream",
     "text": [
      "\n",
      "[*********************100%***********************]  1 of 1 completed"
     ]
    },
    {
     "name": "stdout",
     "output_type": "stream",
     "text": [
      "Minute data for MKAP.JK has been successfully inserted into MySQL.\n"
     ]
    },
    {
     "name": "stderr",
     "output_type": "stream",
     "text": [
      "\n",
      "[*********************100%***********************]  1 of 1 completed\n"
     ]
    },
    {
     "name": "stdout",
     "output_type": "stream",
     "text": [
      "Minute data for MEJA.JK has been successfully inserted into MySQL.\n",
      "Minute data for LIVE.JK has been successfully inserted into MySQL.\n"
     ]
    },
    {
     "name": "stderr",
     "output_type": "stream",
     "text": [
      "[*********************100%***********************]  1 of 1 completed\n",
      "[*********************100%***********************]  1 of 1 completed\n"
     ]
    },
    {
     "name": "stdout",
     "output_type": "stream",
     "text": [
      "Minute data for HYGN.JK has been successfully inserted into MySQL.\n",
      "Minute data for BAIK.JK has been successfully inserted into MySQL.\n"
     ]
    },
    {
     "name": "stderr",
     "output_type": "stream",
     "text": [
      "[*********************100%***********************]  1 of 1 completed\n",
      "[*********************100%***********************]  1 of 1 completed\n"
     ]
    },
    {
     "name": "stdout",
     "output_type": "stream",
     "text": [
      "Minute data for VISI.JK has been successfully inserted into MySQL.\n",
      "Minute data for AREA.JK has been successfully inserted into MySQL.\n"
     ]
    },
    {
     "name": "stderr",
     "output_type": "stream",
     "text": [
      "[*********************100%***********************]  1 of 1 completed\n",
      "[*********************100%***********************]  1 of 1 completed\n"
     ]
    },
    {
     "name": "stdout",
     "output_type": "stream",
     "text": [
      "Minute data for MHKI.JK has been successfully inserted into MySQL.\n",
      "Minute data for ATLA.JK has been successfully inserted into MySQL.\n"
     ]
    },
    {
     "name": "stderr",
     "output_type": "stream",
     "text": [
      "[*********************100%***********************]  1 of 1 completed\n",
      "[*********************100%***********************]  1 of 1 completed\n"
     ]
    },
    {
     "name": "stdout",
     "output_type": "stream",
     "text": [
      "Minute data for DATA.JK has been successfully inserted into MySQL.\n",
      "Minute data for SOLA.JK has been successfully inserted into MySQL.\n"
     ]
    },
    {
     "name": "stderr",
     "output_type": "stream",
     "text": [
      "[*********************100%***********************]  1 of 1 completed\n",
      "[*********************100%***********************]  1 of 1 completed\n"
     ]
    },
    {
     "name": "stdout",
     "output_type": "stream",
     "text": [
      "Minute data for BATR.JK has been successfully inserted into MySQL.\n",
      "Minute data for SPRE.JK has been successfully inserted into MySQL.\n"
     ]
    },
    {
     "name": "stderr",
     "output_type": "stream",
     "text": [
      "[*********************100%***********************]  1 of 1 completed\n",
      "[*********************100%***********************]  1 of 1 completed"
     ]
    },
    {
     "name": "stdout",
     "output_type": "stream",
     "text": [
      "Minute data for PART.JK has been successfully inserted into MySQL.\n"
     ]
    },
    {
     "name": "stderr",
     "output_type": "stream",
     "text": [
      "\n",
      "[*********************100%***********************]  1 of 1 completed"
     ]
    },
    {
     "name": "stdout",
     "output_type": "stream",
     "text": [
      "Minute data for GOLF.JK has been successfully inserted into MySQL.\n",
      "Minute data for ISEA.JK has been successfully inserted into MySQL.\n"
     ]
    },
    {
     "name": "stderr",
     "output_type": "stream",
     "text": [
      "\n",
      "[*********************100%***********************]  1 of 1 completed\n",
      "[*********************100%***********************]  1 of 1 completed\n"
     ]
    },
    {
     "name": "stdout",
     "output_type": "stream",
     "text": [
      "Minute data for BLES.JK has been successfully inserted into MySQL.\n",
      "Minute data for GUNA.JK has been successfully inserted into MySQL.\n"
     ]
    },
    {
     "name": "stderr",
     "output_type": "stream",
     "text": [
      "[*********************100%***********************]  1 of 1 completed\n",
      "[*********************100%***********************]  1 of 1 completed\n"
     ]
    },
    {
     "name": "stdout",
     "output_type": "stream",
     "text": [
      "Minute data for LABS.JK has been successfully inserted into MySQL.\n",
      "Minute data for DOSS.JK has been successfully inserted into MySQL.\n"
     ]
    },
    {
     "name": "stderr",
     "output_type": "stream",
     "text": [
      "[*********************100%***********************]  1 of 1 completed\n",
      "[*********************100%***********************]  1 of 1 completed"
     ]
    },
    {
     "name": "stdout",
     "output_type": "stream",
     "text": [
      "Minute data for NEST.JK has been successfully inserted into MySQL.\n",
      "Minute data for PTMR.JK has been successfully inserted into MySQL.\n"
     ]
    },
    {
     "name": "stderr",
     "output_type": "stream",
     "text": [
      "\n",
      "[*********************100%***********************]  1 of 1 completed\n",
      "[*********************100%***********************]  1 of 1 completed"
     ]
    },
    {
     "name": "stdout",
     "output_type": "stream",
     "text": [
      "Minute data for VERN.JK has been successfully inserted into MySQL.\n",
      "Minute data for DAAZ.JK has been successfully inserted into MySQL.\n"
     ]
    },
    {
     "name": "stderr",
     "output_type": "stream",
     "text": [
      "\n",
      "[*********************100%***********************]  1 of 1 completed\n"
     ]
    },
    {
     "name": "stdout",
     "output_type": "stream",
     "text": [
      "Minute data for BOAT.JK has been successfully inserted into MySQL.\n"
     ]
    },
    {
     "name": "stderr",
     "output_type": "stream",
     "text": [
      "[*********************100%***********************]  1 of 1 completed\n"
     ]
    },
    {
     "name": "stdout",
     "output_type": "stream",
     "text": [
      "Minute data for NAIK.JK has been successfully inserted into MySQL.\n"
     ]
    },
    {
     "name": "stderr",
     "output_type": "stream",
     "text": [
      "[*********************100%***********************]  1 of 1 completed\n"
     ]
    },
    {
     "name": "stdout",
     "output_type": "stream",
     "text": [
      "Minute data for AADI.JK has been successfully inserted into MySQL.\n"
     ]
    },
    {
     "name": "stderr",
     "output_type": "stream",
     "text": [
      "[*********************100%***********************]  1 of 1 completed\n",
      "[*********************100%***********************]  1 of 1 completed\n"
     ]
    },
    {
     "name": "stdout",
     "output_type": "stream",
     "text": [
      "Minute data for MDIY.JK has been successfully inserted into MySQL.\n",
      "Minute data for KSIX.JK has been successfully inserted into MySQL.\n"
     ]
    },
    {
     "name": "stderr",
     "output_type": "stream",
     "text": [
      "[*********************100%***********************]  1 of 1 completed\n",
      "[*********************100%***********************]  1 of 1 completed"
     ]
    },
    {
     "name": "stdout",
     "output_type": "stream",
     "text": [
      "Minute data for RATU.JK has been successfully inserted into MySQL.\n",
      "Minute data for YOII.JK has been successfully inserted into MySQL.\n"
     ]
    },
    {
     "name": "stderr",
     "output_type": "stream",
     "text": [
      "\n",
      "[*********************100%***********************]  1 of 1 completed\n"
     ]
    },
    {
     "name": "stdout",
     "output_type": "stream",
     "text": [
      "Minute data for HGII.JK has been successfully inserted into MySQL.\n"
     ]
    },
    {
     "name": "stderr",
     "output_type": "stream",
     "text": [
      "[*********************100%***********************]  1 of 1 completed\n",
      "[*********************100%***********************]  1 of 1 completed\n"
     ]
    },
    {
     "name": "stdout",
     "output_type": "stream",
     "text": [
      "Minute data for BRRC.JK has been successfully inserted into MySQL.\n",
      "Minute data for DGWG.JK has been successfully inserted into MySQL.\n"
     ]
    },
    {
     "name": "stderr",
     "output_type": "stream",
     "text": [
      "[*********************100%***********************]  1 of 1 completed\n"
     ]
    },
    {
     "name": "stdout",
     "output_type": "stream",
     "text": [
      "Minute data for CBDK.JK has been successfully inserted into MySQL.\n"
     ]
    },
    {
     "name": "stderr",
     "output_type": "stream",
     "text": [
      "[*********************100%***********************]  1 of 1 completed\n",
      "[*********************100%***********************]  1 of 1 completed"
     ]
    },
    {
     "name": "stdout",
     "output_type": "stream",
     "text": [
      "Minute data for OBAT.JK has been successfully inserted into MySQL.\n"
     ]
    },
    {
     "name": "stderr",
     "output_type": "stream",
     "text": [
      "\n",
      "[*********************100%***********************]  1 of 1 completed"
     ]
    },
    {
     "name": "stdout",
     "output_type": "stream",
     "text": [
      "Hourly data for AALI.JK has been successfully inserted into MySQL.\n",
      "Hourly data for ABBA.JK has been successfully inserted into MySQL.\n"
     ]
    },
    {
     "name": "stderr",
     "output_type": "stream",
     "text": [
      "\n",
      "[*********************100%***********************]  1 of 1 completed\n"
     ]
    },
    {
     "name": "stdout",
     "output_type": "stream",
     "text": [
      "Hourly data for ABDA.JK has been successfully inserted into MySQL.\n"
     ]
    },
    {
     "name": "stderr",
     "output_type": "stream",
     "text": [
      "[*********************100%***********************]  1 of 1 completed\n"
     ]
    },
    {
     "name": "stdout",
     "output_type": "stream",
     "text": [
      "Hourly data for ABMM.JK has been successfully inserted into MySQL.\n"
     ]
    },
    {
     "name": "stderr",
     "output_type": "stream",
     "text": [
      "[*********************100%***********************]  1 of 1 completed\n"
     ]
    },
    {
     "name": "stdout",
     "output_type": "stream",
     "text": [
      "Hourly data for ACES.JK has been successfully inserted into MySQL.\n"
     ]
    },
    {
     "name": "stderr",
     "output_type": "stream",
     "text": [
      "[*********************100%***********************]  1 of 1 completed\n"
     ]
    },
    {
     "name": "stdout",
     "output_type": "stream",
     "text": [
      "Hourly data for ACST.JK has been successfully inserted into MySQL.\n"
     ]
    },
    {
     "name": "stderr",
     "output_type": "stream",
     "text": [
      "[*********************100%***********************]  1 of 1 completed\n",
      "[*********************100%***********************]  1 of 1 completed"
     ]
    },
    {
     "name": "stdout",
     "output_type": "stream",
     "text": [
      "Hourly data for ADES.JK has been successfully inserted into MySQL.\n"
     ]
    },
    {
     "name": "stderr",
     "output_type": "stream",
     "text": [
      "\n"
     ]
    },
    {
     "name": "stdout",
     "output_type": "stream",
     "text": [
      "Hourly data for ADHI.JK has been successfully inserted into MySQL.\n"
     ]
    },
    {
     "name": "stderr",
     "output_type": "stream",
     "text": [
      "[*********************100%***********************]  1 of 1 completed\n",
      "[*********************100%***********************]  1 of 1 completed\n"
     ]
    },
    {
     "name": "stdout",
     "output_type": "stream",
     "text": [
      "Hourly data for ADMF.JK has been successfully inserted into MySQL.\n",
      "Hourly data for ADMG.JK has been successfully inserted into MySQL.\n"
     ]
    },
    {
     "name": "stderr",
     "output_type": "stream",
     "text": [
      "[*********************100%***********************]  1 of 1 completed\n",
      "[*********************100%***********************]  1 of 1 completed"
     ]
    },
    {
     "name": "stdout",
     "output_type": "stream",
     "text": [
      "Hourly data for ADRO.JK has been successfully inserted into MySQL.\n",
      "Hourly data for AGII.JK has been successfully inserted into MySQL.\n"
     ]
    },
    {
     "name": "stderr",
     "output_type": "stream",
     "text": [
      "\n",
      "[*********************100%***********************]  1 of 1 completed\n",
      "[*********************100%***********************]  1 of 1 completed"
     ]
    },
    {
     "name": "stdout",
     "output_type": "stream",
     "text": [
      "Hourly data for AGRO.JK has been successfully inserted into MySQL.\n"
     ]
    },
    {
     "name": "stderr",
     "output_type": "stream",
     "text": [
      "\n",
      "[*********************100%***********************]  1 of 1 completed"
     ]
    },
    {
     "name": "stdout",
     "output_type": "stream",
     "text": [
      "Hourly data for AGRS.JK has been successfully inserted into MySQL.\n",
      "Hourly data for AHAP.JK has been successfully inserted into MySQL.\n"
     ]
    },
    {
     "name": "stderr",
     "output_type": "stream",
     "text": [
      "\n",
      "[*********************100%***********************]  1 of 1 completed\n"
     ]
    },
    {
     "name": "stdout",
     "output_type": "stream",
     "text": [
      "Hourly data for AIMS.JK has been successfully inserted into MySQL.\n"
     ]
    },
    {
     "name": "stderr",
     "output_type": "stream",
     "text": [
      "[*********************100%***********************]  1 of 1 completed\n"
     ]
    },
    {
     "name": "stdout",
     "output_type": "stream",
     "text": [
      "Hourly data for AISA.JK has been successfully inserted into MySQL.\n"
     ]
    },
    {
     "name": "stderr",
     "output_type": "stream",
     "text": [
      "[*********************100%***********************]  1 of 1 completed\n",
      "[*********************100%***********************]  1 of 1 completed\n"
     ]
    },
    {
     "name": "stdout",
     "output_type": "stream",
     "text": [
      "Hourly data for AKKU.JK has been successfully inserted into MySQL.\n",
      "Hourly data for AKPI.JK has been successfully inserted into MySQL.\n"
     ]
    },
    {
     "name": "stderr",
     "output_type": "stream",
     "text": [
      "[*********************100%***********************]  1 of 1 completed\n"
     ]
    },
    {
     "name": "stdout",
     "output_type": "stream",
     "text": [
      "Hourly data for AKRA.JK has been successfully inserted into MySQL.\n"
     ]
    },
    {
     "name": "stderr",
     "output_type": "stream",
     "text": [
      "[*********************100%***********************]  1 of 1 completed\n"
     ]
    },
    {
     "name": "stdout",
     "output_type": "stream",
     "text": [
      "Hourly data for AKSI.JK has been successfully inserted into MySQL.\n"
     ]
    },
    {
     "name": "stderr",
     "output_type": "stream",
     "text": [
      "[*********************100%***********************]  1 of 1 completed\n",
      "[*********************100%***********************]  1 of 1 completed"
     ]
    },
    {
     "name": "stdout",
     "output_type": "stream",
     "text": [
      "Hourly data for ALDO.JK has been successfully inserted into MySQL.\n",
      "Hourly data for ALKA.JK has been successfully inserted into MySQL.\n"
     ]
    },
    {
     "name": "stderr",
     "output_type": "stream",
     "text": [
      "\n",
      "[*********************100%***********************]  1 of 1 completed\n",
      "[*********************100%***********************]  1 of 1 completed\n"
     ]
    },
    {
     "name": "stdout",
     "output_type": "stream",
     "text": [
      "Hourly data for ALMI.JK has been successfully inserted into MySQL.\n",
      "Hourly data for ALTO.JK has been successfully inserted into MySQL.\n"
     ]
    },
    {
     "name": "stderr",
     "output_type": "stream",
     "text": [
      "[*********************100%***********************]  1 of 1 completed\n"
     ]
    },
    {
     "name": "stdout",
     "output_type": "stream",
     "text": [
      "Hourly data for AMAG.JK has been successfully inserted into MySQL.\n"
     ]
    },
    {
     "name": "stderr",
     "output_type": "stream",
     "text": [
      "[*********************100%***********************]  1 of 1 completed\n"
     ]
    },
    {
     "name": "stdout",
     "output_type": "stream",
     "text": [
      "Hourly data for AMFG.JK has been successfully inserted into MySQL.\n"
     ]
    },
    {
     "name": "stderr",
     "output_type": "stream",
     "text": [
      "[*********************100%***********************]  1 of 1 completed\n"
     ]
    },
    {
     "name": "stdout",
     "output_type": "stream",
     "text": [
      "Hourly data for AMIN.JK has been successfully inserted into MySQL.\n"
     ]
    },
    {
     "name": "stderr",
     "output_type": "stream",
     "text": [
      "[*********************100%***********************]  1 of 1 completed\n"
     ]
    },
    {
     "name": "stdout",
     "output_type": "stream",
     "text": [
      "Hourly data for AMRT.JK has been successfully inserted into MySQL.\n"
     ]
    },
    {
     "name": "stderr",
     "output_type": "stream",
     "text": [
      "[*********************100%***********************]  1 of 1 completed\n"
     ]
    },
    {
     "name": "stdout",
     "output_type": "stream",
     "text": [
      "Hourly data for ANJT.JK has been successfully inserted into MySQL.\n"
     ]
    },
    {
     "name": "stderr",
     "output_type": "stream",
     "text": [
      "[*********************100%***********************]  1 of 1 completed\n"
     ]
    },
    {
     "name": "stdout",
     "output_type": "stream",
     "text": [
      "Hourly data for ANTM.JK has been successfully inserted into MySQL.\n"
     ]
    },
    {
     "name": "stderr",
     "output_type": "stream",
     "text": [
      "[*********************100%***********************]  1 of 1 completed\n"
     ]
    },
    {
     "name": "stdout",
     "output_type": "stream",
     "text": [
      "Hourly data for APEX.JK has been successfully inserted into MySQL.\n"
     ]
    },
    {
     "name": "stderr",
     "output_type": "stream",
     "text": [
      "[*********************100%***********************]  1 of 1 completed\n"
     ]
    },
    {
     "name": "stdout",
     "output_type": "stream",
     "text": [
      "Hourly data for APIC.JK has been successfully inserted into MySQL.\n"
     ]
    },
    {
     "name": "stderr",
     "output_type": "stream",
     "text": [
      "[*********************100%***********************]  1 of 1 completed\n"
     ]
    },
    {
     "name": "stdout",
     "output_type": "stream",
     "text": [
      "Hourly data for APII.JK has been successfully inserted into MySQL.\n"
     ]
    },
    {
     "name": "stderr",
     "output_type": "stream",
     "text": [
      "[*********************100%***********************]  1 of 1 completed\n"
     ]
    },
    {
     "name": "stdout",
     "output_type": "stream",
     "text": [
      "Hourly data for APLI.JK has been successfully inserted into MySQL.\n"
     ]
    },
    {
     "name": "stderr",
     "output_type": "stream",
     "text": [
      "[*********************100%***********************]  1 of 1 completed\n"
     ]
    },
    {
     "name": "stdout",
     "output_type": "stream",
     "text": [
      "Hourly data for APLN.JK has been successfully inserted into MySQL.\n"
     ]
    },
    {
     "name": "stderr",
     "output_type": "stream",
     "text": [
      "[*********************100%***********************]  1 of 1 completed\n"
     ]
    },
    {
     "name": "stdout",
     "output_type": "stream",
     "text": [
      "Hourly data for ARGO.JK has been successfully inserted into MySQL.\n"
     ]
    },
    {
     "name": "stderr",
     "output_type": "stream",
     "text": [
      "[*********************100%***********************]  1 of 1 completed\n"
     ]
    },
    {
     "name": "stdout",
     "output_type": "stream",
     "text": [
      "Hourly data for ARII.JK has been successfully inserted into MySQL.\n"
     ]
    },
    {
     "name": "stderr",
     "output_type": "stream",
     "text": [
      "[*********************100%***********************]  1 of 1 completed\n"
     ]
    },
    {
     "name": "stdout",
     "output_type": "stream",
     "text": [
      "Hourly data for ARNA.JK has been successfully inserted into MySQL.\n"
     ]
    },
    {
     "name": "stderr",
     "output_type": "stream",
     "text": [
      "[*********************100%***********************]  1 of 1 completed\n",
      "[*********************100%***********************]  1 of 1 completed\n"
     ]
    },
    {
     "name": "stdout",
     "output_type": "stream",
     "text": [
      "Hourly data for ARTA.JK has been successfully inserted into MySQL.\n",
      "Hourly data for ARTI.JK has been successfully inserted into MySQL.\n"
     ]
    },
    {
     "name": "stderr",
     "output_type": "stream",
     "text": [
      "[*********************100%***********************]  1 of 1 completed\n"
     ]
    },
    {
     "name": "stdout",
     "output_type": "stream",
     "text": [
      "Hourly data for ARTO.JK has been successfully inserted into MySQL.\n"
     ]
    },
    {
     "name": "stderr",
     "output_type": "stream",
     "text": [
      "[*********************100%***********************]  1 of 1 completed\n"
     ]
    },
    {
     "name": "stdout",
     "output_type": "stream",
     "text": [
      "Hourly data for ASBI.JK has been successfully inserted into MySQL.\n"
     ]
    },
    {
     "name": "stderr",
     "output_type": "stream",
     "text": [
      "[*********************100%***********************]  1 of 1 completed\n"
     ]
    },
    {
     "name": "stdout",
     "output_type": "stream",
     "text": [
      "Hourly data for ASDM.JK has been successfully inserted into MySQL.\n"
     ]
    },
    {
     "name": "stderr",
     "output_type": "stream",
     "text": [
      "[*********************100%***********************]  1 of 1 completed\n"
     ]
    },
    {
     "name": "stdout",
     "output_type": "stream",
     "text": [
      "Hourly data for ASGR.JK has been successfully inserted into MySQL.\n"
     ]
    },
    {
     "name": "stderr",
     "output_type": "stream",
     "text": [
      "[*********************100%***********************]  1 of 1 completed\n",
      "[*********************100%***********************]  1 of 1 completed"
     ]
    },
    {
     "name": "stdout",
     "output_type": "stream",
     "text": [
      "Hourly data for ASII.JK has been successfully inserted into MySQL.\n"
     ]
    },
    {
     "name": "stderr",
     "output_type": "stream",
     "text": [
      "\n",
      "[*********************100%***********************]  1 of 1 completed"
     ]
    },
    {
     "name": "stdout",
     "output_type": "stream",
     "text": [
      "Hourly data for ASJT.JK has been successfully inserted into MySQL.\n",
      "Hourly data for ASMI.JK has been successfully inserted into MySQL.\n"
     ]
    },
    {
     "name": "stderr",
     "output_type": "stream",
     "text": [
      "\n",
      "[*********************100%***********************]  1 of 1 completed\n",
      "[*********************100%***********************]  1 of 1 completed"
     ]
    },
    {
     "name": "stdout",
     "output_type": "stream",
     "text": [
      "Hourly data for ASRI.JK has been successfully inserted into MySQL.\n",
      "Hourly data for ASRM.JK has been successfully inserted into MySQL.\n"
     ]
    },
    {
     "name": "stderr",
     "output_type": "stream",
     "text": [
      "\n",
      "[*********************100%***********************]  1 of 1 completed\n"
     ]
    },
    {
     "name": "stdout",
     "output_type": "stream",
     "text": [
      "Hourly data for ASSA.JK has been successfully inserted into MySQL.\n"
     ]
    },
    {
     "name": "stderr",
     "output_type": "stream",
     "text": [
      "[*********************100%***********************]  1 of 1 completed\n"
     ]
    },
    {
     "name": "stdout",
     "output_type": "stream",
     "text": [
      "Hourly data for ATIC.JK has been successfully inserted into MySQL.\n"
     ]
    },
    {
     "name": "stderr",
     "output_type": "stream",
     "text": [
      "[*********************100%***********************]  1 of 1 completed\n"
     ]
    },
    {
     "name": "stdout",
     "output_type": "stream",
     "text": [
      "Hourly data for AUTO.JK has been successfully inserted into MySQL.\n"
     ]
    },
    {
     "name": "stderr",
     "output_type": "stream",
     "text": [
      "[*********************100%***********************]  1 of 1 completed\n"
     ]
    },
    {
     "name": "stdout",
     "output_type": "stream",
     "text": [
      "Hourly data for BABP.JK has been successfully inserted into MySQL.\n"
     ]
    },
    {
     "name": "stderr",
     "output_type": "stream",
     "text": [
      "[*********************100%***********************]  1 of 1 completed\n"
     ]
    },
    {
     "name": "stdout",
     "output_type": "stream",
     "text": [
      "Hourly data for BACA.JK has been successfully inserted into MySQL.\n"
     ]
    },
    {
     "name": "stderr",
     "output_type": "stream",
     "text": [
      "[*********************100%***********************]  1 of 1 completed\n"
     ]
    },
    {
     "name": "stdout",
     "output_type": "stream",
     "text": [
      "Hourly data for BAJA.JK has been successfully inserted into MySQL.\n"
     ]
    },
    {
     "name": "stderr",
     "output_type": "stream",
     "text": [
      "[*********************100%***********************]  1 of 1 completed\n"
     ]
    },
    {
     "name": "stdout",
     "output_type": "stream",
     "text": [
      "Hourly data for BALI.JK has been successfully inserted into MySQL.\n"
     ]
    },
    {
     "name": "stderr",
     "output_type": "stream",
     "text": [
      "[*********************100%***********************]  1 of 1 completed\n"
     ]
    },
    {
     "name": "stdout",
     "output_type": "stream",
     "text": [
      "Hourly data for BAPA.JK has been successfully inserted into MySQL.\n"
     ]
    },
    {
     "name": "stderr",
     "output_type": "stream",
     "text": [
      "[*********************100%***********************]  1 of 1 completed\n"
     ]
    },
    {
     "name": "stdout",
     "output_type": "stream",
     "text": [
      "Hourly data for BATA.JK has been successfully inserted into MySQL.\n"
     ]
    },
    {
     "name": "stderr",
     "output_type": "stream",
     "text": [
      "[*********************100%***********************]  1 of 1 completed\n"
     ]
    },
    {
     "name": "stdout",
     "output_type": "stream",
     "text": [
      "Hourly data for BAYU.JK has been successfully inserted into MySQL.\n"
     ]
    },
    {
     "name": "stderr",
     "output_type": "stream",
     "text": [
      "[*********************100%***********************]  1 of 1 completed\n",
      "[*********************100%***********************]  1 of 1 completed"
     ]
    },
    {
     "name": "stdout",
     "output_type": "stream",
     "text": [
      "Hourly data for BBCA.JK has been successfully inserted into MySQL.\n"
     ]
    },
    {
     "name": "stderr",
     "output_type": "stream",
     "text": [
      "\n",
      "[*********************100%***********************]  1 of 1 completed"
     ]
    },
    {
     "name": "stdout",
     "output_type": "stream",
     "text": [
      "Hourly data for BBHI.JK has been successfully inserted into MySQL.\n"
     ]
    },
    {
     "name": "stderr",
     "output_type": "stream",
     "text": [
      "\n",
      "[*********************100%***********************]  1 of 1 completed"
     ]
    },
    {
     "name": "stdout",
     "output_type": "stream",
     "text": [
      "Hourly data for BBKP.JK has been successfully inserted into MySQL.\n",
      "Hourly data for BBLD.JK has been successfully inserted into MySQL.\n"
     ]
    },
    {
     "name": "stderr",
     "output_type": "stream",
     "text": [
      "\n",
      "[*********************100%***********************]  1 of 1 completed\n"
     ]
    },
    {
     "name": "stdout",
     "output_type": "stream",
     "text": [
      "Hourly data for BBMD.JK has been successfully inserted into MySQL.\n"
     ]
    },
    {
     "name": "stderr",
     "output_type": "stream",
     "text": [
      "[*********************100%***********************]  1 of 1 completed\n",
      "[*********************100%***********************]  1 of 1 completed\n"
     ]
    },
    {
     "name": "stdout",
     "output_type": "stream",
     "text": [
      "Hourly data for BBNI.JK has been successfully inserted into MySQL.\n",
      "Hourly data for BBRI.JK has been successfully inserted into MySQL.\n"
     ]
    },
    {
     "name": "stderr",
     "output_type": "stream",
     "text": [
      "[*********************100%***********************]  1 of 1 completed\n"
     ]
    },
    {
     "name": "stdout",
     "output_type": "stream",
     "text": [
      "Hourly data for BBRM.JK has been successfully inserted into MySQL.\n"
     ]
    },
    {
     "name": "stderr",
     "output_type": "stream",
     "text": [
      "[*********************100%***********************]  1 of 1 completed\n"
     ]
    },
    {
     "name": "stdout",
     "output_type": "stream",
     "text": [
      "Hourly data for BBTN.JK has been successfully inserted into MySQL.\n"
     ]
    },
    {
     "name": "stderr",
     "output_type": "stream",
     "text": [
      "[*********************100%***********************]  1 of 1 completed\n"
     ]
    },
    {
     "name": "stdout",
     "output_type": "stream",
     "text": [
      "Hourly data for BBYB.JK has been successfully inserted into MySQL.\n"
     ]
    },
    {
     "name": "stderr",
     "output_type": "stream",
     "text": [
      "[*********************100%***********************]  1 of 1 completed\n",
      "[*********************100%***********************]  1 of 1 completed"
     ]
    },
    {
     "name": "stdout",
     "output_type": "stream",
     "text": [
      "Hourly data for BCAP.JK has been successfully inserted into MySQL.\n",
      "Hourly data for BCIC.JK has been successfully inserted into MySQL.\n"
     ]
    },
    {
     "name": "stderr",
     "output_type": "stream",
     "text": [
      "\n",
      "[*********************100%***********************]  1 of 1 completed\n"
     ]
    },
    {
     "name": "stdout",
     "output_type": "stream",
     "text": [
      "Hourly data for BCIP.JK has been successfully inserted into MySQL.\n"
     ]
    },
    {
     "name": "stderr",
     "output_type": "stream",
     "text": [
      "[*********************100%***********************]  1 of 1 completed\n"
     ]
    },
    {
     "name": "stdout",
     "output_type": "stream",
     "text": [
      "Hourly data for BDMN.JK has been successfully inserted into MySQL.\n"
     ]
    },
    {
     "name": "stderr",
     "output_type": "stream",
     "text": [
      "[*********************100%***********************]  1 of 1 completed\n",
      "[*********************100%***********************]  1 of 1 completed\n"
     ]
    },
    {
     "name": "stdout",
     "output_type": "stream",
     "text": [
      "Hourly data for BEKS.JK has been successfully inserted into MySQL.\n",
      "Hourly data for BEST.JK has been successfully inserted into MySQL.\n"
     ]
    },
    {
     "name": "stderr",
     "output_type": "stream",
     "text": [
      "[*********************100%***********************]  1 of 1 completed\n"
     ]
    },
    {
     "name": "stdout",
     "output_type": "stream",
     "text": [
      "Hourly data for BFIN.JK has been successfully inserted into MySQL.\n"
     ]
    },
    {
     "name": "stderr",
     "output_type": "stream",
     "text": [
      "[*********************100%***********************]  1 of 1 completed\n"
     ]
    },
    {
     "name": "stdout",
     "output_type": "stream",
     "text": [
      "Hourly data for BGTG.JK has been successfully inserted into MySQL.\n"
     ]
    },
    {
     "name": "stderr",
     "output_type": "stream",
     "text": [
      "[*********************100%***********************]  1 of 1 completed\n",
      "[*********************100%***********************]  1 of 1 completed"
     ]
    },
    {
     "name": "stdout",
     "output_type": "stream",
     "text": [
      "Hourly data for BHIT.JK has been successfully inserted into MySQL.\n",
      "Hourly data for BIKA.JK has been successfully inserted into MySQL.\n"
     ]
    },
    {
     "name": "stderr",
     "output_type": "stream",
     "text": [
      "\n",
      "[*********************100%***********************]  1 of 1 completed\n",
      "[*********************100%***********************]  1 of 1 completed"
     ]
    },
    {
     "name": "stdout",
     "output_type": "stream",
     "text": [
      "Hourly data for BIMA.JK has been successfully inserted into MySQL.\n"
     ]
    },
    {
     "name": "stderr",
     "output_type": "stream",
     "text": [
      "\n"
     ]
    },
    {
     "name": "stdout",
     "output_type": "stream",
     "text": [
      "Hourly data for BINA.JK has been successfully inserted into MySQL.\n"
     ]
    },
    {
     "name": "stderr",
     "output_type": "stream",
     "text": [
      "[*********************100%***********************]  1 of 1 completed\n",
      "[*********************100%***********************]  1 of 1 completed\n"
     ]
    },
    {
     "name": "stdout",
     "output_type": "stream",
     "text": [
      "Hourly data for BIPI.JK has been successfully inserted into MySQL.\n",
      "Hourly data for BIPP.JK has been successfully inserted into MySQL.\n"
     ]
    },
    {
     "name": "stderr",
     "output_type": "stream",
     "text": [
      "[*********************100%***********************]  1 of 1 completed\n"
     ]
    },
    {
     "name": "stdout",
     "output_type": "stream",
     "text": [
      "Hourly data for BIRD.JK has been successfully inserted into MySQL.\n"
     ]
    },
    {
     "name": "stderr",
     "output_type": "stream",
     "text": [
      "[*********************100%***********************]  1 of 1 completed\n"
     ]
    },
    {
     "name": "stdout",
     "output_type": "stream",
     "text": [
      "Hourly data for BISI.JK has been successfully inserted into MySQL.\n"
     ]
    },
    {
     "name": "stderr",
     "output_type": "stream",
     "text": [
      "[*********************100%***********************]  1 of 1 completed\n"
     ]
    },
    {
     "name": "stdout",
     "output_type": "stream",
     "text": [
      "Hourly data for BJBR.JK has been successfully inserted into MySQL.\n"
     ]
    },
    {
     "name": "stderr",
     "output_type": "stream",
     "text": [
      "[*********************100%***********************]  1 of 1 completed\n"
     ]
    },
    {
     "name": "stdout",
     "output_type": "stream",
     "text": [
      "Hourly data for BJTM.JK has been successfully inserted into MySQL.\n"
     ]
    },
    {
     "name": "stderr",
     "output_type": "stream",
     "text": [
      "[*********************100%***********************]  1 of 1 completed\n"
     ]
    },
    {
     "name": "stdout",
     "output_type": "stream",
     "text": [
      "Hourly data for BKDP.JK has been successfully inserted into MySQL.\n"
     ]
    },
    {
     "name": "stderr",
     "output_type": "stream",
     "text": [
      "[*********************100%***********************]  1 of 1 completed\n"
     ]
    },
    {
     "name": "stdout",
     "output_type": "stream",
     "text": [
      "Hourly data for BKSL.JK has been successfully inserted into MySQL.\n"
     ]
    },
    {
     "name": "stderr",
     "output_type": "stream",
     "text": [
      "[*********************100%***********************]  1 of 1 completed\n"
     ]
    },
    {
     "name": "stdout",
     "output_type": "stream",
     "text": [
      "Hourly data for BKSW.JK has been successfully inserted into MySQL.\n"
     ]
    },
    {
     "name": "stderr",
     "output_type": "stream",
     "text": [
      "[*********************100%***********************]  1 of 1 completed\n"
     ]
    },
    {
     "name": "stdout",
     "output_type": "stream",
     "text": [
      "Hourly data for BLTA.JK has been successfully inserted into MySQL.\n"
     ]
    },
    {
     "name": "stderr",
     "output_type": "stream",
     "text": [
      "[*********************100%***********************]  1 of 1 completed\n",
      "[*********************100%***********************]  1 of 1 completed"
     ]
    },
    {
     "name": "stdout",
     "output_type": "stream",
     "text": [
      "Hourly data for BLTZ.JK has been successfully inserted into MySQL.\n",
      "Hourly data for BMAS.JK has been successfully inserted into MySQL.\n"
     ]
    },
    {
     "name": "stderr",
     "output_type": "stream",
     "text": [
      "\n",
      "[*********************100%***********************]  1 of 1 completed\n"
     ]
    },
    {
     "name": "stdout",
     "output_type": "stream",
     "text": [
      "Hourly data for BMRI.JK has been successfully inserted into MySQL.\n"
     ]
    },
    {
     "name": "stderr",
     "output_type": "stream",
     "text": [
      "[*********************100%***********************]  1 of 1 completed\n",
      "[*********************100%***********************]  1 of 1 completed\n"
     ]
    },
    {
     "name": "stdout",
     "output_type": "stream",
     "text": [
      "Hourly data for BMSR.JK has been successfully inserted into MySQL.\n",
      "Hourly data for BMTR.JK has been successfully inserted into MySQL.\n"
     ]
    },
    {
     "name": "stderr",
     "output_type": "stream",
     "text": [
      "[*********************100%***********************]  1 of 1 completed\n"
     ]
    },
    {
     "name": "stdout",
     "output_type": "stream",
     "text": [
      "Hourly data for BNBA.JK has been successfully inserted into MySQL.\n"
     ]
    },
    {
     "name": "stderr",
     "output_type": "stream",
     "text": [
      "[*********************100%***********************]  1 of 1 completed\n"
     ]
    },
    {
     "name": "stdout",
     "output_type": "stream",
     "text": [
      "Hourly data for BNBR.JK has been successfully inserted into MySQL.\n"
     ]
    },
    {
     "name": "stderr",
     "output_type": "stream",
     "text": [
      "[*********************100%***********************]  1 of 1 completed\n"
     ]
    },
    {
     "name": "stdout",
     "output_type": "stream",
     "text": [
      "Hourly data for BNGA.JK has been successfully inserted into MySQL.\n"
     ]
    },
    {
     "name": "stderr",
     "output_type": "stream",
     "text": [
      "[*********************100%***********************]  1 of 1 completed\n"
     ]
    },
    {
     "name": "stdout",
     "output_type": "stream",
     "text": [
      "Hourly data for BNII.JK has been successfully inserted into MySQL.\n"
     ]
    },
    {
     "name": "stderr",
     "output_type": "stream",
     "text": [
      "[*********************100%***********************]  1 of 1 completed\n",
      "[*********************100%***********************]  1 of 1 completed"
     ]
    },
    {
     "name": "stdout",
     "output_type": "stream",
     "text": [
      "Hourly data for BNLI.JK has been successfully inserted into MySQL.\n"
     ]
    },
    {
     "name": "stderr",
     "output_type": "stream",
     "text": [
      "\n",
      "[*********************100%***********************]  1 of 1 completed\n"
     ]
    },
    {
     "name": "stdout",
     "output_type": "stream",
     "text": [
      "Hourly data for BOLT.JK has been successfully inserted into MySQL.\n",
      "Hourly data for BPFI.JK has been successfully inserted into MySQL.\n"
     ]
    },
    {
     "name": "stderr",
     "output_type": "stream",
     "text": [
      "[*********************100%***********************]  1 of 1 completed\n"
     ]
    },
    {
     "name": "stdout",
     "output_type": "stream",
     "text": [
      "Hourly data for BPII.JK has been successfully inserted into MySQL.\n"
     ]
    },
    {
     "name": "stderr",
     "output_type": "stream",
     "text": [
      "[*********************100%***********************]  1 of 1 completed\n",
      "[*********************100%***********************]  1 of 1 completed"
     ]
    },
    {
     "name": "stdout",
     "output_type": "stream",
     "text": [
      "Hourly data for BRAM.JK has been successfully inserted into MySQL.\n"
     ]
    },
    {
     "name": "stderr",
     "output_type": "stream",
     "text": [
      "\n"
     ]
    },
    {
     "name": "stdout",
     "output_type": "stream",
     "text": [
      "Hourly data for BRMS.JK has been successfully inserted into MySQL.\n"
     ]
    },
    {
     "name": "stderr",
     "output_type": "stream",
     "text": [
      "[*********************100%***********************]  1 of 1 completed\n"
     ]
    },
    {
     "name": "stdout",
     "output_type": "stream",
     "text": [
      "Hourly data for BRNA.JK has been successfully inserted into MySQL.\n"
     ]
    },
    {
     "name": "stderr",
     "output_type": "stream",
     "text": [
      "[*********************100%***********************]  1 of 1 completed\n"
     ]
    },
    {
     "name": "stdout",
     "output_type": "stream",
     "text": [
      "Hourly data for BRPT.JK has been successfully inserted into MySQL.\n"
     ]
    },
    {
     "name": "stderr",
     "output_type": "stream",
     "text": [
      "[*********************100%***********************]  1 of 1 completed\n"
     ]
    },
    {
     "name": "stdout",
     "output_type": "stream",
     "text": [
      "Hourly data for BSDE.JK has been successfully inserted into MySQL.\n"
     ]
    },
    {
     "name": "stderr",
     "output_type": "stream",
     "text": [
      "[*********************100%***********************]  1 of 1 completed\n"
     ]
    },
    {
     "name": "stdout",
     "output_type": "stream",
     "text": [
      "Hourly data for BSIM.JK has been successfully inserted into MySQL.\n"
     ]
    },
    {
     "name": "stderr",
     "output_type": "stream",
     "text": [
      "[*********************100%***********************]  1 of 1 completed\n",
      "[*********************100%***********************]  1 of 1 completed"
     ]
    },
    {
     "name": "stdout",
     "output_type": "stream",
     "text": [
      "Hourly data for BSSR.JK has been successfully inserted into MySQL.\n"
     ]
    },
    {
     "name": "stderr",
     "output_type": "stream",
     "text": [
      "\n"
     ]
    },
    {
     "name": "stdout",
     "output_type": "stream",
     "text": [
      "Hourly data for BSWD.JK has been successfully inserted into MySQL.\n"
     ]
    },
    {
     "name": "stderr",
     "output_type": "stream",
     "text": [
      "[*********************100%***********************]  1 of 1 completed\n",
      "[*********************100%***********************]  1 of 1 completed"
     ]
    },
    {
     "name": "stdout",
     "output_type": "stream",
     "text": [
      "Hourly data for BTEK.JK has been successfully inserted into MySQL.\n",
      "Hourly data for BTEL.JK has been successfully inserted into MySQL.\n"
     ]
    },
    {
     "name": "stderr",
     "output_type": "stream",
     "text": [
      "\n",
      "[*********************100%***********************]  1 of 1 completed\n"
     ]
    },
    {
     "name": "stdout",
     "output_type": "stream",
     "text": [
      "Hourly data for BTON.JK has been successfully inserted into MySQL.\n"
     ]
    },
    {
     "name": "stderr",
     "output_type": "stream",
     "text": [
      "[*********************100%***********************]  1 of 1 completed\n"
     ]
    },
    {
     "name": "stdout",
     "output_type": "stream",
     "text": [
      "Hourly data for BTPN.JK has been successfully inserted into MySQL.\n"
     ]
    },
    {
     "name": "stderr",
     "output_type": "stream",
     "text": [
      "[*********************100%***********************]  1 of 1 completed\n"
     ]
    },
    {
     "name": "stdout",
     "output_type": "stream",
     "text": [
      "Hourly data for BUDI.JK has been successfully inserted into MySQL.\n"
     ]
    },
    {
     "name": "stderr",
     "output_type": "stream",
     "text": [
      "[*********************100%***********************]  1 of 1 completed\n"
     ]
    },
    {
     "name": "stdout",
     "output_type": "stream",
     "text": [
      "Hourly data for BUKK.JK has been successfully inserted into MySQL.\n"
     ]
    },
    {
     "name": "stderr",
     "output_type": "stream",
     "text": [
      "[*********************100%***********************]  1 of 1 completed\n"
     ]
    },
    {
     "name": "stdout",
     "output_type": "stream",
     "text": [
      "Hourly data for BULL.JK has been successfully inserted into MySQL.\n"
     ]
    },
    {
     "name": "stderr",
     "output_type": "stream",
     "text": [
      "[*********************100%***********************]  1 of 1 completed\n"
     ]
    },
    {
     "name": "stdout",
     "output_type": "stream",
     "text": [
      "Hourly data for BUMI.JK has been successfully inserted into MySQL.\n"
     ]
    },
    {
     "name": "stderr",
     "output_type": "stream",
     "text": [
      "[*********************100%***********************]  1 of 1 completed\n"
     ]
    },
    {
     "name": "stdout",
     "output_type": "stream",
     "text": [
      "Hourly data for BUVA.JK has been successfully inserted into MySQL.\n"
     ]
    },
    {
     "name": "stderr",
     "output_type": "stream",
     "text": [
      "[*********************100%***********************]  1 of 1 completed\n"
     ]
    },
    {
     "name": "stdout",
     "output_type": "stream",
     "text": [
      "Hourly data for BVIC.JK has been successfully inserted into MySQL.\n"
     ]
    },
    {
     "name": "stderr",
     "output_type": "stream",
     "text": [
      "[*********************100%***********************]  1 of 1 completed\n"
     ]
    },
    {
     "name": "stdout",
     "output_type": "stream",
     "text": [
      "Hourly data for BWPT.JK has been successfully inserted into MySQL.\n"
     ]
    },
    {
     "name": "stderr",
     "output_type": "stream",
     "text": [
      "[*********************100%***********************]  1 of 1 completed\n"
     ]
    },
    {
     "name": "stdout",
     "output_type": "stream",
     "text": [
      "Hourly data for BYAN.JK has been successfully inserted into MySQL.\n"
     ]
    },
    {
     "name": "stderr",
     "output_type": "stream",
     "text": [
      "[*********************100%***********************]  1 of 1 completed\n"
     ]
    },
    {
     "name": "stdout",
     "output_type": "stream",
     "text": [
      "Hourly data for CANI.JK has been successfully inserted into MySQL.\n"
     ]
    },
    {
     "name": "stderr",
     "output_type": "stream",
     "text": [
      "[*********************100%***********************]  1 of 1 completed\n"
     ]
    },
    {
     "name": "stdout",
     "output_type": "stream",
     "text": [
      "Hourly data for CASS.JK has been successfully inserted into MySQL.\n"
     ]
    },
    {
     "name": "stderr",
     "output_type": "stream",
     "text": [
      "[*********************100%***********************]  1 of 1 completed\n",
      "[*********************100%***********************]  1 of 1 completed"
     ]
    },
    {
     "name": "stdout",
     "output_type": "stream",
     "text": [
      "Hourly data for CEKA.JK has been successfully inserted into MySQL.\n",
      "Hourly data for CENT.JK has been successfully inserted into MySQL.\n"
     ]
    },
    {
     "name": "stderr",
     "output_type": "stream",
     "text": [
      "\n",
      "[*********************100%***********************]  1 of 1 completed\n"
     ]
    },
    {
     "name": "stdout",
     "output_type": "stream",
     "text": [
      "Hourly data for CFIN.JK has been successfully inserted into MySQL.\n"
     ]
    },
    {
     "name": "stderr",
     "output_type": "stream",
     "text": [
      "[*********************100%***********************]  1 of 1 completed\n",
      "[*********************100%***********************]  1 of 1 completed\n"
     ]
    },
    {
     "name": "stdout",
     "output_type": "stream",
     "text": [
      "Hourly data for CINT.JK has been successfully inserted into MySQL.\n",
      "Hourly data for CITA.JK has been successfully inserted into MySQL.\n"
     ]
    },
    {
     "name": "stderr",
     "output_type": "stream",
     "text": [
      "[*********************100%***********************]  1 of 1 completed\n"
     ]
    },
    {
     "name": "stdout",
     "output_type": "stream",
     "text": [
      "Hourly data for CLPI.JK has been successfully inserted into MySQL.\n"
     ]
    },
    {
     "name": "stderr",
     "output_type": "stream",
     "text": [
      "[*********************100%***********************]  1 of 1 completed\n"
     ]
    },
    {
     "name": "stdout",
     "output_type": "stream",
     "text": [
      "Hourly data for CMNP.JK has been successfully inserted into MySQL.\n"
     ]
    },
    {
     "name": "stderr",
     "output_type": "stream",
     "text": [
      "[*********************100%***********************]  1 of 1 completed\n",
      "[*********************100%***********************]  1 of 1 completed"
     ]
    },
    {
     "name": "stdout",
     "output_type": "stream",
     "text": [
      "Hourly data for CMPP.JK has been successfully inserted into MySQL.\n"
     ]
    },
    {
     "name": "stderr",
     "output_type": "stream",
     "text": [
      "\n"
     ]
    },
    {
     "name": "stdout",
     "output_type": "stream",
     "text": [
      "Hourly data for CNKO.JK has been successfully inserted into MySQL.\n"
     ]
    },
    {
     "name": "stderr",
     "output_type": "stream",
     "text": [
      "[*********************100%***********************]  1 of 1 completed\n",
      "[*********************100%***********************]  1 of 1 completed"
     ]
    },
    {
     "name": "stdout",
     "output_type": "stream",
     "text": [
      "Hourly data for CNTX.JK has been successfully inserted into MySQL.\n",
      "Hourly data for COWL.JK has been successfully inserted into MySQL.\n"
     ]
    },
    {
     "name": "stderr",
     "output_type": "stream",
     "text": [
      "\n",
      "[*********************100%***********************]  1 of 1 completed\n"
     ]
    },
    {
     "name": "stdout",
     "output_type": "stream",
     "text": [
      "Hourly data for CPIN.JK has been successfully inserted into MySQL.\n"
     ]
    },
    {
     "name": "stderr",
     "output_type": "stream",
     "text": [
      "[*********************100%***********************]  1 of 1 completed\n",
      "[*********************100%***********************]  1 of 1 completed"
     ]
    },
    {
     "name": "stdout",
     "output_type": "stream",
     "text": [
      "Hourly data for CPRO.JK has been successfully inserted into MySQL.\n"
     ]
    },
    {
     "name": "stderr",
     "output_type": "stream",
     "text": [
      "\n",
      "[*********************100%***********************]  1 of 1 completed"
     ]
    },
    {
     "name": "stdout",
     "output_type": "stream",
     "text": [
      "Hourly data for CSAP.JK has been successfully inserted into MySQL.\n",
      "Hourly data for CTBN.JK has been successfully inserted into MySQL.\n"
     ]
    },
    {
     "name": "stderr",
     "output_type": "stream",
     "text": [
      "\n",
      "[*********************100%***********************]  1 of 1 completed\n"
     ]
    },
    {
     "name": "stdout",
     "output_type": "stream",
     "text": [
      "Hourly data for CTRA.JK has been successfully inserted into MySQL.\n"
     ]
    },
    {
     "name": "stderr",
     "output_type": "stream",
     "text": [
      "[*********************100%***********************]  1 of 1 completed\n"
     ]
    },
    {
     "name": "stdout",
     "output_type": "stream",
     "text": [
      "Hourly data for CTTH.JK has been successfully inserted into MySQL.\n"
     ]
    },
    {
     "name": "stderr",
     "output_type": "stream",
     "text": [
      "[*********************100%***********************]  1 of 1 completed\n",
      "[*********************100%***********************]  1 of 1 completed\n"
     ]
    },
    {
     "name": "stdout",
     "output_type": "stream",
     "text": [
      "Hourly data for DART.JK has been successfully inserted into MySQL.\n",
      "Hourly data for DEFI.JK has been successfully inserted into MySQL.\n"
     ]
    },
    {
     "name": "stderr",
     "output_type": "stream",
     "text": [
      "[*********************100%***********************]  1 of 1 completed\n"
     ]
    },
    {
     "name": "stdout",
     "output_type": "stream",
     "text": [
      "Hourly data for DEWA.JK has been successfully inserted into MySQL.\n"
     ]
    },
    {
     "name": "stderr",
     "output_type": "stream",
     "text": [
      "[*********************100%***********************]  1 of 1 completed\n"
     ]
    },
    {
     "name": "stdout",
     "output_type": "stream",
     "text": [
      "Hourly data for DGIK.JK has been successfully inserted into MySQL.\n"
     ]
    },
    {
     "name": "stderr",
     "output_type": "stream",
     "text": [
      "[*********************100%***********************]  1 of 1 completed\n"
     ]
    },
    {
     "name": "stdout",
     "output_type": "stream",
     "text": [
      "Hourly data for DILD.JK has been successfully inserted into MySQL.\n"
     ]
    },
    {
     "name": "stderr",
     "output_type": "stream",
     "text": [
      "[*********************100%***********************]  1 of 1 completed\n"
     ]
    },
    {
     "name": "stdout",
     "output_type": "stream",
     "text": [
      "Hourly data for DKFT.JK has been successfully inserted into MySQL.\n"
     ]
    },
    {
     "name": "stderr",
     "output_type": "stream",
     "text": [
      "[*********************100%***********************]  1 of 1 completed\n"
     ]
    },
    {
     "name": "stdout",
     "output_type": "stream",
     "text": [
      "Hourly data for DLTA.JK has been successfully inserted into MySQL.\n"
     ]
    },
    {
     "name": "stderr",
     "output_type": "stream",
     "text": [
      "[*********************100%***********************]  1 of 1 completed\n"
     ]
    },
    {
     "name": "stdout",
     "output_type": "stream",
     "text": [
      "Hourly data for DMAS.JK has been successfully inserted into MySQL.\n"
     ]
    },
    {
     "name": "stderr",
     "output_type": "stream",
     "text": [
      "[*********************100%***********************]  1 of 1 completed\n"
     ]
    },
    {
     "name": "stdout",
     "output_type": "stream",
     "text": [
      "Hourly data for DNAR.JK has been successfully inserted into MySQL.\n"
     ]
    },
    {
     "name": "stderr",
     "output_type": "stream",
     "text": [
      "[*********************100%***********************]  1 of 1 completed\n"
     ]
    },
    {
     "name": "stdout",
     "output_type": "stream",
     "text": [
      "Hourly data for DNET.JK has been successfully inserted into MySQL.\n"
     ]
    },
    {
     "name": "stderr",
     "output_type": "stream",
     "text": [
      "[*********************100%***********************]  1 of 1 completed\n"
     ]
    },
    {
     "name": "stdout",
     "output_type": "stream",
     "text": [
      "Hourly data for DOID.JK has been successfully inserted into MySQL.\n"
     ]
    },
    {
     "name": "stderr",
     "output_type": "stream",
     "text": [
      "[*********************100%***********************]  1 of 1 completed\n"
     ]
    },
    {
     "name": "stdout",
     "output_type": "stream",
     "text": [
      "Hourly data for DPNS.JK has been successfully inserted into MySQL.\n"
     ]
    },
    {
     "name": "stderr",
     "output_type": "stream",
     "text": [
      "[*********************100%***********************]  1 of 1 completed\n"
     ]
    },
    {
     "name": "stdout",
     "output_type": "stream",
     "text": [
      "Hourly data for DSFI.JK has been successfully inserted into MySQL.\n"
     ]
    },
    {
     "name": "stderr",
     "output_type": "stream",
     "text": [
      "[*********************100%***********************]  1 of 1 completed\n"
     ]
    },
    {
     "name": "stdout",
     "output_type": "stream",
     "text": [
      "Hourly data for DSNG.JK has been successfully inserted into MySQL.\n"
     ]
    },
    {
     "name": "stderr",
     "output_type": "stream",
     "text": [
      "[*********************100%***********************]  1 of 1 completed\n"
     ]
    },
    {
     "name": "stdout",
     "output_type": "stream",
     "text": [
      "Hourly data for DSSA.JK has been successfully inserted into MySQL.\n"
     ]
    },
    {
     "name": "stderr",
     "output_type": "stream",
     "text": [
      "[*********************100%***********************]  1 of 1 completed\n"
     ]
    },
    {
     "name": "stdout",
     "output_type": "stream",
     "text": [
      "Hourly data for DUTI.JK has been successfully inserted into MySQL.\n"
     ]
    },
    {
     "name": "stderr",
     "output_type": "stream",
     "text": [
      "[*********************100%***********************]  1 of 1 completed\n"
     ]
    },
    {
     "name": "stdout",
     "output_type": "stream",
     "text": [
      "Hourly data for DVLA.JK has been successfully inserted into MySQL.\n"
     ]
    },
    {
     "name": "stderr",
     "output_type": "stream",
     "text": [
      "[*********************100%***********************]  1 of 1 completed\n"
     ]
    },
    {
     "name": "stdout",
     "output_type": "stream",
     "text": [
      "Hourly data for DYAN.JK has been successfully inserted into MySQL.\n"
     ]
    },
    {
     "name": "stderr",
     "output_type": "stream",
     "text": [
      "[*********************100%***********************]  1 of 1 completed\n",
      "[*********************100%***********************]  1 of 1 completed"
     ]
    },
    {
     "name": "stdout",
     "output_type": "stream",
     "text": [
      "Hourly data for ECII.JK has been successfully inserted into MySQL.\n"
     ]
    },
    {
     "name": "stderr",
     "output_type": "stream",
     "text": [
      "\n",
      "[*********************100%***********************]  1 of 1 completed"
     ]
    },
    {
     "name": "stdout",
     "output_type": "stream",
     "text": [
      "Hourly data for EKAD.JK has been successfully inserted into MySQL.\n"
     ]
    },
    {
     "name": "stderr",
     "output_type": "stream",
     "text": [
      "\n"
     ]
    },
    {
     "name": "stdout",
     "output_type": "stream",
     "text": [
      "Hourly data for ELSA.JK has been successfully inserted into MySQL.\n"
     ]
    },
    {
     "name": "stderr",
     "output_type": "stream",
     "text": [
      "[*********************100%***********************]  1 of 1 completed\n"
     ]
    },
    {
     "name": "stdout",
     "output_type": "stream",
     "text": [
      "Hourly data for ELTY.JK has been successfully inserted into MySQL.\n"
     ]
    },
    {
     "name": "stderr",
     "output_type": "stream",
     "text": [
      "[*********************100%***********************]  1 of 1 completed\n"
     ]
    },
    {
     "name": "stdout",
     "output_type": "stream",
     "text": [
      "Hourly data for EMDE.JK has been successfully inserted into MySQL.\n"
     ]
    },
    {
     "name": "stderr",
     "output_type": "stream",
     "text": [
      "[*********************100%***********************]  1 of 1 completed\n"
     ]
    },
    {
     "name": "stdout",
     "output_type": "stream",
     "text": [
      "Hourly data for EMTK.JK has been successfully inserted into MySQL.\n"
     ]
    },
    {
     "name": "stderr",
     "output_type": "stream",
     "text": [
      "[*********************100%***********************]  1 of 1 completed\n"
     ]
    },
    {
     "name": "stdout",
     "output_type": "stream",
     "text": [
      "Hourly data for ENRG.JK has been successfully inserted into MySQL.\n"
     ]
    },
    {
     "name": "stderr",
     "output_type": "stream",
     "text": [
      "[*********************100%***********************]  1 of 1 completed\n",
      "[*********************100%***********************]  1 of 1 completed"
     ]
    },
    {
     "name": "stdout",
     "output_type": "stream",
     "text": [
      "Hourly data for EPMT.JK has been successfully inserted into MySQL.\n"
     ]
    },
    {
     "name": "stderr",
     "output_type": "stream",
     "text": [
      "\n"
     ]
    },
    {
     "name": "stdout",
     "output_type": "stream",
     "text": [
      "Hourly data for ERAA.JK has been successfully inserted into MySQL.\n"
     ]
    },
    {
     "name": "stderr",
     "output_type": "stream",
     "text": [
      "[*********************100%***********************]  1 of 1 completed\n"
     ]
    },
    {
     "name": "stdout",
     "output_type": "stream",
     "text": [
      "Hourly data for ERTX.JK has been successfully inserted into MySQL.\n"
     ]
    },
    {
     "name": "stderr",
     "output_type": "stream",
     "text": [
      "[*********************100%***********************]  1 of 1 completed\n",
      "[*********************100%***********************]  1 of 1 completed"
     ]
    },
    {
     "name": "stdout",
     "output_type": "stream",
     "text": [
      "Hourly data for ESSA.JK has been successfully inserted into MySQL.\n",
      "Hourly data for ESTI.JK has been successfully inserted into MySQL.\n"
     ]
    },
    {
     "name": "stderr",
     "output_type": "stream",
     "text": [
      "\n",
      "[*********************100%***********************]  1 of 1 completed\n"
     ]
    },
    {
     "name": "stdout",
     "output_type": "stream",
     "text": [
      "Hourly data for ETWA.JK has been successfully inserted into MySQL.\n"
     ]
    },
    {
     "name": "stderr",
     "output_type": "stream",
     "text": [
      "[*********************100%***********************]  1 of 1 completed\n",
      "[*********************100%***********************]  1 of 1 completed"
     ]
    },
    {
     "name": "stdout",
     "output_type": "stream",
     "text": [
      "Hourly data for EXCL.JK has been successfully inserted into MySQL.\n"
     ]
    },
    {
     "name": "stderr",
     "output_type": "stream",
     "text": [
      "\n",
      "[*********************100%***********************]  1 of 1 completed"
     ]
    },
    {
     "name": "stdout",
     "output_type": "stream",
     "text": [
      "Hourly data for FAST.JK has been successfully inserted into MySQL.\n",
      "Hourly data for FASW.JK has been successfully inserted into MySQL.\n"
     ]
    },
    {
     "name": "stderr",
     "output_type": "stream",
     "text": [
      "\n",
      "[*********************100%***********************]  1 of 1 completed\n",
      "[*********************100%***********************]  1 of 1 completed"
     ]
    },
    {
     "name": "stdout",
     "output_type": "stream",
     "text": [
      "Hourly data for FISH.JK has been successfully inserted into MySQL.\n"
     ]
    },
    {
     "name": "stderr",
     "output_type": "stream",
     "text": [
      "\n",
      "[*********************100%***********************]  1 of 1 completed"
     ]
    },
    {
     "name": "stdout",
     "output_type": "stream",
     "text": [
      "Hourly data for FMII.JK has been successfully inserted into MySQL.\n",
      "Hourly data for FORU.JK has been successfully inserted into MySQL.\n"
     ]
    },
    {
     "name": "stderr",
     "output_type": "stream",
     "text": [
      "\n",
      "[*********************100%***********************]  1 of 1 completed\n",
      "[*********************100%***********************]  1 of 1 completed"
     ]
    },
    {
     "name": "stdout",
     "output_type": "stream",
     "text": [
      "Hourly data for FPNI.JK has been successfully inserted into MySQL.\n"
     ]
    },
    {
     "name": "stderr",
     "output_type": "stream",
     "text": [
      "\n",
      "[*********************100%***********************]  1 of 1 completed\n"
     ]
    },
    {
     "name": "stdout",
     "output_type": "stream",
     "text": [
      "Hourly data for FREN.JK has been successfully inserted into MySQL.\n",
      "Hourly data for GAMA.JK has been successfully inserted into MySQL.\n"
     ]
    },
    {
     "name": "stderr",
     "output_type": "stream",
     "text": [
      "[*********************100%***********************]  1 of 1 completed\n"
     ]
    },
    {
     "name": "stdout",
     "output_type": "stream",
     "text": [
      "Hourly data for GDST.JK has been successfully inserted into MySQL.\n"
     ]
    },
    {
     "name": "stderr",
     "output_type": "stream",
     "text": [
      "[*********************100%***********************]  1 of 1 completed\n",
      "[*********************100%***********************]  1 of 1 completed"
     ]
    },
    {
     "name": "stdout",
     "output_type": "stream",
     "text": [
      "Hourly data for GDYR.JK has been successfully inserted into MySQL.\n"
     ]
    },
    {
     "name": "stderr",
     "output_type": "stream",
     "text": [
      "\n",
      "[*********************100%***********************]  1 of 1 completed"
     ]
    },
    {
     "name": "stdout",
     "output_type": "stream",
     "text": [
      "Hourly data for GEMA.JK has been successfully inserted into MySQL.\n"
     ]
    },
    {
     "name": "stderr",
     "output_type": "stream",
     "text": [
      "\n"
     ]
    },
    {
     "name": "stdout",
     "output_type": "stream",
     "text": [
      "Hourly data for GEMS.JK has been successfully inserted into MySQL.\n"
     ]
    },
    {
     "name": "stderr",
     "output_type": "stream",
     "text": [
      "[*********************100%***********************]  1 of 1 completed\n"
     ]
    },
    {
     "name": "stdout",
     "output_type": "stream",
     "text": [
      "Hourly data for GGRM.JK has been successfully inserted into MySQL.\n"
     ]
    },
    {
     "name": "stderr",
     "output_type": "stream",
     "text": [
      "[*********************100%***********************]  1 of 1 completed\n"
     ]
    },
    {
     "name": "stdout",
     "output_type": "stream",
     "text": [
      "Hourly data for GIAA.JK has been successfully inserted into MySQL.\n"
     ]
    },
    {
     "name": "stderr",
     "output_type": "stream",
     "text": [
      "[*********************100%***********************]  1 of 1 completed\n",
      "[*********************100%***********************]  1 of 1 completed"
     ]
    },
    {
     "name": "stdout",
     "output_type": "stream",
     "text": [
      "Hourly data for GJTL.JK has been successfully inserted into MySQL.\n"
     ]
    },
    {
     "name": "stderr",
     "output_type": "stream",
     "text": [
      "\n"
     ]
    },
    {
     "name": "stdout",
     "output_type": "stream",
     "text": [
      "Hourly data for GLOB.JK has been successfully inserted into MySQL.\n"
     ]
    },
    {
     "name": "stderr",
     "output_type": "stream",
     "text": [
      "[*********************100%***********************]  1 of 1 completed\n"
     ]
    },
    {
     "name": "stdout",
     "output_type": "stream",
     "text": [
      "Hourly data for GMTD.JK has been successfully inserted into MySQL.\n"
     ]
    },
    {
     "name": "stderr",
     "output_type": "stream",
     "text": [
      "[*********************100%***********************]  1 of 1 completed\n",
      "[*********************100%***********************]  1 of 1 completed"
     ]
    },
    {
     "name": "stdout",
     "output_type": "stream",
     "text": [
      "Hourly data for GOLD.JK has been successfully inserted into MySQL.\n",
      "Hourly data for GOLL.JK has been successfully inserted into MySQL.\n"
     ]
    },
    {
     "name": "stderr",
     "output_type": "stream",
     "text": [
      "\n",
      "[*********************100%***********************]  1 of 1 completed\n"
     ]
    },
    {
     "name": "stdout",
     "output_type": "stream",
     "text": [
      "Hourly data for GPRA.JK has been successfully inserted into MySQL.\n"
     ]
    },
    {
     "name": "stderr",
     "output_type": "stream",
     "text": [
      "[*********************100%***********************]  1 of 1 completed\n"
     ]
    },
    {
     "name": "stdout",
     "output_type": "stream",
     "text": [
      "Hourly data for GSMF.JK has been successfully inserted into MySQL.\n"
     ]
    },
    {
     "name": "stderr",
     "output_type": "stream",
     "text": [
      "[*********************100%***********************]  1 of 1 completed\n"
     ]
    },
    {
     "name": "stdout",
     "output_type": "stream",
     "text": [
      "Hourly data for GTBO.JK has been successfully inserted into MySQL.\n"
     ]
    },
    {
     "name": "stderr",
     "output_type": "stream",
     "text": [
      "[*********************100%***********************]  1 of 1 completed\n"
     ]
    },
    {
     "name": "stdout",
     "output_type": "stream",
     "text": [
      "Hourly data for GWSA.JK has been successfully inserted into MySQL.\n"
     ]
    },
    {
     "name": "stderr",
     "output_type": "stream",
     "text": [
      "[*********************100%***********************]  1 of 1 completed\n"
     ]
    },
    {
     "name": "stdout",
     "output_type": "stream",
     "text": [
      "Hourly data for GZCO.JK has been successfully inserted into MySQL.\n"
     ]
    },
    {
     "name": "stderr",
     "output_type": "stream",
     "text": [
      "[*********************100%***********************]  1 of 1 completed\n"
     ]
    },
    {
     "name": "stdout",
     "output_type": "stream",
     "text": [
      "Hourly data for HADE.JK has been successfully inserted into MySQL.\n"
     ]
    },
    {
     "name": "stderr",
     "output_type": "stream",
     "text": [
      "[*********************100%***********************]  1 of 1 completed\n",
      "[*********************100%***********************]  1 of 1 completed"
     ]
    },
    {
     "name": "stdout",
     "output_type": "stream",
     "text": [
      "Hourly data for HDFA.JK has been successfully inserted into MySQL.\n",
      "Hourly data for HDTX.JK has been successfully inserted into MySQL.\n"
     ]
    },
    {
     "name": "stderr",
     "output_type": "stream",
     "text": [
      "\n",
      "[*********************100%***********************]  1 of 1 completed\n"
     ]
    },
    {
     "name": "stdout",
     "output_type": "stream",
     "text": [
      "Hourly data for HERO.JK has been successfully inserted into MySQL.\n"
     ]
    },
    {
     "name": "stderr",
     "output_type": "stream",
     "text": [
      "[*********************100%***********************]  1 of 1 completed\n",
      "[*********************100%***********************]  1 of 1 completed"
     ]
    },
    {
     "name": "stdout",
     "output_type": "stream",
     "text": [
      "Hourly data for HEXA.JK has been successfully inserted into MySQL.\n",
      "Hourly data for HITS.JK has been successfully inserted into MySQL.\n"
     ]
    },
    {
     "name": "stderr",
     "output_type": "stream",
     "text": [
      "\n",
      "[*********************100%***********************]  1 of 1 completed\n"
     ]
    },
    {
     "name": "stdout",
     "output_type": "stream",
     "text": [
      "Hourly data for HMSP.JK has been successfully inserted into MySQL.\n"
     ]
    },
    {
     "name": "stderr",
     "output_type": "stream",
     "text": [
      "[*********************100%***********************]  1 of 1 completed\n",
      "[*********************100%***********************]  1 of 1 completed\n"
     ]
    },
    {
     "name": "stdout",
     "output_type": "stream",
     "text": [
      "Hourly data for HOME.JK has been successfully inserted into MySQL.\n",
      "Hourly data for HOTL.JK has been successfully inserted into MySQL.\n"
     ]
    },
    {
     "name": "stderr",
     "output_type": "stream",
     "text": [
      "[*********************100%***********************]  1 of 1 completed\n"
     ]
    },
    {
     "name": "stdout",
     "output_type": "stream",
     "text": [
      "Hourly data for HRUM.JK has been successfully inserted into MySQL.\n"
     ]
    },
    {
     "name": "stderr",
     "output_type": "stream",
     "text": [
      "[*********************100%***********************]  1 of 1 completed\n"
     ]
    },
    {
     "name": "stdout",
     "output_type": "stream",
     "text": [
      "Hourly data for IATA.JK has been successfully inserted into MySQL.\n"
     ]
    },
    {
     "name": "stderr",
     "output_type": "stream",
     "text": [
      "[*********************100%***********************]  1 of 1 completed\n"
     ]
    },
    {
     "name": "stdout",
     "output_type": "stream",
     "text": [
      "Hourly data for IBFN.JK has been successfully inserted into MySQL.\n"
     ]
    },
    {
     "name": "stderr",
     "output_type": "stream",
     "text": [
      "[*********************100%***********************]  1 of 1 completed\n"
     ]
    },
    {
     "name": "stdout",
     "output_type": "stream",
     "text": [
      "Hourly data for IBST.JK has been successfully inserted into MySQL.\n"
     ]
    },
    {
     "name": "stderr",
     "output_type": "stream",
     "text": [
      "[*********************100%***********************]  1 of 1 completed\n"
     ]
    },
    {
     "name": "stdout",
     "output_type": "stream",
     "text": [
      "Hourly data for ICBP.JK has been successfully inserted into MySQL.\n"
     ]
    },
    {
     "name": "stderr",
     "output_type": "stream",
     "text": [
      "[*********************100%***********************]  1 of 1 completed\n"
     ]
    },
    {
     "name": "stdout",
     "output_type": "stream",
     "text": [
      "Hourly data for ICON.JK has been successfully inserted into MySQL.\n"
     ]
    },
    {
     "name": "stderr",
     "output_type": "stream",
     "text": [
      "[*********************100%***********************]  1 of 1 completed\n",
      "[*********************100%***********************]  1 of 1 completed\n"
     ]
    },
    {
     "name": "stdout",
     "output_type": "stream",
     "text": [
      "Hourly data for IGAR.JK has been successfully inserted into MySQL.\n",
      "Hourly data for IIKP.JK has been successfully inserted into MySQL.\n"
     ]
    },
    {
     "name": "stderr",
     "output_type": "stream",
     "text": [
      "[*********************100%***********************]  1 of 1 completed\n"
     ]
    },
    {
     "name": "stdout",
     "output_type": "stream",
     "text": [
      "Hourly data for IKAI.JK has been successfully inserted into MySQL.\n"
     ]
    },
    {
     "name": "stderr",
     "output_type": "stream",
     "text": [
      "[*********************100%***********************]  1 of 1 completed\n"
     ]
    },
    {
     "name": "stdout",
     "output_type": "stream",
     "text": [
      "Hourly data for IKBI.JK has been successfully inserted into MySQL.\n"
     ]
    },
    {
     "name": "stderr",
     "output_type": "stream",
     "text": [
      "[*********************100%***********************]  1 of 1 completed\n"
     ]
    },
    {
     "name": "stdout",
     "output_type": "stream",
     "text": [
      "Hourly data for IMAS.JK has been successfully inserted into MySQL.\n"
     ]
    },
    {
     "name": "stderr",
     "output_type": "stream",
     "text": [
      "[*********************100%***********************]  1 of 1 completed\n"
     ]
    },
    {
     "name": "stdout",
     "output_type": "stream",
     "text": [
      "Hourly data for IMJS.JK has been successfully inserted into MySQL.\n"
     ]
    },
    {
     "name": "stderr",
     "output_type": "stream",
     "text": [
      "[*********************100%***********************]  1 of 1 completed\n",
      "[*********************100%***********************]  1 of 1 completed"
     ]
    },
    {
     "name": "stdout",
     "output_type": "stream",
     "text": [
      "Hourly data for IMPC.JK has been successfully inserted into MySQL.\n",
      "Hourly data for INAF.JK has been successfully inserted into MySQL.\n"
     ]
    },
    {
     "name": "stderr",
     "output_type": "stream",
     "text": [
      "\n",
      "[*********************100%***********************]  1 of 1 completed\n",
      "[*********************100%***********************]  1 of 1 completed\n"
     ]
    },
    {
     "name": "stdout",
     "output_type": "stream",
     "text": [
      "Hourly data for INAI.JK has been successfully inserted into MySQL.\n",
      "Hourly data for INCI.JK has been successfully inserted into MySQL.\n"
     ]
    },
    {
     "name": "stderr",
     "output_type": "stream",
     "text": [
      "[*********************100%***********************]  1 of 1 completed\n"
     ]
    },
    {
     "name": "stdout",
     "output_type": "stream",
     "text": [
      "Hourly data for INCO.JK has been successfully inserted into MySQL.\n"
     ]
    },
    {
     "name": "stderr",
     "output_type": "stream",
     "text": [
      "[*********************100%***********************]  1 of 1 completed\n"
     ]
    },
    {
     "name": "stdout",
     "output_type": "stream",
     "text": [
      "Hourly data for INDF.JK has been successfully inserted into MySQL.\n"
     ]
    },
    {
     "name": "stderr",
     "output_type": "stream",
     "text": [
      "[*********************100%***********************]  1 of 1 completed\n",
      "[*********************100%***********************]  1 of 1 completed"
     ]
    },
    {
     "name": "stdout",
     "output_type": "stream",
     "text": [
      "Hourly data for INDR.JK has been successfully inserted into MySQL.\n",
      "Hourly data for INDS.JK has been successfully inserted into MySQL.\n"
     ]
    },
    {
     "name": "stderr",
     "output_type": "stream",
     "text": [
      "\n",
      "[*********************100%***********************]  1 of 1 completed\n"
     ]
    },
    {
     "name": "stdout",
     "output_type": "stream",
     "text": [
      "Hourly data for INDX.JK has been successfully inserted into MySQL.\n"
     ]
    },
    {
     "name": "stderr",
     "output_type": "stream",
     "text": [
      "[*********************100%***********************]  1 of 1 completed\n",
      "[*********************100%***********************]  1 of 1 completed"
     ]
    },
    {
     "name": "stdout",
     "output_type": "stream",
     "text": [
      "Hourly data for INDY.JK has been successfully inserted into MySQL.\n",
      "Hourly data for INKP.JK has been successfully inserted into MySQL.\n"
     ]
    },
    {
     "name": "stderr",
     "output_type": "stream",
     "text": [
      "\n",
      "[*********************100%***********************]  1 of 1 completed\n",
      "[*********************100%***********************]  1 of 1 completed\n"
     ]
    },
    {
     "name": "stdout",
     "output_type": "stream",
     "text": [
      "Hourly data for INPC.JK has been successfully inserted into MySQL.\n",
      "Hourly data for INPP.JK has been successfully inserted into MySQL.\n"
     ]
    },
    {
     "name": "stderr",
     "output_type": "stream",
     "text": [
      "[*********************100%***********************]  1 of 1 completed\n"
     ]
    },
    {
     "name": "stdout",
     "output_type": "stream",
     "text": [
      "Hourly data for INRU.JK has been successfully inserted into MySQL.\n"
     ]
    },
    {
     "name": "stderr",
     "output_type": "stream",
     "text": [
      "[*********************100%***********************]  1 of 1 completed\n"
     ]
    },
    {
     "name": "stdout",
     "output_type": "stream",
     "text": [
      "Hourly data for INTA.JK has been successfully inserted into MySQL.\n"
     ]
    },
    {
     "name": "stderr",
     "output_type": "stream",
     "text": [
      "[*********************100%***********************]  1 of 1 completed\n"
     ]
    },
    {
     "name": "stdout",
     "output_type": "stream",
     "text": [
      "Hourly data for INTD.JK has been successfully inserted into MySQL.\n"
     ]
    },
    {
     "name": "stderr",
     "output_type": "stream",
     "text": [
      "[*********************100%***********************]  1 of 1 completed\n"
     ]
    },
    {
     "name": "stdout",
     "output_type": "stream",
     "text": [
      "Hourly data for INTP.JK has been successfully inserted into MySQL.\n"
     ]
    },
    {
     "name": "stderr",
     "output_type": "stream",
     "text": [
      "[*********************100%***********************]  1 of 1 completed\n"
     ]
    },
    {
     "name": "stdout",
     "output_type": "stream",
     "text": [
      "Hourly data for IPOL.JK has been successfully inserted into MySQL.\n"
     ]
    },
    {
     "name": "stderr",
     "output_type": "stream",
     "text": [
      "[*********************100%***********************]  1 of 1 completed\n"
     ]
    },
    {
     "name": "stdout",
     "output_type": "stream",
     "text": [
      "Hourly data for ISAT.JK has been successfully inserted into MySQL.\n"
     ]
    },
    {
     "name": "stderr",
     "output_type": "stream",
     "text": [
      "[*********************100%***********************]  1 of 1 completed\n"
     ]
    },
    {
     "name": "stdout",
     "output_type": "stream",
     "text": [
      "Hourly data for ISSP.JK has been successfully inserted into MySQL.\n"
     ]
    },
    {
     "name": "stderr",
     "output_type": "stream",
     "text": [
      "[*********************100%***********************]  1 of 1 completed\n"
     ]
    },
    {
     "name": "stdout",
     "output_type": "stream",
     "text": [
      "Hourly data for ITMA.JK has been successfully inserted into MySQL.\n"
     ]
    },
    {
     "name": "stderr",
     "output_type": "stream",
     "text": [
      "[*********************100%***********************]  1 of 1 completed\n"
     ]
    },
    {
     "name": "stdout",
     "output_type": "stream",
     "text": [
      "Hourly data for ITMG.JK has been successfully inserted into MySQL.\n"
     ]
    },
    {
     "name": "stderr",
     "output_type": "stream",
     "text": [
      "[*********************100%***********************]  1 of 1 completed\n",
      "[*********************100%***********************]  1 of 1 completed\n"
     ]
    },
    {
     "name": "stdout",
     "output_type": "stream",
     "text": [
      "Hourly data for JAWA.JK has been successfully inserted into MySQL.\n",
      "Hourly data for JECC.JK has been successfully inserted into MySQL.\n"
     ]
    },
    {
     "name": "stderr",
     "output_type": "stream",
     "text": [
      "[*********************100%***********************]  1 of 1 completed\n",
      "[*********************100%***********************]  1 of 1 completed"
     ]
    },
    {
     "name": "stdout",
     "output_type": "stream",
     "text": [
      "Hourly data for JIHD.JK has been successfully inserted into MySQL.\n",
      "Hourly data for JKON.JK has been successfully inserted into MySQL.\n"
     ]
    },
    {
     "name": "stderr",
     "output_type": "stream",
     "text": [
      "\n",
      "[*********************100%***********************]  1 of 1 completed\n",
      "[*********************100%***********************]  1 of 1 completed\n"
     ]
    },
    {
     "name": "stdout",
     "output_type": "stream",
     "text": [
      "Hourly data for JKSW.JK has been successfully inserted into MySQL.\n",
      "Hourly data for JPFA.JK has been successfully inserted into MySQL.\n"
     ]
    },
    {
     "name": "stderr",
     "output_type": "stream",
     "text": [
      "[*********************100%***********************]  1 of 1 completed\n",
      "[*********************100%***********************]  1 of 1 completed"
     ]
    },
    {
     "name": "stdout",
     "output_type": "stream",
     "text": [
      "Hourly data for JRPT.JK has been successfully inserted into MySQL.\n"
     ]
    },
    {
     "name": "stderr",
     "output_type": "stream",
     "text": [
      "\n",
      "[*********************100%***********************]  1 of 1 completed\n"
     ]
    },
    {
     "name": "stdout",
     "output_type": "stream",
     "text": [
      "Hourly data for JSMR.JK has been successfully inserted into MySQL.\n",
      "Hourly data for JSPT.JK has been successfully inserted into MySQL.\n"
     ]
    },
    {
     "name": "stderr",
     "output_type": "stream",
     "text": [
      "[*********************100%***********************]  1 of 1 completed\n"
     ]
    },
    {
     "name": "stdout",
     "output_type": "stream",
     "text": [
      "Hourly data for JTPE.JK has been successfully inserted into MySQL.\n"
     ]
    },
    {
     "name": "stderr",
     "output_type": "stream",
     "text": [
      "[*********************100%***********************]  1 of 1 completed\n",
      "[*********************100%***********************]  1 of 1 completed\n"
     ]
    },
    {
     "name": "stdout",
     "output_type": "stream",
     "text": [
      "Hourly data for KAEF.JK has been successfully inserted into MySQL.\n",
      "Hourly data for KARW.JK has been successfully inserted into MySQL.\n"
     ]
    },
    {
     "name": "stderr",
     "output_type": "stream",
     "text": [
      "[*********************100%***********************]  1 of 1 completed\n",
      "[*********************100%***********************]  1 of 1 completed"
     ]
    },
    {
     "name": "stdout",
     "output_type": "stream",
     "text": [
      "Hourly data for KBLI.JK has been successfully inserted into MySQL.\n",
      "Hourly data for KBLM.JK has been successfully inserted into MySQL.\n"
     ]
    },
    {
     "name": "stderr",
     "output_type": "stream",
     "text": [
      "\n",
      "[*********************100%***********************]  1 of 1 completed\n",
      "[*********************100%***********************]  1 of 1 completed\n"
     ]
    },
    {
     "name": "stdout",
     "output_type": "stream",
     "text": [
      "Hourly data for KBLV.JK has been successfully inserted into MySQL.\n",
      "Hourly data for KBRI.JK has been successfully inserted into MySQL.\n"
     ]
    },
    {
     "name": "stderr",
     "output_type": "stream",
     "text": [
      "[*********************100%***********************]  1 of 1 completed\n",
      "[*********************100%***********************]  1 of 1 completed"
     ]
    },
    {
     "name": "stdout",
     "output_type": "stream",
     "text": [
      "Hourly data for KDSI.JK has been successfully inserted into MySQL.\n",
      "Hourly data for KIAS.JK has been successfully inserted into MySQL.\n"
     ]
    },
    {
     "name": "stderr",
     "output_type": "stream",
     "text": [
      "\n",
      "[*********************100%***********************]  1 of 1 completed\n"
     ]
    },
    {
     "name": "stdout",
     "output_type": "stream",
     "text": [
      "Hourly data for KICI.JK has been successfully inserted into MySQL.\n"
     ]
    },
    {
     "name": "stderr",
     "output_type": "stream",
     "text": [
      "[*********************100%***********************]  1 of 1 completed\n"
     ]
    },
    {
     "name": "stdout",
     "output_type": "stream",
     "text": [
      "Hourly data for KIJA.JK has been successfully inserted into MySQL.\n"
     ]
    },
    {
     "name": "stderr",
     "output_type": "stream",
     "text": [
      "[*********************100%***********************]  1 of 1 completed\n"
     ]
    },
    {
     "name": "stdout",
     "output_type": "stream",
     "text": [
      "Hourly data for KKGI.JK has been successfully inserted into MySQL.\n"
     ]
    },
    {
     "name": "stderr",
     "output_type": "stream",
     "text": [
      "[*********************100%***********************]  1 of 1 completed\n"
     ]
    },
    {
     "name": "stdout",
     "output_type": "stream",
     "text": [
      "Hourly data for KLBF.JK has been successfully inserted into MySQL.\n"
     ]
    },
    {
     "name": "stderr",
     "output_type": "stream",
     "text": [
      "[*********************100%***********************]  1 of 1 completed\n",
      "[*********************100%***********************]  1 of 1 completed"
     ]
    },
    {
     "name": "stdout",
     "output_type": "stream",
     "text": [
      "Hourly data for KOBX.JK has been successfully inserted into MySQL.\n",
      "Hourly data for KOIN.JK has been successfully inserted into MySQL.\n"
     ]
    },
    {
     "name": "stderr",
     "output_type": "stream",
     "text": [
      "\n",
      "[*********************100%***********************]  1 of 1 completed\n",
      "[*********************100%***********************]  1 of 1 completed\n"
     ]
    },
    {
     "name": "stdout",
     "output_type": "stream",
     "text": [
      "Hourly data for KONI.JK has been successfully inserted into MySQL.\n",
      "Hourly data for KOPI.JK has been successfully inserted into MySQL.\n"
     ]
    },
    {
     "name": "stderr",
     "output_type": "stream",
     "text": [
      "[*********************100%***********************]  1 of 1 completed\n",
      "[*********************100%***********************]  1 of 1 completed"
     ]
    },
    {
     "name": "stdout",
     "output_type": "stream",
     "text": [
      "Hourly data for KPIG.JK has been successfully inserted into MySQL.\n",
      "Hourly data for KRAH.JK has been successfully inserted into MySQL.\n"
     ]
    },
    {
     "name": "stderr",
     "output_type": "stream",
     "text": [
      "\n",
      "[*********************100%***********************]  1 of 1 completed\n",
      "[*********************100%***********************]  1 of 1 completed"
     ]
    },
    {
     "name": "stdout",
     "output_type": "stream",
     "text": [
      "Hourly data for KRAS.JK has been successfully inserted into MySQL.\n"
     ]
    },
    {
     "name": "stderr",
     "output_type": "stream",
     "text": [
      "\n",
      "[*********************100%***********************]  1 of 1 completed"
     ]
    },
    {
     "name": "stdout",
     "output_type": "stream",
     "text": [
      "Hourly data for KREN.JK has been successfully inserted into MySQL.\n",
      "Hourly data for LAPD.JK has been successfully inserted into MySQL.\n"
     ]
    },
    {
     "name": "stderr",
     "output_type": "stream",
     "text": [
      "\n",
      "[*********************100%***********************]  1 of 1 completed\n",
      "[*********************100%***********************]  1 of 1 completed\n"
     ]
    },
    {
     "name": "stdout",
     "output_type": "stream",
     "text": [
      "Hourly data for LCGP.JK has been successfully inserted into MySQL.\n",
      "Hourly data for LEAD.JK has been successfully inserted into MySQL.\n"
     ]
    },
    {
     "name": "stderr",
     "output_type": "stream",
     "text": [
      "[*********************100%***********************]  1 of 1 completed\n",
      "[*********************100%***********************]  1 of 1 completed"
     ]
    },
    {
     "name": "stdout",
     "output_type": "stream",
     "text": [
      "Hourly data for LINK.JK has been successfully inserted into MySQL.\n",
      "Hourly data for LION.JK has been successfully inserted into MySQL.\n"
     ]
    },
    {
     "name": "stderr",
     "output_type": "stream",
     "text": [
      "\n",
      "[*********************100%***********************]  1 of 1 completed\n",
      "[*********************100%***********************]  1 of 1 completed"
     ]
    },
    {
     "name": "stdout",
     "output_type": "stream",
     "text": [
      "Hourly data for LMAS.JK has been successfully inserted into MySQL.\n"
     ]
    },
    {
     "name": "stderr",
     "output_type": "stream",
     "text": [
      "\n",
      "[*********************100%***********************]  1 of 1 completed"
     ]
    },
    {
     "name": "stdout",
     "output_type": "stream",
     "text": [
      "Hourly data for LMPI.JK has been successfully inserted into MySQL.\n"
     ]
    },
    {
     "name": "stderr",
     "output_type": "stream",
     "text": [
      "\n",
      "[*********************100%***********************]  1 of 1 completed"
     ]
    },
    {
     "name": "stdout",
     "output_type": "stream",
     "text": [
      "Hourly data for LMSH.JK has been successfully inserted into MySQL.\n"
     ]
    },
    {
     "name": "stderr",
     "output_type": "stream",
     "text": [
      "\n"
     ]
    },
    {
     "name": "stdout",
     "output_type": "stream",
     "text": [
      "Hourly data for LPCK.JK has been successfully inserted into MySQL.\n"
     ]
    },
    {
     "name": "stderr",
     "output_type": "stream",
     "text": [
      "[*********************100%***********************]  1 of 1 completed\n",
      "[*********************100%***********************]  1 of 1 completed\n"
     ]
    },
    {
     "name": "stdout",
     "output_type": "stream",
     "text": [
      "Hourly data for LPGI.JK has been successfully inserted into MySQL.\n",
      "Hourly data for LPIN.JK has been successfully inserted into MySQL.\n"
     ]
    },
    {
     "name": "stderr",
     "output_type": "stream",
     "text": [
      "[*********************100%***********************]  1 of 1 completed\n"
     ]
    },
    {
     "name": "stdout",
     "output_type": "stream",
     "text": [
      "Hourly data for LPKR.JK has been successfully inserted into MySQL.\n"
     ]
    },
    {
     "name": "stderr",
     "output_type": "stream",
     "text": [
      "[*********************100%***********************]  1 of 1 completed\n"
     ]
    },
    {
     "name": "stdout",
     "output_type": "stream",
     "text": [
      "Hourly data for LPLI.JK has been successfully inserted into MySQL.\n"
     ]
    },
    {
     "name": "stderr",
     "output_type": "stream",
     "text": [
      "[*********************100%***********************]  1 of 1 completed\n"
     ]
    },
    {
     "name": "stdout",
     "output_type": "stream",
     "text": [
      "Hourly data for LPPF.JK has been successfully inserted into MySQL.\n"
     ]
    },
    {
     "name": "stderr",
     "output_type": "stream",
     "text": [
      "[*********************100%***********************]  1 of 1 completed\n",
      "[*********************100%***********************]  1 of 1 completed"
     ]
    },
    {
     "name": "stdout",
     "output_type": "stream",
     "text": [
      "Hourly data for LPPS.JK has been successfully inserted into MySQL.\n",
      "Hourly data for LRNA.JK has been successfully inserted into MySQL.\n"
     ]
    },
    {
     "name": "stderr",
     "output_type": "stream",
     "text": [
      "\n",
      "[*********************100%***********************]  1 of 1 completed\n"
     ]
    },
    {
     "name": "stdout",
     "output_type": "stream",
     "text": [
      "Hourly data for LSIP.JK has been successfully inserted into MySQL.\n"
     ]
    },
    {
     "name": "stderr",
     "output_type": "stream",
     "text": [
      "[*********************100%***********************]  1 of 1 completed\n",
      "[*********************100%***********************]  1 of 1 completed\n"
     ]
    },
    {
     "name": "stdout",
     "output_type": "stream",
     "text": [
      "Hourly data for LTLS.JK has been successfully inserted into MySQL.\n",
      "Hourly data for MAGP.JK has been successfully inserted into MySQL.\n"
     ]
    },
    {
     "name": "stderr",
     "output_type": "stream",
     "text": [
      "[*********************100%***********************]  1 of 1 completed\n",
      "[*********************100%***********************]  1 of 1 completed"
     ]
    },
    {
     "name": "stdout",
     "output_type": "stream",
     "text": [
      "Hourly data for MAIN.JK has been successfully inserted into MySQL.\n",
      "Hourly data for MAMI.JK has been successfully inserted into MySQL.\n"
     ]
    },
    {
     "name": "stderr",
     "output_type": "stream",
     "text": [
      "\n",
      "[*********************100%***********************]  1 of 1 completed\n",
      "[*********************100%***********************]  1 of 1 completed"
     ]
    },
    {
     "name": "stdout",
     "output_type": "stream",
     "text": [
      "Hourly data for MAPI.JK has been successfully inserted into MySQL.\n",
      "Hourly data for MASA.JK has been successfully inserted into MySQL.\n"
     ]
    },
    {
     "name": "stderr",
     "output_type": "stream",
     "text": [
      "\n",
      "[*********************100%***********************]  1 of 1 completed\n"
     ]
    },
    {
     "name": "stdout",
     "output_type": "stream",
     "text": [
      "Hourly data for MAYA.JK has been successfully inserted into MySQL.\n"
     ]
    },
    {
     "name": "stderr",
     "output_type": "stream",
     "text": [
      "[*********************100%***********************]  1 of 1 completed\n"
     ]
    },
    {
     "name": "stdout",
     "output_type": "stream",
     "text": [
      "Hourly data for MBAP.JK has been successfully inserted into MySQL.\n"
     ]
    },
    {
     "name": "stderr",
     "output_type": "stream",
     "text": [
      "[*********************100%***********************]  1 of 1 completed\n"
     ]
    },
    {
     "name": "stdout",
     "output_type": "stream",
     "text": [
      "Hourly data for MBSS.JK has been successfully inserted into MySQL.\n"
     ]
    },
    {
     "name": "stderr",
     "output_type": "stream",
     "text": [
      "[*********************100%***********************]  1 of 1 completed\n"
     ]
    },
    {
     "name": "stdout",
     "output_type": "stream",
     "text": [
      "Hourly data for MBTO.JK has been successfully inserted into MySQL.\n"
     ]
    },
    {
     "name": "stderr",
     "output_type": "stream",
     "text": [
      "[*********************100%***********************]  1 of 1 completed\n",
      "[*********************100%***********************]  1 of 1 completed"
     ]
    },
    {
     "name": "stdout",
     "output_type": "stream",
     "text": [
      "Hourly data for MCOR.JK has been successfully inserted into MySQL.\n",
      "Hourly data for MDIA.JK has been successfully inserted into MySQL.\n"
     ]
    },
    {
     "name": "stderr",
     "output_type": "stream",
     "text": [
      "\n",
      "[*********************100%***********************]  1 of 1 completed\n",
      "[*********************100%***********************]  1 of 1 completed"
     ]
    },
    {
     "name": "stdout",
     "output_type": "stream",
     "text": [
      "Hourly data for MDKA.JK has been successfully inserted into MySQL.\n"
     ]
    },
    {
     "name": "stderr",
     "output_type": "stream",
     "text": [
      "\n",
      "[*********************100%***********************]  1 of 1 completed"
     ]
    },
    {
     "name": "stdout",
     "output_type": "stream",
     "text": [
      "Hourly data for MDLN.JK has been successfully inserted into MySQL.\n"
     ]
    },
    {
     "name": "stderr",
     "output_type": "stream",
     "text": [
      "\n"
     ]
    },
    {
     "name": "stdout",
     "output_type": "stream",
     "text": [
      "Hourly data for MDRN.JK has been successfully inserted into MySQL.\n"
     ]
    },
    {
     "name": "stderr",
     "output_type": "stream",
     "text": [
      "[*********************100%***********************]  1 of 1 completed\n"
     ]
    },
    {
     "name": "stdout",
     "output_type": "stream",
     "text": [
      "Hourly data for MEDC.JK has been successfully inserted into MySQL.\n"
     ]
    },
    {
     "name": "stderr",
     "output_type": "stream",
     "text": [
      "[*********************100%***********************]  1 of 1 completed\n"
     ]
    },
    {
     "name": "stdout",
     "output_type": "stream",
     "text": [
      "Hourly data for MEGA.JK has been successfully inserted into MySQL.\n"
     ]
    },
    {
     "name": "stderr",
     "output_type": "stream",
     "text": [
      "[*********************100%***********************]  1 of 1 completed\n",
      "[*********************100%***********************]  1 of 1 completed"
     ]
    },
    {
     "name": "stdout",
     "output_type": "stream",
     "text": [
      "Hourly data for MERK.JK has been successfully inserted into MySQL.\n",
      "Hourly data for META.JK has been successfully inserted into MySQL.\n"
     ]
    },
    {
     "name": "stderr",
     "output_type": "stream",
     "text": [
      "\n",
      "[*********************100%***********************]  1 of 1 completed\n"
     ]
    },
    {
     "name": "stdout",
     "output_type": "stream",
     "text": [
      "Hourly data for MFIN.JK has been successfully inserted into MySQL.\n"
     ]
    },
    {
     "name": "stderr",
     "output_type": "stream",
     "text": [
      "[*********************100%***********************]  1 of 1 completed\n"
     ]
    },
    {
     "name": "stdout",
     "output_type": "stream",
     "text": [
      "Hourly data for MFMI.JK has been successfully inserted into MySQL.\n"
     ]
    },
    {
     "name": "stderr",
     "output_type": "stream",
     "text": [
      "[*********************100%***********************]  1 of 1 completed\n"
     ]
    },
    {
     "name": "stdout",
     "output_type": "stream",
     "text": [
      "Hourly data for MGNA.JK has been successfully inserted into MySQL.\n"
     ]
    },
    {
     "name": "stderr",
     "output_type": "stream",
     "text": [
      "[*********************100%***********************]  1 of 1 completed\n"
     ]
    },
    {
     "name": "stdout",
     "output_type": "stream",
     "text": [
      "Hourly data for MICE.JK has been successfully inserted into MySQL.\n"
     ]
    },
    {
     "name": "stderr",
     "output_type": "stream",
     "text": [
      "[*********************100%***********************]  1 of 1 completed\n"
     ]
    },
    {
     "name": "stdout",
     "output_type": "stream",
     "text": [
      "Hourly data for MIDI.JK has been successfully inserted into MySQL.\n"
     ]
    },
    {
     "name": "stderr",
     "output_type": "stream",
     "text": [
      "[*********************100%***********************]  1 of 1 completed\n",
      "[*********************100%***********************]  1 of 1 completed"
     ]
    },
    {
     "name": "stdout",
     "output_type": "stream",
     "text": [
      "Hourly data for MIKA.JK has been successfully inserted into MySQL.\n",
      "Hourly data for MIRA.JK has been successfully inserted into MySQL.\n"
     ]
    },
    {
     "name": "stderr",
     "output_type": "stream",
     "text": [
      "\n",
      "[*********************100%***********************]  1 of 1 completed\n"
     ]
    },
    {
     "name": "stdout",
     "output_type": "stream",
     "text": [
      "Hourly data for MITI.JK has been successfully inserted into MySQL.\n"
     ]
    },
    {
     "name": "stderr",
     "output_type": "stream",
     "text": [
      "[*********************100%***********************]  1 of 1 completed\n",
      "[*********************100%***********************]  1 of 1 completed\n"
     ]
    },
    {
     "name": "stdout",
     "output_type": "stream",
     "text": [
      "Hourly data for MKPI.JK has been successfully inserted into MySQL.\n",
      "Hourly data for MLBI.JK has been successfully inserted into MySQL.\n"
     ]
    },
    {
     "name": "stderr",
     "output_type": "stream",
     "text": [
      "[*********************100%***********************]  1 of 1 completed\n"
     ]
    },
    {
     "name": "stdout",
     "output_type": "stream",
     "text": [
      "Hourly data for MLIA.JK has been successfully inserted into MySQL.\n"
     ]
    },
    {
     "name": "stderr",
     "output_type": "stream",
     "text": [
      "[*********************100%***********************]  1 of 1 completed\n"
     ]
    },
    {
     "name": "stdout",
     "output_type": "stream",
     "text": [
      "Hourly data for MLPL.JK has been successfully inserted into MySQL.\n"
     ]
    },
    {
     "name": "stderr",
     "output_type": "stream",
     "text": [
      "[*********************100%***********************]  1 of 1 completed\n",
      "[*********************100%***********************]  1 of 1 completed\n"
     ]
    },
    {
     "name": "stdout",
     "output_type": "stream",
     "text": [
      "Hourly data for MLPT.JK has been successfully inserted into MySQL.\n",
      "Hourly data for MMLP.JK has been successfully inserted into MySQL.\n"
     ]
    },
    {
     "name": "stderr",
     "output_type": "stream",
     "text": [
      "[*********************100%***********************]  1 of 1 completed\n",
      "[*********************100%***********************]  1 of 1 completed"
     ]
    },
    {
     "name": "stdout",
     "output_type": "stream",
     "text": [
      "Hourly data for MNCN.JK has been successfully inserted into MySQL.\n",
      "Hourly data for MPMX.JK has been successfully inserted into MySQL.\n"
     ]
    },
    {
     "name": "stderr",
     "output_type": "stream",
     "text": [
      "\n",
      "[*********************100%***********************]  1 of 1 completed\n",
      "[*********************100%***********************]  1 of 1 completed"
     ]
    },
    {
     "name": "stdout",
     "output_type": "stream",
     "text": [
      "Hourly data for MPPA.JK has been successfully inserted into MySQL.\n"
     ]
    },
    {
     "name": "stderr",
     "output_type": "stream",
     "text": [
      "\n"
     ]
    },
    {
     "name": "stdout",
     "output_type": "stream",
     "text": [
      "Hourly data for MRAT.JK has been successfully inserted into MySQL.\n"
     ]
    },
    {
     "name": "stderr",
     "output_type": "stream",
     "text": [
      "[*********************100%***********************]  1 of 1 completed\n",
      "[*********************100%***********************]  1 of 1 completed"
     ]
    },
    {
     "name": "stdout",
     "output_type": "stream",
     "text": [
      "Hourly data for MREI.JK has been successfully inserted into MySQL.\n"
     ]
    },
    {
     "name": "stderr",
     "output_type": "stream",
     "text": [
      "\n",
      "[*********************100%***********************]  1 of 1 completed"
     ]
    },
    {
     "name": "stdout",
     "output_type": "stream",
     "text": [
      "Hourly data for MSKY.JK has been successfully inserted into MySQL.\n"
     ]
    },
    {
     "name": "stderr",
     "output_type": "stream",
     "text": [
      "\n"
     ]
    },
    {
     "name": "stdout",
     "output_type": "stream",
     "text": [
      "Hourly data for MTDL.JK has been successfully inserted into MySQL.\n"
     ]
    },
    {
     "name": "stderr",
     "output_type": "stream",
     "text": [
      "[*********************100%***********************]  1 of 1 completed\n",
      "[*********************100%***********************]  1 of 1 completed"
     ]
    },
    {
     "name": "stdout",
     "output_type": "stream",
     "text": [
      "Hourly data for MTFN.JK has been successfully inserted into MySQL.\n"
     ]
    },
    {
     "name": "stderr",
     "output_type": "stream",
     "text": [
      "\n",
      "[*********************100%***********************]  1 of 1 completed"
     ]
    },
    {
     "name": "stdout",
     "output_type": "stream",
     "text": [
      "Hourly data for MTLA.JK has been successfully inserted into MySQL.\n",
      "Hourly data for MTSM.JK has been successfully inserted into MySQL.\n"
     ]
    },
    {
     "name": "stderr",
     "output_type": "stream",
     "text": [
      "\n",
      "[*********************100%***********************]  1 of 1 completed\n"
     ]
    },
    {
     "name": "stdout",
     "output_type": "stream",
     "text": [
      "Hourly data for MYOH.JK has been successfully inserted into MySQL.\n"
     ]
    },
    {
     "name": "stderr",
     "output_type": "stream",
     "text": [
      "[*********************100%***********************]  1 of 1 completed\n",
      "[*********************100%***********************]  1 of 1 completed"
     ]
    },
    {
     "name": "stdout",
     "output_type": "stream",
     "text": [
      "Hourly data for MYOR.JK has been successfully inserted into MySQL.\n",
      "Hourly data for MYRX.JK has been successfully inserted into MySQL.\n"
     ]
    },
    {
     "name": "stderr",
     "output_type": "stream",
     "text": [
      "\n",
      "[*********************100%***********************]  1 of 1 completed\n"
     ]
    },
    {
     "name": "stdout",
     "output_type": "stream",
     "text": [
      "Hourly data for MYTX.JK has been successfully inserted into MySQL.\n"
     ]
    },
    {
     "name": "stderr",
     "output_type": "stream",
     "text": [
      "[*********************100%***********************]  1 of 1 completed\n"
     ]
    },
    {
     "name": "stdout",
     "output_type": "stream",
     "text": [
      "Hourly data for NELY.JK has been successfully inserted into MySQL.\n"
     ]
    },
    {
     "name": "stderr",
     "output_type": "stream",
     "text": [
      "[*********************100%***********************]  1 of 1 completed\n",
      "[*********************100%***********************]  1 of 1 completed"
     ]
    },
    {
     "name": "stdout",
     "output_type": "stream",
     "text": [
      "Hourly data for NIKL.JK has been successfully inserted into MySQL.\n",
      "Hourly data for NIPS.JK has been successfully inserted into MySQL.\n"
     ]
    },
    {
     "name": "stderr",
     "output_type": "stream",
     "text": [
      "\n",
      "[*********************100%***********************]  1 of 1 completed\n"
     ]
    },
    {
     "name": "stdout",
     "output_type": "stream",
     "text": [
      "Hourly data for NIRO.JK has been successfully inserted into MySQL.\n"
     ]
    },
    {
     "name": "stderr",
     "output_type": "stream",
     "text": [
      "[*********************100%***********************]  1 of 1 completed\n"
     ]
    },
    {
     "name": "stdout",
     "output_type": "stream",
     "text": [
      "Hourly data for NISP.JK has been successfully inserted into MySQL.\n"
     ]
    },
    {
     "name": "stderr",
     "output_type": "stream",
     "text": [
      "[*********************100%***********************]  1 of 1 completed\n"
     ]
    },
    {
     "name": "stdout",
     "output_type": "stream",
     "text": [
      "Hourly data for NOBU.JK has been successfully inserted into MySQL.\n"
     ]
    },
    {
     "name": "stderr",
     "output_type": "stream",
     "text": [
      "[*********************100%***********************]  1 of 1 completed\n",
      "[*********************100%***********************]  1 of 1 completed\n"
     ]
    },
    {
     "name": "stdout",
     "output_type": "stream",
     "text": [
      "Hourly data for NRCA.JK has been successfully inserted into MySQL.\n",
      "Hourly data for OCAP.JK has been successfully inserted into MySQL.\n"
     ]
    },
    {
     "name": "stderr",
     "output_type": "stream",
     "text": [
      "[*********************100%***********************]  1 of 1 completed\n",
      "[*********************100%***********************]  1 of 1 completed"
     ]
    },
    {
     "name": "stdout",
     "output_type": "stream",
     "text": [
      "Hourly data for OKAS.JK has been successfully inserted into MySQL.\n",
      "Hourly data for OMRE.JK has been successfully inserted into MySQL.\n"
     ]
    },
    {
     "name": "stderr",
     "output_type": "stream",
     "text": [
      "\n",
      "[*********************100%***********************]  1 of 1 completed\n"
     ]
    },
    {
     "name": "stdout",
     "output_type": "stream",
     "text": [
      "Hourly data for PADI.JK has been successfully inserted into MySQL.\n"
     ]
    },
    {
     "name": "stderr",
     "output_type": "stream",
     "text": [
      "[*********************100%***********************]  1 of 1 completed\n"
     ]
    },
    {
     "name": "stdout",
     "output_type": "stream",
     "text": [
      "Hourly data for PALM.JK has been successfully inserted into MySQL.\n"
     ]
    },
    {
     "name": "stderr",
     "output_type": "stream",
     "text": [
      "[*********************100%***********************]  1 of 1 completed\n"
     ]
    },
    {
     "name": "stdout",
     "output_type": "stream",
     "text": [
      "Hourly data for PANR.JK has been successfully inserted into MySQL.\n"
     ]
    },
    {
     "name": "stderr",
     "output_type": "stream",
     "text": [
      "[*********************100%***********************]  1 of 1 completed\n",
      "[*********************100%***********************]  1 of 1 completed"
     ]
    },
    {
     "name": "stdout",
     "output_type": "stream",
     "text": [
      "Hourly data for PANS.JK has been successfully inserted into MySQL.\n",
      "Hourly data for PBRX.JK has been successfully inserted into MySQL.\n"
     ]
    },
    {
     "name": "stderr",
     "output_type": "stream",
     "text": [
      "\n",
      "[*********************100%***********************]  1 of 1 completed\n"
     ]
    },
    {
     "name": "stdout",
     "output_type": "stream",
     "text": [
      "Hourly data for PDES.JK has been successfully inserted into MySQL.\n"
     ]
    },
    {
     "name": "stderr",
     "output_type": "stream",
     "text": [
      "[*********************100%***********************]  1 of 1 completed\n",
      "[*********************100%***********************]  1 of 1 completed"
     ]
    },
    {
     "name": "stdout",
     "output_type": "stream",
     "text": [
      "Hourly data for PEGE.JK has been successfully inserted into MySQL.\n"
     ]
    },
    {
     "name": "stderr",
     "output_type": "stream",
     "text": [
      "\n"
     ]
    },
    {
     "name": "stdout",
     "output_type": "stream",
     "text": [
      "Hourly data for PGAS.JK has been successfully inserted into MySQL.\n"
     ]
    },
    {
     "name": "stderr",
     "output_type": "stream",
     "text": [
      "[*********************100%***********************]  1 of 1 completed\n",
      "[*********************100%***********************]  1 of 1 completed"
     ]
    },
    {
     "name": "stdout",
     "output_type": "stream",
     "text": [
      "Hourly data for PGLI.JK has been successfully inserted into MySQL.\n"
     ]
    },
    {
     "name": "stderr",
     "output_type": "stream",
     "text": [
      "\n"
     ]
    },
    {
     "name": "stdout",
     "output_type": "stream",
     "text": [
      "Hourly data for PICO.JK has been successfully inserted into MySQL.\n"
     ]
    },
    {
     "name": "stderr",
     "output_type": "stream",
     "text": [
      "[*********************100%***********************]  1 of 1 completed\n",
      "[*********************100%***********************]  1 of 1 completed"
     ]
    },
    {
     "name": "stdout",
     "output_type": "stream",
     "text": [
      "Hourly data for PJAA.JK has been successfully inserted into MySQL.\n",
      "Hourly data for PKPK.JK has been successfully inserted into MySQL.\n"
     ]
    },
    {
     "name": "stderr",
     "output_type": "stream",
     "text": [
      "\n",
      "[*********************100%***********************]  1 of 1 completed\n",
      "[*********************100%***********************]  1 of 1 completed\n"
     ]
    },
    {
     "name": "stdout",
     "output_type": "stream",
     "text": [
      "Hourly data for PLAS.JK has been successfully inserted into MySQL.\n",
      "Hourly data for PLIN.JK has been successfully inserted into MySQL.\n"
     ]
    },
    {
     "name": "stderr",
     "output_type": "stream",
     "text": [
      "[*********************100%***********************]  1 of 1 completed\n",
      "[*********************100%***********************]  1 of 1 completed"
     ]
    },
    {
     "name": "stdout",
     "output_type": "stream",
     "text": [
      "Hourly data for PNBN.JK has been successfully inserted into MySQL.\n"
     ]
    },
    {
     "name": "stderr",
     "output_type": "stream",
     "text": [
      "\n"
     ]
    },
    {
     "name": "stdout",
     "output_type": "stream",
     "text": [
      "Hourly data for PNBS.JK has been successfully inserted into MySQL.\n"
     ]
    },
    {
     "name": "stderr",
     "output_type": "stream",
     "text": [
      "[*********************100%***********************]  1 of 1 completed\n"
     ]
    },
    {
     "name": "stdout",
     "output_type": "stream",
     "text": [
      "Hourly data for PNIN.JK has been successfully inserted into MySQL.\n"
     ]
    },
    {
     "name": "stderr",
     "output_type": "stream",
     "text": [
      "[*********************100%***********************]  1 of 1 completed\n"
     ]
    },
    {
     "name": "stdout",
     "output_type": "stream",
     "text": [
      "Hourly data for PNLF.JK has been successfully inserted into MySQL.\n"
     ]
    },
    {
     "name": "stderr",
     "output_type": "stream",
     "text": [
      "[*********************100%***********************]  1 of 1 completed\n"
     ]
    },
    {
     "name": "stdout",
     "output_type": "stream",
     "text": [
      "Hourly data for PNSE.JK has been successfully inserted into MySQL.\n"
     ]
    },
    {
     "name": "stderr",
     "output_type": "stream",
     "text": [
      "[*********************100%***********************]  1 of 1 completed\n",
      "[*********************100%***********************]  1 of 1 completed\n"
     ]
    },
    {
     "name": "stdout",
     "output_type": "stream",
     "text": [
      "Hourly data for POLY.JK has been successfully inserted into MySQL.\n",
      "Hourly data for POOL.JK has been successfully inserted into MySQL.\n"
     ]
    },
    {
     "name": "stderr",
     "output_type": "stream",
     "text": [
      "[*********************100%***********************]  1 of 1 completed\n"
     ]
    },
    {
     "name": "stdout",
     "output_type": "stream",
     "text": [
      "Hourly data for PPRO.JK has been successfully inserted into MySQL.\n"
     ]
    },
    {
     "name": "stderr",
     "output_type": "stream",
     "text": [
      "[*********************100%***********************]  1 of 1 completed\n"
     ]
    },
    {
     "name": "stdout",
     "output_type": "stream",
     "text": [
      "Hourly data for PRAS.JK has been successfully inserted into MySQL.\n"
     ]
    },
    {
     "name": "stderr",
     "output_type": "stream",
     "text": [
      "[*********************100%***********************]  1 of 1 completed\n"
     ]
    },
    {
     "name": "stdout",
     "output_type": "stream",
     "text": [
      "Hourly data for PSAB.JK has been successfully inserted into MySQL.\n"
     ]
    },
    {
     "name": "stderr",
     "output_type": "stream",
     "text": [
      "[*********************100%***********************]  1 of 1 completed\n"
     ]
    },
    {
     "name": "stdout",
     "output_type": "stream",
     "text": [
      "Hourly data for PSDN.JK has been successfully inserted into MySQL.\n"
     ]
    },
    {
     "name": "stderr",
     "output_type": "stream",
     "text": [
      "[*********************100%***********************]  1 of 1 completed\n"
     ]
    },
    {
     "name": "stdout",
     "output_type": "stream",
     "text": [
      "Hourly data for PSKT.JK has been successfully inserted into MySQL.\n"
     ]
    },
    {
     "name": "stderr",
     "output_type": "stream",
     "text": [
      "[*********************100%***********************]  1 of 1 completed\n"
     ]
    },
    {
     "name": "stdout",
     "output_type": "stream",
     "text": [
      "Hourly data for PTBA.JK has been successfully inserted into MySQL.\n"
     ]
    },
    {
     "name": "stderr",
     "output_type": "stream",
     "text": [
      "[*********************100%***********************]  1 of 1 completed\n"
     ]
    },
    {
     "name": "stdout",
     "output_type": "stream",
     "text": [
      "Hourly data for PTIS.JK has been successfully inserted into MySQL.\n"
     ]
    },
    {
     "name": "stderr",
     "output_type": "stream",
     "text": [
      "[*********************100%***********************]  1 of 1 completed\n"
     ]
    },
    {
     "name": "stdout",
     "output_type": "stream",
     "text": [
      "Hourly data for PTPP.JK has been successfully inserted into MySQL.\n"
     ]
    },
    {
     "name": "stderr",
     "output_type": "stream",
     "text": [
      "[*********************100%***********************]  1 of 1 completed\n"
     ]
    },
    {
     "name": "stdout",
     "output_type": "stream",
     "text": [
      "Hourly data for PTRO.JK has been successfully inserted into MySQL.\n"
     ]
    },
    {
     "name": "stderr",
     "output_type": "stream",
     "text": [
      "[*********************100%***********************]  1 of 1 completed\n",
      "[*********************100%***********************]  1 of 1 completed"
     ]
    },
    {
     "name": "stdout",
     "output_type": "stream",
     "text": [
      "Hourly data for PTSN.JK has been successfully inserted into MySQL.\n"
     ]
    },
    {
     "name": "stderr",
     "output_type": "stream",
     "text": [
      "\n",
      "[*********************100%***********************]  1 of 1 completed"
     ]
    },
    {
     "name": "stdout",
     "output_type": "stream",
     "text": [
      "Hourly data for PTSP.JK has been successfully inserted into MySQL.\n"
     ]
    },
    {
     "name": "stderr",
     "output_type": "stream",
     "text": [
      "\n"
     ]
    },
    {
     "name": "stdout",
     "output_type": "stream",
     "text": [
      "Hourly data for PUDP.JK has been successfully inserted into MySQL.\n"
     ]
    },
    {
     "name": "stderr",
     "output_type": "stream",
     "text": [
      "[*********************100%***********************]  1 of 1 completed\n"
     ]
    },
    {
     "name": "stdout",
     "output_type": "stream",
     "text": [
      "Hourly data for PWON.JK has been successfully inserted into MySQL.\n"
     ]
    },
    {
     "name": "stderr",
     "output_type": "stream",
     "text": [
      "[*********************100%***********************]  1 of 1 completed\n"
     ]
    },
    {
     "name": "stdout",
     "output_type": "stream",
     "text": [
      "Hourly data for PYFA.JK has been successfully inserted into MySQL.\n"
     ]
    },
    {
     "name": "stderr",
     "output_type": "stream",
     "text": [
      "[*********************100%***********************]  1 of 1 completed\n"
     ]
    },
    {
     "name": "stdout",
     "output_type": "stream",
     "text": [
      "Hourly data for RAJA.JK has been successfully inserted into MySQL.\n"
     ]
    },
    {
     "name": "stderr",
     "output_type": "stream",
     "text": [
      "[*********************100%***********************]  1 of 1 completed\n"
     ]
    },
    {
     "name": "stdout",
     "output_type": "stream",
     "text": [
      "Hourly data for RALS.JK has been successfully inserted into MySQL.\n"
     ]
    },
    {
     "name": "stderr",
     "output_type": "stream",
     "text": [
      "[*********************100%***********************]  1 of 1 completed\n"
     ]
    },
    {
     "name": "stdout",
     "output_type": "stream",
     "text": [
      "Hourly data for RANC.JK has been successfully inserted into MySQL.\n"
     ]
    },
    {
     "name": "stderr",
     "output_type": "stream",
     "text": [
      "[*********************100%***********************]  1 of 1 completed\n"
     ]
    },
    {
     "name": "stdout",
     "output_type": "stream",
     "text": [
      "Hourly data for RBMS.JK has been successfully inserted into MySQL.\n"
     ]
    },
    {
     "name": "stderr",
     "output_type": "stream",
     "text": [
      "[*********************100%***********************]  1 of 1 completed\n",
      "[*********************100%***********************]  1 of 1 completed"
     ]
    },
    {
     "name": "stdout",
     "output_type": "stream",
     "text": [
      "Hourly data for RDTX.JK has been successfully inserted into MySQL.\n"
     ]
    },
    {
     "name": "stderr",
     "output_type": "stream",
     "text": [
      "\n"
     ]
    },
    {
     "name": "stdout",
     "output_type": "stream",
     "text": [
      "Hourly data for RELI.JK has been successfully inserted into MySQL.\n"
     ]
    },
    {
     "name": "stderr",
     "output_type": "stream",
     "text": [
      "[*********************100%***********************]  1 of 1 completed\n"
     ]
    },
    {
     "name": "stdout",
     "output_type": "stream",
     "text": [
      "Hourly data for RICY.JK has been successfully inserted into MySQL.\n"
     ]
    },
    {
     "name": "stderr",
     "output_type": "stream",
     "text": [
      "[*********************100%***********************]  1 of 1 completed\n",
      "[*********************100%***********************]  1 of 1 completed\n"
     ]
    },
    {
     "name": "stdout",
     "output_type": "stream",
     "text": [
      "Hourly data for RIGS.JK has been successfully inserted into MySQL.\n",
      "Hourly data for RIMO.JK has been successfully inserted into MySQL.\n"
     ]
    },
    {
     "name": "stderr",
     "output_type": "stream",
     "text": [
      "[*********************100%***********************]  1 of 1 completed\n"
     ]
    },
    {
     "name": "stdout",
     "output_type": "stream",
     "text": [
      "Hourly data for RODA.JK has been successfully inserted into MySQL.\n"
     ]
    },
    {
     "name": "stderr",
     "output_type": "stream",
     "text": [
      "[*********************100%***********************]  1 of 1 completed\n"
     ]
    },
    {
     "name": "stdout",
     "output_type": "stream",
     "text": [
      "Hourly data for ROTI.JK has been successfully inserted into MySQL.\n"
     ]
    },
    {
     "name": "stderr",
     "output_type": "stream",
     "text": [
      "[*********************100%***********************]  1 of 1 completed\n"
     ]
    },
    {
     "name": "stdout",
     "output_type": "stream",
     "text": [
      "Hourly data for RUIS.JK has been successfully inserted into MySQL.\n"
     ]
    },
    {
     "name": "stderr",
     "output_type": "stream",
     "text": [
      "[*********************100%***********************]  1 of 1 completed\n",
      "[*********************100%***********************]  1 of 1 completed"
     ]
    },
    {
     "name": "stdout",
     "output_type": "stream",
     "text": [
      "Hourly data for SAFE.JK has been successfully inserted into MySQL.\n"
     ]
    },
    {
     "name": "stderr",
     "output_type": "stream",
     "text": [
      "\n"
     ]
    },
    {
     "name": "stdout",
     "output_type": "stream",
     "text": [
      "Hourly data for SAME.JK has been successfully inserted into MySQL.\n"
     ]
    },
    {
     "name": "stderr",
     "output_type": "stream",
     "text": [
      "[*********************100%***********************]  1 of 1 completed\n"
     ]
    },
    {
     "name": "stdout",
     "output_type": "stream",
     "text": [
      "Hourly data for SCCO.JK has been successfully inserted into MySQL.\n"
     ]
    },
    {
     "name": "stderr",
     "output_type": "stream",
     "text": [
      "[*********************100%***********************]  1 of 1 completed\n",
      "[*********************100%***********************]  1 of 1 completed"
     ]
    },
    {
     "name": "stdout",
     "output_type": "stream",
     "text": [
      "Hourly data for SCMA.JK has been successfully inserted into MySQL.\n"
     ]
    },
    {
     "name": "stderr",
     "output_type": "stream",
     "text": [
      "\n"
     ]
    },
    {
     "name": "stdout",
     "output_type": "stream",
     "text": [
      "Hourly data for SCPI.JK has been successfully inserted into MySQL.\n"
     ]
    },
    {
     "name": "stderr",
     "output_type": "stream",
     "text": [
      "[*********************100%***********************]  1 of 1 completed\n"
     ]
    },
    {
     "name": "stdout",
     "output_type": "stream",
     "text": [
      "Hourly data for SDMU.JK has been successfully inserted into MySQL.\n"
     ]
    },
    {
     "name": "stderr",
     "output_type": "stream",
     "text": [
      "[*********************100%***********************]  1 of 1 completed\n"
     ]
    },
    {
     "name": "stdout",
     "output_type": "stream",
     "text": [
      "Hourly data for SDPC.JK has been successfully inserted into MySQL.\n"
     ]
    },
    {
     "name": "stderr",
     "output_type": "stream",
     "text": [
      "[*********************100%***********************]  1 of 1 completed\n"
     ]
    },
    {
     "name": "stdout",
     "output_type": "stream",
     "text": [
      "Hourly data for SDRA.JK has been successfully inserted into MySQL.\n"
     ]
    },
    {
     "name": "stderr",
     "output_type": "stream",
     "text": [
      "[*********************100%***********************]  1 of 1 completed\n"
     ]
    },
    {
     "name": "stdout",
     "output_type": "stream",
     "text": [
      "Hourly data for SGRO.JK has been successfully inserted into MySQL.\n"
     ]
    },
    {
     "name": "stderr",
     "output_type": "stream",
     "text": [
      "[*********************100%***********************]  1 of 1 completed\n",
      "[*********************100%***********************]  1 of 1 completed"
     ]
    },
    {
     "name": "stdout",
     "output_type": "stream",
     "text": [
      "Hourly data for SHID.JK has been successfully inserted into MySQL.\n",
      "Hourly data for SIDO.JK has been successfully inserted into MySQL.\n"
     ]
    },
    {
     "name": "stderr",
     "output_type": "stream",
     "text": [
      "\n",
      "[*********************100%***********************]  1 of 1 completed\n",
      "[*********************100%***********************]  1 of 1 completed\n"
     ]
    },
    {
     "name": "stdout",
     "output_type": "stream",
     "text": [
      "Hourly data for SILO.JK has been successfully inserted into MySQL.\n",
      "Hourly data for SIMA.JK has been successfully inserted into MySQL.\n"
     ]
    },
    {
     "name": "stderr",
     "output_type": "stream",
     "text": [
      "[*********************100%***********************]  1 of 1 completed\n"
     ]
    },
    {
     "name": "stdout",
     "output_type": "stream",
     "text": [
      "Hourly data for SIMP.JK has been successfully inserted into MySQL.\n"
     ]
    },
    {
     "name": "stderr",
     "output_type": "stream",
     "text": [
      "[*********************100%***********************]  1 of 1 completed\n"
     ]
    },
    {
     "name": "stdout",
     "output_type": "stream",
     "text": [
      "Hourly data for SIPD.JK has been successfully inserted into MySQL.\n"
     ]
    },
    {
     "name": "stderr",
     "output_type": "stream",
     "text": [
      "[*********************100%***********************]  1 of 1 completed\n"
     ]
    },
    {
     "name": "stdout",
     "output_type": "stream",
     "text": [
      "Hourly data for SKBM.JK has been successfully inserted into MySQL.\n"
     ]
    },
    {
     "name": "stderr",
     "output_type": "stream",
     "text": [
      "[*********************100%***********************]  1 of 1 completed\n",
      "[*********************100%***********************]  1 of 1 completed"
     ]
    },
    {
     "name": "stdout",
     "output_type": "stream",
     "text": [
      "Hourly data for SKLT.JK has been successfully inserted into MySQL.\n",
      "Hourly data for SKYB.JK has been successfully inserted into MySQL.\n"
     ]
    },
    {
     "name": "stderr",
     "output_type": "stream",
     "text": [
      "\n",
      "[*********************100%***********************]  1 of 1 completed\n"
     ]
    },
    {
     "name": "stdout",
     "output_type": "stream",
     "text": [
      "Hourly data for SMAR.JK has been successfully inserted into MySQL.\n"
     ]
    },
    {
     "name": "stderr",
     "output_type": "stream",
     "text": [
      "[*********************100%***********************]  1 of 1 completed\n"
     ]
    },
    {
     "name": "stdout",
     "output_type": "stream",
     "text": [
      "Hourly data for SMBR.JK has been successfully inserted into MySQL.\n"
     ]
    },
    {
     "name": "stderr",
     "output_type": "stream",
     "text": [
      "[*********************100%***********************]  1 of 1 completed\n"
     ]
    },
    {
     "name": "stdout",
     "output_type": "stream",
     "text": [
      "Hourly data for SMCB.JK has been successfully inserted into MySQL.\n"
     ]
    },
    {
     "name": "stderr",
     "output_type": "stream",
     "text": [
      "[*********************100%***********************]  1 of 1 completed\n"
     ]
    },
    {
     "name": "stdout",
     "output_type": "stream",
     "text": [
      "Hourly data for SMDM.JK has been successfully inserted into MySQL.\n"
     ]
    },
    {
     "name": "stderr",
     "output_type": "stream",
     "text": [
      "[*********************100%***********************]  1 of 1 completed\n"
     ]
    },
    {
     "name": "stdout",
     "output_type": "stream",
     "text": [
      "Hourly data for SMDR.JK has been successfully inserted into MySQL.\n"
     ]
    },
    {
     "name": "stderr",
     "output_type": "stream",
     "text": [
      "[*********************100%***********************]  1 of 1 completed\n",
      "[*********************100%***********************]  1 of 1 completed\n"
     ]
    },
    {
     "name": "stdout",
     "output_type": "stream",
     "text": [
      "Hourly data for SMGR.JK has been successfully inserted into MySQL.\n",
      "Hourly data for SMMA.JK has been successfully inserted into MySQL.\n"
     ]
    },
    {
     "name": "stderr",
     "output_type": "stream",
     "text": [
      "[*********************100%***********************]  1 of 1 completed\n"
     ]
    },
    {
     "name": "stdout",
     "output_type": "stream",
     "text": [
      "Hourly data for SMMT.JK has been successfully inserted into MySQL.\n"
     ]
    },
    {
     "name": "stderr",
     "output_type": "stream",
     "text": [
      "[*********************100%***********************]  1 of 1 completed\n",
      "[*********************100%***********************]  1 of 1 completed\n"
     ]
    },
    {
     "name": "stdout",
     "output_type": "stream",
     "text": [
      "Hourly data for SMRA.JK has been successfully inserted into MySQL.\n",
      "Hourly data for SMRU.JK has been successfully inserted into MySQL.\n"
     ]
    },
    {
     "name": "stderr",
     "output_type": "stream",
     "text": [
      "[*********************100%***********************]  1 of 1 completed\n",
      "[*********************100%***********************]  1 of 1 completed"
     ]
    },
    {
     "name": "stdout",
     "output_type": "stream",
     "text": [
      "Hourly data for SMSM.JK has been successfully inserted into MySQL.\n"
     ]
    },
    {
     "name": "stderr",
     "output_type": "stream",
     "text": [
      "\n"
     ]
    },
    {
     "name": "stdout",
     "output_type": "stream",
     "text": [
      "Hourly data for SOCI.JK has been successfully inserted into MySQL.\n"
     ]
    },
    {
     "name": "stderr",
     "output_type": "stream",
     "text": [
      "[*********************100%***********************]  1 of 1 completed\n"
     ]
    },
    {
     "name": "stdout",
     "output_type": "stream",
     "text": [
      "Hourly data for SONA.JK has been successfully inserted into MySQL.\n"
     ]
    },
    {
     "name": "stderr",
     "output_type": "stream",
     "text": [
      "[*********************100%***********************]  1 of 1 completed\n",
      "[*********************100%***********************]  1 of 1 completed\n"
     ]
    },
    {
     "name": "stdout",
     "output_type": "stream",
     "text": [
      "Hourly data for SPMA.JK has been successfully inserted into MySQL.\n",
      "Hourly data for SQMI.JK has been successfully inserted into MySQL.\n"
     ]
    },
    {
     "name": "stderr",
     "output_type": "stream",
     "text": [
      "[*********************100%***********************]  1 of 1 completed\n",
      "[*********************100%***********************]  1 of 1 completed\n"
     ]
    },
    {
     "name": "stdout",
     "output_type": "stream",
     "text": [
      "Hourly data for SRAJ.JK has been successfully inserted into MySQL.\n",
      "Hourly data for SRIL.JK has been successfully inserted into MySQL.\n"
     ]
    },
    {
     "name": "stderr",
     "output_type": "stream",
     "text": [
      "[*********************100%***********************]  1 of 1 completed\n",
      "[*********************100%***********************]  1 of 1 completed\n"
     ]
    },
    {
     "name": "stdout",
     "output_type": "stream",
     "text": [
      "Hourly data for SRSN.JK has been successfully inserted into MySQL.\n",
      "Hourly data for SRTG.JK has been successfully inserted into MySQL.\n"
     ]
    },
    {
     "name": "stderr",
     "output_type": "stream",
     "text": [
      "[*********************100%***********************]  1 of 1 completed\n",
      "[*********************100%***********************]  1 of 1 completed"
     ]
    },
    {
     "name": "stdout",
     "output_type": "stream",
     "text": [
      "Hourly data for SSIA.JK has been successfully inserted into MySQL.\n",
      "Hourly data for SSMS.JK has been successfully inserted into MySQL.\n"
     ]
    },
    {
     "name": "stderr",
     "output_type": "stream",
     "text": [
      "\n",
      "[*********************100%***********************]  1 of 1 completed\n",
      "[*********************100%***********************]  1 of 1 completed\n"
     ]
    },
    {
     "name": "stdout",
     "output_type": "stream",
     "text": [
      "Hourly data for SSTM.JK has been successfully inserted into MySQL.\n",
      "Hourly data for STAR.JK has been successfully inserted into MySQL.\n"
     ]
    },
    {
     "name": "stderr",
     "output_type": "stream",
     "text": [
      "[*********************100%***********************]  1 of 1 completed\n",
      "[*********************100%***********************]  1 of 1 completed\n"
     ]
    },
    {
     "name": "stdout",
     "output_type": "stream",
     "text": [
      "Hourly data for STTP.JK has been successfully inserted into MySQL.\n",
      "Hourly data for SUGI.JK has been successfully inserted into MySQL.\n"
     ]
    },
    {
     "name": "stderr",
     "output_type": "stream",
     "text": [
      "[*********************100%***********************]  1 of 1 completed\n",
      "[*********************100%***********************]  1 of 1 completed\n"
     ]
    },
    {
     "name": "stdout",
     "output_type": "stream",
     "text": [
      "Hourly data for SULI.JK has been successfully inserted into MySQL.\n",
      "Hourly data for SUPR.JK has been successfully inserted into MySQL.\n"
     ]
    },
    {
     "name": "stderr",
     "output_type": "stream",
     "text": [
      "[*********************100%***********************]  1 of 1 completed\n",
      "[*********************100%***********************]  1 of 1 completed"
     ]
    },
    {
     "name": "stdout",
     "output_type": "stream",
     "text": [
      "Hourly data for TALF.JK has been successfully inserted into MySQL.\n",
      "Hourly data for TARA.JK has been successfully inserted into MySQL.\n"
     ]
    },
    {
     "name": "stderr",
     "output_type": "stream",
     "text": [
      "\n",
      "[*********************100%***********************]  1 of 1 completed\n",
      "[*********************100%***********************]  1 of 1 completed\n"
     ]
    },
    {
     "name": "stdout",
     "output_type": "stream",
     "text": [
      "Hourly data for TAXI.JK has been successfully inserted into MySQL.\n",
      "Hourly data for TBIG.JK has been successfully inserted into MySQL.\n"
     ]
    },
    {
     "name": "stderr",
     "output_type": "stream",
     "text": [
      "[*********************100%***********************]  1 of 1 completed\n",
      "[*********************100%***********************]  1 of 1 completed"
     ]
    },
    {
     "name": "stdout",
     "output_type": "stream",
     "text": [
      "Hourly data for TBLA.JK has been successfully inserted into MySQL.\n",
      "Hourly data for TBMS.JK has been successfully inserted into MySQL.\n"
     ]
    },
    {
     "name": "stderr",
     "output_type": "stream",
     "text": [
      "\n",
      "[*********************100%***********************]  1 of 1 completed\n",
      "[*********************100%***********************]  1 of 1 completed\n"
     ]
    },
    {
     "name": "stdout",
     "output_type": "stream",
     "text": [
      "Hourly data for TCID.JK has been successfully inserted into MySQL.\n",
      "Hourly data for TELE.JK has been successfully inserted into MySQL.\n"
     ]
    },
    {
     "name": "stderr",
     "output_type": "stream",
     "text": [
      "[*********************100%***********************]  1 of 1 completed\n",
      "[*********************100%***********************]  1 of 1 completed\n"
     ]
    },
    {
     "name": "stdout",
     "output_type": "stream",
     "text": [
      "Hourly data for TFCO.JK has been successfully inserted into MySQL.\n",
      "Hourly data for TGKA.JK has been successfully inserted into MySQL.\n"
     ]
    },
    {
     "name": "stderr",
     "output_type": "stream",
     "text": [
      "[*********************100%***********************]  1 of 1 completed\n",
      "[*********************100%***********************]  1 of 1 completed\n"
     ]
    },
    {
     "name": "stdout",
     "output_type": "stream",
     "text": [
      "Hourly data for TIFA.JK has been successfully inserted into MySQL.\n",
      "Hourly data for TINS.JK has been successfully inserted into MySQL.\n"
     ]
    },
    {
     "name": "stderr",
     "output_type": "stream",
     "text": [
      "[*********************100%***********************]  1 of 1 completed\n",
      "[*********************100%***********************]  1 of 1 completed"
     ]
    },
    {
     "name": "stdout",
     "output_type": "stream",
     "text": [
      "Hourly data for TIRA.JK has been successfully inserted into MySQL.\n"
     ]
    },
    {
     "name": "stderr",
     "output_type": "stream",
     "text": [
      "\n",
      "[*********************100%***********************]  1 of 1 completed"
     ]
    },
    {
     "name": "stdout",
     "output_type": "stream",
     "text": [
      "Hourly data for TIRT.JK has been successfully inserted into MySQL.\n"
     ]
    },
    {
     "name": "stderr",
     "output_type": "stream",
     "text": [
      "\n"
     ]
    },
    {
     "name": "stdout",
     "output_type": "stream",
     "text": [
      "Hourly data for TKIM.JK has been successfully inserted into MySQL.\n"
     ]
    },
    {
     "name": "stderr",
     "output_type": "stream",
     "text": [
      "[*********************100%***********************]  1 of 1 completed\n"
     ]
    },
    {
     "name": "stdout",
     "output_type": "stream",
     "text": [
      "Hourly data for TLKM.JK has been successfully inserted into MySQL.\n"
     ]
    },
    {
     "name": "stderr",
     "output_type": "stream",
     "text": [
      "[*********************100%***********************]  1 of 1 completed\n",
      "[*********************100%***********************]  1 of 1 completed\n"
     ]
    },
    {
     "name": "stdout",
     "output_type": "stream",
     "text": [
      "Hourly data for TMAS.JK has been successfully inserted into MySQL.\n",
      "Hourly data for TMPO.JK has been successfully inserted into MySQL.\n"
     ]
    },
    {
     "name": "stderr",
     "output_type": "stream",
     "text": [
      "[*********************100%***********************]  1 of 1 completed\n"
     ]
    },
    {
     "name": "stdout",
     "output_type": "stream",
     "text": [
      "Hourly data for TOBA.JK has been successfully inserted into MySQL.\n"
     ]
    },
    {
     "name": "stderr",
     "output_type": "stream",
     "text": [
      "[*********************100%***********************]  1 of 1 completed\n"
     ]
    },
    {
     "name": "stdout",
     "output_type": "stream",
     "text": [
      "Hourly data for TOTL.JK has been successfully inserted into MySQL.\n"
     ]
    },
    {
     "name": "stderr",
     "output_type": "stream",
     "text": [
      "[*********************100%***********************]  1 of 1 completed\n"
     ]
    },
    {
     "name": "stdout",
     "output_type": "stream",
     "text": [
      "Hourly data for TOTO.JK has been successfully inserted into MySQL.\n"
     ]
    },
    {
     "name": "stderr",
     "output_type": "stream",
     "text": [
      "[*********************100%***********************]  1 of 1 completed\n"
     ]
    },
    {
     "name": "stdout",
     "output_type": "stream",
     "text": [
      "Hourly data for TOWR.JK has been successfully inserted into MySQL.\n"
     ]
    },
    {
     "name": "stderr",
     "output_type": "stream",
     "text": [
      "[*********************100%***********************]  1 of 1 completed\n"
     ]
    },
    {
     "name": "stdout",
     "output_type": "stream",
     "text": [
      "Hourly data for TPIA.JK has been successfully inserted into MySQL.\n"
     ]
    },
    {
     "name": "stderr",
     "output_type": "stream",
     "text": [
      "[*********************100%***********************]  1 of 1 completed\n",
      "[*********************100%***********************]  1 of 1 completed"
     ]
    },
    {
     "name": "stdout",
     "output_type": "stream",
     "text": [
      "Hourly data for TPMA.JK has been successfully inserted into MySQL.\n",
      "Hourly data for TRAM.JK has been successfully inserted into MySQL.\n"
     ]
    },
    {
     "name": "stderr",
     "output_type": "stream",
     "text": [
      "\n",
      "[*********************100%***********************]  1 of 1 completed\n",
      "[*********************100%***********************]  1 of 1 completed"
     ]
    },
    {
     "name": "stdout",
     "output_type": "stream",
     "text": [
      "Hourly data for TRIL.JK has been successfully inserted into MySQL.\n",
      "Hourly data for TRIM.JK has been successfully inserted into MySQL.\n"
     ]
    },
    {
     "name": "stderr",
     "output_type": "stream",
     "text": [
      "\n",
      "[*********************100%***********************]  1 of 1 completed\n",
      "[*********************100%***********************]  1 of 1 completed"
     ]
    },
    {
     "name": "stdout",
     "output_type": "stream",
     "text": [
      "Hourly data for TRIO.JK has been successfully inserted into MySQL.\n",
      "Hourly data for TRIS.JK has been successfully inserted into MySQL.\n"
     ]
    },
    {
     "name": "stderr",
     "output_type": "stream",
     "text": [
      "\n",
      "[*********************100%***********************]  1 of 1 completed\n",
      "[*********************100%***********************]  1 of 1 completed"
     ]
    },
    {
     "name": "stdout",
     "output_type": "stream",
     "text": [
      "Hourly data for TRST.JK has been successfully inserted into MySQL.\n"
     ]
    },
    {
     "name": "stderr",
     "output_type": "stream",
     "text": [
      "\n",
      "[*********************100%***********************]  1 of 1 completed\n"
     ]
    },
    {
     "name": "stdout",
     "output_type": "stream",
     "text": [
      "Hourly data for TRUS.JK has been successfully inserted into MySQL.\n",
      "Hourly data for TSPC.JK has been successfully inserted into MySQL.\n"
     ]
    },
    {
     "name": "stderr",
     "output_type": "stream",
     "text": [
      "[*********************100%***********************]  1 of 1 completed\n",
      "[*********************100%***********************]  1 of 1 completed"
     ]
    },
    {
     "name": "stdout",
     "output_type": "stream",
     "text": [
      "Hourly data for ULTJ.JK has been successfully inserted into MySQL.\n"
     ]
    },
    {
     "name": "stderr",
     "output_type": "stream",
     "text": [
      "\n",
      "[*********************100%***********************]  1 of 1 completed\n"
     ]
    },
    {
     "name": "stdout",
     "output_type": "stream",
     "text": [
      "Hourly data for UNIC.JK has been successfully inserted into MySQL.\n",
      "Hourly data for UNIT.JK has been successfully inserted into MySQL.\n"
     ]
    },
    {
     "name": "stderr",
     "output_type": "stream",
     "text": [
      "[*********************100%***********************]  1 of 1 completed\n"
     ]
    },
    {
     "name": "stdout",
     "output_type": "stream",
     "text": [
      "Hourly data for UNSP.JK has been successfully inserted into MySQL.\n"
     ]
    },
    {
     "name": "stderr",
     "output_type": "stream",
     "text": [
      "[*********************100%***********************]  1 of 1 completed\n",
      "[*********************100%***********************]  1 of 1 completed"
     ]
    },
    {
     "name": "stdout",
     "output_type": "stream",
     "text": [
      "Hourly data for UNTR.JK has been successfully inserted into MySQL.\n"
     ]
    },
    {
     "name": "stderr",
     "output_type": "stream",
     "text": [
      "\n"
     ]
    },
    {
     "name": "stdout",
     "output_type": "stream",
     "text": [
      "Hourly data for UNVR.JK has been successfully inserted into MySQL.\n"
     ]
    },
    {
     "name": "stderr",
     "output_type": "stream",
     "text": [
      "[*********************100%***********************]  1 of 1 completed\n"
     ]
    },
    {
     "name": "stdout",
     "output_type": "stream",
     "text": [
      "Hourly data for VICO.JK has been successfully inserted into MySQL.\n"
     ]
    },
    {
     "name": "stderr",
     "output_type": "stream",
     "text": [
      "[*********************100%***********************]  1 of 1 completed\n"
     ]
    },
    {
     "name": "stdout",
     "output_type": "stream",
     "text": [
      "Hourly data for VINS.JK has been successfully inserted into MySQL.\n"
     ]
    },
    {
     "name": "stderr",
     "output_type": "stream",
     "text": [
      "[*********************100%***********************]  1 of 1 completed\n"
     ]
    },
    {
     "name": "stdout",
     "output_type": "stream",
     "text": [
      "Hourly data for VIVA.JK has been successfully inserted into MySQL.\n"
     ]
    },
    {
     "name": "stderr",
     "output_type": "stream",
     "text": [
      "[*********************100%***********************]  1 of 1 completed\n",
      "[*********************100%***********************]  1 of 1 completed\n"
     ]
    },
    {
     "name": "stdout",
     "output_type": "stream",
     "text": [
      "Hourly data for VOKS.JK has been successfully inserted into MySQL.\n",
      "Hourly data for VRNA.JK has been successfully inserted into MySQL.\n"
     ]
    },
    {
     "name": "stderr",
     "output_type": "stream",
     "text": [
      "[*********************100%***********************]  1 of 1 completed\n",
      "[*********************100%***********************]  1 of 1 completed\n"
     ]
    },
    {
     "name": "stdout",
     "output_type": "stream",
     "text": [
      "Hourly data for WAPO.JK has been successfully inserted into MySQL.\n",
      "Hourly data for WEHA.JK has been successfully inserted into MySQL.\n"
     ]
    },
    {
     "name": "stderr",
     "output_type": "stream",
     "text": [
      "[*********************100%***********************]  1 of 1 completed\n"
     ]
    },
    {
     "name": "stdout",
     "output_type": "stream",
     "text": [
      "Hourly data for WICO.JK has been successfully inserted into MySQL.\n"
     ]
    },
    {
     "name": "stderr",
     "output_type": "stream",
     "text": [
      "[*********************100%***********************]  1 of 1 completed\n"
     ]
    },
    {
     "name": "stdout",
     "output_type": "stream",
     "text": [
      "Hourly data for WIIM.JK has been successfully inserted into MySQL.\n"
     ]
    },
    {
     "name": "stderr",
     "output_type": "stream",
     "text": [
      "[*********************100%***********************]  1 of 1 completed\n"
     ]
    },
    {
     "name": "stdout",
     "output_type": "stream",
     "text": [
      "Hourly data for WIKA.JK has been successfully inserted into MySQL.\n"
     ]
    },
    {
     "name": "stderr",
     "output_type": "stream",
     "text": [
      "[*********************100%***********************]  1 of 1 completed\n"
     ]
    },
    {
     "name": "stdout",
     "output_type": "stream",
     "text": [
      "Hourly data for WINS.JK has been successfully inserted into MySQL.\n"
     ]
    },
    {
     "name": "stderr",
     "output_type": "stream",
     "text": [
      "[*********************100%***********************]  1 of 1 completed\n",
      "[*********************100%***********************]  1 of 1 completed\n"
     ]
    },
    {
     "name": "stdout",
     "output_type": "stream",
     "text": [
      "Hourly data for WOMF.JK has been successfully inserted into MySQL.\n",
      "Hourly data for WSKT.JK has been successfully inserted into MySQL.\n"
     ]
    },
    {
     "name": "stderr",
     "output_type": "stream",
     "text": [
      "[*********************100%***********************]  1 of 1 completed\n",
      "[*********************100%***********************]  1 of 1 completed"
     ]
    },
    {
     "name": "stdout",
     "output_type": "stream",
     "text": [
      "Hourly data for WTON.JK has been successfully inserted into MySQL.\n"
     ]
    },
    {
     "name": "stderr",
     "output_type": "stream",
     "text": [
      "\n",
      "[*********************100%***********************]  1 of 1 completed\n"
     ]
    },
    {
     "name": "stdout",
     "output_type": "stream",
     "text": [
      "Hourly data for YPAS.JK has been successfully inserted into MySQL.\n",
      "Hourly data for YULE.JK has been successfully inserted into MySQL.\n"
     ]
    },
    {
     "name": "stderr",
     "output_type": "stream",
     "text": [
      "[*********************100%***********************]  1 of 1 completed\n",
      "[*********************100%***********************]  1 of 1 completed\n"
     ]
    },
    {
     "name": "stdout",
     "output_type": "stream",
     "text": [
      "Hourly data for ZBRA.JK has been successfully inserted into MySQL.\n",
      "Hourly data for SHIP.JK has been successfully inserted into MySQL.\n"
     ]
    },
    {
     "name": "stderr",
     "output_type": "stream",
     "text": [
      "[*********************100%***********************]  1 of 1 completed\n"
     ]
    },
    {
     "name": "stdout",
     "output_type": "stream",
     "text": [
      "Hourly data for CASA.JK has been successfully inserted into MySQL.\n"
     ]
    },
    {
     "name": "stderr",
     "output_type": "stream",
     "text": [
      "[*********************100%***********************]  1 of 1 completed\n",
      "[*********************100%***********************]  1 of 1 completed"
     ]
    },
    {
     "name": "stdout",
     "output_type": "stream",
     "text": [
      "Hourly data for DAYA.JK has been successfully inserted into MySQL.\n",
      "Hourly data for DPUM.JK has been successfully inserted into MySQL.\n"
     ]
    },
    {
     "name": "stderr",
     "output_type": "stream",
     "text": [
      "\n",
      "[*********************100%***********************]  1 of 1 completed\n",
      "[*********************100%***********************]  1 of 1 completed\n"
     ]
    },
    {
     "name": "stdout",
     "output_type": "stream",
     "text": [
      "Hourly data for IDPR.JK has been successfully inserted into MySQL.\n",
      "Hourly data for JGLE.JK has been successfully inserted into MySQL.\n"
     ]
    },
    {
     "name": "stderr",
     "output_type": "stream",
     "text": [
      "[*********************100%***********************]  1 of 1 completed\n",
      "[*********************100%***********************]  1 of 1 completed\n"
     ]
    },
    {
     "name": "stdout",
     "output_type": "stream",
     "text": [
      "Hourly data for KINO.JK has been successfully inserted into MySQL.\n"
     ]
    },
    {
     "name": "stderr",
     "output_type": "stream",
     "text": [
      "[*********************100%***********************]  1 of 1 completed\n"
     ]
    },
    {
     "name": "stdout",
     "output_type": "stream",
     "text": [
      "Hourly data for MARI.JK has been successfully inserted into MySQL.\n",
      "Hourly data for MKNT.JK has been successfully inserted into MySQL.\n"
     ]
    },
    {
     "name": "stderr",
     "output_type": "stream",
     "text": [
      "[*********************100%***********************]  1 of 1 completed\n",
      "[*********************100%***********************]  1 of 1 completed\n"
     ]
    },
    {
     "name": "stdout",
     "output_type": "stream",
     "text": [
      "Hourly data for MTRA.JK has been successfully inserted into MySQL.\n",
      "Hourly data for OASA.JK has been successfully inserted into MySQL.\n"
     ]
    },
    {
     "name": "stderr",
     "output_type": "stream",
     "text": [
      "[*********************100%***********************]  1 of 1 completed\n",
      "[*********************100%***********************]  1 of 1 completed"
     ]
    },
    {
     "name": "stdout",
     "output_type": "stream",
     "text": [
      "Hourly data for POWR.JK has been successfully inserted into MySQL.\n"
     ]
    },
    {
     "name": "stderr",
     "output_type": "stream",
     "text": [
      "\n",
      "[*********************100%***********************]  1 of 1 completed\n"
     ]
    },
    {
     "name": "stdout",
     "output_type": "stream",
     "text": [
      "Hourly data for INCF.JK has been successfully inserted into MySQL.\n",
      "Hourly data for WSBP.JK has been successfully inserted into MySQL.\n"
     ]
    },
    {
     "name": "stderr",
     "output_type": "stream",
     "text": [
      "[*********************100%***********************]  1 of 1 completed\n"
     ]
    },
    {
     "name": "stdout",
     "output_type": "stream",
     "text": [
      "Hourly data for PBSA.JK has been successfully inserted into MySQL.\n"
     ]
    },
    {
     "name": "stderr",
     "output_type": "stream",
     "text": [
      "[*********************100%***********************]  1 of 1 completed\n",
      "[*********************100%***********************]  1 of 1 completed\n"
     ]
    },
    {
     "name": "stdout",
     "output_type": "stream",
     "text": [
      "Hourly data for PRDA.JK has been successfully inserted into MySQL.\n",
      "Hourly data for BOGA.JK has been successfully inserted into MySQL.\n"
     ]
    },
    {
     "name": "stderr",
     "output_type": "stream",
     "text": [
      "[*********************100%***********************]  1 of 1 completed\n",
      "[*********************100%***********************]  1 of 1 completed\n"
     ]
    },
    {
     "name": "stdout",
     "output_type": "stream",
     "text": [
      "Hourly data for BRIS.JK has been successfully inserted into MySQL.\n",
      "Hourly data for PORT.JK has been successfully inserted into MySQL.\n"
     ]
    },
    {
     "name": "stderr",
     "output_type": "stream",
     "text": [
      "[*********************100%***********************]  1 of 1 completed\n",
      "[*********************100%***********************]  1 of 1 completed\n"
     ]
    },
    {
     "name": "stdout",
     "output_type": "stream",
     "text": [
      "Hourly data for CARS.JK has been successfully inserted into MySQL.\n",
      "Hourly data for MINA.JK has been successfully inserted into MySQL.\n"
     ]
    },
    {
     "name": "stderr",
     "output_type": "stream",
     "text": [
      "[*********************100%***********************]  1 of 1 completed\n",
      "[*********************100%***********************]  1 of 1 completed"
     ]
    },
    {
     "name": "stdout",
     "output_type": "stream",
     "text": [
      "Hourly data for FORZ.JK has been successfully inserted into MySQL.\n",
      "Hourly data for CLEO.JK has been successfully inserted into MySQL.\n"
     ]
    },
    {
     "name": "stderr",
     "output_type": "stream",
     "text": [
      "\n",
      "[*********************100%***********************]  1 of 1 completed\n"
     ]
    },
    {
     "name": "stdout",
     "output_type": "stream",
     "text": [
      "Hourly data for TAMU.JK has been successfully inserted into MySQL.\n"
     ]
    },
    {
     "name": "stderr",
     "output_type": "stream",
     "text": [
      "[*********************100%***********************]  1 of 1 completed\n"
     ]
    },
    {
     "name": "stdout",
     "output_type": "stream",
     "text": [
      "Hourly data for CSIS.JK has been successfully inserted into MySQL.\n"
     ]
    },
    {
     "name": "stderr",
     "output_type": "stream",
     "text": [
      "[*********************100%***********************]  1 of 1 completed\n"
     ]
    },
    {
     "name": "stdout",
     "output_type": "stream",
     "text": [
      "Hourly data for TGRA.JK has been successfully inserted into MySQL.\n"
     ]
    },
    {
     "name": "stderr",
     "output_type": "stream",
     "text": [
      "[*********************100%***********************]  1 of 1 completed\n",
      "[*********************100%***********************]  1 of 1 completed"
     ]
    },
    {
     "name": "stdout",
     "output_type": "stream",
     "text": [
      "Hourly data for FIRE.JK has been successfully inserted into MySQL.\n",
      "Hourly data for TOPS.JK has been successfully inserted into MySQL.\n"
     ]
    },
    {
     "name": "stderr",
     "output_type": "stream",
     "text": [
      "\n",
      "[*********************100%***********************]  1 of 1 completed\n",
      "[*********************100%***********************]  1 of 1 completed\n"
     ]
    },
    {
     "name": "stdout",
     "output_type": "stream",
     "text": [
      "Hourly data for KMTR.JK has been successfully inserted into MySQL.\n",
      "Hourly data for ARMY.JK has been successfully inserted into MySQL.\n"
     ]
    },
    {
     "name": "stderr",
     "output_type": "stream",
     "text": [
      "[*********************100%***********************]  1 of 1 completed\n",
      "[*********************100%***********************]  1 of 1 completed\n"
     ]
    },
    {
     "name": "stdout",
     "output_type": "stream",
     "text": [
      "Hourly data for MAPB.JK has been successfully inserted into MySQL.\n",
      "Hourly data for WOOD.JK has been successfully inserted into MySQL.\n"
     ]
    },
    {
     "name": "stderr",
     "output_type": "stream",
     "text": [
      "[*********************100%***********************]  1 of 1 completed\n",
      "[*********************100%***********************]  1 of 1 completed\n"
     ]
    },
    {
     "name": "stdout",
     "output_type": "stream",
     "text": [
      "Hourly data for HRTA.JK has been successfully inserted into MySQL.\n",
      "Hourly data for MABA.JK has been successfully inserted into MySQL.\n"
     ]
    },
    {
     "name": "stderr",
     "output_type": "stream",
     "text": [
      "[*********************100%***********************]  1 of 1 completed\n"
     ]
    },
    {
     "name": "stdout",
     "output_type": "stream",
     "text": [
      "Hourly data for HOKI.JK has been successfully inserted into MySQL.\n"
     ]
    },
    {
     "name": "stderr",
     "output_type": "stream",
     "text": [
      "[*********************100%***********************]  1 of 1 completed\n"
     ]
    },
    {
     "name": "stdout",
     "output_type": "stream",
     "text": [
      "Hourly data for MPOW.JK has been successfully inserted into MySQL.\n"
     ]
    },
    {
     "name": "stderr",
     "output_type": "stream",
     "text": [
      "[*********************100%***********************]  1 of 1 completed\n",
      "[*********************100%***********************]  1 of 1 completed"
     ]
    },
    {
     "name": "stdout",
     "output_type": "stream",
     "text": [
      "Hourly data for MARK.JK has been successfully inserted into MySQL.\n",
      "Hourly data for NASA.JK has been successfully inserted into MySQL.\n"
     ]
    },
    {
     "name": "stderr",
     "output_type": "stream",
     "text": [
      "\n",
      "[*********************100%***********************]  1 of 1 completed\n",
      "[*********************100%***********************]  1 of 1 completed\n"
     ]
    },
    {
     "name": "stdout",
     "output_type": "stream",
     "text": [
      "Hourly data for MDKI.JK has been successfully inserted into MySQL.\n",
      "Hourly data for BELL.JK has been successfully inserted into MySQL.\n"
     ]
    },
    {
     "name": "stderr",
     "output_type": "stream",
     "text": [
      "[*********************100%***********************]  1 of 1 completed\n",
      "[*********************100%***********************]  1 of 1 completed\n"
     ]
    },
    {
     "name": "stdout",
     "output_type": "stream",
     "text": [
      "Hourly data for KIOS.JK has been successfully inserted into MySQL.\n"
     ]
    },
    {
     "name": "stderr",
     "output_type": "stream",
     "text": [
      "[*********************100%***********************]  1 of 1 completed"
     ]
    },
    {
     "name": "stdout",
     "output_type": "stream",
     "text": [
      "Hourly data for GMFI.JK has been successfully inserted into MySQL.\n"
     ]
    },
    {
     "name": "stderr",
     "output_type": "stream",
     "text": [
      "\n"
     ]
    },
    {
     "name": "stdout",
     "output_type": "stream",
     "text": [
      "Hourly data for MTWI.JK has been successfully inserted into MySQL.\n"
     ]
    },
    {
     "name": "stderr",
     "output_type": "stream",
     "text": [
      "[*********************100%***********************]  1 of 1 completed\n",
      "[*********************100%***********************]  1 of 1 completed"
     ]
    },
    {
     "name": "stdout",
     "output_type": "stream",
     "text": [
      "Hourly data for ZINC.JK has been successfully inserted into MySQL.\n"
     ]
    },
    {
     "name": "stderr",
     "output_type": "stream",
     "text": [
      "\n",
      "[*********************100%***********************]  1 of 1 completed"
     ]
    },
    {
     "name": "stdout",
     "output_type": "stream",
     "text": [
      "Hourly data for MCAS.JK has been successfully inserted into MySQL.\n",
      "Hourly data for PPRE.JK has been successfully inserted into MySQL.\n"
     ]
    },
    {
     "name": "stderr",
     "output_type": "stream",
     "text": [
      "\n",
      "[*********************100%***********************]  1 of 1 completed\n",
      "[*********************100%***********************]  1 of 1 completed"
     ]
    },
    {
     "name": "stdout",
     "output_type": "stream",
     "text": [
      "Hourly data for WEGE.JK has been successfully inserted into MySQL.\n"
     ]
    },
    {
     "name": "stderr",
     "output_type": "stream",
     "text": [
      "\n",
      "[*********************100%***********************]  1 of 1 completed\n"
     ]
    },
    {
     "name": "stdout",
     "output_type": "stream",
     "text": [
      "Hourly data for PSSI.JK has been successfully inserted into MySQL.\n",
      "Hourly data for MORA.JK has been successfully inserted into MySQL.\n"
     ]
    },
    {
     "name": "stderr",
     "output_type": "stream",
     "text": [
      "[*********************100%***********************]  1 of 1 completed\n",
      "[*********************100%***********************]  1 of 1 completed\n"
     ]
    },
    {
     "name": "stdout",
     "output_type": "stream",
     "text": [
      "Hourly data for DWGL.JK has been successfully inserted into MySQL.\n",
      "Hourly data for PBID.JK has been successfully inserted into MySQL.\n"
     ]
    },
    {
     "name": "stderr",
     "output_type": "stream",
     "text": [
      "[*********************100%***********************]  1 of 1 completed\n"
     ]
    },
    {
     "name": "stdout",
     "output_type": "stream",
     "text": [
      "Hourly data for JMAS.JK has been successfully inserted into MySQL.\n"
     ]
    },
    {
     "name": "stderr",
     "output_type": "stream",
     "text": [
      "[*********************100%***********************]  1 of 1 completed\n"
     ]
    },
    {
     "name": "stdout",
     "output_type": "stream",
     "text": [
      "Hourly data for CAMP.JK has been successfully inserted into MySQL.\n"
     ]
    },
    {
     "name": "stderr",
     "output_type": "stream",
     "text": [
      "[*********************100%***********************]  1 of 1 completed\n"
     ]
    },
    {
     "name": "stdout",
     "output_type": "stream",
     "text": [
      "Hourly data for IPCM.JK has been successfully inserted into MySQL.\n"
     ]
    },
    {
     "name": "stderr",
     "output_type": "stream",
     "text": [
      "[*********************100%***********************]  1 of 1 completed\n"
     ]
    },
    {
     "name": "stdout",
     "output_type": "stream",
     "text": [
      "Hourly data for PCAR.JK has been successfully inserted into MySQL.\n"
     ]
    },
    {
     "name": "stderr",
     "output_type": "stream",
     "text": [
      "[*********************100%***********************]  1 of 1 completed\n",
      "[*********************100%***********************]  1 of 1 completed\n"
     ]
    },
    {
     "name": "stdout",
     "output_type": "stream",
     "text": [
      "Hourly data for LCKM.JK has been successfully inserted into MySQL.\n",
      "Hourly data for BOSS.JK has been successfully inserted into MySQL.\n"
     ]
    },
    {
     "name": "stderr",
     "output_type": "stream",
     "text": [
      "[*********************100%***********************]  1 of 1 completed\n",
      "[*********************100%***********************]  1 of 1 completed\n"
     ]
    },
    {
     "name": "stdout",
     "output_type": "stream",
     "text": [
      "Hourly data for HELI.JK has been successfully inserted into MySQL.\n",
      "Hourly data for JSKY.JK has been successfully inserted into MySQL.\n"
     ]
    },
    {
     "name": "stderr",
     "output_type": "stream",
     "text": [
      "[*********************100%***********************]  1 of 1 completed\n",
      "[*********************100%***********************]  1 of 1 completed"
     ]
    },
    {
     "name": "stdout",
     "output_type": "stream",
     "text": [
      "Hourly data for INPS.JK has been successfully inserted into MySQL.\n",
      "Hourly data for GHON.JK has been successfully inserted into MySQL.\n"
     ]
    },
    {
     "name": "stderr",
     "output_type": "stream",
     "text": [
      "\n",
      "[*********************100%***********************]  1 of 1 completed\n",
      "[*********************100%***********************]  1 of 1 completed"
     ]
    },
    {
     "name": "stdout",
     "output_type": "stream",
     "text": [
      "Hourly data for TDPM.JK has been successfully inserted into MySQL.\n",
      "Hourly data for DFAM.JK has been successfully inserted into MySQL.\n"
     ]
    },
    {
     "name": "stderr",
     "output_type": "stream",
     "text": [
      "\n",
      "[*********************100%***********************]  1 of 1 completed\n",
      "[*********************100%***********************]  1 of 1 completed\n"
     ]
    },
    {
     "name": "stdout",
     "output_type": "stream",
     "text": [
      "Hourly data for NICK.JK has been successfully inserted into MySQL.\n",
      "Hourly data for BTPS.JK has been successfully inserted into MySQL.\n"
     ]
    },
    {
     "name": "stderr",
     "output_type": "stream",
     "text": [
      "[*********************100%***********************]  1 of 1 completed\n"
     ]
    },
    {
     "name": "stdout",
     "output_type": "stream",
     "text": [
      "Hourly data for SPTO.JK has been successfully inserted into MySQL.\n"
     ]
    },
    {
     "name": "stderr",
     "output_type": "stream",
     "text": [
      "[*********************100%***********************]  1 of 1 completed\n"
     ]
    },
    {
     "name": "stdout",
     "output_type": "stream",
     "text": [
      "Hourly data for PRIM.JK has been successfully inserted into MySQL.\n"
     ]
    },
    {
     "name": "stderr",
     "output_type": "stream",
     "text": [
      "[*********************100%***********************]  1 of 1 completed\n"
     ]
    },
    {
     "name": "stdout",
     "output_type": "stream",
     "text": [
      "Hourly data for HEAL.JK has been successfully inserted into MySQL.\n"
     ]
    },
    {
     "name": "stderr",
     "output_type": "stream",
     "text": [
      "[*********************100%***********************]  1 of 1 completed\n"
     ]
    },
    {
     "name": "stdout",
     "output_type": "stream",
     "text": [
      "Hourly data for TRUK.JK has been successfully inserted into MySQL.\n"
     ]
    },
    {
     "name": "stderr",
     "output_type": "stream",
     "text": [
      "[*********************100%***********************]  1 of 1 completed\n",
      "[*********************100%***********************]  1 of 1 completed"
     ]
    },
    {
     "name": "stdout",
     "output_type": "stream",
     "text": [
      "Hourly data for PZZA.JK has been successfully inserted into MySQL.\n",
      "Hourly data for TUGU.JK has been successfully inserted into MySQL.\n"
     ]
    },
    {
     "name": "stderr",
     "output_type": "stream",
     "text": [
      "\n",
      "[*********************100%***********************]  1 of 1 completed\n",
      "[*********************100%***********************]  1 of 1 completed\n"
     ]
    },
    {
     "name": "stdout",
     "output_type": "stream",
     "text": [
      "Hourly data for MSIN.JK has been successfully inserted into MySQL.\n",
      "Hourly data for SWAT.JK has been successfully inserted into MySQL.\n"
     ]
    },
    {
     "name": "stderr",
     "output_type": "stream",
     "text": [
      "[*********************100%***********************]  1 of 1 completed\n",
      "[*********************100%***********************]  1 of 1 completed"
     ]
    },
    {
     "name": "stdout",
     "output_type": "stream",
     "text": [
      "Hourly data for KPAL.JK has been successfully inserted into MySQL.\n"
     ]
    },
    {
     "name": "stderr",
     "output_type": "stream",
     "text": [
      "\n"
     ]
    },
    {
     "name": "stdout",
     "output_type": "stream",
     "text": [
      "Hourly data for TNCA.JK has been successfully inserted into MySQL.\n"
     ]
    },
    {
     "name": "stderr",
     "output_type": "stream",
     "text": [
      "[*********************100%***********************]  1 of 1 completed\n"
     ]
    },
    {
     "name": "stdout",
     "output_type": "stream",
     "text": [
      "Hourly data for MAPA.JK has been successfully inserted into MySQL.\n"
     ]
    },
    {
     "name": "stderr",
     "output_type": "stream",
     "text": [
      "[*********************100%***********************]  1 of 1 completed\n"
     ]
    },
    {
     "name": "stdout",
     "output_type": "stream",
     "text": [
      "Hourly data for TCPI.JK has been successfully inserted into MySQL.\n"
     ]
    },
    {
     "name": "stderr",
     "output_type": "stream",
     "text": [
      "[*********************100%***********************]  1 of 1 completed\n"
     ]
    },
    {
     "name": "stdout",
     "output_type": "stream",
     "text": [
      "Hourly data for IPCC.JK has been successfully inserted into MySQL.\n"
     ]
    },
    {
     "name": "stderr",
     "output_type": "stream",
     "text": [
      "[*********************100%***********************]  1 of 1 completed\n"
     ]
    },
    {
     "name": "stdout",
     "output_type": "stream",
     "text": [
      "Hourly data for RISE.JK has been successfully inserted into MySQL.\n"
     ]
    },
    {
     "name": "stderr",
     "output_type": "stream",
     "text": [
      "[*********************100%***********************]  1 of 1 completed\n",
      "[*********************100%***********************]  1 of 1 completed"
     ]
    },
    {
     "name": "stdout",
     "output_type": "stream",
     "text": [
      "Hourly data for BPTR.JK has been successfully inserted into MySQL.\n",
      "Hourly data for POLL.JK has been successfully inserted into MySQL.\n"
     ]
    },
    {
     "name": "stderr",
     "output_type": "stream",
     "text": [
      "\n",
      "[*********************100%***********************]  1 of 1 completed\n",
      "[*********************100%***********************]  1 of 1 completed\n"
     ]
    },
    {
     "name": "stdout",
     "output_type": "stream",
     "text": [
      "Hourly data for NFCX.JK has been successfully inserted into MySQL.\n"
     ]
    },
    {
     "name": "stderr",
     "output_type": "stream",
     "text": [
      "[*********************100%***********************]  1 of 1 completed\n"
     ]
    },
    {
     "name": "stdout",
     "output_type": "stream",
     "text": [
      "Hourly data for MGRO.JK has been successfully inserted into MySQL.\n",
      "Hourly data for NUSA.JK has been successfully inserted into MySQL.\n"
     ]
    },
    {
     "name": "stderr",
     "output_type": "stream",
     "text": [
      "[*********************100%***********************]  1 of 1 completed\n",
      "[*********************100%***********************]  1 of 1 completed\n"
     ]
    },
    {
     "name": "stdout",
     "output_type": "stream",
     "text": [
      "Hourly data for FILM.JK has been successfully inserted into MySQL.\n",
      "Hourly data for ANDI.JK has been successfully inserted into MySQL.\n"
     ]
    },
    {
     "name": "stderr",
     "output_type": "stream",
     "text": [
      "[*********************100%***********************]  1 of 1 completed\n"
     ]
    },
    {
     "name": "stdout",
     "output_type": "stream",
     "text": [
      "Hourly data for LAND.JK has been successfully inserted into MySQL.\n"
     ]
    },
    {
     "name": "stderr",
     "output_type": "stream",
     "text": [
      "[*********************100%***********************]  1 of 1 completed\n"
     ]
    },
    {
     "name": "stdout",
     "output_type": "stream",
     "text": [
      "Hourly data for MOLI.JK has been successfully inserted into MySQL.\n"
     ]
    },
    {
     "name": "stderr",
     "output_type": "stream",
     "text": [
      "[*********************100%***********************]  1 of 1 completed\n",
      "[*********************100%***********************]  1 of 1 completed"
     ]
    },
    {
     "name": "stdout",
     "output_type": "stream",
     "text": [
      "Hourly data for PANI.JK has been successfully inserted into MySQL.\n",
      "Hourly data for DIGI.JK has been successfully inserted into MySQL.\n"
     ]
    },
    {
     "name": "stderr",
     "output_type": "stream",
     "text": [
      "\n",
      "[*********************100%***********************]  1 of 1 completed\n",
      "[*********************100%***********************]  1 of 1 completed"
     ]
    },
    {
     "name": "stdout",
     "output_type": "stream",
     "text": [
      "Hourly data for CITY.JK has been successfully inserted into MySQL.\n",
      "Hourly data for SAPX.JK has been successfully inserted into MySQL.\n"
     ]
    },
    {
     "name": "stderr",
     "output_type": "stream",
     "text": [
      "\n",
      "[*********************100%***********************]  1 of 1 completed\n",
      "[*********************100%***********************]  1 of 1 completed\n"
     ]
    },
    {
     "name": "stdout",
     "output_type": "stream",
     "text": [
      "Hourly data for KPAS.JK has been successfully inserted into MySQL.\n",
      "Hourly data for SURE.JK has been successfully inserted into MySQL.\n"
     ]
    },
    {
     "name": "stderr",
     "output_type": "stream",
     "text": [
      "[*********************100%***********************]  1 of 1 completed\n",
      "[*********************100%***********************]  1 of 1 completed\n"
     ]
    },
    {
     "name": "stdout",
     "output_type": "stream",
     "text": [
      "Hourly data for HKMU.JK has been successfully inserted into MySQL.\n",
      "Hourly data for MPRO.JK has been successfully inserted into MySQL.\n"
     ]
    },
    {
     "name": "stderr",
     "output_type": "stream",
     "text": [
      "[*********************100%***********************]  1 of 1 completed\n",
      "[*********************100%***********************]  1 of 1 completed\n"
     ]
    },
    {
     "name": "stdout",
     "output_type": "stream",
     "text": [
      "Hourly data for DUCK.JK has been successfully inserted into MySQL.\n",
      "Hourly data for GOOD.JK has been successfully inserted into MySQL.\n"
     ]
    },
    {
     "name": "stderr",
     "output_type": "stream",
     "text": [
      "[*********************100%***********************]  1 of 1 completed\n",
      "[*********************100%***********************]  1 of 1 completed"
     ]
    },
    {
     "name": "stdout",
     "output_type": "stream",
     "text": [
      "Hourly data for SKRN.JK has been successfully inserted into MySQL.\n"
     ]
    },
    {
     "name": "stderr",
     "output_type": "stream",
     "text": [
      "\n",
      "[*********************100%***********************]  1 of 1 completed"
     ]
    },
    {
     "name": "stdout",
     "output_type": "stream",
     "text": [
      "Hourly data for YELO.JK has been successfully inserted into MySQL.\n"
     ]
    },
    {
     "name": "stderr",
     "output_type": "stream",
     "text": [
      "\n",
      "[*********************100%***********************]  1 of 1 completed"
     ]
    },
    {
     "name": "stdout",
     "output_type": "stream",
     "text": [
      "Hourly data for CAKK.JK has been successfully inserted into MySQL.\n"
     ]
    },
    {
     "name": "stderr",
     "output_type": "stream",
     "text": [
      "\n",
      "[*********************100%***********************]  1 of 1 completed"
     ]
    },
    {
     "name": "stdout",
     "output_type": "stream",
     "text": [
      "Hourly data for SATU.JK has been successfully inserted into MySQL.\n",
      "Hourly data for SOSS.JK has been successfully inserted into MySQL.\n"
     ]
    },
    {
     "name": "stderr",
     "output_type": "stream",
     "text": [
      "\n",
      "[*********************100%***********************]  1 of 1 completed\n",
      "[*********************100%***********************]  1 of 1 completed\n"
     ]
    },
    {
     "name": "stdout",
     "output_type": "stream",
     "text": [
      "Hourly data for DEAL.JK has been successfully inserted into MySQL.\n",
      "Hourly data for POLA.JK has been successfully inserted into MySQL.\n"
     ]
    },
    {
     "name": "stderr",
     "output_type": "stream",
     "text": [
      "[*********************100%***********************]  1 of 1 completed\n",
      "[*********************100%***********************]  1 of 1 completed"
     ]
    },
    {
     "name": "stdout",
     "output_type": "stream",
     "text": [
      "Hourly data for DIVA.JK has been successfully inserted into MySQL.\n",
      "Hourly data for LUCK.JK has been successfully inserted into MySQL.\n"
     ]
    },
    {
     "name": "stderr",
     "output_type": "stream",
     "text": [
      "\n",
      "[*********************100%***********************]  1 of 1 completed\n",
      "[*********************100%***********************]  1 of 1 completed\n"
     ]
    },
    {
     "name": "stdout",
     "output_type": "stream",
     "text": [
      "Hourly data for URBN.JK has been successfully inserted into MySQL.\n",
      "Hourly data for SOTS.JK has been successfully inserted into MySQL.\n"
     ]
    },
    {
     "name": "stderr",
     "output_type": "stream",
     "text": [
      "[*********************100%***********************]  1 of 1 completed\n",
      "[*********************100%***********************]  1 of 1 completed\n"
     ]
    },
    {
     "name": "stdout",
     "output_type": "stream",
     "text": [
      "Hourly data for ZONE.JK has been successfully inserted into MySQL.\n"
     ]
    },
    {
     "name": "stderr",
     "output_type": "stream",
     "text": [
      "[*********************100%***********************]  1 of 1 completed"
     ]
    },
    {
     "name": "stdout",
     "output_type": "stream",
     "text": [
      "Hourly data for PEHA.JK has been successfully inserted into MySQL.\n"
     ]
    },
    {
     "name": "stderr",
     "output_type": "stream",
     "text": [
      "\n"
     ]
    },
    {
     "name": "stdout",
     "output_type": "stream",
     "text": [
      "Hourly data for FOOD.JK has been successfully inserted into MySQL.\n"
     ]
    },
    {
     "name": "stderr",
     "output_type": "stream",
     "text": [
      "[*********************100%***********************]  1 of 1 completed\n",
      "[*********************100%***********************]  1 of 1 completed\n"
     ]
    },
    {
     "name": "stdout",
     "output_type": "stream",
     "text": [
      "Hourly data for BEEF.JK has been successfully inserted into MySQL.\n",
      "Hourly data for POLI.JK has been successfully inserted into MySQL.\n"
     ]
    },
    {
     "name": "stderr",
     "output_type": "stream",
     "text": [
      "[*********************100%***********************]  1 of 1 completed\n"
     ]
    },
    {
     "name": "stdout",
     "output_type": "stream",
     "text": [
      "Hourly data for CLAY.JK has been successfully inserted into MySQL.\n"
     ]
    },
    {
     "name": "stderr",
     "output_type": "stream",
     "text": [
      "[*********************100%***********************]  1 of 1 completed\n"
     ]
    },
    {
     "name": "stdout",
     "output_type": "stream",
     "text": [
      "Hourly data for NATO.JK has been successfully inserted into MySQL.\n"
     ]
    },
    {
     "name": "stderr",
     "output_type": "stream",
     "text": [
      "[*********************100%***********************]  1 of 1 completed\n"
     ]
    },
    {
     "name": "stdout",
     "output_type": "stream",
     "text": [
      "Hourly data for JAYA.JK has been successfully inserted into MySQL.\n"
     ]
    },
    {
     "name": "stderr",
     "output_type": "stream",
     "text": [
      "[*********************100%***********************]  1 of 1 completed\n"
     ]
    },
    {
     "name": "stdout",
     "output_type": "stream",
     "text": [
      "Hourly data for COCO.JK has been successfully inserted into MySQL.\n"
     ]
    },
    {
     "name": "stderr",
     "output_type": "stream",
     "text": [
      "[*********************100%***********************]  1 of 1 completed\n",
      "[*********************100%***********************]  1 of 1 completed"
     ]
    },
    {
     "name": "stdout",
     "output_type": "stream",
     "text": [
      "Hourly data for MTPS.JK has been successfully inserted into MySQL.\n",
      "Hourly data for CPRI.JK has been successfully inserted into MySQL.\n"
     ]
    },
    {
     "name": "stderr",
     "output_type": "stream",
     "text": [
      "\n",
      "[*********************100%***********************]  1 of 1 completed\n",
      "[*********************100%***********************]  1 of 1 completed"
     ]
    },
    {
     "name": "stdout",
     "output_type": "stream",
     "text": [
      "Hourly data for HRME.JK has been successfully inserted into MySQL.\n",
      "Hourly data for POSA.JK has been successfully inserted into MySQL.\n"
     ]
    },
    {
     "name": "stderr",
     "output_type": "stream",
     "text": [
      "\n",
      "[*********************100%***********************]  1 of 1 completed\n",
      "[*********************100%***********************]  1 of 1 completed"
     ]
    },
    {
     "name": "stdout",
     "output_type": "stream",
     "text": [
      "Hourly data for JAST.JK has been successfully inserted into MySQL.\n"
     ]
    },
    {
     "name": "stderr",
     "output_type": "stream",
     "text": [
      "\n"
     ]
    },
    {
     "name": "stdout",
     "output_type": "stream",
     "text": [
      "Hourly data for FITT.JK has been successfully inserted into MySQL.\n"
     ]
    },
    {
     "name": "stderr",
     "output_type": "stream",
     "text": [
      "[*********************100%***********************]  1 of 1 completed\n"
     ]
    },
    {
     "name": "stdout",
     "output_type": "stream",
     "text": [
      "Hourly data for BOLA.JK has been successfully inserted into MySQL.\n"
     ]
    },
    {
     "name": "stderr",
     "output_type": "stream",
     "text": [
      "[*********************100%***********************]  1 of 1 completed\n",
      "[*********************100%***********************]  1 of 1 completed\n"
     ]
    },
    {
     "name": "stdout",
     "output_type": "stream",
     "text": [
      "Hourly data for CCSI.JK has been successfully inserted into MySQL.\n",
      "Hourly data for SFAN.JK has been successfully inserted into MySQL.\n"
     ]
    },
    {
     "name": "stderr",
     "output_type": "stream",
     "text": [
      "[*********************100%***********************]  1 of 1 completed\n"
     ]
    },
    {
     "name": "stdout",
     "output_type": "stream",
     "text": [
      "Hourly data for POLU.JK has been successfully inserted into MySQL.\n"
     ]
    },
    {
     "name": "stderr",
     "output_type": "stream",
     "text": [
      "[*********************100%***********************]  1 of 1 completed\n",
      "[*********************100%***********************]  1 of 1 completed\n"
     ]
    },
    {
     "name": "stdout",
     "output_type": "stream",
     "text": [
      "Hourly data for KJEN.JK has been successfully inserted into MySQL.\n",
      "Hourly data for KAYU.JK has been successfully inserted into MySQL.\n"
     ]
    },
    {
     "name": "stderr",
     "output_type": "stream",
     "text": [
      "[*********************100%***********************]  1 of 1 completed\n",
      "[*********************100%***********************]  1 of 1 completed"
     ]
    },
    {
     "name": "stdout",
     "output_type": "stream",
     "text": [
      "Hourly data for ITIC.JK has been successfully inserted into MySQL.\n"
     ]
    },
    {
     "name": "stderr",
     "output_type": "stream",
     "text": [
      "\n",
      "[*********************100%***********************]  1 of 1 completed\n"
     ]
    },
    {
     "name": "stdout",
     "output_type": "stream",
     "text": [
      "Hourly data for PAMG.JK has been successfully inserted into MySQL.\n",
      "Hourly data for IPTV.JK has been successfully inserted into MySQL.\n"
     ]
    },
    {
     "name": "stderr",
     "output_type": "stream",
     "text": [
      "[*********************100%***********************]  1 of 1 completed\n",
      "[*********************100%***********************]  1 of 1 completed\n"
     ]
    },
    {
     "name": "stdout",
     "output_type": "stream",
     "text": [
      "Hourly data for BLUE.JK has been successfully inserted into MySQL.\n",
      "Hourly data for ENVY.JK has been successfully inserted into MySQL.\n"
     ]
    },
    {
     "name": "stderr",
     "output_type": "stream",
     "text": [
      "[*********************100%***********************]  1 of 1 completed\n",
      "[*********************100%***********************]  1 of 1 completed"
     ]
    },
    {
     "name": "stdout",
     "output_type": "stream",
     "text": [
      "Hourly data for EAST.JK has been successfully inserted into MySQL.\n",
      "Hourly data for LIFE.JK has been successfully inserted into MySQL.\n"
     ]
    },
    {
     "name": "stderr",
     "output_type": "stream",
     "text": [
      "\n",
      "[*********************100%***********************]  1 of 1 completed\n",
      "[*********************100%***********************]  1 of 1 completed"
     ]
    },
    {
     "name": "stdout",
     "output_type": "stream",
     "text": [
      "Hourly data for FUJI.JK has been successfully inserted into MySQL.\n",
      "Hourly data for KOTA.JK has been successfully inserted into MySQL.\n"
     ]
    },
    {
     "name": "stderr",
     "output_type": "stream",
     "text": [
      "\n",
      "[*********************100%***********************]  1 of 1 completed\n"
     ]
    },
    {
     "name": "stdout",
     "output_type": "stream",
     "text": [
      "Hourly data for INOV.JK has been successfully inserted into MySQL.\n"
     ]
    },
    {
     "name": "stderr",
     "output_type": "stream",
     "text": [
      "[*********************100%***********************]  1 of 1 completed\n"
     ]
    },
    {
     "name": "stdout",
     "output_type": "stream",
     "text": [
      "Hourly data for ARKA.JK has been successfully inserted into MySQL.\n"
     ]
    },
    {
     "name": "stderr",
     "output_type": "stream",
     "text": [
      "[*********************100%***********************]  1 of 1 completed\n",
      "[*********************100%***********************]  1 of 1 completed"
     ]
    },
    {
     "name": "stdout",
     "output_type": "stream",
     "text": [
      "Hourly data for SMKL.JK has been successfully inserted into MySQL.\n"
     ]
    },
    {
     "name": "stderr",
     "output_type": "stream",
     "text": [
      "\n",
      "[*********************100%***********************]  1 of 1 completed\n"
     ]
    },
    {
     "name": "stdout",
     "output_type": "stream",
     "text": [
      "Hourly data for HDIT.JK has been successfully inserted into MySQL.\n",
      "Hourly data for KEEN.JK has been successfully inserted into MySQL.\n"
     ]
    },
    {
     "name": "stderr",
     "output_type": "stream",
     "text": [
      "[*********************100%***********************]  1 of 1 completed\n",
      "[*********************100%***********************]  1 of 1 completed\n"
     ]
    },
    {
     "name": "stdout",
     "output_type": "stream",
     "text": [
      "Hourly data for BAPI.JK has been successfully inserted into MySQL.\n",
      "Hourly data for TFAS.JK has been successfully inserted into MySQL.\n"
     ]
    },
    {
     "name": "stderr",
     "output_type": "stream",
     "text": [
      "[*********************100%***********************]  1 of 1 completed\n",
      "[*********************100%***********************]  1 of 1 completed\n"
     ]
    },
    {
     "name": "stdout",
     "output_type": "stream",
     "text": [
      "Hourly data for GGRP.JK has been successfully inserted into MySQL.\n",
      "Hourly data for OPMS.JK has been successfully inserted into MySQL.\n"
     ]
    },
    {
     "name": "stderr",
     "output_type": "stream",
     "text": [
      "[*********************100%***********************]  1 of 1 completed\n"
     ]
    },
    {
     "name": "stdout",
     "output_type": "stream",
     "text": [
      "Hourly data for NZIA.JK has been successfully inserted into MySQL.\n"
     ]
    },
    {
     "name": "stderr",
     "output_type": "stream",
     "text": [
      "[*********************100%***********************]  1 of 1 completed\n",
      "[*********************100%***********************]  1 of 1 completed"
     ]
    },
    {
     "name": "stdout",
     "output_type": "stream",
     "text": [
      "Hourly data for SLIS.JK has been successfully inserted into MySQL.\n",
      "Hourly data for PURE.JK has been successfully inserted into MySQL.\n"
     ]
    },
    {
     "name": "stderr",
     "output_type": "stream",
     "text": [
      "\n",
      "[*********************100%***********************]  1 of 1 completed\n"
     ]
    },
    {
     "name": "stdout",
     "output_type": "stream",
     "text": [
      "Hourly data for IRRA.JK has been successfully inserted into MySQL.\n"
     ]
    },
    {
     "name": "stderr",
     "output_type": "stream",
     "text": [
      "[*********************100%***********************]  1 of 1 completed\n"
     ]
    },
    {
     "name": "stdout",
     "output_type": "stream",
     "text": [
      "Hourly data for DMMX.JK has been successfully inserted into MySQL.\n"
     ]
    },
    {
     "name": "stderr",
     "output_type": "stream",
     "text": [
      "[*********************100%***********************]  1 of 1 completed\n"
     ]
    },
    {
     "name": "stdout",
     "output_type": "stream",
     "text": [
      "Hourly data for SINI.JK has been successfully inserted into MySQL.\n"
     ]
    },
    {
     "name": "stderr",
     "output_type": "stream",
     "text": [
      "[*********************100%***********************]  1 of 1 completed\n",
      "[*********************100%***********************]  1 of 1 completed"
     ]
    },
    {
     "name": "stdout",
     "output_type": "stream",
     "text": [
      "Hourly data for WOWS.JK has been successfully inserted into MySQL.\n"
     ]
    },
    {
     "name": "stderr",
     "output_type": "stream",
     "text": [
      "\n",
      "[*********************100%***********************]  1 of 1 completed\n"
     ]
    },
    {
     "name": "stdout",
     "output_type": "stream",
     "text": [
      "Hourly data for ESIP.JK has been successfully inserted into MySQL.\n"
     ]
    },
    {
     "name": "stderr",
     "output_type": "stream",
     "text": [
      "[*********************100%***********************]  1 of 1 completed"
     ]
    },
    {
     "name": "stdout",
     "output_type": "stream",
     "text": [
      "Hourly data for TEBE.JK has been successfully inserted into MySQL.\n"
     ]
    },
    {
     "name": "stderr",
     "output_type": "stream",
     "text": [
      "\n"
     ]
    },
    {
     "name": "stdout",
     "output_type": "stream",
     "text": [
      "Hourly data for KEJU.JK has been successfully inserted into MySQL.\n"
     ]
    },
    {
     "name": "stderr",
     "output_type": "stream",
     "text": [
      "[*********************100%***********************]  1 of 1 completed\n",
      "[*********************100%***********************]  1 of 1 completed\n"
     ]
    },
    {
     "name": "stdout",
     "output_type": "stream",
     "text": [
      "Hourly data for PSGO.JK has been successfully inserted into MySQL.\n",
      "Hourly data for AGAR.JK has been successfully inserted into MySQL.\n"
     ]
    },
    {
     "name": "stderr",
     "output_type": "stream",
     "text": [
      "[*********************100%***********************]  1 of 1 completed\n",
      "[*********************100%***********************]  1 of 1 completed\n"
     ]
    },
    {
     "name": "stdout",
     "output_type": "stream",
     "text": [
      "Hourly data for IFSH.JK has been successfully inserted into MySQL.\n",
      "Hourly data for REAL.JK has been successfully inserted into MySQL.\n"
     ]
    },
    {
     "name": "stderr",
     "output_type": "stream",
     "text": [
      "[*********************100%***********************]  1 of 1 completed\n"
     ]
    },
    {
     "name": "stdout",
     "output_type": "stream",
     "text": [
      "Hourly data for IFII.JK has been successfully inserted into MySQL.\n"
     ]
    },
    {
     "name": "stderr",
     "output_type": "stream",
     "text": [
      "[*********************100%***********************]  1 of 1 completed\n"
     ]
    },
    {
     "name": "stdout",
     "output_type": "stream",
     "text": [
      "Hourly data for PMJS.JK has been successfully inserted into MySQL.\n"
     ]
    },
    {
     "name": "stderr",
     "output_type": "stream",
     "text": [
      "[*********************100%***********************]  1 of 1 completed\n",
      "[*********************100%***********************]  1 of 1 completed\n"
     ]
    },
    {
     "name": "stdout",
     "output_type": "stream",
     "text": [
      "Hourly data for UCID.JK has been successfully inserted into MySQL.\n",
      "Hourly data for GLVA.JK has been successfully inserted into MySQL.\n"
     ]
    },
    {
     "name": "stderr",
     "output_type": "stream",
     "text": [
      "[*********************100%***********************]  1 of 1 completed\n",
      "[*********************100%***********************]  1 of 1 completed"
     ]
    },
    {
     "name": "stdout",
     "output_type": "stream",
     "text": [
      "Hourly data for PGJO.JK has been successfully inserted into MySQL.\n",
      "Hourly data for AMAR.JK has been successfully inserted into MySQL.\n"
     ]
    },
    {
     "name": "stderr",
     "output_type": "stream",
     "text": [
      "\n",
      "[*********************100%***********************]  1 of 1 completed\n"
     ]
    },
    {
     "name": "stdout",
     "output_type": "stream",
     "text": [
      "Hourly data for CSRA.JK has been successfully inserted into MySQL.\n"
     ]
    },
    {
     "name": "stderr",
     "output_type": "stream",
     "text": [
      "[*********************100%***********************]  1 of 1 completed\n"
     ]
    },
    {
     "name": "stdout",
     "output_type": "stream",
     "text": [
      "Hourly data for INDO.JK has been successfully inserted into MySQL.\n"
     ]
    },
    {
     "name": "stderr",
     "output_type": "stream",
     "text": [
      "[*********************100%***********************]  1 of 1 completed\n"
     ]
    },
    {
     "name": "stdout",
     "output_type": "stream",
     "text": [
      "Hourly data for AMOR.JK has been successfully inserted into MySQL.\n"
     ]
    },
    {
     "name": "stderr",
     "output_type": "stream",
     "text": [
      "[*********************100%***********************]  1 of 1 completed\n",
      "[*********************100%***********************]  1 of 1 completed"
     ]
    },
    {
     "name": "stdout",
     "output_type": "stream",
     "text": [
      "Hourly data for TRIN.JK has been successfully inserted into MySQL.\n",
      "Hourly data for DMND.JK has been successfully inserted into MySQL.\n"
     ]
    },
    {
     "name": "stderr",
     "output_type": "stream",
     "text": [
      "\n",
      "[*********************100%***********************]  1 of 1 completed\n",
      "[*********************100%***********************]  1 of 1 completed"
     ]
    },
    {
     "name": "stdout",
     "output_type": "stream",
     "text": [
      "Hourly data for PURA.JK has been successfully inserted into MySQL.\n",
      "Hourly data for PTPW.JK has been successfully inserted into MySQL.\n"
     ]
    },
    {
     "name": "stderr",
     "output_type": "stream",
     "text": [
      "\n",
      "[*********************100%***********************]  1 of 1 completed\n",
      "[*********************100%***********************]  1 of 1 completed"
     ]
    },
    {
     "name": "stdout",
     "output_type": "stream",
     "text": [
      "Hourly data for TAMA.JK has been successfully inserted into MySQL.\n",
      "Hourly data for IKAN.JK has been successfully inserted into MySQL.\n"
     ]
    },
    {
     "name": "stderr",
     "output_type": "stream",
     "text": [
      "\n",
      "[*********************100%***********************]  1 of 1 completed\n",
      "[*********************100%***********************]  1 of 1 completed\n"
     ]
    },
    {
     "name": "stdout",
     "output_type": "stream",
     "text": [
      "Hourly data for AYLS.JK has been successfully inserted into MySQL.\n",
      "Hourly data for DADA.JK has been successfully inserted into MySQL.\n"
     ]
    },
    {
     "name": "stderr",
     "output_type": "stream",
     "text": [
      "[*********************100%***********************]  1 of 1 completed\n",
      "[*********************100%***********************]  1 of 1 completed"
     ]
    },
    {
     "name": "stdout",
     "output_type": "stream",
     "text": [
      "Hourly data for ASPI.JK has been successfully inserted into MySQL.\n"
     ]
    },
    {
     "name": "stderr",
     "output_type": "stream",
     "text": [
      "\n",
      "[*********************100%***********************]  1 of 1 completed\n"
     ]
    },
    {
     "name": "stdout",
     "output_type": "stream",
     "text": [
      "Hourly data for ESTA.JK has been successfully inserted into MySQL.\n",
      "Hourly data for BESS.JK has been successfully inserted into MySQL.\n"
     ]
    },
    {
     "name": "stderr",
     "output_type": "stream",
     "text": [
      "[*********************100%***********************]  1 of 1 completed\n"
     ]
    },
    {
     "name": "stdout",
     "output_type": "stream",
     "text": [
      "Hourly data for AMAN.JK has been successfully inserted into MySQL.\n"
     ]
    },
    {
     "name": "stderr",
     "output_type": "stream",
     "text": [
      "[*********************100%***********************]  1 of 1 completed\n"
     ]
    },
    {
     "name": "stdout",
     "output_type": "stream",
     "text": [
      "Hourly data for CARE.JK has been successfully inserted into MySQL.\n"
     ]
    },
    {
     "name": "stderr",
     "output_type": "stream",
     "text": [
      "[*********************100%***********************]  1 of 1 completed\n",
      "[*********************100%***********************]  1 of 1 completed"
     ]
    },
    {
     "name": "stdout",
     "output_type": "stream",
     "text": [
      "Hourly data for SAMF.JK has been successfully inserted into MySQL.\n"
     ]
    },
    {
     "name": "stderr",
     "output_type": "stream",
     "text": [
      "\n",
      "[*********************100%***********************]  1 of 1 completed\n"
     ]
    },
    {
     "name": "stdout",
     "output_type": "stream",
     "text": [
      "Hourly data for SBAT.JK has been successfully inserted into MySQL.\n",
      "Hourly data for KBAG.JK has been successfully inserted into MySQL.\n"
     ]
    },
    {
     "name": "stderr",
     "output_type": "stream",
     "text": [
      "[*********************100%***********************]  1 of 1 completed\n"
     ]
    },
    {
     "name": "stdout",
     "output_type": "stream",
     "text": [
      "Hourly data for CBMF.JK has been successfully inserted into MySQL.\n"
     ]
    },
    {
     "name": "stderr",
     "output_type": "stream",
     "text": [
      "[*********************100%***********************]  1 of 1 completed\n"
     ]
    },
    {
     "name": "stdout",
     "output_type": "stream",
     "text": [
      "Hourly data for RONY.JK has been successfully inserted into MySQL.\n"
     ]
    },
    {
     "name": "stderr",
     "output_type": "stream",
     "text": [
      "[*********************100%***********************]  1 of 1 completed\n"
     ]
    },
    {
     "name": "stdout",
     "output_type": "stream",
     "text": [
      "Hourly data for CSMI.JK has been successfully inserted into MySQL.\n"
     ]
    },
    {
     "name": "stderr",
     "output_type": "stream",
     "text": [
      "[*********************100%***********************]  1 of 1 completed\n"
     ]
    },
    {
     "name": "stdout",
     "output_type": "stream",
     "text": [
      "Hourly data for BBSS.JK has been successfully inserted into MySQL.\n"
     ]
    },
    {
     "name": "stderr",
     "output_type": "stream",
     "text": [
      "[*********************100%***********************]  1 of 1 completed\n"
     ]
    },
    {
     "name": "stdout",
     "output_type": "stream",
     "text": [
      "Hourly data for BHAT.JK has been successfully inserted into MySQL.\n"
     ]
    },
    {
     "name": "stderr",
     "output_type": "stream",
     "text": [
      "[*********************100%***********************]  1 of 1 completed\n",
      "[*********************100%***********************]  1 of 1 completed\n"
     ]
    },
    {
     "name": "stdout",
     "output_type": "stream",
     "text": [
      "Hourly data for CASH.JK has been successfully inserted into MySQL.\n",
      "Hourly data for TECH.JK has been successfully inserted into MySQL.\n"
     ]
    },
    {
     "name": "stderr",
     "output_type": "stream",
     "text": [
      "[*********************100%***********************]  1 of 1 completed\n"
     ]
    },
    {
     "name": "stdout",
     "output_type": "stream",
     "text": [
      "Hourly data for EPAC.JK has been successfully inserted into MySQL.\n"
     ]
    },
    {
     "name": "stderr",
     "output_type": "stream",
     "text": [
      "[*********************100%***********************]  1 of 1 completed\n"
     ]
    },
    {
     "name": "stdout",
     "output_type": "stream",
     "text": [
      "Hourly data for UANG.JK has been successfully inserted into MySQL.\n"
     ]
    },
    {
     "name": "stderr",
     "output_type": "stream",
     "text": [
      "[*********************100%***********************]  1 of 1 completed\n",
      "[*********************100%***********************]  1 of 1 completed"
     ]
    },
    {
     "name": "stdout",
     "output_type": "stream",
     "text": [
      "Hourly data for PGUN.JK has been successfully inserted into MySQL.\n"
     ]
    },
    {
     "name": "stderr",
     "output_type": "stream",
     "text": [
      "\n",
      "[*********************100%***********************]  1 of 1 completed"
     ]
    },
    {
     "name": "stdout",
     "output_type": "stream",
     "text": [
      "Hourly data for SOFA.JK has been successfully inserted into MySQL.\n",
      "Hourly data for PPGL.JK has been successfully inserted into MySQL.\n"
     ]
    },
    {
     "name": "stderr",
     "output_type": "stream",
     "text": [
      "\n",
      "[*********************100%***********************]  1 of 1 completed\n"
     ]
    },
    {
     "name": "stdout",
     "output_type": "stream",
     "text": [
      "Hourly data for TOYS.JK has been successfully inserted into MySQL.\n"
     ]
    },
    {
     "name": "stderr",
     "output_type": "stream",
     "text": [
      "[*********************100%***********************]  1 of 1 completed\n",
      "[*********************100%***********************]  1 of 1 completed"
     ]
    },
    {
     "name": "stdout",
     "output_type": "stream",
     "text": [
      "Hourly data for SGER.JK has been successfully inserted into MySQL.\n"
     ]
    },
    {
     "name": "stderr",
     "output_type": "stream",
     "text": [
      "\n"
     ]
    },
    {
     "name": "stdout",
     "output_type": "stream",
     "text": [
      "Hourly data for TRJA.JK has been successfully inserted into MySQL.\n"
     ]
    },
    {
     "name": "stderr",
     "output_type": "stream",
     "text": [
      "[*********************100%***********************]  1 of 1 completed\n"
     ]
    },
    {
     "name": "stdout",
     "output_type": "stream",
     "text": [
      "Hourly data for PNGO.JK has been successfully inserted into MySQL.\n"
     ]
    },
    {
     "name": "stderr",
     "output_type": "stream",
     "text": [
      "[*********************100%***********************]  1 of 1 completed\n"
     ]
    },
    {
     "name": "stdout",
     "output_type": "stream",
     "text": [
      "Hourly data for SCNP.JK has been successfully inserted into MySQL.\n"
     ]
    },
    {
     "name": "stderr",
     "output_type": "stream",
     "text": [
      "[*********************100%***********************]  1 of 1 completed\n"
     ]
    },
    {
     "name": "stdout",
     "output_type": "stream",
     "text": [
      "Hourly data for BBSI.JK has been successfully inserted into MySQL.\n"
     ]
    },
    {
     "name": "stderr",
     "output_type": "stream",
     "text": [
      "[*********************100%***********************]  1 of 1 completed\n"
     ]
    },
    {
     "name": "stdout",
     "output_type": "stream",
     "text": [
      "Hourly data for KMDS.JK has been successfully inserted into MySQL.\n"
     ]
    },
    {
     "name": "stderr",
     "output_type": "stream",
     "text": [
      "[*********************100%***********************]  1 of 1 completed\n"
     ]
    },
    {
     "name": "stdout",
     "output_type": "stream",
     "text": [
      "Hourly data for PURI.JK has been successfully inserted into MySQL.\n"
     ]
    },
    {
     "name": "stderr",
     "output_type": "stream",
     "text": [
      "[*********************100%***********************]  1 of 1 completed\n"
     ]
    },
    {
     "name": "stdout",
     "output_type": "stream",
     "text": [
      "Hourly data for SOHO.JK has been successfully inserted into MySQL.\n"
     ]
    },
    {
     "name": "stderr",
     "output_type": "stream",
     "text": [
      "[*********************100%***********************]  1 of 1 completed\n",
      "[*********************100%***********************]  1 of 1 completed\n"
     ]
    },
    {
     "name": "stdout",
     "output_type": "stream",
     "text": [
      "Hourly data for HOMI.JK has been successfully inserted into MySQL.\n",
      "Hourly data for ROCK.JK has been successfully inserted into MySQL.\n"
     ]
    },
    {
     "name": "stderr",
     "output_type": "stream",
     "text": [
      "[*********************100%***********************]  1 of 1 completed\n",
      "[*********************100%***********************]  1 of 1 completed"
     ]
    },
    {
     "name": "stdout",
     "output_type": "stream",
     "text": [
      "Hourly data for ENZO.JK has been successfully inserted into MySQL.\n",
      "Hourly data for PLAN.JK has been successfully inserted into MySQL.\n"
     ]
    },
    {
     "name": "stderr",
     "output_type": "stream",
     "text": [
      "\n",
      "[*********************100%***********************]  1 of 1 completed\n",
      "[*********************100%***********************]  1 of 1 completed\n"
     ]
    },
    {
     "name": "stdout",
     "output_type": "stream",
     "text": [
      "Hourly data for PTDU.JK has been successfully inserted into MySQL.\n"
     ]
    },
    {
     "name": "stderr",
     "output_type": "stream",
     "text": [
      "[*********************100%***********************]  1 of 1 completed"
     ]
    },
    {
     "name": "stdout",
     "output_type": "stream",
     "text": [
      "Hourly data for ATAP.JK has been successfully inserted into MySQL.\n",
      "Hourly data for VICI.JK has been successfully inserted into MySQL.\n"
     ]
    },
    {
     "name": "stderr",
     "output_type": "stream",
     "text": [
      "\n",
      "[*********************100%***********************]  1 of 1 completed\n",
      "[*********************100%***********************]  1 of 1 completed"
     ]
    },
    {
     "name": "stdout",
     "output_type": "stream",
     "text": [
      "Hourly data for PMMP.JK has been successfully inserted into MySQL.\n",
      "Hourly data for WIFI.JK has been successfully inserted into MySQL.\n"
     ]
    },
    {
     "name": "stderr",
     "output_type": "stream",
     "text": [
      "\n",
      "[*********************100%***********************]  1 of 1 completed\n",
      "[*********************100%***********************]  1 of 1 completed\n"
     ]
    },
    {
     "name": "stdout",
     "output_type": "stream",
     "text": [
      "Hourly data for FAPA.JK has been successfully inserted into MySQL.\n",
      "Hourly data for DCII.JK has been successfully inserted into MySQL.\n"
     ]
    },
    {
     "name": "stderr",
     "output_type": "stream",
     "text": [
      "[*********************100%***********************]  1 of 1 completed\n"
     ]
    },
    {
     "name": "stdout",
     "output_type": "stream",
     "text": [
      "Hourly data for KETR.JK has been successfully inserted into MySQL.\n"
     ]
    },
    {
     "name": "stderr",
     "output_type": "stream",
     "text": [
      "[*********************100%***********************]  1 of 1 completed\n"
     ]
    },
    {
     "name": "stdout",
     "output_type": "stream",
     "text": [
      "Hourly data for DGNS.JK has been successfully inserted into MySQL.\n"
     ]
    },
    {
     "name": "stderr",
     "output_type": "stream",
     "text": [
      "[*********************100%***********************]  1 of 1 completed\n"
     ]
    },
    {
     "name": "stdout",
     "output_type": "stream",
     "text": [
      "Hourly data for UFOE.JK has been successfully inserted into MySQL.\n"
     ]
    },
    {
     "name": "stderr",
     "output_type": "stream",
     "text": [
      "[*********************100%***********************]  1 of 1 completed\n"
     ]
    },
    {
     "name": "stdout",
     "output_type": "stream",
     "text": [
      "Hourly data for BANK.JK has been successfully inserted into MySQL.\n"
     ]
    },
    {
     "name": "stderr",
     "output_type": "stream",
     "text": [
      "[*********************100%***********************]  1 of 1 completed\n"
     ]
    },
    {
     "name": "stdout",
     "output_type": "stream",
     "text": [
      "Hourly data for WMUU.JK has been successfully inserted into MySQL.\n"
     ]
    },
    {
     "name": "stderr",
     "output_type": "stream",
     "text": [
      "[*********************100%***********************]  1 of 1 completed\n"
     ]
    },
    {
     "name": "stdout",
     "output_type": "stream",
     "text": [
      "Hourly data for EDGE.JK has been successfully inserted into MySQL.\n"
     ]
    },
    {
     "name": "stderr",
     "output_type": "stream",
     "text": [
      "[*********************100%***********************]  1 of 1 completed\n"
     ]
    },
    {
     "name": "stdout",
     "output_type": "stream",
     "text": [
      "Hourly data for UNIQ.JK has been successfully inserted into MySQL.\n"
     ]
    },
    {
     "name": "stderr",
     "output_type": "stream",
     "text": [
      "[*********************100%***********************]  1 of 1 completed\n"
     ]
    },
    {
     "name": "stdout",
     "output_type": "stream",
     "text": [
      "Hourly data for BEBS.JK has been successfully inserted into MySQL.\n"
     ]
    },
    {
     "name": "stderr",
     "output_type": "stream",
     "text": [
      "[*********************100%***********************]  1 of 1 completed\n"
     ]
    },
    {
     "name": "stdout",
     "output_type": "stream",
     "text": [
      "Hourly data for SNLK.JK has been successfully inserted into MySQL.\n"
     ]
    },
    {
     "name": "stderr",
     "output_type": "stream",
     "text": [
      "[*********************100%***********************]  1 of 1 completed\n",
      "[*********************100%***********************]  1 of 1 completed"
     ]
    },
    {
     "name": "stdout",
     "output_type": "stream",
     "text": [
      "Hourly data for ZYRX.JK has been successfully inserted into MySQL.\n",
      "Hourly data for LFLO.JK has been successfully inserted into MySQL.\n"
     ]
    },
    {
     "name": "stderr",
     "output_type": "stream",
     "text": [
      "\n",
      "[*********************100%***********************]  1 of 1 completed\n",
      "[*********************100%***********************]  1 of 1 completed\n"
     ]
    },
    {
     "name": "stdout",
     "output_type": "stream",
     "text": [
      "Hourly data for FIMP.JK has been successfully inserted into MySQL.\n"
     ]
    },
    {
     "name": "stderr",
     "output_type": "stream",
     "text": [
      "[*********************100%***********************]  1 of 1 completed"
     ]
    },
    {
     "name": "stdout",
     "output_type": "stream",
     "text": [
      "Hourly data for TAPG.JK has been successfully inserted into MySQL.\n",
      "Hourly data for NPGF.JK has been successfully inserted into MySQL.\n"
     ]
    },
    {
     "name": "stderr",
     "output_type": "stream",
     "text": [
      "\n",
      "[*********************100%***********************]  1 of 1 completed\n",
      "[*********************100%***********************]  1 of 1 completed\n"
     ]
    },
    {
     "name": "stdout",
     "output_type": "stream",
     "text": [
      "Hourly data for LUCY.JK has been successfully inserted into MySQL.\n",
      "Hourly data for ADCP.JK has been successfully inserted into MySQL.\n"
     ]
    },
    {
     "name": "stderr",
     "output_type": "stream",
     "text": [
      "[*********************100%***********************]  1 of 1 completed\n",
      "[*********************100%***********************]  1 of 1 completed"
     ]
    },
    {
     "name": "stdout",
     "output_type": "stream",
     "text": [
      "Hourly data for HOPE.JK has been successfully inserted into MySQL.\n"
     ]
    },
    {
     "name": "stderr",
     "output_type": "stream",
     "text": [
      "\n",
      "[*********************100%***********************]  1 of 1 completed\n"
     ]
    },
    {
     "name": "stdout",
     "output_type": "stream",
     "text": [
      "Hourly data for MGLV.JK has been successfully inserted into MySQL.\n",
      "Hourly data for TRUE.JK has been successfully inserted into MySQL.\n"
     ]
    },
    {
     "name": "stderr",
     "output_type": "stream",
     "text": [
      "[*********************100%***********************]  1 of 1 completed\n",
      "[*********************100%***********************]  1 of 1 completed"
     ]
    },
    {
     "name": "stdout",
     "output_type": "stream",
     "text": [
      "Hourly data for LABA.JK has been successfully inserted into MySQL.\n"
     ]
    },
    {
     "name": "stderr",
     "output_type": "stream",
     "text": [
      "\n",
      "[*********************100%***********************]  1 of 1 completed\n"
     ]
    },
    {
     "name": "stdout",
     "output_type": "stream",
     "text": [
      "Hourly data for ARCI.JK has been successfully inserted into MySQL.\n",
      "Hourly data for IPAC.JK has been successfully inserted into MySQL.\n"
     ]
    },
    {
     "name": "stderr",
     "output_type": "stream",
     "text": [
      "[*********************100%***********************]  1 of 1 completed\n"
     ]
    },
    {
     "name": "stdout",
     "output_type": "stream",
     "text": [
      "Hourly data for MASB.JK has been successfully inserted into MySQL.\n"
     ]
    },
    {
     "name": "stderr",
     "output_type": "stream",
     "text": [
      "[*********************100%***********************]  1 of 1 completed\n",
      "[*********************100%***********************]  1 of 1 completed"
     ]
    },
    {
     "name": "stdout",
     "output_type": "stream",
     "text": [
      "Hourly data for BMHS.JK has been successfully inserted into MySQL.\n",
      "Hourly data for FLMC.JK has been successfully inserted into MySQL.\n"
     ]
    },
    {
     "name": "stderr",
     "output_type": "stream",
     "text": [
      "\n",
      "[*********************100%***********************]  1 of 1 completed\n"
     ]
    },
    {
     "name": "stdout",
     "output_type": "stream",
     "text": [
      "Hourly data for NICL.JK has been successfully inserted into MySQL.\n"
     ]
    },
    {
     "name": "stderr",
     "output_type": "stream",
     "text": [
      "[*********************100%***********************]  1 of 1 completed\n"
     ]
    },
    {
     "name": "stdout",
     "output_type": "stream",
     "text": [
      "Hourly data for UVCR.JK has been successfully inserted into MySQL.\n"
     ]
    },
    {
     "name": "stderr",
     "output_type": "stream",
     "text": [
      "[*********************100%***********************]  1 of 1 completed\n"
     ]
    },
    {
     "name": "stdout",
     "output_type": "stream",
     "text": [
      "Hourly data for BUKA.JK has been successfully inserted into MySQL.\n"
     ]
    },
    {
     "name": "stderr",
     "output_type": "stream",
     "text": [
      "[*********************100%***********************]  1 of 1 completed\n"
     ]
    },
    {
     "name": "stdout",
     "output_type": "stream",
     "text": [
      "Hourly data for HAIS.JK has been successfully inserted into MySQL.\n"
     ]
    },
    {
     "name": "stderr",
     "output_type": "stream",
     "text": [
      "[*********************100%***********************]  1 of 1 completed\n"
     ]
    },
    {
     "name": "stdout",
     "output_type": "stream",
     "text": [
      "Hourly data for OILS.JK has been successfully inserted into MySQL.\n"
     ]
    },
    {
     "name": "stderr",
     "output_type": "stream",
     "text": [
      "[*********************100%***********************]  1 of 1 completed\n"
     ]
    },
    {
     "name": "stdout",
     "output_type": "stream",
     "text": [
      "Hourly data for GPSO.JK has been successfully inserted into MySQL.\n"
     ]
    },
    {
     "name": "stderr",
     "output_type": "stream",
     "text": [
      "[*********************100%***********************]  1 of 1 completed\n"
     ]
    },
    {
     "name": "stdout",
     "output_type": "stream",
     "text": [
      "Hourly data for MCOL.JK has been successfully inserted into MySQL.\n"
     ]
    },
    {
     "name": "stderr",
     "output_type": "stream",
     "text": [
      "[*********************100%***********************]  1 of 1 completed\n"
     ]
    },
    {
     "name": "stdout",
     "output_type": "stream",
     "text": [
      "Hourly data for RSGK.JK has been successfully inserted into MySQL.\n"
     ]
    },
    {
     "name": "stderr",
     "output_type": "stream",
     "text": [
      "[*********************100%***********************]  1 of 1 completed\n"
     ]
    },
    {
     "name": "stdout",
     "output_type": "stream",
     "text": [
      "Hourly data for RUNS.JK has been successfully inserted into MySQL.\n"
     ]
    },
    {
     "name": "stderr",
     "output_type": "stream",
     "text": [
      "[*********************100%***********************]  1 of 1 completed\n"
     ]
    },
    {
     "name": "stdout",
     "output_type": "stream",
     "text": [
      "Hourly data for SBMA.JK has been successfully inserted into MySQL.\n"
     ]
    },
    {
     "name": "stderr",
     "output_type": "stream",
     "text": [
      "[*********************100%***********************]  1 of 1 completed\n"
     ]
    },
    {
     "name": "stdout",
     "output_type": "stream",
     "text": [
      "Hourly data for CMNT.JK has been successfully inserted into MySQL.\n"
     ]
    },
    {
     "name": "stderr",
     "output_type": "stream",
     "text": [
      "[*********************100%***********************]  1 of 1 completed\n"
     ]
    },
    {
     "name": "stdout",
     "output_type": "stream",
     "text": [
      "Hourly data for GTSI.JK has been successfully inserted into MySQL.\n"
     ]
    },
    {
     "name": "stderr",
     "output_type": "stream",
     "text": [
      "[*********************100%***********************]  1 of 1 completed\n"
     ]
    },
    {
     "name": "stdout",
     "output_type": "stream",
     "text": [
      "Hourly data for IDEA.JK has been successfully inserted into MySQL.\n"
     ]
    },
    {
     "name": "stderr",
     "output_type": "stream",
     "text": [
      "[*********************100%***********************]  1 of 1 completed\n"
     ]
    },
    {
     "name": "stdout",
     "output_type": "stream",
     "text": [
      "Hourly data for KUAS.JK has been successfully inserted into MySQL.\n"
     ]
    },
    {
     "name": "stderr",
     "output_type": "stream",
     "text": [
      "[*********************100%***********************]  1 of 1 completed\n"
     ]
    },
    {
     "name": "stdout",
     "output_type": "stream",
     "text": [
      "Hourly data for BOBA.JK has been successfully inserted into MySQL.\n"
     ]
    },
    {
     "name": "stderr",
     "output_type": "stream",
     "text": [
      "[*********************100%***********************]  1 of 1 completed\n"
     ]
    },
    {
     "name": "stdout",
     "output_type": "stream",
     "text": [
      "Hourly data for MTEL.JK has been successfully inserted into MySQL.\n"
     ]
    },
    {
     "name": "stderr",
     "output_type": "stream",
     "text": [
      "[*********************100%***********************]  1 of 1 completed\n"
     ]
    },
    {
     "name": "stdout",
     "output_type": "stream",
     "text": [
      "Hourly data for DEPO.JK has been successfully inserted into MySQL.\n"
     ]
    },
    {
     "name": "stderr",
     "output_type": "stream",
     "text": [
      "[*********************100%***********************]  1 of 1 completed\n",
      "[*********************100%***********************]  1 of 1 completed\n"
     ]
    },
    {
     "name": "stdout",
     "output_type": "stream",
     "text": [
      "Hourly data for BINO.JK has been successfully inserted into MySQL.\n",
      "Hourly data for CMRY.JK has been successfully inserted into MySQL.\n"
     ]
    },
    {
     "name": "stderr",
     "output_type": "stream",
     "text": [
      "[*********************100%***********************]  1 of 1 completed\n",
      "[*********************100%***********************]  1 of 1 completed"
     ]
    },
    {
     "name": "stdout",
     "output_type": "stream",
     "text": [
      "Hourly data for WGSH.JK has been successfully inserted into MySQL.\n"
     ]
    },
    {
     "name": "stderr",
     "output_type": "stream",
     "text": [
      "\n",
      "[*********************100%***********************]  1 of 1 completed\n"
     ]
    },
    {
     "name": "stdout",
     "output_type": "stream",
     "text": [
      "Hourly data for TAYS.JK has been successfully inserted into MySQL.\n",
      "Hourly data for WMPP.JK has been successfully inserted into MySQL.\n"
     ]
    },
    {
     "name": "stderr",
     "output_type": "stream",
     "text": [
      "[*********************100%***********************]  1 of 1 completed\n"
     ]
    },
    {
     "name": "stdout",
     "output_type": "stream",
     "text": [
      "Hourly data for RMKE.JK has been successfully inserted into MySQL.\n"
     ]
    },
    {
     "name": "stderr",
     "output_type": "stream",
     "text": [
      "[*********************100%***********************]  1 of 1 completed\n",
      "[*********************100%***********************]  1 of 1 completed"
     ]
    },
    {
     "name": "stdout",
     "output_type": "stream",
     "text": [
      "Hourly data for OBMD.JK has been successfully inserted into MySQL.\n"
     ]
    },
    {
     "name": "stderr",
     "output_type": "stream",
     "text": [
      "\n",
      "[*********************100%***********************]  1 of 1 completed"
     ]
    },
    {
     "name": "stdout",
     "output_type": "stream",
     "text": [
      "Hourly data for AVIA.JK has been successfully inserted into MySQL.\n"
     ]
    },
    {
     "name": "stderr",
     "output_type": "stream",
     "text": [
      "\n"
     ]
    },
    {
     "name": "stdout",
     "output_type": "stream",
     "text": [
      "Hourly data for IPPE.JK has been successfully inserted into MySQL.\n"
     ]
    },
    {
     "name": "stderr",
     "output_type": "stream",
     "text": [
      "[*********************100%***********************]  1 of 1 completed\n",
      "[*********************100%***********************]  1 of 1 completed"
     ]
    },
    {
     "name": "stdout",
     "output_type": "stream",
     "text": [
      "Hourly data for NASI.JK has been successfully inserted into MySQL.\n"
     ]
    },
    {
     "name": "stderr",
     "output_type": "stream",
     "text": [
      "\n"
     ]
    },
    {
     "name": "stdout",
     "output_type": "stream",
     "text": [
      "Hourly data for BSML.JK has been successfully inserted into MySQL.\n"
     ]
    },
    {
     "name": "stderr",
     "output_type": "stream",
     "text": [
      "[*********************100%***********************]  1 of 1 completed\n"
     ]
    },
    {
     "name": "stdout",
     "output_type": "stream",
     "text": [
      "Hourly data for DRMA.JK has been successfully inserted into MySQL.\n"
     ]
    },
    {
     "name": "stderr",
     "output_type": "stream",
     "text": [
      "[*********************100%***********************]  1 of 1 completed\n",
      "[*********************100%***********************]  1 of 1 completed"
     ]
    },
    {
     "name": "stdout",
     "output_type": "stream",
     "text": [
      "Hourly data for ADMR.JK has been successfully inserted into MySQL.\n"
     ]
    },
    {
     "name": "stderr",
     "output_type": "stream",
     "text": [
      "\n",
      "[*********************100%***********************]  1 of 1 completed"
     ]
    },
    {
     "name": "stdout",
     "output_type": "stream",
     "text": [
      "Hourly data for SEMA.JK has been successfully inserted into MySQL.\n"
     ]
    },
    {
     "name": "stderr",
     "output_type": "stream",
     "text": [
      "\n"
     ]
    },
    {
     "name": "stdout",
     "output_type": "stream",
     "text": [
      "Hourly data for ASLC.JK has been successfully inserted into MySQL.\n"
     ]
    },
    {
     "name": "stderr",
     "output_type": "stream",
     "text": [
      "[*********************100%***********************]  1 of 1 completed\n",
      "[*********************100%***********************]  1 of 1 completed"
     ]
    },
    {
     "name": "stdout",
     "output_type": "stream",
     "text": [
      "Hourly data for NETV.JK has been successfully inserted into MySQL.\n"
     ]
    },
    {
     "name": "stderr",
     "output_type": "stream",
     "text": [
      "\n",
      "[*********************100%***********************]  1 of 1 completed\n"
     ]
    },
    {
     "name": "stdout",
     "output_type": "stream",
     "text": [
      "Hourly data for BAUT.JK has been successfully inserted into MySQL.\n",
      "Hourly data for ENAK.JK has been successfully inserted into MySQL.\n"
     ]
    },
    {
     "name": "stderr",
     "output_type": "stream",
     "text": [
      "[*********************100%***********************]  1 of 1 completed\n"
     ]
    },
    {
     "name": "stdout",
     "output_type": "stream",
     "text": [
      "Hourly data for NTBK.JK has been successfully inserted into MySQL.\n"
     ]
    },
    {
     "name": "stderr",
     "output_type": "stream",
     "text": [
      "[*********************100%***********************]  1 of 1 completed\n"
     ]
    },
    {
     "name": "stdout",
     "output_type": "stream",
     "text": [
      "Hourly data for SMKM.JK has been successfully inserted into MySQL.\n"
     ]
    },
    {
     "name": "stderr",
     "output_type": "stream",
     "text": [
      "[*********************100%***********************]  1 of 1 completed\n",
      "[*********************100%***********************]  1 of 1 completed"
     ]
    },
    {
     "name": "stdout",
     "output_type": "stream",
     "text": [
      "Hourly data for STAA.JK has been successfully inserted into MySQL.\n"
     ]
    },
    {
     "name": "stderr",
     "output_type": "stream",
     "text": [
      "\n"
     ]
    },
    {
     "name": "stdout",
     "output_type": "stream",
     "text": [
      "Hourly data for NANO.JK has been successfully inserted into MySQL.\n"
     ]
    },
    {
     "name": "stderr",
     "output_type": "stream",
     "text": [
      "[*********************100%***********************]  1 of 1 completed\n"
     ]
    },
    {
     "name": "stdout",
     "output_type": "stream",
     "text": [
      "Hourly data for BIKE.JK has been successfully inserted into MySQL.\n"
     ]
    },
    {
     "name": "stderr",
     "output_type": "stream",
     "text": [
      "[*********************100%***********************]  1 of 1 completed\n"
     ]
    },
    {
     "name": "stdout",
     "output_type": "stream",
     "text": [
      "Hourly data for WIRG.JK has been successfully inserted into MySQL.\n"
     ]
    },
    {
     "name": "stderr",
     "output_type": "stream",
     "text": [
      "[*********************100%***********************]  1 of 1 completed\n",
      "[*********************100%***********************]  1 of 1 completed"
     ]
    },
    {
     "name": "stdout",
     "output_type": "stream",
     "text": [
      "Hourly data for SICO.JK has been successfully inserted into MySQL.\n"
     ]
    },
    {
     "name": "stderr",
     "output_type": "stream",
     "text": [
      "\n"
     ]
    },
    {
     "name": "stdout",
     "output_type": "stream",
     "text": [
      "Hourly data for GOTO.JK has been successfully inserted into MySQL.\n"
     ]
    },
    {
     "name": "stderr",
     "output_type": "stream",
     "text": [
      "[*********************100%***********************]  1 of 1 completed\n"
     ]
    },
    {
     "name": "stdout",
     "output_type": "stream",
     "text": [
      "Hourly data for TLDN.JK has been successfully inserted into MySQL.\n"
     ]
    },
    {
     "name": "stderr",
     "output_type": "stream",
     "text": [
      "[*********************100%***********************]  1 of 1 completed\n",
      "[*********************100%***********************]  1 of 1 completed"
     ]
    },
    {
     "name": "stdout",
     "output_type": "stream",
     "text": [
      "Hourly data for MTMH.JK has been successfully inserted into MySQL.\n",
      "Hourly data for WINR.JK has been successfully inserted into MySQL.\n"
     ]
    },
    {
     "name": "stderr",
     "output_type": "stream",
     "text": [
      "\n",
      "[*********************100%***********************]  1 of 1 completed\n",
      "[*********************100%***********************]  1 of 1 completed"
     ]
    },
    {
     "name": "stdout",
     "output_type": "stream",
     "text": [
      "Hourly data for IBOS.JK has been successfully inserted into MySQL.\n"
     ]
    },
    {
     "name": "stderr",
     "output_type": "stream",
     "text": [
      "\n",
      "[*********************100%***********************]  1 of 1 completed"
     ]
    },
    {
     "name": "stdout",
     "output_type": "stream",
     "text": [
      "Hourly data for OLIV.JK has been successfully inserted into MySQL.\n"
     ]
    },
    {
     "name": "stderr",
     "output_type": "stream",
     "text": [
      "\n",
      "[*********************100%***********************]  1 of 1 completed"
     ]
    },
    {
     "name": "stdout",
     "output_type": "stream",
     "text": [
      "Hourly data for ASHA.JK has been successfully inserted into MySQL.\n"
     ]
    },
    {
     "name": "stderr",
     "output_type": "stream",
     "text": [
      "\n",
      "[*********************100%***********************]  1 of 1 completed"
     ]
    },
    {
     "name": "stdout",
     "output_type": "stream",
     "text": [
      "Hourly data for SWID.JK has been successfully inserted into MySQL.\n",
      "Hourly data for TRGU.JK has been successfully inserted into MySQL.\n"
     ]
    },
    {
     "name": "stderr",
     "output_type": "stream",
     "text": [
      "\n",
      "[*********************100%***********************]  1 of 1 completed\n"
     ]
    },
    {
     "name": "stdout",
     "output_type": "stream",
     "text": [
      "Hourly data for ARKO.JK has been successfully inserted into MySQL.\n"
     ]
    },
    {
     "name": "stderr",
     "output_type": "stream",
     "text": [
      "[*********************100%***********************]  1 of 1 completed\n"
     ]
    },
    {
     "name": "stdout",
     "output_type": "stream",
     "text": [
      "Hourly data for CHEM.JK has been successfully inserted into MySQL.\n"
     ]
    },
    {
     "name": "stderr",
     "output_type": "stream",
     "text": [
      "[*********************100%***********************]  1 of 1 completed\n",
      "[*********************100%***********************]  1 of 1 completed"
     ]
    },
    {
     "name": "stdout",
     "output_type": "stream",
     "text": [
      "Hourly data for DEWI.JK has been successfully inserted into MySQL.\n",
      "Hourly data for AXIO.JK has been successfully inserted into MySQL.\n"
     ]
    },
    {
     "name": "stderr",
     "output_type": "stream",
     "text": [
      "\n",
      "[*********************100%***********************]  1 of 1 completed\n"
     ]
    },
    {
     "name": "stdout",
     "output_type": "stream",
     "text": [
      "Hourly data for KRYA.JK has been successfully inserted into MySQL.\n"
     ]
    },
    {
     "name": "stderr",
     "output_type": "stream",
     "text": [
      "[*********************100%***********************]  1 of 1 completed\n"
     ]
    },
    {
     "name": "stdout",
     "output_type": "stream",
     "text": [
      "Hourly data for HATM.JK has been successfully inserted into MySQL.\n"
     ]
    },
    {
     "name": "stderr",
     "output_type": "stream",
     "text": [
      "[*********************100%***********************]  1 of 1 completed\n",
      "[*********************100%***********************]  1 of 1 completed"
     ]
    },
    {
     "name": "stdout",
     "output_type": "stream",
     "text": [
      "Hourly data for RCCC.JK has been successfully inserted into MySQL.\n",
      "Hourly data for GULA.JK has been successfully inserted into MySQL.\n"
     ]
    },
    {
     "name": "stderr",
     "output_type": "stream",
     "text": [
      "\n",
      "[*********************100%***********************]  1 of 1 completed\n"
     ]
    },
    {
     "name": "stdout",
     "output_type": "stream",
     "text": [
      "Hourly data for JARR.JK has been successfully inserted into MySQL.\n"
     ]
    },
    {
     "name": "stderr",
     "output_type": "stream",
     "text": [
      "[*********************100%***********************]  1 of 1 completed\n"
     ]
    },
    {
     "name": "stdout",
     "output_type": "stream",
     "text": [
      "Hourly data for AMMS.JK has been successfully inserted into MySQL.\n"
     ]
    },
    {
     "name": "stderr",
     "output_type": "stream",
     "text": [
      "[*********************100%***********************]  1 of 1 completed\n"
     ]
    },
    {
     "name": "stdout",
     "output_type": "stream",
     "text": [
      "Hourly data for RAFI.JK has been successfully inserted into MySQL.\n"
     ]
    },
    {
     "name": "stderr",
     "output_type": "stream",
     "text": [
      "[*********************100%***********************]  1 of 1 completed\n"
     ]
    },
    {
     "name": "stdout",
     "output_type": "stream",
     "text": [
      "Hourly data for KKES.JK has been successfully inserted into MySQL.\n"
     ]
    },
    {
     "name": "stderr",
     "output_type": "stream",
     "text": [
      "[*********************100%***********************]  1 of 1 completed\n"
     ]
    },
    {
     "name": "stdout",
     "output_type": "stream",
     "text": [
      "Hourly data for ELPI.JK has been successfully inserted into MySQL.\n"
     ]
    },
    {
     "name": "stderr",
     "output_type": "stream",
     "text": [
      "[*********************100%***********************]  1 of 1 completed\n"
     ]
    },
    {
     "name": "stdout",
     "output_type": "stream",
     "text": [
      "Hourly data for EURO.JK has been successfully inserted into MySQL.\n"
     ]
    },
    {
     "name": "stderr",
     "output_type": "stream",
     "text": [
      "[*********************100%***********************]  1 of 1 completed\n"
     ]
    },
    {
     "name": "stdout",
     "output_type": "stream",
     "text": [
      "Hourly data for KLIN.JK has been successfully inserted into MySQL.\n"
     ]
    },
    {
     "name": "stderr",
     "output_type": "stream",
     "text": [
      "[*********************100%***********************]  1 of 1 completed\n"
     ]
    },
    {
     "name": "stdout",
     "output_type": "stream",
     "text": [
      "Hourly data for TOOL.JK has been successfully inserted into MySQL.\n"
     ]
    },
    {
     "name": "stderr",
     "output_type": "stream",
     "text": [
      "[*********************100%***********************]  1 of 1 completed\n"
     ]
    },
    {
     "name": "stdout",
     "output_type": "stream",
     "text": [
      "Hourly data for BUAH.JK has been successfully inserted into MySQL.\n"
     ]
    },
    {
     "name": "stderr",
     "output_type": "stream",
     "text": [
      "[*********************100%***********************]  1 of 1 completed\n",
      "[*********************100%***********************]  1 of 1 completed"
     ]
    },
    {
     "name": "stdout",
     "output_type": "stream",
     "text": [
      "Hourly data for CRAB.JK has been successfully inserted into MySQL.\n",
      "Hourly data for MEDS.JK has been successfully inserted into MySQL.\n"
     ]
    },
    {
     "name": "stderr",
     "output_type": "stream",
     "text": [
      "\n",
      "[*********************100%***********************]  1 of 1 completed\n"
     ]
    },
    {
     "name": "stdout",
     "output_type": "stream",
     "text": [
      "Hourly data for COAL.JK has been successfully inserted into MySQL.\n"
     ]
    },
    {
     "name": "stderr",
     "output_type": "stream",
     "text": [
      "[*********************100%***********************]  1 of 1 completed\n"
     ]
    },
    {
     "name": "stdout",
     "output_type": "stream",
     "text": [
      "Hourly data for PRAY.JK has been successfully inserted into MySQL.\n"
     ]
    },
    {
     "name": "stderr",
     "output_type": "stream",
     "text": [
      "[*********************100%***********************]  1 of 1 completed\n"
     ]
    },
    {
     "name": "stdout",
     "output_type": "stream",
     "text": [
      "Hourly data for CBUT.JK has been successfully inserted into MySQL.\n"
     ]
    },
    {
     "name": "stderr",
     "output_type": "stream",
     "text": [
      "[*********************100%***********************]  1 of 1 completed\n",
      "[*********************100%***********************]  1 of 1 completed"
     ]
    },
    {
     "name": "stdout",
     "output_type": "stream",
     "text": [
      "Hourly data for BELI.JK has been successfully inserted into MySQL.\n",
      "Hourly data for MKTR.JK has been successfully inserted into MySQL.\n"
     ]
    },
    {
     "name": "stderr",
     "output_type": "stream",
     "text": [
      "\n",
      "[*********************100%***********************]  1 of 1 completed\n",
      "[*********************100%***********************]  1 of 1 completed"
     ]
    },
    {
     "name": "stdout",
     "output_type": "stream",
     "text": [
      "Hourly data for OMED.JK has been successfully inserted into MySQL.\n"
     ]
    },
    {
     "name": "stderr",
     "output_type": "stream",
     "text": [
      "\n"
     ]
    },
    {
     "name": "stdout",
     "output_type": "stream",
     "text": [
      "Hourly data for BSBK.JK has been successfully inserted into MySQL.\n"
     ]
    },
    {
     "name": "stderr",
     "output_type": "stream",
     "text": [
      "[*********************100%***********************]  1 of 1 completed\n"
     ]
    },
    {
     "name": "stdout",
     "output_type": "stream",
     "text": [
      "Hourly data for PDPP.JK has been successfully inserted into MySQL.\n"
     ]
    },
    {
     "name": "stderr",
     "output_type": "stream",
     "text": [
      "[*********************100%***********************]  1 of 1 completed\n",
      "[*********************100%***********************]  1 of 1 completed"
     ]
    },
    {
     "name": "stdout",
     "output_type": "stream",
     "text": [
      "Hourly data for KDTN.JK has been successfully inserted into MySQL.\n",
      "Hourly data for ZATA.JK has been successfully inserted into MySQL.\n"
     ]
    },
    {
     "name": "stderr",
     "output_type": "stream",
     "text": [
      "\n",
      "[*********************100%***********************]  1 of 1 completed\n",
      "[*********************100%***********************]  1 of 1 completed\n"
     ]
    },
    {
     "name": "stdout",
     "output_type": "stream",
     "text": [
      "Hourly data for NINE.JK has been successfully inserted into MySQL.\n",
      "Hourly data for MMIX.JK has been successfully inserted into MySQL.\n"
     ]
    },
    {
     "name": "stderr",
     "output_type": "stream",
     "text": [
      "[*********************100%***********************]  1 of 1 completed\n",
      "[*********************100%***********************]  1 of 1 completed\n"
     ]
    },
    {
     "name": "stdout",
     "output_type": "stream",
     "text": [
      "Hourly data for PADA.JK has been successfully inserted into MySQL.\n",
      "Hourly data for ISAP.JK has been successfully inserted into MySQL.\n"
     ]
    },
    {
     "name": "stderr",
     "output_type": "stream",
     "text": [
      "[*********************100%***********************]  1 of 1 completed\n",
      "[*********************100%***********************]  1 of 1 completed"
     ]
    },
    {
     "name": "stdout",
     "output_type": "stream",
     "text": [
      "Hourly data for VTNY.JK has been successfully inserted into MySQL.\n"
     ]
    },
    {
     "name": "stderr",
     "output_type": "stream",
     "text": [
      "\n"
     ]
    },
    {
     "name": "stdout",
     "output_type": "stream",
     "text": [
      "Hourly data for SOUL.JK has been successfully inserted into MySQL.\n"
     ]
    },
    {
     "name": "stderr",
     "output_type": "stream",
     "text": [
      "[*********************100%***********************]  1 of 1 completed\n"
     ]
    },
    {
     "name": "stdout",
     "output_type": "stream",
     "text": [
      "Hourly data for ELIT.JK has been successfully inserted into MySQL.\n"
     ]
    },
    {
     "name": "stderr",
     "output_type": "stream",
     "text": [
      "[*********************100%***********************]  1 of 1 completed\n"
     ]
    },
    {
     "name": "stdout",
     "output_type": "stream",
     "text": [
      "Hourly data for BEER.JK has been successfully inserted into MySQL.\n"
     ]
    },
    {
     "name": "stderr",
     "output_type": "stream",
     "text": [
      "[*********************100%***********************]  1 of 1 completed\n"
     ]
    },
    {
     "name": "stdout",
     "output_type": "stream",
     "text": [
      "Hourly data for CBPE.JK has been successfully inserted into MySQL.\n"
     ]
    },
    {
     "name": "stderr",
     "output_type": "stream",
     "text": [
      "[*********************100%***********************]  1 of 1 completed\n"
     ]
    },
    {
     "name": "stdout",
     "output_type": "stream",
     "text": [
      "Hourly data for SUNI.JK has been successfully inserted into MySQL.\n"
     ]
    },
    {
     "name": "stderr",
     "output_type": "stream",
     "text": [
      "[*********************100%***********************]  1 of 1 completed\n"
     ]
    },
    {
     "name": "stdout",
     "output_type": "stream",
     "text": [
      "Hourly data for CBRE.JK has been successfully inserted into MySQL.\n"
     ]
    },
    {
     "name": "stderr",
     "output_type": "stream",
     "text": [
      "[*********************100%***********************]  1 of 1 completed\n",
      "[*********************100%***********************]  1 of 1 completed"
     ]
    },
    {
     "name": "stdout",
     "output_type": "stream",
     "text": [
      "Hourly data for WINE.JK has been successfully inserted into MySQL.\n",
      "Hourly data for BMBL.JK has been successfully inserted into MySQL.\n"
     ]
    },
    {
     "name": "stderr",
     "output_type": "stream",
     "text": [
      "\n",
      "[*********************100%***********************]  1 of 1 completed\n",
      "[*********************100%***********************]  1 of 1 completed\n"
     ]
    },
    {
     "name": "stdout",
     "output_type": "stream",
     "text": [
      "Hourly data for PEVE.JK has been successfully inserted into MySQL.\n",
      "Hourly data for LAJU.JK has been successfully inserted into MySQL.\n"
     ]
    },
    {
     "name": "stderr",
     "output_type": "stream",
     "text": [
      "[*********************100%***********************]  1 of 1 completed\n"
     ]
    },
    {
     "name": "stdout",
     "output_type": "stream",
     "text": [
      "Hourly data for FWCT.JK has been successfully inserted into MySQL.\n"
     ]
    },
    {
     "name": "stderr",
     "output_type": "stream",
     "text": [
      "[*********************100%***********************]  1 of 1 completed\n",
      "[*********************100%***********************]  1 of 1 completed\n"
     ]
    },
    {
     "name": "stdout",
     "output_type": "stream",
     "text": [
      "Hourly data for NAYZ.JK has been successfully inserted into MySQL.\n",
      "Hourly data for IRSX.JK has been successfully inserted into MySQL.\n"
     ]
    },
    {
     "name": "stderr",
     "output_type": "stream",
     "text": [
      "[*********************100%***********************]  1 of 1 completed\n",
      "[*********************100%***********************]  1 of 1 completed"
     ]
    },
    {
     "name": "stdout",
     "output_type": "stream",
     "text": [
      "Hourly data for PACK.JK has been successfully inserted into MySQL.\n",
      "Hourly data for VAST.JK has been successfully inserted into MySQL.\n"
     ]
    },
    {
     "name": "stderr",
     "output_type": "stream",
     "text": [
      "\n",
      "[*********************100%***********************]  1 of 1 completed\n",
      "[*********************100%***********************]  1 of 1 completed"
     ]
    },
    {
     "name": "stdout",
     "output_type": "stream",
     "text": [
      "Hourly data for CHIP.JK has been successfully inserted into MySQL.\n",
      "Hourly data for HALO.JK has been successfully inserted into MySQL.\n"
     ]
    },
    {
     "name": "stderr",
     "output_type": "stream",
     "text": [
      "\n",
      "[*********************100%***********************]  1 of 1 completed\n",
      "[*********************100%***********************]  1 of 1 completed\n"
     ]
    },
    {
     "name": "stdout",
     "output_type": "stream",
     "text": [
      "Hourly data for KING.JK has been successfully inserted into MySQL.\n",
      "Hourly data for PGEO.JK has been successfully inserted into MySQL.\n"
     ]
    },
    {
     "name": "stderr",
     "output_type": "stream",
     "text": [
      "[*********************100%***********************]  1 of 1 completed\n"
     ]
    },
    {
     "name": "stdout",
     "output_type": "stream",
     "text": [
      "Hourly data for FUTR.JK has been successfully inserted into MySQL.\n"
     ]
    },
    {
     "name": "stderr",
     "output_type": "stream",
     "text": [
      "[*********************100%***********************]  1 of 1 completed\n"
     ]
    },
    {
     "name": "stdout",
     "output_type": "stream",
     "text": [
      "Hourly data for HILL.JK has been successfully inserted into MySQL.\n"
     ]
    },
    {
     "name": "stderr",
     "output_type": "stream",
     "text": [
      "[*********************100%***********************]  1 of 1 completed\n",
      "[*********************100%***********************]  1 of 1 completed"
     ]
    },
    {
     "name": "stdout",
     "output_type": "stream",
     "text": [
      "Hourly data for BDKR.JK has been successfully inserted into MySQL.\n"
     ]
    },
    {
     "name": "stderr",
     "output_type": "stream",
     "text": [
      "\n",
      "[*********************100%***********************]  1 of 1 completed"
     ]
    },
    {
     "name": "stdout",
     "output_type": "stream",
     "text": [
      "Hourly data for PTMP.JK has been successfully inserted into MySQL.\n",
      "Hourly data for SAGE.JK has been successfully inserted into MySQL.\n"
     ]
    },
    {
     "name": "stderr",
     "output_type": "stream",
     "text": [
      "\n",
      "[*********************100%***********************]  1 of 1 completed\n"
     ]
    },
    {
     "name": "stdout",
     "output_type": "stream",
     "text": [
      "Hourly data for TRON.JK has been successfully inserted into MySQL.\n"
     ]
    },
    {
     "name": "stderr",
     "output_type": "stream",
     "text": [
      "[*********************100%***********************]  1 of 1 completed\n"
     ]
    },
    {
     "name": "stdout",
     "output_type": "stream",
     "text": [
      "Hourly data for CUAN.JK has been successfully inserted into MySQL.\n"
     ]
    },
    {
     "name": "stderr",
     "output_type": "stream",
     "text": [
      "[*********************100%***********************]  1 of 1 completed\n",
      "[*********************100%***********************]  1 of 1 completed"
     ]
    },
    {
     "name": "stdout",
     "output_type": "stream",
     "text": [
      "Hourly data for NSSS.JK has been successfully inserted into MySQL.\n"
     ]
    },
    {
     "name": "stderr",
     "output_type": "stream",
     "text": [
      "\n",
      "[*********************100%***********************]  1 of 1 completed"
     ]
    },
    {
     "name": "stdout",
     "output_type": "stream",
     "text": [
      "Hourly data for GTRA.JK has been successfully inserted into MySQL.\n"
     ]
    },
    {
     "name": "stderr",
     "output_type": "stream",
     "text": [
      "\n",
      "[*********************100%***********************]  1 of 1 completed\n"
     ]
    },
    {
     "name": "stdout",
     "output_type": "stream",
     "text": [
      "Hourly data for HAJJ.JK has been successfully inserted into MySQL.\n",
      "Hourly data for PIPA.JK has been successfully inserted into MySQL.\n"
     ]
    },
    {
     "name": "stderr",
     "output_type": "stream",
     "text": [
      "[*********************100%***********************]  1 of 1 completed\n",
      "[*********************100%***********************]  1 of 1 completed"
     ]
    },
    {
     "name": "stdout",
     "output_type": "stream",
     "text": [
      "Hourly data for NCKL.JK has been successfully inserted into MySQL.\n"
     ]
    },
    {
     "name": "stderr",
     "output_type": "stream",
     "text": [
      "\n",
      "[*********************100%***********************]  1 of 1 completed"
     ]
    },
    {
     "name": "stdout",
     "output_type": "stream",
     "text": [
      "Hourly data for MENN.JK has been successfully inserted into MySQL.\n"
     ]
    },
    {
     "name": "stderr",
     "output_type": "stream",
     "text": [
      "\n",
      "[*********************100%***********************]  1 of 1 completed"
     ]
    },
    {
     "name": "stdout",
     "output_type": "stream",
     "text": [
      "Hourly data for AWAN.JK has been successfully inserted into MySQL.\n"
     ]
    },
    {
     "name": "stderr",
     "output_type": "stream",
     "text": [
      "\n"
     ]
    },
    {
     "name": "stdout",
     "output_type": "stream",
     "text": [
      "Hourly data for MBMA.JK has been successfully inserted into MySQL.\n"
     ]
    },
    {
     "name": "stderr",
     "output_type": "stream",
     "text": [
      "[*********************100%***********************]  1 of 1 completed\n",
      "[*********************100%***********************]  1 of 1 completed\n"
     ]
    },
    {
     "name": "stdout",
     "output_type": "stream",
     "text": [
      "Hourly data for RAAM.JK has been successfully inserted into MySQL.\n",
      "Hourly data for DOOH.JK has been successfully inserted into MySQL.\n"
     ]
    },
    {
     "name": "stderr",
     "output_type": "stream",
     "text": [
      "[*********************100%***********************]  1 of 1 completed\n",
      "[*********************100%***********************]  1 of 1 completed\n"
     ]
    },
    {
     "name": "stdout",
     "output_type": "stream",
     "text": [
      "Hourly data for JATI.JK has been successfully inserted into MySQL.\n",
      "Hourly data for TYRE.JK has been successfully inserted into MySQL.\n"
     ]
    },
    {
     "name": "stderr",
     "output_type": "stream",
     "text": [
      "[*********************100%***********************]  1 of 1 completed\n",
      "[*********************100%***********************]  1 of 1 completed"
     ]
    },
    {
     "name": "stdout",
     "output_type": "stream",
     "text": [
      "Hourly data for MPXL.JK has been successfully inserted into MySQL.\n",
      "Hourly data for SMIL.JK has been successfully inserted into MySQL.\n"
     ]
    },
    {
     "name": "stderr",
     "output_type": "stream",
     "text": [
      "\n",
      "[*********************100%***********************]  1 of 1 completed\n",
      "[*********************100%***********************]  1 of 1 completed"
     ]
    },
    {
     "name": "stdout",
     "output_type": "stream",
     "text": [
      "Hourly data for KLAS.JK has been successfully inserted into MySQL.\n",
      "Hourly data for MAXI.JK has been successfully inserted into MySQL.\n"
     ]
    },
    {
     "name": "stderr",
     "output_type": "stream",
     "text": [
      "\n",
      "[*********************100%***********************]  1 of 1 completed\n"
     ]
    },
    {
     "name": "stdout",
     "output_type": "stream",
     "text": [
      "Hourly data for VKTR.JK has been successfully inserted into MySQL.\n"
     ]
    },
    {
     "name": "stderr",
     "output_type": "stream",
     "text": [
      "[*********************100%***********************]  1 of 1 completed\n"
     ]
    },
    {
     "name": "stdout",
     "output_type": "stream",
     "text": [
      "Hourly data for RELF.JK has been successfully inserted into MySQL.\n"
     ]
    },
    {
     "name": "stderr",
     "output_type": "stream",
     "text": [
      "[*********************100%***********************]  1 of 1 completed\n"
     ]
    },
    {
     "name": "stdout",
     "output_type": "stream",
     "text": [
      "Hourly data for AMMN.JK has been successfully inserted into MySQL.\n"
     ]
    },
    {
     "name": "stderr",
     "output_type": "stream",
     "text": [
      "[*********************100%***********************]  1 of 1 completed\n",
      "[*********************100%***********************]  1 of 1 completed"
     ]
    },
    {
     "name": "stdout",
     "output_type": "stream",
     "text": [
      "Hourly data for CRSN.JK has been successfully inserted into MySQL.\n"
     ]
    },
    {
     "name": "stderr",
     "output_type": "stream",
     "text": [
      "\n",
      "[*********************100%***********************]  1 of 1 completed"
     ]
    },
    {
     "name": "stdout",
     "output_type": "stream",
     "text": [
      "Hourly data for GRPM.JK has been successfully inserted into MySQL.\n",
      "Hourly data for WIDI.JK has been successfully inserted into MySQL.\n"
     ]
    },
    {
     "name": "stderr",
     "output_type": "stream",
     "text": [
      "\n",
      "[*********************100%***********************]  1 of 1 completed\n",
      "[*********************100%***********************]  1 of 1 completed\n"
     ]
    },
    {
     "name": "stdout",
     "output_type": "stream",
     "text": [
      "Hourly data for TGUK.JK has been successfully inserted into MySQL.\n",
      "Hourly data for INET.JK has been successfully inserted into MySQL.\n"
     ]
    },
    {
     "name": "stderr",
     "output_type": "stream",
     "text": [
      "[*********************100%***********************]  1 of 1 completed\n"
     ]
    },
    {
     "name": "stdout",
     "output_type": "stream",
     "text": [
      "Hourly data for MAHA.JK has been successfully inserted into MySQL.\n"
     ]
    },
    {
     "name": "stderr",
     "output_type": "stream",
     "text": [
      "[*********************100%***********************]  1 of 1 completed\n"
     ]
    },
    {
     "name": "stdout",
     "output_type": "stream",
     "text": [
      "Hourly data for RMKO.JK has been successfully inserted into MySQL.\n"
     ]
    },
    {
     "name": "stderr",
     "output_type": "stream",
     "text": [
      "[*********************100%***********************]  1 of 1 completed\n"
     ]
    },
    {
     "name": "stdout",
     "output_type": "stream",
     "text": [
      "Hourly data for CNMA.JK has been successfully inserted into MySQL.\n"
     ]
    },
    {
     "name": "stderr",
     "output_type": "stream",
     "text": [
      "[*********************100%***********************]  1 of 1 completed\n",
      "[*********************100%***********************]  1 of 1 completed"
     ]
    },
    {
     "name": "stdout",
     "output_type": "stream",
     "text": [
      "Hourly data for FOLK.JK has been successfully inserted into MySQL.\n",
      "Hourly data for HBAT.JK has been successfully inserted into MySQL.\n"
     ]
    },
    {
     "name": "stderr",
     "output_type": "stream",
     "text": [
      "\n",
      "[*********************100%***********************]  1 of 1 completed\n"
     ]
    },
    {
     "name": "stdout",
     "output_type": "stream",
     "text": [
      "Hourly data for GRIA.JK has been successfully inserted into MySQL.\n"
     ]
    },
    {
     "name": "stderr",
     "output_type": "stream",
     "text": [
      "[*********************100%***********************]  1 of 1 completed\n"
     ]
    },
    {
     "name": "stdout",
     "output_type": "stream",
     "text": [
      "Hourly data for PPRI.JK has been successfully inserted into MySQL.\n"
     ]
    },
    {
     "name": "stderr",
     "output_type": "stream",
     "text": [
      "[*********************100%***********************]  1 of 1 completed\n",
      "[*********************100%***********************]  1 of 1 completed"
     ]
    },
    {
     "name": "stdout",
     "output_type": "stream",
     "text": [
      "Hourly data for ERAL.JK has been successfully inserted into MySQL.\n",
      "Hourly data for CYBR.JK has been successfully inserted into MySQL.\n"
     ]
    },
    {
     "name": "stderr",
     "output_type": "stream",
     "text": [
      "\n",
      "[*********************100%***********************]  1 of 1 completed\n"
     ]
    },
    {
     "name": "stdout",
     "output_type": "stream",
     "text": [
      "Hourly data for MUTU.JK has been successfully inserted into MySQL.\n"
     ]
    },
    {
     "name": "stderr",
     "output_type": "stream",
     "text": [
      "[*********************100%***********************]  1 of 1 completed\n"
     ]
    },
    {
     "name": "stdout",
     "output_type": "stream",
     "text": [
      "Hourly data for LMAX.JK has been successfully inserted into MySQL.\n"
     ]
    },
    {
     "name": "stderr",
     "output_type": "stream",
     "text": [
      "[*********************100%***********************]  1 of 1 completed\n"
     ]
    },
    {
     "name": "stdout",
     "output_type": "stream",
     "text": [
      "Hourly data for HUMI.JK has been successfully inserted into MySQL.\n"
     ]
    },
    {
     "name": "stderr",
     "output_type": "stream",
     "text": [
      "[*********************100%***********************]  1 of 1 completed\n"
     ]
    },
    {
     "name": "stdout",
     "output_type": "stream",
     "text": [
      "Hourly data for MSIE.JK has been successfully inserted into MySQL.\n"
     ]
    },
    {
     "name": "stderr",
     "output_type": "stream",
     "text": [
      "[*********************100%***********************]  1 of 1 completed\n"
     ]
    },
    {
     "name": "stdout",
     "output_type": "stream",
     "text": [
      "Hourly data for RSCH.JK has been successfully inserted into MySQL.\n"
     ]
    },
    {
     "name": "stderr",
     "output_type": "stream",
     "text": [
      "[*********************100%***********************]  1 of 1 completed\n"
     ]
    },
    {
     "name": "stdout",
     "output_type": "stream",
     "text": [
      "Hourly data for BABY.JK has been successfully inserted into MySQL.\n"
     ]
    },
    {
     "name": "stderr",
     "output_type": "stream",
     "text": [
      "[*********************100%***********************]  1 of 1 completed\n"
     ]
    },
    {
     "name": "stdout",
     "output_type": "stream",
     "text": [
      "Hourly data for AEGS.JK has been successfully inserted into MySQL.\n"
     ]
    },
    {
     "name": "stderr",
     "output_type": "stream",
     "text": [
      "[*********************100%***********************]  1 of 1 completed\n",
      "[*********************100%***********************]  1 of 1 completed"
     ]
    },
    {
     "name": "stdout",
     "output_type": "stream",
     "text": [
      "Hourly data for IOTF.JK has been successfully inserted into MySQL.\n",
      "Hourly data for KOCI.JK has been successfully inserted into MySQL.\n"
     ]
    },
    {
     "name": "stderr",
     "output_type": "stream",
     "text": [
      "\n",
      "[*********************100%***********************]  1 of 1 completed\n",
      "[*********************100%***********************]  1 of 1 completed"
     ]
    },
    {
     "name": "stdout",
     "output_type": "stream",
     "text": [
      "Hourly data for PTPS.JK has been successfully inserted into MySQL.\n",
      "Hourly data for BREN.JK has been successfully inserted into MySQL.\n"
     ]
    },
    {
     "name": "stderr",
     "output_type": "stream",
     "text": [
      "\n",
      "[*********************100%***********************]  1 of 1 completed\n",
      "[*********************100%***********************]  1 of 1 completed"
     ]
    },
    {
     "name": "stdout",
     "output_type": "stream",
     "text": [
      "Hourly data for STRK.JK has been successfully inserted into MySQL.\n"
     ]
    },
    {
     "name": "stderr",
     "output_type": "stream",
     "text": [
      "\n",
      "[*********************100%***********************]  1 of 1 completed"
     ]
    },
    {
     "name": "stdout",
     "output_type": "stream",
     "text": [
      "Hourly data for KOKA.JK has been successfully inserted into MySQL.\n",
      "Hourly data for LOPI.JK has been successfully inserted into MySQL.\n"
     ]
    },
    {
     "name": "stderr",
     "output_type": "stream",
     "text": [
      "\n",
      "[*********************100%***********************]  1 of 1 completed\n",
      "[*********************100%***********************]  1 of 1 completed"
     ]
    },
    {
     "name": "stdout",
     "output_type": "stream",
     "text": [
      "Hourly data for UDNG.JK has been successfully inserted into MySQL.\n",
      "Hourly data for RGAS.JK has been successfully inserted into MySQL.\n"
     ]
    },
    {
     "name": "stderr",
     "output_type": "stream",
     "text": [
      "\n",
      "[*********************100%***********************]  1 of 1 completed\n"
     ]
    },
    {
     "name": "stdout",
     "output_type": "stream",
     "text": [
      "Hourly data for MSTI.JK has been successfully inserted into MySQL.\n"
     ]
    },
    {
     "name": "stderr",
     "output_type": "stream",
     "text": [
      "[*********************100%***********************]  1 of 1 completed\n",
      "[*********************100%***********************]  1 of 1 completed\n"
     ]
    },
    {
     "name": "stdout",
     "output_type": "stream",
     "text": [
      "Hourly data for IKPM.JK has been successfully inserted into MySQL.\n",
      "Hourly data for AYAM.JK has been successfully inserted into MySQL.\n"
     ]
    },
    {
     "name": "stderr",
     "output_type": "stream",
     "text": [
      "[*********************100%***********************]  1 of 1 completed\n"
     ]
    },
    {
     "name": "stdout",
     "output_type": "stream",
     "text": [
      "Hourly data for SURI.JK has been successfully inserted into MySQL.\n"
     ]
    },
    {
     "name": "stderr",
     "output_type": "stream",
     "text": [
      "[*********************100%***********************]  1 of 1 completed\n"
     ]
    },
    {
     "name": "stdout",
     "output_type": "stream",
     "text": [
      "Hourly data for ASLI.JK has been successfully inserted into MySQL.\n"
     ]
    },
    {
     "name": "stderr",
     "output_type": "stream",
     "text": [
      "[*********************100%***********************]  1 of 1 completed\n"
     ]
    },
    {
     "name": "stdout",
     "output_type": "stream",
     "text": [
      "Hourly data for CGAS.JK has been successfully inserted into MySQL.\n"
     ]
    },
    {
     "name": "stderr",
     "output_type": "stream",
     "text": [
      "[*********************100%***********************]  1 of 1 completed\n"
     ]
    },
    {
     "name": "stdout",
     "output_type": "stream",
     "text": [
      "Hourly data for NICE.JK has been successfully inserted into MySQL.\n"
     ]
    },
    {
     "name": "stderr",
     "output_type": "stream",
     "text": [
      "[*********************100%***********************]  1 of 1 completed\n"
     ]
    },
    {
     "name": "stdout",
     "output_type": "stream",
     "text": [
      "Hourly data for MSJA.JK has been successfully inserted into MySQL.\n"
     ]
    },
    {
     "name": "stderr",
     "output_type": "stream",
     "text": [
      "[*********************100%***********************]  1 of 1 completed\n"
     ]
    },
    {
     "name": "stdout",
     "output_type": "stream",
     "text": [
      "Hourly data for SMLE.JK has been successfully inserted into MySQL.\n"
     ]
    },
    {
     "name": "stderr",
     "output_type": "stream",
     "text": [
      "[*********************100%***********************]  1 of 1 completed\n",
      "[*********************100%***********************]  1 of 1 completed"
     ]
    },
    {
     "name": "stdout",
     "output_type": "stream",
     "text": [
      "Hourly data for ACRO.JK has been successfully inserted into MySQL.\n",
      "Hourly data for MANG.JK has been successfully inserted into MySQL.\n"
     ]
    },
    {
     "name": "stderr",
     "output_type": "stream",
     "text": [
      "\n",
      "[*********************100%***********************]  1 of 1 completed\n",
      "[*********************100%***********************]  1 of 1 completed\n"
     ]
    },
    {
     "name": "stdout",
     "output_type": "stream",
     "text": [
      "Hourly data for GRPH.JK has been successfully inserted into MySQL.\n",
      "Hourly data for SMGA.JK has been successfully inserted into MySQL.\n"
     ]
    },
    {
     "name": "stderr",
     "output_type": "stream",
     "text": [
      "[*********************100%***********************]  1 of 1 completed\n",
      "[*********************100%***********************]  1 of 1 completed"
     ]
    },
    {
     "name": "stdout",
     "output_type": "stream",
     "text": [
      "Hourly data for UNTD.JK has been successfully inserted into MySQL.\n"
     ]
    },
    {
     "name": "stderr",
     "output_type": "stream",
     "text": [
      "\n"
     ]
    },
    {
     "name": "stdout",
     "output_type": "stream",
     "text": [
      "Hourly data for TOSK.JK has been successfully inserted into MySQL.\n"
     ]
    },
    {
     "name": "stderr",
     "output_type": "stream",
     "text": [
      "[*********************100%***********************]  1 of 1 completed\n"
     ]
    },
    {
     "name": "stdout",
     "output_type": "stream",
     "text": [
      "Hourly data for MPIX.JK has been successfully inserted into MySQL.\n"
     ]
    },
    {
     "name": "stderr",
     "output_type": "stream",
     "text": [
      "[*********************100%***********************]  1 of 1 completed\n"
     ]
    },
    {
     "name": "stdout",
     "output_type": "stream",
     "text": [
      "Hourly data for ALII.JK has been successfully inserted into MySQL.\n"
     ]
    },
    {
     "name": "stderr",
     "output_type": "stream",
     "text": [
      "[*********************100%***********************]  1 of 1 completed\n"
     ]
    },
    {
     "name": "stdout",
     "output_type": "stream",
     "text": [
      "Hourly data for MKAP.JK has been successfully inserted into MySQL.\n"
     ]
    },
    {
     "name": "stderr",
     "output_type": "stream",
     "text": [
      "[*********************100%***********************]  1 of 1 completed\n"
     ]
    },
    {
     "name": "stdout",
     "output_type": "stream",
     "text": [
      "Hourly data for MEJA.JK has been successfully inserted into MySQL.\n"
     ]
    },
    {
     "name": "stderr",
     "output_type": "stream",
     "text": [
      "[*********************100%***********************]  1 of 1 completed\n",
      "[*********************100%***********************]  1 of 1 completed"
     ]
    },
    {
     "name": "stdout",
     "output_type": "stream",
     "text": [
      "Hourly data for LIVE.JK has been successfully inserted into MySQL.\n"
     ]
    },
    {
     "name": "stderr",
     "output_type": "stream",
     "text": [
      "\n"
     ]
    },
    {
     "name": "stdout",
     "output_type": "stream",
     "text": [
      "Hourly data for HYGN.JK has been successfully inserted into MySQL.\n"
     ]
    },
    {
     "name": "stderr",
     "output_type": "stream",
     "text": [
      "[*********************100%***********************]  1 of 1 completed\n"
     ]
    },
    {
     "name": "stdout",
     "output_type": "stream",
     "text": [
      "Hourly data for BAIK.JK has been successfully inserted into MySQL.\n"
     ]
    },
    {
     "name": "stderr",
     "output_type": "stream",
     "text": [
      "[*********************100%***********************]  1 of 1 completed\n",
      "[*********************100%***********************]  1 of 1 completed"
     ]
    },
    {
     "name": "stdout",
     "output_type": "stream",
     "text": [
      "Hourly data for VISI.JK has been successfully inserted into MySQL.\n"
     ]
    },
    {
     "name": "stderr",
     "output_type": "stream",
     "text": [
      "\n",
      "[*********************100%***********************]  1 of 1 completed"
     ]
    },
    {
     "name": "stdout",
     "output_type": "stream",
     "text": [
      "Hourly data for AREA.JK has been successfully inserted into MySQL.\n",
      "Hourly data for MHKI.JK has been successfully inserted into MySQL.\n"
     ]
    },
    {
     "name": "stderr",
     "output_type": "stream",
     "text": [
      "\n",
      "[*********************100%***********************]  1 of 1 completed\n",
      "[*********************100%***********************]  1 of 1 completed"
     ]
    },
    {
     "name": "stdout",
     "output_type": "stream",
     "text": [
      "Hourly data for ATLA.JK has been successfully inserted into MySQL.\n",
      "Hourly data for DATA.JK has been successfully inserted into MySQL.\n"
     ]
    },
    {
     "name": "stderr",
     "output_type": "stream",
     "text": [
      "\n",
      "[*********************100%***********************]  1 of 1 completed\n"
     ]
    },
    {
     "name": "stdout",
     "output_type": "stream",
     "text": [
      "Hourly data for SOLA.JK has been successfully inserted into MySQL.\n"
     ]
    },
    {
     "name": "stderr",
     "output_type": "stream",
     "text": [
      "[*********************100%***********************]  1 of 1 completed\n",
      "[*********************100%***********************]  1 of 1 completed\n"
     ]
    },
    {
     "name": "stdout",
     "output_type": "stream",
     "text": [
      "Hourly data for BATR.JK has been successfully inserted into MySQL.\n",
      "Hourly data for SPRE.JK has been successfully inserted into MySQL.\n"
     ]
    },
    {
     "name": "stderr",
     "output_type": "stream",
     "text": [
      "[*********************100%***********************]  1 of 1 completed\n",
      "[*********************100%***********************]  1 of 1 completed\n"
     ]
    },
    {
     "name": "stdout",
     "output_type": "stream",
     "text": [
      "Hourly data for PART.JK has been successfully inserted into MySQL.\n",
      "Hourly data for GOLF.JK has been successfully inserted into MySQL.\n"
     ]
    },
    {
     "name": "stderr",
     "output_type": "stream",
     "text": [
      "[*********************100%***********************]  1 of 1 completed\n",
      "[*********************100%***********************]  1 of 1 completed\n"
     ]
    },
    {
     "name": "stdout",
     "output_type": "stream",
     "text": [
      "Hourly data for ISEA.JK has been successfully inserted into MySQL.\n",
      "Hourly data for BLES.JK has been successfully inserted into MySQL.\n"
     ]
    },
    {
     "name": "stderr",
     "output_type": "stream",
     "text": [
      "[*********************100%***********************]  1 of 1 completed\n",
      "[*********************100%***********************]  1 of 1 completed\n"
     ]
    },
    {
     "name": "stdout",
     "output_type": "stream",
     "text": [
      "Hourly data for GUNA.JK has been successfully inserted into MySQL.\n",
      "Hourly data for LABS.JK has been successfully inserted into MySQL.\n"
     ]
    },
    {
     "name": "stderr",
     "output_type": "stream",
     "text": [
      "[*********************100%***********************]  1 of 1 completed\n"
     ]
    },
    {
     "name": "stdout",
     "output_type": "stream",
     "text": [
      "Hourly data for DOSS.JK has been successfully inserted into MySQL.\n"
     ]
    },
    {
     "name": "stderr",
     "output_type": "stream",
     "text": [
      "[*********************100%***********************]  1 of 1 completed\n"
     ]
    },
    {
     "name": "stdout",
     "output_type": "stream",
     "text": [
      "Hourly data for NEST.JK has been successfully inserted into MySQL.\n"
     ]
    },
    {
     "name": "stderr",
     "output_type": "stream",
     "text": [
      "[*********************100%***********************]  1 of 1 completed\n"
     ]
    },
    {
     "name": "stdout",
     "output_type": "stream",
     "text": [
      "Hourly data for PTMR.JK has been successfully inserted into MySQL.\n"
     ]
    },
    {
     "name": "stderr",
     "output_type": "stream",
     "text": [
      "[*********************100%***********************]  1 of 1 completed\n"
     ]
    },
    {
     "name": "stdout",
     "output_type": "stream",
     "text": [
      "Hourly data for VERN.JK has been successfully inserted into MySQL.\n"
     ]
    },
    {
     "name": "stderr",
     "output_type": "stream",
     "text": [
      "[*********************100%***********************]  1 of 1 completed\n",
      "[*********************100%***********************]  1 of 1 completed\n"
     ]
    },
    {
     "name": "stdout",
     "output_type": "stream",
     "text": [
      "Hourly data for DAAZ.JK has been successfully inserted into MySQL.\n",
      "Hourly data for BOAT.JK has been successfully inserted into MySQL.\n"
     ]
    },
    {
     "name": "stderr",
     "output_type": "stream",
     "text": [
      "[*********************100%***********************]  1 of 1 completed\n",
      "[*********************100%***********************]  1 of 1 completed\n"
     ]
    },
    {
     "name": "stdout",
     "output_type": "stream",
     "text": [
      "Hourly data for NAIK.JK has been successfully inserted into MySQL.\n",
      "Hourly data for AADI.JK has been successfully inserted into MySQL.\n"
     ]
    },
    {
     "name": "stderr",
     "output_type": "stream",
     "text": [
      "[*********************100%***********************]  1 of 1 completed\n",
      "[*********************100%***********************]  1 of 1 completed\n"
     ]
    },
    {
     "name": "stdout",
     "output_type": "stream",
     "text": [
      "Hourly data for MDIY.JK has been successfully inserted into MySQL.\n",
      "Hourly data for KSIX.JK has been successfully inserted into MySQL.\n"
     ]
    },
    {
     "name": "stderr",
     "output_type": "stream",
     "text": [
      "[*********************100%***********************]  1 of 1 completed\n",
      "[*********************100%***********************]  1 of 1 completed\n"
     ]
    },
    {
     "name": "stdout",
     "output_type": "stream",
     "text": [
      "Hourly data for RATU.JK has been successfully inserted into MySQL.\n",
      "Hourly data for YOII.JK has been successfully inserted into MySQL.\n"
     ]
    },
    {
     "name": "stderr",
     "output_type": "stream",
     "text": [
      "[*********************100%***********************]  1 of 1 completed\n",
      "[*********************100%***********************]  1 of 1 completed\n"
     ]
    },
    {
     "name": "stdout",
     "output_type": "stream",
     "text": [
      "Hourly data for HGII.JK has been successfully inserted into MySQL.\n",
      "Hourly data for BRRC.JK has been successfully inserted into MySQL.\n"
     ]
    },
    {
     "name": "stderr",
     "output_type": "stream",
     "text": [
      "[*********************100%***********************]  1 of 1 completed\n",
      "[*********************100%***********************]  1 of 1 completed\n"
     ]
    },
    {
     "name": "stdout",
     "output_type": "stream",
     "text": [
      "Hourly data for DGWG.JK has been successfully inserted into MySQL.\n",
      "Hourly data for CBDK.JK has been successfully inserted into MySQL.\n"
     ]
    },
    {
     "name": "stderr",
     "output_type": "stream",
     "text": [
      "[*********************100%***********************]  1 of 1 completed"
     ]
    },
    {
     "name": "stdout",
     "output_type": "stream",
     "text": [
      "Hourly data for OBAT.JK has been successfully inserted into MySQL.\n"
     ]
    },
    {
     "name": "stderr",
     "output_type": "stream",
     "text": [
      "\n"
     ]
    }
   ],
   "source": [
    "import yfinance as yf\n",
    "import pandas as pd\n",
    "import pymysql\n",
    "import json\n",
    "\n",
    "# MySQL connection setup\n",
    "connection = pymysql.connect(\n",
    "    host='localhost',\n",
    "    user='root',\n",
    "    password='',\n",
    "    database='harga_saham'\n",
    ")\n",
    "cursor = connection.cursor()\n",
    "\n",
    "# Create tables if they don't exist\n",
    "create_table_minute_sql = \"\"\"\n",
    "CREATE TABLE IF NOT EXISTS data_saham_minute_all_feb (\n",
    "    id INT AUTO_INCREMENT PRIMARY KEY,\n",
    "    Ticker VARCHAR(10),\n",
    "    Data JSON,\n",
    "    UNIQUE (Ticker)\n",
    ")\n",
    "\"\"\"\n",
    "cursor.execute(create_table_minute_sql)\n",
    "\n",
    "create_table_hour_sql = \"\"\"\n",
    "CREATE TABLE IF NOT EXISTS data_saham_hour_all_feb (\n",
    "    id INT AUTO_INCREMENT PRIMARY KEY,\n",
    "    Ticker VARCHAR(10),\n",
    "    Data JSON,\n",
    "    UNIQUE (Ticker)\n",
    ")\n",
    "\"\"\"\n",
    "cursor.execute(create_table_hour_sql)\n",
    "\n",
    "# Define tickers\n",
    "tickers = ['AALI.JK', 'ABBA.JK', 'ABDA.JK', 'ABMM.JK', 'ACES.JK', 'ACST.JK', 'ADES.JK', 'ADHI.JK', 'ADMF.JK', 'ADMG.JK', 'ADRO.JK', 'AGII.JK', 'AGRO.JK', 'AGRS.JK', 'AHAP.JK', 'AIMS.JK', 'AISA.JK', 'AKKU.JK', 'AKPI.JK', 'AKRA.JK', 'AKSI.JK', 'ALDO.JK', 'ALKA.JK', 'ALMI.JK', 'ALTO.JK', 'AMAG.JK', 'AMFG.JK', 'AMIN.JK', 'AMRT.JK', 'ANJT.JK', 'ANTM.JK', 'APEX.JK', 'APIC.JK', 'APII.JK', 'APLI.JK', 'APLN.JK', 'ARGO.JK', 'ARII.JK', 'ARNA.JK', 'ARTA.JK', 'ARTI.JK', 'ARTO.JK', 'ASBI.JK', 'ASDM.JK', 'ASGR.JK', 'ASII.JK', 'ASJT.JK', 'ASMI.JK', 'ASRI.JK', 'ASRM.JK', 'ASSA.JK', 'ATIC.JK', 'AUTO.JK', 'BABP.JK', 'BACA.JK', 'BAJA.JK', 'BALI.JK', 'BAPA.JK', 'BATA.JK', 'BAYU.JK', 'BBCA.JK', 'BBHI.JK', 'BBKP.JK', 'BBLD.JK', 'BBMD.JK', 'BBNI.JK', 'BBRI.JK', 'BBRM.JK', 'BBTN.JK', 'BBYB.JK', 'BCAP.JK', 'BCIC.JK', 'BCIP.JK', 'BDMN.JK', 'BEKS.JK', 'BEST.JK', 'BFIN.JK', 'BGTG.JK', 'BHIT.JK', 'BIKA.JK', 'BIMA.JK', 'BINA.JK', 'BIPI.JK', 'BIPP.JK', 'BIRD.JK', 'BISI.JK', 'BJBR.JK', 'BJTM.JK', 'BKDP.JK', 'BKSL.JK', 'BKSW.JK', 'BLTA.JK', 'BLTZ.JK', 'BMAS.JK', 'BMRI.JK', 'BMSR.JK', 'BMTR.JK', 'BNBA.JK', 'BNBR.JK', 'BNGA.JK', 'BNII.JK', 'BNLI.JK', 'BOLT.JK', 'BPFI.JK', 'BPII.JK', 'BRAM.JK', 'BRMS.JK', 'BRNA.JK', 'BRPT.JK', 'BSDE.JK', 'BSIM.JK', 'BSSR.JK', 'BSWD.JK', 'BTEK.JK', 'BTEL.JK', 'BTON.JK', 'BTPN.JK', 'BUDI.JK', 'BUKK.JK', 'BULL.JK', 'BUMI.JK', 'BUVA.JK', 'BVIC.JK', 'BWPT.JK', 'BYAN.JK', 'CANI.JK', 'CASS.JK', 'CEKA.JK', 'CENT.JK', 'CFIN.JK', 'CINT.JK', 'CITA.JK', 'CLPI.JK', 'CMNP.JK', 'CMPP.JK', 'CNKO.JK', 'CNTX.JK', 'COWL.JK', 'CPIN.JK', 'CPRO.JK', 'CSAP.JK', 'CTBN.JK', 'CTRA.JK', 'CTTH.JK', 'DART.JK', 'DEFI.JK', 'DEWA.JK', 'DGIK.JK', 'DILD.JK', 'DKFT.JK', 'DLTA.JK', 'DMAS.JK', 'DNAR.JK', 'DNET.JK', 'DOID.JK', 'DPNS.JK', 'DSFI.JK', 'DSNG.JK', 'DSSA.JK', 'DUTI.JK', 'DVLA.JK', 'DYAN.JK', 'ECII.JK', 'EKAD.JK', 'ELSA.JK', 'ELTY.JK', 'EMDE.JK', 'EMTK.JK', 'ENRG.JK', 'EPMT.JK', 'ERAA.JK', 'ERTX.JK', 'ESSA.JK', 'ESTI.JK', 'ETWA.JK', 'EXCL.JK', 'FAST.JK', 'FASW.JK', 'FISH.JK', 'FMII.JK', 'FORU.JK', 'FPNI.JK', 'FREN.JK', 'GAMA.JK', 'GDST.JK', 'GDYR.JK', 'GEMA.JK', 'GEMS.JK', 'GGRM.JK', 'GIAA.JK', 'GJTL.JK', 'GLOB.JK', 'GMTD.JK', 'GOLD.JK', 'GOLL.JK', 'GPRA.JK', 'GSMF.JK', 'GTBO.JK', 'GWSA.JK', 'GZCO.JK', 'HADE.JK', 'HDFA.JK', 'HDTX.JK', 'HERO.JK', 'HEXA.JK', 'HITS.JK', 'HMSP.JK', 'HOME.JK', 'HOTL.JK', 'HRUM.JK', 'IATA.JK', 'IBFN.JK', 'IBST.JK', 'ICBP.JK', 'ICON.JK', 'IGAR.JK', 'IIKP.JK', 'IKAI.JK', 'IKBI.JK', 'IMAS.JK', 'IMJS.JK', 'IMPC.JK', 'INAF.JK', 'INAI.JK', 'INCI.JK', 'INCO.JK', 'INDF.JK', 'INDR.JK', 'INDS.JK', 'INDX.JK', 'INDY.JK', 'INKP.JK', 'INPC.JK', 'INPP.JK', 'INRU.JK', 'INTA.JK', 'INTD.JK', 'INTP.JK', 'IPOL.JK', 'ISAT.JK', 'ISSP.JK', 'ITMA.JK', 'ITMG.JK', 'JAWA.JK', 'JECC.JK', 'JIHD.JK', 'JKON.JK', 'JKSW.JK', 'JPFA.JK', 'JRPT.JK', 'JSMR.JK', 'JSPT.JK', 'JTPE.JK', 'KAEF.JK', 'KARW.JK', 'KBLI.JK', 'KBLM.JK', 'KBLV.JK', 'KBRI.JK', 'KDSI.JK', 'KIAS.JK', 'KICI.JK', 'KIJA.JK', 'KKGI.JK', 'KLBF.JK', 'KOBX.JK', 'KOIN.JK', 'KONI.JK', 'KOPI.JK', 'KPIG.JK', 'KRAH.JK', 'KRAS.JK', 'KREN.JK', 'LAPD.JK', 'LCGP.JK', 'LEAD.JK', 'LINK.JK', 'LION.JK', 'LMAS.JK', 'LMPI.JK', 'LMSH.JK', 'LPCK.JK', 'LPGI.JK', 'LPIN.JK', 'LPKR.JK', 'LPLI.JK', 'LPPF.JK', 'LPPS.JK', 'LRNA.JK', 'LSIP.JK', 'LTLS.JK', 'MAGP.JK', 'MAIN.JK', 'MAMI.JK', 'MAPI.JK', 'MASA.JK', 'MAYA.JK', 'MBAP.JK', 'MBSS.JK', 'MBTO.JK', 'MCOR.JK', 'MDIA.JK', 'MDKA.JK', 'MDLN.JK', 'MDRN.JK', 'MEDC.JK', 'MEGA.JK', 'MERK.JK', 'META.JK', 'MFIN.JK', 'MFMI.JK', 'MGNA.JK', 'MICE.JK', 'MIDI.JK', 'MIKA.JK', 'MIRA.JK', 'MITI.JK', 'MKPI.JK', 'MLBI.JK', 'MLIA.JK', 'MLPL.JK', 'MLPT.JK', 'MMLP.JK', 'MNCN.JK', 'MPMX.JK', 'MPPA.JK', 'MRAT.JK', 'MREI.JK', 'MSKY.JK', 'MTDL.JK', 'MTFN.JK', 'MTLA.JK', 'MTSM.JK', 'MYOH.JK', 'MYOR.JK', 'MYRX.JK', 'MYTX.JK', 'NELY.JK', 'NIKL.JK', 'NIPS.JK', 'NIRO.JK', 'NISP.JK', 'NOBU.JK', 'NRCA.JK', 'OCAP.JK', 'OKAS.JK', 'OMRE.JK', 'PADI.JK', 'PALM.JK', 'PANR.JK', 'PANS.JK', 'PBRX.JK', 'PDES.JK', 'PEGE.JK', 'PGAS.JK', 'PGLI.JK', 'PICO.JK', 'PJAA.JK', 'PKPK.JK', 'PLAS.JK', 'PLIN.JK', 'PNBN.JK', 'PNBS.JK', 'PNIN.JK', 'PNLF.JK', 'PNSE.JK', 'POLY.JK', 'POOL.JK', 'PPRO.JK', 'PRAS.JK', 'PSAB.JK', 'PSDN.JK', 'PSKT.JK', 'PTBA.JK', 'PTIS.JK', 'PTPP.JK', 'PTRO.JK', 'PTSN.JK', 'PTSP.JK', 'PUDP.JK', 'PWON.JK', 'PYFA.JK', 'RAJA.JK', 'RALS.JK', 'RANC.JK', 'RBMS.JK', 'RDTX.JK', 'RELI.JK', 'RICY.JK', 'RIGS.JK', 'RIMO.JK', 'RODA.JK', 'ROTI.JK', 'RUIS.JK', 'SAFE.JK', 'SAME.JK', 'SCCO.JK', 'SCMA.JK', 'SCPI.JK', 'SDMU.JK', 'SDPC.JK', 'SDRA.JK', 'SGRO.JK', 'SHID.JK', 'SIDO.JK', 'SILO.JK', 'SIMA.JK', 'SIMP.JK', 'SIPD.JK', 'SKBM.JK', 'SKLT.JK', 'SKYB.JK', 'SMAR.JK', 'SMBR.JK', 'SMCB.JK', 'SMDM.JK', 'SMDR.JK', 'SMGR.JK', 'SMMA.JK', 'SMMT.JK', 'SMRA.JK', 'SMRU.JK', 'SMSM.JK', 'SOCI.JK', 'SONA.JK', 'SPMA.JK', 'SQMI.JK', 'SRAJ.JK', 'SRIL.JK', 'SRSN.JK', 'SRTG.JK', 'SSIA.JK', 'SSMS.JK', 'SSTM.JK', 'STAR.JK', 'STTP.JK', 'SUGI.JK', 'SULI.JK', 'SUPR.JK', 'TALF.JK', 'TARA.JK', 'TAXI.JK', 'TBIG.JK', 'TBLA.JK', 'TBMS.JK', 'TCID.JK', 'TELE.JK', 'TFCO.JK', 'TGKA.JK', 'TIFA.JK', 'TINS.JK', 'TIRA.JK', 'TIRT.JK', 'TKIM.JK', 'TLKM.JK', 'TMAS.JK', 'TMPO.JK', 'TOBA.JK', 'TOTL.JK', 'TOTO.JK', 'TOWR.JK', 'TPIA.JK', 'TPMA.JK', 'TRAM.JK', 'TRIL.JK', 'TRIM.JK', 'TRIO.JK', 'TRIS.JK', 'TRST.JK', 'TRUS.JK', 'TSPC.JK', 'ULTJ.JK', 'UNIC.JK', 'UNIT.JK', 'UNSP.JK', 'UNTR.JK', 'UNVR.JK', 'VICO.JK', 'VINS.JK', 'VIVA.JK', 'VOKS.JK', 'VRNA.JK', 'WAPO.JK', 'WEHA.JK', 'WICO.JK', 'WIIM.JK', 'WIKA.JK', 'WINS.JK', 'WOMF.JK', 'WSKT.JK', 'WTON.JK', 'YPAS.JK', 'YULE.JK', 'ZBRA.JK', 'SHIP.JK', 'CASA.JK', 'DAYA.JK', 'DPUM.JK', 'IDPR.JK', 'JGLE.JK', 'KINO.JK', 'MARI.JK', 'MKNT.JK', 'MTRA.JK', 'OASA.JK', 'POWR.JK', 'INCF.JK', 'WSBP.JK', 'PBSA.JK', 'PRDA.JK', 'BOGA.JK', 'BRIS.JK', 'PORT.JK', 'CARS.JK', 'MINA.JK', 'FORZ.JK', 'CLEO.JK', 'TAMU.JK', 'CSIS.JK', 'TGRA.JK', 'FIRE.JK', 'TOPS.JK', 'KMTR.JK', 'ARMY.JK', 'MAPB.JK', 'WOOD.JK', 'HRTA.JK', 'MABA.JK', 'HOKI.JK', 'MPOW.JK', 'MARK.JK', 'NASA.JK', 'MDKI.JK', 'BELL.JK', 'KIOS.JK', 'GMFI.JK', 'MTWI.JK', 'ZINC.JK', 'MCAS.JK', 'PPRE.JK', 'WEGE.JK', 'PSSI.JK', 'MORA.JK', 'DWGL.JK', 'PBID.JK', 'JMAS.JK', 'CAMP.JK', 'IPCM.JK', 'PCAR.JK', 'LCKM.JK', 'BOSS.JK', 'HELI.JK', 'JSKY.JK', 'INPS.JK', 'GHON.JK', 'TDPM.JK', 'DFAM.JK', 'NICK.JK', 'BTPS.JK', 'SPTO.JK', 'PRIM.JK', 'HEAL.JK', 'TRUK.JK', 'PZZA.JK', 'TUGU.JK', 'MSIN.JK', 'SWAT.JK', 'KPAL.JK', 'TNCA.JK', 'MAPA.JK', 'TCPI.JK', 'IPCC.JK', 'RISE.JK', 'BPTR.JK', 'POLL.JK', 'NFCX.JK', 'MGRO.JK', 'NUSA.JK', 'FILM.JK', 'ANDI.JK', 'LAND.JK', 'MOLI.JK', 'PANI.JK', 'DIGI.JK', 'CITY.JK', 'SAPX.JK', 'KPAS.JK', 'SURE.JK', 'HKMU.JK', 'MPRO.JK', 'DUCK.JK', 'GOOD.JK', 'SKRN.JK', 'YELO.JK', 'CAKK.JK', 'SATU.JK', 'SOSS.JK', 'DEAL.JK', 'POLA.JK', 'DIVA.JK', 'LUCK.JK', 'URBN.JK', 'SOTS.JK', 'ZONE.JK', 'PEHA.JK', 'FOOD.JK', 'BEEF.JK', 'POLI.JK', 'CLAY.JK', 'NATO.JK', 'JAYA.JK', 'COCO.JK', 'MTPS.JK', 'CPRI.JK', 'HRME.JK', 'POSA.JK', 'JAST.JK', 'FITT.JK', 'BOLA.JK', 'CCSI.JK', 'SFAN.JK', 'POLU.JK', 'KJEN.JK', 'KAYU.JK', 'ITIC.JK', 'PAMG.JK', 'IPTV.JK', 'BLUE.JK', 'ENVY.JK', 'EAST.JK', 'LIFE.JK', 'FUJI.JK', 'KOTA.JK', 'INOV.JK', 'ARKA.JK', 'SMKL.JK', 'HDIT.JK', 'KEEN.JK', 'BAPI.JK', 'TFAS.JK', 'GGRP.JK', 'OPMS.JK', 'NZIA.JK', 'SLIS.JK', 'PURE.JK', 'IRRA.JK', 'DMMX.JK', 'SINI.JK', 'WOWS.JK', 'ESIP.JK', 'TEBE.JK', 'KEJU.JK', 'PSGO.JK', 'AGAR.JK', 'IFSH.JK', 'REAL.JK', 'IFII.JK', 'PMJS.JK', 'UCID.JK', 'GLVA.JK', 'PGJO.JK', 'AMAR.JK', 'CSRA.JK', 'INDO.JK', 'AMOR.JK', 'TRIN.JK', 'DMND.JK', 'PURA.JK', 'PTPW.JK', 'TAMA.JK', 'IKAN.JK', 'AYLS.JK', 'DADA.JK', 'ASPI.JK', 'ESTA.JK', 'BESS.JK', 'AMAN.JK', 'CARE.JK', 'SAMF.JK', 'SBAT.JK', 'KBAG.JK', 'CBMF.JK', 'RONY.JK', 'CSMI.JK', 'BBSS.JK', 'BHAT.JK', 'CASH.JK', 'TECH.JK', 'EPAC.JK', 'UANG.JK', 'PGUN.JK', 'SOFA.JK', 'PPGL.JK', 'TOYS.JK', 'SGER.JK', 'TRJA.JK', 'PNGO.JK', 'SCNP.JK', 'BBSI.JK', 'KMDS.JK', 'PURI.JK', 'SOHO.JK', 'HOMI.JK', 'ROCK.JK', 'ENZO.JK', 'PLAN.JK', 'PTDU.JK', 'ATAP.JK', 'VICI.JK', 'PMMP.JK', 'WIFI.JK', 'FAPA.JK', 'DCII.JK', 'KETR.JK', 'DGNS.JK', 'UFOE.JK', 'BANK.JK', 'WMUU.JK', 'EDGE.JK', 'UNIQ.JK', 'BEBS.JK', 'SNLK.JK', 'ZYRX.JK', 'LFLO.JK', 'FIMP.JK', 'TAPG.JK', 'NPGF.JK', 'LUCY.JK', 'ADCP.JK', 'HOPE.JK', 'MGLV.JK', 'TRUE.JK', 'LABA.JK', 'ARCI.JK', 'IPAC.JK', 'MASB.JK', 'BMHS.JK', 'FLMC.JK', 'NICL.JK', 'UVCR.JK', 'BUKA.JK', 'HAIS.JK', 'OILS.JK', 'GPSO.JK', 'MCOL.JK', 'RSGK.JK', 'RUNS.JK', 'SBMA.JK', 'CMNT.JK', 'GTSI.JK', 'IDEA.JK', 'KUAS.JK', 'BOBA.JK', 'MTEL.JK', 'DEPO.JK', 'BINO.JK', 'CMRY.JK', 'WGSH.JK', 'TAYS.JK', 'WMPP.JK', 'RMKE.JK', 'OBMD.JK', 'AVIA.JK', 'IPPE.JK', 'NASI.JK', 'BSML.JK', 'DRMA.JK', 'ADMR.JK', 'SEMA.JK', 'ASLC.JK', 'NETV.JK', 'BAUT.JK', 'ENAK.JK', 'NTBK.JK', 'SMKM.JK', 'STAA.JK', 'NANO.JK', 'BIKE.JK', 'WIRG.JK', 'SICO.JK', 'GOTO.JK', 'TLDN.JK', 'MTMH.JK', 'WINR.JK', 'IBOS.JK', 'OLIV.JK', 'ASHA.JK', 'SWID.JK', 'TRGU.JK', 'ARKO.JK', 'CHEM.JK', 'DEWI.JK', 'AXIO.JK', 'KRYA.JK', 'HATM.JK', 'RCCC.JK', 'GULA.JK', 'JARR.JK', 'AMMS.JK', 'RAFI.JK', 'KKES.JK', 'ELPI.JK', 'EURO.JK', 'KLIN.JK', 'TOOL.JK', 'BUAH.JK', 'CRAB.JK', 'MEDS.JK', 'COAL.JK', 'PRAY.JK', 'CBUT.JK', 'BELI.JK', 'MKTR.JK', 'OMED.JK', 'BSBK.JK', 'PDPP.JK', 'KDTN.JK', 'ZATA.JK', 'NINE.JK', 'MMIX.JK', 'PADA.JK', 'ISAP.JK', 'VTNY.JK', 'SOUL.JK', 'ELIT.JK', 'BEER.JK', 'CBPE.JK', 'SUNI.JK', 'CBRE.JK', 'WINE.JK', 'BMBL.JK', 'PEVE.JK', 'LAJU.JK', 'FWCT.JK', 'NAYZ.JK', 'IRSX.JK', 'PACK.JK', 'VAST.JK', 'CHIP.JK', 'HALO.JK', 'KING.JK', 'PGEO.JK', 'FUTR.JK', 'HILL.JK', 'BDKR.JK', 'PTMP.JK', 'SAGE.JK', 'TRON.JK', 'CUAN.JK', 'NSSS.JK', 'GTRA.JK', 'HAJJ.JK', 'PIPA.JK', 'NCKL.JK', 'MENN.JK', 'AWAN.JK', 'MBMA.JK', 'RAAM.JK', 'DOOH.JK', 'JATI.JK', 'TYRE.JK', 'MPXL.JK', 'SMIL.JK', 'KLAS.JK', 'MAXI.JK', 'VKTR.JK', 'RELF.JK', 'AMMN.JK', 'CRSN.JK', 'GRPM.JK', 'WIDI.JK', 'TGUK.JK', 'INET.JK', 'MAHA.JK', 'RMKO.JK', 'CNMA.JK', 'FOLK.JK', 'HBAT.JK', 'GRIA.JK', 'PPRI.JK', 'ERAL.JK', 'CYBR.JK', 'MUTU.JK', 'LMAX.JK', 'HUMI.JK', 'MSIE.JK', 'RSCH.JK', 'BABY.JK', 'AEGS.JK', 'IOTF.JK', 'KOCI.JK', 'PTPS.JK', 'BREN.JK', 'STRK.JK', 'KOKA.JK', 'LOPI.JK', 'UDNG.JK', 'RGAS.JK', 'MSTI.JK', 'IKPM.JK', 'AYAM.JK', 'SURI.JK', 'ASLI.JK', 'CGAS.JK', 'NICE.JK', 'MSJA.JK', 'SMLE.JK', 'ACRO.JK', 'MANG.JK', 'GRPH.JK', 'SMGA.JK', 'UNTD.JK', 'TOSK.JK', 'MPIX.JK', 'ALII.JK', 'MKAP.JK', 'MEJA.JK', 'LIVE.JK', 'HYGN.JK', 'BAIK.JK', 'VISI.JK', 'AREA.JK', 'MHKI.JK', 'ATLA.JK', 'DATA.JK', 'SOLA.JK', 'BATR.JK', 'SPRE.JK', 'PART.JK', 'GOLF.JK', 'ISEA.JK', 'BLES.JK', 'GUNA.JK', 'LABS.JK', 'DOSS.JK', 'NEST.JK', 'PTMR.JK', 'VERN.JK', 'DAAZ.JK', 'BOAT.JK', 'NAIK.JK', 'AADI.JK', 'MDIY.JK', 'KSIX.JK', 'RATU.JK', 'YOII.JK', 'HGII.JK', 'BRRC.JK', 'DGWG.JK', 'CBDK.JK', 'OBAT.JK']\n",
    "\n",
    "# Function to fetch and store minute data\n",
    "def fetch_and_store_minute_data():\n",
    "    for ticker in tickers:\n",
    "        data = yf.download(ticker, interval='1m', period=\"5d\")  # Last 5 days for minute data\n",
    "        if not data.empty:\n",
    "            # Flatten MultiIndex columns jika ada\n",
    "            if isinstance(data.columns, pd.MultiIndex):\n",
    "                data.columns = data.columns.get_level_values(0)\n",
    "            data.index = pd.to_datetime(data.index)\n",
    "            df_new = data.reset_index()\n",
    "            df_new['Ticker'] = ticker\n",
    "\n",
    "            # Convert DataFrame to JSON for storage in MySQL\n",
    "            data_to_store = df_new[['Datetime', 'Open', 'High', 'Low', 'Close', 'Volume']].to_dict(orient='records')\n",
    "            data_json = json.dumps(data_to_store, default=str)\n",
    "\n",
    "            # Check if data for the ticker already exists\n",
    "            select_sql = \"SELECT id FROM data_saham_minute_all_feb WHERE Ticker = %s\"\n",
    "            cursor.execute(select_sql, (ticker,))\n",
    "            result = cursor.fetchone()\n",
    "\n",
    "            if result:\n",
    "                # Update existing record\n",
    "                update_sql = \"UPDATE data_saham_minute_all_feb SET Data = %s WHERE Ticker = %s\"\n",
    "                cursor.execute(update_sql, (data_json, ticker))\n",
    "                print(f\"Minute data for {ticker} has been successfully updated in MySQL.\")\n",
    "            else:\n",
    "                # Insert new record\n",
    "                insert_sql = \"INSERT INTO data_saham_minute_all_feb (Ticker, Data) VALUES (%s, %s)\"\n",
    "                cursor.execute(insert_sql, (ticker, data_json))\n",
    "                print(f\"Minute data for {ticker} has been successfully inserted into MySQL.\")\n",
    "        \n",
    "        connection.commit()\n",
    "\n",
    "# Function to fetch and store hourly data\n",
    "def fetch_and_store_hourly_data():\n",
    "    for ticker in tickers:\n",
    "        data = yf.download(ticker, interval='1h', period=\"1y\")  # Last year for hourly data\n",
    "        if not data.empty:\n",
    "            # Flatten MultiIndex columns jika ada\n",
    "            if isinstance(data.columns, pd.MultiIndex):\n",
    "                data.columns = data.columns.get_level_values(0)\n",
    "            data.index = pd.to_datetime(data.index)\n",
    "            df_new = data.reset_index()\n",
    "            df_new['Ticker'] = ticker\n",
    "\n",
    "            # Convert DataFrame to JSON for storage in MySQL\n",
    "            data_to_store = df_new[['Datetime', 'Open', 'High', 'Low', 'Close', 'Volume']].to_dict(orient='records')\n",
    "            data_json = json.dumps(data_to_store, default=str)\n",
    "\n",
    "            # Check if data for the ticker already exists\n",
    "            select_sql = \"SELECT id FROM data_saham_hour_all_feb WHERE Ticker = %s\"\n",
    "            cursor.execute(select_sql, (ticker,))\n",
    "            result = cursor.fetchone()\n",
    "\n",
    "            if result:\n",
    "                # Update existing record\n",
    "                update_sql = \"UPDATE data_saham_hour_all_feb SET Data = %s WHERE Ticker = %s\"\n",
    "                cursor.execute(update_sql, (data_json, ticker))\n",
    "                print(f\"Hourly data for {ticker} has been successfully updated in MySQL.\")\n",
    "            else:\n",
    "                # Insert new record\n",
    "                insert_sql = \"INSERT INTO data_saham_hour_all_feb (Ticker, Data) VALUES (%s, %s)\"\n",
    "                cursor.execute(insert_sql, (ticker, data_json))\n",
    "                print(f\"Hourly data for {ticker} has been successfully inserted into MySQL.\")\n",
    "        \n",
    "        connection.commit()\n",
    "\n",
    "# Run scraping once for minute and hourly data\n",
    "fetch_and_store_minute_data()  # Fetch minute data\n",
    "fetch_and_store_hourly_data()  # Fetch hourly data\n",
    "\n",
    "# Close connection\n",
    "cursor.close()\n",
    "connection.close()\n"
   ]
  }
 ],
 "metadata": {
  "kernelspec": {
   "display_name": "Python 3",
   "language": "python",
   "name": "python3"
  },
  "language_info": {
   "codemirror_mode": {
    "name": "ipython",
    "version": 3
   },
   "file_extension": ".py",
   "mimetype": "text/x-python",
   "name": "python",
   "nbconvert_exporter": "python",
   "pygments_lexer": "ipython3",
   "version": "3.10.7"
  }
 },
 "nbformat": 4,
 "nbformat_minor": 2
}
